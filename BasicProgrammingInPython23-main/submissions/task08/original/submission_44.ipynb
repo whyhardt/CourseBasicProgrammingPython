{
 "cells": [
  {
   "cell_type": "markdown",
   "metadata": {},
   "source": [
    "# Coding Tasks - Week 8\n",
    "Welcome to the Python Programming Exercise Sheet!  \n",
    "In this exercise sheet, we will cover some of the fundamental concepts in Python programming.  \n",
    "Topics covered are: Matplotlib.\n",
    "\n",
    "___\n",
    "\n",
    "**DEADLINE**: 23rd June until 12:15  \n",
    "**Your name here**: Dora Kaiser  \n",
    "**Your university mail**: dokaiser@uos.de\n",
    "\n",
    "___\n",
    "\n",
    "**Important information**:  \n",
    "In order to pass this sheet you need to achieve 10/20 points.\n",
    "For the best possible grade you require 20/20 points, however, since some harder tasks may take a lot of time you don't have to pressure yourself. \n",
    "If you complete any three tasks on a sheet you will definitely get a good grade for that sheet.  \n",
    "Hand in your sheet in studip in the respective folder until the deadline.  \n",
    "If you receive no email until a few days after submission you will have passed, the sample solution will also be uploaded around then.  \n",
    "If you receive an email you don't need to worry, you can fail one sheet and also your total points will also be taken into account for the final pass or fail.  "
   ]
  },
  {
   "cell_type": "markdown",
   "metadata": {},
   "source": [
    "### Task 1 - Temperature Plot (2 points)\n",
    "\n",
    "Implement a line plot that visualizes temperature variations over a week:\n",
    "\n",
    "- x-axis should store the days of the week (e.g., Monday, Tuesday, etc.).\n",
    "- y-axis should store the temperature values in degrees Celsius.\n",
    "- For the y-axis, you need to generate random temperature values between 20 and 30 for each day.\n",
    "- The line color should be set to purple.\n",
    "- The title of the plot should be \"Weekly Temperature\".\n",
    "- Label the x-axis as \"Days of the Week\" and the y-axis as \"Temperature (°C)\"."
   ]
  },
  {
   "cell_type": "code",
   "execution_count": null,
   "metadata": {},
   "outputs": [],
   "source": [
    "import matplotlib.pyplot as plt\n",
    "import numpy as np\n",
    "\n",
    "days = ['Monday', 'Tuesday', 'Wednesday',\n",
    "        'Thursday', 'Friday', 'Saturday', 'Sunday']\n",
    "\n",
    "temperature = np.random.randint(20,31,7)\n",
    "print(temperature)\n",
    "\n",
    "plt.plot(days,temperature)\n",
    "plt.title('Weekly Temperature')\n",
    "plt.xlabel(\"Days of the Week\")\n",
    "plt.ylabel(\"Temperature (°C)\")\n",
    "\n",
    "plt.show()"
   ]
  },
  {
   "cell_type": "markdown",
   "metadata": {},
   "source": [
    "### Task 2 - Steps Taken Analysis (4 points)\n",
    "\n",
    "You have a dataset that records the number of steps taken each day of the week by three students: Alice, Bob, and Carol. Your task is to create a scatter plot to visualize the steps taken and then enhance the plot by adding a legend and connecting the scatterplot points with a line.\n",
    "\n",
    "Write a Python code snippet using Matplotlib to accomplish the following tasks:\n",
    "\n",
    "1. Create a scatter plot using Matplotlib, with the weekdays on the x-axis and the number of steps on the y-axis. Make sure to label the axes appropriately.\n",
    "2. Customize the scatter plot by setting the marker style and color of the points for each student to distinguish them. Use a different marker style and color for each student. \n",
    "3. Add a legend to the plot to indicate the meaning of the different marker colors or styles. Make sure to provide clear labels for each student category in the legend.\n",
    "4. Connect the scatterplot points with a line to visualize the trend in the number of steps throughout the weekdays. The line should pass through each data point.\n",
    "5. Customize the line by setting the color, style, and width to make it clearly visible.\n",
    "6. Add a title to the plot to describe the steps taken throughout the weekdays.\n",
    "\n",
    "Your task is to complete the code by replacing the blank spaces with the appropriate code to accomplish the given tasks."
   ]
  },
  {
   "cell_type": "code",
   "execution_count": null,
   "metadata": {},
   "outputs": [],
   "source": [
    "import matplotlib.pyplot as plt\n",
    "\n",
    "# Steps taken each day of the week for 3 students\n",
    "weekdays = ['Monday', 'Tuesday', 'Wednesday', 'Thursday', 'Friday']\n",
    "alice_steps = [5000, 6000, 4500, 7000, 5500]\n",
    "bob_steps = [4000, 5500, 6000, 4500, 5000]\n",
    "carol_steps = [5500, 6500, 4000, 5500, 6000]\n",
    "\n",
    "# Scatter plot\n",
    "plt.scatter(weekdays, alice_steps, marker='o', color='red', label='Alice')\n",
    "plt.scatter(weekdays, bob_steps, marker='s', color='blue', label='Bob')\n",
    "plt.scatter(weekdays, carol_steps, marker='^', color='green', label='Carol')\n",
    "\n",
    "# Line connecting scatterplot points\n",
    "plt.plot(weekdays,alice_steps,color='red',ls=':',linewidth=1.2)\n",
    "plt.plot(weekdays,bob_steps,color='blue',ls='dashed',linewidth=1.2)\n",
    "plt.plot(weekdays,carol_steps,color='green',ls='dashdot',linewidth=1.2)\n",
    "\n",
    "\n",
    "# Legend\n",
    "plt.legend()\n",
    "\n",
    "# Axes labels and title\n",
    "plt.xlabel('Days of the Week',size=15)\n",
    "plt.ylabel('Steps taken',size=15)\n",
    "plt.title('Steps Taken Throughout The Week', size=17)\n",
    "\n",
    "# Display the plot\n",
    "plt.show()"
   ]
  },
  {
   "cell_type": "markdown",
   "metadata": {},
   "source": [
    "### Task 3 - Math Exam Score Distribution (8 points)\n",
    "\n",
    "You have the scores of two students from a math exam. Your task is to create histogram plots to visualize the distribution of their scores. Additionally, you need to customize the histogram plots by adjusting the bin sizes and create two histogram plots side by side for comparison.\n",
    "\n",
    "Write a Python code snippet using Matplotlib to accomplish the following tasks:\n",
    "\n",
    "1. Create a dataset with the math exam scores for two students.\n",
    "2. Create two separate histogram plots using Matplotlib, one for each student's scores.\n",
    "3. Customize the appearance of the histogram plots by adjusting the bin sizes to visualize the distribution more accurately.\n",
    "4. Display both histogram plots side by side for easy comparison.\n",
    "5. Your code should include appropriate axis labels, a title for each histogram plot, and a legend to differentiate the two students.\n",
    "\n",
    "Example output:\n",
    "\n",
    "[Histogram plot 1] \n",
    "* Title: Student 1 Math Exam Score Distribution\n",
    "* X-axis label: Scores\n",
    "* Y-axis label: Frequency\n",
    "\n",
    "[Histogram plot 2]\n",
    "* Title: Student 2 Math Exam Score Distribution\n",
    "* X-axis label: Scores\n",
    "* Y-axis label: Frequency\n",
    "\n",
    "Note: Make sure to customize the bin sizes to suit the range and distribution of the scores for each student."
   ]
  },
  {
   "cell_type": "code",
   "execution_count": null,
   "metadata": {},
   "outputs": [],
   "source": [
    "# Generate sample scores for two students\n",
    "student1_scores = np.random.normal(70,10,100)  # Mean: 70, Standard Deviation: 10\n",
    "student2_scores = np.random.normal(80,8,100)   # Mean: 80, Standard Deviation: 8\n",
    "\n",
    "# Set the bin sizes for the histograms\n",
    "bin_size_student1 = 8\n",
    "bin_size_student2 = 8\n",
    "\n",
    "# Create a figure with two subplots\n",
    "fig, axes = plt.subplots(1, 2,figsize=(10, 4)) #(10, 4)\n",
    "\n",
    "# Plot histogram for Student 1\n",
    "axes[0].hist(student1_scores, bins=range(50, 101, bin_size_student1), color='blue', alpha=0.7) #label='student1'\n",
    "axes[0].set_title(\"Student 1 Math Exam Score Distribution\",size=14)\n",
    "axes[0].set_xlabel(\"Scores\")\n",
    "axes[0].set_ylabel(\"Frequency\")\n",
    "\n",
    "# Plot histogram for Student 2\n",
    "axes[1].hist(student2_scores, bins=range(50, 101, bin_size_student2), color='green', alpha=0.7) #label'student2\n",
    "axes[1].set_title(\"Student 2 Math Exam Score Distribution\",size=14)\n",
    "axes[1].set_xlabel(\"Scores\")\n",
    "axes[1].set_ylabel(\"Frequency\")\n",
    "             \n",
    "# Add a legend to differentiate the two students\n",
    "labels=['Student 1','Student 2']\n",
    "fig.legend(labels,loc='lower right')\n",
    "\n",
    "\n",
    "# Adjust spacing between subplots\n",
    "fig.subplots_adjust(wspace=0.2)\n",
    "\n",
    "# Display the histogram plots\n",
    "plt.show()"
   ]
  },
  {
   "cell_type": "markdown",
   "metadata": {},
   "source": [
    "### Task 4 - Stacked Bar Plot (6 points)\n",
    "\n",
    "Create a stacked bar plot to display the distribution of sales revenue for a company across different regions and product categories:\n",
    "\n",
    "- Given the ```regions```, ```categories``` and ```revenue```, you should gather the sales revenue data for each region and product category.\n",
    "- Plot a stacked bar plot where each bar represents a region, and the stacked segments within the bar represent the revenue for each product category.\n",
    "- Customize the plot by setting colors for each product category: ```red``` for electronics, ```green``` for clothing and ```blue``` for books. Then, add a legend to display these three color-product pairs.\n",
    "- Add a title ```\"Sales Revenue by Region and Product Category\"```.\n",
    "- Label the x-axis and y-axis as  ```Regions``` and ```Revenue```, respectively."
   ]
  },
  {
   "cell_type": "code",
   "execution_count": 2,
   "metadata": {},
   "outputs": [
    {
     "data": {
      "image/png": "[encoded data removed]",
      "text/plain": [
       "<Figure size 432x288 with 1 Axes>"
      ]
     },
     "metadata": {
      "needs_background": "light"
     },
     "output_type": "display_data"
    }
   ],
   "source": [
    "import matplotlib.pyplot as plt\n",
    "import numpy as np\n",
    "\n",
    "regions = ['North', 'South', 'East', 'West']\n",
    "categories = ['Electronics', 'Clothing', 'Books']\n",
    "\n",
    "revenue = np.array([[100, 200, 150],\n",
    "                    [150, 120, 80],\n",
    "                    [80, 100, 200],\n",
    "                    [180, 120, 90]])\n",
    "    \n",
    "plt.bar(regions,revenue[:,0],color='r')\n",
    "plt.bar(regions,revenue[:,1],color='b',bottom=revenue[:,0]) \n",
    "plt.bar(regions,revenue[:,2],color='g',bottom=revenue[:,0]+revenue[:,1]) \n",
    "\n",
    "plt.title('Sales Revenue by Region and Product Category')\n",
    "plt.xlabel('Regions')\n",
    "plt.ylabel('SRevenue (in €)')\n",
    "plt.legend(categories,loc='lower right')\n",
    "    \n",
    "    \n",
    "plt.show()"
   ]
  }
 ],
 "metadata": {
  "kernelspec": {
   "display_name": "Python 3 (ipykernel)",
   "language": "python",
   "name": "python3"
  },
  "language_info": {
   "codemirror_mode": {
    "name": "ipython",
    "version": 3
   },
   "file_extension": ".py",
   "mimetype": "text/x-python",
   "name": "python",
   "nbconvert_exporter": "python",
   "pygments_lexer": "ipython3",
   "version": "3.9.7"
  }
 },
 "nbformat": 4,
 "nbformat_minor": 2
}
