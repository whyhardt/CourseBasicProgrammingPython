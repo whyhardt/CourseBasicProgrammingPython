{
 "cells": [
  {
   "cell_type": "markdown",
   "metadata": {},
   "source": [
    "# Coding Tasks - Week 7\n",
    "Welcome to the Python Programming Exercise Sheet!  \n",
    "In this exercise sheet, we will cover some of the fundamental concepts in Python programming.  \n",
    "Topics covered are: NumPy.\n",
    "\n",
    "___\n",
    "\n",
    "**DEADLINE**:  19th June until 12:15  \n",
    "**Your name here**: Laura Tiemann  \n",
    "**Your university mail**: lautiemann@uos.de\n",
    "\n",
    "___\n",
    "\n",
    "**Important information**:  \n",
    "In order to pass this sheet you need to achieve  /  points.  \n",
    "For the best possible grade you require  /  points, however, since some harder tasks may take a lot of time you don't have to pressure yourself.  \n",
    "If you complete any three tasks on a sheet you will definitely get a good grade for that sheet.  \n",
    "Hand in your sheet in studip in the respective folder until the deadline.  \n",
    "If you receive no email until a few days after submission you will have passed, the sample solution will also be uploaded around then.  \n",
    "If you receive an email you don't need to worry, you can fail one sheet and also your total points will also be taken into account for the final pass or fail.  "
   ]
  },
  {
   "cell_type": "markdown",
   "metadata": {},
   "source": [
    "### Task 1 - Array Manipulation (4 points)\n",
    "\n",
    "Create a Python program that takes a 1D NumPy array of size 10 with random integer values between 1 and 100 (inclusive) and performs the following operations:\n",
    "\n",
    "- Create the 1D array with the specified size.\n",
    "- Reshape the array into a 2x5 matrix.\n",
    "- Transpose the matrix.\n",
    "- Finally, find the index of the maximum value in the array."
   ]
  },
  {
   "cell_type": "code",
   "execution_count": 4,
   "metadata": {},
   "outputs": [
    {
     "name": "stdout",
     "output_type": "stream",
     "text": [
      "The original array:\n",
      "[ 64  20  93  70  89  21 100  61  22  38]\n",
      "The reshaped array:\n",
      "[[ 64  20  93  70  89]\n",
      " [ 21 100  61  22  38]]\n",
      "The transposed array:\n",
      "[[ 64  21]\n",
      " [ 20 100]\n",
      " [ 93  61]\n",
      " [ 70  22]\n",
      " [ 89  38]]\n",
      "The index of the maximum value:\n",
      "3\n"
     ]
    }
   ],
   "source": [
    "import numpy as np\n",
    "\n",
    "# Create a 1D array of size 10 with random integer values between 1 and 100\n",
    "arr = np.random.randint(1, 101, 10)\n",
    "\n",
    "# Reshape the array into a 2x5 matrix\n",
    "arr_reshaped = arr.reshape((2,5))\n",
    "\n",
    "# Transpose the matrix\n",
    "arr_transposed = arr_reshaped.T\n",
    "\n",
    "# Find the index of the maximum value in the array\n",
    "max_index = arr_transposed.argmax()\n",
    "\n",
    "# Print the original array\n",
    "print(f\"The original array:\\n{arr}\")\n",
    "\n",
    "# Print the reshaped array\n",
    "print(f\"The reshaped array:\\n{arr_reshaped}\")\n",
    "\n",
    "# Print the transposed array\n",
    "print(f\"The transposed array:\\n{arr_transposed}\")\n",
    "\n",
    "# Print the index of the maximum value\n",
    "print(f\"The index of the maximum value:\\n{max_index}\")\n"
   ]
  },
  {
   "cell_type": "markdown",
   "metadata": {},
   "source": [
    "### Task 2 - Standart Deviation Ratio (SDR) (4 points)\n",
    "\n",
    "Implement a Python program that calculates the standard deviation ratio (SDR) of a given 1D NumPy array. SDR represents the ratio of the standard deviation of the positive elements to the standard deviation of the negative elements.\n",
    "\n",
    "- Create a 1D array of 100 random values.\n",
    "- Split the array into positive and negative elements.\n",
    "- Calculate the standard deviations of the positive and negative arrays.\n",
    "- Calculate the standard deviation ratio (SDR)."
   ]
  },
  {
   "cell_type": "code",
   "execution_count": 26,
   "metadata": {},
   "outputs": [
    {
     "name": "stdout",
     "output_type": "stream",
     "text": [
      "Array:\n",
      "[ 1.00732969e+00 -1.97169902e+00 -3.56435254e-01 -1.56774735e+00\n",
      "  2.46743903e-02  2.50586063e-01  1.05196417e+00  1.65681524e+00\n",
      "  2.64273922e-01 -2.84902887e-01  1.41070484e+00  5.75701835e-01\n",
      "  1.05984421e+00 -9.16267444e-01  8.26227146e-01  2.64937556e-01\n",
      " -9.07984849e-01  2.02096039e+00 -5.36798935e-01 -1.74265645e+00\n",
      "  7.17299372e-01 -1.34624506e+00  1.03260712e+00  2.40682347e-01\n",
      " -1.41536143e+00  4.57571464e-01  2.16456875e-02  8.29316419e-01\n",
      "  4.92183637e-01  4.41432159e-01 -1.37032433e+00  8.43774515e-01\n",
      "  7.33510697e-01  3.60080254e-01 -1.30737395e-01 -3.70992980e-01\n",
      "  7.91127323e-01 -3.28306165e-01  9.66747480e-01 -3.13625918e-01\n",
      " -1.23273991e+00 -1.36058775e+00  4.04383954e-01 -1.80498809e+00\n",
      " -8.27024469e-01  9.61474354e-02 -3.72150929e-01 -8.62915674e-01\n",
      "  6.08476096e-01 -1.99236925e-01 -7.71550619e-03  6.64470055e-01\n",
      "  1.03832047e+00  1.10585249e+00 -1.03989224e+00  9.53323852e-01\n",
      " -8.76888864e-01  3.87818592e-02  1.65952143e+00 -5.20014046e-01\n",
      "  3.56858854e-01 -9.48656739e-01 -1.05337621e+00 -1.69573746e+00\n",
      " -7.80362430e-04  4.86931209e-01 -1.13856802e+00  6.09988245e-01\n",
      "  9.98383537e-01 -3.84935938e-01 -7.20155903e-01  2.53495975e+00\n",
      " -6.03484540e-03  9.16906516e-06 -2.41744817e+00 -4.09078047e-02\n",
      "  1.17734732e+00  6.46913048e-01 -1.29045386e+00  4.85197073e-01\n",
      " -1.11126647e+00  2.82618139e-01 -3.70331382e-01  1.42374296e+00\n",
      "  1.18092055e+00  3.81279025e-01 -7.01030773e-02  2.48420117e+00\n",
      " -1.86887881e+00 -4.22859605e-01  1.03383880e+00 -1.35385410e+00\n",
      "  1.18586131e+00  2.07561875e-01  2.25289518e+00 -8.63937844e-01\n",
      " -1.75653509e+00 -1.33058352e+00 -1.08868567e+00 -1.43565034e+00]\n",
      "The positive array:\n",
      "[1.00732969e+00 2.46743903e-02 2.50586063e-01 1.05196417e+00\n",
      " 1.65681524e+00 2.64273922e-01 1.41070484e+00 5.75701835e-01\n",
      " 1.05984421e+00 8.26227146e-01 2.64937556e-01 2.02096039e+00\n",
      " 7.17299372e-01 1.03260712e+00 2.40682347e-01 4.57571464e-01\n",
      " 2.16456875e-02 8.29316419e-01 4.92183637e-01 4.41432159e-01\n",
      " 8.43774515e-01 7.33510697e-01 3.60080254e-01 7.91127323e-01\n",
      " 9.66747480e-01 4.04383954e-01 9.61474354e-02 6.08476096e-01\n",
      " 6.64470055e-01 1.03832047e+00 1.10585249e+00 9.53323852e-01\n",
      " 3.87818592e-02 1.65952143e+00 3.56858854e-01 4.86931209e-01\n",
      " 6.09988245e-01 9.98383537e-01 2.53495975e+00 9.16906516e-06\n",
      " 1.17734732e+00 6.46913048e-01 4.85197073e-01 2.82618139e-01\n",
      " 1.42374296e+00 1.18092055e+00 3.81279025e-01 2.48420117e+00\n",
      " 1.03383880e+00 1.18586131e+00 2.07561875e-01 2.25289518e+00]\n",
      "The negative array:\n",
      "[-1.97169902e+00 -3.56435254e-01 -1.56774735e+00 -2.84902887e-01\n",
      " -9.16267444e-01 -9.07984849e-01 -5.36798935e-01 -1.74265645e+00\n",
      " -1.34624506e+00 -1.41536143e+00 -1.37032433e+00 -1.30737395e-01\n",
      " -3.70992980e-01 -3.28306165e-01 -3.13625918e-01 -1.23273991e+00\n",
      " -1.36058775e+00 -1.80498809e+00 -8.27024469e-01 -3.72150929e-01\n",
      " -8.62915674e-01 -1.99236925e-01 -7.71550619e-03 -1.03989224e+00\n",
      " -8.76888864e-01 -5.20014046e-01 -9.48656739e-01 -1.05337621e+00\n",
      " -1.69573746e+00 -7.80362430e-04 -1.13856802e+00 -3.84935938e-01\n",
      " -7.20155903e-01 -6.03484540e-03 -2.41744817e+00 -4.09078047e-02\n",
      " -1.29045386e+00 -1.11126647e+00 -3.70331382e-01 -7.01030773e-02\n",
      " -1.86887881e+00 -4.22859605e-01 -1.35385410e+00 -8.63937844e-01\n",
      " -1.75653509e+00 -1.33058352e+00 -1.08868567e+00 -1.43565034e+00]\n",
      "Standard Deviation Ratio:\n",
      "0.9914014614446818\n"
     ]
    }
   ],
   "source": [
    "import numpy as np\n",
    "\n",
    "# Create a 1D array of 100 random values\n",
    "arr1 = np.random.randn(100)\n",
    "\n",
    "# Split the array into positive and negative elements\n",
    "positive_array = np.asarray([x for x in arr1 if x >= 0])\n",
    "negative_array = np.asarray([x for x in arr1 if x < 0])\n",
    "\n",
    "# Calculate the standard deviations\n",
    "positive_std_dev = positive_array.std()\n",
    "negative_std_dev = negative_array.std()\n",
    "\n",
    "# Calculate the standard deviation ratio\n",
    "sdr = positive_std_dev / negative_std_dev\n",
    "\n",
    "# Print the original array\n",
    "print(f\"Array:\\n{arr1}\")\n",
    "\n",
    "# Print the positive array\n",
    "print(f\"The positive array:\\n{positive_array}\")\n",
    "\n",
    "# Print the negative array\n",
    "print(f\"The negative array:\\n{negative_array}\")\n",
    "\n",
    "# Print the standard deviation ratio\n",
    "print(f\"Standard Deviation Ratio:\\n{sdr}\")\n"
   ]
  },
  {
   "cell_type": "markdown",
   "metadata": {},
   "source": [
    "### Task 3 - Identity Matrix (3 points)\n",
    "\n",
    "Create a 5x5 identity matrix where:\n",
    "\n",
    "- All diagonal elements are equal to 0.\n",
    "- The rest of the elements should be random integers between 0 and 50 (inclusive)."
   ]
  },
  {
   "cell_type": "code",
   "execution_count": 2,
   "metadata": {},
   "outputs": [
    {
     "name": "stdout",
     "output_type": "stream",
     "text": [
      "[[ 1. 14. 20. 29. 36.]\n",
      " [42.  1. 25.  6. 36.]\n",
      " [27. 28.  1. 20. 50.]\n",
      " [47.  7. 27.  1.  9.]\n",
      " [13. 44. 18. 45.  1.]]\n"
     ]
    }
   ],
   "source": [
    "import numpy as np\n",
    "\n",
    "# Create a 5x5 identity matrix\n",
    "identity_matrix = np.matrix(np.identity(5))\n",
    "\n",
    "# Generate random integers between 0 and 50 (inclusive)\n",
    "random_integers = np.random.randint(0, 51, 25).reshape(5,5)\n",
    "\n",
    "# Replace the non-diagonal elements with random integers\n",
    "identity_matrix[~np.eye(5, dtype=bool)] = random_integers[~np.eye(5, dtype=bool)]\n",
    "\n",
    "print(identity_matrix)\n"
   ]
  },
  {
   "cell_type": "markdown",
   "metadata": {},
   "source": [
    "### Task 4 - Calculate the Euclidean distance between two arrays (2 points)\n",
    "The Euclidean distance measures the straight-line distance between two points in space. In this task, you will calculate the Euclidean distance between two 1-dimensional arrays using the NumPy library.\n",
    "\n",
    "**Hint:** To calculate the Euclidean distance between the two arrays, we can use the np.linalg.norm() function. This function calculates the norm, which is a generalized form of the Euclidean distance, of the difference between the arrays:\n"
   ]
  },
  {
   "cell_type": "code",
   "execution_count": 23,
   "metadata": {},
   "outputs": [
    {
     "name": "stdout",
     "output_type": "stream",
     "text": [
      "Euclidean Distance: 5.196152422706632\n"
     ]
    }
   ],
   "source": [
    "import numpy as np\n",
    "\n",
    "# Create two 1-dimensional arrays\n",
    "arr1 = np.array([1, 2, 3])\n",
    "arr2 = np.array([4, 5, 6])\n",
    "\n",
    "# Calculate the difference between the two arrays\n",
    "difference = arr1-arr2\n",
    "\n",
    "# Calculate the Euclidean distance using the norm function from the linalg module\n",
    "distance = np.linalg.norm(difference)\n",
    "\n",
    "# Print the calculated Euclidean distance\n",
    "print(\"Euclidean Distance:\", distance)"
   ]
  },
  {
   "cell_type": "markdown",
   "metadata": {},
   "source": [
    "### Task 5 - Find the Point of Exceeding a Cumulative Sum Threshold (4 points)\n",
    "\n",
    "Generate a random 1-dimensional array of size 100 with values ranging from 0 to 9. Calculate the cumulative sum of the array and find the index where the cumulative sum exceeds 100 for the first time, then print the index.\n",
    "Description:\n",
    "In this task, you will work with a randomly generated 1-dimensional array of numerical values. Your goal is to calculate the cumulative sum of the array, which represents the running total of the values. Then, you need to identify the position in the array where the cumulative sum exceeds a specific threshold."
   ]
  },
  {
   "cell_type": "code",
   "execution_count": 35,
   "metadata": {},
   "outputs": [
    {
     "name": "stdout",
     "output_type": "stream",
     "text": [
      "Index where cumulative sum exceeds 100 : 22\n"
     ]
    }
   ],
   "source": [
    "import numpy as np\n",
    "\n",
    "# Generate a random 1-dimensional array of size 100 with values ranging from 0 to 9\n",
    "arr = np.random.randint(0, 10, size=100)\n",
    "\n",
    "# Calculate the cumulative sum of the array\n",
    "cumulative_sum = np.cumsum(arr)\n",
    "\n",
    "# Set the threshold value\n",
    "threshold = 100\n",
    "\n",
    "# Find the index where the cumulative sum first exceeds the threshold\n",
    "index = np.nonzero(cumulative_sum >= threshold)[0][0]\n",
    "\n",
    "# Print the index where the cumulative sum exceeds the threshold\n",
    "print(\"Index where cumulative sum exceeds\", threshold, \":\", index)\n"
   ]
  },
  {
   "cell_type": "markdown",
   "metadata": {},
   "source": [
    "### Task 6 - Performing Linear Algebra Operations (3 points)\n",
    "Description: In this task, you will work with a randomly generated 2-dimensional array and perform linear algebra operations using NumPy. You will calculate the determinant of the array, compute its inverse, and verify that the product of the array and its inverse yields the identity matrix. This task provides an opportunity to explore fundamental linear algebra concepts, such as determinants, matrix inverses, and the properties of the identity matrix, using NumPy.\n",
    "\n",
    "1. Create a 2-dimensional array with shape (2, 2) and fill it with random integers between 1 and 9.\n",
    "2. Calculate the determinant of the array.\n",
    "3. Compute the inverse of the array.\n",
    "4. Multiply the array by its inverse.\n",
    "5. Print the final array."
   ]
  },
  {
   "cell_type": "code",
   "execution_count": 63,
   "metadata": {},
   "outputs": [
    {
     "name": "stdout",
     "output_type": "stream",
     "text": [
      "Identity Matrix:\n",
      " [[1.00000000e+00 2.77555756e-17]\n",
      " [0.00000000e+00 1.00000000e+00]]\n"
     ]
    }
   ],
   "source": [
    "import numpy as np\n",
    "\n",
    "# Generate a random 2-dimensional array with shape (2, 2) and random integers between 1 and 9\n",
    "arr = np.random.randint(1, 10, size = (2,2))\n",
    "\n",
    "# Calculate the determinant of the array\n",
    "determinant = np.linalg.det(arr)\n",
    "\n",
    "# Compute the inverse of the array\n",
    "inverse = np.linalg.inv(arr)\n",
    "\n",
    "# Multiply the array by its inverse to obtain the identity matrix\n",
    "identity = np.dot(arr, inverse)\n",
    "\n",
    "# Print the resulting identity matrix\n",
    "print(\"Identity Matrix:\\n\", identity)\n"
   ]
  }
 ],
 "metadata": {
  "kernelspec": {
   "display_name": "Python 3",
   "language": "python",
   "name": "python3"
  },
  "language_info": {
   "codemirror_mode": {
    "name": "ipython",
    "version": 3
   },
   "file_extension": ".py",
   "mimetype": "text/x-python",
   "name": "python",
   "nbconvert_exporter": "python",
   "pygments_lexer": "ipython3",
   "version": "3.8.8"
  }
 },
 "nbformat": 4,
 "nbformat_minor": 4
}
