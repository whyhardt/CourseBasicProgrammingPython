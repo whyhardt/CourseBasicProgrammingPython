{
  "cells": [
    {
      "cell_type": "markdown",
      "metadata": {
        "id": "oLbYZCzI1I45"
      },
      "source": [
        "# Coding Tasks - Week 7\n",
        "Welcome to the Python Programming Exercise Sheet!\n",
        "In this exercise sheet, we will cover some of the fundamental concepts in Python programming.\n",
        "Topics covered are: NumPy.\n",
        "\n",
        "___\n",
        "\n",
        "**DEADLINE**:  19th June until 12:15\n",
        "\n",
        "**Your name here**: Waldo Ungerer\n",
        "\n",
        "**Your university mail**: wungerer@uni-osnabrueck.de\n",
        "\n",
        "___\n",
        "\n",
        "**Important information**:\n",
        "In order to pass this sheet you need to achieve  /  points.\n",
        "For the best possible grade you require  /  points, however, since some harder tasks may take a lot of time you don't have to pressure yourself.\n",
        "If you complete any three tasks on a sheet you will definitely get a good grade for that sheet.\n",
        "Hand in your sheet in studip in the respective folder until the deadline.\n",
        "If you receive no email until a few days after submission you will have passed, the sample solution will also be uploaded around then.\n",
        "If you receive an email you don't need to worry, you can fail one sheet and also your total points will also be taken into account for the final pass or fail."
      ]
    },
    {
      "cell_type": "markdown",
      "metadata": {
        "id": "9H35VBBn1I48"
      },
      "source": [
        "### Task 1 - Array Manipulation (4 points)\n",
        "\n",
        "Create a Python program that takes a 1D NumPy array of size 10 with random integer values between 1 and 100 (inclusive) and performs the following operations:\n",
        "\n",
        "- Create the 1D array with the specified size.\n",
        "- Reshape the array into a 2x5 matrix.\n",
        "- Transpose the matrix.\n",
        "- Finally, find the index of the maximum value in the array."
      ]
    },
    {
      "cell_type": "code",
      "execution_count": 113,
      "metadata": {
        "id": "9fRRqpEL1I48",
        "colab": {
          "base_uri": "https://localhost:8080/"
        },
        "outputId": "ae3925ba-6c28-4204-850e-39aa13e6d2b4"
      },
      "outputs": [
        {
          "output_type": "stream",
          "name": "stdout",
          "text": [
            "The original array:\n",
            "[41 84 84 64  8  1 69 91 72 94]\n",
            "The reshaped array:\n",
            "[[41 84 84 64  8]\n",
            " [ 1 69 91 72 94]]\n",
            "The transposed array:\n",
            "[41 84 84 64  8  1 69 91 72 94]\n",
            "The index of the maximum value:\n",
            "9\n"
          ]
        }
      ],
      "source": [
        "import numpy as np\n",
        "\n",
        "# References:\n",
        "# https://datascienceparichay.com/article/numpy-count-positive-values/#:~:text=Steps%20to%20get%20the%20count%20of%20positive%20values,Get%20the%20length%20of%20the%20filtered%20array%20,\n",
        "# https://www.programiz.com/python-programming/online-compiler/\n",
        "# https://numpy.org/devdocs/user/absolute_beginners.html\n",
        "# https://www.geeksforgeeks.org/compute-the-mean-standard-deviation-and-variance-of-a-given-numpy-array/\n",
        "# https://www.geeksforgeeks.org/numpy-identity-python/\n",
        "# https://stackoverflow.com/questions/27678583/calculating-distance-between-two-numpy-arrays\n",
        "# https://stackoverflow.com/questions/21516089/difference-between-two-numpy-arrays-in-python\n",
        "# https://www.geeksforgeeks.org/calculate-the-euclidean-distance-using-numpy/\n",
        "# https://stackoverflow.com/questions/31064974/whats-the-fastest-way-to-threshold-a-numpy-array\n",
        "# https://www.geeksforgeeks.org/how-to-calculate-the-determinant-of-a-matrix-using-numpy/\n",
        "\n",
        "# Create a 1D array of size 10 with random integer values between 1 and 100\n",
        "arr = np.random.randint(1, 101, 10)\n",
        "\n",
        "# Reshape the array into a 2x5 matrix\n",
        "arr_reshaped = arr.reshape(2, 5)\n",
        "\n",
        "# Transpose the matrix\n",
        "arr_transposed = arr.T\n",
        "\n",
        "# Find the index of the maximum value in the array\n",
        "max_index = np.argmax(arr)\n",
        "\n",
        "# Print the original array\n",
        "print(f\"The original array:\\n{arr}\")\n",
        "\n",
        "# Print the reshaped array\n",
        "print(f\"The reshaped array:\\n{arr_reshaped}\")\n",
        "\n",
        "# Print the transposed array\n",
        "print(f\"The transposed array:\\n{arr_transposed}\")\n",
        "\n",
        "# Print the index of the maximum value\n",
        "print(f\"The index of the maximum value:\\n{max_index}\")\n"
      ]
    },
    {
      "cell_type": "markdown",
      "metadata": {
        "id": "jga78IwX1I49"
      },
      "source": [
        "### Task 2 - Standart Deviation Ratio (SDR) (4 points)\n",
        "\n",
        "Implement a Python program that calculates the standard deviation ratio (SDR) of a given 1D NumPy array. SDR represents the ratio of the standard deviation of the positive elements to the standard deviation of the negative elements.\n",
        "\n",
        "- Create a 1D array of 100 random values.\n",
        "- Split the array into positive and negative elements.\n",
        "- Calculate the standard deviations of the positive and negative arrays.\n",
        "- Calculate the standard deviation ratio (SDR)."
      ]
    },
    {
      "cell_type": "code",
      "execution_count": 114,
      "metadata": {
        "id": "_Q_X-1N11I4-",
        "colab": {
          "base_uri": "https://localhost:8080/"
        },
        "outputId": "d4746213-60eb-4fc6-81b8-8f1b964d00a8"
      },
      "outputs": [
        {
          "output_type": "stream",
          "name": "stdout",
          "text": [
            "Array:\n",
            "[ 33  27  39  13  24  42 -35  28  31  18 -30  46 -14 -28  48  24  -5 -35\n",
            " -46  39 -34   4 -50  11   6  12  24 -50 -29 -45  37 -34  47  -7  49 -31\n",
            "  44  16 -23  11 -37  26  -2  39 -48   7  49 -33  36 -43 -17 -32 -38  49\n",
            "  -9   6 -23 -35 -13  31  38 -43 -27 -36   2 -46  48  21 -36 -45  35  28\n",
            "  28  46  44 -15 -38 -20 -25  -9  18 -15 -48 -47  -2 -50 -39   1 -28  22\n",
            "   5  18  48  42 -29 -42 -27 -11 -25  14]\n",
            "The positive array:\n",
            "[33 27 39 13 24 42 28 31 18 46 48 24 39  4 11  6 12 24 37 47 49 44 16 11\n",
            " 26 39  7 49 36 49  6 31 38  2 48 21 35 28 28 46 44 18  1 22  5 18 48 42\n",
            " 14]\n",
            "The negative array:\n",
            "[-35 -30 -14 -28  -5 -35 -46 -34 -50 -50 -29 -45 -34  -7 -31 -23 -37  -2\n",
            " -48 -33 -43 -17 -32 -38  -9 -23 -35 -13 -43 -27 -36 -46 -36 -45 -15 -38\n",
            " -20 -25  -9 -15 -48 -47  -2 -50 -39 -28 -29 -42 -27 -11 -25]\n",
            "Standard Deviation Ratio:\n",
            "1.0960306787493976\n"
          ]
        }
      ],
      "source": [
        "import numpy as np\n",
        "\n",
        "# Create a 1D array of 100 random values\n",
        "arr1 = np.random.randint(-50, 50, 100)\n",
        "\n",
        "# Split the array into positive and negative elements\n",
        "positive_array = arr1[arr1 >=0]\n",
        "negative_array = arr1[arr1 <0]\n",
        "\n",
        "# Calculate the standard deviations\n",
        "positive_std_dev = np.std(positive_array)\n",
        "negative_std_dev = np.std(negative_array)\n",
        "\n",
        "# Calculate the standard deviation ratio\n",
        "sdr = positive_std_dev / negative_std_dev\n",
        "\n",
        "# Print the original array\n",
        "print(f\"Array:\\n{arr1}\")\n",
        "\n",
        "# Print the positive array\n",
        "print(f\"The positive array:\\n{positive_array}\")\n",
        "\n",
        "# Print the negative array\n",
        "print(f\"The negative array:\\n{negative_array}\")\n",
        "\n",
        "# Print the standard deviation ratio\n",
        "print(f\"Standard Deviation Ratio:\\n{sdr}\")\n"
      ]
    },
    {
      "cell_type": "markdown",
      "metadata": {
        "id": "wS02ofZo1I4-"
      },
      "source": [
        "### Task 3 - Identity Matrix (3 points)\n",
        "\n",
        "Create a 5x5 identity matrix where:\n",
        "\n",
        "- All diagonal elements are equal to 0.\n",
        "- The rest of the elements should be random integers between 0 and 50 (inclusive)."
      ]
    },
    {
      "cell_type": "code",
      "execution_count": 117,
      "metadata": {
        "id": "9iA6BP-F1I4-",
        "colab": {
          "base_uri": "https://localhost:8080/"
        },
        "outputId": "72d072bb-30f1-4246-f3e1-abbfa45d0140"
      },
      "outputs": [
        {
          "output_type": "stream",
          "name": "stdout",
          "text": [
            "[[ 0 21 25 11 12]\n",
            " [29  0 44 42  2]\n",
            " [27  2  0  2 41]\n",
            " [31 17 33  0 29]\n",
            " [11 20  8 16  0]]\n"
          ]
        }
      ],
      "source": [
        "import numpy as np\n",
        "\n",
        "# Create a 5x5 identity matrix\n",
        "identity_matrix = np.identity(5, dtype=int)\n",
        "np.fill_diagonal(identity_matrix, 0)\n",
        "\n",
        "# Generate random integers between 0 and 50 (inclusive)\n",
        "random_integers = np.random.randint(0, 51, 20)\n",
        "\n",
        "# Replace the non-diagonal elements with random integers\n",
        "identity_matrix[~np.eye(5, dtype=bool)] = random_integers\n",
        "#Note: I had to delete part of this line here to get it to work\n",
        "\n",
        "print(identity_matrix)\n"
      ]
    },
    {
      "cell_type": "markdown",
      "metadata": {
        "id": "yuwnJjGD1I4_"
      },
      "source": [
        "### Task 4 - Calculate the Euclidean distance between two arrays (2 points)\n",
        "The Euclidean distance measures the straight-line distance between two points in space. In this task, you will calculate the Euclidean distance between two 1-dimensional arrays using the NumPy library.\n",
        "\n",
        "**Hint:** To calculate the Euclidean distance between the two arrays, we can use the np.linalg.norm() function. This function calculates the norm, which is a generalized form of the Euclidean distance, of the difference between the arrays:\n"
      ]
    },
    {
      "cell_type": "code",
      "execution_count": 120,
      "metadata": {
        "id": "djXPveEl1I4_",
        "colab": {
          "base_uri": "https://localhost:8080/"
        },
        "outputId": "eeb7575a-aaf1-49b7-95bb-2428a00bb516"
      },
      "outputs": [
        {
          "output_type": "stream",
          "name": "stdout",
          "text": [
            "Euclidean Distance: 5.196152422706632\n"
          ]
        }
      ],
      "source": [
        "import numpy as np\n",
        "\n",
        "# Create two 1-dimensional arrays\n",
        "arr1 = np.array([1, 2, 3])\n",
        "arr2 = np.array([4, 5, 6])\n",
        "\n",
        "# Calculate the difference between the two arrays\n",
        "difference = arr1 - arr2\n",
        "\n",
        "# Calculate the Euclidean distance using the norm function from the linalg module\n",
        "distance = np.linalg.norm(arr1 - arr2)\n",
        "\n",
        "# Print the calculated Euclidean distance\n",
        "print(\"Euclidean Distance:\", distance)"
      ]
    },
    {
      "cell_type": "markdown",
      "metadata": {
        "id": "13NVqrIH1I4_"
      },
      "source": [
        "### Task 5 - Find the Point of Exceeding a Cumulative Sum Threshold (4 points)\n",
        "\n",
        "Generate a random 1-dimensional array of size 100 with values ranging from 0 to 9. Calculate the cumulative sum of the array and find the index where the cumulative sum exceeds 100 for the first time, then print the index.\n",
        "Description:\n",
        "In this task, you will work with a randomly generated 1-dimensional array of numerical values. Your goal is to calculate the cumulative sum of the array, which represents the running total of the values. Then, you need to identify the position in the array where the cumulative sum exceeds a specific threshold."
      ]
    },
    {
      "cell_type": "code",
      "execution_count": 121,
      "metadata": {
        "id": "0JV74CAS1I4_",
        "colab": {
          "base_uri": "https://localhost:8080/"
        },
        "outputId": "05efd04b-9b07-4aa6-dac7-282478afcaca"
      },
      "outputs": [
        {
          "output_type": "stream",
          "name": "stdout",
          "text": [
            "Index where cumulative sum exceeds 100 : 19\n"
          ]
        }
      ],
      "source": [
        "import numpy as np\n",
        "\n",
        "# Generate a random 1-dimensional array of size 100 with values ranging from 0 to 9\n",
        "arr = np.random.randint(0,10, size=100)\n",
        "\n",
        "# Calculate the cumulative sum of the array\n",
        "cumulative_sum = np.cumsum(arr)\n",
        "\n",
        "# Set the threshold value\n",
        "threshold = 100\n",
        "\n",
        "# Find the index where the cumulative sum first exceeds the threshold\n",
        "index = np.where(cumulative_sum >= threshold)[0][0]\n",
        "# Print the index where the cumulative sum exceeds the threshold\n",
        "print(\"Index where cumulative sum exceeds\", threshold, \":\", index)\n"
      ]
    },
    {
      "cell_type": "markdown",
      "metadata": {
        "id": "AcB-w3Qq1I5A"
      },
      "source": [
        "### Task 6 - Performing Linear Algebra Operations (3 points)\n",
        "Description: In this task, you will work with a randomly generated 2-dimensional array and perform linear algebra operations using NumPy. You will calculate the determinant of the array, compute its inverse, and verify that the product of the array and its inverse yields the identity matrix. This task provides an opportunity to explore fundamental linear algebra concepts, such as determinants, matrix inverses, and the properties of the identity matrix, using NumPy.\n",
        "\n",
        "1. Create a 2-dimensional array with shape (2, 2) and fill it with random integers between 1 and 9.\n",
        "2. Calculate the determinant of the array.\n",
        "3. Compute the inverse of the array.\n",
        "4. Multiply the array by its inverse.\n",
        "5. Print the final array."
      ]
    },
    {
      "cell_type": "code",
      "execution_count": 122,
      "metadata": {
        "id": "Wj0BV6vw1I5A",
        "colab": {
          "base_uri": "https://localhost:8080/"
        },
        "outputId": "d4450ec8-863a-4808-ef30-62bfed02edd4"
      },
      "outputs": [
        {
          "output_type": "stream",
          "name": "stdout",
          "text": [
            "Identity Matrix:\n",
            " [[-7. 16.]\n",
            " [ 4. -7.]]\n"
          ]
        }
      ],
      "source": [
        "import numpy as np\n",
        "\n",
        "# Generate a random 2-dimensional array with shape (2, 2) and random integers between 1 and 9\n",
        "arr = np.random.randint(1, 10, (2,2))\n",
        "\n",
        "# Calculate the determinant of the array\n",
        "determinant = np.linalg.det(arr)\n",
        "\n",
        "# Compute the inverse of the array\n",
        "inverse = np.linalg.inv(arr)\n",
        "\n",
        "# Multiply the array by its inverse to obtain the identity matrix\n",
        "identity = arr * inverse\n",
        "\n",
        "# Print the resulting identity matrix\n",
        "print(\"Identity Matrix:\\n\", identity)\n"
      ]
    },
    {
      "cell_type": "code",
      "source": [],
      "metadata": {
        "id": "Zc-uQC267gW6"
      },
      "execution_count": null,
      "outputs": []
    }
  ],
  "metadata": {
    "kernelspec": {
      "display_name": "Python 3 (ipykernel)",
      "language": "python",
      "name": "python3"
    },
    "language_info": {
      "codemirror_mode": {
        "name": "ipython",
        "version": 3
      },
      "file_extension": ".py",
      "mimetype": "text/x-python",
      "name": "python",
      "nbconvert_exporter": "python",
      "pygments_lexer": "ipython3",
      "version": "3.8.8"
    },
    "colab": {
      "provenance": []
    }
  },
  "nbformat": 4,
  "nbformat_minor": 0
}