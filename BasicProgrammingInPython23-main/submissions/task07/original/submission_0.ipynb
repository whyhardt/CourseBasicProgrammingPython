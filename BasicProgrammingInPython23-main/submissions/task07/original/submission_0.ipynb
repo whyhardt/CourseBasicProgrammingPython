{
 "cells": [
  {
   "attachments": {},
   "cell_type": "markdown",
   "metadata": {},
   "source": [
    "# Coding Tasks - Week 7\n",
    "Welcome to the Python Programming Exercise Sheet!  \n",
    "In this exercise sheet, we will cover some of the fundamental concepts in Python programming.  \n",
    "Topics covered are: NumPy.\n",
    "\n",
    "___\n",
    "\n",
    "**DEADLINE**:  19th June until 12:15  \n",
    "**Your name here**: Alexa Gushoff  \n",
    "**Your university mail**: agushoff@uni-osnabrueck.de\n",
    "\n",
    "___\n",
    "\n",
    "**Important information**:  \n",
    "In order to pass this sheet you need to achieve  /  points.  \n",
    "For the best possible grade you require  /  points, however, since some harder tasks may take a lot of time you don't have to pressure yourself.  \n",
    "If you complete any three tasks on a sheet you will definitely get a good grade for that sheet.  \n",
    "Hand in your sheet in studip in the respective folder until the deadline.  \n",
    "If you receive no email until a few days after submission you will have passed, the sample solution will also be uploaded around then.  \n",
    "If you receive an email you don't need to worry, you can fail one sheet and also your total points will also be taken into account for the final pass or fail.  "
   ]
  },
  {
   "attachments": {},
   "cell_type": "markdown",
   "metadata": {},
   "source": [
    "### Task 1 - Array Manipulation (4 points)\n",
    "\n",
    "Create a Python program that takes a 1D NumPy array of size 10 with random integer values between 1 and 100 (inclusive) and performs the following operations:\n",
    "\n",
    "- Create the 1D array with the specified size.\n",
    "- Reshape the array into a 2x5 matrix.\n",
    "- Transpose the matrix.\n",
    "- Finally, find the index of the maximum value in the array."
   ]
  },
  {
   "cell_type": "code",
   "execution_count": 1,
   "metadata": {},
   "outputs": [
    {
     "name": "stdout",
     "output_type": "stream",
     "text": [
      "The original array:\n",
      "[ 4 39 98 35 77 85 16 51 85 13]\n",
      "The reshaped array:\n",
      "[[ 4 39 98 35 77]\n",
      " [85 16 51 85 13]]\n",
      "The transposed array:\n",
      "[[ 4 85]\n",
      " [39 16]\n",
      " [98 51]\n",
      " [35 85]\n",
      " [77 13]]\n",
      "The index of the maximum value:\n",
      "4\n"
     ]
    }
   ],
   "source": [
    "import numpy as np\n",
    "\n",
    "# Create a 1D array of size 10 with random integer values between 1 and 100\n",
    "arr = np.random.randint(1, 101, 10)\n",
    "\n",
    "# Reshape the array into a 2x5 matrix\n",
    "arr_reshaped = np.reshape(arr, (2,5))\n",
    "\n",
    "# Transpose the matrix\n",
    "arr_transposed = np.transpose(arr_reshaped)\n",
    "\n",
    "# Find the index of the maximum value in the array\n",
    "max_index = np.argmax(arr_transposed)\n",
    "\n",
    "# Print the original array\n",
    "print(f\"The original array:\\n{arr}\")\n",
    "\n",
    "# Print the reshaped array\n",
    "print(f\"The reshaped array:\\n{arr_reshaped}\")\n",
    "\n",
    "# Print the transposed array\n",
    "print(f\"The transposed array:\\n{arr_transposed}\")\n",
    "\n",
    "# Print the index of the maximum value\n",
    "print(f\"The index of the maximum value:\\n{max_index}\")\n"
   ]
  },
  {
   "attachments": {},
   "cell_type": "markdown",
   "metadata": {},
   "source": [
    "### Task 2 - Standart Deviation Ratio (SDR) (4 points)\n",
    "\n",
    "Implement a Python program that calculates the standard deviation ratio (SDR) of a given 1D NumPy array. SDR represents the ratio of the standard deviation of the positive elements to the standard deviation of the negative elements.\n",
    "\n",
    "- Create a 1D array of 100 random values.\n",
    "- Split the array into positive and negative elements.\n",
    "- Calculate the standard deviations of the positive and negative arrays.\n",
    "- Calculate the standard deviation ratio (SDR)."
   ]
  },
  {
   "cell_type": "code",
   "execution_count": 7,
   "metadata": {},
   "outputs": [
    {
     "name": "stdout",
     "output_type": "stream",
     "text": [
      "Array:\n",
      "[[ 1.12239891e+00 -6.52241184e-01 -1.04010413e-01 -8.77696659e-01\n",
      "  -4.40850849e-01  1.89217160e+00 -1.77095654e-01  3.64354485e-02\n",
      "   1.15634921e+00 -6.86221570e-01 -4.71363179e-01  6.04369019e-02\n",
      "   1.20553413e+00 -1.92246593e+00  1.00692678e+00 -7.78731088e-01\n",
      "  -1.25836870e+00 -9.09534414e-01 -1.09796330e-01 -1.49600669e+00\n",
      "   2.19431005e+00  1.09756801e+00  1.60732097e+00  1.48070034e+00\n",
      "  -1.85318997e+00  3.27886824e-01  1.11707719e+00 -2.10482938e-01\n",
      "   5.44128234e-01 -1.11673391e-01  8.67116091e-01  5.55176765e-01\n",
      "   5.97096176e-01 -4.93763248e-02 -1.44493733e+00 -2.11615133e+00\n",
      "  -1.41956315e-01  7.46792413e-01 -9.37902498e-01 -1.22720475e-01\n",
      "   7.97322571e-02  3.06066742e-01 -3.35065175e-01 -1.43440758e+00\n",
      "   6.34046400e-01 -2.63695509e-01  8.92084011e-01  1.18355479e+00\n",
      "  -2.72469872e-01 -5.70748062e-01  1.70139962e+00  5.15811091e-02\n",
      "   1.04977914e+00 -1.28668819e+00  8.70596330e-01  6.07545031e-01\n",
      "  -8.45652729e-01 -4.40125128e-01 -1.17874742e+00 -9.02173536e-01\n",
      "   1.64882818e-01  4.35801350e-01  2.80932759e-01 -1.73054756e+00\n",
      "  -4.65682324e-01 -2.89604902e-01  1.88711221e+00  1.32259594e+00\n",
      "  -1.06182307e+00 -6.40521745e-01  1.10982016e+00  5.67934388e-01\n",
      "   1.17396824e+00 -1.07925926e+00 -1.09975679e-01  1.41955555e+00\n",
      "  -5.01709150e-02  1.88652684e+00  4.49230284e-02  3.59117210e-01\n",
      "   6.00011164e-01 -8.14914034e-01  1.02953574e+00 -6.51208849e-01\n",
      "   1.69830074e-01 -4.96551528e-01 -3.88026894e-01  1.17550893e+00\n",
      "  -2.37657301e+00  4.25459102e-02  1.13861882e-01 -4.44038373e-02\n",
      "   1.23075223e-03  1.64554615e+00 -3.17905155e-02  3.76079491e-01\n",
      "   1.90665582e-01 -5.18380774e-01 -7.40917455e-02 -1.12166073e-02]]\n",
      "The positive array:\n",
      "[1.12239891e+00 1.89217160e+00 3.64354485e-02 1.15634921e+00\n",
      " 6.04369019e-02 1.20553413e+00 1.00692678e+00 2.19431005e+00\n",
      " 1.09756801e+00 1.60732097e+00 1.48070034e+00 3.27886824e-01\n",
      " 1.11707719e+00 5.44128234e-01 8.67116091e-01 5.55176765e-01\n",
      " 5.97096176e-01 7.46792413e-01 7.97322571e-02 3.06066742e-01\n",
      " 6.34046400e-01 8.92084011e-01 1.18355479e+00 1.70139962e+00\n",
      " 5.15811091e-02 1.04977914e+00 8.70596330e-01 6.07545031e-01\n",
      " 1.64882818e-01 4.35801350e-01 2.80932759e-01 1.88711221e+00\n",
      " 1.32259594e+00 1.10982016e+00 5.67934388e-01 1.17396824e+00\n",
      " 1.41955555e+00 1.88652684e+00 4.49230284e-02 3.59117210e-01\n",
      " 6.00011164e-01 1.02953574e+00 1.69830074e-01 1.17550893e+00\n",
      " 4.25459102e-02 1.13861882e-01 1.23075223e-03 1.64554615e+00\n",
      " 3.76079491e-01 1.90665582e-01]\n",
      "The negative array:\n",
      "[-0.65224118 -0.10401041 -0.87769666 -0.44085085 -0.17709565 -0.68622157\n",
      " -0.47136318 -1.92246593 -0.77873109 -1.2583687  -0.90953441 -0.10979633\n",
      " -1.49600669 -1.85318997 -0.21048294 -0.11167339 -0.04937632 -1.44493733\n",
      " -2.11615133 -0.14195631 -0.9379025  -0.12272047 -0.33506517 -1.43440758\n",
      " -0.26369551 -0.27246987 -0.57074806 -1.28668819 -0.84565273 -0.44012513\n",
      " -1.17874742 -0.90217354 -1.73054756 -0.46568232 -0.2896049  -1.06182307\n",
      " -0.64052175 -1.07925926 -0.10997568 -0.05017092 -0.81491403 -0.65120885\n",
      " -0.49655153 -0.38802689 -2.37657301 -0.04440384 -0.03179052 -0.51838077\n",
      " -0.07409175 -0.01121661]\n",
      "Standard Deviation Ratio:\n",
      "0.9778209807989877\n"
     ]
    }
   ],
   "source": [
    "import numpy as np\n",
    "\n",
    "# Create a 1D array of 100 random values\n",
    "arr1 = np.random.randn(1, 100)\n",
    "\n",
    "# Split the array into positive and negative elements\n",
    "positive_array = np.extract(arr1 >= 0, arr1)\n",
    "negative_array = np.extract(arr1 < 0, arr1)\n",
    "\n",
    "\n",
    "# Calculate the standard deviations\n",
    "positive_std_dev = np.std(positive_array)\n",
    "negative_std_dev = np.std(negative_array)\n",
    "\n",
    "# Calculate the standard deviation ratio\n",
    "sdr = positive_std_dev/negative_std_dev\n",
    "\n",
    "# Print the original array\n",
    "print(f\"Array:\\n{arr1}\")\n",
    "\n",
    "# Print the positive array\n",
    "print(f\"The positive array:\\n{positive_array}\")\n",
    "\n",
    "# Print the negative array\n",
    "print(f\"The negative array:\\n{negative_array}\")\n",
    "\n",
    "# Print the standard deviation ratio\n",
    "print(f\"Standard Deviation Ratio:\\n{sdr}\")\n"
   ]
  },
  {
   "attachments": {},
   "cell_type": "markdown",
   "metadata": {},
   "source": [
    "### Task 3 - Identity Matrix (3 points)\n",
    "\n",
    "Create a 5x5 identity matrix where:\n",
    "\n",
    "- All diagonal elements are equal to 0.\n",
    "- The rest of the elements should be random integers between 0 and 50 (inclusive)."
   ]
  },
  {
   "cell_type": "code",
   "execution_count": 9,
   "metadata": {},
   "outputs": [
    {
     "name": "stdout",
     "output_type": "stream",
     "text": [
      "[[ 0. 27. 34.  7. 50.]\n",
      " [26.  0. 14. 13. 39.]\n",
      " [47. 18.  0.  7. 45.]\n",
      " [25. 25. 34.  0. 22.]\n",
      " [38. 10. 28. 49.  0.]]\n"
     ]
    }
   ],
   "source": [
    "import numpy as np\n",
    "\n",
    "# Create a 5x5 identity matrix\n",
    "identity_matrix = np.identity(5)\n",
    "\n",
    "# Generate random integers between 0 and 50 (inclusive)\n",
    "random_integers = np.random.randint(0,51,25)\n",
    "random_integers = np.reshape(random_integers, (5,5))\n",
    "\n",
    "# Replace the non-diagonal elements with random integers\n",
    "identity_matrix[~np.eye(5, dtype=bool)] = random_integers[~np.eye(5, dtype=bool)]\n",
    "\n",
    "#final modification\n",
    "for i in range(5):\n",
    "    identity_matrix[i][i] = 0\n",
    "\n",
    "print(identity_matrix)\n"
   ]
  },
  {
   "attachments": {},
   "cell_type": "markdown",
   "metadata": {},
   "source": [
    "### Task 4 - Calculate the Euclidean distance between two arrays (2 points)\n",
    "The Euclidean distance measures the straight-line distance between two points in space. In this task, you will calculate the Euclidean distance between two 1-dimensional arrays using the NumPy library.\n",
    "\n",
    "**Hint:** To calculate the Euclidean distance between the two arrays, we can use the np.linalg.norm() function. This function calculates the norm, which is a generalized form of the Euclidean distance, of the difference between the arrays:\n"
   ]
  },
  {
   "cell_type": "code",
   "execution_count": 10,
   "metadata": {},
   "outputs": [
    {
     "name": "stdout",
     "output_type": "stream",
     "text": [
      "Euclidean Distance: 5.196152422706632\n"
     ]
    }
   ],
   "source": [
    "import numpy as np\n",
    "\n",
    "# Create two 1-dimensional arrays\n",
    "arr1 = np.array([1, 2, 3])\n",
    "arr2 = np.array([4, 5, 6])\n",
    "\n",
    "# Calculate the difference between the two arrays\n",
    "difference = arr1 - arr2\n",
    "\n",
    "# Calculate the Euclidean distance using the norm function from the linalg module\n",
    "distance = np.linalg.norm(difference)\n",
    "\n",
    "# Print the calculated Euclidean distance\n",
    "print(\"Euclidean Distance:\", distance)"
   ]
  },
  {
   "attachments": {},
   "cell_type": "markdown",
   "metadata": {},
   "source": [
    "### Task 5 - Find the Point of Exceeding a Cumulative Sum Threshold (4 points)\n",
    "\n",
    "Generate a random 1-dimensional array of size 100 with values ranging from 0 to 9. Calculate the cumulative sum of the array and find the index where the cumulative sum exceeds 100 for the first time, then print the index.\n",
    "Description:\n",
    "In this task, you will work with a randomly generated 1-dimensional array of numerical values. Your goal is to calculate the cumulative sum of the array, which represents the running total of the values. Then, you need to identify the position in the array where the cumulative sum exceeds a specific threshold."
   ]
  },
  {
   "cell_type": "code",
   "execution_count": 11,
   "metadata": {},
   "outputs": [
    {
     "name": "stdout",
     "output_type": "stream",
     "text": [
      "Index where cumulative sum exceeds 100 : 23\n"
     ]
    }
   ],
   "source": [
    "import numpy as np\n",
    "\n",
    "# Generate a random 1-dimensional array of size 100 with values ranging from 0 to 9\n",
    "arr = np.random.randint(0, 10, size=100)\n",
    "\n",
    "# Calculate the cumulative sum of the array\n",
    "cumulative_sum = np.array(np.cumsum(arr))\n",
    "\n",
    "# Set the threshold value\n",
    "threshold = 100\n",
    "\n",
    "# Find the index where the cumulative sum first exceeds the threshold\n",
    "index = int(np.argmax(cumulative_sum > threshold))\n",
    "\n",
    "# Print the index where the cumulative sum exceeds the threshold\n",
    "print(\"Index where cumulative sum exceeds\", threshold, \":\", index)\n"
   ]
  },
  {
   "attachments": {},
   "cell_type": "markdown",
   "metadata": {},
   "source": [
    "### Task 6 - Performing Linear Algebra Operations (3 points)\n",
    "Description: In this task, you will work with a randomly generated 2-dimensional array and perform linear algebra operations using NumPy. You will calculate the determinant of the array, compute its inverse, and verify that the product of the array and its inverse yields the identity matrix. This task provides an opportunity to explore fundamental linear algebra concepts, such as determinants, matrix inverses, and the properties of the identity matrix, using NumPy.\n",
    "\n",
    "1. Create a 2-dimensional array with shape (2, 2) and fill it with random integers between 1 and 9.\n",
    "2. Calculate the determinant of the array.\n",
    "3. Compute the inverse of the array.\n",
    "4. Multiply the array by its inverse.\n",
    "5. Print the final array."
   ]
  },
  {
   "cell_type": "code",
   "execution_count": 16,
   "metadata": {},
   "outputs": [
    {
     "name": "stdout",
     "output_type": "stream",
     "text": [
      "Identity Matrix:\n",
      " [[1. 0.]\n",
      " [0. 1.]]\n"
     ]
    }
   ],
   "source": [
    "import numpy as np\n",
    "\n",
    "# Generate a random 2-dimensional array with shape (2, 2) and random integers between 1 and 9\n",
    "arr = np.random.randint(0,10,4)\n",
    "arr = np.reshape(arr,(2,2))\n",
    "\n",
    "\n",
    "# Calculate the determinant of the array\n",
    "determinant = np.linalg.det(arr)\n",
    "\n",
    "\n",
    "# Compute the inverse of the array\n",
    "inverse = np.linalg.inv(arr)\n",
    "\n",
    "# Multiply the array by its inverse to obtain the identity matrix\n",
    "identity = np.matmul(inverse, arr)\n",
    "\n",
    "# Print the resulting identity matrix\n",
    "print(\"Identity Matrix:\\n\", identity)\n"
   ]
  }
 ],
 "metadata": {
  "kernelspec": {
   "display_name": "Python 3 (ipykernel)",
   "language": "python",
   "name": "python3"
  },
  "language_info": {
   "codemirror_mode": {
    "name": "ipython",
    "version": 3
   },
   "file_extension": ".py",
   "mimetype": "text/x-python",
   "name": "python",
   "nbconvert_exporter": "python",
   "pygments_lexer": "ipython3",
   "version": "3.9.7"
  }
 },
 "nbformat": 4,
 "nbformat_minor": 4
}
