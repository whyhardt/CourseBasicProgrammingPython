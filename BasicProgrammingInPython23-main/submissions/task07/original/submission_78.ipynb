{
 "cells": [
  {
   "attachments": {},
   "cell_type": "markdown",
   "metadata": {},
   "source": [
    "# Coding Tasks - Week 7\n",
    "Welcome to the Python Programming Exercise Sheet!  \n",
    "In this exercise sheet, we will cover some of the fundamental concepts in Python programming.  \n",
    "Topics covered are: NumPy.\n",
    "\n",
    "___\n",
    "\n",
    "**DEADLINE**:  19th June until 12:15  \n",
    "**Your name here**: Sara Günther  \n",
    "**Your university mail**: saguenther@uni-osnabrueck.de\n",
    "\n",
    "___\n",
    "\n",
    "**Important information**:  \n",
    "In order to pass this sheet you need to achieve  /  points.  \n",
    "For the best possible grade you require  /  points, however, since some harder tasks may take a lot of time you don't have to pressure yourself.  \n",
    "If you complete any three tasks on a sheet you will definitely get a good grade for that sheet.  \n",
    "Hand in your sheet in studip in the respective folder until the deadline.  \n",
    "If you receive no email until a few days after submission you will have passed, the sample solution will also be uploaded around then.  \n",
    "If you receive an email you don't need to worry, you can fail one sheet and also your total points will also be taken into account for the final pass or fail.  "
   ]
  },
  {
   "attachments": {},
   "cell_type": "markdown",
   "metadata": {},
   "source": [
    "### Task 1 - Array Manipulation (n points)\n",
    "\n",
    "Create a Python program that takes a 1D NumPy array of size 10 with random integer values between 1 and 100 (inclusive) and performs the following operations:\n",
    "\n",
    "- Create the 1D array with the specified size.\n",
    "- Reshape the array into a 2x5 matrix.\n",
    "- Transpose the matrix.\n",
    "- Finally, find the index of the maximum value in the array."
   ]
  },
  {
   "cell_type": "code",
   "execution_count": 16,
   "metadata": {},
   "outputs": [
    {
     "name": "stdout",
     "output_type": "stream",
     "text": [
      "The original array:\n",
      "[18 49 38 98 66 66 74 38  7 32]\n",
      "The reshaped array:\n",
      "[[18 49 38 98 66]\n",
      " [66 74 38  7 32]]\n",
      "The transposed array:\n",
      "[[18 66]\n",
      " [49 74]\n",
      " [38 38]\n",
      " [98  7]\n",
      " [66 32]]\n",
      "The index of the maximum value:\n",
      "3\n"
     ]
    }
   ],
   "source": [
    "import numpy as np\n",
    "\n",
    "# Create a 1D array of size 10 with random integer values between 1 and 100\n",
    "arr = np.random.randint(1, 101, 10)\n",
    "\n",
    "# Reshape the array into a 2x5 matrix\n",
    "arr_reshaped = arr.reshape(2,5)\n",
    "\n",
    "# Transpose the matrix\n",
    "arr_transposed = np.transpose(arr_reshaped)\n",
    "\n",
    "# Find the index of the maximum value in the array\n",
    "max_index = np.argmax(arr)\n",
    "\n",
    "# Print the original array\n",
    "print(f\"The original array:\\n{arr}\")\n",
    "\n",
    "# Print the reshaped array\n",
    "print(f\"The reshaped array:\\n{arr_reshaped}\")\n",
    "\n",
    "# Print the transposed array\n",
    "print(f\"The transposed array:\\n{arr_transposed}\")\n",
    "\n",
    "# Print the index of the maximum value\n",
    "print(f\"The index of the maximum value:\\n{max_index}\")\n"
   ]
  },
  {
   "attachments": {},
   "cell_type": "markdown",
   "metadata": {},
   "source": [
    "### Task 2 - Standart Deviation Ratio (SDR) (n points)\n",
    "\n",
    "Implement a Python program that calculates the standard deviation ratio (SDR) of a given 1D NumPy array. SDR represents the ratio of the standard deviation of the positive elements to the standard deviation of the negative elements.\n",
    "\n",
    "- Create a 1D array of 100 random values.\n",
    "- Split the array into positive and negative elements.\n",
    "- Calculate the standard deviations of the positive and negative arrays.\n",
    "- Calculate the standard deviation ratio (SDR)."
   ]
  },
  {
   "cell_type": "code",
   "execution_count": 2,
   "metadata": {},
   "outputs": [
    {
     "name": "stdout",
     "output_type": "stream",
     "text": [
      "Array:\n",
      "[-0.70452616 -0.94719843  1.25823163 -0.54089363 -0.5447619   0.417451\n",
      " -0.10785577 -0.37909369  1.28310059  0.63243535 -0.89227261  0.84900618\n",
      " -1.60977061 -0.36196895  1.71963484  0.60851626 -0.80799578  1.07741593\n",
      " -1.66086107 -0.15800621 -0.26191848  0.56230619 -0.89424517  0.80425406\n",
      " -0.60690203 -1.50887515  0.58941461 -1.6715951  -1.11699438 -0.27354836\n",
      " -0.88456854  0.03403821  0.97786307  1.3321032   1.91822833 -2.88204771\n",
      "  0.86235639 -1.82805097  0.2271315  -1.4537308  -0.36471338  1.27847461\n",
      "  0.01397641 -0.91826467  0.89577904  0.40786329 -1.33687788 -1.09824806\n",
      "  0.47228684  1.07180592 -0.4333638   0.08623252  0.73391947 -0.79527528\n",
      " -0.46813926  0.04650742  0.56888519  0.84745524 -1.3249743   0.36172153\n",
      " -0.4530037   1.10830973  1.52599235  0.34905809 -1.24702944  0.85354716\n",
      "  2.00378387 -2.33256408 -0.3232663   0.32874312 -1.01162334 -0.10156887\n",
      " -0.11655851 -0.33551246 -1.02944908 -0.01728838 -0.0467066  -0.23170887\n",
      " -0.07839538 -0.18941992  0.45386785 -1.09528141  0.76036958  1.06544172\n",
      " -1.04679134 -1.66789421  1.15659612 -0.12278291  0.31694684  0.47147855\n",
      " -0.60025811  0.29947033 -0.02804228  1.30032432 -0.14420729 -0.20035523\n",
      " -0.96946324  1.26753076 -1.56747751  0.2497357 ]\n",
      "The positive array:\n",
      "[1.25823163 0.417451   1.28310059 0.63243535 0.84900618 1.71963484\n",
      " 0.60851626 1.07741593 0.56230619 0.80425406 0.58941461 0.03403821\n",
      " 0.97786307 1.3321032  1.91822833 0.86235639 0.2271315  1.27847461\n",
      " 0.01397641 0.89577904 0.40786329 0.47228684 1.07180592 0.08623252\n",
      " 0.73391947 0.04650742 0.56888519 0.84745524 0.36172153 1.10830973\n",
      " 1.52599235 0.34905809 0.85354716 2.00378387 0.32874312 0.45386785\n",
      " 0.76036958 1.06544172 1.15659612 0.31694684 0.47147855 0.29947033\n",
      " 1.30032432 1.26753076 0.2497357 ]\n",
      "The negative array:\n",
      "[-0.70452616 -0.94719843 -0.54089363 -0.5447619  -0.10785577 -0.37909369\n",
      " -0.89227261 -1.60977061 -0.36196895 -0.80799578 -1.66086107 -0.15800621\n",
      " -0.26191848 -0.89424517 -0.60690203 -1.50887515 -1.6715951  -1.11699438\n",
      " -0.27354836 -0.88456854 -2.88204771 -1.82805097 -1.4537308  -0.36471338\n",
      " -0.91826467 -1.33687788 -1.09824806 -0.4333638  -0.79527528 -0.46813926\n",
      " -1.3249743  -0.4530037  -1.24702944 -2.33256408 -0.3232663  -1.01162334\n",
      " -0.10156887 -0.11655851 -0.33551246 -1.02944908 -0.01728838 -0.0467066\n",
      " -0.23170887 -0.07839538 -0.18941992 -1.09528141 -1.04679134 -1.66789421\n",
      " -0.12278291 -0.60025811 -0.02804228 -0.14420729 -0.20035523 -0.96946324\n",
      " -1.56747751]\n",
      "Standard Deviation Ratio:\n",
      "0.7821911605002713\n"
     ]
    }
   ],
   "source": [
    "import numpy as np\n",
    "\n",
    "# Create a 1D array of 100 random values\n",
    "arr1 = np.random.randn(100)\n",
    "\n",
    "# Split the array into positive and negative elements\n",
    "positive_array = arr1[arr1 > 0]\n",
    "negative_array = arr1[arr1 < 0]\n",
    "\n",
    "# Calculate the standard deviations\n",
    "positive_std_dev = np.std(positive_array)\n",
    "negative_std_dev = np.std(negative_array)\n",
    "\n",
    "# Calculate the standard deviation ratio\n",
    "sdr = positive_std_dev / negative_std_dev\n",
    "\n",
    "# Print the original array\n",
    "print(f\"Array:\\n{arr1}\")\n",
    "\n",
    "# Print the positive array\n",
    "print(f\"The positive array:\\n{positive_array}\")\n",
    "\n",
    "# Print the negative array\n",
    "print(f\"The negative array:\\n{negative_array}\")\n",
    "\n",
    "# Print the standard deviation ratio\n",
    "print(f\"Standard Deviation Ratio:\\n{sdr}\")\n"
   ]
  },
  {
   "attachments": {},
   "cell_type": "markdown",
   "metadata": {},
   "source": [
    "### Task 3 - Identity Matrix (n points)\n",
    "\n",
    "Create a 5x5 identity matrix where:\n",
    "\n",
    "- All diagonal elements are equal to 0.\n",
    "- The rest of the elements should be random integers between 0 and 50 (inclusive)."
   ]
  },
  {
   "cell_type": "code",
   "execution_count": 7,
   "metadata": {},
   "outputs": [
    {
     "ename": "TypeError",
     "evalue": "only integer scalar arrays can be converted to a scalar index",
     "output_type": "error",
     "traceback": [
      "\u001b[1;31m---------------------------------------------------------------------------\u001b[0m",
      "\u001b[1;31mTypeError\u001b[0m                                 Traceback (most recent call last)",
      "Cell \u001b[1;32mIn[7], line 15\u001b[0m\n\u001b[0;32m     12\u001b[0m random_integers \u001b[39m=\u001b[39m np\u001b[39m.\u001b[39mrandom\u001b[39m.\u001b[39mrandint(\u001b[39m50\u001b[39m, size\u001b[39m=\u001b[39m(\u001b[39m5\u001b[39m,\u001b[39m5\u001b[39m))\n\u001b[0;32m     14\u001b[0m \u001b[39m# Replace the non-diagonal elements with random integers\u001b[39;00m\n\u001b[1;32m---> 15\u001b[0m identity_matrix[\u001b[39m~\u001b[39;49mnp\u001b[39m.\u001b[39;49meye(\u001b[39m5\u001b[39;49m, dtype\u001b[39m=\u001b[39;49m\u001b[39mbool\u001b[39;49m)] \u001b[39m=\u001b[39m random_integers[\u001b[39m~\u001b[39mnp\u001b[39m.\u001b[39meye(\u001b[39m5\u001b[39m, dtype\u001b[39m=\u001b[39m\u001b[39mbool\u001b[39m)]\n\u001b[0;32m     17\u001b[0m \u001b[39mprint\u001b[39m(identity_matrix)\n",
      "\u001b[1;31mTypeError\u001b[0m: only integer scalar arrays can be converted to a scalar index"
     ]
    }
   ],
   "source": [
    "import numpy as np\n",
    "from numpy import random\n",
    "\n",
    "# Create a 3x3 identity matrix #5x5?\n",
    "identity_matrix = [[1,0,0,0,0],\n",
    "                   [0,1,0,0,0],\n",
    "                   [0,0,1,0,0,],\n",
    "                   [0,0,0,1,0,],\n",
    "                   [0,0,0,0,1]]\n",
    "\n",
    "# Generate random integers between 0 and 50 (inclusive)\n",
    "random_integers = np.random.randint(50, size=(5,5))\n",
    "\n",
    "# Replace the non-diagonal elements with random integers\n",
    "identity_matrix[~np.eye(5, dtype=bool)] = random_integers[~np.eye(5, dtype=bool)]\n",
    "\n",
    "print(identity_matrix)\n"
   ]
  },
  {
   "attachments": {},
   "cell_type": "markdown",
   "metadata": {},
   "source": [
    "### Task 4 - Calculate the Euclidean distance between two arrays (n points)\n",
    "The Euclidean distance measures the straight-line distance between two points in space. In this task, you will calculate the Euclidean distance between two 1-dimensional arrays using the NumPy library.\n",
    "\n",
    "**Hint:** To calculate the Euclidean distance between the two arrays, we can use the np.linalg.norm() function. This function calculates the norm, which is a generalized form of the Euclidean distance, of the difference between the arrays:\n"
   ]
  },
  {
   "cell_type": "code",
   "execution_count": 5,
   "metadata": {},
   "outputs": [
    {
     "name": "stdout",
     "output_type": "stream",
     "text": [
      "[3 3 3]\n",
      "Euclidean Distance: 5.196152422706632\n"
     ]
    }
   ],
   "source": [
    "import numpy as np\n",
    "\n",
    "# Create two 1-dimensional arrays\n",
    "arr1 = np.array([1, 2, 3])\n",
    "arr2 = np.array([4, 5, 6])\n",
    "\n",
    "# Calculate the difference between the two arrays\n",
    "difference = arr2 - arr1\n",
    "print(difference)\n",
    "\n",
    "# Calculate the Euclidean distance using the norm function from the linalg module\n",
    "distance = np.linalg.norm(difference)\n",
    "\n",
    "# Print the calculated Euclidean distance\n",
    "print(\"Euclidean Distance:\", distance)"
   ]
  },
  {
   "attachments": {},
   "cell_type": "markdown",
   "metadata": {},
   "source": [
    "### Task 5 - Find the Point of Exceeding a Cumulative Sum Threshold (n points)\n",
    "\n",
    "Generate a random 1-dimensional array of size 100 with values ranging from 0 to 9. Calculate the cumulative sum of the array and find the index where the cumulative sum exceeds 100 for the first time, then print the index.\n",
    "Description:\n",
    "In this task, you will work with a randomly generated 1-dimensional array of numerical values. Your goal is to calculate the cumulative sum of the array, which represents the running total of the values. Then, you need to identify the position in the array where the cumulative sum exceeds a specific threshold."
   ]
  },
  {
   "cell_type": "code",
   "execution_count": 20,
   "metadata": {},
   "outputs": [
    {
     "name": "stdout",
     "output_type": "stream",
     "text": [
      "Index where cumulative sum exceeds 100 : 26\n"
     ]
    }
   ],
   "source": [
    "import numpy as np\n",
    "\n",
    "# Generate a random 1-dimensional array of size 100 with values ranging from 0 to 9\n",
    "arr = np.random.randint(0, 10, size=100)\n",
    "\n",
    "# Calculate the cumulative sum of the array\n",
    "cumulative_sum = np.cumsum(arr)\n",
    "\n",
    "# Set the threshold value\n",
    "threshold = 100\n",
    "\n",
    "# Find the index where the cumulative sum first exceeds the threshold\n",
    "index = np.argmax(cumulative_sum >= threshold) \n",
    "\n",
    "# Print the index where the cumulative sum exceeds the threshold\n",
    "print(\"Index where cumulative sum exceeds\", threshold, \":\", index)\n"
   ]
  },
  {
   "attachments": {},
   "cell_type": "markdown",
   "metadata": {},
   "source": [
    "### Task 6 - Performing Linear Algebra Operations (n points)\n",
    "Description: In this task, you will work with a randomly generated 2-dimensional array and perform linear algebra operations using NumPy. You will calculate the determinant of the array, compute its inverse, and verify that the product of the array and its inverse yields the identity matrix. This task provides an opportunity to explore fundamental linear algebra concepts, such as determinants, matrix inverses, and the properties of the identity matrix, using NumPy.\n",
    "\n",
    "1. Create a 2-dimensional array with shape (2, 2) and fill it with random integers between 1 and 9.\n",
    "2. Calculate the determinant of the array.\n",
    "3. Compute the inverse of the array.\n",
    "4. Multiply the array by its inverse.\n",
    "5. Print the final array."
   ]
  },
  {
   "cell_type": "code",
   "execution_count": 40,
   "metadata": {},
   "outputs": [
    {
     "name": "stdout",
     "output_type": "stream",
     "text": [
      "Identity Matrix:\n",
      " [[-0.14285714  0.42857143]\n",
      " [ 3.04761905 -0.14285714]]\n"
     ]
    }
   ],
   "source": [
    "import numpy as np\n",
    "from numpy import random\n",
    "\n",
    "# Generate a random 2-dimensional array with shape (2, 2) and random integers between 1 and 9\n",
    "arr = random.randint(1,9, size=(2,2))\n",
    "\n",
    "# Calculate the determinant of the array\n",
    "determinant = np.linalg.det(arr)\n",
    "\n",
    "# Compute the inverse of the array\n",
    "inverse = np.linalg.inv(arr)\n",
    "\n",
    "# Multiply the array by its inverse to obtain the identity matrix\n",
    "identity = np.multiply(arr, inverse)\n",
    "\n",
    "# Print the resulting identity matrix\n",
    "print(\"Identity Matrix:\\n\", identity)\n"
   ]
  }
 ],
 "metadata": {
  "kernelspec": {
   "display_name": "base",
   "language": "python",
   "name": "python3"
  },
  "language_info": {
   "codemirror_mode": {
    "name": "ipython",
    "version": 3
   },
   "file_extension": ".py",
   "mimetype": "text/x-python",
   "name": "python",
   "nbconvert_exporter": "python",
   "pygments_lexer": "ipython3",
   "version": "3.10.9"
  },
  "orig_nbformat": 4
 },
 "nbformat": 4,
 "nbformat_minor": 2
}
