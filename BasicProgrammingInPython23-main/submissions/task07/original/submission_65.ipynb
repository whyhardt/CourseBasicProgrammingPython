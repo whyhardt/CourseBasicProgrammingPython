{
 "cells": [
  {
   "cell_type": "markdown",
   "metadata": {},
   "source": [
    "# Coding Tasks - Week 7\n",
    "Welcome to the Python Programming Exercise Sheet!  \n",
    "In this exercise sheet, we will cover some of the fundamental concepts in Python programming.  \n",
    "Topics covered are: NumPy.\n",
    "\n",
    "___\n",
    "\n",
    "**DEADLINE**:  19th June until 12:15  \n",
    "**Your name here**: Jakob Speck \n",
    "**Your university mail**: jspeck@uos.de\n",
    "\n",
    "___\n",
    "\n",
    "**Important information**:  \n",
    "In order to pass this sheet you need to achieve  /  points.  \n",
    "For the best possible grade you require  /  points, however, since some harder tasks may take a lot of time you don't have to pressure yourself.  \n",
    "If you complete any three tasks on a sheet you will definitely get a good grade for that sheet.  \n",
    "Hand in your sheet in studip in the respective folder until the deadline.  \n",
    "If you receive no email until a few days after submission you will have passed, the sample solution will also be uploaded around then.  \n",
    "If you receive an email you don't need to worry, you can fail one sheet and also your total points will also be taken into account for the final pass or fail.  "
   ]
  },
  {
   "cell_type": "markdown",
   "metadata": {},
   "source": [
    "### Task 1 - Array Manipulation (4 points)\n",
    "\n",
    "Create a Python program that takes a 1D NumPy array of size 10 with random integer values between 1 and 100 (inclusive) and performs the following operations:\n",
    "\n",
    "- Create the 1D array with the specified size.\n",
    "- Reshape the array into a 2x5 matrix.\n",
    "- Transpose the matrix.\n",
    "- Finally, find the index of the maximum value in the array."
   ]
  },
  {
   "cell_type": "code",
   "execution_count": 5,
   "metadata": {},
   "outputs": [
    {
     "name": "stdout",
     "output_type": "stream",
     "text": [
      "The original array:\n",
      "[60 51 67 10 88 57 26 10 97 92]\n",
      "The reshaped array:\n",
      "[[60 51 67 10 88]\n",
      " [57 26 10 97 92]]\n",
      "The transposed array:\n",
      "[[60 57]\n",
      " [51 26]\n",
      " [67 10]\n",
      " [10 97]\n",
      " [88 92]]\n",
      "The index of the maximum value:\n",
      "7\n"
     ]
    }
   ],
   "source": [
    "import numpy as np\n",
    "\n",
    "# Create a 1D array of size 10 with random integer values between 1 and 100\n",
    "arr = np.random.randint(1, 101, 10)\n",
    "\n",
    "# Reshape the array into a 2x5 matrix\n",
    "arr_reshaped = arr.reshape(2,5)\n",
    "\n",
    "# Transpose the matrix\n",
    "arr_transposed = arr_reshaped.transpose()\n",
    "\n",
    "# Find the index of the maximum value in the array\n",
    "max_index = np.argmax(arr_transposed)\n",
    "\n",
    "# Print the original array\n",
    "print(f\"The original array:\\n{arr}\")\n",
    "\n",
    "# Print the reshaped array\n",
    "print(f\"The reshaped array:\\n{arr_reshaped}\")\n",
    "\n",
    "# Print the transposed array\n",
    "print(f\"The transposed array:\\n{arr_transposed}\")\n",
    "\n",
    "# Print the index of the maximum value\n",
    "print(f\"The index of the maximum value:\\n{max_index}\")"
   ]
  },
  {
   "cell_type": "markdown",
   "metadata": {},
   "source": [
    "### Task 2 - Standart Deviation Ratio (SDR) (4 points)\n",
    "\n",
    "Implement a Python program that calculates the standard deviation ratio (SDR) of a given 1D NumPy array. SDR represents the ratio of the standard deviation of the positive elements to the standard deviation of the negative elements.\n",
    "\n",
    "- Create a 1D array of 100 random values.\n",
    "- Split the array into positive and negative elements.\n",
    "- Calculate the standard deviations of the positive and negative arrays.\n",
    "- Calculate the standard deviation ratio (SDR)."
   ]
  },
  {
   "cell_type": "code",
   "execution_count": 6,
   "metadata": {},
   "outputs": [
    {
     "name": "stdout",
     "output_type": "stream",
     "text": [
      "Array:\n",
      "[ 48.99143597   4.35524396 -30.3099715   -1.05632504   6.62767583\n",
      "  46.07550687  41.83870526  -1.59321668  28.60273028   9.15438485\n",
      "   5.48927339  21.39703862 -44.25306442  34.55445161  13.45262677\n",
      " -34.31469185 -36.78199639  13.67435892  38.52045956 -23.84294163\n",
      " -48.5304406  -23.14911098  35.14083934 -12.94991125 -34.68488598\n",
      " -35.62756951 -34.7345139  -28.05134861 -37.73079919 -26.66613021\n",
      " -10.71408073 -45.73891823  10.65699407  -5.62427687 -33.97298786\n",
      " -13.54488952  21.01841746  25.48769445  33.6994915  -15.9762894\n",
      "  26.00752053 -28.73755713  11.9357028   42.73433162 -11.06318724\n",
      " -41.3251746   41.11189124  -2.00323236  42.37775372 -43.94678867\n",
      " -11.29319828  46.3051989   11.47255396  44.79404505  -8.16873265\n",
      " -25.08372799  23.79728141 -13.61202788  15.90537933  31.06258693\n",
      "   5.17554381 -13.8923193    7.27250734 -15.88654572 -22.16746766\n",
      "  44.24407499  22.14149171 -36.06985191 -23.82844701 -20.35441732\n",
      "  18.3271442   27.95422527  -5.57692142   0.57486713  10.17114264\n",
      "  37.23624504   5.58043558  39.34063572  10.52780632 -21.93251598\n",
      "  48.02040991 -49.89597769  16.98219433   4.94840302 -33.34232097\n",
      "   2.44732931   0.25994956 -29.51497516  48.16673236 -28.15640146\n",
      "  16.4196574   49.20789699 -24.29103197  27.10631587 -12.61089144\n",
      " -16.62742571  38.304321   -31.56287617 -45.66512482  37.38274664]\n",
      "The positive array:\n",
      "[48.99143597  4.35524396  6.62767583 46.07550687 41.83870526 28.60273028\n",
      "  9.15438485  5.48927339 21.39703862 34.55445161 13.45262677 13.67435892\n",
      " 38.52045956 35.14083934 10.65699407 21.01841746 25.48769445 33.6994915\n",
      " 26.00752053 11.9357028  42.73433162 41.11189124 42.37775372 46.3051989\n",
      " 11.47255396 44.79404505 23.79728141 15.90537933 31.06258693  5.17554381\n",
      "  7.27250734 44.24407499 22.14149171 18.3271442  27.95422527  0.57486713\n",
      " 10.17114264 37.23624504  5.58043558 39.34063572 10.52780632 48.02040991\n",
      " 16.98219433  4.94840302  2.44732931  0.25994956 48.16673236 16.4196574\n",
      " 49.20789699 27.10631587 38.304321   37.38274664]\n",
      "The negative array:\n",
      "[-30.3099715   -1.05632504  -1.59321668 -44.25306442 -34.31469185\n",
      " -36.78199639 -23.84294163 -48.5304406  -23.14911098 -12.94991125\n",
      " -34.68488598 -35.62756951 -34.7345139  -28.05134861 -37.73079919\n",
      " -26.66613021 -10.71408073 -45.73891823  -5.62427687 -33.97298786\n",
      " -13.54488952 -15.9762894  -28.73755713 -11.06318724 -41.3251746\n",
      "  -2.00323236 -43.94678867 -11.29319828  -8.16873265 -25.08372799\n",
      " -13.61202788 -13.8923193  -15.88654572 -22.16746766 -36.06985191\n",
      " -23.82844701 -20.35441732  -5.57692142 -21.93251598 -49.89597769\n",
      " -33.34232097 -29.51497516 -28.15640146 -24.29103197 -12.61089144\n",
      " -16.62742571 -31.56287617 -45.66512482]\n",
      "Standard Deviation Ratio:\n",
      "1.1708540462677755\n",
      "Array:\n",
      "[ 48.99143597   4.35524396 -30.3099715   -1.05632504   6.62767583\n",
      "  46.07550687  41.83870526  -1.59321668  28.60273028   9.15438485\n",
      "   5.48927339  21.39703862 -44.25306442  34.55445161  13.45262677\n",
      " -34.31469185 -36.78199639  13.67435892  38.52045956 -23.84294163\n",
      " -48.5304406  -23.14911098  35.14083934 -12.94991125 -34.68488598\n",
      " -35.62756951 -34.7345139  -28.05134861 -37.73079919 -26.66613021\n",
      " -10.71408073 -45.73891823  10.65699407  -5.62427687 -33.97298786\n",
      " -13.54488952  21.01841746  25.48769445  33.6994915  -15.9762894\n",
      "  26.00752053 -28.73755713  11.9357028   42.73433162 -11.06318724\n",
      " -41.3251746   41.11189124  -2.00323236  42.37775372 -43.94678867\n",
      " -11.29319828  46.3051989   11.47255396  44.79404505  -8.16873265\n",
      " -25.08372799  23.79728141 -13.61202788  15.90537933  31.06258693\n",
      "   5.17554381 -13.8923193    7.27250734 -15.88654572 -22.16746766\n",
      "  44.24407499  22.14149171 -36.06985191 -23.82844701 -20.35441732\n",
      "  18.3271442   27.95422527  -5.57692142   0.57486713  10.17114264\n",
      "  37.23624504   5.58043558  39.34063572  10.52780632 -21.93251598\n",
      "  48.02040991 -49.89597769  16.98219433   4.94840302 -33.34232097\n",
      "   2.44732931   0.25994956 -29.51497516  48.16673236 -28.15640146\n",
      "  16.4196574   49.20789699 -24.29103197  27.10631587 -12.61089144\n",
      " -16.62742571  38.304321   -31.56287617 -45.66512482  37.38274664]\n",
      "The positive array:\n",
      "[48.99143597  4.35524396  6.62767583 46.07550687 41.83870526 28.60273028\n",
      "  9.15438485  5.48927339 21.39703862 34.55445161 13.45262677 13.67435892\n",
      " 38.52045956 35.14083934 10.65699407 21.01841746 25.48769445 33.6994915\n",
      " 26.00752053 11.9357028  42.73433162 41.11189124 42.37775372 46.3051989\n",
      " 11.47255396 44.79404505 23.79728141 15.90537933 31.06258693  5.17554381\n",
      "  7.27250734 44.24407499 22.14149171 18.3271442  27.95422527  0.57486713\n",
      " 10.17114264 37.23624504  5.58043558 39.34063572 10.52780632 48.02040991\n",
      " 16.98219433  4.94840302  2.44732931  0.25994956 48.16673236 16.4196574\n",
      " 49.20789699 27.10631587 38.304321   37.38274664]\n",
      "The negative array:\n",
      "[-30.3099715   -1.05632504  -1.59321668 -44.25306442 -34.31469185\n",
      " -36.78199639 -23.84294163 -48.5304406  -23.14911098 -12.94991125\n",
      " -34.68488598 -35.62756951 -34.7345139  -28.05134861 -37.73079919\n",
      " -26.66613021 -10.71408073 -45.73891823  -5.62427687 -33.97298786\n",
      " -13.54488952 -15.9762894  -28.73755713 -11.06318724 -41.3251746\n",
      "  -2.00323236 -43.94678867 -11.29319828  -8.16873265 -25.08372799\n",
      " -13.61202788 -13.8923193  -15.88654572 -22.16746766 -36.06985191\n",
      " -23.82844701 -20.35441732  -5.57692142 -21.93251598 -49.89597769\n",
      " -33.34232097 -29.51497516 -28.15640146 -24.29103197 -12.61089144\n",
      " -16.62742571 -31.56287617 -45.66512482]\n",
      "Standard Deviation Ratio:\n",
      "1.1708540462677755\n"
     ]
    }
   ],
   "source": [
    "import numpy as np\n",
    "\n",
    "# Create a 1D array of 100 random values\n",
    "arr1 = np.random.uniform(-50, 50, 100)\n",
    "\n",
    "# Split the array into positive and negative elements\n",
    "positive_array = arr1[arr1 >= 0]\n",
    "negative_array = arr1[arr1 < 0]\n",
    "\n",
    "# Calculate the standard deviations\n",
    "positive_std_dev = np.std(positive_array)\n",
    "negative_std_dev = np.std(negative_array)\n",
    "\n",
    "# Calculate the standard deviation ratio\n",
    "sdr = positive_std_dev / negative_std_dev\n",
    "\n",
    "# Print the original array\n",
    "print(f\"Array:\\n{arr1}\")\n",
    "\n",
    "# Print the positive array\n",
    "print(f\"The positive array:\\n{positive_array}\")\n",
    "\n",
    "# Print the negative array\n",
    "print(f\"The negative array:\\n{negative_array}\")\n",
    "\n",
    "# Print the standard deviation ratio\n",
    "print(f\"Standard Deviation Ratio:\\n{sdr}\")\n",
    "\n",
    "# Print the original array\n",
    "print(f\"Array:\\n{arr1}\")\n",
    "\n",
    "# Print the positive array\n",
    "print(f\"The positive array:\\n{positive_array}\")\n",
    "\n",
    "# Print the negative array\n",
    "print(f\"The negative array:\\n{negative_array}\")\n",
    "\n",
    "# Print the standard deviation ratio\n",
    "print(f\"Standard Deviation Ratio:\\n{sdr}\")\n"
   ]
  },
  {
   "cell_type": "markdown",
   "metadata": {},
   "source": [
    "### Task 3 - Identity Matrix (3 points)\n",
    "\n",
    "Create a 5x5 identity matrix where:\n",
    "\n",
    "- All diagonal elements are equal to 0.\n",
    "- The rest of the elements should be random integers between 0 and 50 (inclusive)."
   ]
  },
  {
   "cell_type": "code",
   "execution_count": null,
   "metadata": {},
   "outputs": [],
   "source": [
    "import numpy as np\n",
    "\n",
    "# Create a 3x3 identity matrix\n",
    "identity_matrix = np.zeros((5,5))\n",
    "\n",
    "# Generate random integers between 0 and 50 (inclusive)\n",
    "random_integers = np.random.randint(0, 51, (5,5))\n",
    "\n",
    "# Replace the non-diagonal elements with random integers\n",
    "identity_matrix[~np.eye(5, dtype=bool)] = random_integers[~np.eye(5, dtype=bool)]\n",
    "\n",
    "print(identity_matrix)"
   ]
  },
  {
   "cell_type": "markdown",
   "metadata": {},
   "source": [
    "### Task 4 - Calculate the Euclidean distance between two arrays (2 points)\n",
    "The Euclidean distance measures the straight-line distance between two points in space. In this task, you will calculate the Euclidean distance between two 1-dimensional arrays using the NumPy library.\n",
    "\n",
    "**Hint:** To calculate the Euclidean distance between the two arrays, we can use the np.linalg.norm() function. This function calculates the norm, which is a generalized form of the Euclidean distance, of the difference between the arrays:\n"
   ]
  },
  {
   "cell_type": "code",
   "execution_count": 7,
   "metadata": {},
   "outputs": [
    {
     "name": "stdout",
     "output_type": "stream",
     "text": [
      "Euclidean Distance: 5.196152422706632\n"
     ]
    }
   ],
   "source": [
    "import numpy as np\n",
    "\n",
    "# Create two 1-dimensional arrays\n",
    "arr1 = np.array([1, 2, 3])\n",
    "arr2 = np.array([4, 5, 6])\n",
    "\n",
    "# Calculate the difference between the two arrays\n",
    "difference = arr2 - arr1\n",
    "\n",
    "# Calculate the Euclidean distance using the norm function from the linalg module\n",
    "distance = np.linalg.norm(difference)\n",
    "\n",
    "# Print the calculated Euclidean distance\n",
    "print(\"Euclidean Distance:\", distance)"
   ]
  },
  {
   "cell_type": "markdown",
   "metadata": {},
   "source": [
    "### Task 5 - Find the Point of Exceeding a Cumulative Sum Threshold (4 points)\n",
    "\n",
    "Generate a random 1-dimensional array of size 100 with values ranging from 0 to 9. Calculate the cumulative sum of the array and find the index where the cumulative sum exceeds 100 for the first time, then print the index.\n",
    "Description:\n",
    "In this task, you will work with a randomly generated 1-dimensional array of numerical values. Your goal is to calculate the cumulative sum of the array, which represents the running total of the values. Then, you need to identify the position in the array where the cumulative sum exceeds a specific threshold."
   ]
  },
  {
   "cell_type": "code",
   "execution_count": 8,
   "metadata": {},
   "outputs": [
    {
     "name": "stdout",
     "output_type": "stream",
     "text": [
      "[  3  10  14  14  21  25  26  29  29  35  44  46  51  53  57  63  66  66\n",
      "  68  77  81  90  93  93 100 105 109 115 115 120 120 129 134 139 148 157\n",
      " 160 160 169 169 174 180 186 195 201 208 216 217 224 232 233 242 245 247\n",
      " 247 253 254 258 260 263 263 270 277 282 289 296 297 303 308 309 318 322\n",
      " 328 335 335 342 351 358 361 366 368 374 379 381 381 384 385 394 396 403\n",
      " 411 420 426 426 430 439 442 449 451 452]\n",
      "Index where cumulative sum exceeds 100 : 25\n"
     ]
    }
   ],
   "source": [
    "import numpy as np\n",
    "\n",
    "# Generate a random 1-dimensional array of size 100 with values ranging from 0 to 9\n",
    "arr = np.random.randint(0, 10, size=100)\n",
    "\n",
    "# Calculate the cumulative sum of the array\n",
    "cumulative_sum = np.cumsum(arr)\n",
    "\n",
    "# Set the threshold value\n",
    "threshold = 100\n",
    "\n",
    "# Find the index where the cumulative sum first exceeds the threshold\n",
    "index = np.argmax(cumulative_sum > threshold)\n",
    "\n",
    "# Print the index where the cumulative sum exceeds the threshold\n",
    "print(\"Index where cumulative sum exceeds\", threshold, \":\", index)\n",
    "\n"
   ]
  },
  {
   "cell_type": "markdown",
   "metadata": {},
   "source": [
    "### Task 6 - Performing Linear Algebra Operations (3 points)\n",
    "Description: In this task, you will work with a randomly generated 2-dimensional array and perform linear algebra operations using NumPy. You will calculate the determinant of the array, compute its inverse, and verify that the product of the array and its inverse yields the identity matrix. This task provides an opportunity to explore fundamental linear algebra concepts, such as determinants, matrix inverses, and the properties of the identity matrix, using NumPy.\n",
    "\n",
    "1. Create a 2-dimensional array with shape (2, 2) and fill it with random integers between 1 and 9.\n",
    "2. Calculate the determinant of the array.\n",
    "3. Compute the inverse of the array.\n",
    "4. Multiply the array by its inverse.\n",
    "5. Print the final array."
   ]
  },
  {
   "cell_type": "code",
   "execution_count": 15,
   "metadata": {},
   "outputs": [
    {
     "name": "stdout",
     "output_type": "stream",
     "text": [
      "Identity Matrix:\n",
      " [[1.00000000e+00 2.22044605e-16]\n",
      " [1.11022302e-16 1.00000000e+00]]\n"
     ]
    }
   ],
   "source": [
    "import numpy as np\n",
    "\n",
    "# Generate a random 2-dimensional array with shape (2, 2) and random integers between 1 and 9\n",
    "arr = np.random.randint(1, 10, size=(2,2))\n",
    "\n",
    "# Calculate the determinant of the array\n",
    "determinant = np.linalg.det(arr)\n",
    "\n",
    "# Compute the inverse of the array\n",
    "inverse = np.linalg.inv(arr)\n",
    "\n",
    "# Multiply the array by its inverse to obtain the identity matrix\n",
    "identity = np.dot(arr, inverse)\n",
    "\n",
    "# Print the resulting identity matrix\n",
    "print(\"Identity Matrix:\\n\", identity)\n"
   ]
  }
 ],
 "metadata": {
  "kernelspec": {
   "display_name": "Python 3 (ipykernel)",
   "language": "python",
   "name": "python3"
  },
  "language_info": {
   "codemirror_mode": {
    "name": "ipython",
    "version": 3
   },
   "file_extension": ".py",
   "mimetype": "text/x-python",
   "name": "python",
   "nbconvert_exporter": "python",
   "pygments_lexer": "ipython3",
   "version": "3.10.9"
  }
 },
 "nbformat": 4,
 "nbformat_minor": 4
}
