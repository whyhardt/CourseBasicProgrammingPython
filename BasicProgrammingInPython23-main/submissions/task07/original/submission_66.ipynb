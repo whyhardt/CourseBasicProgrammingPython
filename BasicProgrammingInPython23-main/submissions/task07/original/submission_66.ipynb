{
 "cells": [
  {
   "attachments": {},
   "cell_type": "markdown",
   "metadata": {},
   "source": [
    "# Coding Tasks - Week 7\n",
    "Welcome to the Python Programming Exercise Sheet!  \n",
    "In this exercise sheet, we will cover some of the fundamental concepts in Python programming.  \n",
    "Topics covered are: NumPy.\n",
    "\n",
    "___\n",
    "\n",
    "**DEADLINE**:  19th June until 12:15  \n",
    "**Your name here**: Julia Neidig  \n",
    "**Your university mail**: jneidig@uos.de\n",
    "\n",
    "___\n",
    "\n",
    "**Important information**:  \n",
    "In order to pass this sheet you need to achieve  /  points.  \n",
    "For the best possible grade you require  /  points, however, since some harder tasks may take a lot of time you don't have to pressure yourself.  \n",
    "If you complete any three tasks on a sheet you will definitely get a good grade for that sheet.  \n",
    "Hand in your sheet in studip in the respective folder until the deadline.  \n",
    "If you receive no email until a few days after submission you will have passed, the sample solution will also be uploaded around then.  \n",
    "If you receive an email you don't need to worry, you can fail one sheet and also your total points will also be taken into account for the final pass or fail.  "
   ]
  },
  {
   "attachments": {},
   "cell_type": "markdown",
   "metadata": {},
   "source": [
    "### Task 1 - Array Manipulation (n points)\n",
    "\n",
    "Create a Python program that takes a 1D NumPy array of size 10 with random integer values between 1 and 100 (inclusive) and performs the following operations:\n",
    "\n",
    "- Create the 1D array with the specified size.\n",
    "- Reshape the array into a 2x5 matrix.\n",
    "- Transpose the matrix.\n",
    "- Finally, find the index of the maximum value in the array."
   ]
  },
  {
   "cell_type": "code",
   "execution_count": 1,
   "metadata": {},
   "outputs": [
    {
     "name": "stdout",
     "output_type": "stream",
     "text": [
      "The original array:\n",
      "[30 64 41 56 99 85 80 37 25 53]\n",
      "The reshaped array:\n",
      "[[30 64 41 56 99]\n",
      " [85 80 37 25 53]]\n",
      "The transposed array:\n",
      "[[30 85]\n",
      " [64 80]\n",
      " [41 37]\n",
      " [56 25]\n",
      " [99 53]]\n",
      "The index of the maximum value:\n",
      "4\n"
     ]
    }
   ],
   "source": [
    "import numpy as np\n",
    "\n",
    "# Create a 1D array of size 10 with random integer values between 1 and 100\n",
    "arr = np.random.randint(1, 101, 10)\n",
    "\n",
    "# Reshape the array into a 2x5 matrix\n",
    "arr_reshaped = np.reshape(arr, (2, 5))\n",
    "\n",
    "# Transpose the matrix\n",
    "arr_transposed = np.transpose(arr_reshaped)\n",
    "\n",
    "# Find the index of the maximum value in the array\n",
    "max_index = arr.argmax()\n",
    "\n",
    "# Print the original array\n",
    "print(f\"The original array:\\n{arr}\")\n",
    "\n",
    "# Print the reshaped array\n",
    "print(f\"The reshaped array:\\n{arr_reshaped}\")\n",
    "\n",
    "# Print the transposed array\n",
    "print(f\"The transposed array:\\n{arr_transposed}\")\n",
    "\n",
    "# Print the index of the maximum value\n",
    "print(f\"The index of the maximum value:\\n{max_index}\")\n"
   ]
  },
  {
   "attachments": {},
   "cell_type": "markdown",
   "metadata": {},
   "source": [
    "### Task 2 - Standart Deviation Ratio (SDR) (n points)\n",
    "\n",
    "Implement a Python program that calculates the standard deviation ratio (SDR) of a given 1D NumPy array. SDR represents the ratio of the standard deviation of the positive elements to the standard deviation of the negative elements.\n",
    "\n",
    "- Create a 1D array of 100 random values.\n",
    "- Split the array into positive and negative elements.\n",
    "- Calculate the standard deviations of the positive and negative arrays.\n",
    "- Calculate the standard deviation ratio (SDR)."
   ]
  },
  {
   "cell_type": "code",
   "execution_count": 9,
   "metadata": {},
   "outputs": [
    {
     "name": "stdout",
     "output_type": "stream",
     "text": [
      "Array:\n",
      "[-0.99495672 -2.83470318  1.44963565 -0.22302121 -0.18006366 -0.99834455\n",
      " -1.85576487 -0.6156516   1.31826561  0.25449657  0.70725118 -1.68012016\n",
      " -0.05288515 -0.11405661 -0.13254986 -0.39269568 -0.44619813 -0.11394188\n",
      " -0.15395364  0.6896789  -2.11115195  0.70785835 -0.80746201 -0.49929613\n",
      " -1.56130493  0.26603028  0.48502526 -1.09924492  0.96950115 -1.83333922\n",
      " -2.5187846   1.05132539  1.29352104 -0.04128371 -1.01403078 -0.90787235\n",
      " -1.28859832 -1.54976127  0.44323806  1.3090928   1.1533272  -3.24181265\n",
      "  0.8606594  -0.86217937  0.03387448  1.93831277 -1.80659651 -0.81260574\n",
      "  0.83648187  0.53305739 -1.09414308 -0.51978604  0.27435918  0.54411304\n",
      " -0.96924089 -0.17622384 -0.37818217  2.14606527 -2.23220689  0.70749751\n",
      " -1.26040593 -0.4798805  -0.75989879 -1.03240066  1.42070364  1.20859591\n",
      " -0.73138303  1.75900699 -0.79033374 -1.30699298  1.0105245  -0.74908317\n",
      "  0.44929206 -0.71041239 -0.28446786 -0.79791736  0.45741847  1.31732548\n",
      "  1.16303684 -0.10863638 -1.50485331 -1.5702883   0.5227365   0.29086271\n",
      " -0.8538414  -1.74651326 -0.36894455 -0.46862376  1.77445084 -1.13485537\n",
      " -0.02966175  0.49525186  0.33892121  0.01496551  1.04376317 -0.08470258\n",
      "  0.01532446 -0.90245785  0.46850703 -1.8399004 ]\n",
      "The positive array:\n",
      "[1.44963565 1.31826561 0.25449657 0.70725118 0.6896789  0.70785835\n",
      " 0.26603028 0.48502526 0.96950115 1.05132539 1.29352104 0.44323806\n",
      " 1.3090928  1.1533272  0.8606594  0.03387448 1.93831277 0.83648187\n",
      " 0.53305739 0.27435918 0.54411304 2.14606527 0.70749751 1.42070364\n",
      " 1.20859591 1.75900699 1.0105245  0.44929206 0.45741847 1.31732548\n",
      " 1.16303684 0.5227365  0.29086271 1.77445084 0.49525186 0.33892121\n",
      " 0.01496551 1.04376317 0.01532446 0.46850703]\n",
      "The negative array:\n",
      "[-0.99495672 -2.83470318 -0.22302121 -0.18006366 -0.99834455 -1.85576487\n",
      " -0.6156516  -1.68012016 -0.05288515 -0.11405661 -0.13254986 -0.39269568\n",
      " -0.44619813 -0.11394188 -0.15395364 -2.11115195 -0.80746201 -0.49929613\n",
      " -1.56130493 -1.09924492 -1.83333922 -2.5187846  -0.04128371 -1.01403078\n",
      " -0.90787235 -1.28859832 -1.54976127 -3.24181265 -0.86217937 -1.80659651\n",
      " -0.81260574 -1.09414308 -0.51978604 -0.96924089 -0.17622384 -0.37818217\n",
      " -2.23220689 -1.26040593 -0.4798805  -0.75989879 -1.03240066 -0.73138303\n",
      " -0.79033374 -1.30699298 -0.74908317 -0.71041239 -0.28446786 -0.79791736\n",
      " -0.10863638 -1.50485331 -1.5702883  -0.8538414  -1.74651326 -0.36894455\n",
      " -0.46862376 -1.13485537 -0.02966175 -0.08470258 -0.90245785 -1.8399004 ]\n",
      "Standard Deviation Ratio:\n",
      "0.7362034331609729\n"
     ]
    }
   ],
   "source": [
    "import numpy as np\n",
    "\n",
    "# Create a 1D array of 100 random values\n",
    "arr1 = np.random.randn(100)\n",
    "\n",
    "# we can also use randint to work only with integers and to decide between which values to random values should be\n",
    "#arr1 = np.random.randint(-100, 101, 100)\n",
    "\n",
    "\n",
    "# Split the array into positive and negative elements\n",
    "positive_array = arr1[arr1>0]\n",
    "negative_array = arr1[arr1<0]\n",
    "\n",
    "# Calculate the standard deviations\n",
    "positive_std_dev = np.std(positive_array)\n",
    "negative_std_dev = np.std(negative_array)\n",
    "\n",
    "# Calculate the standard deviation ratio\n",
    "sdr = positive_std_dev/negative_std_dev\n",
    "\n",
    "# Print the original array\n",
    "print(f\"Array:\\n{arr1}\")\n",
    "\n",
    "# Print the positive array\n",
    "print(f\"The positive array:\\n{positive_array}\")\n",
    "\n",
    "# Print the negative array\n",
    "print(f\"The negative array:\\n{negative_array}\")\n",
    "\n",
    "# Print the standard deviation ratio\n",
    "print(f\"Standard Deviation Ratio:\\n{sdr}\")\n"
   ]
  },
  {
   "attachments": {},
   "cell_type": "markdown",
   "metadata": {},
   "source": [
    "### Task 3 - Identity Matrix (n points)\n",
    "\n",
    "Create a 5x5 identity matrix where:\n",
    "\n",
    "- All diagonal elements are equal to 0.\n",
    "- The rest of the elements should be random integers between 0 and 50 (inclusive)."
   ]
  },
  {
   "cell_type": "code",
   "execution_count": 19,
   "metadata": {},
   "outputs": [
    {
     "name": "stdout",
     "output_type": "stream",
     "text": [
      "[[0. 0. 0. 0. 0.]\n",
      " [0. 0. 0. 0. 0.]\n",
      " [0. 0. 0. 0. 0.]\n",
      " [0. 0. 0. 0. 0.]\n",
      " [0. 0. 0. 0. 0.]]\n",
      "[[ 0. 24. 38. 33.  9.]\n",
      " [42.  0. 20. 22.  2.]\n",
      " [ 1. 11.  0. 35. 20.]\n",
      " [18.  4.  8.  0. 24.]\n",
      " [48. 24. 18. 29.  0.]]\n"
     ]
    }
   ],
   "source": [
    "import numpy as np\n",
    "\n",
    "# Create a 3x3 identity matrix\n",
    "#in the task it said 5x5, not 3x3, so i decided for 5x5\n",
    "identity_matrix = np.zeros((5, 5))\n",
    "\n",
    "#print to check if array containing only 0 is created\n",
    "print(identity_matrix)\n",
    "\n",
    "\n",
    "# Generate random integers between 0 and 50 (inclusive)\n",
    "random_integers = np.random.randint(0,51, size = (5,5))\n",
    "\n",
    "# Replace the non-diagonal elements with random integers\n",
    "identity_matrix[~np.eye(5, dtype=bool)] = random_integers[~np.eye(5, dtype=bool)]\n",
    "\n",
    "print(identity_matrix)\n"
   ]
  },
  {
   "attachments": {},
   "cell_type": "markdown",
   "metadata": {},
   "source": [
    "### Task 4 - Calculate the Euclidean distance between two arrays (n points)\n",
    "The Euclidean distance measures the straight-line distance between two points in space. In this task, you will calculate the Euclidean distance between two 1-dimensional arrays using the NumPy library.\n",
    "\n",
    "**Hint:** To calculate the Euclidean distance between the two arrays, we can use the np.linalg.norm() function. This function calculates the norm, which is a generalized form of the Euclidean distance, of the difference between the arrays:\n"
   ]
  },
  {
   "cell_type": "code",
   "execution_count": 21,
   "metadata": {},
   "outputs": [
    {
     "name": "stdout",
     "output_type": "stream",
     "text": [
      "Euclidean Distance: 5.196152422706632\n"
     ]
    }
   ],
   "source": [
    "import numpy as np\n",
    "\n",
    "# Create two 1-dimensional arrays\n",
    "arr1 = np.array([1, 2, 3])\n",
    "arr2 = np.array([4, 5, 6])\n",
    "\n",
    "# Calculate the difference between the two arrays\n",
    "difference = arr1 - arr2\n",
    "\n",
    "# Calculate the Euclidean distance using the norm function from the linalg module\n",
    "distance = np.linalg.norm(difference)\n",
    "\n",
    "# Print the calculated Euclidean distance\n",
    "print(\"Euclidean Distance:\", distance)"
   ]
  },
  {
   "attachments": {},
   "cell_type": "markdown",
   "metadata": {},
   "source": [
    "### Task 5 - Find the Point of Exceeding a Cumulative Sum Threshold (n points)\n",
    "\n",
    "Generate a random 1-dimensional array of size 100 with values ranging from 0 to 9. Calculate the cumulative sum of the array and find the index where the cumulative sum exceeds 100 for the first time, then print the index.\n",
    "Description:\n",
    "In this task, you will work with a randomly generated 1-dimensional array of numerical values. Your goal is to calculate the cumulative sum of the array, which represents the running total of the values. Then, you need to identify the position in the array where the cumulative sum exceeds a specific threshold."
   ]
  },
  {
   "cell_type": "code",
   "execution_count": 24,
   "metadata": {},
   "outputs": [
    {
     "name": "stdout",
     "output_type": "stream",
     "text": [
      "[2 0 3 3 6 9 3 9 7 7 1 6 8 9 6 2 1 6 3 9 8 1 5 6 7 2 6 3 7 7 3 2 2 9 9 1 4\n",
      " 0 7 0 1 3 4 3 9 7 7 9 2 0 5 2 8 0 6 9 9 3 4 5 9 9 4 2 5 3 5 9 4 1 3 2 9 8\n",
      " 2 3 2 0 4 0 3 9 0 7 5 5 2 9 3 8 8 4 4 8 2 5 7 8 5 5]\n",
      "Index where cumulative sum exceeds 100 : 20\n"
     ]
    }
   ],
   "source": [
    "import numpy as np\n",
    "\n",
    "# Generate a random 1-dimensional array of size 100 with values ranging from 0 to 9\n",
    "arr = np.random.randint(0, 10, size=100)\n",
    "\n",
    "#print array\n",
    "print(arr)\n",
    "\n",
    "# Calculate the cumulative sum of the array\n",
    "cumulative_sum = np.cumsum(arr)\n",
    "\n",
    "# Set the threshold value\n",
    "threshold = 100\n",
    "\n",
    "# Find the index where the cumulative sum first exceeds the threshold\n",
    "index = np.argmax(cumulative_sum > threshold)\n",
    "\n",
    "# Print the index where the cumulative sum exceeds the threshold\n",
    "print(\"Index where cumulative sum exceeds\", threshold, \":\", index)\n"
   ]
  },
  {
   "attachments": {},
   "cell_type": "markdown",
   "metadata": {},
   "source": [
    "### Task 6 - Performing Linear Algebra Operations (n points)\n",
    "Description: In this task, you will work with a randomly generated 2-dimensional array and perform linear algebra operations using NumPy. You will calculate the determinant of the array, compute its inverse, and verify that the product of the array and its inverse yields the identity matrix. This task provides an opportunity to explore fundamental linear algebra concepts, such as determinants, matrix inverses, and the properties of the identity matrix, using NumPy.\n",
    "\n",
    "1. Create a 2-dimensional array with shape (2, 2) and fill it with random integers between 1 and 9.\n",
    "2. Calculate the determinant of the array.\n",
    "3. Compute the inverse of the array.\n",
    "4. Multiply the array by its inverse.\n",
    "5. Print the final array."
   ]
  },
  {
   "cell_type": "code",
   "execution_count": 74,
   "metadata": {},
   "outputs": [
    {
     "name": "stdout",
     "output_type": "stream",
     "text": [
      "Identity Matrix:\n",
      " [[1. 0.]\n",
      " [0. 1.]]\n"
     ]
    }
   ],
   "source": [
    "import numpy as np\n",
    "\n",
    "# Generate a random 2-dimensional array with shape (2, 2) and random integers between 1 and 9\n",
    "arr = np.random.randint(1, 10, size = (2,2))\n",
    "\n",
    "\n",
    "# Calculate the determinant of the array\n",
    "determinant = np.linalg.det(arr)\n",
    "\n",
    "# Compute the inverse of the array\n",
    "inverse = np.linalg.inv(arr)\n",
    "\n",
    "# Multiply the array by its inverse to obtain the identity matrix\n",
    "\n",
    "#Playing around with different multiplication functions\n",
    "#identity = np.dot(arr, inverse)\n",
    "#identity = np.matmul(arr, inverse)\n",
    "\n",
    "identity = arr@inverse\n",
    "\n",
    "# Print the resulting identity matrix\n",
    "print(\"Identity Matrix:\\n\", identity)\n"
   ]
  }
 ],
 "metadata": {
  "kernelspec": {
   "display_name": "Python 3",
   "language": "python",
   "name": "python3"
  },
  "language_info": {
   "codemirror_mode": {
    "name": "ipython",
    "version": 3
   },
   "file_extension": ".py",
   "mimetype": "text/x-python",
   "name": "python",
   "nbconvert_exporter": "python",
   "pygments_lexer": "ipython3",
   "version": "3.11.0"
  },
  "orig_nbformat": 4
 },
 "nbformat": 4,
 "nbformat_minor": 2
}
