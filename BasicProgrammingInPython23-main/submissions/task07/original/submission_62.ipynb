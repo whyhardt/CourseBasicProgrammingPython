{
 "cells": [
  {
   "attachments": {},
   "cell_type": "markdown",
   "metadata": {},
   "source": [
    "# Coding Tasks - Week 7\n",
    "Welcome to the Python Programming Exercise Sheet!  \n",
    "In this exercise sheet, we will cover some of the fundamental concepts in Python programming.  \n",
    "Topics covered are: NumPy.\n",
    "\n",
    "___\n",
    "\n",
    "**DEADLINE**:  19th June until 12:15  \n",
    "**Your name here**: Ilva Hovemann  \n",
    "**Your university mail**: ihovemann@uos.de\n",
    "\n",
    "___\n",
    "\n",
    "**Important information**:  \n",
    "In order to pass this sheet you need to achieve  /  points.  \n",
    "For the best possible grade you require  /  points, however, since some harder tasks may take a lot of time you don't have to pressure yourself.  \n",
    "If you complete any three tasks on a sheet you will definitely get a good grade for that sheet.  \n",
    "Hand in your sheet in studip in the respective folder until the deadline.  \n",
    "If you receive no email until a few days after submission you will have passed, the sample solution will also be uploaded around then.  \n",
    "If you receive an email you don't need to worry, you can fail one sheet and also your total points will also be taken into account for the final pass or fail.  "
   ]
  },
  {
   "attachments": {},
   "cell_type": "markdown",
   "metadata": {},
   "source": [
    "### Task 1 - Array Manipulation (4 points)\n",
    "\n",
    "Create a Python program that takes a 1D NumPy array of size 10 with random integer values between 1 and 100 (inclusive) and performs the following operations:\n",
    "\n",
    "- Create the 1D array with the specified size.\n",
    "- Reshape the array into a 2x5 matrix.\n",
    "- Transpose the matrix.\n",
    "- Finally, find the index of the maximum value in the array."
   ]
  },
  {
   "cell_type": "code",
   "execution_count": 1,
   "metadata": {},
   "outputs": [
    {
     "name": "stdout",
     "output_type": "stream",
     "text": [
      "The original array:\n",
      "[23 82 87 12 33 11 39 63 51 82]\n",
      "The reshaped array:\n",
      "[[23 82 87 12 33]\n",
      " [11 39 63 51 82]]\n",
      "The transposed array:\n",
      "[[23 11]\n",
      " [82 39]\n",
      " [87 63]\n",
      " [12 51]\n",
      " [33 82]]\n",
      "The index of the maximum value:\n",
      "87\n"
     ]
    }
   ],
   "source": [
    "import numpy as np\n",
    "\n",
    "# Create a 1D array of size 10 with random integer values between 1 and 100\n",
    "arr = np.random.randint(1, 101, 10)\n",
    "\n",
    "# Reshape the array into a 2x5 matrix\n",
    "arr_reshaped = np.reshape(arr, (2,5))\n",
    "\n",
    "# Transpose the matrix\n",
    "arr_transposed = np.transpose(arr_reshaped)\n",
    "\n",
    "# Find the index of the maximum value in the array\n",
    "max_index = np.amax(arr_transposed)\n",
    "\n",
    "# Print the original array\n",
    "print(f\"The original array:\\n{arr}\")\n",
    "\n",
    "# Print the reshaped array\n",
    "print(f\"The reshaped array:\\n{arr_reshaped}\")\n",
    "\n",
    "# Print the transposed array\n",
    "print(f\"The transposed array:\\n{arr_transposed}\")\n",
    "\n",
    "# Print the index of the maximum value\n",
    "print(f\"The index of the maximum value:\\n{max_index}\")"
   ]
  },
  {
   "attachments": {},
   "cell_type": "markdown",
   "metadata": {},
   "source": [
    "### Task 2 - Standart Deviation Ratio (SDR) (4 points)\n",
    "\n",
    "Implement a Python program that calculates the standard deviation ratio (SDR) of a given 1D NumPy array. SDR represents the ratio of the standard deviation of the positive elements to the standard deviation of the negative elements.\n",
    "\n",
    "- Create a 1D array of 100 random values.\n",
    "- Split the array into positive and negative elements.\n",
    "- Calculate the standard deviations of the positive and negative arrays.\n",
    "- Calculate the standard deviation ratio (SDR)."
   ]
  },
  {
   "cell_type": "code",
   "execution_count": 2,
   "metadata": {},
   "outputs": [
    {
     "name": "stdout",
     "output_type": "stream",
     "text": [
      "Array:\n",
      "[ 0.68670336 -0.90876365  0.31943969  0.14635463 -0.13671441  1.0365448\n",
      "  0.63776785  0.5011458   0.24878107  1.46632574  1.33646733 -0.1583746\n",
      " -0.02010799 -1.25989699  1.01917237  0.158035    0.43667223 -1.9808725\n",
      "  0.24038575  0.14956576 -2.02484491 -0.6626612   0.46516123 -0.46994674\n",
      " -0.44954108  0.53194497  0.14422392 -1.4299433  -0.49664801  1.28215911\n",
      "  0.60645265  1.30759192 -0.6194579   0.55002929  0.24601219 -1.71846408\n",
      "  1.10645698  1.04820064 -1.64593513  0.11779703 -0.44480249  0.35267123\n",
      " -0.23567476  1.74646605 -0.36604909 -0.36858834 -0.43879418  2.40705318\n",
      "  0.7296735   0.91828641  0.38601857 -1.41179001 -1.01823655 -1.07889364\n",
      " -0.29154288 -0.70038581  0.26544224  0.66876328  0.66072099  0.87536747\n",
      "  0.7254615   0.76925765  1.12352444  0.25617769 -1.01212476  0.21220254\n",
      "  0.42972532 -0.86135834 -0.8053767  -1.25391872  1.36550697  0.79684674\n",
      "  0.55881063  0.11622239  0.00822737 -0.29354411  0.01552274 -0.08072961\n",
      "  0.15540172  1.20018038 -0.08724176 -0.20370585 -0.6211822   1.19995114\n",
      " -1.14330318  2.40011152 -0.23609246 -0.6876491  -0.48021098  0.64411154\n",
      "  1.18968389  1.74058236 -2.61353904 -2.43658198  0.50116764 -0.35071379\n",
      "  0.99737377 -0.94396038  0.47562083  1.70868116]\n",
      "The positive array:\n",
      "[0.68670336 0.31943969 0.14635463 1.0365448  0.63776785 0.5011458\n",
      " 0.24878107 1.46632574 1.33646733 1.01917237 0.158035   0.43667223\n",
      " 0.24038575 0.14956576 0.46516123 0.53194497 0.14422392 1.28215911\n",
      " 0.60645265 1.30759192 0.55002929 0.24601219 1.10645698 1.04820064\n",
      " 0.11779703 0.35267123 1.74646605 2.40705318 0.7296735  0.91828641\n",
      " 0.38601857 0.26544224 0.66876328 0.66072099 0.87536747 0.7254615\n",
      " 0.76925765 1.12352444 0.25617769 0.21220254 0.42972532 1.36550697\n",
      " 0.79684674 0.55881063 0.11622239 0.00822737 0.01552274 0.15540172\n",
      " 1.20018038 1.19995114 2.40011152 0.64411154 1.18968389 1.74058236\n",
      " 0.50116764 0.99737377 0.47562083 1.70868116]\n",
      "The negative array:\n",
      "[-0.90876365 -0.13671441 -0.1583746  -0.02010799 -1.25989699 -1.9808725\n",
      " -2.02484491 -0.6626612  -0.46994674 -0.44954108 -1.4299433  -0.49664801\n",
      " -0.6194579  -1.71846408 -1.64593513 -0.44480249 -0.23567476 -0.36604909\n",
      " -0.36858834 -0.43879418 -1.41179001 -1.01823655 -1.07889364 -0.29154288\n",
      " -0.70038581 -1.01212476 -0.86135834 -0.8053767  -1.25391872 -0.29354411\n",
      " -0.08072961 -0.08724176 -0.20370585 -0.6211822  -1.14330318 -0.23609246\n",
      " -0.6876491  -0.48021098 -2.61353904 -2.43658198 -0.35071379 -0.94396038]\n",
      "Standard Deviation Ratio:\n",
      "0.8631424163645665\n"
     ]
    }
   ],
   "source": [
    "import numpy as np\n",
    "\n",
    "# Create a 1D array of 100 random values\n",
    "#arr1 = np.random.uniform(-2, 2, 100)\n",
    "arr1 = np.random.randn(100)\n",
    "\n",
    "# Split the array into positive and negative elements\n",
    "positive_array = arr1[arr1 >= 0]\n",
    "negative_array = arr1[arr1 < 0]\n",
    "\n",
    "# Calculate the standard deviations\n",
    "positive_std_dev = np.std(positive_array)\n",
    "negative_std_dev = np.std(negative_array)\n",
    "\n",
    "# Calculate the standard deviation ratio\n",
    "sdr = positive_std_dev / negative_std_dev\n",
    "\n",
    "# Print the original array\n",
    "print(f\"Array:\\n{arr1}\")\n",
    "\n",
    "# Print the positive array\n",
    "print(f\"The positive array:\\n{positive_array}\")\n",
    "\n",
    "# Print the negative array\n",
    "print(f\"The negative array:\\n{negative_array}\")\n",
    "\n",
    "# Print the standard deviation ratio\n",
    "print(f\"Standard Deviation Ratio:\\n{sdr}\")\n"
   ]
  },
  {
   "attachments": {},
   "cell_type": "markdown",
   "metadata": {},
   "source": [
    "### Task 3 - Identity Matrix (3 points)\n",
    "\n",
    "Create a 5x5 identity matrix where:\n",
    "\n",
    "- All diagonal elements are equal to 0.\n",
    "- The rest of the elements should be random integers between 0 and 50 (inclusive)."
   ]
  },
  {
   "cell_type": "code",
   "execution_count": 3,
   "metadata": {},
   "outputs": [
    {
     "name": "stdout",
     "output_type": "stream",
     "text": [
      "[[ 0. 36. 26. 32. 32.]\n",
      " [16.  0. 14.  1. 49.]\n",
      " [32. 25.  0. 41. 34.]\n",
      " [10. 25. 21.  0. 18.]\n",
      " [45.  0.  7. 28.  0.]]\n"
     ]
    }
   ],
   "source": [
    "import numpy as np\n",
    "\n",
    "# Create a 5x5 identity matrix\n",
    "identity_matrix = np.zeros((5,5))\n",
    "\n",
    "# Generate random integers between 0 and 50 (inclusive)\n",
    "random_integers = np.random.randint(0, 51, (5,5))\n",
    "\n",
    "# Replace the non-diagonal elements with random integers\n",
    "identity_matrix[~np.eye(5, dtype=bool)] = random_integers[~np.eye(5, dtype=bool)]\n",
    "\n",
    "print(identity_matrix)\n"
   ]
  },
  {
   "attachments": {},
   "cell_type": "markdown",
   "metadata": {},
   "source": [
    "### Task 4 - Calculate the Euclidean distance between two arrays (2 points)\n",
    "The Euclidean distance measures the straight-line distance between two points in space. In this task, you will calculate the Euclidean distance between two 1-dimensional arrays using the NumPy library.\n",
    "\n",
    "**Hint:** To calculate the Euclidean distance between the two arrays, we can use the np.linalg.norm() function. This function calculates the norm, which is a generalized form of the Euclidean distance, of the difference between the arrays:\n"
   ]
  },
  {
   "cell_type": "code",
   "execution_count": 4,
   "metadata": {},
   "outputs": [
    {
     "name": "stdout",
     "output_type": "stream",
     "text": [
      "Euclidean Distance: 5.196152422706632\n"
     ]
    }
   ],
   "source": [
    "import numpy as np\n",
    "\n",
    "# Create two 1-dimensional arrays\n",
    "arr1 = np.array([1, 2, 3])\n",
    "arr2 = np.array([4, 5, 6])\n",
    "\n",
    "# Calculate the difference between the two arrays\n",
    "difference = arr1 - arr2\n",
    "\n",
    "# Calculate the Euclidean distance using the norm function from the linalg module\n",
    "distance = np.linalg.norm(difference)\n",
    "\n",
    "# Print the calculated Euclidean distance\n",
    "print(\"Euclidean Distance:\", distance)"
   ]
  },
  {
   "attachments": {},
   "cell_type": "markdown",
   "metadata": {},
   "source": [
    "### Task 5 - Find the Point of Exceeding a Cumulative Sum Threshold (4 points)\n",
    "\n",
    "Generate a random 1-dimensional array of size 100 with values ranging from 0 to 9. Calculate the cumulative sum of the array and find the index where the cumulative sum exceeds 100 for the first time, then print the index.\n",
    "Description:\n",
    "In this task, you will work with a randomly generated 1-dimensional array of numerical values. Your goal is to calculate the cumulative sum of the array, which represents the running total of the values. Then, you need to identify the position in the array where the cumulative sum exceeds a specific threshold."
   ]
  },
  {
   "cell_type": "code",
   "execution_count": 5,
   "metadata": {},
   "outputs": [
    {
     "name": "stdout",
     "output_type": "stream",
     "text": [
      "Index where cumulative sum exceeds 100 : 23\n"
     ]
    }
   ],
   "source": [
    "import numpy as np\n",
    "\n",
    "# Generate a random 1-dimensional array of size 100 with values ranging from 0 to 9\n",
    "arr = np.random.randint(0, 10, size=100)\n",
    "\n",
    "# Calculate the cumulative sum of the array\n",
    "cumulative_sum = np.cumsum(arr)\n",
    "\n",
    "# Set the threshold value\n",
    "threshold = 100\n",
    "\n",
    "# Find the index where the cumulative sum first exceeds the threshold\n",
    "index = np.argmax(cumulative_sum > threshold)\n",
    "\n",
    "# Print the index where the cumulative sum exceeds the threshold\n",
    "print(\"Index where cumulative sum exceeds\", threshold, \":\", index)\n"
   ]
  },
  {
   "attachments": {},
   "cell_type": "markdown",
   "metadata": {},
   "source": [
    "### Task 6 - Performing Linear Algebra Operations (3 points)\n",
    "Description: In this task, you will work with a randomly generated 2-dimensional array and perform linear algebra operations using NumPy. You will calculate the determinant of the array, compute its inverse, and verify that the product of the array and its inverse yields the identity matrix. This task provides an opportunity to explore fundamental linear algebra concepts, such as determinants, matrix inverses, and the properties of the identity matrix, using NumPy.\n",
    "\n",
    "1. Create a 2-dimensional array with shape (2, 2) and fill it with random integers between 1 and 9.\n",
    "2. Calculate the determinant of the array.\n",
    "3. Compute the inverse of the array.\n",
    "4. Multiply the array by its inverse.\n",
    "5. Print the final array."
   ]
  },
  {
   "cell_type": "code",
   "execution_count": null,
   "metadata": {},
   "outputs": [],
   "source": [
    "import numpy as np\n",
    "\n",
    "# Generate a random 2-dimensional array with shape (2, 2) and random integers between 1 and 9\n",
    "arr = np.random.randint(1, 10, (2,2))\n",
    "\n",
    "# Calculate the determinant of the array\n",
    "determinant = np.linalg.det(arr)\n",
    "\n",
    "# Compute the inverse of the array\n",
    "inverse = np.linalg.inv(arr)\n",
    "\n",
    "# Multiply the array by its inverse to obtain the identity matrix\n",
    "identity = np.multiply(arr, inverse)\n",
    "\n",
    "# Print the resulting identity matrix\n",
    "print(\"Identity Matrix:\\n\", identity)\n"
   ]
  }
 ],
 "metadata": {
  "kernelspec": {
   "display_name": "Python 3 (ipykernel)",
   "language": "python",
   "name": "python3"
  },
  "language_info": {
   "codemirror_mode": {
    "name": "ipython",
    "version": 3
   },
   "file_extension": ".py",
   "mimetype": "text/x-python",
   "name": "python",
   "nbconvert_exporter": "python",
   "pygments_lexer": "ipython3",
   "version": "3.10.4"
  }
 },
 "nbformat": 4,
 "nbformat_minor": 4
}
