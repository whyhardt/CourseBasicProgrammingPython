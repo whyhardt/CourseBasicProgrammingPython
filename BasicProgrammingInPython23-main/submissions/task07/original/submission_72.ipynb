{
 "cells": [
  {
   "attachments": {},
   "cell_type": "markdown",
   "metadata": {},
   "source": [
    "# Coding Tasks - Week 7\n",
    "Welcome to the Python Programming Exercise Sheet!  \n",
    "In this exercise sheet, we will cover some of the fundamental concepts in Python programming.  \n",
    "Topics covered are: NumPy.\n",
    "\n",
    "___\n",
    "\n",
    "**DEADLINE**:  19th June until 12:15  \n",
    "**Your name here**: Mohamad Aljammal  \n",
    "**Your university mail**: maljammal@uni-osnabrueck.de \n",
    "\n",
    "\n",
    "___\n",
    "\n",
    "**Important information**:  \n",
    "In order to pass this sheet you need to achieve  /  points.  \n",
    "For the best possible grade you require  /  points, however, since some harder tasks may take a lot of time you don't have to pressure yourself.  \n",
    "If you complete any three tasks on a sheet you will definitely get a good grade for that sheet.  \n",
    "Hand in your sheet in studip in the respective folder until the deadline.  \n",
    "If you receive no email until a few days after submission you will have passed, the sample solution will also be uploaded around then.  \n",
    "If you receive an email you don't need to worry, you can fail one sheet and also your total points will also be taken into account for the final pass or fail.  "
   ]
  },
  {
   "attachments": {},
   "cell_type": "markdown",
   "metadata": {},
   "source": [
    "### Task 1 - Array Manipulation (n points)\n",
    "\n",
    "Create a Python program that takes a 1D NumPy array of size 10 with random integer values between 1 and 100 (inclusive) and performs the following operations:\n",
    "\n",
    "- Create the 1D array with the specified size.\n",
    "- Reshape the array into a 2x5 matrix.\n",
    "- Transpose the matrix.\n",
    "- Finally, find the index of the maximum value in the array."
   ]
  },
  {
   "cell_type": "code",
   "execution_count": 2,
   "metadata": {},
   "outputs": [
    {
     "name": "stdout",
     "output_type": "stream",
     "text": [
      "The original array:\n",
      "[20 57 47 19 50 52 36 33  3 35]\n",
      "The reshaped array:\n",
      "[[20 57 47 19 50]\n",
      " [52 36 33  3 35]]\n",
      "The transposed array:\n",
      "[[20 52]\n",
      " [57 36]\n",
      " [47 33]\n",
      " [19  3]\n",
      " [50 35]]\n",
      "The index of the maximum value:\n",
      "2\n",
      "The index of the maximum value in the reshaped and transposed array:\n",
      "(1, 0)\n"
     ]
    }
   ],
   "source": [
    "import numpy as np\n",
    "\n",
    "# Create a 1D array of size 10 with random integer values between 1 and 100\n",
    "arr = np.random.randint(1, 101, 10)\n",
    "\n",
    "# Reshape the array into a 2x5 matrix\n",
    "arr_reshaped = arr.reshape(2, 5)\n",
    "\n",
    "# Transpose the matrix\n",
    "arr_transposed = arr_reshaped.T\n",
    "\n",
    "# Find the index of the maximum value in the array\n",
    "max_index = np.argmax(arr_transposed)\n",
    "max_index_multi_dim = np.unravel_index(max_index, arr_transposed.shape)\n",
    "\n",
    "# Print the original array\n",
    "print(f\"The original array:\\n{arr}\")\n",
    "\n",
    "# Print the reshaped array\n",
    "print(f\"The reshaped array:\\n{arr_reshaped}\")\n",
    "\n",
    "# Print the transposed array\n",
    "print(f\"The transposed array:\\n{arr_transposed}\")\n",
    "\n",
    "# Print the index of the maximum value\n",
    "print(f\"The index of the maximum value:\\n{max_index}\")\n",
    "\n",
    "# Print the index of the maximum value\n",
    "print(f\"The index of the maximum value in the reshaped and transposed array:\\n{max_index_multi_dim}\")\n"
   ]
  },
  {
   "attachments": {},
   "cell_type": "markdown",
   "metadata": {},
   "source": [
    "### Task 2 - Standart Deviation Ratio (SDR) (n points)\n",
    "\n",
    "Implement a Python program that calculates the standard deviation ratio (SDR) of a given 1D NumPy array. SDR represents the ratio of the standard deviation of the positive elements to the standard deviation of the negative elements.\n",
    "\n",
    "- Create a 1D array of 100 random values.\n",
    "- Split the array into positive and negative elements.\n",
    "- Calculate the standard deviations of the positive and negative arrays.\n",
    "- Calculate the standard deviation ratio (SDR)."
   ]
  },
  {
   "cell_type": "code",
   "execution_count": 8,
   "metadata": {},
   "outputs": [
    {
     "name": "stdout",
     "output_type": "stream",
     "text": [
      "Array:\n",
      "[-0.06998398  1.54592304  2.45244026  1.80413427 -0.3324633  -0.68896302\n",
      "  0.2816233  -1.07010342 -0.48624196 -0.47796873  1.15661724  0.46668132\n",
      " -2.14889333 -0.6057075  -0.58267808  0.87737523 -2.08184185  0.17184976\n",
      " -0.32686803 -0.9190139   0.96788344  0.458127   -0.92214438 -1.45214468\n",
      " -1.72361343  1.22078668 -0.50913276  1.66992988 -2.02015109  0.9184067\n",
      "  0.78642406 -0.1138877   0.03202614 -0.66721757 -0.64479943  0.46597913\n",
      "  0.35311459 -0.88718195 -0.85033135  1.05156444  0.83720383 -0.8475078\n",
      " -1.22643379 -0.15745022  0.95836042  2.06790471  0.01459089  0.70829389\n",
      "  0.86353325 -0.06928278  1.21808762  0.55219635  0.11377107 -0.63625421\n",
      " -0.52355127 -0.23792034  0.14183649 -1.61418071 -0.75367757 -0.24588361\n",
      " -0.02774055  1.76656477 -1.17323169 -1.0825208   0.72025998  0.01977462\n",
      " -0.07349377  1.30990352 -1.16778277 -0.25508773 -1.97887082 -0.16676261\n",
      "  0.25009514  0.11727927  0.39598833  0.92278496  0.6464723   0.54109651\n",
      "  0.18367494 -2.11328506 -1.36491657  0.99940614 -0.32241672 -0.5449676\n",
      " -0.03534972  0.49592043 -0.34932307  0.33312339 -1.40034367  0.56139143\n",
      "  1.76861661  0.14063999 -0.09075652  0.7979304   1.14454241 -0.65844963\n",
      "  1.09351494 -1.5327653   1.34941717  0.53628499]\n",
      "The positive array:\n",
      "[1.54592304 2.45244026 1.80413427 0.2816233  1.15661724 0.46668132\n",
      " 0.87737523 0.17184976 0.96788344 0.458127   1.22078668 1.66992988\n",
      " 0.9184067  0.78642406 0.03202614 0.46597913 0.35311459 1.05156444\n",
      " 0.83720383 0.95836042 2.06790471 0.01459089 0.70829389 0.86353325\n",
      " 1.21808762 0.55219635 0.11377107 0.14183649 1.76656477 0.72025998\n",
      " 0.01977462 1.30990352 0.25009514 0.11727927 0.39598833 0.92278496\n",
      " 0.6464723  0.54109651 0.18367494 0.99940614 0.49592043 0.33312339\n",
      " 0.56139143 1.76861661 0.14063999 0.7979304  1.14454241 1.09351494\n",
      " 1.34941717 0.53628499]\n",
      "The negative array:\n",
      "[-0.06998398 -0.3324633  -0.68896302 -1.07010342 -0.48624196 -0.47796873\n",
      " -2.14889333 -0.6057075  -0.58267808 -2.08184185 -0.32686803 -0.9190139\n",
      " -0.92214438 -1.45214468 -1.72361343 -0.50913276 -2.02015109 -0.1138877\n",
      " -0.66721757 -0.64479943 -0.88718195 -0.85033135 -0.8475078  -1.22643379\n",
      " -0.15745022 -0.06928278 -0.63625421 -0.52355127 -0.23792034 -1.61418071\n",
      " -0.75367757 -0.24588361 -0.02774055 -1.17323169 -1.0825208  -0.07349377\n",
      " -1.16778277 -0.25508773 -1.97887082 -0.16676261 -2.11328506 -1.36491657\n",
      " -0.32241672 -0.5449676  -0.03534972 -0.34932307 -1.40034367 -0.09075652\n",
      " -0.65844963 -1.5327653 ]\n",
      "Standard Deviation Ratio:\n",
      "0.9284417930430627\n"
     ]
    }
   ],
   "source": [
    "import numpy as np\n",
    "\n",
    "# Create a 1D array of 100 random values\n",
    "arr1 = np.random.randn(100)\n",
    "\n",
    "# Split the array into positive and negative elements\n",
    "positive_array = arr1[arr1 >= 0]\n",
    "negative_array = arr1[arr1 < 0]\n",
    "\n",
    "# Calculate the standard deviations\n",
    "positive_std_dev = np.std(positive_array)\n",
    "negative_std_dev = np.std(negative_array)\n",
    "\n",
    "# Calculate the standard deviation ratio\n",
    "sdr = positive_std_dev / negative_std_dev if negative_std_dev != 0 else np.inf\n",
    "\n",
    "# Print the original array\n",
    "print(f\"Array:\\n{arr1}\")\n",
    "\n",
    "# Print the positive array\n",
    "print(f\"The positive array:\\n{positive_array}\")\n",
    "\n",
    "# Print the negative array\n",
    "print(f\"The negative array:\\n{negative_array}\")\n",
    "\n",
    "# Print the standard deviation ratio\n",
    "print(f\"Standard Deviation Ratio:\\n{sdr}\")\n"
   ]
  },
  {
   "attachments": {},
   "cell_type": "markdown",
   "metadata": {},
   "source": [
    "### Task 3 - Identity Matrix (n points)\n",
    "\n",
    "Create a 5x5 identity matrix where:\n",
    "\n",
    "- All diagonal elements are equal to 0.\n",
    "- The rest of the elements should be random integers between 0 and 50 (inclusive)."
   ]
  },
  {
   "cell_type": "code",
   "execution_count": 11,
   "metadata": {},
   "outputs": [
    {
     "name": "stdout",
     "output_type": "stream",
     "text": [
      "[[ 1. 42. 18. 41.  6.]\n",
      " [14.  1.  9. 42.  7.]\n",
      " [42. 31.  1. 29. 20.]\n",
      " [18. 42.  3.  1. 41.]\n",
      " [11. 10. 14. 13.  1.]]\n"
     ]
    }
   ],
   "source": [
    "import numpy as np\n",
    "\n",
    "# Create a 3x3 identity matrix\n",
    "identity_matrix = np.eye(5)\n",
    "\n",
    "# Generate random integers between 0 and 50 (inclusive)\n",
    "random_integers = np.random.randint(0, 51, size=(5,5))\n",
    "\n",
    "# Replace the non-diagonal elements with random integers\n",
    "identity_matrix[~np.eye(5, dtype=bool)] = random_integers[~np.eye(5, dtype=bool)]\n",
    "\n",
    "print(identity_matrix)\n"
   ]
  },
  {
   "attachments": {},
   "cell_type": "markdown",
   "metadata": {},
   "source": [
    "### Task 4 - Calculate the Euclidean distance between two arrays (n points)\n",
    "The Euclidean distance measures the straight-line distance between two points in space. In this task, you will calculate the Euclidean distance between two 1-dimensional arrays using the NumPy library.\n",
    "\n",
    "**Hint:** To calculate the Euclidean distance between the two arrays, we can use the np.linalg.norm() function. This function calculates the norm, which is a generalized form of the Euclidean distance, of the difference between the arrays:\n"
   ]
  },
  {
   "cell_type": "code",
   "execution_count": 12,
   "metadata": {},
   "outputs": [
    {
     "name": "stdout",
     "output_type": "stream",
     "text": [
      "Euclidean Distance: 5.196152422706632\n"
     ]
    }
   ],
   "source": [
    "import numpy as np\n",
    "\n",
    "# Create two 1-dimensional arrays\n",
    "arr1 = np.array([1, 2, 3])\n",
    "arr2 = np.array([4, 5, 6])\n",
    "\n",
    "# Calculate the difference between the two arrays\n",
    "difference = arr1 - arr2\n",
    "\n",
    "# Calculate the Euclidean distance using the norm function from the linalg module\n",
    "distance = np.linalg.norm(difference)\n",
    "\n",
    "# Print the calculated Euclidean distance\n",
    "print(\"Euclidean Distance:\", distance)"
   ]
  },
  {
   "attachments": {},
   "cell_type": "markdown",
   "metadata": {},
   "source": [
    "### Task 5 - Find the Point of Exceeding a Cumulative Sum Threshold (n points)\n",
    "\n",
    "Generate a random 1-dimensional array of size 100 with values ranging from 0 to 9. Calculate the cumulative sum of the array and find the index where the cumulative sum exceeds 100 for the first time, then print the index.\n",
    "Description:\n",
    "In this task, you will work with a randomly generated 1-dimensional array of numerical values. Your goal is to calculate the cumulative sum of the array, which represents the running total of the values. Then, you need to identify the position in the array where the cumulative sum exceeds a specific threshold."
   ]
  },
  {
   "cell_type": "code",
   "execution_count": 19,
   "metadata": {},
   "outputs": [
    {
     "name": "stdout",
     "output_type": "stream",
     "text": [
      "Cumulative Sum: [  4  13  20  27  28  34  40  48  48  56  58  67  76  84  84  92  93  96\n",
      " 103 110 113 122 131 136 143 150 150 156 158 164 169 171 176 183 188 192\n",
      " 195 200 207 216 225 228 228 230 235 241 248 254 255 255 264 272 280 286\n",
      " 286 293 301 305 308 314 322 323 329 332 340 343 345 347 354 357 364 366\n",
      " 375 383 386 390 395 403 408 409 416 417 418 420 424 427 434 438 447 456\n",
      " 459 465 466 470 474 481 485 487 487 493]\n",
      "Index where cumulative sum exceeds 100 : 18\n"
     ]
    }
   ],
   "source": [
    "import numpy as np\n",
    "\n",
    "# Generate a random 1-dimensional array of size 100 with values ranging from 0 to 9\n",
    "arr = np.random.randint(0, 10, size=100)\n",
    "\n",
    "# Calculate the cumulative sum of the array\n",
    "cumulative_sum = np.cumsum(arr)\n",
    "print(\"Cumulative Sum:\", cumulative_sum)\n",
    "\n",
    "# Set the threshold value\n",
    "threshold = 100\n",
    "\n",
    "# Find the index where the cumulative sum first exceeds the threshold\n",
    "index = np.argmax(cumulative_sum > threshold)\n",
    "index = np.argwhere(cumulative_sum > threshold)[0][0]\n",
    "\n",
    "# Print the index where the cumulative sum exceeds the threshold\n",
    "print(\"Index where cumulative sum exceeds\", threshold, \":\", index)\n"
   ]
  },
  {
   "attachments": {},
   "cell_type": "markdown",
   "metadata": {},
   "source": [
    "### Task 6 - Performing Linear Algebra Operations (n points)\n",
    "Description: In this task, you will work with a randomly generated 2-dimensional array and perform linear algebra operations using NumPy. You will calculate the determinant of the array, compute its inverse, and verify that the product of the array and its inverse yields the identity matrix. This task provides an opportunity to explore fundamental linear algebra concepts, such as determinants, matrix inverses, and the properties of the identity matrix, using NumPy.\n",
    "\n",
    "1. Create a 2-dimensional array with shape (2, 2) and fill it with random integers between 1 and 9.\n",
    "2. Calculate the determinant of the array.\n",
    "3. Compute the inverse of the array.\n",
    "4. Multiply the array by its inverse.\n",
    "5. Print the final array."
   ]
  },
  {
   "cell_type": "code",
   "execution_count": 20,
   "metadata": {},
   "outputs": [
    {
     "name": "stdout",
     "output_type": "stream",
     "text": [
      "Identity Matrix:\n",
      " [[1. 0.]\n",
      " [0. 1.]]\n"
     ]
    }
   ],
   "source": [
    "import numpy as np\n",
    "\n",
    "# Generate a random 2-dimensional array with shape (2, 2) and random integers between 1 and 9\n",
    "arr = np.random.randint(1, 10, size=(2, 2))\n",
    "\n",
    "# Calculate the determinant of the array\n",
    "determinant =np.linalg.det(arr)\n",
    "\n",
    "# Compute the inverse of the array\n",
    "inverse = np.linalg.inv(arr)\n",
    "\n",
    "# Multiply the array by its inverse to obtain the identity matrix\n",
    "identity = np.dot(arr, inverse)\n",
    "\n",
    "# Print the resulting identity matrix\n",
    "print(\"Identity Matrix:\\n\", identity)\n"
   ]
  }
 ],
 "metadata": {
  "kernelspec": {
   "display_name": "ml",
   "language": "python",
   "name": "python3"
  },
  "language_info": {
   "codemirror_mode": {
    "name": "ipython",
    "version": 3
   },
   "file_extension": ".py",
   "mimetype": "text/x-python",
   "name": "python",
   "nbconvert_exporter": "python",
   "pygments_lexer": "ipython3",
   "version": "3.11.2"
  },
  "orig_nbformat": 4
 },
 "nbformat": 4,
 "nbformat_minor": 2
}
