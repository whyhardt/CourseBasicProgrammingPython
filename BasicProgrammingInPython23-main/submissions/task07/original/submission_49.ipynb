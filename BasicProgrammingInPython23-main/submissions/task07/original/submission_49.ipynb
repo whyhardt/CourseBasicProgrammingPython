{
 "cells": [
  {
   "cell_type": "markdown",
   "metadata": {},
   "source": [
    "# Coding Tasks - Week 7\n",
    "Welcome to the Python Programming Exercise Sheet!  \n",
    "In this exercise sheet, we will cover some of the fundamental concepts in Python programming.  \n",
    "Topics covered are: NumPy.\n",
    "\n",
    "___\n",
    "\n",
    "**DEADLINE**:  19th June until 12:15  \n",
    "**Your name here**: Hanna Merkle\n",
    "**Your university mail**: hmerkle@uos.de\n",
    "\n",
    "___\n",
    "\n",
    "**Important information**:  \n",
    "In order to pass this sheet you need to achieve  /  points.  \n",
    "For the best possible grade you require  /  points, however, since some harder tasks may take a lot of time you don't have to pressure yourself.  \n",
    "If you complete any three tasks on a sheet you will definitely get a good grade for that sheet.  \n",
    "Hand in your sheet in studip in the respective folder until the deadline.  \n",
    "If you receive no email until a few days after submission you will have passed, the sample solution will also be uploaded around then.  \n",
    "If you receive an email you don't need to worry, you can fail one sheet and also your total points will also be taken into account for the final pass or fail.  "
   ]
  },
  {
   "cell_type": "markdown",
   "metadata": {},
   "source": [
    "### Task 1 - Array Manipulation (4 points)\n",
    "\n",
    "Create a Python program that takes a 1D NumPy array of size 10 with random integer values between 1 and 100 (inclusive) and performs the following operations:\n",
    "\n",
    "- Create the 1D array with the specified size.\n",
    "- Reshape the array into a 2x5 matrix.\n",
    "- Transpose the matrix.\n",
    "- Finally, find the index of the maximum value in the array."
   ]
  },
  {
   "cell_type": "code",
   "execution_count": 1,
   "metadata": {},
   "outputs": [
    {
     "name": "stdout",
     "output_type": "stream",
     "text": [
      "The original array:\n",
      "[48 20 21 94 76  2 64  8 82 85]\n",
      "The reshaped array:\n",
      "[[48 20 21 94 76]\n",
      " [ 2 64  8 82 85]]\n",
      "The transposed array:\n",
      "[[48  2]\n",
      " [20 64]\n",
      " [21  8]\n",
      " [94 82]\n",
      " [76 85]]\n",
      "The index of the maximum value:\n",
      "(3, 0)\n"
     ]
    }
   ],
   "source": [
    "import numpy as np\n",
    "\n",
    "# Create a 1D array of size 10 with random integer values between 1 and 100\n",
    "arr = np.random.randint(1, 101, 10)\n",
    "\n",
    "# Reshape the array into a 2x5 matrix\n",
    "arr_reshaped = arr.reshape(2, 5)\n",
    "\n",
    "# Transpose the matrix\n",
    "arr_transposed = arr_reshaped.transpose()\n",
    "\n",
    "# Find the index of the maximum value in the array\n",
    "max_index = np.unravel_index(np.argmax(arr_transposed), arr_transposed.shape)\n",
    "\n",
    "# Print the original array\n",
    "print(f\"The original array:\\n{arr}\")\n",
    "\n",
    "# Print the reshaped array\n",
    "print(f\"The reshaped array:\\n{arr_reshaped}\")\n",
    "\n",
    "# Print the transposed array\n",
    "print(f\"The transposed array:\\n{arr_transposed}\")\n",
    "\n",
    "# Print the index of the maximum value\n",
    "print(f\"The index of the maximum value:\\n{max_index}\")\n"
   ]
  },
  {
   "cell_type": "markdown",
   "metadata": {},
   "source": [
    "### Task 2 - Standart Deviation Ratio (SDR) (4 points)\n",
    "\n",
    "Implement a Python program that calculates the standard deviation ratio (SDR) of a given 1D NumPy array. SDR represents the ratio of the standard deviation of the positive elements to the standard deviation of the negative elements.\n",
    "\n",
    "- Create a 1D array of 100 random values.\n",
    "- Split the array into positive and negative elements.\n",
    "- Calculate the standard deviations of the positive and negative arrays.\n",
    "- Calculate the standard deviation ratio (SDR)."
   ]
  },
  {
   "cell_type": "code",
   "execution_count": 2,
   "metadata": {},
   "outputs": [
    {
     "name": "stdout",
     "output_type": "stream",
     "text": [
      "Array:\n",
      "[ 1.76702277e+00 -3.71669673e-01 -1.04682994e+00 -4.82464503e-01\n",
      "  1.37846986e+00 -6.36102677e-01 -6.66693162e-01 -1.10055616e-01\n",
      " -6.76025994e-01 -5.05150005e-01 -1.98775180e+00 -2.30656652e+00\n",
      "  1.91223441e-01  1.16642972e+00  1.29173601e-01 -2.11940386e+00\n",
      "  2.29193408e+00  8.57682569e-01 -1.71016053e-01 -1.82392876e+00\n",
      "  1.42389517e-03 -7.76016506e-01 -8.27053851e-01  1.68807856e+00\n",
      " -3.80430526e-01  1.29371876e+00  1.64367695e+00  6.82229166e-01\n",
      "  6.68177481e-01 -2.29663382e-01 -3.92602667e-01 -4.84361697e-01\n",
      "  1.29814206e-01 -1.25614865e+00  2.92422895e-01  8.04425717e-02\n",
      " -9.22471949e-01 -3.37198820e-03  1.80708588e+00 -7.63070828e-02\n",
      "  3.95571953e-01 -1.73038125e-01  4.99698729e-01 -3.41168100e-01\n",
      " -3.22471121e-01  5.45097679e-01 -1.26664814e-01  7.05091998e-01\n",
      "  5.67119753e-01  5.23576597e-01  9.92101801e-01  6.26487409e-01\n",
      " -8.79940490e-01  9.14899903e-01 -6.80792079e-01  8.76161908e-01\n",
      " -9.70444258e-01 -6.25783130e-01  4.40731651e-02  4.09032849e-01\n",
      " -1.18223697e-01  5.87397302e-01 -1.20475319e+00  1.85823027e+00\n",
      " -1.78544690e+00 -6.36354846e-01  1.25029167e+00  5.68188237e-01\n",
      " -1.65272150e+00  7.20888218e-01 -1.22639196e-01  1.12807116e+00\n",
      "  5.56633307e-01  3.02166658e-01  2.05374972e-01  2.46624600e+00\n",
      " -5.29251682e-01  1.55073851e+00  2.98340165e+00 -1.21194170e-01\n",
      "  1.14192346e+00  1.43558894e+00  1.15010345e+00 -9.82371548e-01\n",
      " -3.05437732e-01 -5.84790308e-01 -1.15433784e+00 -1.79227063e+00\n",
      "  5.79432262e-02  5.26194173e-01  1.26636812e+00  4.61988124e-01\n",
      " -1.98305807e+00 -1.78286846e-01 -9.54735344e-01  5.79595918e-01\n",
      " -1.33306448e+00  7.97878173e-02  3.49695181e-01 -2.14917164e+00]\n",
      "The positive array:\n",
      "[1.76702277e+00 1.37846986e+00 1.91223441e-01 1.16642972e+00\n",
      " 1.29173601e-01 2.29193408e+00 8.57682569e-01 1.42389517e-03\n",
      " 1.68807856e+00 1.29371876e+00 1.64367695e+00 6.82229166e-01\n",
      " 6.68177481e-01 1.29814206e-01 2.92422895e-01 8.04425717e-02\n",
      " 1.80708588e+00 3.95571953e-01 4.99698729e-01 5.45097679e-01\n",
      " 7.05091998e-01 5.67119753e-01 5.23576597e-01 9.92101801e-01\n",
      " 6.26487409e-01 9.14899903e-01 8.76161908e-01 4.40731651e-02\n",
      " 4.09032849e-01 5.87397302e-01 1.85823027e+00 1.25029167e+00\n",
      " 5.68188237e-01 7.20888218e-01 1.12807116e+00 5.56633307e-01\n",
      " 3.02166658e-01 2.05374972e-01 2.46624600e+00 1.55073851e+00\n",
      " 2.98340165e+00 1.14192346e+00 1.43558894e+00 1.15010345e+00\n",
      " 5.79432262e-02 5.26194173e-01 1.26636812e+00 4.61988124e-01\n",
      " 5.79595918e-01 7.97878173e-02 3.49695181e-01]\n",
      "The negative array:\n",
      "[-0.37166967 -1.04682994 -0.4824645  -0.63610268 -0.66669316 -0.11005562\n",
      " -0.67602599 -0.50515    -1.9877518  -2.30656652 -2.11940386 -0.17101605\n",
      " -1.82392876 -0.77601651 -0.82705385 -0.38043053 -0.22966338 -0.39260267\n",
      " -0.4843617  -1.25614865 -0.92247195 -0.00337199 -0.07630708 -0.17303812\n",
      " -0.3411681  -0.32247112 -0.12666481 -0.87994049 -0.68079208 -0.97044426\n",
      " -0.62578313 -0.1182237  -1.20475319 -1.7854469  -0.63635485 -1.6527215\n",
      " -0.1226392  -0.52925168 -0.12119417 -0.98237155 -0.30543773 -0.58479031\n",
      " -1.15433784 -1.79227063 -1.98305807 -0.17828685 -0.95473534 -1.33306448\n",
      " -2.14917164]\n",
      "Standard Deviation Ratio:\n",
      "1.0456232584172394\n"
     ]
    }
   ],
   "source": [
    "import numpy as np\n",
    "\n",
    "# Create a 1D array of 100 random values\n",
    "arr1 = np.random.randn(100)\n",
    "\n",
    "# Split the array into positive and negative elements\n",
    "positive_array = arr1[arr1>=0]\n",
    "negative_array = arr1[arr1<0]\n",
    "\n",
    "# Calculate the standard deviations\n",
    "positive_std_dev = np.std(positive_array)\n",
    "negative_std_dev = np.std(negative_array)\n",
    "\n",
    "if negative_std_dev == 0:\n",
    "    print(\"Calculation of std ratio not possible - division with zero\")\n",
    "else:\n",
    "    # Calculate the standard deviation ratio\n",
    "    sdr = positive_std_dev/negative_std_dev\n",
    "\n",
    "# Print the original array\n",
    "print(f\"Array:\\n{arr1}\")\n",
    "\n",
    "# Print the positive array\n",
    "print(f\"The positive array:\\n{positive_array}\")\n",
    "\n",
    "# Print the negative array\n",
    "print(f\"The negative array:\\n{negative_array}\")\n",
    "\n",
    "# Print the standard deviation ratio\n",
    "print(f\"Standard Deviation Ratio:\\n{sdr}\")\n"
   ]
  },
  {
   "cell_type": "markdown",
   "metadata": {},
   "source": [
    "### Task 3 - Identity Matrix (3 points)\n",
    "\n",
    "Create a 5x5 identity matrix where:\n",
    "\n",
    "- All diagonal elements are equal to 0.\n",
    "- The rest of the elements should be random integers between 0 and 50 (inclusive)."
   ]
  },
  {
   "cell_type": "code",
   "execution_count": 3,
   "metadata": {},
   "outputs": [
    {
     "name": "stdout",
     "output_type": "stream",
     "text": [
      "[[ 0. 20. 21. 23. 24.]\n",
      " [26.  0. 29. 14. 17.]\n",
      " [36. 48.  0.  3. 29.]\n",
      " [22. 50. 27.  0. 22.]\n",
      " [20. 20. 29. 30.  0.]]\n"
     ]
    }
   ],
   "source": [
    "import numpy as np\n",
    "\n",
    "# Create a 5x5 identity matrix\n",
    "identity_matrix = np.identity(5)\n",
    "\n",
    "# Generate random integers between 0 and 50 (inclusive)\n",
    "random_integers = np.random.randint(0, 51, (5, 5))\n",
    "\n",
    "# Replace the non-diagonal elements with random integers\n",
    "identity_matrix[~np.eye(5, dtype=bool)] = random_integers[~np.eye(5, dtype=bool)]\n",
    "\n",
    "### All diagonal elements are equal to 0? -> then it is not an identity matrix?\n",
    "np.fill_diagonal(identity_matrix, 0)\n",
    "\n",
    "print(identity_matrix)\n"
   ]
  },
  {
   "cell_type": "markdown",
   "metadata": {},
   "source": [
    "### Task 4 - Calculate the Euclidean distance between two arrays (2 points)\n",
    "The Euclidean distance measures the straight-line distance between two points in space. In this task, you will calculate the Euclidean distance between two 1-dimensional arrays using the NumPy library.\n",
    "\n",
    "**Hint:** To calculate the Euclidean distance between the two arrays, we can use the np.linalg.norm() function. This function calculates the norm, which is a generalized form of the Euclidean distance, of the difference between the arrays:\n"
   ]
  },
  {
   "cell_type": "code",
   "execution_count": 4,
   "metadata": {},
   "outputs": [
    {
     "name": "stdout",
     "output_type": "stream",
     "text": [
      "Euclidean Distance: 5.196152422706632\n"
     ]
    }
   ],
   "source": [
    "import numpy as np\n",
    "\n",
    "# Create two 1-dimensional arrays\n",
    "arr1 = np.array([1, 2, 3])\n",
    "arr2 = np.array([4, 5, 6])\n",
    "\n",
    "# Calculate the difference between the two arrays\n",
    "difference = arr1 - arr2\n",
    "\n",
    "# Calculate the Euclidean distance using the norm function from the linalg module\n",
    "distance = np.linalg.norm(difference)\n",
    "\n",
    "# Print the calculated Euclidean distance\n",
    "print(\"Euclidean Distance:\", distance)"
   ]
  },
  {
   "cell_type": "markdown",
   "metadata": {},
   "source": [
    "### Task 5 - Find the Point of Exceeding a Cumulative Sum Threshold (4 points)\n",
    "\n",
    "Generate a random 1-dimensional array of size 100 with values ranging from 0 to 9. Calculate the cumulative sum of the array and find the index where the cumulative sum exceeds 100 for the first time, then print the index.\n",
    "Description:\n",
    "In this task, you will work with a randomly generated 1-dimensional array of numerical values. Your goal is to calculate the cumulative sum of the array, which represents the running total of the values. Then, you need to identify the position in the array where the cumulative sum exceeds a specific threshold."
   ]
  },
  {
   "cell_type": "code",
   "execution_count": 5,
   "metadata": {},
   "outputs": [
    {
     "name": "stdout",
     "output_type": "stream",
     "text": [
      "Index where cumulative sum exceeds 100 : 26\n"
     ]
    }
   ],
   "source": [
    "import numpy as np\n",
    "\n",
    "# Generate a random 1-dimensional array of size 100 with values ranging from 0 to 9\n",
    "arr = np.random.randint(0, 10, size=100)\n",
    "\n",
    "# Calculate the cumulative sum of the array\n",
    "cumulative_sum = np.cumsum(arr)\n",
    "\n",
    "# Set the threshold value\n",
    "threshold = 100\n",
    "\n",
    "# Find the index where the cumulative sum first exceeds the threshold\n",
    "index = np.argmax(cumulative_sum > 100)\n",
    "\n",
    "# Print the index where the cumulative sum exceeds the threshold\n",
    "print(\"Index where cumulative sum exceeds\", threshold, \":\", index)\n"
   ]
  },
  {
   "cell_type": "markdown",
   "metadata": {},
   "source": [
    "### Task 6 - Performing Linear Algebra Operations (3 points)\n",
    "Description: In this task, you will work with a randomly generated 2-dimensional array and perform linear algebra operations using NumPy. You will calculate the determinant of the array, compute its inverse, and verify that the product of the array and its inverse yields the identity matrix. This task provides an opportunity to explore fundamental linear algebra concepts, such as determinants, matrix inverses, and the properties of the identity matrix, using NumPy.\n",
    "\n",
    "1. Create a 2-dimensional array with shape (2, 2) and fill it with random integers between 1 and 9.\n",
    "2. Calculate the determinant of the array.\n",
    "3. Compute the inverse of the array.\n",
    "4. Multiply the array by its inverse.\n",
    "5. Print the final array."
   ]
  },
  {
   "cell_type": "code",
   "execution_count": 7,
   "metadata": {},
   "outputs": [
    {
     "name": "stdout",
     "output_type": "stream",
     "text": [
      "Identity Matrix:\n",
      " [[1.00000000e+00 0.00000000e+00]\n",
      " [5.55111512e-17 1.00000000e+00]]\n"
     ]
    }
   ],
   "source": [
    "import numpy as np\n",
    "\n",
    "# Generate a random 2-dimensional array with shape (2, 2) and random integers between 1 and 9\n",
    "arr = np.random.randint(1, 10, (2, 2))\n",
    "\n",
    "# Calculate the determinant of the array\n",
    "determinant = np.linalg.det(arr)\n",
    "\n",
    "# Compute the inverse of the array\n",
    "inverse = np.linalg.inv(arr)\n",
    "\n",
    "# Multiply the array by its inverse to obtain the identity matrix\n",
    "identity = np.matmul(arr, inverse)\n",
    "\n",
    "# Print the resulting identity matrix\n",
    "print(\"Identity Matrix:\\n\", identity)\n"
   ]
  }
 ],
 "metadata": {
  "kernelspec": {
   "display_name": "datasys",
   "language": "python",
   "name": "datasys"
  },
  "language_info": {
   "codemirror_mode": {
    "name": "ipython",
    "version": 3
   },
   "file_extension": ".py",
   "mimetype": "text/x-python",
   "name": "python",
   "nbconvert_exporter": "python",
   "pygments_lexer": "ipython3",
   "version": "3.10.9"
  }
 },
 "nbformat": 4,
 "nbformat_minor": 4
}
