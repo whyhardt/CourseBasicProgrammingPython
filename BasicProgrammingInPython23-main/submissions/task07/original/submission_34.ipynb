{
 "cells": [
  {
   "attachments": {},
   "cell_type": "markdown",
   "metadata": {},
   "source": [
    "# Coding Tasks - Week 7\n",
    "Welcome to the Python Programming Exercise Sheet!  \n",
    "In this exercise sheet, we will cover some of the fundamental concepts in Python programming.  \n",
    "Topics covered are: NumPy.\n",
    "\n",
    "___\n",
    "\n",
    "**DEADLINE**:  19th June until 12:15  \n",
    "**Your name here**: Noah Schepers  \n",
    "**Your university mail**: noschepers@uni-osnabrueck.de\n",
    "\n",
    "___\n",
    "\n",
    "**Important information**:  \n",
    "In order to pass this sheet you need to achieve  /  points.  \n",
    "For the best possible grade you require  /  points, however, since some harder tasks may take a lot of time you don't have to pressure yourself.  \n",
    "If you complete any three tasks on a sheet you will definitely get a good grade for that sheet.  \n",
    "Hand in your sheet in studip in the respective folder until the deadline.  \n",
    "If you receive no email until a few days after submission you will have passed, the sample solution will also be uploaded around then.  \n",
    "If you receive an email you don't need to worry, you can fail one sheet and also your total points will also be taken into account for the final pass or fail.  "
   ]
  },
  {
   "attachments": {},
   "cell_type": "markdown",
   "metadata": {},
   "source": [
    "### Task 1 - Array Manipulation (4 points)\n",
    "\n",
    "Create a Python program that takes a 1D NumPy array of size 10 with random integer values between 1 and 100 (inclusive) and performs the following operations:\n",
    "\n",
    "- Create the 1D array with the specified size.\n",
    "- Reshape the array into a 2x5 matrix.\n",
    "- Transpose the matrix.\n",
    "- Finally, find the index of the maximum value in the array."
   ]
  },
  {
   "cell_type": "code",
   "execution_count": 9,
   "metadata": {},
   "outputs": [
    {
     "name": "stdout",
     "output_type": "stream",
     "text": [
      "The original array:\n",
      "[18  7 16 66 78 92 87 17 23 36]\n",
      "The reshaped array:\n",
      "[[18  7 16 66 78]\n",
      " [92 87 17 23 36]]\n",
      "The transposed array:\n",
      "[18  7 16 66 78 92 87 17 23 36]\n",
      "The index of the maximum value:\n",
      "5\n"
     ]
    }
   ],
   "source": [
    "import numpy as np\n",
    "\n",
    "# Create a 1D array of size 10 with random integer values between 1 and 100\n",
    "arr = np.random.randint(1, 101, size=10)\n",
    "\n",
    "# Reshape the array into a 2x5 matrix\n",
    "arr_reshaped = np.reshape(arr, (2, 5))\n",
    "\n",
    "# Transpose the matrix\n",
    "arr_transposed = np.transpose(arr)\n",
    "\n",
    "# Find the index of the maximum value in the array\n",
    "max_index = np.array(arr).argmax()\n",
    "\n",
    "# Print the original array\n",
    "print(f\"The original array:\\n{arr}\")\n",
    "\n",
    "# Print the reshaped array\n",
    "print(f\"The reshaped array:\\n{arr_reshaped}\")\n",
    "\n",
    "# Print the transposed array\n",
    "print(f\"The transposed array:\\n{arr_transposed}\")\n",
    "\n",
    "# Print the index of the maximum value\n",
    "print(f\"The index of the maximum value:\\n{max_index}\")\n"
   ]
  },
  {
   "attachments": {},
   "cell_type": "markdown",
   "metadata": {},
   "source": [
    "### Task 2 - Standart Deviation Ratio (SDR) (4 points)\n",
    "\n",
    "Implement a Python program that calculates the standard deviation ratio (SDR) of a given 1D NumPy array. SDR represents the ratio of the standard deviation of the positive elements to the standard deviation of the negative elements.\n",
    "\n",
    "- Create a 1D array of 100 random values.\n",
    "- Split the array into positive and negative elements.\n",
    "- Calculate the standard deviations of the positive and negative arrays.\n",
    "- Calculate the standard deviation ratio (SDR)."
   ]
  },
  {
   "cell_type": "code",
   "execution_count": 11,
   "metadata": {},
   "outputs": [
    {
     "name": "stdout",
     "output_type": "stream",
     "text": [
      "Array:\n",
      "[ 0.02930987 -0.33216663 -0.27476965  0.07841068 -0.71630569  0.1069651\n",
      "  0.88989086 -0.54760441 -0.43785878 -0.05020439  0.87867152 -0.05292795\n",
      "  0.33032443 -0.13927454  0.14556751  0.91041945 -0.78321517 -0.72780695\n",
      "  0.71784523 -0.79644603  0.63829792  0.25676432 -0.47735245 -0.8387699\n",
      "  0.48377435  0.08155963 -0.65025957  0.93275642 -0.45891447  0.4389388\n",
      " -0.06336524 -0.06443425  0.5819904  -0.33488482  0.76191401 -0.25069162\n",
      " -0.60561542  0.44818949 -0.72986286  0.19920862  0.04277925 -0.47803389\n",
      " -0.04571828 -0.64702854 -0.80719256 -0.20285591  0.84187463 -0.85408666\n",
      " -0.71402234 -0.37191314 -0.66751236 -0.01624314  0.45595663  0.44343897\n",
      " -0.50647051  0.51714656  0.24549281 -0.01094263 -0.31901154 -0.38689831\n",
      "  0.22127501 -0.38062614  0.80991442  0.53400977 -0.66816005  0.19046308\n",
      " -0.4341246   0.73744895 -0.91782604 -0.6932874  -0.14900895  0.05729821\n",
      " -0.61715963  0.2596918   0.2261633   0.42634444  0.45957936 -0.42064857\n",
      "  0.59170859 -0.36524008  0.03824581  0.17645433  0.06490785  0.00245111\n",
      "  0.99073542  0.99325362 -0.14811839 -0.90156047  0.70158729 -0.30342031\n",
      "  0.91345634  0.18923719  0.54101586  0.05736964 -0.86903497 -0.22749729\n",
      "  0.60440721 -0.41151083 -0.2098001  -0.30542525]\n",
      "The positive array:\n",
      "[0.02930987 0.         0.         0.07841068 0.         0.1069651\n",
      " 0.88989086 0.         0.         0.         0.87867152 0.\n",
      " 0.33032443 0.         0.14556751 0.91041945 0.         0.\n",
      " 0.71784523 0.         0.63829792 0.25676432 0.         0.\n",
      " 0.48377435 0.08155963 0.         0.93275642 0.         0.4389388\n",
      " 0.         0.         0.5819904  0.         0.76191401 0.\n",
      " 0.         0.44818949 0.         0.19920862 0.04277925 0.\n",
      " 0.         0.         0.         0.         0.84187463 0.\n",
      " 0.         0.         0.         0.         0.45595663 0.44343897\n",
      " 0.         0.51714656 0.24549281 0.         0.         0.\n",
      " 0.22127501 0.         0.80991442 0.53400977 0.         0.19046308\n",
      " 0.         0.73744895 0.         0.         0.         0.05729821\n",
      " 0.         0.2596918  0.2261633  0.42634444 0.45957936 0.\n",
      " 0.59170859 0.         0.03824581 0.17645433 0.06490785 0.00245111\n",
      " 0.99073542 0.99325362 0.         0.         0.70158729 0.\n",
      " 0.91345634 0.18923719 0.54101586 0.05736964 0.         0.\n",
      " 0.60440721 0.         0.         0.        ]\n",
      "The negative array:\n",
      "[ 0.         -0.33216663 -0.27476965  0.         -0.71630569  0.\n",
      "  0.         -0.54760441 -0.43785878 -0.05020439  0.         -0.05292795\n",
      "  0.         -0.13927454  0.          0.         -0.78321517 -0.72780695\n",
      "  0.         -0.79644603  0.          0.         -0.47735245 -0.8387699\n",
      "  0.          0.         -0.65025957  0.         -0.45891447  0.\n",
      " -0.06336524 -0.06443425  0.         -0.33488482  0.         -0.25069162\n",
      " -0.60561542  0.         -0.72986286  0.          0.         -0.47803389\n",
      " -0.04571828 -0.64702854 -0.80719256 -0.20285591  0.         -0.85408666\n",
      " -0.71402234 -0.37191314 -0.66751236 -0.01624314  0.          0.\n",
      " -0.50647051  0.          0.         -0.01094263 -0.31901154 -0.38689831\n",
      "  0.         -0.38062614  0.          0.         -0.66816005  0.\n",
      " -0.4341246   0.         -0.91782604 -0.6932874  -0.14900895  0.\n",
      " -0.61715963  0.          0.          0.          0.         -0.42064857\n",
      "  0.         -0.36524008  0.          0.          0.          0.\n",
      "  0.          0.         -0.14811839 -0.90156047  0.         -0.30342031\n",
      "  0.          0.          0.          0.         -0.86903497 -0.22749729\n",
      "  0.         -0.41151083 -0.2098001  -0.30542525]\n",
      "Standard Deviation Ratio:\n",
      "1.0385616471527688\n"
     ]
    }
   ],
   "source": [
    "import numpy as np\n",
    "\n",
    "# Create a 1D array of 100 random values\n",
    "arr1 = np.random.uniform(-1,1,100)\n",
    "\n",
    "# Split the array into positive and negative elements\n",
    "positive_array = np.where(arr1 >= 0, arr1, 0)\n",
    "negative_array = np.where(arr1 < 0, arr1, 0)\n",
    "\n",
    "# Calculate the standard deviations\n",
    "positive_std_dev = np.std(positive_array)\n",
    "negative_std_dev = np.std(negative_array)\n",
    "\n",
    "# Calculate the standard deviation ratio\n",
    "sdr = positive_std_dev / negative_std_dev\n",
    "\n",
    "# Print the original array\n",
    "print(f\"Array:\\n{arr1}\")\n",
    "\n",
    "# Print the positive array\n",
    "print(f\"The positive array:\\n{positive_array}\")\n",
    "\n",
    "# Print the negative array\n",
    "print(f\"The negative array:\\n{negative_array}\")\n",
    "\n",
    "# Print the standard deviation ratio\n",
    "print(f\"Standard Deviation Ratio:\\n{sdr}\")\n"
   ]
  },
  {
   "attachments": {},
   "cell_type": "markdown",
   "metadata": {},
   "source": [
    "### Task 3 - Identity Matrix (3 points)\n",
    "\n",
    "Create a 5x5 identity matrix where:\n",
    "\n",
    "- All diagonal elements are equal to 0.\n",
    "- The rest of the elements should be random integers between 0 and 50 (inclusive)."
   ]
  },
  {
   "cell_type": "code",
   "execution_count": 20,
   "metadata": {},
   "outputs": [
    {
     "name": "stdout",
     "output_type": "stream",
     "text": [
      "[[ 0. 25. 17. 47. 11.]\n",
      " [15.  0. 32.  1. 22.]\n",
      " [49. 12.  0. 28. 19.]\n",
      " [ 3. 16. 41.  0. 14.]\n",
      " [28. 49. 50.  7.  0.]]\n"
     ]
    }
   ],
   "source": [
    "import numpy as np\n",
    "\n",
    "# Create a 5x5 identity matrix\n",
    "identity_matrix = np.identity(5)\n",
    "\n",
    "# Generate random integers between 0 and 50 (inclusive)\n",
    "random_integers = np.random.randint(51, size=(5,5))\n",
    "\n",
    "# Replace the non-diagonal elements with random integers\n",
    "identity_matrix[~np.eye(5, dtype=bool)] = random_integers[~np.eye(5, dtype=bool)]\n",
    "np.fill_diagonal(identity_matrix, 0)\n",
    "\n",
    "print(identity_matrix)\n"
   ]
  },
  {
   "attachments": {},
   "cell_type": "markdown",
   "metadata": {},
   "source": [
    "### Task 4 - Calculate the Euclidean distance between two arrays (2 points)\n",
    "The Euclidean distance measures the straight-line distance between two points in space. In this task, you will calculate the Euclidean distance between two 1-dimensional arrays using the NumPy library.\n",
    "\n",
    "**Hint:** To calculate the Euclidean distance between the two arrays, we can use the np.linalg.norm() function. This function calculates the norm, which is a generalized form of the Euclidean distance, of the difference between the arrays:\n"
   ]
  },
  {
   "cell_type": "code",
   "execution_count": 12,
   "metadata": {},
   "outputs": [
    {
     "name": "stdout",
     "output_type": "stream",
     "text": [
      "Euclidean Distance: 5.196152422706632\n"
     ]
    }
   ],
   "source": [
    "import numpy as np\n",
    "\n",
    "# Create two 1-dimensional arrays\n",
    "arr1 = np.array([1, 2, 3])\n",
    "arr2 = np.array([4, 5, 6])\n",
    "\n",
    "# Calculate the difference between the two arrays\n",
    "difference = arr1 - arr2\n",
    "\n",
    "# Calculate the Euclidean distance using the norm function from the linalg module\n",
    "distance = np.linalg.norm(arr1 - arr2)\n",
    "\n",
    "# Print the calculated Euclidean distance\n",
    "print(\"Euclidean Distance:\", distance)"
   ]
  },
  {
   "attachments": {},
   "cell_type": "markdown",
   "metadata": {},
   "source": [
    "### Task 5 - Find the Point of Exceeding a Cumulative Sum Threshold (4 points)\n",
    "\n",
    "Generate a random 1-dimensional array of size 100 with values ranging from 0 to 9. Calculate the cumulative sum of the array and find the index where the cumulative sum exceeds 100 for the first time, then print the index.\n",
    "Description:\n",
    "In this task, you will work with a randomly generated 1-dimensional array of numerical values. Your goal is to calculate the cumulative sum of the array, which represents the running total of the values. Then, you need to identify the position in the array where the cumulative sum exceeds a specific threshold."
   ]
  },
  {
   "cell_type": "code",
   "execution_count": 17,
   "metadata": {},
   "outputs": [
    {
     "name": "stdout",
     "output_type": "stream",
     "text": [
      "Index where cumulative sum exceeds 100 : 9\n"
     ]
    }
   ],
   "source": [
    "import numpy as np\n",
    "\n",
    "# Generate a random 1-dimensional array of size 100 with values ranging from 0 to 9\n",
    "arr = np.random.randint(0, 10, size=100)\n",
    "\n",
    "# Calculate the cumulative sum of the array\n",
    "cumulative_sum = np.sum(arr)\n",
    "\n",
    "# Set the threshold value\n",
    "threshold = 100\n",
    "\n",
    "# Find the index where the cumulative sum first exceeds the threshold\n",
    "index = max(np.where(cumulative_sum > threshold, arr, threshold))\n",
    "\n",
    "# Print the index where the cumulative sum exceeds the threshold\n",
    "print(\"Index where cumulative sum exceeds\", threshold, \":\", index)\n"
   ]
  },
  {
   "attachments": {},
   "cell_type": "markdown",
   "metadata": {},
   "source": [
    "### Task 6 - Performing Linear Algebra Operations (3 points)\n",
    "Description: In this task, you will work with a randomly generated 2-dimensional array and perform linear algebra operations using NumPy. You will calculate the determinant of the array, compute its inverse, and verify that the product of the array and its inverse yields the identity matrix. This task provides an opportunity to explore fundamental linear algebra concepts, such as determinants, matrix inverses, and the properties of the identity matrix, using NumPy.\n",
    "\n",
    "1. Create a 2-dimensional array with shape (2, 2) and fill it with random integers between 1 and 9.\n",
    "2. Calculate the determinant of the array.\n",
    "3. Compute the inverse of the array.\n",
    "4. Multiply the array by its inverse.\n",
    "5. Print the final array."
   ]
  },
  {
   "cell_type": "code",
   "execution_count": 4,
   "metadata": {},
   "outputs": [
    {
     "name": "stdout",
     "output_type": "stream",
     "text": [
      "Identity Matrix:\n",
      " [[-0.8  0.6]\n",
      " [ 5.4 -0.8]]\n"
     ]
    }
   ],
   "source": [
    "import numpy as np\n",
    "\n",
    "# Generate a random 2-dimensional array with shape (2, 2) and random integers between 1 and 9\n",
    "arr = np.random.randint(1, 10, size=(2,2))\n",
    "\n",
    "# Calculate the determinant of the array\n",
    "determinant = np.linalg.det(arr)\n",
    "\n",
    "# Compute the inverse of the array\n",
    "inverse = np.linalg.inv(arr)\n",
    "\n",
    "# Multiply the array by its inverse to obtain the identity matrix\n",
    "identity = np.multiply(arr, inverse)\n",
    "\n",
    "# Print the resulting identity matrix\n",
    "print(\"Identity Matrix:\\n\", identity)\n"
   ]
  },
  {
   "cell_type": "code",
   "execution_count": null,
   "metadata": {},
   "outputs": [],
   "source": []
  }
 ],
 "metadata": {
  "kernelspec": {
   "display_name": "Python 3 (ipykernel)",
   "language": "python",
   "name": "python3"
  },
  "language_info": {
   "codemirror_mode": {
    "name": "ipython",
    "version": 3
   },
   "file_extension": ".py",
   "mimetype": "text/x-python",
   "name": "python",
   "nbconvert_exporter": "python",
   "pygments_lexer": "ipython3",
   "version": "3.10.11"
  }
 },
 "nbformat": 4,
 "nbformat_minor": 4
}
