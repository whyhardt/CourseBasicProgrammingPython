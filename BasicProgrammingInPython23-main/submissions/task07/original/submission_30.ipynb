{
 "cells": [
  {
   "attachments": {},
   "cell_type": "markdown",
   "metadata": {},
   "source": [
    "# Coding Tasks - Week 7\n",
    "Welcome to the Python Programming Exercise Sheet!  \n",
    "In this exercise sheet, we will cover some of the fundamental concepts in Python programming.  \n",
    "Topics covered are: NumPy.\n",
    "\n",
    "___\n",
    "\n",
    "**DEADLINE**:  19th June until 12:15  \n",
    "**Your name here**: Simon Rebers \n",
    "**Your university mail**: srebers@uos-osnabrueck.de\n",
    "\n",
    "___\n",
    "\n",
    "**Important information**:  \n",
    "In order to pass this sheet you need to achieve  /  points.  \n",
    "For the best possible grade you require  /  points, however, since some harder tasks may take a lot of time you don't have to pressure yourself.  \n",
    "If you complete any three tasks on a sheet you will definitely get a good grade for that sheet.  \n",
    "Hand in your sheet in studip in the respective folder until the deadline.  \n",
    "If you receive no email until a few days after submission you will have passed, the sample solution will also be uploaded around then.  \n",
    "If you receive an email you don't need to worry, you can fail one sheet and also your total points will also be taken into account for the final pass or fail.  "
   ]
  },
  {
   "attachments": {},
   "cell_type": "markdown",
   "metadata": {},
   "source": [
    "### Task 1 - Array Manipulation (4 points)\n",
    "\n",
    "Create a Python program that takes a 1D NumPy array of size 10 with random integer values between 1 and 100 (inclusive) and performs the following operations:\n",
    "\n",
    "- Create the 1D array with the specified size.\n",
    "- Reshape the array into a 2x5 matrix.\n",
    "- Transpose the matrix.\n",
    "- Finally, find the index of the maximum value in the array."
   ]
  },
  {
   "cell_type": "code",
   "execution_count": 4,
   "metadata": {},
   "outputs": [
    {
     "name": "stdout",
     "output_type": "stream",
     "text": [
      "The original array:\n",
      "[55 85 99  2 74 36 35 32 39 11]\n",
      "The reshaped array:\n",
      "[[55 85 99  2 74]\n",
      " [36 35 32 39 11]]\n",
      "The transposed array:\n",
      "[[55 36]\n",
      " [85 35]\n",
      " [99 32]\n",
      " [ 2 39]\n",
      " [74 11]]\n",
      "The index of the maximum value:\n",
      "2\n"
     ]
    }
   ],
   "source": [
    "import numpy as np\n",
    "\n",
    "# Create a 1D array of size 10 with random integer values between 1 and 100\n",
    "arr = np.random.randint(1, 101, 10)\n",
    "\n",
    "# Reshape the array into a 2x5 matrix\n",
    "arr_reshaped = arr.reshape(2,5)\n",
    "\n",
    "# Transpose the matrix\n",
    "arr_transposed = arr_reshaped.transpose()\n",
    "\n",
    "# Find the index of the maximum value in the array\n",
    "max_index = arr.argmax()\n",
    "\n",
    "# Print the original array\n",
    "print(f\"The original array:\\n{arr}\")\n",
    "\n",
    "# Print the reshaped array\n",
    "print(f\"The reshaped array:\\n{arr_reshaped}\")\n",
    "\n",
    "# Print the transposed array\n",
    "print(f\"The transposed array:\\n{arr_transposed}\")\n",
    "\n",
    "# Print the index of the maximum value\n",
    "print(f\"The index of the maximum value:\\n{max_index}\")\n"
   ]
  },
  {
   "attachments": {},
   "cell_type": "markdown",
   "metadata": {},
   "source": [
    "### Task 2 - Standart Deviation Ratio (SDR) (4 points)\n",
    "\n",
    "Implement a Python program that calculates the standard deviation ratio (SDR) of a given 1D NumPy array. SDR represents the ratio of the standard deviation of the positive elements to the standard deviation of the negative elements.\n",
    "\n",
    "- Create a 1D array of 100 random values.\n",
    "- Split the array into positive and negative elements.\n",
    "- Calculate the standard deviations of the positive and negative arrays.\n",
    "- Calculate the standard deviation ratio (SDR)."
   ]
  },
  {
   "cell_type": "code",
   "execution_count": 1,
   "metadata": {},
   "outputs": [
    {
     "name": "stdout",
     "output_type": "stream",
     "text": [
      "Array:\n",
      "[ 78  23 -93 -25  59 -90 -12  78  64 -21 -38  28  -1  43 -48   1  34  54\n",
      "  41  78  63 -91 -65  71   9 -64   0  11 -96 -69 -54  37  96  59  -7  53\n",
      " -77 -66 -58  81 -39 -25 -79 -63  99  55  44  49 -31 -63  19  56  96 -18\n",
      "  43 -55  36  22  -5 -20 -66  46  85  32 -93  68  59 -10 -43   7 -23   3\n",
      " -89  79  35 -85 -95  76 -35  78 -64  11 -14  27  11  32  12  52 -69 -98\n",
      "  67  51 -72  57 -41 -89  23  13  83 -37]\n",
      "The positive array:\n",
      "[78 23 59 78 64 28 43  1 34 54 41 78 63 71  9 11 37 96 59 53 81 99 55 44\n",
      " 49 19 56 96 43 36 22 46 85 32 68 59  7  3 79 35 76 78 11 27 11 32 12 52\n",
      " 67 51 57 23 13 83]\n",
      "The negative array:\n",
      "[-93 -25 -90 -12 -21 -38  -1 -48 -91 -65 -64 -96 -69 -54  -7 -77 -66 -58\n",
      " -39 -25 -79 -63 -31 -63 -18 -55  -5 -20 -66 -93 -10 -43 -23 -89 -85 -95\n",
      " -35 -64 -14 -69 -98 -72 -41 -89 -37]\n",
      "Standard Deviation Ratio:\n",
      "0.9069328662852391\n"
     ]
    }
   ],
   "source": [
    "import numpy as np\n",
    "\n",
    "# Create a 1D array of 100 random values\n",
    "arr1 = np.random.randint(-100,100,100)\n",
    "\n",
    "# Split the array into positive and negative elements\n",
    "positive_array = np.array(arr1[arr1>0])\n",
    "negative_array = np.array(arr1[arr1<0])\n",
    "\n",
    "# Calculate the standard deviations\n",
    "positive_std_dev = np.std(positive_array)\n",
    "negative_std_dev = np.std(negative_array)\n",
    "\n",
    "# Calculate the standard deviation ratio\n",
    "sdr = positive_std_dev / negative_std_dev\n",
    "\n",
    "# Print the original array\n",
    "print(f\"Array:\\n{arr1}\")\n",
    "\n",
    "# Print the positive array\n",
    "print(f\"The positive array:\\n{positive_array}\")\n",
    "\n",
    "# Print the negative array\n",
    "print(f\"The negative array:\\n{negative_array}\")\n",
    "\n",
    "# Print the standard deviation ratio\n",
    "print(f\"Standard Deviation Ratio:\\n{sdr}\")\n"
   ]
  },
  {
   "attachments": {},
   "cell_type": "markdown",
   "metadata": {},
   "source": [
    "### Task 3 - Identity Matrix (3 points)\n",
    "\n",
    "Create a 5x5 identity matrix where:\n",
    "\n",
    "- All diagonal elements are equal to 0.\n",
    "- The rest of the elements should be random integers between 0 and 50 (inclusive)."
   ]
  },
  {
   "cell_type": "code",
   "execution_count": 5,
   "metadata": {},
   "outputs": [
    {
     "name": "stdout",
     "output_type": "stream",
     "text": [
      "[[ 0. 25. 25. 44. 14.]\n",
      " [44.  0. 18.  0.  1.]\n",
      " [26. 18.  0.  1.  5.]\n",
      " [49.  2. 44.  0. 32.]\n",
      " [44. 26.  9. 31.  0.]]\n"
     ]
    }
   ],
   "source": [
    "import numpy as np\n",
    "\n",
    "# Create a 5x5 identity matrix\n",
    "identity_matrix = np.zeros((5,5))\n",
    "\n",
    "# Generate random integers between 0 and 50 (inclusive)\n",
    "random_integers = np.random.randint(0,51, size=(5, 5))\n",
    "\n",
    "# Replace the non-diagonal elements with random integers\n",
    "identity_matrix[~np.eye(5, dtype=bool)] = random_integers[~np.eye(5, dtype=bool)]\n",
    "\n",
    "print(identity_matrix)\n"
   ]
  },
  {
   "attachments": {},
   "cell_type": "markdown",
   "metadata": {},
   "source": [
    "### Task 4 - Calculate the Euclidean distance between two arrays (2 points)\n",
    "The Euclidean distance measures the straight-line distance between two points in space. In this task, you will calculate the Euclidean distance between two 1-dimensional arrays using the NumPy library.\n",
    "\n",
    "**Hint:** To calculate the Euclidean distance between the two arrays, we can use the np.linalg.norm() function. This function calculates the norm, which is a generalized form of the Euclidean distance, of the difference between the arrays:\n"
   ]
  },
  {
   "cell_type": "code",
   "execution_count": 28,
   "metadata": {},
   "outputs": [
    {
     "name": "stdout",
     "output_type": "stream",
     "text": [
      "Euclidean Distance: 5.196152422706632\n"
     ]
    }
   ],
   "source": [
    "import numpy as np\n",
    "\n",
    "# Create two 1-dimensional arrays\n",
    "arr1 = np.array([1, 2, 3])\n",
    "arr2 = np.array([4, 5, 6])\n",
    "\n",
    "# Calculate the difference between the two arrays\n",
    "difference = arr1 - arr2\n",
    "\n",
    "# Calculate the Euclidean stance using the norm function from the linalg module\n",
    "distance = np.linalg.norm(difference)\n",
    "\n",
    "# Print the calculated Euclidean distance\n",
    "print(\"Euclidean Distance:\", distance)"
   ]
  },
  {
   "attachments": {},
   "cell_type": "markdown",
   "metadata": {},
   "source": [
    "### Task 5 - Find the Point of Exceeding a Cumulative Sum Threshold (4 points)\n",
    "\n",
    "Generate a random 1-dimensional array of size 100 with values ranging from 0 to 9. Calculate the cumulative sum of the array and find the index where the cumulative sum exceeds 100 for the first time, then print the index.\n",
    "Description:\n",
    "In this task, you will work with a randomly generated 1-dimensional array of numerical values. Your goal is to calculate the cumulative sum of the array, which represents the running total of the values. Then, you need to identify the position in the array where the cumulative sum exceeds a specific threshold."
   ]
  },
  {
   "cell_type": "code",
   "execution_count": 8,
   "metadata": {},
   "outputs": [
    {
     "name": "stdout",
     "output_type": "stream",
     "text": [
      "Index where cumulative sum exceeds 100 : (array([20, 21, 22, 23, 24, 25, 26, 27, 28, 29, 30, 31, 32, 33, 34, 35, 36,\n",
      "       37, 38, 39, 40, 41, 42, 43, 44, 45, 46, 47, 48, 49, 50, 51, 52, 53,\n",
      "       54, 55, 56, 57, 58, 59, 60, 61, 62, 63, 64, 65, 66, 67, 68, 69, 70,\n",
      "       71, 72, 73, 74, 75, 76, 77, 78, 79, 80, 81, 82, 83, 84, 85, 86, 87,\n",
      "       88, 89, 90, 91, 92, 93, 94, 95, 96, 97, 98, 99], dtype=int64),)\n"
     ]
    }
   ],
   "source": [
    "import numpy as np\n",
    "\n",
    "# Generate a random 1-dimensional array of size 100 with values ranging from 0 to 9\n",
    "arr = np.random.randint(0, 10, size=100)\n",
    "\n",
    "# Calculate the cumulative sum of the array\n",
    "cumulative_sum = arr.sum() \n",
    "\n",
    "# Set the threshold value\n",
    "threshold = 100\n",
    "\n",
    "# Find the index where the cumulative sum first exceeds the threshold\n",
    "index = np.where(np.cumsum(arr)>100)[0][0]\n",
    "\n",
    "# Print the index where the cumulative sum exceeds the threshold\n",
    "print(\"Index where cumulative sum exceeds\", threshold, \":\", index)\n"
   ]
  },
  {
   "attachments": {},
   "cell_type": "markdown",
   "metadata": {},
   "source": [
    "### Task 6 - Performing Linear Algebra Operations (3 points)\n",
    "Description: In this task, you will work with a randomly generated 2-dimensional array and perform linear algebra operations using NumPy. You will calculate the determinant of the array, compute its inverse, and verify that the product of the array and its inverse yields the identity matrix. This task provides an opportunity to explore fundamental linear algebra concepts, such as determinants, matrix inverses, and the properties of the identity matrix, using NumPy.\n",
    "\n",
    "1. Create a 2-dimensional array with shape (2, 2) and fill it with random integers between 1 and 9.\n",
    "2. Calculate the determinant of the array.\n",
    "3. Compute the inverse of the array.\n",
    "4. Multiply the array by its inverse.\n",
    "5. Print the final array."
   ]
  },
  {
   "cell_type": "code",
   "execution_count": 145,
   "metadata": {},
   "outputs": [
    {
     "name": "stdout",
     "output_type": "stream",
     "text": [
      "[[8 3]\n",
      " [6 2]]\n",
      "Identity Matrix:\n",
      " [[1. 0.]\n",
      " [0. 1.]]\n"
     ]
    }
   ],
   "source": [
    "import numpy as np\n",
    "\n",
    "# Generate a random 2-dimensional array with shape (2, 2) and random integers between 1 and 9\n",
    "arr = np.random.randint(1,10, size=(2, 2))\n",
    "\n",
    "print(arr)\n",
    "\n",
    "# Calculate the determinant of the array\n",
    "determinant = np.linalg.det(arr)\n",
    "\n",
    "# Compute the inverse of the array\n",
    "inverse = np.linalg.inv(arr)\n",
    "\n",
    "# Multiply the array by its inverse to obtain the identity matrix\n",
    "identity = np.matmul(arr, inverse)\n",
    "identity = np.around(identity,2)\n",
    "\n",
    "# Print the resulting identity matrix\n",
    "print(\"Identity Matrix:\\n\", identity)\n"
   ]
  }
 ],
 "metadata": {
  "kernelspec": {
   "display_name": "Python 3 (ipykernel)",
   "language": "python",
   "name": "python3"
  },
  "language_info": {
   "codemirror_mode": {
    "name": "ipython",
    "version": 3
   },
   "file_extension": ".py",
   "mimetype": "text/x-python",
   "name": "python",
   "nbconvert_exporter": "python",
   "pygments_lexer": "ipython3",
   "version": "3.11.4"
  }
 },
 "nbformat": 4,
 "nbformat_minor": 4
}
