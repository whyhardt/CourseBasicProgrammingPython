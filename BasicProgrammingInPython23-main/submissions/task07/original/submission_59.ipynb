{
 "cells": [
  {
   "attachments": {},
   "cell_type": "markdown",
   "metadata": {},
   "source": [
    "# Coding Tasks - Week 7\n",
    "Welcome to the Python Programming Exercise Sheet!  \n",
    "In this exercise sheet, we will cover some of the fundamental concepts in Python programming.  \n",
    "Topics covered are: NumPy.\n",
    "\n",
    "___\n",
    "\n",
    "**DEADLINE**:  19th June until 12:15  \n",
    "**Your name here**: Esma Hodzic  \n",
    "**Your university mail**: ehodzic@uni-osnabrueck.de \n",
    "\n",
    "\n",
    "___\n",
    "\n",
    "**Important information**:  \n",
    "In order to pass this sheet you need to achieve  /  points.  \n",
    "For the best possible grade you require  /  points, however, since some harder tasks may take a lot of time you don't have to pressure yourself.  \n",
    "If you complete any three tasks on a sheet you will definitely get a good grade for that sheet.  \n",
    "Hand in your sheet in studip in the respective folder until the deadline.  \n",
    "If you receive no email until a few days after submission you will have passed, the sample solution will also be uploaded around then.  \n",
    "If you receive an email you don't need to worry, you can fail one sheet and also your total points will also be taken into account for the final pass or fail.  "
   ]
  },
  {
   "attachments": {},
   "cell_type": "markdown",
   "metadata": {},
   "source": [
    "### Task 1 - Array Manipulation (n points)\n",
    "\n",
    "Create a Python program that takes a 1D NumPy array of size 10 with random integer values between 1 and 100 (inclusive) and performs the following operations:\n",
    "\n",
    "- Create the 1D array with the specified size.\n",
    "- Reshape the array into a 2x5 matrix.\n",
    "- Transpose the matrix.\n",
    "- Finally, find the index of the maximum value in the array."
   ]
  },
  {
   "cell_type": "code",
   "execution_count": 13,
   "metadata": {},
   "outputs": [
    {
     "name": "stdout",
     "output_type": "stream",
     "text": [
      "The original array:\n",
      "[33 17 24 62  4 56 93 90 57  6]\n",
      "The reshaped array:\n",
      "[[33 17 24 62  4]\n",
      " [56 93 90 57  6]]\n",
      "The transposed array:\n",
      "[[33 56]\n",
      " [17 93]\n",
      " [24 90]\n",
      " [62 57]\n",
      " [ 4  6]]\n",
      "The index of the maximum value:\n",
      "3\n"
     ]
    }
   ],
   "source": [
    "import numpy as np\n",
    "\n",
    "# Create a 1D array of size 10 with random integer values between 1 and 100\n",
    "arr = np.random.randint(1, 101, 10)\n",
    "\n",
    "# Reshape the array into a 2x5 matrix\n",
    "arr_reshaped = arr.reshape(2, 5)\n",
    "\n",
    "# Transpose the matrix\n",
    "arr_transposed = arr_reshaped.transpose()\n",
    "\n",
    "# Find the index of the maximum value in the array\n",
    "max_index = np.argmax(arr_transposed)\n",
    "\n",
    "# Print the original array\n",
    "print(f\"The original array:\\n{arr}\")\n",
    "\n",
    "# Print the reshaped array\n",
    "print(f\"The reshaped array:\\n{arr_reshaped}\")\n",
    "\n",
    "# Print the transposed array\n",
    "print(f\"The transposed array:\\n{arr_transposed}\")\n",
    "\n",
    "# Print the index of the maximum value\n",
    "print(f\"The index of the maximum value:\\n{max_index}\")"
   ]
  },
  {
   "attachments": {},
   "cell_type": "markdown",
   "metadata": {},
   "source": [
    "### Task 2 - Standart Deviation Ratio (SDR) (n points)\n",
    "\n",
    "Implement a Python program that calculates the standard deviation ratio (SDR) of a given 1D NumPy array. SDR represents the ratio of the standard deviation of the positive elements to the standard deviation of the negative elements.\n",
    "\n",
    "- Create a 1D array of 100 random values.\n",
    "- Split the array into positive and negative elements.\n",
    "- Calculate the standard deviations of the positive and negative arrays.\n",
    "- Calculate the standard deviation ratio (SDR)."
   ]
  },
  {
   "cell_type": "code",
   "execution_count": 15,
   "metadata": {},
   "outputs": [
    {
     "name": "stdout",
     "output_type": "stream",
     "text": [
      "Array:\n",
      "[-2.02760937  1.79807581 -0.66209323  1.52728117  0.00501854  0.10151272\n",
      "  1.17769704  0.87245933  2.2933084   1.62471876 -0.92158917 -1.11178806\n",
      "  0.41228022  1.73985465 -0.06117954  0.73609157  0.82724209 -0.19020979\n",
      "  0.28037039  0.834256    0.24258329  0.72794461 -0.04237571 -0.70726383\n",
      "  1.53227373 -1.81781783 -0.66070641  0.23420738  0.16323667 -0.34364953\n",
      "  0.18078186 -0.66605803 -0.30357447 -2.21666043  0.59635025 -0.52564726\n",
      " -0.56333375  1.12075155  0.70810394  1.14048825  0.26085924 -0.29381462\n",
      "  0.80680656  0.35667706  0.07454626  0.33716621  0.78012315  2.16330279\n",
      " -1.2488742  -0.14015295 -0.58611255  0.35521377 -0.39697592 -0.96323593\n",
      "  0.21771226  0.53010457  1.3717945   0.39891604 -2.05847996  0.66487111\n",
      "  0.61489955  0.4816381   0.10511362 -0.55988761 -0.07214975 -0.5898555\n",
      "  2.1775185  -1.51394684  0.10955226 -1.84010275  1.41589592 -0.46045446\n",
      " -1.05056246  0.70491709  1.40774052  0.14158262  0.02708132 -0.0498903\n",
      "  0.04050245 -0.20358458  1.84025131  0.17218115 -0.41912539 -0.17775139\n",
      "  0.12121899 -0.20734932 -0.81970122 -0.38147067 -0.20413735  0.80234999\n",
      " -1.0062348   0.24056087 -0.18904536  0.15731082  2.82835496  0.41058718\n",
      "  1.94672094 -0.01811822 -1.33661372 -0.89498942]\n",
      "The positive array:\n",
      "[1.79807581 1.52728117 0.00501854 0.10151272 1.17769704 0.87245933\n",
      " 2.2933084  1.62471876 0.41228022 1.73985465 0.73609157 0.82724209\n",
      " 0.28037039 0.834256   0.24258329 0.72794461 1.53227373 0.23420738\n",
      " 0.16323667 0.18078186 0.59635025 1.12075155 0.70810394 1.14048825\n",
      " 0.26085924 0.80680656 0.35667706 0.07454626 0.33716621 0.78012315\n",
      " 2.16330279 0.35521377 0.21771226 0.53010457 1.3717945  0.39891604\n",
      " 0.66487111 0.61489955 0.4816381  0.10511362 2.1775185  0.10955226\n",
      " 1.41589592 0.70491709 1.40774052 0.14158262 0.02708132 0.04050245\n",
      " 1.84025131 0.17218115 0.12121899 0.80234999 0.24056087 0.15731082\n",
      " 2.82835496 0.41058718 1.94672094]\n",
      "The negative array:\n",
      "[-2.21666043 -2.05847996 -2.02760937 -1.84010275 -1.81781783 -1.51394684\n",
      " -1.33661372 -1.2488742  -1.11178806 -1.05056246 -1.0062348  -0.96323593\n",
      " -0.92158917 -0.89498942 -0.81970122 -0.70726383 -0.66605803 -0.66209323\n",
      " -0.66070641 -0.5898555  -0.58611255 -0.56333375 -0.55988761 -0.52564726\n",
      " -0.46045446 -0.41912539 -0.39697592 -0.38147067 -0.34364953 -0.30357447\n",
      " -0.29381462 -0.20734932 -0.20413735 -0.20358458 -0.19020979 -0.18904536\n",
      " -0.17775139 -0.14015295 -0.07214975 -0.06117954 -0.0498903  -0.04237571\n",
      " -0.01811822]\n",
      "Standard Deviation Ratio:\n",
      "1.157643210419247\n"
     ]
    }
   ],
   "source": [
    "import numpy as np\n",
    "\n",
    "# Create a 1D array of 100 random values\n",
    "arr1 = np.random.randn(100)\n",
    "\n",
    "# Split the array into positive and negative elements\n",
    "positive_array = arr1[arr1 >= 0]\n",
    "negative_array = np.setdiff1d(arr1, positive_array)\n",
    "\n",
    "# Calculate the standard deviations\n",
    "positive_std_dev = np.std(positive_array)\n",
    "negative_std_dev = np.std(negative_array)\n",
    "\n",
    "# Calculate the standard deviation ratio\n",
    "sdr = positive_std_dev / negative_std_dev\n",
    "\n",
    "# Print the original array\n",
    "print(f\"Array:\\n{arr1}\")\n",
    "\n",
    "# Print the positive array\n",
    "print(f\"The positive array:\\n{positive_array}\")\n",
    "\n",
    "# Print the negative array\n",
    "print(f\"The negative array:\\n{negative_array}\")\n",
    "\n",
    "# Print the standard deviation ratio\n",
    "print(f\"Standard Deviation Ratio:\\n{sdr}\")\n"
   ]
  },
  {
   "attachments": {},
   "cell_type": "markdown",
   "metadata": {},
   "source": [
    "### Task 3 - Identity Matrix (n points)\n",
    "\n",
    "Create a 5x5 identity matrix where:\n",
    "\n",
    "- All diagonal elements are equal to 0.\n",
    "- The rest of the elements should be random integers between 0 and 50 (inclusive)."
   ]
  },
  {
   "cell_type": "code",
   "execution_count": 16,
   "metadata": {},
   "outputs": [
    {
     "name": "stdout",
     "output_type": "stream",
     "text": [
      "[[ 1.  9. 23. 37.  3.]\n",
      " [42.  1. 35. 28. 15.]\n",
      " [30. 48.  1. 18. 47.]\n",
      " [40. 20. 35.  1. 26.]\n",
      " [27.  1. 43. 17.  1.]]\n"
     ]
    }
   ],
   "source": [
    "import numpy as np\n",
    "\n",
    "# Create a 3x3 identity matrix\n",
    "identity_matrix = np.eye(5)\n",
    "\n",
    "# Generate random integers between 0 and 50 (inclusive)\n",
    "random_integers = np.random.randint(0, 51, size=(5,5))\n",
    "\n",
    "# Replace the non-diagonal elements with random integers\n",
    "identity_matrix[~np.eye(5, dtype=bool)] = random_integers[~np.eye(5, dtype=bool)]\n",
    "\n",
    "print(identity_matrix)\n"
   ]
  },
  {
   "attachments": {},
   "cell_type": "markdown",
   "metadata": {},
   "source": [
    "### Task 4 - Calculate the Euclidean distance between two arrays (n points)\n",
    "The Euclidean distance measures the straight-line distance between two points in space. In this task, you will calculate the Euclidean distance between two 1-dimensional arrays using the NumPy library.\n",
    "\n",
    "**Hint:** To calculate the Euclidean distance between the two arrays, we can use the np.linalg.norm() function. This function calculates the norm, which is a generalized form of the Euclidean distance, of the difference between the arrays:\n"
   ]
  },
  {
   "cell_type": "code",
   "execution_count": 17,
   "metadata": {},
   "outputs": [
    {
     "name": "stdout",
     "output_type": "stream",
     "text": [
      "Euclidean Distance: 5.196152422706632\n"
     ]
    }
   ],
   "source": [
    "import numpy as np\n",
    "\n",
    "# Create two 1-dimensional arrays\n",
    "arr1 = np.array([1, 2, 3])\n",
    "arr2 = np.array([4, 5, 6])\n",
    "\n",
    "# Calculate the difference between the two arrays\n",
    "difference = arr1 - arr2\n",
    "\n",
    "# Calculate the Euclidean distance using the norm function from the linalg module\n",
    "distance = np.linalg.norm(difference)\n",
    "\n",
    "# Print the calculated Euclidean distance\n",
    "print(\"Euclidean Distance:\", distance)"
   ]
  },
  {
   "attachments": {},
   "cell_type": "markdown",
   "metadata": {},
   "source": [
    "### Task 5 - Find the Point of Exceeding a Cumulative Sum Threshold (n points)\n",
    "\n",
    "Generate a random 1-dimensional array of size 100 with values ranging from 0 to 9. Calculate the cumulative sum of the array and find the index where the cumulative sum exceeds 100 for the first time, then print the index.\n",
    "Description:\n",
    "In this task, you will work with a randomly generated 1-dimensional array of numerical values. Your goal is to calculate the cumulative sum of the array, which represents the running total of the values. Then, you need to identify the position in the array where the cumulative sum exceeds a specific threshold."
   ]
  },
  {
   "cell_type": "code",
   "execution_count": 20,
   "metadata": {},
   "outputs": [
    {
     "name": "stdout",
     "output_type": "stream",
     "text": [
      "Index where cumulative sum exceeds 100 : 20\n"
     ]
    }
   ],
   "source": [
    "import numpy as np\n",
    "\n",
    "# Generate a random 1-dimensional array of size 100 with values ranging from 0 to 9\n",
    "arr = np.random.randint(0, 10, size=100)\n",
    "\n",
    "# Calculate the cumulative sum of the array\n",
    "cumulative_sum = np.cumsum(arr)\n",
    "# Set the threshold value\n",
    "threshold = 100\n",
    "\n",
    "# Find the index where the cumulative sum first exceeds the threshold\n",
    "threshold_mask = cumulative_sum > threshold\n",
    "index = np.argmax(threshold_mask) # Returns the first occurrence of true ( 1 )\n",
    "\n",
    "# Print the index where the cumulative sum exceeds the threshold\n",
    "print(\"Index where cumulative sum exceeds\", threshold, \":\", index)\n"
   ]
  },
  {
   "attachments": {},
   "cell_type": "markdown",
   "metadata": {},
   "source": [
    "### Task 6 - Performing Linear Algebra Operations (n points)\n",
    "Description: In this task, you will work with a randomly generated 2-dimensional array and perform linear algebra operations using NumPy. You will calculate the determinant of the array, compute its inverse, and verify that the product of the array and its inverse yields the identity matrix. This task provides an opportunity to explore fundamental linear algebra concepts, such as determinants, matrix inverses, and the properties of the identity matrix, using NumPy.\n",
    "\n",
    "1. Create a 2-dimensional array with shape (2, 2) and fill it with random integers between 1 and 9.\n",
    "2. Calculate the determinant of the array.\n",
    "3. Compute the inverse of the array.\n",
    "4. Multiply the array by its inverse.\n",
    "5. Print the final array."
   ]
  },
  {
   "cell_type": "code",
   "execution_count": 25,
   "metadata": {},
   "outputs": [
    {
     "name": "stdout",
     "output_type": "stream",
     "text": [
      "Identity Matrix:\n",
      " [[1. 0.]\n",
      " [0. 1.]]\n"
     ]
    }
   ],
   "source": [
    "import numpy as np\n",
    "\n",
    "# Generate a random 2-dimensional array with shape (2, 2) and random integers between 1 and 9\n",
    "arr = np.random.randint(1, 10, size=(2, 2))\n",
    "\n",
    "# Calculate the determinant of the array\n",
    "determinant =np.linalg.det(arr)\n",
    "\n",
    "# Compute the inverse of the array\n",
    "inverse = np.linalg.inv(arr)\n",
    "\n",
    "# Multiply the array by its inverse to obtain the identity matrix\n",
    "identity = np.dot(arr, inverse)\n",
    "\n",
    "# Print the resulting identity matrix\n",
    "print(\"Identity Matrix:\\n\", identity)\n"
   ]
  }
 ],
 "metadata": {
  "kernelspec": {
   "display_name": "ml",
   "language": "python",
   "name": "python3"
  },
  "language_info": {
   "codemirror_mode": {
    "name": "ipython",
    "version": 3
   },
   "file_extension": ".py",
   "mimetype": "text/x-python",
   "name": "python",
   "nbconvert_exporter": "python",
   "pygments_lexer": "ipython3",
   "version": "3.11.2"
  },
  "orig_nbformat": 4
 },
 "nbformat": 4,
 "nbformat_minor": 2
}
