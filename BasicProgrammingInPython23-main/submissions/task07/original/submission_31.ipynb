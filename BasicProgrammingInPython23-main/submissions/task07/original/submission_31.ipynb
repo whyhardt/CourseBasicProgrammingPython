{
 "cells": [
  {
   "cell_type": "markdown",
   "metadata": {},
   "source": [
    "# Coding Tasks - Week 7\n",
    "Welcome to the Python Programming Exercise Sheet!  \n",
    "In this exercise sheet, we will cover some of the fundamental concepts in Python programming.  \n",
    "Topics covered are: NumPy.\n",
    "\n",
    "___\n",
    "\n",
    "**DEADLINE**:  19th June until 12:15  \n",
    "**Your name here**: Mahsa zand  \n",
    "**Your university mail**: mzandkhanehs@uni-osnabrueck.de\n",
    "\n",
    "___\n",
    "\n",
    "**Important information**:  \n",
    "In order to pass this sheet you need to achieve  /  points.  \n",
    "For the best possible grade you require  /  points, however, since some harder tasks may take a lot of time you don't have to pressure yourself.  \n",
    "If you complete any three tasks on a sheet you will definitely get a good grade for that sheet.  \n",
    "Hand in your sheet in studip in the respective folder until the deadline.  \n",
    "If you receive no email until a few days after submission you will have passed, the sample solution will also be uploaded around then.  \n",
    "If you receive an email you don't need to worry, you can fail one sheet and also your total points will also be taken into account for the final pass or fail.  "
   ]
  },
  {
   "cell_type": "markdown",
   "metadata": {},
   "source": [
    "### Task 1 - Array Manipulation (4 points)\n",
    "\n",
    "Create a Python program that takes a 1D NumPy array of size 10 with random integer values between 1 and 100 (inclusive) and performs the following operations:\n",
    "\n",
    "- Create the 1D array with the specified size.\n",
    "- Reshape the array into a 2x5 matrix.\n",
    "- Transpose the matrix.\n",
    "- Finally, find the index of the maximum value in the array."
   ]
  },
  {
   "cell_type": "code",
   "execution_count": 3,
   "metadata": {},
   "outputs": [
    {
     "name": "stdout",
     "output_type": "stream",
     "text": [
      "The original array:\n",
      "[ 5 68 96 22 82 46 66 70 23 36]\n",
      "The reshaped array:\n",
      "[[ 5 68 96 22 82]\n",
      " [46 66 70 23 36]]\n",
      "The transposed array:\n",
      "[ 5 68 96 22 82 46 66 70 23 36]\n",
      "The index of the maximum value:\n",
      "2\n"
     ]
    }
   ],
   "source": [
    "import numpy as np\n",
    "\n",
    "# Create a 1D array of size 10 with random integer values between 1 and 100\n",
    "arr = np.random.randint(1, 101, 10)\n",
    "\n",
    "# Reshape the array into a 2x5 matrix\n",
    "arr_reshaped =  np.reshape(arr, (2, 5))\n",
    "\n",
    "# Transpose the matrix\n",
    "arr_transposed = np.transpose(arr) #arr.transpose()\n",
    "\n",
    "# Find the index of the maximum value in the array\n",
    "max_index = np.argmax(arr) #arr.argmax() \n",
    "\n",
    "# Print the original array\n",
    "print(f\"The original array:\\n{arr}\")\n",
    "\n",
    "# Print the reshaped array\n",
    "print(f\"The reshaped array:\\n{arr_reshaped}\")\n",
    "\n",
    "# Print the transposed array\n",
    "print(f\"The transposed array:\\n{arr_transposed}\")\n",
    "\n",
    "# Print the index of the maximum value\n",
    "print(f\"The index of the maximum value:\\n{max_index}\")\n"
   ]
  },
  {
   "cell_type": "markdown",
   "metadata": {},
   "source": [
    "### Task 2 - Standart Deviation Ratio (SDR) (4 points)\n",
    "\n",
    "Implement a Python program that calculates the standard deviation ratio (SDR) of a given 1D NumPy array. SDR represents the ratio of the standard deviation of the positive elements to the standard deviation of the negative elements.\n",
    "\n",
    "- Create a 1D array of 100 random values.\n",
    "- Split the array into positive and negative elements.\n",
    "- Calculate the standard deviations of the positive and negative arrays.\n",
    "- Calculate the standard deviation ratio (SDR)."
   ]
  },
  {
   "cell_type": "code",
   "execution_count": 7,
   "metadata": {},
   "outputs": [
    {
     "name": "stdout",
     "output_type": "stream",
     "text": [
      "Array:\n",
      "[-0.07128825  0.0530392   0.70076104  1.62654416  0.31780608  0.10338466\n",
      "  0.16201787  0.0407523  -0.48313565 -1.12163319 -0.46283153 -0.16298657\n",
      "  0.50285317  0.82676886 -0.32748026  0.95020767  0.79307023 -0.20845522\n",
      "  0.01370504 -0.88115204 -1.98598807  1.24013303  0.02977752  0.05831321\n",
      "  0.6621934   0.53201792  1.14839449 -1.73168013  1.62490777  2.40692732\n",
      " -0.03820463 -1.22693929 -0.36360719  1.06511555 -1.02488989  0.39098737\n",
      "  1.47937462  0.86428096  0.53600558  1.02956534  0.10148869  0.38525559\n",
      " -0.24148431  0.28388743 -1.46059607  0.52061527  0.61746297 -0.81858632\n",
      "  0.22236599 -1.11328036 -0.37810918 -0.97395469 -0.08487714 -0.61594055\n",
      "  1.73830728  0.86106438 -0.6091759   0.98689012  1.17178931  0.23531627\n",
      " -0.27329128 -0.38028641  0.4030471  -0.16257798 -0.49264037  0.40078959\n",
      " -0.06922647 -1.17839297 -0.85776728 -1.80246722 -0.17510136  0.74459795\n",
      " -2.44992546 -0.08322684 -1.45318708 -0.10762655  0.67783784 -0.81488911\n",
      " -0.38907648 -0.32596942  0.34567346 -0.39885373 -0.33090117 -0.61323791\n",
      " -1.36183063 -1.71417812 -0.49569251 -0.37471271  1.45559009  1.05389315\n",
      " -2.55068734  0.07127132  0.40288808  0.87015222  1.19052309 -0.31289429\n",
      " -0.26483367  1.83611868 -1.24766635  0.14834809]\n",
      "The positive array:\n",
      "[0.0530392  0.70076104 1.62654416 0.31780608 0.10338466 0.16201787\n",
      " 0.0407523  0.50285317 0.82676886 0.95020767 0.79307023 0.01370504\n",
      " 1.24013303 0.02977752 0.05831321 0.6621934  0.53201792 1.14839449\n",
      " 1.62490777 2.40692732 1.06511555 0.39098737 1.47937462 0.86428096\n",
      " 0.53600558 1.02956534 0.10148869 0.38525559 0.28388743 0.52061527\n",
      " 0.61746297 0.22236599 1.73830728 0.86106438 0.98689012 1.17178931\n",
      " 0.23531627 0.4030471  0.40078959 0.74459795 0.67783784 0.34567346\n",
      " 1.45559009 1.05389315 0.07127132 0.40288808 0.87015222 1.19052309\n",
      " 1.83611868 0.14834809]\n",
      "The negative array:\n",
      "[-0.07128825 -0.48313565 -1.12163319 -0.46283153 -0.16298657 -0.32748026\n",
      " -0.20845522 -0.88115204 -1.98598807 -1.73168013 -0.03820463 -1.22693929\n",
      " -0.36360719 -1.02488989 -0.24148431 -1.46059607 -0.81858632 -1.11328036\n",
      " -0.37810918 -0.97395469 -0.08487714 -0.61594055 -0.6091759  -0.27329128\n",
      " -0.38028641 -0.16257798 -0.49264037 -0.06922647 -1.17839297 -0.85776728\n",
      " -1.80246722 -0.17510136 -2.44992546 -0.08322684 -1.45318708 -0.10762655\n",
      " -0.81488911 -0.38907648 -0.32596942 -0.39885373 -0.33090117 -0.61323791\n",
      " -1.36183063 -1.71417812 -0.49569251 -0.37471271 -2.55068734 -0.31289429\n",
      " -0.26483367 -1.24766635]\n",
      "Standard Deviation Ratio:\n",
      "0.9386189404852566\n"
     ]
    }
   ],
   "source": [
    "import numpy as np\n",
    "\n",
    "# Create a 1D array of 100 random values\n",
    "arr1 =  np.random.randn(100)\n",
    "\n",
    "# Split the array into positive and negative elements\n",
    "positive_array = arr1[arr1 >= 0]\n",
    "negative_array = arr1[arr1 < 0]\n",
    "\n",
    "# Calculate the standard deviations\n",
    "positive_std_dev = np.std(positive_array)\n",
    "negative_std_dev = np.std(negative_array)\n",
    "\n",
    "# Calculate the standard deviation ratio\n",
    "sdr = np.std(arr1)\n",
    "\n",
    "# Print the original array\n",
    "print(f\"Array:\\n{arr1}\")\n",
    "\n",
    "# Print the positive array\n",
    "print(f\"The positive array:\\n{positive_array}\")\n",
    "\n",
    "# Print the negative array\n",
    "print(f\"The negative array:\\n{negative_array}\")\n",
    "\n",
    "# Print the standard deviation ratio\n",
    "print(f\"Standard Deviation Ratio:\\n{sdr}\")\n"
   ]
  },
  {
   "cell_type": "markdown",
   "metadata": {},
   "source": [
    "### Task 3 - Identity Matrix (3 points)\n",
    "\n",
    "Create a 5x5 identity matrix where:\n",
    "\n",
    "- All diagonal elements are equal to 0.\n",
    "- The rest of the elements should be random integers between 0 and 50 (inclusive)."
   ]
  },
  {
   "cell_type": "code",
   "execution_count": 80,
   "metadata": {},
   "outputs": [
    {
     "name": "stdout",
     "output_type": "stream",
     "text": [
      "None\n"
     ]
    },
    {
     "ename": "TypeError",
     "evalue": "'int' object is not subscriptable",
     "output_type": "error",
     "traceback": [
      "\u001b[1;31m---------------------------------------------------------------------------\u001b[0m",
      "\u001b[1;31mTypeError\u001b[0m                                 Traceback (most recent call last)",
      "Input \u001b[1;32mIn [80]\u001b[0m, in \u001b[0;36m<cell line: 14>\u001b[1;34m()\u001b[0m\n\u001b[0;32m     11\u001b[0m random_integers \u001b[38;5;241m=\u001b[39m np\u001b[38;5;241m.\u001b[39mrandom\u001b[38;5;241m.\u001b[39mrandint(low\u001b[38;5;241m=\u001b[39m\u001b[38;5;241m0\u001b[39m, high\u001b[38;5;241m=\u001b[39m\u001b[38;5;241m50\u001b[39m)\n\u001b[0;32m     13\u001b[0m \u001b[38;5;66;03m# Replace the non-diagonal elements with random integers\u001b[39;00m\n\u001b[1;32m---> 14\u001b[0m identity_matrix[\u001b[38;5;241m~\u001b[39mnp\u001b[38;5;241m.\u001b[39meye(\u001b[38;5;241m5\u001b[39m, dtype\u001b[38;5;241m=\u001b[39m\u001b[38;5;28mbool\u001b[39m)] \u001b[38;5;241m=\u001b[39m \u001b[43mrandom_integers\u001b[49m\u001b[43m[\u001b[49m\u001b[38;5;241;43m~\u001b[39;49m\u001b[43mnp\u001b[49m\u001b[38;5;241;43m.\u001b[39;49m\u001b[43meye\u001b[49m\u001b[43m(\u001b[49m\u001b[38;5;241;43m5\u001b[39;49m\u001b[43m,\u001b[49m\u001b[43m \u001b[49m\u001b[43mdtype\u001b[49m\u001b[38;5;241;43m=\u001b[39;49m\u001b[38;5;28;43mbool\u001b[39;49m\u001b[43m)\u001b[49m\u001b[43m]\u001b[49m\n\u001b[0;32m     16\u001b[0m \u001b[38;5;28mprint\u001b[39m(random_integers)\n",
      "\u001b[1;31mTypeError\u001b[0m: 'int' object is not subscriptable"
     ]
    }
   ],
   "source": [
    "import numpy as np\n",
    "\n",
    "# Create a 5x5 identity matrix\n",
    "identity_matrix = np.zeros((5,5),int)\n",
    "q = np.fill_diagonal(identity_matrix, 1)\n",
    "\n",
    "print(q)\n",
    "#identity_matrix = np.diag(1,1)\n",
    "\n",
    "# Generate random integers between 0 and 50 (inclusive)\n",
    "random_integers = np.random.randint(low=0, high=50)\n",
    "\n",
    "# Replace the non-diagonal elements with random integers\n",
    "identity_matrix[~np.eye(5, dtype=bool)] = random_integers[~np.eye(5, dtype=bool)]\n",
    "\n",
    "print(random_integers)\n"
   ]
  },
  {
   "cell_type": "markdown",
   "metadata": {},
   "source": [
    "### Task 4 - Calculate the Euclidean distance between two arrays (2 points)\n",
    "The Euclidean distance measures the straight-line distance between two points in space. In this task, you will calculate the Euclidean distance between two 1-dimensional arrays using the NumPy library.\n",
    "\n",
    "**Hint:** To calculate the Euclidean distance between the two arrays, we can use the np.linalg.norm() function. This function calculates the norm, which is a generalized form of the Euclidean distance, of the difference between the arrays:\n"
   ]
  },
  {
   "cell_type": "code",
   "execution_count": 12,
   "metadata": {},
   "outputs": [
    {
     "name": "stdout",
     "output_type": "stream",
     "text": [
      "Euclidean Distance: 5.196152422706632\n"
     ]
    }
   ],
   "source": [
    "import numpy as np\n",
    "\n",
    "# Create two 1-dimensional arrays\n",
    "arr1 = np.array([1, 2, 3])\n",
    "arr2 = np.array([4, 5, 6])\n",
    "\n",
    "# Calculate the difference between the two arrays\n",
    "difference = arr1 - arr2\n",
    "\n",
    "\n",
    "# Calculate the Euclidean distance using the norm function from the linalg module\n",
    "distance =  np.linalg.norm(difference)\n",
    "\n",
    "# Print the calculated Euclidean distance\n",
    "print(\"Euclidean Distance:\", distance)"
   ]
  },
  {
   "cell_type": "markdown",
   "metadata": {},
   "source": [
    "### Task 5 - Find the Point of Exceeding a Cumulative Sum Threshold (4 points)\n",
    "\n",
    "Generate a random 1-dimensional array of size 100 with values ranging from 0 to 9. Calculate the cumulative sum of the array and find the index where the cumulative sum exceeds 100 for the first time, then print the index.\n",
    "Description:\n",
    "In this task, you will work with a randomly generated 1-dimensional array of numerical values. Your goal is to calculate the cumulative sum of the array, which represents the running total of the values. Then, you need to identify the position in the array where the cumulative sum exceeds a specific threshold."
   ]
  },
  {
   "cell_type": "code",
   "execution_count": 27,
   "metadata": {},
   "outputs": [
    {
     "name": "stdout",
     "output_type": "stream",
     "text": [
      "Index where cumulative sum exceeds 100 : 20\n"
     ]
    }
   ],
   "source": [
    "import numpy as np\n",
    "\n",
    "# Generate a random 1-dimensional array of size 100 with values ranging from 0 to 9\n",
    "arr = np.random.randint(0, 10, size=100)\n",
    "\n",
    "# Calculate the cumulative sum of the array\n",
    "cumulative_sum = np.cumsum(arr)\n",
    "\n",
    "\n",
    "\n",
    "# Set the threshold value\n",
    "threshold = 100\n",
    "\n",
    "# Find the index where the cumulative sum first exceeds the threshold\n",
    "\n",
    "index = np.argmax(cumulative_sum>threshold)\n",
    "\n",
    "\n",
    "# Print the index where the cumulative sum exceeds the threshold\n",
    "print(\"Index where cumulative sum exceeds\", threshold, \":\", index)\n"
   ]
  },
  {
   "cell_type": "markdown",
   "metadata": {},
   "source": [
    "### Task 6 - Performing Linear Algebra Operations (3 points)\n",
    "Description: In this task, you will work with a randomly generated 2-dimensional array and perform linear algebra operations using NumPy. You will calculate the determinant of the array, compute its inverse, and verify that the product of the array and its inverse yields the identity matrix. This task provides an opportunity to explore fundamental linear algebra concepts, such as determinants, matrix inverses, and the properties of the identity matrix, using NumPy.\n",
    "\n",
    "1. Create a 2-dimensional array with shape (2, 2) and fill it with random integers between 1 and 9.\n",
    "2. Calculate the determinant of the array.\n",
    "3. Compute the inverse of the array.\n",
    "4. Multiply the array by its inverse.\n",
    "5. Print the final array."
   ]
  },
  {
   "cell_type": "code",
   "execution_count": 48,
   "metadata": {},
   "outputs": [
    {
     "name": "stdout",
     "output_type": "stream",
     "text": [
      "[[6 7]\n",
      " [4 1]]\n",
      "-21\n",
      "[[-0.04545455  0.31818182]\n",
      " [ 0.18181818 -0.27272727]]\n",
      "Identity Matrix:\n",
      " [[-0.27272727  2.22727273]\n",
      " [ 0.72727273 -0.27272727]]\n"
     ]
    }
   ],
   "source": [
    "import numpy as np\n",
    "\n",
    "# Generate a random 2-dimensional array with shape (2, 2) and random integers between 1 and 9\n",
    "arr =  np.random.randint(1,10, size=(2,2))\n",
    "print(arr)\n",
    "\n",
    "# Calculate the determinant of the array\n",
    "determinant = int(np.linalg.det(arr))\n",
    "print(determinant)\n",
    "\n",
    "# Compute the inverse of the array\n",
    "inverse = np.linalg.inv(arr)\n",
    "print(inverse)\n",
    "# Multiply the array by its inverse to obtain the identity matrix\n",
    "identity = arr * inverse\n",
    "\n",
    "# Print the resulting identity matrix\n",
    "print(\"Identity Matrix:\\n\", identity)\n"
   ]
  },
  {
   "cell_type": "code",
   "execution_count": null,
   "metadata": {},
   "outputs": [],
   "source": []
  }
 ],
 "metadata": {
  "kernelspec": {
   "display_name": "Python 3 (ipykernel)",
   "language": "python",
   "name": "python3"
  },
  "language_info": {
   "codemirror_mode": {
    "name": "ipython",
    "version": 3
   },
   "file_extension": ".py",
   "mimetype": "text/x-python",
   "name": "python",
   "nbconvert_exporter": "python",
   "pygments_lexer": "ipython3",
   "version": "3.9.7"
  }
 },
 "nbformat": 4,
 "nbformat_minor": 4
}
