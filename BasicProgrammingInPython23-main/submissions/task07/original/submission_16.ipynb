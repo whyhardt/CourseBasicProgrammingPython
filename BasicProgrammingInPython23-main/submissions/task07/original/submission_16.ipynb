{
 "cells": [
  {
   "attachments": {},
   "cell_type": "markdown",
   "metadata": {},
   "source": [
    "# Coding Tasks - Week 7\n",
    "Welcome to the Python Programming Exercise Sheet!  \n",
    "In this exercise sheet, we will cover some of the fundamental concepts in Python programming.  \n",
    "Topics covered are: NumPy.\n",
    "\n",
    "___\n",
    "\n",
    "**DEADLINE**:  19th June until 12:15  \n",
    "**Your name here**: Susanna Christ  \n",
    "**Your university mail**: schrist@uos.de\n",
    "\n",
    "___\n",
    "\n",
    "**Important information**:  \n",
    "In order to pass this sheet you need to achieve  /  points.  \n",
    "For the best possible grade you require  /  points, however, since some harder tasks may take a lot of time you don't have to pressure yourself.  \n",
    "If you complete any three tasks on a sheet you will definitely get a good grade for that sheet.  \n",
    "Hand in your sheet in studip in the respective folder until the deadline.  \n",
    "If you receive no email until a few days after submission you will have passed, the sample solution will also be uploaded around then.  \n",
    "If you receive an email you don't need to worry, you can fail one sheet and also your total points will also be taken into account for the final pass or fail.  "
   ]
  },
  {
   "attachments": {},
   "cell_type": "markdown",
   "metadata": {},
   "source": [
    "### Task 1 - Array Manipulation (4 points)\n",
    "\n",
    "Create a Python program that takes a 1D NumPy array of size 10 with random integer values between 1 and 100 (inclusive) and performs the following operations:\n",
    "\n",
    "- Create the 1D array with the specified size.\n",
    "- Reshape the array into a 2x5 matrix.\n",
    "- Transpose the matrix.\n",
    "- Finally, find the index of the maximum value in the array."
   ]
  },
  {
   "cell_type": "code",
   "execution_count": 6,
   "metadata": {},
   "outputs": [
    {
     "name": "stdout",
     "output_type": "stream",
     "text": [
      "The original array:\n",
      "[59 22 90 59 37 31 93 43 26 65]\n",
      "The reshaped array:\n",
      "[[59 22 90 59 37]\n",
      " [31 93 43 26 65]]\n",
      "The transposed array:\n",
      "[[59 31]\n",
      " [22 93]\n",
      " [90 43]\n",
      " [59 26]\n",
      " [37 65]]\n",
      "The index of the maximum value:\n",
      "6\n"
     ]
    }
   ],
   "source": [
    "import numpy as np\n",
    "\n",
    "# Create a 1D array of size 10 with random integer values between 1 and 100\n",
    "arr = np.random.randint(1, 101, 10)\n",
    "\n",
    "# Reshape the array into a 2x5 matrix\n",
    "arr_reshaped = arr.reshape(2,5)\n",
    "\n",
    "# Transpose the matrix\n",
    "arr_transposed = np.transpose(arr_reshaped)\n",
    "\n",
    "# Find the index of the maximum value in the array\n",
    "max_index = arr.argmax()\n",
    "\n",
    "# Print the original array\n",
    "print(f\"The original array:\\n{arr}\")\n",
    "\n",
    "# Print the reshaped array\n",
    "print(f\"The reshaped array:\\n{arr_reshaped}\")\n",
    "\n",
    "# Print the transposed array\n",
    "print(f\"The transposed array:\\n{arr_transposed}\")\n",
    "\n",
    "# Print the index of the maximum value\n",
    "print(f\"The index of the maximum value:\\n{max_index}\")\n"
   ]
  },
  {
   "attachments": {},
   "cell_type": "markdown",
   "metadata": {},
   "source": [
    "### Task 2 - Standart Deviation Ratio (SDR) (4 points)\n",
    "\n",
    "Implement a Python program that calculates the standard deviation ratio (SDR) of a given 1D NumPy array. SDR represents the ratio of the standard deviation of the positive elements to the standard deviation of the negative elements.\n",
    "\n",
    "- Create a 1D array of 100 random values.\n",
    "- Split the array into positive and negative elements.\n",
    "- Calculate the standard deviations of the positive and negative arrays.\n",
    "- Calculate the standard deviation ratio (SDR)."
   ]
  },
  {
   "cell_type": "code",
   "execution_count": 7,
   "metadata": {},
   "outputs": [
    {
     "name": "stdout",
     "output_type": "stream",
     "text": [
      "Array:\n",
      "[-1.07530488 -0.39101316 -0.29752233  0.0278012  -0.37540502 -0.58728207\n",
      "  1.1396947   0.40605826  2.08421164  0.45358975  0.83077095 -0.78226645\n",
      " -1.666852   -1.02443943  0.10276721  1.07092379  1.07393902  0.86211223\n",
      " -0.10056397 -1.06052755  1.02648572 -0.37487646 -0.83927318  0.5913769\n",
      " -1.13801706  1.16720415 -0.06936046 -2.08018643 -0.86220733  1.08676232\n",
      " -0.24064315  0.47331608  0.94436377  0.31013644  0.65141632 -0.02764094\n",
      "  0.14423778  0.20932537 -0.07427806  1.45569462  0.18471482 -0.38261995\n",
      "  0.29970097 -0.05820321 -1.16982155  0.29921974  1.28782502 -1.16873235\n",
      "  1.42892411 -0.15519708 -0.50586254  0.36821337  1.32527203  1.65692154\n",
      " -0.05993856  0.47932946 -1.55089812  0.58424361  0.54339942  0.53603296\n",
      "  0.12150542 -1.21402558 -1.88228472 -1.08303119  0.25565869  1.3801078\n",
      " -0.28569987  1.09101232 -0.53696675  1.36691507  0.63123686  0.2604093\n",
      " -0.53794979  0.05289137  2.15716771  1.02264049  0.60030126 -0.5464764\n",
      "  0.55216824 -1.6277263   1.60159604  0.75658401 -1.18934181 -0.65686361\n",
      " -0.749701    1.62799143  0.71342381  0.54884965 -1.64659233 -0.62842881\n",
      " -2.00899416  1.68720202 -0.27151     2.43647339 -0.61387202  1.86380584\n",
      " -0.11030896  0.37768362 -1.22523033  1.46919042]\n",
      "The positive array:\n",
      "[0.0278012  1.1396947  0.40605826 2.08421164 0.45358975 0.83077095\n",
      " 0.10276721 1.07092379 1.07393902 0.86211223 1.02648572 0.5913769\n",
      " 1.16720415 1.08676232 0.47331608 0.94436377 0.31013644 0.65141632\n",
      " 0.14423778 0.20932537 1.45569462 0.18471482 0.29970097 0.29921974\n",
      " 1.28782502 1.42892411 0.36821337 1.32527203 1.65692154 0.47932946\n",
      " 0.58424361 0.54339942 0.53603296 0.12150542 0.25565869 1.3801078\n",
      " 1.09101232 1.36691507 0.63123686 0.2604093  0.05289137 2.15716771\n",
      " 1.02264049 0.60030126 0.55216824 1.60159604 0.75658401 1.62799143\n",
      " 0.71342381 0.54884965 1.68720202 2.43647339 1.86380584 0.37768362\n",
      " 1.46919042]\n",
      "The negative array:\n",
      "[-1.07530488 -0.39101316 -0.29752233 -0.37540502 -0.58728207 -0.78226645\n",
      " -1.666852   -1.02443943 -0.10056397 -1.06052755 -0.37487646 -0.83927318\n",
      " -1.13801706 -0.06936046 -2.08018643 -0.86220733 -0.24064315 -0.02764094\n",
      " -0.07427806 -0.38261995 -0.05820321 -1.16982155 -1.16873235 -0.15519708\n",
      " -0.50586254 -0.05993856 -1.55089812 -1.21402558 -1.88228472 -1.08303119\n",
      " -0.28569987 -0.53696675 -0.53794979 -0.5464764  -1.6277263  -1.18934181\n",
      " -0.65686361 -0.749701   -1.64659233 -0.62842881 -2.00899416 -0.27151\n",
      " -0.61387202 -0.11030896 -1.22523033]\n",
      "Standard Deviation Ratio:\n",
      "7.855289425381417\n"
     ]
    }
   ],
   "source": [
    "import numpy as np\n",
    "\n",
    "# Create a 1D array of 100 random values\n",
    "arr1 = np.random.randn(100)\n",
    "\n",
    "# Split the array into positive and negative elements\n",
    "positive_array = arr1[arr1>0]\n",
    "negative_array = arr1[arr1<0]\n",
    "\n",
    "# Calculate the standard deviations\n",
    "positive_std_dev = np.std(positive_array)\n",
    "negative_std_dev = np.std(negative_array)\n",
    "\n",
    "# Calculate the standard deviation ratio\n",
    "sdr = np.std(arr1)/np.mean(arr1)\n",
    "\n",
    "# Print the original array\n",
    "print(f\"Array:\\n{arr1}\")\n",
    "\n",
    "# Print the positive array\n",
    "print(f\"The positive array:\\n{positive_array}\")\n",
    "\n",
    "# Print the negative array\n",
    "print(f\"The negative array:\\n{negative_array}\")\n",
    "\n",
    "# Print the standard deviation ratio\n",
    "print(f\"Standard Deviation Ratio:\\n{sdr}\")\n"
   ]
  },
  {
   "attachments": {},
   "cell_type": "markdown",
   "metadata": {},
   "source": [
    "### Task 3 - Identity Matrix (3 points)\n",
    "\n",
    "Create a 5x5 identity matrix where:\n",
    "\n",
    "- All diagonal elements are equal to 0.\n",
    "- The rest of the elements should be random integers between 0 and 50 (inclusive)."
   ]
  },
  {
   "cell_type": "code",
   "execution_count": 20,
   "metadata": {},
   "outputs": [
    {
     "name": "stdout",
     "output_type": "stream",
     "text": [
      "[[0. 0. 0. 0. 0.]\n",
      " [0. 0. 0. 0. 0.]\n",
      " [0. 0. 0. 0. 0.]\n",
      " [0. 0. 0. 0. 0.]\n",
      " [0. 0. 0. 0. 0.]]\n",
      "[[ 0. 25. 14. 43.  8.]\n",
      " [19.  0. 20. 43. 33.]\n",
      " [49. 38.  0. 45. 42.]\n",
      " [10.  4. 14.  0. 19.]\n",
      " [46. 49. 27. 44.  0.]]\n"
     ]
    }
   ],
   "source": [
    "import numpy as np\n",
    "#import random\n",
    "\n",
    "# Create a 5x5 identity matrix\n",
    "identity_matrix = np.eye(5,5)\n",
    "np.fill_diagonal(identity_matrix,0)\n",
    "\n",
    "\n",
    "# Generate random integers between 0 and 50 (inclusive)\n",
    "random_integers = np.random.randint(0,51, size = (5,5))\n",
    "\n",
    "# Replace the non-diagonal elements with random integers\n",
    "identity_matrix[~np.eye(5, dtype=bool)] = random_integers[~np.eye(5, dtype=bool)]\n",
    "\n",
    "print(identity_matrix)\n"
   ]
  },
  {
   "attachments": {},
   "cell_type": "markdown",
   "metadata": {},
   "source": [
    "### Task 4 - Calculate the Euclidean distance between two arrays (2 points)\n",
    "The Euclidean distance measures the straight-line distance between two points in space. In this task, you will calculate the Euclidean distance between two 1-dimensional arrays using the NumPy library.\n",
    "\n",
    "**Hint:** To calculate the Euclidean distance between the two arrays, we can use the np.linalg.norm() function. This function calculates the norm, which is a generalized form of the Euclidean distance, of the difference between the arrays:\n"
   ]
  },
  {
   "cell_type": "code",
   "execution_count": 24,
   "metadata": {},
   "outputs": [
    {
     "name": "stdout",
     "output_type": "stream",
     "text": [
      "Euclidean Distance: 5.196152422706632\n"
     ]
    }
   ],
   "source": [
    "import numpy as np\n",
    "\n",
    "# Create two 1-dimensional arrays\n",
    "arr1 = np.array([1, 2, 3])\n",
    "arr2 = np.array([4, 5, 6])\n",
    "\n",
    "# Calculate the difference between the two arrays\n",
    "difference = arr1-arr2\n",
    "\n",
    "# Calculate the Euclidean distance using the norm function from the linalg module\n",
    "distance = np.linalg.norm(difference)\n",
    "\n",
    "# Print the calculated Euclidean distance\n",
    "print(\"Euclidean Distance:\", distance)"
   ]
  },
  {
   "attachments": {},
   "cell_type": "markdown",
   "metadata": {},
   "source": [
    "### Task 5 - Find the Point of Exceeding a Cumulative Sum Threshold (4 points)\n",
    "\n",
    "Generate a random 1-dimensional array of size 100 with values ranging from 0 to 9. Calculate the cumulative sum of the array and find the index where the cumulative sum exceeds 100 for the first time, then print the index.\n",
    "Description:\n",
    "In this task, you will work with a randomly generated 1-dimensional array of numerical values. Your goal is to calculate the cumulative sum of the array, which represents the running total of the values. Then, you need to identify the position in the array where the cumulative sum exceeds a specific threshold."
   ]
  },
  {
   "cell_type": "code",
   "execution_count": 38,
   "metadata": {},
   "outputs": [
    {
     "name": "stdout",
     "output_type": "stream",
     "text": [
      "[0 7 6 9 6 4 3 8 1 8 0 5 7 4 8 6 3 6 6 7 3 5 7 2 9 5 4 7 0 9 1 5 8 6 3 3 8\n",
      " 9 7 0 0 8 3 1 8 3 4 1 4 0 1 8 7 2 2 7 9 9 5 3 0 8 1 6 4 8 7 3 5 6 6 6 3 3\n",
      " 8 9 1 4 9 4 5 7 5 6 7 3 4 0 4 0 3 1 7 8 0 0 8 3 1 5]\n",
      "Index where cumulative sum exceeds 100 : 19\n"
     ]
    }
   ],
   "source": [
    "import numpy as np\n",
    "\n",
    "# Generate a random 1-dimensional array of size 100 with values ranging from 0 to 9\n",
    "arr = np.random.randint(0, 10, size=100)\n",
    "print(arr)\n",
    "# Calculate the cumulative sum of the array\n",
    "cumulative_sum = np.cumsum(arr)\n",
    "\n",
    "# Set the threshold value\n",
    "threshold = 100\n",
    "\n",
    "# Find the index where the cumulative sum first exceeds the threshold\n",
    "index = np.where(cumulative_sum > threshold)[0][0]\n",
    "#arr[arr=100]\n",
    "\n",
    "# Print the index where the cumulative sum exceeds the threshold\n",
    "print(\"Index where cumulative sum exceeds\", threshold, \":\", index)\n"
   ]
  },
  {
   "attachments": {},
   "cell_type": "markdown",
   "metadata": {},
   "source": [
    "### Task 6 - Performing Linear Algebra Operations (3 points)\n",
    "Description: In this task, you will work with a randomly generated 2-dimensional array and perform linear algebra operations using NumPy. You will calculate the determinant of the array, compute its inverse, and verify that the product of the array and its inverse yields the identity matrix. This task provides an opportunity to explore fundamental linear algebra concepts, such as determinants, matrix inverses, and the properties of the identity matrix, using NumPy.\n",
    "\n",
    "1. Create a 2-dimensional array with shape (2, 2) and fill it with random integers between 1 and 9.\n",
    "2. Calculate the determinant of the array.\n",
    "3. Compute the inverse of the array.\n",
    "4. Multiply the array by its inverse.\n",
    "5. Print the final array."
   ]
  },
  {
   "cell_type": "code",
   "execution_count": 46,
   "metadata": {},
   "outputs": [
    {
     "name": "stdout",
     "output_type": "stream",
     "text": [
      "[[8 4]\n",
      " [5 2]]\n",
      "[[2 5]\n",
      " [4 8]]\n",
      "Identity Matrix:\n",
      " [[16 20]\n",
      " [20 16]]\n"
     ]
    }
   ],
   "source": [
    "import numpy as np\n",
    "\n",
    "# Generate a random 2-dimensional array with shape (2, 2) and random integers between 1 and 9\n",
    "arr = np.random.randint(1,9,size=(2,2))\n",
    "print(arr)\n",
    "\n",
    "# Calculate the determinant of the array\n",
    "determinant = np.linalg.det(arr)\n",
    "\n",
    "# Compute the inverse of the array\n",
    "inverse = np.flip(arr)\n",
    "print(inverse)\n",
    "\n",
    "# Multiply the array by its inverse to obtain the identity matrix\n",
    "identity = arr*inverse\n",
    "\n",
    "# Print the resulting identity matrix\n",
    "print(\"Identity Matrix:\\n\", identity)\n"
   ]
  }
 ],
 "metadata": {
  "kernelspec": {
   "display_name": "Python 3",
   "language": "python",
   "name": "python3"
  },
  "language_info": {
   "codemirror_mode": {
    "name": "ipython",
    "version": 3
   },
   "file_extension": ".py",
   "mimetype": "text/x-python",
   "name": "python",
   "nbconvert_exporter": "python",
   "pygments_lexer": "ipython3",
   "version": "3.8.3"
  }
 },
 "nbformat": 4,
 "nbformat_minor": 4
}