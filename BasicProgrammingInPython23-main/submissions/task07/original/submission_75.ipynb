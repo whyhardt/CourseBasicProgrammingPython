{
 "cells": [
  {
   "cell_type": "markdown",
   "metadata": {},
   "source": [
    "# Coding Tasks - Week 7\n",
    "Welcome to the Python Programming Exercise Sheet!  \n",
    "In this exercise sheet, we will cover some of the fundamental concepts in Python programming.  \n",
    "Topics covered are: NumPy.\n",
    "\n",
    "___\n",
    "\n",
    "**DEADLINE**:  19th June until 12:15  \n",
    "**Your name here**: Mariia Gudkova  \n",
    "**Your university mail**: mgudkova@uni-osnabrueck.de\n",
    "\n",
    "___\n",
    "\n",
    "**Important information**:  \n",
    "In order to pass this sheet you need to achieve  /  points.  \n",
    "For the best possible grade you require  /  points, however, since some harder tasks may take a lot of time you don't have to pressure yourself.  \n",
    "If you complete any three tasks on a sheet you will definitely get a good grade for that sheet.  \n",
    "Hand in your sheet in studip in the respective folder until the deadline.  \n",
    "If you receive no email until a few days after submission you will have passed, the sample solution will also be uploaded around then.  \n",
    "If you receive an email you don't need to worry, you can fail one sheet and also your total points will also be taken into account for the final pass or fail.  "
   ]
  },
  {
   "cell_type": "markdown",
   "metadata": {},
   "source": [
    "### Task 1 - Array Manipulation (4 points)\n",
    "\n",
    "Create a Python program that takes a 1D NumPy array of size 10 with random integer values between 1 and 100 (inclusive) and performs the following operations:\n",
    "\n",
    "- Create the 1D array with the specified size.\n",
    "- Reshape the array into a 2x5 matrix.\n",
    "- Transpose the matrix.\n",
    "- Finally, find the index of the maximum value in the array."
   ]
  },
  {
   "cell_type": "code",
   "execution_count": 8,
   "metadata": {},
   "outputs": [
    {
     "name": "stdout",
     "output_type": "stream",
     "text": [
      "The original array:\n",
      "[72 47 50 66 51 77 63 38 62 70]\n",
      "The reshaped array:\n",
      "[[72 47 50 66 51]\n",
      " [77 63 38 62 70]]\n",
      "The transposed array:\n",
      "[[72 77]\n",
      " [47 63]\n",
      " [50 38]\n",
      " [66 62]\n",
      " [51 70]]\n",
      "The index of the maximum value:\n",
      "(array([5], dtype=int64),)\n",
      "The index of the maximum value in the matrix:\n",
      "(array([0], dtype=int64), array([1], dtype=int64))\n"
     ]
    }
   ],
   "source": [
    "import numpy as np\n",
    "\n",
    "# Create a 1D array of size 10 with random integer values between 1 and 100\n",
    "arr = np.random.randint(1, 101, 10)\n",
    "\n",
    "# Reshape the array into a 2x5 matrix\n",
    "arr_reshaped = arr.reshape(2,5)\n",
    "\n",
    "# Transpose the matrix\n",
    "arr_transposed = arr_reshaped.transpose()\n",
    "\n",
    "# Find the index of the maximum value in the array\n",
    "x = np.max(arr)\n",
    "max_index = np.where(arr == x)\n",
    "max_index_in_the_matrix = np.where(arr_transposed == x)\n",
    "\n",
    "\n",
    "# Print the original array\n",
    "print(f\"The original array:\\n{arr}\")\n",
    "\n",
    "# Print the reshaped array\n",
    "print(f\"The reshaped array:\\n{arr_reshaped}\")\n",
    "\n",
    "# Print the transposed array\n",
    "print(f\"The transposed array:\\n{arr_transposed}\")\n",
    "\n",
    "# Print the index of the maximum value\n",
    "print(f\"The index of the maximum value:\\n{max_index}\")\n",
    "\n",
    "#Print the index of the maximum value in the matrix\n",
    "print(f\"The index of the maximum value in the matrix:\\n{max_index_in_the_matrix}\")\n"
   ]
  },
  {
   "cell_type": "markdown",
   "metadata": {},
   "source": [
    "### Task 2 - Standart Deviation Ratio (SDR) (4 points)\n",
    "\n",
    "Implement a Python program that calculates the standard deviation ratio (SDR) of a given 1D NumPy array. SDR represents the ratio of the standard deviation of the positive elements to the standard deviation of the negative elements.\n",
    "\n",
    "- Create a 1D array of 100 random values.\n",
    "- Split the array into positive and negative elements.\n",
    "- Calculate the standard deviations of the positive and negative arrays.\n",
    "- Calculate the standard deviation ratio (SDR)."
   ]
  },
  {
   "cell_type": "code",
   "execution_count": 12,
   "metadata": {},
   "outputs": [
    {
     "name": "stdout",
     "output_type": "stream",
     "text": [
      "Array:\n",
      "[-1.85466716e-01 -1.45321306e+00 -1.50639875e+00 -6.70852387e-01\n",
      "  1.33133673e+00  1.27688655e+00  2.73521449e-02 -1.89179833e-01\n",
      "  1.28546753e+00  1.17900006e+00  8.96594666e-01  7.14751368e-01\n",
      " -5.20813603e-01  4.54727328e-01 -5.44382452e-01  3.14611695e+00\n",
      " -1.25749682e+00  1.69991448e-01  5.34276734e-01  2.56682429e+00\n",
      " -1.33597695e+00  1.45043281e+00  1.32247728e+00  5.85833968e-01\n",
      "  9.36319598e-01  2.58884366e-01  7.43102075e-01 -5.07935242e-02\n",
      " -3.98376927e-01 -1.09756540e+00  1.59515749e+00  4.21193318e-02\n",
      "  2.09924878e-01  1.11822766e+00  7.94566742e-01 -9.97543580e-01\n",
      " -3.82757039e-01 -1.32623754e+00  1.24054155e+00 -8.86859413e-01\n",
      "  1.93739601e-01  3.21159087e-01 -2.77760822e-01 -9.75326057e-01\n",
      "  6.30856693e-01 -6.23056517e-02 -1.38867012e-01  5.89420099e-02\n",
      " -1.30564721e+00 -2.10102147e-01 -5.96988256e-01 -3.16295293e-03\n",
      " -7.74504411e-01  1.37100231e+00 -1.61199198e-01 -6.62185028e-01\n",
      " -8.18061665e-01 -9.10908983e-01 -2.13025151e-01  3.33400488e-01\n",
      "  2.83523673e-01  1.16271425e-02  9.25509874e-01 -5.20806180e-01\n",
      "  2.97054965e-01 -1.18977855e+00  3.43382870e-01 -5.50357033e-01\n",
      "  9.08764573e-01  4.09481134e-01  3.83394599e-01 -1.25901069e+00\n",
      "  3.71173581e+00  5.48519925e-02  7.34083319e-01  1.03648846e+00\n",
      " -6.88656271e-01  1.24493064e+00  2.60033907e+00  9.87558065e-01\n",
      " -6.77373319e-01  3.12153955e-02 -9.79495782e-01  2.34382060e-01\n",
      "  6.60308466e-01  5.03474167e-01 -6.55180589e-01  1.18426396e+00\n",
      "  9.05727922e-01  1.24351272e-01  4.85039864e-01 -1.54022227e-01\n",
      " -4.89987559e-01  1.80951553e-01 -2.98736246e+00  8.70090159e-01\n",
      "  7.96055776e-02  4.87414506e-01  5.15868213e-01 -3.58846704e-02]\n",
      "The positive array:\n",
      "[1.33133673 1.27688655 0.02735214 1.28546753 1.17900006 0.89659467\n",
      " 0.71475137 0.45472733 3.14611695 0.16999145 0.53427673 2.56682429\n",
      " 1.45043281 1.32247728 0.58583397 0.9363196  0.25888437 0.74310208\n",
      " 1.59515749 0.04211933 0.20992488 1.11822766 0.79456674 1.24054155\n",
      " 0.1937396  0.32115909 0.63085669 0.05894201 1.37100231 0.33340049\n",
      " 0.28352367 0.01162714 0.92550987 0.29705496 0.34338287 0.90876457\n",
      " 0.40948113 0.3833946  3.71173581 0.05485199 0.73408332 1.03648846\n",
      " 1.24493064 2.60033907 0.98755806 0.0312154  0.23438206 0.66030847\n",
      " 0.50347417 1.18426396 0.90572792 0.12435127 0.48503986 0.18095155\n",
      " 0.87009016 0.07960558 0.48741451 0.51586821]\n",
      "The negative array:\n",
      "[-0.18546672 -1.45321306 -1.50639875 -0.67085239 -0.18917983 -0.5208136\n",
      " -0.54438245 -1.25749682 -1.33597695 -0.05079352 -0.39837693 -1.0975654\n",
      " -0.99754358 -0.38275704 -1.32623754 -0.88685941 -0.27776082 -0.97532606\n",
      " -0.06230565 -0.13886701 -1.30564721 -0.21010215 -0.59698826 -0.00316295\n",
      " -0.77450441 -0.1611992  -0.66218503 -0.81806166 -0.91090898 -0.21302515\n",
      " -0.52080618 -1.18977855 -0.55035703 -1.25901069 -0.68865627 -0.67737332\n",
      " -0.97949578 -0.65518059 -0.15402223 -0.48998756 -2.98736246 -0.03588467]\n",
      "Standard Deviation Ratio:\n",
      "1.3354695996117962\n"
     ]
    }
   ],
   "source": [
    "import numpy as np\n",
    "\n",
    "# Create a 1D array of 100 random values\n",
    "arr1 = np.random.randn(100)\n",
    "\n",
    "# Split the array into positive and negative elements\n",
    "positive_array = arr1[arr1>0]\n",
    "negative_array = arr1[arr1<0]\n",
    "\n",
    "# Calculate the standard deviations\n",
    "positive_std_dev = np.std(positive_array)\n",
    "negative_std_dev = np.std(negative_array)\n",
    "\n",
    "# Calculate the standard deviation ratio\n",
    "sdr = positive_std_dev/negative_std_dev\n",
    "\n",
    "# Print the original array\n",
    "print(f\"Array:\\n{arr1}\")\n",
    "\n",
    "# Print the positive array\n",
    "print(f\"The positive array:\\n{positive_array}\")\n",
    "\n",
    "# Print the negative array\n",
    "print(f\"The negative array:\\n{negative_array}\")\n",
    "\n",
    "# Print the standard deviation ratio\n",
    "print(f\"Standard Deviation Ratio:\\n{sdr}\")\n"
   ]
  },
  {
   "cell_type": "markdown",
   "metadata": {},
   "source": [
    "### Task 3 - Identity Matrix (3 points)\n",
    "\n",
    "Create a 5x5 identity matrix where:\n",
    "\n",
    "- All diagonal elements are equal to 0.\n",
    "- The rest of the elements should be random integers between 0 and 50 (inclusive)."
   ]
  },
  {
   "cell_type": "code",
   "execution_count": 4,
   "metadata": {},
   "outputs": [
    {
     "name": "stdout",
     "output_type": "stream",
     "text": [
      "[[ 0. 29. 29. 21. 39.]\n",
      " [39.  0. 14.  9. 20.]\n",
      " [16. 12.  0. 40. 38.]\n",
      " [11. 24. 27.  0. 19.]\n",
      " [26. 20. 35. 25.  0.]]\n"
     ]
    }
   ],
   "source": [
    "import numpy as np\n",
    "\n",
    "# Create a 5x5 identity matrix\n",
    "#identity_matrix = np.identity(5)\n",
    "identity_matrix = np.zeros((5,5))\n",
    "# Generate random integers between 0 and 50 (inclusive)\n",
    "random_integers = np.random.randint(0, 51, size=(5,5))\n",
    "\n",
    "# Replace the non-diagonal elements with random integers\n",
    "identity_matrix[~np.eye(5, dtype=bool)] = random_integers[~np.eye(5, dtype=bool)]\n",
    "\n",
    "print(identity_matrix)\n"
   ]
  },
  {
   "cell_type": "markdown",
   "metadata": {},
   "source": [
    "### Task 4 - Calculate the Euclidean distance between two arrays (2 points)\n",
    "The Euclidean distance measures the straight-line distance between two points in space. In this task, you will calculate the Euclidean distance between two 1-dimensional arrays using the NumPy library.\n",
    "\n",
    "**Hint:** To calculate the Euclidean distance between the two arrays, we can use the np.linalg.norm() function. This function calculates the norm, which is a generalized form of the Euclidean distance, of the difference between the arrays:\n"
   ]
  },
  {
   "cell_type": "code",
   "execution_count": 22,
   "metadata": {},
   "outputs": [
    {
     "name": "stdout",
     "output_type": "stream",
     "text": [
      "Euclidean Distance: 5.196152422706632\n"
     ]
    }
   ],
   "source": [
    "import numpy as np\n",
    "\n",
    "# Create two 1-dimensional arrays\n",
    "arr1 = np.array([1, 2, 3])\n",
    "arr2 = np.array([4, 5, 6])\n",
    "\n",
    "# Calculate the difference between the two arrays\n",
    "difference = arr1 - arr2\n",
    "\n",
    "# Calculate the Euclidean distance using the norm function from the linalg module\n",
    "distance = np.linalg.norm(difference)\n",
    "\n",
    "# Print the calculated Euclidean distance\n",
    "print(\"Euclidean Distance:\", distance)"
   ]
  },
  {
   "cell_type": "markdown",
   "metadata": {},
   "source": [
    "### Task 5 - Find the Point of Exceeding a Cumulative Sum Threshold (4 points)\n",
    "\n",
    "Generate a random 1-dimensional array of size 100 with values ranging from 0 to 9. Calculate the cumulative sum of the array and find the index where the cumulative sum exceeds 100 for the first time, then print the index.\n",
    "Description:\n",
    "In this task, you will work with a randomly generated 1-dimensional array of numerical values. Your goal is to calculate the cumulative sum of the array, which represents the running total of the values. Then, you need to identify the position in the array where the cumulative sum exceeds a specific threshold."
   ]
  },
  {
   "cell_type": "code",
   "execution_count": 30,
   "metadata": {},
   "outputs": [
    {
     "name": "stdout",
     "output_type": "stream",
     "text": [
      "Index where cumulative sum exceeds 100 : 20\n"
     ]
    }
   ],
   "source": [
    "import numpy as np\n",
    "\n",
    "# Generate a random 1-dimensional array of size 100 with values ranging from 0 to 9\n",
    "arr = np.random.randint(0, 10, size=100)\n",
    "\n",
    "# Calculate the cumulative sum of the array\n",
    "cumulative_sum = np.cumsum(arr)\n",
    "#print(cumulative_sum)\n",
    "\n",
    "# Set the threshold value\n",
    "threshold = 100\n",
    "\n",
    "# Find the index where the cumulative sum first exceeds the threshold\n",
    "index=0\n",
    "while cumulative_sum[index]<threshold:\n",
    "    index = index+1\n",
    "\n",
    "\n",
    "# Print the index where the cumulative sum exceeds the threshold\n",
    "print(\"Index where cumulative sum exceeds\", threshold, \":\", index)\n"
   ]
  },
  {
   "cell_type": "markdown",
   "metadata": {},
   "source": [
    "### Task 6 - Performing Linear Algebra Operations (3 points)\n",
    "Description: In this task, you will work with a randomly generated 2-dimensional array and perform linear algebra operations using NumPy. You will calculate the determinant of the array, compute its inverse, and verify that the product of the array and its inverse yields the identity matrix. This task provides an opportunity to explore fundamental linear algebra concepts, such as determinants, matrix inverses, and the properties of the identity matrix, using NumPy.\n",
    "\n",
    "1. Create a 2-dimensional array with shape (2, 2) and fill it with random integers between 1 and 9.\n",
    "2. Calculate the determinant of the array.\n",
    "3. Compute the inverse of the array.\n",
    "4. Multiply the array by its inverse.\n",
    "5. Print the final array."
   ]
  },
  {
   "cell_type": "code",
   "execution_count": 42,
   "metadata": {},
   "outputs": [
    {
     "name": "stdout",
     "output_type": "stream",
     "text": [
      "Identity Matrix:\n",
      " [[ 1.00000000e+00  0.00000000e+00]\n",
      " [-3.33066907e-16  1.00000000e+00]]\n"
     ]
    }
   ],
   "source": [
    "import numpy as np\n",
    "\n",
    "# Generate a random 2-dimensional array with shape (2, 2) and random integers between 1 and 9\n",
    "arr = np.random.randint(1, 10, size = (2, 2))\n",
    "\n",
    "# Calculate the determinant of the array\n",
    "determinant = np.linalg.det(arr)\n",
    "\n",
    "# Compute the inverse of the array\n",
    "inverse = np.linalg.inv(arr)\n",
    "\n",
    "# Multiply the array by its inverse to obtain the identity matrix\n",
    "identity = np.matmul(arr, inverse)\n",
    "# Print the resulting identity matrix\n",
    "#print(arr)\n",
    "#print(inverse)\n",
    "print(\"Identity Matrix:\\n\", identity)\n"
   ]
  },
  {
   "cell_type": "code",
   "execution_count": null,
   "metadata": {},
   "outputs": [],
   "source": []
  }
 ],
 "metadata": {
  "kernelspec": {
   "display_name": "Python 3 (ipykernel)",
   "language": "python",
   "name": "python3"
  },
  "language_info": {
   "codemirror_mode": {
    "name": "ipython",
    "version": 3
   },
   "file_extension": ".py",
   "mimetype": "text/x-python",
   "name": "python",
   "nbconvert_exporter": "python",
   "pygments_lexer": "ipython3",
   "version": "3.9.12"
  }
 },
 "nbformat": 4,
 "nbformat_minor": 4
}
