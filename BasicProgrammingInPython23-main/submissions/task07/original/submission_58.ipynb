{
 "cells": [
  {
   "attachments": {},
   "cell_type": "markdown",
   "metadata": {},
   "source": [
    "# Coding Tasks - Week 7\n",
    "Welcome to the Python Programming Exercise Sheet!  \n",
    "In this exercise sheet, we will cover some of the fundamental concepts in Python programming.  \n",
    "Topics covered are: NumPy.\n",
    "\n",
    "___\n",
    "\n",
    "**DEADLINE**:  19th June until 12:15  \n",
    "**Your name here**: Chantal Nagel   \n",
    "**Your university mail**: chanagel@uos.de\n",
    "\n",
    "___\n",
    "\n",
    "**Important information**:  \n",
    "In order to pass this sheet you need to achieve  /  points.  \n",
    "For the best possible grade you require  /  points, however, since some harder tasks may take a lot of time you don't have to pressure yourself.  \n",
    "If you complete any three tasks on a sheet you will definitely get a good grade for that sheet.  \n",
    "Hand in your sheet in studip in the respective folder until the deadline.  \n",
    "If you receive no email until a few days after submission you will have passed, the sample solution will also be uploaded around then.  \n",
    "If you receive an email you don't need to worry, you can fail one sheet and also your total points will also be taken into account for the final pass or fail.  "
   ]
  },
  {
   "attachments": {},
   "cell_type": "markdown",
   "metadata": {},
   "source": [
    "### Task 1 - Array Manipulation (n points)\n",
    "\n",
    "Create a Python program that takes a 1D NumPy array of size 10 with random integer values between 1 and 100 (inclusive) and performs the following operations:\n",
    "\n",
    "- Create the 1D array with the specified size.\n",
    "- Reshape the array into a 2x5 matrix.\n",
    "- Transpose the matrix.\n",
    "- Finally, find the index of the maximum value in the array."
   ]
  },
  {
   "cell_type": "code",
   "execution_count": 10,
   "metadata": {},
   "outputs": [
    {
     "name": "stdout",
     "output_type": "stream",
     "text": [
      "The original array:\n",
      "[36 44 47 97 85 25  7 67 97 99]\n",
      "The reshaped array:\n",
      "[[36 44 47 97 85]\n",
      " [25  7 67 97 99]]\n",
      "The transposed array:\n",
      "[[36 25]\n",
      " [44  7]\n",
      " [47 67]\n",
      " [97 97]\n",
      " [85 99]]\n",
      "The index of the maximum value:\n",
      "99\n"
     ]
    }
   ],
   "source": [
    "import numpy as np\n",
    "\n",
    "# Create a 1D array of size 10 with random integer values between 1 and 100\n",
    "arr = np.random.randint(1, 101, 10)\n",
    "\n",
    "# Reshape the array into a 2x5 matrix\n",
    "arr_reshaped = arr.reshape(2,5)\n",
    "\n",
    "# Transpose the matrix\n",
    "arr_transposed = np.transpose(arr_reshaped)\n",
    "\n",
    "# Find the index of the maximum value in the array\n",
    "max_index = np.max(arr)\n",
    "\n",
    "# Print the original array\n",
    "print(f\"The original array:\\n{arr}\")\n",
    "\n",
    "# Print the reshaped array\n",
    "print(f\"The reshaped array:\\n{arr_reshaped}\")\n",
    "\n",
    "# Print the transposed array\n",
    "print(f\"The transposed array:\\n{arr_transposed}\")\n",
    "\n",
    "# Print the index of the maximum value\n",
    "print(f\"The index of the maximum value:\\n{max_index}\")\n"
   ]
  },
  {
   "attachments": {},
   "cell_type": "markdown",
   "metadata": {},
   "source": [
    "### Task 2 - Standart Deviation Ratio (SDR) (n points)\n",
    "\n",
    "Implement a Python program that calculates the standard deviation ratio (SDR) of a given 1D NumPy array. SDR represents the ratio of the standard deviation of the positive elements to the standard deviation of the negative elements.\n",
    "\n",
    "- Create a 1D array of 100 random values.\n",
    "- Split the array into positive and negative elements.\n",
    "- Calculate the standard deviations of the positive and negative arrays.\n",
    "- Calculate the standard deviation ratio (SDR)."
   ]
  },
  {
   "cell_type": "code",
   "execution_count": 1,
   "metadata": {},
   "outputs": [
    {
     "name": "stdout",
     "output_type": "stream",
     "text": [
      "Array:\n",
      "[-2.89962583  0.60681409  2.06868745 -1.60700507 -0.70071112  1.24451869\n",
      "  0.24213381  0.23494165  0.44148701 -0.09130652  2.69860964  1.2415076\n",
      " -2.40682738  0.94373489 -0.00302629 -0.34823455  0.43453304  1.11813918\n",
      "  0.06021823  0.34255415  2.1806623   0.13951175  0.63498285 -0.05633224\n",
      " -1.53268003  1.79075953 -0.76965766 -0.10845242  0.88111091  0.34114626\n",
      " -2.00301692  0.28781577  0.0382058   0.74809567 -1.04074217  0.66885671\n",
      "  0.5690482   0.93095894  0.31501068 -0.5387019  -0.0531618   0.0034077\n",
      "  0.89829336 -0.69316317 -0.68737795 -0.87103629 -0.57537468 -1.22442191\n",
      "  0.75280323 -0.23353847  0.30630324 -0.02997654  1.26395763 -1.56970307\n",
      "  0.5939397   1.11882878  0.76007176  0.7333701   0.76909241 -0.36251108\n",
      "  0.20532062  0.19797875 -0.36798071  0.37464847 -1.34225792  1.11418896\n",
      " -0.46822509  0.80316532 -1.7289839   0.58174948  0.85529538 -1.35417683\n",
      "  1.23418145 -1.14794969  0.03401977 -0.08859786 -0.757718   -0.08303883\n",
      " -0.30355658 -1.12387528  1.78547572  0.92183089 -0.3477643   0.58129896\n",
      " -1.33630436 -1.74887249  0.8979502   1.96230243  0.26516787 -2.52590041\n",
      "  0.05512366 -2.13975867 -0.36034024 -1.50955211 -0.38456576 -1.40188281\n",
      " -0.26866414  0.95533653  0.02160817  0.53363283]\n",
      "The positive array:\n",
      "[0.003407702922045521, 0.02160816964902202, 0.03401977186098294, 0.03820580002139226, 0.05512365882950308, 0.060218231986340125, 0.13951175203704122, 0.19797875240402077, 0.2053206221761047, 0.2349416497985726, 0.2421338122232838, 0.26516786638738066, 0.2878157667840134, 0.30630324042073676, 0.3150106839470853, 0.34114625861531156, 0.3425541470359523, 0.37464847257973005, 0.4345330401549278, 0.4414870100769607, 0.5336328287330292, 0.5690482045635695, 0.5812989570988569, 0.5817494840649873, 0.5939397015568016, 0.6068140942781233, 0.6349828471826998, 0.6688567139930923, 0.7333700971976541, 0.7480956664101731, 0.7528032281438954, 0.7600717586490772, 0.769092413949393, 0.8031653180934947, 0.8552953752364615, 0.881110912474873, 0.8979502037213272, 0.8982933603480655, 0.921830886409755, 0.9309589374826852, 0.9437348860070928, 0.9553365299100232, 1.1141889611738574, 1.1181391818147077, 1.1188287794847915, 1.234181452979416, 1.2415076037870458, 1.2445186943661954, 1.2639576297817396, 1.7854757179692393, 1.7907595269621819, 1.9623024309758317, 2.068687446379758, 2.1806622985339934, 2.698609644075177]\n",
      "The negative array:\n",
      "[-2.8996258304054905, -2.5259004132026273, -2.4068273812407566, -2.139758672814633, -2.0030169160397384, -1.748872491780978, -1.7289839038343708, -1.6070050740282473, -1.569703071198208, -1.5326800291116482, -1.5095521053660999, -1.4018828097028506, -1.354176826061762, -1.3422579158949504, -1.336304364370811, -1.2244219059812613, -1.1479496898310637, -1.1238752837362318, -1.0407421650790176, -0.8710362875673787, -0.7696576552839068, -0.7577180027455761, -0.7007111210437265, -0.6931631720033303, -0.6873779504343698, -0.5753746807877935, -0.538701898490731, -0.4682250887383212, -0.3845657638656425, -0.36798071311461683, -0.362511081606838, -0.3603402406710099, -0.3482345465583121, -0.3477642982796297, -0.3035565823992709, -0.2686641422960375, -0.2335384739112223, -0.108452417724116, -0.09130651707593464, -0.08859786173354234, -0.08303883117769871, -0.056332237384282925, -0.0531618014012468, -0.02997654123772982, -0.003026294650840133]\n",
      "Standard Deviation Ratio:\n",
      "79.03748602375448\n"
     ]
    }
   ],
   "source": [
    "import numpy as np\n",
    "\n",
    "# Create a 1D array of 100 random values\n",
    "arr1 = np.random.randn(100)\n",
    "\n",
    "# Split the array into positive and negative elements\n",
    "positive_array = sorted(filter(lambda x: x > 0, arr1))\n",
    "negative_array = sorted(filter(lambda x: x < 0, arr1))\n",
    "\n",
    "# Calculate the standard deviations\n",
    "positive_std_dev = np.std(positive_array)\n",
    "negative_std_dev = np.std(negative_array)\n",
    "\n",
    "# Calculate the standard deviation ratio\n",
    "sdr = (positive_std_dev / negative_std_dev) * 100\n",
    "\n",
    "# Print the original array\n",
    "print(f\"Array:\\n{arr1}\")\n",
    "\n",
    "# Print the positive array\n",
    "print(f\"The positive array:\\n{positive_array}\")\n",
    "\n",
    "# Print the negative array\n",
    "print(f\"The negative array:\\n{negative_array}\")\n",
    "\n",
    "# Print the standard deviation ratio\n",
    "print(f\"Standard Deviation Ratio:\\n{sdr}\")\n"
   ]
  },
  {
   "attachments": {},
   "cell_type": "markdown",
   "metadata": {},
   "source": [
    "### Task 3 - Identity Matrix (n points)\n",
    "\n",
    "Create a 5x5 identity matrix where:\n",
    "\n",
    "- All diagonal elements are equal to 0.\n",
    "- The rest of the elements should be random integers between 0 and 50 (inclusive)."
   ]
  },
  {
   "cell_type": "code",
   "execution_count": 5,
   "metadata": {},
   "outputs": [
    {
     "name": "stdout",
     "output_type": "stream",
     "text": [
      "[[ 1. 13.  0. 40. 46.]\n",
      " [10.  1. 35. 35. 37.]\n",
      " [12. 32.  1. 47.  2.]\n",
      " [13. 30. 21.  1. 32.]\n",
      " [33.  8. 24.  9.  1.]]\n"
     ]
    }
   ],
   "source": [
    "import numpy as np\n",
    "\n",
    "# Create a 3x3 identity matrix\n",
    "identity_matrix = np.identity(5)\n",
    "\n",
    "# Generate random integers between 0 and 50 (inclusive)\n",
    "random_integers = np.random.randint(0, 51, size=(5, 5))\n",
    "\n",
    "# Replace the non-diagonal elements with random integers\n",
    "identity_matrix[~np.eye(5, dtype=bool)] = random_integers[~np.eye(5, dtype=bool)]\n",
    "\n",
    "print(identity_matrix)"
   ]
  },
  {
   "attachments": {},
   "cell_type": "markdown",
   "metadata": {},
   "source": [
    "### Task 4 - Calculate the Euclidean distance between two arrays (n points)\n",
    "The Euclidean distance measures the straight-line distance between two points in space. In this task, you will calculate the Euclidean distance between two 1-dimensional arrays using the NumPy library.\n",
    "\n",
    "**Hint:** To calculate the Euclidean distance between the two arrays, we can use the np.linalg.norm() function. This function calculates the norm, which is a generalized form of the Euclidean distance, of the difference between the arrays:\n"
   ]
  },
  {
   "cell_type": "code",
   "execution_count": 6,
   "metadata": {},
   "outputs": [
    {
     "name": "stdout",
     "output_type": "stream",
     "text": [
      "Euclidean Distance: 5.196152422706632\n"
     ]
    }
   ],
   "source": [
    "import numpy as np\n",
    "\n",
    "# Create two 1-dimensional arrays\n",
    "arr1 = np.array([1, 2, 3])\n",
    "arr2 = np.array([4, 5, 6])\n",
    "\n",
    "# Calculate the difference between the two arrays\n",
    "difference = arr1 - arr2\n",
    "\n",
    "# Calculate the Euclidean distance using the norm function from the linalg module\n",
    "distance = np.linalg.norm(difference)\n",
    "\n",
    "# Print the calculated Euclidean distance\n",
    "print(\"Euclidean Distance:\", distance)"
   ]
  },
  {
   "attachments": {},
   "cell_type": "markdown",
   "metadata": {},
   "source": [
    "### Task 5 - Find the Point of Exceeding a Cumulative Sum Threshold (n points)\n",
    "\n",
    "Generate a random 1-dimensional array of size 100 with values ranging from 0 to 9. Calculate the cumulative sum of the array and find the index where the cumulative sum exceeds 100 for the first time, then print the index.\n",
    "Description:\n",
    "In this task, you will work with a randomly generated 1-dimensional array of numerical values. Your goal is to calculate the cumulative sum of the array, which represents the running total of the values. Then, you need to identify the position in the array where the cumulative sum exceeds a specific threshold."
   ]
  },
  {
   "cell_type": "code",
   "execution_count": 9,
   "metadata": {},
   "outputs": [
    {
     "name": "stdout",
     "output_type": "stream",
     "text": [
      "[7 9 5 5 2 0 5 9 5 3 6 7 8 3 2 0 2 5 1 3 6 9 7 1 6 4 2 2 1 2 4 3 7 1 3 4 5\n",
      " 3 2 7 3 8 2 9 5 1 1 7 2 3 9 7 0 3 0 2 2 3 0 5 4 5 1 4 8 3 9 7 4 1 4 0 0 1\n",
      " 7 0 1 3 7 0 8 8 1 2 8 5 5 1 1 8 7 7 4 0 3 3 6 3 6 1]\n",
      "Index where cumulative sum exceeds 100 : 21\n"
     ]
    }
   ],
   "source": [
    "import numpy as np\n",
    "\n",
    "# Generate a random 1-dimensional array of size 100 with values ranging from 0 to 9\n",
    "arr = np.random.randint(0, 10, size=100)\n",
    "print(arr)\n",
    "\n",
    "# Calculate the cumulative sum of the array\n",
    "cumulative_sum = np.cumsum(arr)\n",
    "\n",
    "# Set the threshold value\n",
    "threshold = 100\n",
    "\n",
    "# Find the index where the cumulative sum first exceeds the threshold\n",
    "index = np.argmax(cumulative_sum > threshold)\n",
    "\n",
    "# Print the index where the cumulative sum exceeds the threshold\n",
    "print(\"Index where cumulative sum exceeds\", threshold, \":\", index)\n"
   ]
  },
  {
   "attachments": {},
   "cell_type": "markdown",
   "metadata": {},
   "source": [
    "### Task 6 - Performing Linear Algebra Operations (n points)\n",
    "Description: In this task, you will work with a randomly generated 2-dimensional array and perform linear algebra operations using NumPy. You will calculate the determinant of the array, compute its inverse, and verify that the product of the array and its inverse yields the identity matrix. This task provides an opportunity to explore fundamental linear algebra concepts, such as determinants, matrix inverses, and the properties of the identity matrix, using NumPy.\n",
    "\n",
    "1. Create a 2-dimensional array with shape (2, 2) and fill it with random integers between 1 and 9.\n",
    "2. Calculate the determinant of the array.\n",
    "3. Compute the inverse of the array.\n",
    "4. Multiply the array by its inverse.\n",
    "5. Print the final array."
   ]
  },
  {
   "cell_type": "code",
   "execution_count": 21,
   "metadata": {},
   "outputs": [
    {
     "name": "stdout",
     "output_type": "stream",
     "text": [
      "Identity Matrix:\n",
      " [[ 1.66666667 -2.        ]\n",
      " [-0.22222222  1.66666667]]\n"
     ]
    }
   ],
   "source": [
    "import numpy as np\n",
    "\n",
    "# Generate a random 2-dimensional array with shape (2, 2) and random integers between 1 and 9\n",
    "arr = np.random.randint(1,9, size=(2,2))\n",
    "\n",
    "# Calculate the determinant of the array\n",
    "determinant = np.linalg.det(arr)\n",
    "\n",
    "# Compute the inverse of the array\n",
    "inverse = np.linalg.inv(arr)\n",
    "\n",
    "# Multiply the array by its inverse to obtain the identity matrix\n",
    "identity = np.multiply(arr,inverse)\n",
    "\n",
    "# Print the resulting identity matrix\n",
    "print(\"Identity Matrix:\\n\", identity)\n"
   ]
  }
 ],
 "metadata": {
  "kernelspec": {
   "display_name": "Python 3",
   "language": "python",
   "name": "python3"
  },
  "language_info": {
   "codemirror_mode": {
    "name": "ipython",
    "version": 3
   },
   "file_extension": ".py",
   "mimetype": "text/x-python",
   "name": "python",
   "nbconvert_exporter": "python",
   "pygments_lexer": "ipython3",
   "version": "3.11.3"
  },
  "orig_nbformat": 4
 },
 "nbformat": 4,
 "nbformat_minor": 2
}
