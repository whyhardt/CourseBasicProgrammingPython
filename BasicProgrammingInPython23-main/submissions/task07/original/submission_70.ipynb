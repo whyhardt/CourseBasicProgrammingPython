{
 "cells": [
  {
   "cell_type": "markdown",
   "metadata": {},
   "source": [
    "# Coding Tasks - Week 7\n",
    "Welcome to the Python Programming Exercise Sheet!  \n",
    "In this exercise sheet, we will cover some of the fundamental concepts in Python programming.  \n",
    "Topics covered are: NumPy.\n",
    "\n",
    "___\n",
    "\n",
    "**DEADLINE**:  19th June until 12:15  \n",
    "**Your name here**: Lena Faske  \n",
    "**Your university mail**: lfaske@uos.de\n",
    "\n",
    "___\n",
    "\n",
    "**Important information**:  \n",
    "In order to pass this sheet you need to achieve  /  points.  \n",
    "For the best possible grade you require  /  points, however, since some harder tasks may take a lot of time you don't have to pressure yourself.  \n",
    "If you complete any three tasks on a sheet you will definitely get a good grade for that sheet.  \n",
    "Hand in your sheet in studip in the respective folder until the deadline.  \n",
    "If you receive no email until a few days after submission you will have passed, the sample solution will also be uploaded around then.  \n",
    "If you receive an email you don't need to worry, you can fail one sheet and also your total points will also be taken into account for the final pass or fail.  "
   ]
  },
  {
   "cell_type": "markdown",
   "metadata": {},
   "source": [
    "### Task 1 - Array Manipulation (n points)\n",
    "\n",
    "Create a Python program that takes a 1D NumPy array of size 10 with random integer values between 1 and 100 (inclusive) and performs the following operations:\n",
    "\n",
    "- Create the 1D array with the specified size.\n",
    "- Reshape the array into a 2x5 matrix.\n",
    "- Transpose the matrix.\n",
    "- Finally, find the index of the maximum value in the array."
   ]
  },
  {
   "cell_type": "code",
   "execution_count": 1,
   "metadata": {},
   "outputs": [
    {
     "name": "stdout",
     "output_type": "stream",
     "text": [
      "The original array:\n",
      "[ 25  46  37 100  11  31  66  88  76   3]\n",
      "The reshaped array:\n",
      "[[ 25  46  37 100  11]\n",
      " [ 31  66  88  76   3]]\n",
      "The transposed array:\n",
      "[[ 25  31]\n",
      " [ 46  66]\n",
      " [ 37  88]\n",
      " [100  76]\n",
      " [ 11   3]]\n",
      "The index of the maximum value:\n",
      "(3, 0)\n"
     ]
    }
   ],
   "source": [
    "import numpy as np\n",
    "\n",
    "# Create a 1D array of size 10 with random integer values between 1 and 100\n",
    "arr = np.random.randint(1, 101, 10)\n",
    "\n",
    "# Reshape the array into a 2x5 matrix\n",
    "arr_reshaped = arr.reshape(2,5)\n",
    "\n",
    "# Transpose the matrix\n",
    "arr_transposed = arr_reshaped.T\n",
    "\n",
    "# Find the index of the maximum value in the array\n",
    "max_index = np.unravel_index(arr_transposed.argmax(), arr_transposed.shape)\n",
    "\n",
    "# Print the original array\n",
    "print(f\"The original array:\\n{arr}\")\n",
    "\n",
    "# Print the reshaped array\n",
    "print(f\"The reshaped array:\\n{arr_reshaped}\")\n",
    "\n",
    "# Print the transposed array\n",
    "print(f\"The transposed array:\\n{arr_transposed}\")\n",
    "\n",
    "# Print the index of the maximum value\n",
    "print(f\"The index of the maximum value:\\n{max_index}\")\n"
   ]
  },
  {
   "cell_type": "markdown",
   "metadata": {},
   "source": [
    "### Task 2 - Standart Deviation Ratio (SDR) (n points)\n",
    "\n",
    "Implement a Python program that calculates the standard deviation ratio (SDR) of a given 1D NumPy array. SDR represents the ratio of the standard deviation of the positive elements to the standard deviation of the negative elements.\n",
    "\n",
    "- Create a 1D array of 100 random values.\n",
    "- Split the array into positive and negative elements.\n",
    "- Calculate the standard deviations of the positive and negative arrays.\n",
    "- Calculate the standard deviation ratio (SDR)."
   ]
  },
  {
   "cell_type": "code",
   "execution_count": 82,
   "metadata": {},
   "outputs": [
    {
     "name": "stdout",
     "output_type": "stream",
     "text": [
      "Array:\n",
      "[ 0.67625054 -1.35709971 -1.95267409  0.66455873  0.25915102 -0.26461879\n",
      "  0.43206913  0.46632722 -0.40626767 -0.74858591 -0.12996589 -2.69104372\n",
      "  2.0647842   0.1054887  -0.57292342  0.13459568  1.71404482  0.33614757\n",
      " -0.28513988 -0.96769011  1.15771551  0.03382437  1.94436728  0.59313313\n",
      " -0.60545469 -0.65360388  0.73246261  0.39028545 -0.12401695 -1.08130658\n",
      " -0.02393245  0.78660601  0.79303371 -0.96611634 -1.96643158  1.30581127\n",
      " -1.58151048  0.24761117 -1.68253406 -0.81086653  0.01055477  0.69787523\n",
      "  0.48111834 -0.7319786  -0.52807795 -0.60291134 -0.79483118  0.19477659\n",
      "  0.99269022 -0.49187204  0.93186769  0.23349275 -0.31340209  1.92631562\n",
      " -1.15383265 -0.36380857  2.14563235 -1.88283876 -0.19736256  1.91670487\n",
      "  0.09132474  1.39879087  0.34292854  1.11885475 -0.60867327 -2.47217071\n",
      "  0.47313844  0.66810265  0.07596611  0.16688621 -2.38558738  1.12045805\n",
      "  0.38326069 -0.27977076  0.3459176  -0.83399675  0.88832895  0.10422512\n",
      " -0.93202324 -1.05067827 -0.85913105  0.26016505 -1.26829508 -0.37417957\n",
      " -0.23496597 -0.11829094 -0.35666698 -1.50495807  2.00349023  0.36412061\n",
      "  0.1872605  -0.17902258 -0.24095181  1.03394813  1.09406764  0.41343383\n",
      " -2.16026496  0.22533176  0.19984366  0.09232552]\n",
      "The positive array:\n",
      "[0.67625054 0.66455873 0.25915102 0.43206913 0.46632722 2.0647842\n",
      " 0.1054887  0.13459568 1.71404482 0.33614757 1.15771551 0.03382437\n",
      " 1.94436728 0.59313313 0.73246261 0.39028545 0.78660601 0.79303371\n",
      " 1.30581127 0.24761117 0.01055477 0.69787523 0.48111834 0.19477659\n",
      " 0.99269022 0.93186769 0.23349275 1.92631562 2.14563235 1.91670487\n",
      " 0.09132474 1.39879087 0.34292854 1.11885475 0.47313844 0.66810265\n",
      " 0.07596611 0.16688621 1.12045805 0.38326069 0.3459176  0.88832895\n",
      " 0.10422512 0.26016505 2.00349023 0.36412061 0.1872605  1.03394813\n",
      " 1.09406764 0.41343383 0.22533176 0.19984366 0.09232552]\n",
      "The negative array:\n",
      "[-1.35709971 -1.95267409 -0.26461879 -0.40626767 -0.74858591 -0.12996589\n",
      " -2.69104372 -0.57292342 -0.28513988 -0.96769011 -0.60545469 -0.65360388\n",
      " -0.12401695 -1.08130658 -0.02393245 -0.96611634 -1.96643158 -1.58151048\n",
      " -1.68253406 -0.81086653 -0.7319786  -0.52807795 -0.60291134 -0.79483118\n",
      " -0.49187204 -0.31340209 -1.15383265 -0.36380857 -1.88283876 -0.19736256\n",
      " -0.60867327 -2.47217071 -2.38558738 -0.27977076 -0.83399675 -0.93202324\n",
      " -1.05067827 -0.85913105 -1.26829508 -0.37417957 -0.23496597 -0.11829094\n",
      " -0.35666698 -1.50495807 -0.17902258 -0.24095181 -2.16026496]\n",
      "Standard Deviation Ratio:\n",
      "0.8717352732249458\n"
     ]
    }
   ],
   "source": [
    "import numpy as np\n",
    "\n",
    "# Create a 1D array of 100 random values\n",
    "arr1 = np.random.randn(100)\n",
    "\n",
    "# Split the array into positive and negative elements\n",
    "positive_array = np.array(arr1[arr1>0])\n",
    "negative_array = np.array(arr1[arr1<0])\n",
    "\n",
    "# Calculate the standard deviations\n",
    "positive_std_dev = positive_array.std()\n",
    "negative_std_dev = negative_array.std()\n",
    "\n",
    "# Calculate the standard deviation ratio\n",
    "sdr = positive_std_dev / negative_std_dev  # Is this what is meant with sdr??\n",
    "\n",
    "# Print the original array\n",
    "print(f\"Array:\\n{arr1}\")\n",
    "\n",
    "# Print the positive array\n",
    "print(f\"The positive array:\\n{positive_array}\")\n",
    "\n",
    "# Print the negative array\n",
    "print(f\"The negative array:\\n{negative_array}\")\n",
    "\n",
    "# Print the standard deviation ratio\n",
    "print(f\"Standard Deviation Ratio:\\n{sdr}\")\n"
   ]
  },
  {
   "cell_type": "markdown",
   "metadata": {},
   "source": [
    "### Task 3 - Identity Matrix (n points)\n",
    "\n",
    "Create a 5x5 identity matrix where:\n",
    "\n",
    "- All diagonal elements are equal to 0.\n",
    "- The rest of the elements should be random integers between 0 and 50 (inclusive)."
   ]
  },
  {
   "cell_type": "code",
   "execution_count": 91,
   "metadata": {},
   "outputs": [
    {
     "name": "stdout",
     "output_type": "stream",
     "text": [
      "[[ 0. 38. 23.  0. 50.]\n",
      " [36.  0. 30. 29. 23.]\n",
      " [ 6. 29.  0. 49. 20.]\n",
      " [ 2. 41. 32.  0. 29.]\n",
      " [45.  4. 35. 10.  0.]]\n"
     ]
    }
   ],
   "source": [
    "import numpy as np\n",
    "\n",
    "# Create a 3x3 identity matrix  ### ? In task description it says 5x5 -> I do it as written in the description\n",
    "identity_matrix = np.identity(5)\n",
    "\n",
    "# Generate random integers between 0 and 50 (inclusive)\n",
    "random_integers = np.random.randint(0, 51, 25).reshape(5,5) # + reshape, as code below need 2D-array\n",
    "\n",
    "# Replace the non-diagonal elements with random integers\n",
    "identity_matrix[~np.eye(5, dtype=bool)] = random_integers[~np.eye(5, dtype=bool)]\n",
    "\n",
    "# Replace the diagonal elements with zeros\n",
    "np.fill_diagonal(identity_matrix, 0)\n",
    "\n",
    "print(identity_matrix)\n"
   ]
  },
  {
   "cell_type": "markdown",
   "metadata": {},
   "source": [
    "### Task 4 - Calculate the Euclidean distance between two arrays (n points)\n",
    "The Euclidean distance measures the straight-line distance between two points in space. In this task, you will calculate the Euclidean distance between two 1-dimensional arrays using the NumPy library.\n",
    "\n",
    "**Hint:** To calculate the Euclidean distance between the two arrays, we can use the np.linalg.norm() function. This function calculates the norm, which is a generalized form of the Euclidean distance, of the difference between the arrays:\n"
   ]
  },
  {
   "cell_type": "code",
   "execution_count": 5,
   "metadata": {},
   "outputs": [
    {
     "name": "stdout",
     "output_type": "stream",
     "text": [
      "Euclidean Distance: 5.196152422706632\n"
     ]
    }
   ],
   "source": [
    "import numpy as np\n",
    "\n",
    "# Create two 1-dimensional arrays\n",
    "arr1 = np.array([1, 2, 3])\n",
    "arr2 = np.array([4, 5, 6])\n",
    "\n",
    "# Calculate the difference between the two arrays\n",
    "difference = arr1 - arr2\n",
    "\n",
    "# Calculate the Euclidean distance using the norm function from the linalg module\n",
    "distance = np.linalg.norm(difference)\n",
    "\n",
    "# Print the calculated Euclidean distance\n",
    "print(\"Euclidean Distance:\", distance)"
   ]
  },
  {
   "cell_type": "markdown",
   "metadata": {},
   "source": [
    "### Task 5 - Find the Point of Exceeding a Cumulative Sum Threshold (n points)\n",
    "\n",
    "Generate a random 1-dimensional array of size 100 with values ranging from 0 to 9. Calculate the cumulative sum of the array and find the index where the cumulative sum exceeds 100 for the first time, then print the index.\n",
    "Description:\n",
    "In this task, you will work with a randomly generated 1-dimensional array of numerical values. Your goal is to calculate the cumulative sum of the array, which represents the running total of the values. Then, you need to identify the position in the array where the cumulative sum exceeds a specific threshold."
   ]
  },
  {
   "cell_type": "code",
   "execution_count": 59,
   "metadata": {},
   "outputs": [
    {
     "name": "stdout",
     "output_type": "stream",
     "text": [
      "Index where cumulative sum exceeds 100 : 20\n"
     ]
    }
   ],
   "source": [
    "import numpy as np\n",
    "\n",
    "# Generate a random 1-dimensional array of size 100 with values ranging from 0 to 9\n",
    "arr = np.random.randint(0, 10, size=100)\n",
    "\n",
    "# Calculate the cumulative sum of the array\n",
    "# Are we allowed to use built-in functions? With built-in function:\n",
    "# cumulative_sum = arr.cumsum()\n",
    "# Without built-in function:\n",
    "cumulative_sum = np.array([sum(arr[:n+1]) for n in np.arange(0,len(arr))]) ### Is it possible to access cumulative_sum[n-1] here (& then only add arr[n])? Prob. better for performance\n",
    "\n",
    "# Set the threshold value\n",
    "threshold = 100\n",
    "\n",
    "# Find the index where the cumulative sum first exceeds the threshold\n",
    "index = np.argmax(cumulative_sum > threshold)\n",
    "\n",
    "# Print the index where the cumulative sum exceeds the threshold\n",
    "print(\"Index where cumulative sum exceeds\", threshold, \":\", index)\n"
   ]
  },
  {
   "cell_type": "markdown",
   "metadata": {},
   "source": [
    "### Task 6 - Performing Linear Algebra Operations (n points)\n",
    "Description: In this task, you will work with a randomly generated 2-dimensional array and perform linear algebra operations using NumPy. You will calculate the determinant of the array, compute its inverse, and verify that the product of the array and its inverse yields the identity matrix. This task provides an opportunity to explore fundamental linear algebra concepts, such as determinants, matrix inverses, and the properties of the identity matrix, using NumPy.\n",
    "\n",
    "1. Create a 2-dimensional array with shape (2, 2) and fill it with random integers between 1 and 9.\n",
    "2. Calculate the determinant of the array.\n",
    "3. Compute the inverse of the array.\n",
    "4. Multiply the array by its inverse.\n",
    "5. Print the final array."
   ]
  },
  {
   "cell_type": "code",
   "execution_count": 3,
   "metadata": {},
   "outputs": [
    {
     "name": "stdout",
     "output_type": "stream",
     "text": [
      "Identity Matrix:\n",
      " [[1. 0.]\n",
      " [0. 1.]]\n"
     ]
    }
   ],
   "source": [
    "import numpy as np\n",
    "\n",
    "# Generate a random 2-dimensional array with shape (2, 2) and random integers between 1 and 9\n",
    "arr = np.random.randint(0, 10, size=(2,2))\n",
    "\n",
    "# Calculate the determinant of the array\n",
    "determinant = np.linalg.det(arr)\n",
    "\n",
    "# Compute the inverse of the array\n",
    "### Exception handling, as not every matrix has inverse?????\n",
    "inverse = np.linalg.inv(arr)\n",
    "\n",
    "# Multiply the array by its inverse to obtain the identity matrix\n",
    "identity = np.dot(arr, inverse)\n",
    "\n",
    "# Print the resulting identity matrix\n",
    "print(\"Identity Matrix:\\n\", identity)\n"
   ]
  },
  {
   "cell_type": "code",
   "execution_count": null,
   "metadata": {},
   "outputs": [],
   "source": []
  }
 ],
 "metadata": {
  "kernelspec": {
   "display_name": "Python 3 (ipykernel)",
   "language": "python",
   "name": "python3"
  },
  "language_info": {
   "codemirror_mode": {
    "name": "ipython",
    "version": 3
   },
   "file_extension": ".py",
   "mimetype": "text/x-python",
   "name": "python",
   "nbconvert_exporter": "python",
   "pygments_lexer": "ipython3",
   "version": "3.9.7"
  }
 },
 "nbformat": 4,
 "nbformat_minor": 2
}
