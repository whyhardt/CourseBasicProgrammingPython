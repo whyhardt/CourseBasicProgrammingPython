{
 "cells": [
  {
   "attachments": {},
   "cell_type": "markdown",
   "metadata": {},
   "source": [
    "# Coding Tasks - Week 7\n",
    "Welcome to the Python Programming Exercise Sheet!  \n",
    "In this exercise sheet, we will cover some of the fundamental concepts in Python programming.  \n",
    "Topics covered are: NumPy.\n",
    "\n",
    "___\n",
    "\n",
    "**DEADLINE**:  19th June until 12:15  \n",
    "**Your name here**: Sharareh Daneshvar\n",
    "**Your university mail**: shdaneshvar@uni-osnabrueck.de\n",
    "\n",
    "___\n",
    "\n",
    "**Important information**:  \n",
    "In order to pass this sheet you need to achieve  /  points.  \n",
    "For the best possible grade you require  /  points, however, since some harder tasks may take a lot of time you don't have to pressure yourself.  \n",
    "If you complete any three tasks on a sheet you will definitely get a good grade for that sheet.  \n",
    "Hand in your sheet in studip in the respective folder until the deadline.  \n",
    "If you receive no email until a few days after submission you will have passed, the sample solution will also be uploaded around then.  \n",
    "If you receive an email you don't need to worry, you can fail one sheet and also your total points will also be taken into account for the final pass or fail.  "
   ]
  },
  {
   "attachments": {},
   "cell_type": "markdown",
   "metadata": {},
   "source": [
    "### Task 1 - Array Manipulation (4 points)\n",
    "\n",
    "Create a Python program that takes a 1D NumPy array of size 10 with random integer values between 1 and 100 (inclusive) and performs the following operations:\n",
    "\n",
    "- Create the 1D array with the specified size.\n",
    "- Reshape the array into a 2x5 matrix.\n",
    "- Transpose the matrix.\n",
    "- Finally, find the index of the maximum value in the array."
   ]
  },
  {
   "cell_type": "code",
   "execution_count": 14,
   "metadata": {},
   "outputs": [
    {
     "name": "stdout",
     "output_type": "stream",
     "text": [
      "The original array:\n",
      "[57 35 21 71 18 80 89 60 44 80]\n",
      "The reshaped array:\n",
      "[[57 35 21 71 18]\n",
      " [80 89 60 44 80]]\n",
      "The transposed array:\n",
      "[57 35 21 71 18 80 89 60 44 80]\n",
      "The index of the maximum value:\n",
      "6\n"
     ]
    }
   ],
   "source": [
    "import numpy as np\n",
    "\n",
    "# Create a 1D array of size 10 with random integer values between 1 and 100\n",
    "arr = np.random.randint(1, 101, 10)\n",
    "\n",
    "# Reshape the array into a 2x5 matrix\n",
    "arr_reshaped = arr.reshape(2,5) #reshape kardan matrix \n",
    "# Transpose the matrix\n",
    "arr_transposed = arr.transpose() #jabejai satro sotun\n",
    "\n",
    "# Find the index of the maximum value in the array\n",
    "max_index = arr.argmax() #peida kardane bozorgtarin adad\n",
    "\n",
    "# Print the original array\n",
    "print(f\"The original array:\\n{arr}\")\n",
    "\n",
    "# Print the reshaped array\n",
    "print(f\"The reshaped array:\\n{arr_reshaped}\")\n",
    "\n",
    "# Print the transposed array\n",
    "print(f\"The transposed array:\\n{arr_transposed}\")\n",
    "\n",
    "# Print the index of the maximum value\n",
    "print(f\"The index of the maximum value:\\n{max_index}\")\n"
   ]
  },
  {
   "attachments": {},
   "cell_type": "markdown",
   "metadata": {},
   "source": [
    "### Task 2 - Standart Deviation Ratio (SDR) (4 points)\n",
    "\n",
    "Implement a Python program that calculates the standard deviation ratio (SDR) of a given 1D NumPy array. SDR represents the ratio of the standard deviation of the positive elements to the standard deviation of the negative elements.\n",
    "\n",
    "- Create a 1D array of 100 random values.\n",
    "- Split the array into positive and negative elements.\n",
    "- Calculate the standard deviations of the positive and negative arrays.\n",
    "- Calculate the standard deviation ratio (SDR)."
   ]
  },
  {
   "cell_type": "code",
   "execution_count": 15,
   "metadata": {},
   "outputs": [
    {
     "name": "stdout",
     "output_type": "stream",
     "text": [
      "Array:\n",
      "[ 9.49351650e-01  9.67278573e-01  5.06554166e-01  1.37998100e+00\n",
      " -6.41331427e-01 -9.25469253e-01  4.14661644e-01  1.26154429e+00\n",
      " -4.33909974e-01  1.64792087e+00 -5.44763299e-01 -2.12657068e-01\n",
      "  2.09090234e-01 -3.55482116e-02  1.24433883e+00  3.23095209e-01\n",
      " -1.27822509e-01 -1.39784330e-01  1.43633061e+00 -1.17128030e+00\n",
      "  1.29285001e-01 -8.62200107e-02 -6.18448696e-02 -3.81988387e-01\n",
      " -4.98407788e-01  8.97153111e-01  2.48937398e+00 -5.92410662e-01\n",
      "  8.56374546e-01  1.33361081e+00  2.26988140e+00 -8.48980169e-01\n",
      "  7.96579376e-01 -3.74123265e-01  1.55071265e+00 -9.60035321e-01\n",
      "  1.53486590e-03  1.13121540e+00  2.48466720e-01  2.36041378e+00\n",
      " -8.84384138e-01  7.03330328e-01  2.26527685e+00  8.43698407e-01\n",
      " -3.45575130e-01  1.08344301e+00  1.14637799e+00 -6.90408654e-01\n",
      " -8.64034332e-01 -7.34287399e-01  3.84319116e-01 -2.57371009e+00\n",
      "  1.91398294e+00 -1.58727951e+00 -7.68832652e-01 -1.26363560e+00\n",
      "  7.92085863e-01 -1.17104901e-01 -1.19170251e+00  2.27895991e+00\n",
      "  6.27862821e-01  6.71111566e-01  3.12483165e-01  1.38570768e+00\n",
      "  3.86152265e-01  1.37232551e+00  2.69178455e-01 -6.49680166e-01\n",
      "  3.23589541e-01  4.83175298e-01  2.77250107e-01  1.73202513e+00\n",
      " -1.61230568e+00 -6.17089238e-01 -4.71366071e-01  5.99868269e-01\n",
      " -3.51466249e-01 -2.82026001e+00  5.06030175e-01  6.45392158e-01\n",
      " -2.75052858e-01  2.86492847e+00  1.46582110e+00 -3.03650138e-02\n",
      " -1.81602074e+00 -3.51833385e-01  3.86437354e-01 -2.53706658e-01\n",
      " -1.90729494e-02  8.58378715e-02  5.26943638e-01 -8.73178208e-01\n",
      " -3.92470866e-01 -4.69954687e-02  2.35138436e+00  9.39780961e-01\n",
      "  9.28416688e-01 -4.91057583e-01 -1.64963096e-02  7.41739446e-01]\n",
      "The positive array:\n",
      "[9.49351650e-01 9.67278573e-01 5.06554166e-01 1.37998100e+00\n",
      " 4.14661644e-01 1.26154429e+00 1.64792087e+00 2.09090234e-01\n",
      " 1.24433883e+00 3.23095209e-01 1.43633061e+00 1.29285001e-01\n",
      " 8.97153111e-01 2.48937398e+00 8.56374546e-01 1.33361081e+00\n",
      " 2.26988140e+00 7.96579376e-01 1.55071265e+00 1.53486590e-03\n",
      " 1.13121540e+00 2.48466720e-01 2.36041378e+00 7.03330328e-01\n",
      " 2.26527685e+00 8.43698407e-01 1.08344301e+00 1.14637799e+00\n",
      " 3.84319116e-01 1.91398294e+00 7.92085863e-01 2.27895991e+00\n",
      " 6.27862821e-01 6.71111566e-01 3.12483165e-01 1.38570768e+00\n",
      " 3.86152265e-01 1.37232551e+00 2.69178455e-01 3.23589541e-01\n",
      " 4.83175298e-01 2.77250107e-01 1.73202513e+00 5.99868269e-01\n",
      " 5.06030175e-01 6.45392158e-01 2.86492847e+00 1.46582110e+00\n",
      " 3.86437354e-01 8.58378715e-02 5.26943638e-01 2.35138436e+00\n",
      " 9.39780961e-01 9.28416688e-01 7.41739446e-01]\n",
      "The negative array:\n",
      "[-0.64133143 -0.92546925 -0.43390997 -0.5447633  -0.21265707 -0.03554821\n",
      " -0.12782251 -0.13978433 -1.1712803  -0.08622001 -0.06184487 -0.38198839\n",
      " -0.49840779 -0.59241066 -0.84898017 -0.37412326 -0.96003532 -0.88438414\n",
      " -0.34557513 -0.69040865 -0.86403433 -0.7342874  -2.57371009 -1.58727951\n",
      " -0.76883265 -1.2636356  -0.1171049  -1.19170251 -0.64968017 -1.61230568\n",
      " -0.61708924 -0.47136607 -0.35146625 -2.82026001 -0.27505286 -0.03036501\n",
      " -1.81602074 -0.35183338 -0.25370666 -0.01907295 -0.87317821 -0.39247087\n",
      " -0.04699547 -0.49105758 -0.01649631]\n",
      "Standard Deviation Ratio:\n",
      "1.069718538824438\n"
     ]
    }
   ],
   "source": [
    "import numpy as np\n",
    "\n",
    "# Create a 1D array of 100 random values\n",
    "arr1 = np.random.randn(100)\n",
    "\n",
    "# Split the array into positive and negative elements\n",
    "positive_array = arr1[arr1>=0] #balaye 0 mishe + va ba beraket shart to tain mikoneim \n",
    "negative_array = arr1[arr1<0]\n",
    "\n",
    "# Calculate the standard deviations       #enheraf meyar\n",
    "positive_std_dev = np.std(positive_array)\n",
    "negative_std_dev = np.std(negative_array)\n",
    "\n",
    "# Calculate the standard deviation ratio      #enheraf meyar kol\n",
    "sdr = np.std(arr1)\n",
    "\n",
    "# Print the original arrays\n",
    "print(f\"Array:\\n{arr1}\")\n",
    "\n",
    "# Print the positive array\n",
    "print(f\"The positive array:\\n{positive_array}\")\n",
    "\n",
    "# Print the negative array\n",
    "print(f\"The negative array:\\n{negative_array}\")\n",
    "\n",
    "# Print the standard deviation ratio\n",
    "print(f\"Standard Deviation Ratio:\\n{sdr}\")\n"
   ]
  },
  {
   "attachments": {},
   "cell_type": "markdown",
   "metadata": {},
   "source": [
    "### Task 3 - Identity Matrix (3 points)\n",
    "\n",
    "Create a 5x5 identity matrix where:\n",
    "\n",
    "- All diagonal elements are equal to 0.\n",
    "- The rest of the elements should be random integers between 0 and 50 (inclusive)."
   ]
  },
  {
   "cell_type": "code",
   "execution_count": null,
   "metadata": {},
   "outputs": [],
   "source": [
    "import numpy as np\n",
    "\n",
    "# Create a 5x5 identity matrix\n",
    "identity_matrix = # Your code here   # matrix hamani: ghotre asli 1 va hameye araye hash 0 ast\n",
    "\n",
    "# Generate random integers between 0 and 50 (inclusive)\n",
    "random_integers = # Your code here\n",
    "\n",
    "# Replace the non-diagonal elements with random integers\n",
    "identity_matrix[~np.eye(5, dtype=bool)] = random_integers[~np.eye(5, dtype=bool)]\n",
    "\n",
    "print(identity_matrix)\n"
   ]
  },
  {
   "attachments": {},
   "cell_type": "markdown",
   "metadata": {},
   "source": [
    "### Task 4 - Calculate the Euclidean distance between two arrays (2 points)\n",
    "The Euclidean distance measures the straight-line distance between two points in space. In this task, you will calculate the Euclidean distance between two 1-dimensional arrays using the NumPy library.\n",
    "\n",
    "**Hint:** To calculate the Euclidean distance between the two arrays, we can use the np.linalg.norm() function. This function calculates the norm, which is a generalized form of the Euclidean distance, of the difference between the arrays:\n"
   ]
  },
  {
   "cell_type": "code",
   "execution_count": 17,
   "metadata": {},
   "outputs": [
    {
     "name": "stdout",
     "output_type": "stream",
     "text": [
      "Euclidean Distance: 5.196152422706632\n"
     ]
    }
   ],
   "source": [
    "import numpy as np           # faseleye oghlidosi \n",
    "\n",
    "# Create two 1-dimensional arrays\n",
    "arr1 = np.array([1, 2, 3])\n",
    "arr2 = np.array([4, 5, 6])\n",
    "\n",
    "# Calculate the difference between the two arrays\n",
    "difference = np.square(arr1 - arr2)    #ekhtelaf(menha) ro hesab mikonim va be tavan 2 miresunim\n",
    "\n",
    "# Calculate the Euclidean distance using the norm function from the linalg module\n",
    "distance = np.sqrt(np.sum(difference))    #sum baraye zigma bud va sqrt ham mishe jazr\n",
    "\n",
    "# Print the calculated Euclidean distance\n",
    "print(\"Euclidean Distance:\", distance)"
   ]
  },
  {
   "attachments": {},
   "cell_type": "markdown",
   "metadata": {},
   "source": [
    "### Task 5 - Find the Point of Exceeding a Cumulative Sum Threshold (4 points)\n",
    "\n",
    "Generate a random 1-dimensional array of size 100 with values ranging from 0 to 9. Calculate the cumulative sum of the array and find the index where the cumulative sum exceeds 100 for the first time, then print the index.\n",
    "Description:\n",
    "In this task, you will work with a randomly generated 1-dimensional array of numerical values. Your goal is to calculate the cumulative sum of the array, which represents the running total of the values. Then, you need to identify the position in the array where the cumulative sum exceeds a specific threshold."
   ]
  },
  {
   "cell_type": "code",
   "execution_count": 19,
   "metadata": {},
   "outputs": [
    {
     "name": "stdout",
     "output_type": "stream",
     "text": [
      "Index where cumulative sum exceeds 100 : 23\n"
     ]
    }
   ],
   "source": [
    "import numpy as np\n",
    "\n",
    "# Generate a random 1-dimensional array of size 100 with values ranging from 0 to 9\n",
    "arr = np.random.randint(0, 10, size=100)\n",
    "\n",
    "# Calculate the cumulative sum of the array\n",
    "cumulative_sum = np.cumsum(arr)   #cumsum manzur faravanie tajamoEe ke yani adad ghabli ro jam mikone\n",
    "\n",
    "# Set the threshold value\n",
    "threshold = 100      #noghteye 100 be bad\n",
    "\n",
    "# Find the index where the cumulative sum first exceeds the threshold\n",
    "index = np.argmax(cumulative_sum > threshold)  #argmax dar indexing karbord dare va dare bozorgtarin araye ro neshun mide\n",
    "#Print the index where the cumulative sum exceeds the threshold\n",
    "\n",
    "\n",
    "print(\"Index where cumulative sum exceeds\", threshold, \":\", index)\n"
   ]
  },
  {
   "cell_type": "markdown",
   "metadata": {},
   "source": [
    "### Task 5 - Find the Point of Exceeding a Cumulative Sum Threshold (4 points)\n",
    "\n",
    "Generate a random 1-dimensional array of size 100 with values ranging from 0 to 9. Calculate the cumulative sum of the array and find the index where the cumulative sum exceeds 100 for the first time, then print the index.\n",
    "Description:\n",
    "In this task, you will work with a randomly generated 1-dimensional array of numerical values. Your goal is to calculate the cumulative sum of the array, which represents the running total of the values. Then, you need to identify the position in the array where the cumulative sum exceeds a specific threshold."
   ]
  },
  {
   "attachments": {},
   "cell_type": "markdown",
   "metadata": {},
   "source": [
    "### Task 6 - Performing Linear Algebra Operations (3 points)\n",
    "Description: In this task, you will work with a randomly generated 2-dimensional array and perform linear algebra operations using NumPy. You will calculate the determinant of the array, compute its inverse, and verify that the product of the array and its inverse yields the identity matrix. This task provides an opportunity to explore fundamental linear algebra concepts, such as determinants, matrix inverses, and the properties of the identity matrix, using NumPy.\n",
    "\n",
    "1. Create a 2-dimensional array with shape (2, 2) and fill it with random integers between 1 and 9.\n",
    "2. Calculate the determinant of the array.\n",
    "3. Compute the inverse of the array.\n",
    "4. Multiply the array by its inverse.\n",
    "5. Print the final array."
   ]
  },
  {
   "cell_type": "code",
   "execution_count": 21,
   "metadata": {},
   "outputs": [
    {
     "ename": "AttributeError",
     "evalue": "'builtin_function_or_method' object has no attribute 'randint'",
     "output_type": "error",
     "traceback": [
      "\u001b[0;31m---------------------------------------------------------------------------\u001b[0m",
      "\u001b[0;31mAttributeError\u001b[0m                            Traceback (most recent call last)",
      "Cell \u001b[0;32mIn[21], line 4\u001b[0m\n\u001b[1;32m      1\u001b[0m \u001b[39mimport\u001b[39;00m \u001b[39mnumpy\u001b[39;00m \u001b[39mas\u001b[39;00m \u001b[39mnp\u001b[39;00m\n\u001b[1;32m      3\u001b[0m \u001b[39m# Generate a random 2-dimensional array with shape (2, 2) and random integers between 1 and 9\u001b[39;00m\n\u001b[0;32m----> 4\u001b[0m arr \u001b[39m=\u001b[39m np\u001b[39m.\u001b[39;49mrandom\u001b[39m.\u001b[39;49mrandom\u001b[39m.\u001b[39;49mrandint(\u001b[39m1\u001b[39m, \u001b[39m10\u001b[39m, size\u001b[39m=\u001b[39m(\u001b[39m2\u001b[39m , \u001b[39m2\u001b[39m))\n\u001b[1;32m      6\u001b[0m \u001b[39m# Calculate the determinant of the array    \u001b[39;00m\n\u001b[1;32m      7\u001b[0m determinant \u001b[39m=\u001b[39m np\u001b[39m.\u001b[39mlinalg\u001b[39m.\u001b[39mdet(arr)  \u001b[39m#az numpy jabre khati ra faramikhunim bad az un determinant ro faramikhanim\u001b[39;00m\n",
      "\u001b[0;31mAttributeError\u001b[0m: 'builtin_function_or_method' object has no attribute 'randint'"
     ]
    }
   ],
   "source": [
    "import numpy as np\n",
    "\n",
    "# Generate a random 2-dimensional array with shape (2, 2) and random integers between 1 and 9\n",
    "arr = np.random.random.randint(1, 10, size=(2 , 2))\n",
    "\n",
    "# Calculate the determinant of the array    \n",
    "determinant = np.linalg.det(arr)  #az numpy jabre khati ra faramikhunim bad az un determinant ro faramikhanim\n",
    "\n",
    "# Compute the inverse of the array\n",
    "inverse = np.linalg.inv(arr)\n",
    "\n",
    "# Multiply the array by its inverse to obtain the identity matrix\n",
    "identity = \n",
    "\n",
    "# Print the resulting identity matrix\n",
    "print(\"Identity Matrix:\\n\", identity)\n"
   ]
  }
 ],
 "metadata": {
  "kernelspec": {
   "display_name": "Python 3 (ipykernel)",
   "language": "python",
   "name": "python3"
  },
  "language_info": {
   "codemirror_mode": {
    "name": "ipython",
    "version": 3
   },
   "file_extension": ".py",
   "mimetype": "text/x-python",
   "name": "python",
   "nbconvert_exporter": "python",
   "pygments_lexer": "ipython3",
   "version": "3.11.3"
  }
 },
 "nbformat": 4,
 "nbformat_minor": 4
}
