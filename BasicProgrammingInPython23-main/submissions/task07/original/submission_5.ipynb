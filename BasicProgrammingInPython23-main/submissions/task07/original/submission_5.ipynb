{
 "cells": [
  {
   "cell_type": "markdown",
   "metadata": {},
   "source": [
    "# Coding Tasks - Week 7\n",
    "Welcome to the Python Programming Exercise Sheet!  \n",
    "In this exercise sheet, we will cover some of the fundamental concepts in Python programming.  \n",
    "Topics covered are: NumPy.\n",
    "\n",
    "___\n",
    "\n",
    "**DEADLINE**:  19th June until 12:15  \n",
    "**Your name here**: Lale CAN  \n",
    "**Your university mail**: lcan@uos.de\n",
    "\n",
    "___\n",
    "\n",
    "**Important information**:  \n",
    "In order to pass this sheet you need to achieve  /  points.  \n",
    "For the best possible grade you require  /  points, however, since some harder tasks may take a lot of time you don't have to pressure yourself.  \n",
    "If you complete any three tasks on a sheet you will definitely get a good grade for that sheet.  \n",
    "Hand in your sheet in studip in the respective folder until the deadline.  \n",
    "If you receive no email until a few days after submission you will have passed, the sample solution will also be uploaded around then.  \n",
    "If you receive an email you don't need to worry, you can fail one sheet and also your total points will also be taken into account for the final pass or fail.  "
   ]
  },
  {
   "cell_type": "markdown",
   "metadata": {},
   "source": [
    "### Task 1 - Array Manipulation (4 points)\n",
    "\n",
    "Create a Python program that takes a 1D NumPy array of size 10 with random integer values between 1 and 100 (inclusive) and performs the following operations:\n",
    "\n",
    "- Create the 1D array with the specified size.\n",
    "- Reshape the array into a 2x5 matrix.\n",
    "- Transpose the matrix.\n",
    "- Finally, find the index of the maximum value in the array."
   ]
  },
  {
   "cell_type": "code",
   "execution_count": 1,
   "metadata": {},
   "outputs": [
    {
     "name": "stdout",
     "output_type": "stream",
     "text": [
      "Original 1D array:\n",
      "[39 31 94 84 52 54 18 48 72 61]\n",
      "Reshaped 2x5 matrix:\n",
      "[[39 31 94 84 52]\n",
      " [54 18 48 72 61]]\n",
      "Transposed matrix:\n",
      "[[39 54]\n",
      " [31 18]\n",
      " [94 48]\n",
      " [84 72]\n",
      " [52 61]]\n",
      "Index of maximum value: 2\n"
     ]
    }
   ],
   "source": [
    "import numpy as np\n",
    "\n",
    "# Create a 1D NumPy array of size 10 with random integer values between 1 and 100\n",
    "array = np.random.randint(1, 101, 10)\n",
    "print(\"Original 1D array:\")\n",
    "print(array)\n",
    "\n",
    "# Reshape the array into a 2x5 matrix\n",
    "matrix = array.reshape(2, 5)\n",
    "print(\"Reshaped 2x5 matrix:\")\n",
    "print(matrix)\n",
    "\n",
    "# Transpose the matrix\n",
    "transposed_matrix = matrix.T\n",
    "print(\"Transposed matrix:\")\n",
    "print(transposed_matrix)\n",
    "\n",
    "# Find the index of the maximum value in the array\n",
    "max_index = np.argmax(array)\n",
    "print(\"Index of maximum value:\", max_index)\n"
   ]
  },
  {
   "cell_type": "markdown",
   "metadata": {},
   "source": [
    "### Task 2 - Standart Deviation Ratio (SDR) (4 points)\n",
    "\n",
    "Implement a Python program that calculates the standard deviation ratio (SDR) of a given 1D NumPy array. SDR represents the ratio of the standard deviation of the positive elements to the standard deviation of the negative elements.\n",
    "\n",
    "- Create a 1D array of 100 random values.\n",
    "- Split the array into positive and negative elements.\n",
    "- Calculate the standard deviations of the positive and negative arrays.\n",
    "- Calculate the standard deviation ratio (SDR)."
   ]
  },
  {
   "cell_type": "code",
   "execution_count": 2,
   "metadata": {},
   "outputs": [
    {
     "name": "stdout",
     "output_type": "stream",
     "text": [
      "Original array:\n",
      "[-1.29126058 -0.65665339 -1.73544727 -0.788611   -0.45598108 -1.86558695\n",
      " -0.11653455 -1.00850132  1.43765585 -0.16148381 -0.10963372  2.02177856\n",
      " -0.97013143 -0.08958508 -2.19949488 -0.5377333   1.15537669 -0.11298941\n",
      "  0.29910669  0.35019103  0.75379665  0.87701263 -0.91937368 -0.55092625\n",
      "  0.62478257 -1.44192397  0.80786569 -0.14622363  0.97513788  0.64638051\n",
      " -0.70321227  0.92887814 -1.32992199  0.92049673  1.16548725  0.05192717\n",
      "  0.77684406 -1.10709575 -0.27837475 -0.8742604   0.61608238 -0.8447376\n",
      " -0.21647151  0.68675904  0.05761037 -0.90338741  1.5944016  -1.30617818\n",
      " -3.69130247  0.04346524  1.20432213  1.45071414  0.46333071 -0.27804808\n",
      " -1.66377765 -0.36260467  1.45792836  0.71937368  0.27464473 -2.77352345\n",
      " -0.57315688  0.38728815 -1.22605228 -0.24128385  0.60159937 -1.4130491\n",
      "  1.02495677 -1.02028703  1.05979163  0.68215917 -0.18428208 -0.37540893\n",
      " -0.13730169 -0.30613689 -0.0654726  -0.3970539   1.33413847  0.57811078\n",
      " -0.8681769  -0.54051106 -0.60742916 -0.60102497 -0.51114772 -1.07186594\n",
      "  0.29735509  0.30100021  0.7373999   0.13208533 -1.24074929  0.67681755\n",
      "  0.85980301 -0.2908398  -0.59435325  0.30506826 -1.35362863 -0.18883649\n",
      " -0.74089677  0.22132017  0.07533355 -0.72405065]\n",
      "Standard Deviation Ratio (SDR): 0.6697951551911908\n"
     ]
    }
   ],
   "source": [
    "import numpy as np\n",
    "\n",
    "# Create a 1D array of 100 random values\n",
    "array = np.random.randn(100)\n",
    "print(\"Original array:\")\n",
    "print(array)\n",
    "\n",
    "# Split the array into positive and negative elements\n",
    "positive_array = array[array > 0]\n",
    "negative_array = array[array < 0]\n",
    "\n",
    "# Calculate the standard deviations of the positive and negative arrays\n",
    "positive_std = np.std(positive_array)\n",
    "negative_std = np.std(negative_array)\n",
    "\n",
    "# Calculate the Standard Deviation Ratio (SDR)\n",
    "sdr = positive_std / negative_std\n",
    "\n",
    "print(\"Standard Deviation Ratio (SDR):\", sdr)"
   ]
  },
  {
   "cell_type": "markdown",
   "metadata": {},
   "source": [
    "### Task 3 - Identity Matrix (3 points)\n",
    "\n",
    "Create a 5x5 identity matrix where:\n",
    "\n",
    "- All diagonal elements are equal to 0.\n",
    "- The rest of the elements should be random integers between 0 and 50 (inclusive)."
   ]
  },
  {
   "cell_type": "code",
   "execution_count": 3,
   "metadata": {},
   "outputs": [
    {
     "name": "stdout",
     "output_type": "stream",
     "text": [
      "Resulting 5x5 matrix:\n",
      "[[ 1. 44. 21. 26. 21.]\n",
      " [40.  1. 45. 36.  5.]\n",
      " [24. 32.  1. 17. 32.]\n",
      " [11.  5. 25.  1. 32.]\n",
      " [26. 12.  3. 16.  1.]]\n"
     ]
    }
   ],
   "source": [
    "import numpy as np\n",
    "\n",
    "# Create a 5x5 identity matrix\n",
    "matrix = np.eye(5)\n",
    "\n",
    "# Generate random integers between 0 and 50 for non-diagonal elements\n",
    "non_diag_values = np.random.randint(0, 51, size=(5, 5)) * (1 - np.eye(5))\n",
    "\n",
    "# Add the non-diagonal values to the matrix\n",
    "matrix += non_diag_values\n",
    "\n",
    "print(\"Resulting 5x5 matrix:\")\n",
    "print(matrix)\n",
    "\n"
   ]
  },
  {
   "cell_type": "markdown",
   "metadata": {},
   "source": [
    "### Task 4 - Calculate the Euclidean distance between two arrays (2 points)\n",
    "The Euclidean distance measures the straight-line distance between two points in space. In this task, you will calculate the Euclidean distance between two 1-dimensional arrays using the NumPy library.\n",
    "\n",
    "**Hint:** To calculate the Euclidean distance between the two arrays, we can use the np.linalg.norm() function. This function calculates the norm, which is a generalized form of the Euclidean distance, of the difference between the arrays:\n"
   ]
  },
  {
   "cell_type": "code",
   "execution_count": 4,
   "metadata": {},
   "outputs": [
    {
     "name": "stdout",
     "output_type": "stream",
     "text": [
      "Euclidean distance: 11.180339887498949\n"
     ]
    }
   ],
   "source": [
    "import numpy as np\n",
    "\n",
    "# Two example 1-dimensional arrays\n",
    "array1 = np.array([1, 2, 3, 4, 5])\n",
    "array2 = np.array([6, 7, 8, 9, 10])\n",
    "\n",
    "# Calculate the Euclidean distance between the two arrays\n",
    "euclidean_distance = np.linalg.norm(array1 - array2)\n",
    "\n",
    "print(\"Euclidean distance:\", euclidean_distance)"
   ]
  },
  {
   "cell_type": "markdown",
   "metadata": {},
   "source": [
    "### Task 5 - Find the Point of Exceeding a Cumulative Sum Threshold (4 points)\n",
    "\n",
    "Generate a random 1-dimensional array of size 100 with values ranging from 0 to 9. Calculate the cumulative sum of the array and find the index where the cumulative sum exceeds 100 for the first time, then print the index.\n",
    "Description:\n",
    "In this task, you will work with a randomly generated 1-dimensional array of numerical values. Your goal is to calculate the cumulative sum of the array, which represents the running total of the values. Then, you need to identify the position in the array where the cumulative sum exceeds a specific threshold."
   ]
  },
  {
   "cell_type": "code",
   "execution_count": 5,
   "metadata": {},
   "outputs": [
    {
     "name": "stdout",
     "output_type": "stream",
     "text": [
      "Original array:\n",
      "[6 6 3 4 1 5 1 6 7 7 8 0 3 1 4 7 1 6 7 7 4 5 2 7 4 5 2 2 5 1 1 0 7 0 4 6 8\n",
      " 1 7 1 9 9 3 0 9 9 0 2 8 9 1 3 8 8 9 3 3 5 5 3 3 3 2 6 4 3 6 5 1 2 4 6 5 1\n",
      " 9 9 8 8 5 0 6 0 8 4 0 6 6 8 3 4 3 2 0 4 5 1 2 0 1 8]\n",
      "Cumulative sum:\n",
      "[  6  12  15  19  20  25  26  32  39  46  54  54  57  58  62  69  70  76\n",
      "  83  90  94  99 101 108 112 117 119 121 126 127 128 128 135 135 139 145\n",
      " 153 154 161 162 171 180 183 183 192 201 201 203 211 220 221 224 232 240\n",
      " 249 252 255 260 265 268 271 274 276 282 286 289 295 300 301 303 307 313\n",
      " 318 319 328 337 345 353 358 358 364 364 372 376 376 382 388 396 399 403\n",
      " 406 408 408 412 417 418 420 420 421 429]\n",
      "Index where cumulative sum exceeds 100 : 22\n"
     ]
    }
   ],
   "source": [
    "import numpy as np\n",
    "\n",
    "# Generate a random 1-dimensional array of size 100 with values ranging from 0 to 9\n",
    "array = np.random.randint(0, 10, size=100)\n",
    "print(\"Original array:\")\n",
    "print(array)\n",
    "\n",
    "# Calculate the cumulative sum of the array\n",
    "cumulative_sum = np.cumsum(array)\n",
    "print(\"Cumulative sum:\")\n",
    "print(cumulative_sum)\n",
    "\n",
    "# Find the index where the cumulative sum exceeds 100 for the first time\n",
    "threshold = 100\n",
    "exceeding_index = np.argmax(cumulative_sum > threshold)\n",
    "\n",
    "print(\"Index where cumulative sum exceeds\", threshold, \":\", exceeding_index)\n"
   ]
  },
  {
   "cell_type": "markdown",
   "metadata": {},
   "source": [
    "### Task 6 - Performing Linear Algebra Operations (3 points)\n",
    "Description: In this task, you will work with a randomly generated 2-dimensional array and perform linear algebra operations using NumPy. You will calculate the determinant of the array, compute its inverse, and verify that the product of the array and its inverse yields the identity matrix. This task provides an opportunity to explore fundamental linear algebra concepts, such as determinants, matrix inverses, and the properties of the identity matrix, using NumPy.\n",
    "\n",
    "1. Create a 2-dimensional array with shape (2, 2) and fill it with random integers between 1 and 9.\n",
    "2. Calculate the determinant of the array.\n",
    "3. Compute the inverse of the array.\n",
    "4. Multiply the array by its inverse.\n",
    "5. Print the final array."
   ]
  },
  {
   "cell_type": "code",
   "execution_count": 6,
   "metadata": {},
   "outputs": [
    {
     "name": "stdout",
     "output_type": "stream",
     "text": [
      "Original array:\n",
      "[[4 6]\n",
      " [7 2]]\n",
      "Determinant: -34.00000000000001\n",
      "Inverse:\n",
      "[[-0.05882353  0.17647059]\n",
      " [ 0.20588235 -0.11764706]]\n",
      "Final array:\n",
      "[[1.00000000e+00 1.38777878e-16]\n",
      " [0.00000000e+00 1.00000000e+00]]\n"
     ]
    }
   ],
   "source": [
    "import numpy as np\n",
    "\n",
    "# Create a 2-dimensional array with shape (2, 2) and fill it with random integers between 1 and 9\n",
    "array = np.random.randint(1, 10, size=(2, 2))\n",
    "print(\"Original array:\")\n",
    "print(array)\n",
    "\n",
    "# Calculate the determinant of the array\n",
    "determinant = np.linalg.det(array)\n",
    "print(\"Determinant:\", determinant)\n",
    "\n",
    "# Compute the inverse of the array\n",
    "inverse = np.linalg.inv(array)\n",
    "print(\"Inverse:\")\n",
    "print(inverse)\n",
    "\n",
    "# Multiply the array by its inverse\n",
    "result = np.dot(array, inverse)\n",
    "print(\"Final array:\")\n",
    "print(result)\n"
   ]
  }
 ],
 "metadata": {
  "kernelspec": {
   "display_name": "Python 3 (ipykernel)",
   "language": "python",
   "name": "python3"
  },
  "language_info": {
   "codemirror_mode": {
    "name": "ipython",
    "version": 3
   },
   "file_extension": ".py",
   "mimetype": "text/x-python",
   "name": "python",
   "nbconvert_exporter": "python",
   "pygments_lexer": "ipython3",
   "version": "3.10.9"
  }
 },
 "nbformat": 4,
 "nbformat_minor": 4
}
