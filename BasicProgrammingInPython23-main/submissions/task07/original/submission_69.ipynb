{
 "cells": [
  {
   "cell_type": "markdown",
   "metadata": {},
   "source": [
    "# Coding Tasks - Week 7\n",
    "Welcome to the Python Programming Exercise Sheet!  \n",
    "In this exercise sheet, we will cover some of the fundamental concepts in Python programming.  \n",
    "Topics covered are: NumPy.\n",
    "\n",
    "___\n",
    "\n",
    "**DEADLINE**:  19th June until 12:15  \n",
    "**Your name here**: Lilia Ben Salah\n",
    "**Your university mail**: lbensalah@uni-osnabrueck.de\n",
    "\n",
    "___\n",
    "\n",
    "**Important information**:  \n",
    "In order to pass this sheet you need to achieve  /  points.  \n",
    "For the best possible grade you require  /  points, however, since some harder tasks may take a lot of time you don't have to pressure yourself.  \n",
    "If you complete any three tasks on a sheet you will definitely get a good grade for that sheet.  \n",
    "Hand in your sheet in studip in the respective folder until the deadline.  \n",
    "If you receive no email until a few days after submission you will have passed, the sample solution will also be uploaded around then.  \n",
    "If you receive an email you don't need to worry, you can fail one sheet and also your total points will also be taken into account for the final pass or fail.  "
   ]
  },
  {
   "cell_type": "markdown",
   "metadata": {},
   "source": [
    "### Task 1 - Array Manipulation (4 points)\n",
    "\n",
    "Create a Python program that takes a 1D NumPy array of size 10 with random integer values between 1 and 100 (inclusive) and performs the following operations:\n",
    "\n",
    "- Create the 1D array with the specified size.\n",
    "- Reshape the array into a 2x5 matrix.\n",
    "- Transpose the matrix.\n",
    "- Finally, find the index of the maximum value in the array."
   ]
  },
  {
   "cell_type": "code",
   "execution_count": 1,
   "metadata": {},
   "outputs": [
    {
     "name": "stdout",
     "output_type": "stream",
     "text": [
      "The original array:\n",
      "[ 3 18 77 59 61 55 55 74 22 74]\n",
      "The reshaped array:\n",
      "[[ 3 18 77 59 61]\n",
      " [55 55 74 22 74]]\n",
      "The transposed array:\n",
      "[[ 3 55]\n",
      " [18 55]\n",
      " [77 74]\n",
      " [59 22]\n",
      " [61 74]]\n",
      "The index of the maximum value:\n",
      "2\n"
     ]
    }
   ],
   "source": [
    "import numpy as np\n",
    "\n",
    "# Create a 1D array of size 10 with random integer values between 1 and 100\n",
    "arr = np.random.randint(1, 101, 10)\n",
    "\n",
    "# Reshape the array into a 2x5 matrix\n",
    "arr_reshaped = arr.reshape(2, 5)\n",
    "\n",
    "# Transpose the matrix\n",
    "arr_transposed = arr_reshaped.T\n",
    "\n",
    "# Find the index of the maximum value in the array\n",
    "max_index = np.argmax(arr)\n",
    "\n",
    "# Print the original array\n",
    "print(f\"The original array:\\n{arr}\")\n",
    "\n",
    "# Print the reshaped array\n",
    "print(f\"The reshaped array:\\n{arr_reshaped}\")\n",
    "\n",
    "# Print the transposed array\n",
    "print(f\"The transposed array:\\n{arr_transposed}\")\n",
    "\n",
    "# Print the index of the maximum value\n",
    "print(f\"The index of the maximum value:\\n{max_index}\")\n"
   ]
  },
  {
   "cell_type": "markdown",
   "metadata": {},
   "source": [
    "### Task 2 - Standart Deviation Ratio (SDR) (4 points)\n",
    "\n",
    "Implement a Python program that calculates the standard deviation ratio (SDR) of a given 1D NumPy array. SDR represents the ratio of the standard deviation of the positive elements to the standard deviation of the negative elements.\n",
    "\n",
    "- Create a 1D array of 100 random values.\n",
    "- Split the array into positive and negative elements.\n",
    "- Calculate the standard deviations of the positive and negative arrays.\n",
    "- Calculate the standard deviation ratio (SDR)."
   ]
  },
  {
   "cell_type": "code",
   "execution_count": 2,
   "metadata": {},
   "outputs": [
    {
     "name": "stdout",
     "output_type": "stream",
     "text": [
      "Array:\n",
      "[-1.12195766  0.25716564  0.39034434  0.7749715   0.64299354  1.05308532\n",
      "  0.2780518  -0.63820866  1.06092405  1.42892031  0.52869648  0.80718335\n",
      "  1.08251578 -0.71448265 -0.65461325 -0.10197062 -1.12333241  0.23764186\n",
      " -1.89991323 -0.65652068 -0.62295592  0.95506633  0.9478711   0.33298547\n",
      " -1.57897948  0.45999019  0.27668099 -0.16627191 -1.08248237 -0.47746726\n",
      "  2.38841056  0.01856942 -0.49288871  0.60902101 -1.82767197 -0.27730575\n",
      " -1.35371655  1.22366716 -0.97922936  0.0491918  -0.68068414 -0.68530628\n",
      " -0.17805042 -0.22793021 -0.1090658   0.71524827  1.78930648 -0.84546243\n",
      "  2.07506948  1.28066976 -1.16861465 -1.23275719 -0.00972657 -0.03489636\n",
      " -0.32491913  0.55761142  1.28505954  1.18116352  0.84902336 -0.22479582\n",
      " -0.48755739  0.0393108   0.24495807  1.12667675  0.48746676 -1.68148199\n",
      "  0.63272177  0.26086439 -1.64913849 -0.39735205 -1.45183558  0.06715632\n",
      " -0.38745954  0.54465944  0.28578783  1.0092551   0.25140795  1.3834219\n",
      " -0.08745632 -0.39957593  0.09625005 -1.08502183 -0.10887612  0.63340233\n",
      " -0.16852646  0.99841966 -0.42371044  1.1921597  -1.28479146  0.23640184\n",
      " -0.34172106 -1.46844222  0.42958889  1.14152857 -0.62185155 -0.01514991\n",
      "  0.23427113  0.37680792  0.3401074  -0.1305276 ]\n",
      "The positive array:\n",
      "[0.25716564 0.39034434 0.7749715  0.64299354 1.05308532 0.2780518\n",
      " 1.06092405 1.42892031 0.52869648 0.80718335 1.08251578 0.23764186\n",
      " 0.95506633 0.9478711  0.33298547 0.45999019 0.27668099 2.38841056\n",
      " 0.01856942 0.60902101 1.22366716 0.0491918  0.71524827 1.78930648\n",
      " 2.07506948 1.28066976 0.55761142 1.28505954 1.18116352 0.84902336\n",
      " 0.0393108  0.24495807 1.12667675 0.48746676 0.63272177 0.26086439\n",
      " 0.06715632 0.54465944 0.28578783 1.0092551  0.25140795 1.3834219\n",
      " 0.09625005 0.63340233 0.99841966 1.1921597  0.23640184 0.42958889\n",
      " 1.14152857 0.23427113 0.37680792 0.3401074 ]\n",
      "The negative array:\n",
      "[-1.12195766 -0.63820866 -0.71448265 -0.65461325 -0.10197062 -1.12333241\n",
      " -1.89991323 -0.65652068 -0.62295592 -1.57897948 -0.16627191 -1.08248237\n",
      " -0.47746726 -0.49288871 -1.82767197 -0.27730575 -1.35371655 -0.97922936\n",
      " -0.68068414 -0.68530628 -0.17805042 -0.22793021 -0.1090658  -0.84546243\n",
      " -1.16861465 -1.23275719 -0.00972657 -0.03489636 -0.32491913 -0.22479582\n",
      " -0.48755739 -1.68148199 -1.64913849 -0.39735205 -1.45183558 -0.38745954\n",
      " -0.08745632 -0.39957593 -1.08502183 -0.10887612 -0.16852646 -0.42371044\n",
      " -1.28479146 -0.34172106 -1.46844222 -0.62185155 -0.01514991 -0.1305276 ]\n",
      "Standard Deviation Ratio:\n",
      "0.9721572022344838\n"
     ]
    }
   ],
   "source": [
    "import numpy as np\n",
    "\n",
    "# Create a 1D array of 100 random values\n",
    "arr1 = np.random.randn(100)\n",
    "\n",
    "# Split the array into positive and negative elements\n",
    "positive_array = arr1[arr1 > 0]\n",
    "negative_array = arr1[arr1 < 0]\n",
    "\n",
    "# Calculate the standard deviations\n",
    "positive_std_dev = np.std(positive_array)\n",
    "negative_std_dev = np.std(negative_array)\n",
    "\n",
    "# Calculate the standard deviation ratio\n",
    "sdr = positive_std_dev / negative_std_dev\n",
    "\n",
    "# Print the original array\n",
    "print(f\"Array:\\n{arr1}\")\n",
    "\n",
    "# Print the positive array\n",
    "print(f\"The positive array:\\n{positive_array}\")\n",
    "\n",
    "# Print the negative array\n",
    "print(f\"The negative array:\\n{negative_array}\")\n",
    "\n",
    "# Print the standard deviation ratio\n",
    "print(f\"Standard Deviation Ratio:\\n{sdr}\")\n"
   ]
  },
  {
   "cell_type": "markdown",
   "metadata": {},
   "source": [
    "### Task 3 - Identity Matrix (3 points)\n",
    "\n",
    "Create a 5x5 identity matrix where:\n",
    "\n",
    "- All diagonal elements are equal to 0.\n",
    "- The rest of the elements should be random integers between 0 and 50 (inclusive)."
   ]
  },
  {
   "cell_type": "code",
   "execution_count": 3,
   "metadata": {},
   "outputs": [
    {
     "name": "stdout",
     "output_type": "stream",
     "text": [
      "[[ 0.  5.  8. 22. 20.]\n",
      " [ 4.  0.  6. 46. 46.]\n",
      " [37. 12.  0. 17. 29.]\n",
      " [28. 35. 43.  0. 46.]\n",
      " [12. 27.  9. 42.  0.]]\n"
     ]
    }
   ],
   "source": [
    "import numpy as np\n",
    "\n",
    "# Create a 5x5 identity matrix\n",
    "identity_matrix = np.zeros((5, 5))\n",
    "\n",
    "# Generate random integers between 0 and 50 (inclusive)\n",
    "random_integers = np.random.randint(0, 51, size=(5, 5))\n",
    "\n",
    "# Replace the non-diagonal elements with random integers\n",
    "identity_matrix[~np.eye(5, dtype=bool)] = random_integers[~np.eye(5, dtype=bool)]\n",
    "\n",
    "print(identity_matrix)\n"
   ]
  },
  {
   "cell_type": "markdown",
   "metadata": {},
   "source": [
    "### Task 4 - Calculate the Euclidean distance between two arrays (2 points)\n",
    "The Euclidean distance measures the straight-line distance between two points in space. In this task, you will calculate the Euclidean distance between two 1-dimensional arrays using the NumPy library.\n",
    "\n",
    "**Hint:** To calculate the Euclidean distance between the two arrays, we can use the np.linalg.norm() function. This function calculates the norm, which is a generalized form of the Euclidean distance, of the difference between the arrays:\n"
   ]
  },
  {
   "cell_type": "code",
   "execution_count": 4,
   "metadata": {},
   "outputs": [
    {
     "name": "stdout",
     "output_type": "stream",
     "text": [
      "Euclidean Distance: 5.196152422706632\n"
     ]
    }
   ],
   "source": [
    "import numpy as np\n",
    "\n",
    "# Create two 1-dimensional arrays\n",
    "arr1 = np.array([1, 2, 3])\n",
    "arr2 = np.array([4, 5, 6])\n",
    "\n",
    "# Calculate the difference between the two arrays\n",
    "difference = arr2 - arr1\n",
    "\n",
    "# Calculate the Euclidean distance using the norm function from the linalg module\n",
    "distance = np.linalg.norm(difference)\n",
    "\n",
    "# Print the calculated Euclidean distance\n",
    "print(\"Euclidean Distance:\", distance)"
   ]
  },
  {
   "cell_type": "markdown",
   "metadata": {},
   "source": [
    "### Task 5 - Find the Point of Exceeding a Cumulative Sum Threshold (4 points)\n",
    "\n",
    "Generate a random 1-dimensional array of size 100 with values ranging from 0 to 9. Calculate the cumulative sum of the array and find the index where the cumulative sum exceeds 100 for the first time, then print the index.\n",
    "Description:\n",
    "In this task, you will work with a randomly generated 1-dimensional array of numerical values. Your goal is to calculate the cumulative sum of the array, which represents the running total of the values. Then, you need to identify the position in the array where the cumulative sum exceeds a specific threshold."
   ]
  },
  {
   "cell_type": "code",
   "execution_count": 5,
   "metadata": {},
   "outputs": [
    {
     "name": "stdout",
     "output_type": "stream",
     "text": [
      "Index where cumulative sum exceeds 100 : 23\n"
     ]
    }
   ],
   "source": [
    "import numpy as np\n",
    "\n",
    "# Generate a random 1-dimensional array of size 100 with values ranging from 0 to 9\n",
    "arr = np.random.randint(0, 10, size=100)\n",
    "\n",
    "# Calculate the cumulative sum of the array\n",
    "cumulative_sum = np.cumsum(arr)\n",
    "\n",
    "# Set the threshold value\n",
    "threshold = 100\n",
    "\n",
    "# Find the index where the cumulative sum first exceeds the threshold\n",
    "index = np.argmax(cumulative_sum > threshold)\n",
    "\n",
    "# Print the index where the cumulative sum exceeds the threshold\n",
    "print(\"Index where cumulative sum exceeds\", threshold, \":\", index)\n"
   ]
  },
  {
   "cell_type": "markdown",
   "metadata": {},
   "source": [
    "### Task 6 - Performing Linear Algebra Operations (3 points)\n",
    "Description: In this task, you will work with a randomly generated 2-dimensional array and perform linear algebra operations using NumPy. You will calculate the determinant of the array, compute its inverse, and verify that the product of the array and its inverse yields the identity matrix. This task provides an opportunity to explore fundamental linear algebra concepts, such as determinants, matrix inverses, and the properties of the identity matrix, using NumPy.\n",
    "\n",
    "1. Create a 2-dimensional array with shape (2, 2) and fill it with random integers between 1 and 9.\n",
    "2. Calculate the determinant of the array.\n",
    "3. Compute the inverse of the array.\n",
    "4. Multiply the array by its inverse.\n",
    "5. Print the final array."
   ]
  },
  {
   "cell_type": "code",
   "execution_count": 6,
   "metadata": {},
   "outputs": [
    {
     "name": "stdout",
     "output_type": "stream",
     "text": [
      "Identity Matrix:\n",
      " [[1. 0.]\n",
      " [0. 1.]]\n"
     ]
    }
   ],
   "source": [
    "import numpy as np\n",
    "\n",
    "# Generate a random 2-dimensional array with shape (2, 2) and random integers between 1 and 9\n",
    "arr = np.random.randint(1, 10, size=(2, 2))\n",
    "\n",
    "# Calculate the determinant of the array\n",
    "determinant = np.linalg.det(arr)\n",
    "\n",
    "# Compute the inverse of the array\n",
    "inverse = np.linalg.inv(arr)\n",
    "\n",
    "# Multiply the array by its inverse to obtain the identity matrix\n",
    "identity = np.dot(arr, inverse)\n",
    "\n",
    "# Print the resulting identity matrix\n",
    "print(\"Identity Matrix:\\n\", identity)\n"
   ]
  },
  {
   "cell_type": "code",
   "execution_count": null,
   "metadata": {},
   "outputs": [],
   "source": []
  }
 ],
 "metadata": {
  "kernelspec": {
   "display_name": "Python 3",
   "language": "python",
   "name": "python3"
  },
  "language_info": {
   "codemirror_mode": {
    "name": "ipython",
    "version": 3
   },
   "file_extension": ".py",
   "mimetype": "text/x-python",
   "name": "python",
   "nbconvert_exporter": "python",
   "pygments_lexer": "ipython3",
   "version": "3.7.3"
  }
 },
 "nbformat": 4,
 "nbformat_minor": 4
}
