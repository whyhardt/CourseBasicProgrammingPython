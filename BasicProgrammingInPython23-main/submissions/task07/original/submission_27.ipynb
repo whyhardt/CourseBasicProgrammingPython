{
 "cells": [
  {
   "attachments": {},
   "cell_type": "markdown",
   "metadata": {},
   "source": [
    "# Coding Tasks - Week 7\n",
    "Welcome to the Python Programming Exercise Sheet!  \n",
    "In this exercise sheet, we will cover some of the fundamental concepts in Python programming.  \n",
    "Topics covered are: NumPy.\n",
    "\n",
    "___\n",
    "\n",
    "**DEADLINE**:  19th June until 12:15  \n",
    "**Your name here**: Mitra Farajimashaallah  \n",
    "**Your university mail**: mfarajimasha@uni-osnabrueck.de\n",
    "\n",
    "___\n",
    "\n",
    "**Important information**:  \n",
    "In order to pass this sheet you need to achieve  /  points.  \n",
    "For the best possible grade you require  /  points, however, since some harder tasks may take a lot of time you don't have to pressure yourself.  \n",
    "If you complete any three tasks on a sheet you will definitely get a good grade for that sheet.  \n",
    "Hand in your sheet in studip in the respective folder until the deadline.  \n",
    "If you receive no email until a few days after submission you will have passed, the sample solution will also be uploaded around then.  \n",
    "If you receive an email you don't need to worry, you can fail one sheet and also your total points will also be taken into account for the final pass or fail.  "
   ]
  },
  {
   "attachments": {},
   "cell_type": "markdown",
   "metadata": {},
   "source": [
    "### Task 1 - Array Manipulation (4 points)\n",
    "\n",
    "Create a Python program that takes a 1D NumPy array of size 10 with random integer values between 1 and 100 (inclusive) and performs the following operations:\n",
    "\n",
    "- Create the 1D array with the specified size.\n",
    "- Reshape the array into a 2x5 matrix.\n",
    "- Transpose the matrix.\n",
    "- Finally, find the index of the maximum value in the array."
   ]
  },
  {
   "cell_type": "code",
   "execution_count": 4,
   "metadata": {},
   "outputs": [
    {
     "name": "stdout",
     "output_type": "stream",
     "text": [
      "The original array:\n",
      "[16 97 56 33 64 25 67 68 79 94]\n",
      "The reshaped array:\n",
      "[[16 97 56 33 64]\n",
      " [25 67 68 79 94]]\n",
      "The transposed array:\n",
      "[16 97 56 33 64 25 67 68 79 94]\n",
      "The index of the maximum value:\n",
      "1\n"
     ]
    }
   ],
   "source": [
    "import numpy as np\n",
    "\n",
    "# Create a 1D array of size 10 with random integer values between 1 and 100\n",
    "arr = np.random.randint(1, 101, 10)\n",
    "\n",
    "# Reshape the array into a 2x5 matrix\n",
    "arr_reshaped = arr.reshape(2,5)\n",
    "\n",
    "# Transpose the matrix\n",
    "arr_transposed = np.transpose(arr)\n",
    "\n",
    "# Find the index of the maximum value in the array\n",
    "max_index = arr.argmax()\n",
    "\n",
    "# Print the original array\n",
    "print(f\"The original array:\\n{arr}\")\n",
    "\n",
    "# Print the reshaped array\n",
    "print(f\"The reshaped array:\\n{arr_reshaped}\")\n",
    "\n",
    "# Print the transposed array\n",
    "print(f\"The transposed array:\\n{arr_transposed}\")\n",
    "\n",
    "# Print the index of the maximum value\n",
    "print(f\"The index of the maximum value:\\n{max_index}\")\n"
   ]
  },
  {
   "attachments": {},
   "cell_type": "markdown",
   "metadata": {},
   "source": [
    "### Task 2 - Standart Deviation Ratio (SDR) (4 points)\n",
    "\n",
    "Implement a Python program that calculates the standard deviation ratio (SDR) of a given 1D NumPy array. SDR represents the ratio of the standard deviation of the positive elements to the standard deviation of the negative elements.\n",
    "\n",
    "- Create a 1D array of 100 random values.\n",
    "- Split the array into positive and negative elements.\n",
    "- Calculate the standard deviations of the positive and negative arrays.\n",
    "- Calculate the standard deviation ratio (SDR)."
   ]
  },
  {
   "cell_type": "code",
   "execution_count": 6,
   "metadata": {},
   "outputs": [
    {
     "name": "stdout",
     "output_type": "stream",
     "text": [
      "Array:\n",
      "[ 8.52618154e-02  2.95209167e-01  5.48100840e-01  1.32887610e+00\n",
      " -3.75072487e-01  1.09936998e+00 -1.35318166e+00  1.14716201e+00\n",
      " -2.80931833e-01  1.28066825e+00 -1.18082608e+00 -2.43813855e-01\n",
      "  5.87283329e-01  9.15329637e-01 -1.02019899e+00  1.09726127e+00\n",
      "  2.61202982e-01 -1.15108101e+00  6.76349646e-01 -1.66409856e-01\n",
      " -1.02141714e+00  1.16202286e-02  1.26804423e+00  3.69520407e-02\n",
      " -4.80877707e-01 -2.64447752e-01 -5.60460618e-01 -1.21972506e+00\n",
      " -1.07686793e+00  1.29281798e+00  2.15536007e+00  8.80316433e-01\n",
      "  3.90108030e-01 -4.00005631e-01  1.34305693e+00 -4.46687122e-01\n",
      "  7.16361572e-03  3.78201082e-02 -1.26481762e+00 -1.65762459e-01\n",
      " -4.01759242e-01  5.88683650e-01  3.52208346e-01  5.27345807e-01\n",
      "  6.10829094e-01  7.53052960e-01  1.43196077e+00 -2.86922827e+00\n",
      " -2.24245935e+00  1.44687117e-01  9.48889834e-01  1.11429263e+00\n",
      " -1.85916005e-01 -7.40277734e-02  1.44980152e-01 -9.80081436e-01\n",
      "  9.83062154e-02 -1.34668978e+00  5.99064212e-01 -1.95096493e-02\n",
      "  3.08846240e-01  1.55160993e+00 -7.85853611e-01 -1.98741869e+00\n",
      "  7.61753417e-01 -9.10759049e-01 -1.25687824e+00  1.28927067e+00\n",
      "  1.86039786e+00 -1.52540197e-01  6.42805621e-01  2.81606888e-02\n",
      "  1.31881483e+00 -1.15859905e-01 -1.63025091e+00 -3.16363013e-01\n",
      " -3.60045973e-01 -4.31499491e-01  1.00400058e+00 -9.38647366e-01\n",
      "  1.14880490e+00  9.79932632e-01 -1.02814077e-01 -1.02890213e-01\n",
      "  4.55669378e-02 -8.82105687e-01  2.07350719e-01  5.97269866e-01\n",
      " -4.93864722e-01 -1.56001101e+00  1.52710222e-01  1.01899900e+00\n",
      "  2.84990619e-03 -1.56444055e+00 -2.98598735e-01  8.70078984e-01\n",
      "  1.98858509e-01  6.63665254e-01 -5.33997527e-01  8.95898668e-01]\n",
      "The positive array:\n",
      "[0.08526182 0.29520917 0.54810084 1.3288761  1.09936998 1.14716201\n",
      " 1.28066825 0.58728333 0.91532964 1.09726127 0.26120298 0.67634965\n",
      " 0.01162023 1.26804423 0.03695204 1.29281798 2.15536007 0.88031643\n",
      " 0.39010803 1.34305693 0.00716362 0.03782011 0.58868365 0.35220835\n",
      " 0.52734581 0.61082909 0.75305296 1.43196077 0.14468712 0.94888983\n",
      " 1.11429263 0.14498015 0.09830622 0.59906421 0.30884624 1.55160993\n",
      " 0.76175342 1.28927067 1.86039786 0.64280562 0.02816069 1.31881483\n",
      " 1.00400058 1.1488049  0.97993263 0.04556694 0.20735072 0.59726987\n",
      " 0.15271022 1.018999   0.00284991 0.87007898 0.19885851 0.66366525\n",
      " 0.89589867]\n",
      "The negative array:\n",
      "[-0.37507249 -1.35318166 -0.28093183 -1.18082608 -0.24381386 -1.02019899\n",
      " -1.15108101 -0.16640986 -1.02141714 -0.48087771 -0.26444775 -0.56046062\n",
      " -1.21972506 -1.07686793 -0.40000563 -0.44668712 -1.26481762 -0.16576246\n",
      " -0.40175924 -2.86922827 -2.24245935 -0.18591601 -0.07402777 -0.98008144\n",
      " -1.34668978 -0.01950965 -0.78585361 -1.98741869 -0.91075905 -1.25687824\n",
      " -0.1525402  -0.11585991 -1.63025091 -0.31636301 -0.36004597 -0.43149949\n",
      " -0.93864737 -0.10281408 -0.10289021 -0.88210569 -0.49386472 -1.56001101\n",
      " -1.56444055 -0.29859874 -0.53399753]\n",
      "Standard Deviation Ratio:\n",
      "0.8176466143886998\n"
     ]
    }
   ],
   "source": [
    "import numpy as np\n",
    "\n",
    "# Create a 1D array of 100 random values\n",
    "arr1 = np.random.randn(100)\n",
    "\n",
    "# Split the array into positive and negative elements\n",
    "positive_array = arr1 [arr1>=0]\n",
    "negative_array = arr1 [arr1<=0]\n",
    "\n",
    "# Calculate the standard deviations\n",
    "positive_std_dev = np.std(positive_array)\n",
    "negative_std_dev = np.std(negative_array)\n",
    "\n",
    "# Calculate the standard deviation ratio\n",
    "sdr = positive_std_dev / negative_std_dev\n",
    "\n",
    "# Print the original array\n",
    "print(f\"Array:\\n{arr1}\")\n",
    "\n",
    "# Print the positive array\n",
    "print(f\"The positive array:\\n{positive_array}\")\n",
    "\n",
    "# Print the negative array\n",
    "print(f\"The negative array:\\n{negative_array}\")\n",
    "\n",
    "# Print the standard deviation ratio\n",
    "print(f\"Standard Deviation Ratio:\\n{sdr}\")\n"
   ]
  },
  {
   "attachments": {},
   "cell_type": "markdown",
   "metadata": {},
   "source": [
    "### Task 3 - Identity Matrix (3 points)\n",
    "\n",
    "Create a 5x5 identity matrix where:\n",
    "\n",
    "- All diagonal elements are equal to 0.\n",
    "- The rest of the elements should be random integers between 0 and 50 (inclusive)."
   ]
  },
  {
   "cell_type": "code",
   "execution_count": 7,
   "metadata": {},
   "outputs": [
    {
     "ename": "TypeError",
     "evalue": "'int' object is not subscriptable",
     "output_type": "error",
     "traceback": [
      "\u001b[1;31m---------------------------------------------------------------------------\u001b[0m",
      "\u001b[1;31mTypeError\u001b[0m                                 Traceback (most recent call last)",
      "Cell \u001b[1;32mIn[7], line 10\u001b[0m\n\u001b[0;32m      7\u001b[0m random_integers \u001b[39m=\u001b[39m np\u001b[39m.\u001b[39mrandom\u001b[39m.\u001b[39mrandint(\u001b[39m0\u001b[39m,\u001b[39m50\u001b[39m)\n\u001b[0;32m      9\u001b[0m \u001b[39m# Replace the non-diagonal elements with random integers\u001b[39;00m\n\u001b[1;32m---> 10\u001b[0m identity_matrix[\u001b[39m~\u001b[39mnp\u001b[39m.\u001b[39meye(\u001b[39m5\u001b[39m, dtype\u001b[39m=\u001b[39m\u001b[39mbool\u001b[39m)] \u001b[39m=\u001b[39m random_integers[\u001b[39m~\u001b[39;49mnp\u001b[39m.\u001b[39;49meye(\u001b[39m5\u001b[39;49m, dtype\u001b[39m=\u001b[39;49m\u001b[39mbool\u001b[39;49m)]\n\u001b[0;32m     12\u001b[0m \u001b[39mprint\u001b[39m(identity_matrix)\n",
      "\u001b[1;31mTypeError\u001b[0m: 'int' object is not subscriptable"
     ]
    }
   ],
   "source": [
    "import numpy as np\n",
    "\n",
    "# Create a 5x5 identity matrix\n",
    "identity_matrix = np.full ((5,5),0)\n",
    "\n",
    "# Generate random integers between 0 and 50 (inclusive)\n",
    "random_integers = np.random.randint(0,50)\n",
    "\n",
    "# Replace the non-diagonal elements with random integers\n",
    "identity_matrix[~np.eye(5, dtype=bool)] = random_integers[~np.eye(5, dtype=bool)]\n",
    "\n",
    "print(identity_matrix)\n"
   ]
  },
  {
   "attachments": {},
   "cell_type": "markdown",
   "metadata": {},
   "source": [
    "### Task 4 - Calculate the Euclidean distance between two arrays (2 points)\n",
    "The Euclidean distance measures the straight-line distance between two points in space. In this task, you will calculate the Euclidean distance between two 1-dimensional arrays using the NumPy library.\n",
    "\n",
    "**Hint:** To calculate the Euclidean distance between the two arrays, we can use the np.linalg.norm() function. This function calculates the norm, which is a generalized form of the Euclidean distance, of the difference between the arrays:\n"
   ]
  },
  {
   "cell_type": "code",
   "execution_count": 15,
   "metadata": {},
   "outputs": [
    {
     "name": "stdout",
     "output_type": "stream",
     "text": [
      "Euclidean Distance: 5.196152422706632\n"
     ]
    }
   ],
   "source": [
    "import numpy as np\n",
    "\n",
    "# Create two 1-dimensional arrays\n",
    "arr1 = np.array([1, 2, 3])\n",
    "arr2 = np.array([4, 5, 6])\n",
    "\n",
    "# Calculate the difference between the two arrays\n",
    "difference = arr1 - arr2\n",
    "sum=np.dot (difference.T,difference)\n",
    "# Calculate the Euclidean distance using the norm function from the linalg module\n",
    "distance = np.sqrt (sum)\n",
    "# Print the calculated Euclidean distance\n",
    "print(\"Euclidean Distance:\", distance)"
   ]
  },
  {
   "attachments": {},
   "cell_type": "markdown",
   "metadata": {},
   "source": [
    "### Task 5 - Find the Point of Exceeding a Cumulative Sum Threshold (4 points)\n",
    "\n",
    "Generate a random 1-dimensional array of size 100 with values ranging from 0 to 9. Calculate the cumulative sum of the array and find the index where the cumulative sum exceeds 100 for the first time, then print the index.\n",
    "Description:\n",
    "In this task, you will work with a randomly generated 1-dimensional array of numerical values. Your goal is to calculate the cumulative sum of the array, which represents the running total of the values. Then, you need to identify the position in the array where the cumulative sum exceeds a specific threshold."
   ]
  },
  {
   "cell_type": "code",
   "execution_count": 21,
   "metadata": {},
   "outputs": [
    {
     "name": "stdout",
     "output_type": "stream",
     "text": [
      "Index where cumulative sum exceeds 100 : 20\n"
     ]
    }
   ],
   "source": [
    "import numpy as np\n",
    "\n",
    "# Generate a random 1-dimensional array of size 100 with values ranging from 0 to 9\n",
    "arr = np.random.randint(0, 10, size=100)\n",
    "\n",
    "# Calculate the cumulative sum of the array\n",
    "cumulative_sum = np.cumsum(arr)\n",
    "\n",
    "# Set the threshold value\n",
    "threshold = 100\n",
    "\n",
    "# Find the index where the cumulative sum first exceeds the threshold\n",
    "index = np.argmax(cumulative_sum>threshold) #index mide. age hichi nazarim tush max index adad bozorge ro mide\n",
    "\n",
    "# Print the index where the cumulative sum exceeds the threshold\n",
    "print(\"Index where cumulative sum exceeds\", threshold, \":\", index)\n"
   ]
  },
  {
   "attachments": {},
   "cell_type": "markdown",
   "metadata": {},
   "source": [
    "### Task 6 - Performing Linear Algebra Operations (3 points)\n",
    "Description: In this task, you will work with a randomly generated 2-dimensional array and perform linear algebra operations using NumPy. You will calculate the determinant of the array, compute its inverse, and verify that the product of the array and its inverse yields the identity matrix. This task provides an opportunity to explore fundamental linear algebra concepts, such as determinants, matrix inverses, and the properties of the identity matrix, using NumPy.\n",
    "\n",
    "1. Create a 2-dimensional array with shape (2, 2) and fill it with random integers between 1 and 9.\n",
    "2. Calculate the determinant of the array.\n",
    "3. Compute the inverse of the array.\n",
    "4. Multiply the array by its inverse.\n",
    "5. Print the final array."
   ]
  },
  {
   "cell_type": "code",
   "execution_count": 27,
   "metadata": {},
   "outputs": [
    {
     "name": "stdout",
     "output_type": "stream",
     "text": [
      "[[6 8]\n",
      " [9 2]]\n",
      "-60.000000000000036\n",
      "[[-0.03333333  0.13333333]\n",
      " [ 0.15       -0.1       ]]\n",
      "Identity Matrix:\n",
      " [[-0.2         1.06666667]\n",
      " [ 1.35       -0.2       ]]\n"
     ]
    }
   ],
   "source": [
    "import numpy as np\n",
    "\n",
    "# Generate a random 2-dimensional array with shape (2, 2) and random integers between 1 and 9\n",
    "arr = np.random.randint(1, 10, size=(2,2))\n",
    "print(arr)\n",
    "# Calculate the determinant of the array\n",
    "determinant = np.linalg.det(arr)\n",
    "print(determinant)\n",
    "# Compute the inverse of the array\n",
    "inverse = np.linalg.inv(arr)\n",
    "print (inverse)\n",
    "# Multiply the array by its inverse to obtain the identity matrix\n",
    "identity = arr * inverse\n",
    "\n",
    "# Print the resulting identity matrix\n",
    "print(\"Identity Matrix:\\n\", identity)\n"
   ]
  }
 ],
 "metadata": {
  "kernelspec": {
   "display_name": "Python 3 (ipykernel)",
   "language": "python",
   "name": "python3"
  },
  "language_info": {
   "codemirror_mode": {
    "name": "ipython",
    "version": 3
   },
   "file_extension": ".py",
   "mimetype": "text/x-python",
   "name": "python",
   "nbconvert_exporter": "python",
   "pygments_lexer": "ipython3",
   "version": "3.10.9"
  }
 },
 "nbformat": 4,
 "nbformat_minor": 4
}
