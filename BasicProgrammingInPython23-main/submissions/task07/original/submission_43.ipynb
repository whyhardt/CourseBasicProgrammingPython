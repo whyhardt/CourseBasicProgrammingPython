{
 "cells": [
  {
   "cell_type": "markdown",
   "metadata": {},
   "source": [
    "# Coding Tasks - Week 7\n",
    "Welcome to the Python Programming Exercise Sheet!  \n",
    "In this exercise sheet, we will cover some of the fundamental concepts in Python programming.  \n",
    "Topics covered are: NumPy.\n",
    "\n",
    "___\n",
    "\n",
    "**DEADLINE**:  19th June until 12:15  \n",
    "**Your name here**: Susanne Stark  \n",
    "**Your university mail**: sstark@uos.de\n",
    "\n",
    "___\n",
    "\n",
    "**Important information**:  \n",
    "In order to pass this sheet you need to achieve  /  points.  \n",
    "For the best possible grade you require  /  points, however, since some harder tasks may take a lot of time you don't have to pressure yourself.  \n",
    "If you complete any three tasks on a sheet you will definitely get a good grade for that sheet.  \n",
    "Hand in your sheet in studip in the respective folder until the deadline.  \n",
    "If you receive no email until a few days after submission you will have passed, the sample solution will also be uploaded around then.  \n",
    "If you receive an email you don't need to worry, you can fail one sheet and also your total points will also be taken into account for the final pass or fail.  "
   ]
  },
  {
   "cell_type": "markdown",
   "metadata": {},
   "source": [
    "### Task 1 - Array Manipulation (4 points)\n",
    "\n",
    "Create a Python program that takes a 1D NumPy array of size 10 with random integer values between 1 and 100 (inclusive) and performs the following operations:\n",
    "\n",
    "- Create the 1D array with the specified size.\n",
    "- Reshape the array into a 2x5 matrix.\n",
    "- Transpose the matrix.\n",
    "- Finally, find the index of the maximum value in the array."
   ]
  },
  {
   "cell_type": "code",
   "execution_count": 1,
   "metadata": {},
   "outputs": [
    {
     "name": "stdout",
     "output_type": "stream",
     "text": [
      "The original array:\n",
      "[78 46 15 16 31 60 97 30 89 44]\n",
      "The reshaped array:\n",
      "[[78 46 15 16 31]\n",
      " [60 97 30 89 44]]\n",
      "The transposed array:\n",
      "[[78 60]\n",
      " [46 97]\n",
      " [15 30]\n",
      " [16 89]\n",
      " [31 44]]\n",
      "The index of the maximum value:\n",
      "6\n"
     ]
    }
   ],
   "source": [
    "import numpy as np\n",
    "\n",
    "# Create a 1D array of size 10 with random integer values between 1 and 100\n",
    "arr = np.random.randint(1, 101, 10)\n",
    "\n",
    "# Reshape the array into a 2x5 matrix\n",
    "arr_reshaped = arr.reshape(2, 5) # Your code here\n",
    "\n",
    "# Transpose the matrix\n",
    "arr_transposed = arr_reshaped.T # Your code here\n",
    "\n",
    "# Find the index of the maximum value in the array\n",
    "max_index = np.argmax(arr_reshaped) # Your code here\n",
    "\n",
    "# Print the original array\n",
    "print(f\"The original array:\\n{arr}\")\n",
    "\n",
    "# Print the reshaped array\n",
    "print(f\"The reshaped array:\\n{arr_reshaped}\")\n",
    "\n",
    "# Print the transposed array\n",
    "print(f\"The transposed array:\\n{arr_transposed}\")\n",
    "\n",
    "# Print the index of the maximum value\n",
    "print(f\"The index of the maximum value:\\n{max_index}\")\n"
   ]
  },
  {
   "cell_type": "markdown",
   "metadata": {},
   "source": [
    "### Task 2 - Standart Deviation Ratio (SDR) (4 points)\n",
    "\n",
    "Implement a Python program that calculates the standard deviation ratio (SDR) of a given 1D NumPy array. SDR represents the ratio of the standard deviation of the positive elements to the standard deviation of the negative elements.\n",
    "\n",
    "- Create a 1D array of 100 random values.\n",
    "- Split the array into positive and negative elements.\n",
    "- Calculate the standard deviations of the positive and negative arrays.\n",
    "- Calculate the standard deviation ratio (SDR)."
   ]
  },
  {
   "cell_type": "code",
   "execution_count": 2,
   "metadata": {},
   "outputs": [
    {
     "name": "stdout",
     "output_type": "stream",
     "text": [
      "Array:\n",
      "[-0.00359493  0.75454677 -1.25243221 -0.06908525 -2.25059213  0.53574493\n",
      "  0.32882191 -2.10419842  1.12942791 -0.03431374 -0.93843866 -0.86360206\n",
      " -0.1488153   1.72322723  0.42035679 -1.65504922 -1.49169229 -0.84030254\n",
      " -0.03047327  2.23945218  2.19171809  0.2179228  -1.38405667 -0.47902359\n",
      "  0.21714824  0.78523269 -0.79145439  0.10147853 -0.06053833  1.02190516\n",
      "  0.63672485  0.50554321  0.16967891  0.82859581  0.24173486 -0.25638113\n",
      "  0.26700314 -0.0144393  -0.54373311 -0.09435708  0.25140036  0.79963193\n",
      " -1.23302788  0.54488463  0.07601144  3.04549885 -0.99255307  1.48644968\n",
      " -0.14024627 -1.2431388   0.43136319  0.77518743  2.09510452 -0.12775002\n",
      " -0.73520912  2.56960315  0.15864721 -1.28937242  0.61744856  0.50492707\n",
      "  1.68189708  0.77681375 -0.94679936  0.86980654  1.52250869 -1.21631625\n",
      "  0.47623581 -0.88561108 -0.22740473 -0.56890333  0.66636773 -0.64046324\n",
      " -0.04634443 -1.4507478   0.91150609  1.05938141 -0.18446238  0.55555352\n",
      " -0.56872097 -1.05205815  1.41225667 -2.4731118  -0.66614102  0.05824134\n",
      " -2.06320274  1.45950267 -0.0131106  -0.0114726  -1.80346108  1.27712359\n",
      "  1.1425121   0.50233857  0.38962773  0.3800069  -2.62543046 -1.21280585\n",
      "  1.28561301 -0.63450862  0.46709016  1.20946644]\n",
      "The positive array:\n",
      "[0.75454677 0.53574493 0.32882191 1.12942791 1.72322723 0.42035679\n",
      " 2.23945218 2.19171809 0.2179228  0.21714824 0.78523269 0.10147853\n",
      " 1.02190516 0.63672485 0.50554321 0.16967891 0.82859581 0.24173486\n",
      " 0.26700314 0.25140036 0.79963193 0.54488463 0.07601144 3.04549885\n",
      " 1.48644968 0.43136319 0.77518743 2.09510452 2.56960315 0.15864721\n",
      " 0.61744856 0.50492707 1.68189708 0.77681375 0.86980654 1.52250869\n",
      " 0.47623581 0.66636773 0.91150609 1.05938141 0.55555352 1.41225667\n",
      " 0.05824134 1.45950267 1.27712359 1.1425121  0.50233857 0.38962773\n",
      " 0.3800069  1.28561301 0.46709016 1.20946644]\n",
      "The negative array:\n",
      "[-0.00359493 -1.25243221 -0.06908525 -2.25059213 -2.10419842 -0.03431374\n",
      " -0.93843866 -0.86360206 -0.1488153  -1.65504922 -1.49169229 -0.84030254\n",
      " -0.03047327 -1.38405667 -0.47902359 -0.79145439 -0.06053833 -0.25638113\n",
      " -0.0144393  -0.54373311 -0.09435708 -1.23302788 -0.99255307 -0.14024627\n",
      " -1.2431388  -0.12775002 -0.73520912 -1.28937242 -0.94679936 -1.21631625\n",
      " -0.88561108 -0.22740473 -0.56890333 -0.64046324 -0.04634443 -1.4507478\n",
      " -0.18446238 -0.56872097 -1.05205815 -2.4731118  -0.66614102 -2.06320274\n",
      " -0.0131106  -0.0114726  -1.80346108 -2.62543046 -1.21280585 -0.63450862]\n",
      "Standard Deviation Ratio:\n",
      "0.9458863172883507\n"
     ]
    }
   ],
   "source": [
    "import numpy as np\n",
    "\n",
    "# Create a 1D array of 100 random values\n",
    "arr1 = np.random.randn(100) # Your code here\n",
    "\n",
    "# Split the array into positive and negative elements\n",
    "positive_array = arr1[arr1 > 0] # Your code here\n",
    "negative_array = arr1[arr1 < 0] # Your code here\n",
    "\n",
    "# Calculate the standard deviations\n",
    "positive_std_dev = np.std(positive_array) # Your code here\n",
    "negative_std_dev = np.std(negative_array) # Your code here\n",
    "\n",
    "# Calculate the standard deviation ratio\n",
    "sdr = positive_std_dev / negative_std_dev # Your code here\n",
    "\n",
    "# Print the original array\n",
    "print(f\"Array:\\n{arr1}\")\n",
    "\n",
    "# Print the positive array\n",
    "print(f\"The positive array:\\n{positive_array}\")\n",
    "\n",
    "# Print the negative array\n",
    "print(f\"The negative array:\\n{negative_array}\")\n",
    "\n",
    "# Print the standard deviation ratio\n",
    "print(f\"Standard Deviation Ratio:\\n{sdr}\")\n"
   ]
  },
  {
   "cell_type": "markdown",
   "metadata": {},
   "source": [
    "### Task 3 - Identity Matrix (3 points)\n",
    "\n",
    "Create a 5x5 identity matrix where:\n",
    "\n",
    "- All diagonal elements are equal to 0.\n",
    "- The rest of the elements should be random integers between 0 and 50 (inclusive)."
   ]
  },
  {
   "cell_type": "code",
   "execution_count": 3,
   "metadata": {},
   "outputs": [
    {
     "name": "stdout",
     "output_type": "stream",
     "text": [
      "[[ 0. 32. 36. 10.  0.]\n",
      " [ 2.  0. 11. 28. 23.]\n",
      " [ 6. 23.  0. 24. 19.]\n",
      " [49. 23.  3.  0.  2.]\n",
      " [30. 26. 43. 30.  0.]]\n"
     ]
    }
   ],
   "source": [
    "import numpy as np\n",
    "\n",
    "# Create a 5x5 identity matrix\n",
    "identity_matrix = np.eye(5, 5) # Your code here\n",
    "\n",
    "# Generate random integers between 0 and 50 (inclusive)\n",
    "# we need 25 integers to fill a 5x5 matrix\n",
    "random_integers = np.random.randint(0, 51, 25) # Your code here\n",
    "# reshape the array to fit the matrix\n",
    "random_integers = random_integers.reshape(5, 5)\n",
    "\n",
    "# replace the diagonal elements with '0's\n",
    "identity_matrix[identity_matrix==1] = 0\n",
    "\n",
    "# Replace the non-diagonal elements with random integers\n",
    "identity_matrix[~np.eye(5, dtype=bool)] = random_integers[~np.eye(5, dtype=bool)]\n",
    "\n",
    "print(identity_matrix)\n"
   ]
  },
  {
   "cell_type": "markdown",
   "metadata": {},
   "source": [
    "### Task 4 - Calculate the Euclidean distance between two arrays (2 points)\n",
    "The Euclidean distance measures the straight-line distance between two points in space. In this task, you will calculate the Euclidean distance between two 1-dimensional arrays using the NumPy library.\n",
    "\n",
    "**Hint:** To calculate the Euclidean distance between the two arrays, we can use the np.linalg.norm() function. This function calculates the norm, which is a generalized form of the Euclidean distance, of the difference between the arrays:\n"
   ]
  },
  {
   "cell_type": "code",
   "execution_count": 5,
   "metadata": {},
   "outputs": [
    {
     "name": "stdout",
     "output_type": "stream",
     "text": [
      "Euclidean Distance: 5.196152422706632\n"
     ]
    }
   ],
   "source": [
    "import numpy as np\n",
    "\n",
    "# Create two 1-dimensional arrays\n",
    "arr1 = np.array([1, 2, 3])\n",
    "arr2 = np.array([4, 5, 6])\n",
    "\n",
    "# Calculate the difference between the two arrays\n",
    "difference = np. subtract(arr1, arr2) # Your code here\n",
    "\n",
    "# Calculate the Euclidean distance using the norm function from the linalg module\n",
    "distance = np.linalg.norm(difference) # Your code here\n",
    "\n",
    "# Print the calculated Euclidean distance\n",
    "print(\"Euclidean Distance:\", distance)"
   ]
  },
  {
   "cell_type": "markdown",
   "metadata": {},
   "source": [
    "### Task 5 - Find the Point of Exceeding a Cumulative Sum Threshold (4 points)\n",
    "\n",
    "Generate a random 1-dimensional array of size 100 with values ranging from 0 to 9. Calculate the cumulative sum of the array and find the index where the cumulative sum exceeds 100 for the first time, then print the index.\n",
    "Description:\n",
    "In this task, you will work with a randomly generated 1-dimensional array of numerical values. Your goal is to calculate the cumulative sum of the array, which represents the running total of the values. Then, you need to identify the position in the array where the cumulative sum exceeds a specific threshold."
   ]
  },
  {
   "cell_type": "code",
   "execution_count": 6,
   "metadata": {},
   "outputs": [
    {
     "name": "stdout",
     "output_type": "stream",
     "text": [
      "Index where cumulative sum exceeds 100 : 22\n"
     ]
    }
   ],
   "source": [
    "import numpy as np\n",
    "\n",
    "# Generate a random 1-dimensional array of size 100 with values ranging from 0 to 9\n",
    "arr = np.random.randint(0, 10, size=100)\n",
    "\n",
    "# Calculate the cumulative sum of the array\n",
    "cumulative_sum = np.cumsum(arr) # Your code here\n",
    "\n",
    "# Set the threshold value\n",
    "threshold = 100 # Your code here\n",
    "\n",
    "# Find the index where the cumulative sum first exceeds the threshold\n",
    "index = np.argmax(cumulative_sum > threshold) # Your code here\n",
    "\n",
    "# Print the index where the cumulative sum exceeds the threshold\n",
    "print(\"Index where cumulative sum exceeds\", threshold, \":\", index)\n"
   ]
  },
  {
   "cell_type": "markdown",
   "metadata": {},
   "source": [
    "### Task 6 - Performing Linear Algebra Operations (3 points)\n",
    "Description: In this task, you will work with a randomly generated 2-dimensional array and perform linear algebra operations using NumPy. You will calculate the determinant of the array, compute its inverse, and verify that the product of the array and its inverse yields the identity matrix. This task provides an opportunity to explore fundamental linear algebra concepts, such as determinants, matrix inverses, and the properties of the identity matrix, using NumPy.\n",
    "\n",
    "1. Create a 2-dimensional array with shape (2, 2) and fill it with random integers between 1 and 9.\n",
    "2. Calculate the determinant of the array.\n",
    "3. Compute the inverse of the array.\n",
    "4. Multiply the array by its inverse.\n",
    "5. Print the final array."
   ]
  },
  {
   "cell_type": "code",
   "execution_count": 7,
   "metadata": {},
   "outputs": [
    {
     "name": "stdout",
     "output_type": "stream",
     "text": [
      "Identity Matrix:\n",
      " [[1. 0.]\n",
      " [0. 1.]]\n"
     ]
    }
   ],
   "source": [
    "import numpy as np\n",
    "\n",
    "# Generate a random 2-dimensional array with shape (2, 2) and random integers between 1 and 9\n",
    "arr = np.random.randint(1, 10, (2, 2)) # Your code here\n",
    "\n",
    "# Calculate the determinant of the array\n",
    "determinant = np.linalg.det(arr) # Your code here\n",
    "\n",
    "# Compute the inverse of the array\n",
    "inverse = np.linalg.inv(arr) # Your code here\n",
    "\n",
    "# Multiply the array by its inverse to obtain the identity matrix\n",
    "identity = arr @ inverse # Your code here\n",
    "\n",
    "# Print the resulting identity matrix\n",
    "print(\"Identity Matrix:\\n\", identity)\n"
   ]
  },
  {
   "cell_type": "code",
   "execution_count": null,
   "metadata": {},
   "outputs": [],
   "source": []
  }
 ],
 "metadata": {
  "kernelspec": {
   "display_name": "Python 3 (ipykernel)",
   "language": "python",
   "name": "python3"
  },
  "language_info": {
   "codemirror_mode": {
    "name": "ipython",
    "version": 3
   },
   "file_extension": ".py",
   "mimetype": "text/x-python",
   "name": "python",
   "nbconvert_exporter": "python",
   "pygments_lexer": "ipython3",
   "version": "3.8.16"
  }
 },
 "nbformat": 4,
 "nbformat_minor": 4
}
