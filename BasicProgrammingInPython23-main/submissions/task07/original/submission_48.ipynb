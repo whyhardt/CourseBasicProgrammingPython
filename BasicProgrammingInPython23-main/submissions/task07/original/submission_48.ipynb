{
 "cells": [
  {
   "attachments": {},
   "cell_type": "markdown",
   "metadata": {},
   "source": [
    "# Coding Tasks - Week 7\n",
    "Welcome to the Python Programming Exercise Sheet!  \n",
    "In this exercise sheet, we will cover some of the fundamental concepts in Python programming.  \n",
    "Topics covered are: NumPy.\n",
    "\n",
    "___\n",
    "\n",
    "**DEADLINE**:  19th June until 12:15  \n",
    "**Your name here**: Justin Jupe  \n",
    "**Your university mail**: jjupe@uos.de\n",
    "\n",
    "___\n",
    "\n",
    "**Important information**:  \n",
    "In order to pass this sheet you need to achieve  /  points.  \n",
    "For the best possible grade you require  /  points, however, since some harder tasks may take a lot of time you don't have to pressure yourself.  \n",
    "If you complete any three tasks on a sheet you will definitely get a good grade for that sheet.  \n",
    "Hand in your sheet in studip in the respective folder until the deadline.  \n",
    "If you receive no email until a few days after submission you will have passed, the sample solution will also be uploaded around then.  \n",
    "If you receive an email you don't need to worry, you can fail one sheet and also your total points will also be taken into account for the final pass or fail.  "
   ]
  },
  {
   "attachments": {},
   "cell_type": "markdown",
   "metadata": {},
   "source": [
    "### Task 1 - Array Manipulation (4 points)\n",
    "\n",
    "Create a Python program that takes a 1D NumPy array of size 10 with random integer values between 1 and 100 (inclusive) and performs the following operations:\n",
    "\n",
    "- Create the 1D array with the specified size.\n",
    "- Reshape the array into a 2x5 matrix.\n",
    "- Transpose the matrix.\n",
    "- Finally, find the index of the maximum value in the array."
   ]
  },
  {
   "cell_type": "code",
   "execution_count": 3,
   "metadata": {},
   "outputs": [
    {
     "name": "stdout",
     "output_type": "stream",
     "text": [
      "The original array:\n",
      "[10 34 16 95 20 80  6 99 54 75]\n",
      "The reshaped array:\n",
      "[[10 34 16 95 20]\n",
      " [80  6 99 54 75]]\n",
      "The transposed array:\n",
      "[[10 80]\n",
      " [34  6]\n",
      " [16 99]\n",
      " [95 54]\n",
      " [20 75]]\n",
      "The index of the maximum value:\n",
      "5\n"
     ]
    }
   ],
   "source": [
    "import numpy as np\n",
    "\n",
    "# Create a 1D array of size 10 with random integer values between 1 and 100\n",
    "arr = np.random.randint(1, 101, 10)\n",
    "\n",
    "# Reshape the array into a 2x5 matrix\n",
    "arr_reshaped = arr.reshape((2,5))\n",
    "\n",
    "# Transpose the matrix\n",
    "arr_transposed = arr_reshaped.transpose()\n",
    "\n",
    "# Find the index of the maximum value in the array\n",
    "max_index = arr_transposed.argmax()\n",
    "\n",
    "# Print the original array\n",
    "print(f\"The original array:\\n{arr}\")\n",
    "\n",
    "# Print the reshaped array\n",
    "print(f\"The reshaped array:\\n{arr_reshaped}\")\n",
    "\n",
    "# Print the transposed array\n",
    "print(f\"The transposed array:\\n{arr_transposed}\")\n",
    "\n",
    "# Print the index of the maximum value\n",
    "print(f\"The index of the maximum value:\\n{max_index}\")\n"
   ]
  },
  {
   "attachments": {},
   "cell_type": "markdown",
   "metadata": {},
   "source": [
    "### Task 2 - Standart Deviation Ratio (SDR) (4 points)\n",
    "\n",
    "Implement a Python program that calculates the standard deviation ratio (SDR) of a given 1D NumPy array. SDR represents the ratio of the standard deviation of the positive elements to the standard deviation of the negative elements.\n",
    "\n",
    "- Create a 1D array of 100 random values.\n",
    "- Split the array into positive and negative elements.\n",
    "- Calculate the standard deviations of the positive and negative arrays.\n",
    "- Calculate the standard deviation ratio (SDR)."
   ]
  },
  {
   "cell_type": "code",
   "execution_count": 10,
   "metadata": {},
   "outputs": [
    {
     "name": "stdout",
     "output_type": "stream",
     "text": [
      "Array:\n",
      "[ 1.14610511  1.17817573 -0.11936268 -1.04077782  0.45582841  0.84969243\n",
      " -0.06914545 -0.87814516  2.08734853 -1.08518252  0.83589143 -2.1644891\n",
      "  1.15429953  1.0292343   1.09768657  0.80155418  0.20634718 -0.97381408\n",
      "  0.87776713  1.75166529  1.01274099  1.67178259  1.53006002 -0.16770654\n",
      " -0.06059336 -0.99834526  0.13958536 -1.64018682 -0.1974804   0.37197435\n",
      " -0.54494747 -0.36780298 -0.25767807 -1.06747576  1.38792872 -2.9088136\n",
      "  0.88482965 -0.07072362 -2.00813426  0.45743224  1.30338271  0.63950047\n",
      "  1.76381844  1.66420197 -0.06542773  0.45593231  0.25288585  0.57590162\n",
      " -1.60167425 -0.38198037 -0.80573228  0.72050392 -0.90508583  1.4677894\n",
      " -0.7648776   2.00275062 -0.20010725  0.02861267  0.75683105  1.34791769\n",
      "  0.70096285 -1.97014621 -0.36415769  0.1229657  -1.0140904   0.77666946\n",
      " -0.73887412 -0.70778704 -1.22714287  0.70725398 -0.45416371  1.74569875\n",
      "  0.40578809 -0.82825386 -1.81990965 -0.19007224 -0.47943162  2.23252634\n",
      "  0.38566126 -0.14807639 -0.47090944 -0.18157247  0.50173446  0.65173478\n",
      "  1.18136468  1.1057908   1.83445186 -0.42817747 -0.88868111  0.89205365\n",
      "  0.15249397  0.1744568   0.10565329  0.58738052  0.55811435  0.95727317\n",
      " -0.54283144  2.0191449   1.81211487 -0.55501409]\n",
      "The positive array:\n",
      "[1.14610511 1.17817573 0.45582841 0.84969243 2.08734853 0.83589143\n",
      " 1.15429953 1.0292343  1.09768657 0.80155418 0.20634718 0.87776713\n",
      " 1.75166529 1.01274099 1.67178259 1.53006002 0.13958536 0.37197435\n",
      " 1.38792872 0.88482965 0.45743224 1.30338271 0.63950047 1.76381844\n",
      " 1.66420197 0.45593231 0.25288585 0.57590162 0.72050392 1.4677894\n",
      " 2.00275062 0.02861267 0.75683105 1.34791769 0.70096285 0.1229657\n",
      " 0.77666946 0.70725398 1.74569875 0.40578809 2.23252634 0.38566126\n",
      " 0.50173446 0.65173478 1.18136468 1.1057908  1.83445186 0.89205365\n",
      " 0.15249397 0.1744568  0.10565329 0.58738052 0.55811435 0.95727317\n",
      " 2.0191449  1.81211487]\n",
      "The negative array:\n",
      "[-0.11936268 -1.04077782 -0.06914545 -0.87814516 -1.08518252 -2.1644891\n",
      " -0.97381408 -0.16770654 -0.06059336 -0.99834526 -1.64018682 -0.1974804\n",
      " -0.54494747 -0.36780298 -0.25767807 -1.06747576 -2.9088136  -0.07072362\n",
      " -2.00813426 -0.06542773 -1.60167425 -0.38198037 -0.80573228 -0.90508583\n",
      " -0.7648776  -0.20010725 -1.97014621 -0.36415769 -1.0140904  -0.73887412\n",
      " -0.70778704 -1.22714287 -0.45416371 -0.82825386 -1.81990965 -0.19007224\n",
      " -0.47943162 -0.14807639 -0.47090944 -0.18157247 -0.42817747 -0.88868111\n",
      " -0.54283144 -0.55501409]\n",
      "Standard Deviation Ratio:\n",
      "0.8981157878845586\n"
     ]
    }
   ],
   "source": [
    "import numpy as np\n",
    "\n",
    "# Create a 1D array of 100 random values\n",
    "arr1 = np.random.normal(size = 100)\n",
    "\n",
    "positive_array = arr1[arr1 >= 0]\n",
    "negative_array = arr1[arr1 < 0]\n",
    "\n",
    "# Calculate the standard deviations\n",
    "positive_std_dev = np.std(positive_array)\n",
    "negative_std_dev = np.std(negative_array)\n",
    "\n",
    "# Calculate the standard deviation ratio\n",
    "sdr = positive_std_dev/negative_std_dev\n",
    "\n",
    "# Print the original array\n",
    "print(f\"Array:\\n{arr1}\")\n",
    "\n",
    "# Print the positive array\n",
    "print(f\"The positive array:\\n{positive_array}\")\n",
    "\n",
    "# Print the negative array\n",
    "print(f\"The negative array:\\n{negative_array}\")\n",
    "\n",
    "# Print the standard deviation ratio\n",
    "print(f\"Standard Deviation Ratio:\\n{sdr}\")\n"
   ]
  },
  {
   "attachments": {},
   "cell_type": "markdown",
   "metadata": {},
   "source": [
    "### Task 3 - Identity Matrix (3 points)\n",
    "\n",
    "Create a 5x5 identity matrix where:\n",
    "\n",
    "- All diagonal elements are equal to 0.\n",
    "- The rest of the elements should be random integers between 0 and 50 (inclusive)."
   ]
  },
  {
   "cell_type": "code",
   "execution_count": 9,
   "metadata": {},
   "outputs": [
    {
     "name": "stdout",
     "output_type": "stream",
     "text": [
      "[[ 0.  6. 26.  4. 42.]\n",
      " [ 5.  0. 15. 20. 48.]\n",
      " [ 9.  0.  0. 21. 13.]\n",
      " [11. 33. 17.  0.  6.]\n",
      " [45. 11. 10. 27.  0.]]\n"
     ]
    }
   ],
   "source": [
    "import numpy as np\n",
    "\n",
    "# Create a 5x5 identity matrix\n",
    "\n",
    "# Didn't create an identity matrix but a 5x5 zeros array so that the main diagonal is directly 0\n",
    "identity_matrix = np.zeros((5, 5))\n",
    "\n",
    "# Generate random integers between 0 and 50 (inclusive)\n",
    "random_integers = np.random.randint(0, 51, 25).reshape((5,5))\n",
    "\n",
    "# Replace the non-diagonal elements with random integers\n",
    "identity_matrix[~np.eye(5, dtype=bool)] = random_integers[~np.eye(5, dtype=bool)]\n",
    "\n",
    "print(identity_matrix)\n"
   ]
  },
  {
   "attachments": {},
   "cell_type": "markdown",
   "metadata": {},
   "source": [
    "### Task 4 - Calculate the Euclidean distance between two arrays (2 points)\n",
    "The Euclidean distance measures the straight-line distance between two points in space. In this task, you will calculate the Euclidean distance between two 1-dimensional arrays using the NumPy library.\n",
    "\n",
    "**Hint:** To calculate the Euclidean distance between the two arrays, we can use the np.linalg.norm() function. This function calculates the norm, which is a generalized form of the Euclidean distance, of the difference between the arrays:\n"
   ]
  },
  {
   "cell_type": "code",
   "execution_count": 11,
   "metadata": {},
   "outputs": [
    {
     "name": "stdout",
     "output_type": "stream",
     "text": [
      "Euclidean Distance: 5.196152422706632\n"
     ]
    }
   ],
   "source": [
    "import numpy as np\n",
    "\n",
    "# Create two 1-dimensional arrays\n",
    "arr1 = np.array([1, 2, 3])\n",
    "arr2 = np.array([4, 5, 6])\n",
    "\n",
    "# Calculate the difference between the two arrays\n",
    "difference = arr1 - arr2\n",
    "\n",
    "# Calculate the Euclidean distance using the norm function from the linalg module\n",
    "distance = np.linalg.norm(difference)\n",
    "\n",
    "# Print the calculated Euclidean distance\n",
    "print(\"Euclidean Distance:\", distance)"
   ]
  },
  {
   "attachments": {},
   "cell_type": "markdown",
   "metadata": {},
   "source": [
    "### Task 5 - Find the Point of Exceeding a Cumulative Sum Threshold (4 points)\n",
    "\n",
    "Generate a random 1-dimensional array of size 100 with values ranging from 0 to 9. Calculate the cumulative sum of the array and find the index where the cumulative sum exceeds 100 for the first time, then print the index.\n",
    "Description:\n",
    "In this task, you will work with a randomly generated 1-dimensional array of numerical values. Your goal is to calculate the cumulative sum of the array, which represents the running total of the values. Then, you need to identify the position in the array where the cumulative sum exceeds a specific threshold."
   ]
  },
  {
   "cell_type": "code",
   "execution_count": null,
   "metadata": {},
   "outputs": [],
   "source": [
    "import numpy as np\n",
    "\n",
    "# Generate a random 1-dimensional array of size 100 with values ranging from 0 to 9\n",
    "arr = np.random.randint(0, 10, size=100)\n",
    "\n",
    "# Calculate the cumulative sum of the array\n",
    "cumulative_sum = # Your code here\n",
    "\n",
    "# Set the threshold value\n",
    "threshold = # Your code here\n",
    "\n",
    "# Find the index where the cumulative sum first exceeds the threshold\n",
    "index = # Your code here\n",
    "\n",
    "# Print the index where the cumulative sum exceeds the threshold\n",
    "print(\"Index where cumulative sum exceeds\", threshold, \":\", index)\n"
   ]
  },
  {
   "attachments": {},
   "cell_type": "markdown",
   "metadata": {},
   "source": [
    "### Task 6 - Performing Linear Algebra Operations (3 points)\n",
    "Description: In this task, you will work with a randomly generated 2-dimensional array and perform linear algebra operations using NumPy. You will calculate the determinant of the array, compute its inverse, and verify that the product of the array and its inverse yields the identity matrix. This task provides an opportunity to explore fundamental linear algebra concepts, such as determinants, matrix inverses, and the properties of the identity matrix, using NumPy.\n",
    "\n",
    "1. Create a 2-dimensional array with shape (2, 2) and fill it with random integers between 1 and 9.\n",
    "2. Calculate the determinant of the array.\n",
    "3. Compute the inverse of the array.\n",
    "4. Multiply the array by its inverse.\n",
    "5. Print the final array."
   ]
  },
  {
   "cell_type": "code",
   "execution_count": 35,
   "metadata": {},
   "outputs": [
    {
     "name": "stdout",
     "output_type": "stream",
     "text": [
      "Identity Matrix:\n",
      " [[ 1.00000000e+00  1.11022302e-16]\n",
      " [-2.77555756e-17  1.00000000e+00]]\n"
     ]
    }
   ],
   "source": [
    "import numpy as np\n",
    "\n",
    "# Generate a random 2-dimensional array with shape (2, 2) and random integers between 1 and 9\n",
    "arr = np.random.randint(1, 10, (2,2))\n",
    "\n",
    "# Calculate the determinant of the array\n",
    "determinant = np.linalg.det(arr)\n",
    "\n",
    "# Compute the inverse of the array\n",
    "inverse = np.linalg.inv(arr)\n",
    "\n",
    "# Multiply the array by its inverse to obtain the identity matrix\n",
    "identity = np.dot(arr, inverse)\n",
    "\n",
    "# Print the resulting identity matrix\n",
    "print(\"Identity Matrix:\\n\", identity)\n"
   ]
  }
 ],
 "metadata": {
  "kernelspec": {
   "display_name": "Python 3 (ipykernel)",
   "language": "python",
   "name": "python3"
  },
  "language_info": {
   "codemirror_mode": {
    "name": "ipython",
    "version": 3
   },
   "file_extension": ".py",
   "mimetype": "text/x-python",
   "name": "python",
   "nbconvert_exporter": "python",
   "pygments_lexer": "ipython3",
   "version": "3.8.8"
  }
 },
 "nbformat": 4,
 "nbformat_minor": 4
}
