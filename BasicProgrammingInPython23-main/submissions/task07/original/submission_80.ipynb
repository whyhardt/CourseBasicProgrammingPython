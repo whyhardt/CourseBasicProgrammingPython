{
 "cells": [
  {
   "cell_type": "markdown",
   "metadata": {},
   "source": [
    "# Coding Tasks - Week 7\n",
    "Welcome to the Python Programming Exercise Sheet!  \n",
    "In this exercise sheet, we will cover some of the fundamental concepts in Python programming.  \n",
    "Topics covered are: NumPy.\n",
    "\n",
    "___\n",
    "\n",
    "**DEADLINE**:  19th June until 12:15  \n",
    "**Your name here**: Sazykina Valeriia\n",
    "**Your university mail**: vsazykina@uni-osnabrueck.de\n",
    "___\n",
    "\n",
    "**Important information**:  \n",
    "In order to pass this sheet you need to achieve  /  points.  \n",
    "For the best possible grade you require  /  points, however, since some harder tasks may take a lot of time you don't have to pressure yourself.  \n",
    "If you complete any three tasks on a sheet you will definitely get a good grade for that sheet.  \n",
    "Hand in your sheet in studip in the respective folder until the deadline.  \n",
    "If you receive no email until a few days after submission you will have passed, the sample solution will also be uploaded around then.  \n",
    "If you receive an email you don't need to worry, you can fail one sheet and also your total points will also be taken into account for the final pass or fail.  "
   ]
  },
  {
   "cell_type": "markdown",
   "metadata": {},
   "source": [
    "### Task 1 - Array Manipulation (4 points)\n",
    "\n",
    "Create a Python program that takes a 1D NumPy array of size 10 with random integer values between 1 and 100 (inclusive) and performs the following operations:\n",
    "\n",
    "- Create the 1D array with the specified size.\n",
    "- Reshape the array into a 2x5 matrix.\n",
    "- Transpose the matrix.\n",
    "- Finally, find the index of the maximum value in the array."
   ]
  },
  {
   "cell_type": "code",
   "execution_count": 1,
   "metadata": {},
   "outputs": [
    {
     "name": "stdout",
     "output_type": "stream",
     "text": [
      "The original array:\n",
      "[63 22 36 90 86 48 31 71 30 46]\n",
      "The reshaped array:\n",
      "[[63 22 36 90 86]\n",
      " [48 31 71 30 46]]\n",
      "The transposed array:\n",
      "[[63 48]\n",
      " [22 31]\n",
      " [36 71]\n",
      " [90 30]\n",
      " [86 46]]\n",
      "The index of the maximum value:\n",
      "3\n"
     ]
    }
   ],
   "source": [
    "import numpy as np\n",
    "\n",
    "# Create a 1D array of size 10 with random integer values between 1 and 100\n",
    "arr = np.random.randint(1, 101, 10)\n",
    "\n",
    "# Reshape the array into a 2x5 matrix\n",
    "arr_reshaped = arr.reshape(2,5)\n",
    "\n",
    "# Transpose the matrix\n",
    "arr_transposed = arr_reshaped.T\n",
    "\n",
    "# Find the index of the maximum value in the array\n",
    "max_index = np.argmax(arr)\n",
    "\n",
    "# Print the original array\n",
    "print(f\"The original array:\\n{arr}\")\n",
    "\n",
    "# Print the reshaped array\n",
    "print(f\"The reshaped array:\\n{arr_reshaped}\")\n",
    "\n",
    "# Print the transposed array\n",
    "print(f\"The transposed array:\\n{arr_transposed}\")\n",
    "\n",
    "# Print the index of the maximum value\n",
    "print(f\"The index of the maximum value:\\n{max_index}\")\n"
   ]
  },
  {
   "cell_type": "markdown",
   "metadata": {},
   "source": [
    "### Task 2 - Standart Deviation Ratio (SDR) (4 points)\n",
    "\n",
    "Implement a Python program that calculates the standard deviation ratio (SDR) of a given 1D NumPy array. SDR represents the ratio of the standard deviation of the positive elements to the standard deviation of the negative elements.\n",
    "\n",
    "- Create a 1D array of 100 random values.\n",
    "- Split the array into positive and negative elements.\n",
    "- Calculate the standard deviations of the positive and negative arrays.\n",
    "- Calculate the standard deviation ratio (SDR)."
   ]
  },
  {
   "cell_type": "code",
   "execution_count": 4,
   "metadata": {},
   "outputs": [
    {
     "name": "stdout",
     "output_type": "stream",
     "text": [
      "Array:\n",
      "[-0.53611897 -0.83583976  1.04558287  1.99515638  0.29062916 -0.34871589\n",
      "  1.24569169  1.50842258  1.69093635 -0.92667197 -0.00387392  0.56661725\n",
      "  1.67310589  0.75856787  1.59276207 -0.74714386 -1.33262158 -2.26581298\n",
      "  1.03324103 -0.24677367 -1.67842312  2.23905382 -1.1651032  -1.17656291\n",
      " -0.3430721  -1.06089861  1.90439294  0.02966289  0.18283725  0.72392792\n",
      "  0.90851059 -1.08952489 -0.17182235 -0.60762279 -1.14768373 -0.19823471\n",
      "  0.59637014 -0.74752772 -0.49931387 -1.55370954  1.68548543  1.50599849\n",
      "  0.60121125  0.647824   -0.34863332  0.28950069 -1.18209238 -0.09967865\n",
      "  1.46344857  2.02160724  1.3161777   0.88632261 -0.68483293 -0.18188716\n",
      " -1.22596391  0.84659293  0.93011763  0.37536581 -0.42459598 -1.12434461\n",
      "  0.3206322   1.23595658 -0.33515415  2.04984331  0.01323652  0.73071655\n",
      " -1.54218255 -0.20396735 -2.19803535  0.19302744 -0.95171692 -1.29569321\n",
      "  1.12625645 -0.26889655 -0.5237158  -0.93949672 -0.0358762  -0.41852488\n",
      "  1.38838601  0.12280138 -0.28434519 -0.11457255 -0.10600395 -0.10637472\n",
      " -0.36091599 -0.53468583  1.47371145  1.15124994 -0.99488046  1.17198801\n",
      " -0.86172438  0.64492521 -1.68647216 -1.61451636  0.09580468 -0.84705735\n",
      "  1.08179393  0.90116914 -0.46066071  0.07309631]\n",
      "The positive array:\n",
      "[1.04558287 1.99515638 0.29062916 1.24569169 1.50842258 1.69093635\n",
      " 0.56661725 1.67310589 0.75856787 1.59276207 1.03324103 2.23905382\n",
      " 1.90439294 0.02966289 0.18283725 0.72392792 0.90851059 0.59637014\n",
      " 1.68548543 1.50599849 0.60121125 0.647824   0.28950069 1.46344857\n",
      " 2.02160724 1.3161777  0.88632261 0.84659293 0.93011763 0.37536581\n",
      " 0.3206322  1.23595658 2.04984331 0.01323652 0.73071655 0.19302744\n",
      " 1.12625645 1.38838601 0.12280138 1.47371145 1.15124994 1.17198801\n",
      " 0.64492521 0.09580468 1.08179393 0.90116914 0.07309631]\n",
      "The negative array:\n",
      "[-0.53611897 -0.83583976 -0.34871589 -0.92667197 -0.00387392 -0.74714386\n",
      " -1.33262158 -2.26581298 -0.24677367 -1.67842312 -1.1651032  -1.17656291\n",
      " -0.3430721  -1.06089861 -1.08952489 -0.17182235 -0.60762279 -1.14768373\n",
      " -0.19823471 -0.74752772 -0.49931387 -1.55370954 -0.34863332 -1.18209238\n",
      " -0.09967865 -0.68483293 -0.18188716 -1.22596391 -0.42459598 -1.12434461\n",
      " -0.33515415 -1.54218255 -0.20396735 -2.19803535 -0.95171692 -1.29569321\n",
      " -0.26889655 -0.5237158  -0.93949672 -0.0358762  -0.41852488 -0.28434519\n",
      " -0.11457255 -0.10600395 -0.10637472 -0.36091599 -0.53468583 -0.99488046\n",
      " -0.86172438 -1.68647216 -1.61451636 -0.84705735 -0.46066071]\n",
      "Standard Deviation Ratio:\n",
      "1.091531989277222\n"
     ]
    }
   ],
   "source": [
    "import numpy as np\n",
    "\n",
    "# Create a 1D array of 100 random values\n",
    "arr1 = np.random.randn(100)\n",
    "\n",
    "# Split the array into positive and negative elements\n",
    "positive_array = arr1[arr1 >0]\n",
    "negative_array = arr1[arr1 < 0]\n",
    "\n",
    "# Calculate the standard deviations\n",
    "positive_std_dev = np.std(positive_array)\n",
    "negative_std_dev = np.std(negative_array)\n",
    "\n",
    "# Calculate the standard deviation ratio\n",
    "sdr = positive_std_dev / negative_std_dev\n",
    "\n",
    "# Print the original array\n",
    "print(f\"Array:\\n{arr1}\")\n",
    "\n",
    "# Print the positive array\n",
    "print(f\"The positive array:\\n{positive_array}\")\n",
    "\n",
    "# Print the negative array\n",
    "print(f\"The negative array:\\n{negative_array}\")\n",
    "\n",
    "# Print the standard deviation ratio\n",
    "print(f\"Standard Deviation Ratio:\\n{sdr}\")\n"
   ]
  },
  {
   "cell_type": "markdown",
   "metadata": {},
   "source": [
    "### Task 3 - Identity Matrix (3 points)\n",
    "\n",
    "Create a 5x5 identity matrix where:\n",
    "\n",
    "- All diagonal elements are equal to 0.\n",
    "- The rest of the elements should be random integers between 0 and 50 (inclusive)."
   ]
  },
  {
   "cell_type": "code",
   "execution_count": 16,
   "metadata": {},
   "outputs": [
    {
     "name": "stdout",
     "output_type": "stream",
     "text": [
      "[[ 0. 50. 13. 49. 47.]\n",
      " [45.  0. 37. 13. 16.]\n",
      " [39.  6.  0. 25. 19.]\n",
      " [16. 17. 39.  0.  2.]\n",
      " [12. 24. 48. 23.  0.]]\n"
     ]
    }
   ],
   "source": [
    "import numpy as np\n",
    "\n",
    "# Create a 5x5 identity matrix\n",
    "identity_matrix =  np.zeros((5, 5))\n",
    "\n",
    "# Generate random integers between 0 and 50 (inclusive)\n",
    "random_integers = np.random.randint(0, 51, size=(5, 5))\n",
    "\n",
    "# Replace the non-diagonal elements with random integers\n",
    "identity_matrix[~np.eye(5, dtype=bool)] = random_integers[~np.eye(5, dtype=bool)]\n",
    "\n",
    "print(identity_matrix)\n"
   ]
  },
  {
   "cell_type": "markdown",
   "metadata": {},
   "source": [
    "### Task 4 - Calculate the Euclidean distance between two arrays (2 points)\n",
    "The Euclidean distance measures the straight-line distance between two points in space. In this task, you will calculate the Euclidean distance between two 1-dimensional arrays using the NumPy library.\n",
    "\n",
    "**Hint:** To calculate the Euclidean distance between the two arrays, we can use the np.linalg.norm() function. This function calculates the norm, which is a generalized form of the Euclidean distance, of the difference between the arrays:\n"
   ]
  },
  {
   "cell_type": "code",
   "execution_count": 24,
   "metadata": {},
   "outputs": [
    {
     "name": "stdout",
     "output_type": "stream",
     "text": [
      "[-3 -3 -3]\n",
      "Euclidean Distance: 5.196152422706632\n"
     ]
    }
   ],
   "source": [
    "import numpy as np\n",
    "\n",
    "# Create two 1-dimensional arrays\n",
    "arr1 = np.array([1, 2, 3])\n",
    "arr2 = np.array([4, 5, 6])\n",
    "\n",
    "# Calculate the difference between the two arrays\n",
    "difference = arr1 - arr2\n",
    "\n",
    "# Calculate the Euclidean distance using the norm function from the linalg module\n",
    "distance = np.linalg.norm(difference)\n",
    "\n",
    "print(difference)\n",
    "\n",
    "# Print the calculated Euclidean distance\n",
    "print(\"Euclidean Distance:\", distance)"
   ]
  },
  {
   "cell_type": "markdown",
   "metadata": {},
   "source": [
    "### Task 5 - Find the Point of Exceeding a Cumulative Sum Threshold (4 points)\n",
    "\n",
    "Generate a random 1-dimensional array of size 100 with values ranging from 0 to 9. Calculate the cumulative sum of the array and find the index where the cumulative sum exceeds 100 for the first time, then print the index.\n",
    "Description:\n",
    "In this task, you will work with a randomly generated 1-dimensional array of numerical values. Your goal is to calculate the cumulative sum of the array, which represents the running total of the values. Then, you need to identify the position in the array where the cumulative sum exceeds a specific threshold."
   ]
  },
  {
   "cell_type": "code",
   "execution_count": 31,
   "metadata": {},
   "outputs": [
    {
     "name": "stdout",
     "output_type": "stream",
     "text": [
      "[2 0 6 8 2 6 6 0 7 3 0 4 5 3 3 2 4 8 4 5 1 9 8 5 3 9 6 9 3 7 6 0 8 1 2 0 1\n",
      " 0 0 4 0 9 9 0 5 9 2 4 3 8 9 3 5 9 3 4 7 2 9 0 5 7 7 4 6 8 4 5 0 2 0 7 8 5\n",
      " 7 1 1 0 2 1 1 3 2 9 0 0 1 3 3 0 9 1 3 2 3 0 4 6 7 0]\n",
      "[  2   2   8  16  18  24  30  30  37  40  40  44  49  52  55  57  61  69\n",
      "  73  78  79  88  96 101 104 113 119 128 131 138 144 144 152 153 155 155\n",
      " 156 156 156 160 160 169 178 178 183 192 194 198 201 209 218 221 226 235\n",
      " 238 242 249 251 260 260 265 272 279 283 289 297 301 306 306 308 308 315\n",
      " 323 328 335 336 337 337 339 340 341 344 346 355 355 355 356 359 362 362\n",
      " 371 372 375 377 380 380 384 390 397 397]\n",
      "Index where cumulative sum exceeds 100 : 23\n"
     ]
    }
   ],
   "source": [
    "import numpy as np\n",
    "\n",
    "# Generate a random 1-dimensional array of size 100 with values ranging from 0 to 9\n",
    "arr = np.random.randint(0, 10, size=100)\n",
    "\n",
    "# Calculate the cumulative sum of the array\n",
    "cumulative_sum = np.cumsum(arr)\n",
    "\n",
    "# Set the threshold value\n",
    "threshold = 100\n",
    "\n",
    "# Find the index where the cumulative sum first exceeds the threshold\n",
    "index = np.argmax(cumulative_sum > threshold)\n",
    "\n",
    "# Print the index where the cumulative sum exceeds the threshold\n",
    "print(\"Index where cumulative sum exceeds\", threshold, \":\", index)\n"
   ]
  },
  {
   "cell_type": "markdown",
   "metadata": {},
   "source": [
    "### Task 6 - Performing Linear Algebra Operations (3 points)\n",
    "Description: In this task, you will work with a randomly generated 2-dimensional array and perform linear algebra operations using NumPy. You will calculate the determinant of the array, compute its inverse, and verify that the product of the array and its inverse yields the identity matrix. This task provides an opportunity to explore fundamental linear algebra concepts, such as determinants, matrix inverses, and the properties of the identity matrix, using NumPy.\n",
    "\n",
    "1. Create a 2-dimensional array with shape (2, 2) and fill it with random integers between 1 and 9.\n",
    "2. Calculate the determinant of the array.\n",
    "3. Compute the inverse of the array.\n",
    "4. Multiply the array by its inverse.\n",
    "5. Print the final array."
   ]
  },
  {
   "cell_type": "code",
   "execution_count": 53,
   "metadata": {},
   "outputs": [
    {
     "name": "stdout",
     "output_type": "stream",
     "text": [
      "[[9 4]\n",
      " [4 2]]\n",
      "Identity Matrix:\n",
      " [[1. 0.]\n",
      " [0. 1.]]\n"
     ]
    }
   ],
   "source": [
    "import numpy as np\n",
    "\n",
    "# Generate a random 2-dimensional array with shape (2, 2) and random integers between 1 and 9\n",
    "arr =  np.random.randint(1, 10, size=(2, 2))\n",
    "print(arr)\n",
    "# Calculate the determinant of the array\n",
    "determinant = np.linalg.det(arr)\n",
    "\n",
    "# Compute the inverse of the array\n",
    "inverse = np.linalg.inv(arr)\n",
    "\n",
    "# Multiply the array by its inverse to obtain the identity matrix\n",
    "identity = np.dot(arr, inverse)\n",
    "\n",
    "# Print the resulting identity matrix\n",
    "print(\"Identity Matrix:\\n\", identity)\n"
   ]
  },
  {
   "cell_type": "code",
   "execution_count": null,
   "metadata": {},
   "outputs": [],
   "source": []
  },
  {
   "cell_type": "code",
   "execution_count": null,
   "metadata": {},
   "outputs": [],
   "source": []
  }
 ],
 "metadata": {
  "kernelspec": {
   "display_name": "Python 3 (ipykernel)",
   "language": "python",
   "name": "python3"
  },
  "language_info": {
   "codemirror_mode": {
    "name": "ipython",
    "version": 3
   },
   "file_extension": ".py",
   "mimetype": "text/x-python",
   "name": "python",
   "nbconvert_exporter": "python",
   "pygments_lexer": "ipython3",
   "version": "3.10.9"
  }
 },
 "nbformat": 4,
 "nbformat_minor": 4
}
