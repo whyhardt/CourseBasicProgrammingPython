{
 "cells": [
  {
   "cell_type": "markdown",
   "metadata": {},
   "source": [
    "# Coding Tasks - Week 7\n",
    "Welcome to the Python Programming Exercise Sheet!  \n",
    "In this exercise sheet, we will cover some of the fundamental concepts in Python programming.  \n",
    "Topics covered are: NumPy.\n",
    "\n",
    "___\n",
    "\n",
    "**DEADLINE**:  19th June until 12:15  \n",
    "**Your name here**: Ada Charlotte De Jongh  \n",
    "**Your university mail**: adejongh@uni-osnabrueck.de\n",
    "\n",
    "___\n",
    "\n",
    "**Important information**:  \n",
    "In order to pass this sheet you need to achieve  /  points.  \n",
    "For the best possible grade you require  /  points, however, since some harder tasks may take a lot of time you don't have to pressure yourself.  \n",
    "If you complete any three tasks on a sheet you will definitely get a good grade for that sheet.  \n",
    "Hand in your sheet in studip in the respective folder until the deadline.  \n",
    "If you receive no email until a few days after submission you will have passed, the sample solution will also be uploaded around then.  \n",
    "If you receive an email you don't need to worry, you can fail one sheet and also your total points will also be taken into account for the final pass or fail.  "
   ]
  },
  {
   "cell_type": "markdown",
   "metadata": {},
   "source": [
    "### Task 1 - Array Manipulation (n points)\n",
    "\n",
    "Create a Python program that takes a 1D NumPy array of size 10 with random integer values between 1 and 100 (inclusive) and performs the following operations:\n",
    "\n",
    "- Create the 1D array with the specified size.\n",
    "- Reshape the array into a 2x5 matrix.\n",
    "- Transpose the matrix.\n",
    "- Finally, find the index of the maximum value in the array."
   ]
  },
  {
   "cell_type": "code",
   "execution_count": 2,
   "metadata": {},
   "outputs": [
    {
     "name": "stdout",
     "output_type": "stream",
     "text": [
      "The original array:\n",
      "[28 25 23 98 55 16 84 43 95 43]\n",
      "The reshaped array:\n",
      "[[28 25 23 98 55]\n",
      " [16 84 43 95 43]]\n",
      "The transposed array:\n",
      "[[28 16]\n",
      " [25 84]\n",
      " [23 43]\n",
      " [98 95]\n",
      " [55 43]]\n",
      "The index of the maximum value:\n",
      "6\n"
     ]
    }
   ],
   "source": [
    "import numpy as np\n",
    "\n",
    "# Create a 1D array of size 10 with random integer values between 1 and 100\n",
    "arr = np.random.randint(1, 101, 10)\n",
    "\n",
    "# Reshape the array into a 2x5 matrix\n",
    "arr_reshaped = arr.reshape((2,5))\n",
    "\n",
    "# Transpose the matrix\n",
    "arr_transposed = arr_reshaped.transpose()\n",
    "\n",
    "# Find the index of the maximum value in the array\n",
    "max_index = np.argmax(arr_transposed)\n",
    "\n",
    "# Print the original array\n",
    "print(f\"The original array:\\n{arr}\")\n",
    "\n",
    "# Print the reshaped array\n",
    "print(f\"The reshaped array:\\n{arr_reshaped}\")\n",
    "\n",
    "# Print the transposed array\n",
    "print(f\"The transposed array:\\n{arr_transposed}\")\n",
    "\n",
    "# Print the index of the maximum value\n",
    "print(f\"The index of the maximum value:\\n{max_index}\")\n"
   ]
  },
  {
   "cell_type": "markdown",
   "metadata": {},
   "source": [
    "### Task 2 - Standart Deviation Ratio (SDR) (n points)\n",
    "\n",
    "Implement a Python program that calculates the standard deviation ratio (SDR) of a given 1D NumPy array. SDR represents the ratio of the standard deviation of the positive elements to the standard deviation of the negative elements.\n",
    "\n",
    "- Create a 1D array of 100 random values.\n",
    "- Split the array into positive and negative elements.\n",
    "- Calculate the standard deviations of the positive and negative arrays.\n",
    "- Calculate the standard deviation ratio (SDR)."
   ]
  },
  {
   "cell_type": "code",
   "execution_count": 3,
   "metadata": {},
   "outputs": [
    {
     "name": "stdout",
     "output_type": "stream",
     "text": [
      "Array:\n",
      "[ 1.46067553  0.98804158  0.52196982  0.13604468  0.68185383  0.3499995\n",
      " -0.43436925 -0.59299577  1.91259812 -1.81870684 -1.3761454   0.16765231\n",
      "  0.70242767 -1.68457888 -0.54130708  2.04426102  0.29631061 -0.53630333\n",
      " -2.43528596 -1.47872204  0.82547893  1.0002763   0.28242609  0.37783711\n",
      "  1.97013165  0.19718955  0.15341621  0.61956268  0.3665359  -1.03602727\n",
      "  0.07029615 -1.74358708  0.76096352 -1.88362658  0.3291653   0.25927326\n",
      "  0.40527861 -1.48053076 -0.57560896  0.08900283  1.84443051  0.79004335\n",
      " -0.16867699 -0.22609601 -0.80023206 -0.6355585  -1.04960769  1.12891686\n",
      " -0.70469006  1.16395976 -0.51821798  2.67209198 -0.49253715  2.31742264\n",
      " -0.86858775  0.15161583 -1.76378051  1.11852378 -0.91935272 -0.93512818\n",
      "  1.37325532 -1.34010337  0.05113347 -0.3791543   0.38550464 -1.08175004\n",
      "  1.21156802  1.11710972 -0.55354371  1.18411489  1.89435907 -1.11398677\n",
      " -0.35277619 -0.4211471  -0.51349297 -0.05929288 -0.77713067 -1.22972735\n",
      " -0.43274597 -0.10795273  0.44638375 -1.1695645  -0.42255314  0.75272328\n",
      " -1.74587053  0.43651686  1.53100649  0.53030824  0.24210007 -0.12766834\n",
      "  0.48184673  0.22997454 -1.08138835  0.95212219  0.49577665  0.86771009\n",
      "  0.9899742  -0.35603437 -0.51311047  0.07353435]\n",
      "The positive array:\n",
      "[1.46067553 0.98804158 0.52196982 0.13604468 0.68185383 0.3499995\n",
      " 1.91259812 0.16765231 0.70242767 2.04426102 0.29631061 0.82547893\n",
      " 1.0002763  0.28242609 0.37783711 1.97013165 0.19718955 0.15341621\n",
      " 0.61956268 0.3665359  0.07029615 0.76096352 0.3291653  0.25927326\n",
      " 0.40527861 0.08900283 1.84443051 0.79004335 1.12891686 1.16395976\n",
      " 2.67209198 2.31742264 0.15161583 1.11852378 1.37325532 0.05113347\n",
      " 0.38550464 1.21156802 1.11710972 1.18411489 1.89435907 0.44638375\n",
      " 0.75272328 0.43651686 1.53100649 0.53030824 0.24210007 0.48184673\n",
      " 0.22997454 0.95212219 0.49577665 0.86771009 0.9899742  0.07353435]\n",
      "The negative array:\n",
      "[-0.43436925 -0.59299577 -1.81870684 -1.3761454  -1.68457888 -0.54130708\n",
      " -0.53630333 -2.43528596 -1.47872204 -1.03602727 -1.74358708 -1.88362658\n",
      " -1.48053076 -0.57560896 -0.16867699 -0.22609601 -0.80023206 -0.6355585\n",
      " -1.04960769 -0.70469006 -0.51821798 -0.49253715 -0.86858775 -1.76378051\n",
      " -0.91935272 -0.93512818 -1.34010337 -0.3791543  -1.08175004 -0.55354371\n",
      " -1.11398677 -0.35277619 -0.4211471  -0.51349297 -0.05929288 -0.77713067\n",
      " -1.22972735 -0.43274597 -0.10795273 -1.1695645  -0.42255314 -1.74587053\n",
      " -0.12766834 -1.08138835 -0.35603437 -0.51311047]\n",
      "Standard Deviation Ratio:\n",
      "1.1379864848337775\n"
     ]
    }
   ],
   "source": [
    "import numpy as np\n",
    "\n",
    "# Create a 1D array of 100 random values\n",
    "arr1 = np.random.randn(100)\n",
    "\n",
    "# Split the array into positive and negative elements\n",
    "positive_array = arr1[arr1 >= 0]\n",
    "negative_array = arr1[arr1 < 0]\n",
    "\n",
    "# Calculate the standard deviations\n",
    "positive_std_dev = np.std(positive_array)\n",
    "negative_std_dev = np.std(negative_array)\n",
    "\n",
    "# Calculate the standard deviation ratio\n",
    "sdr = positive_std_dev / negative_std_dev\n",
    "\n",
    "# Print the original array\n",
    "print(f\"Array:\\n{arr1}\")\n",
    "\n",
    "# Print the positive array\n",
    "print(f\"The positive array:\\n{positive_array}\")\n",
    "\n",
    "# Print the negative array\n",
    "print(f\"The negative array:\\n{negative_array}\")\n",
    "\n",
    "# Print the standard deviation ratio\n",
    "print(f\"Standard Deviation Ratio:\\n{sdr}\")\n"
   ]
  },
  {
   "cell_type": "markdown",
   "metadata": {},
   "source": [
    "### Task 3 - Identity Matrix (n points)\n",
    "\n",
    "Create a 5x5 identity matrix where:\n",
    "\n",
    "- All diagonal elements are equal to 0.\n",
    "- The rest of the elements should be random integers between 0 and 50 (inclusive)."
   ]
  },
  {
   "cell_type": "code",
   "execution_count": 4,
   "metadata": {},
   "outputs": [
    {
     "name": "stdout",
     "output_type": "stream",
     "text": [
      "[[ 0. 15.  1.  3. 29.]\n",
      " [40.  0. 32. 23. 41.]\n",
      " [16. 28.  0. 36. 23.]\n",
      " [ 6. 49. 37.  0. 25.]\n",
      " [32. 48. 18. 45.  0.]]\n"
     ]
    }
   ],
   "source": [
    "import numpy as np\n",
    "\n",
    "# Create a 3x3 identity matrix\n",
    "identity_matrix = np.zeros((5,5))\n",
    "\n",
    "# Generate random integers between 0 and 50 (inclusive)\n",
    "random_integers = np.random.randint(1, 51, (5,5))\n",
    "\n",
    "# Replace the non-diagonal elements with random integers\n",
    "identity_matrix[~np.eye(5, dtype=bool)] = random_integers[~np.eye(5, dtype=bool)]\n",
    "\n",
    "print(identity_matrix)\n"
   ]
  },
  {
   "cell_type": "markdown",
   "metadata": {},
   "source": [
    "### Task 4 - Calculate the Euclidean distance between two arrays (n points)\n",
    "The Euclidean distance measures the straight-line distance between two points in space. In this task, you will calculate the Euclidean distance between two 1-dimensional arrays using the NumPy library.\n",
    "\n",
    "**Hint:** To calculate the Euclidean distance between the two arrays, we can use the np.linalg.norm() function. This function calculates the norm, which is a generalized form of the Euclidean distance, of the difference between the arrays:\n"
   ]
  },
  {
   "cell_type": "code",
   "execution_count": 5,
   "metadata": {},
   "outputs": [
    {
     "name": "stdout",
     "output_type": "stream",
     "text": [
      "Euclidean Distance: 5.196152422706632\n"
     ]
    }
   ],
   "source": [
    "import numpy as np\n",
    "\n",
    "# Create two 1-dimensional arrays\n",
    "arr1 = np.array([1, 2, 3])\n",
    "arr2 = np.array([4, 5, 6])\n",
    "\n",
    "# Calculate the difference between the two arrays\n",
    "difference = arr1 - arr2\n",
    "\n",
    "# Calculate the Euclidean distance using the norm function from the linalg module\n",
    "distance = np.linalg.norm(difference)\n",
    "\n",
    "# Print the calculated Euclidean distance\n",
    "print(\"Euclidean Distance:\", distance)"
   ]
  },
  {
   "cell_type": "markdown",
   "metadata": {},
   "source": [
    "### Task 5 - Find the Point of Exceeding a Cumulative Sum Threshold (n points)\n",
    "\n",
    "Generate a random 1-dimensional array of size 100 with values ranging from 0 to 9. Calculate the cumulative sum of the array and find the index where the cumulative sum exceeds 100 for the first time, then print the index.\n",
    "Description:\n",
    "In this task, you will work with a randomly generated 1-dimensional array of numerical values. Your goal is to calculate the cumulative sum of the array, which represents the running total of the values. Then, you need to identify the position in the array where the cumulative sum exceeds a specific threshold."
   ]
  },
  {
   "cell_type": "code",
   "execution_count": 6,
   "metadata": {},
   "outputs": [
    {
     "name": "stdout",
     "output_type": "stream",
     "text": [
      "[4 4 8 8 4 5 5 4 9 0 0 4 8 7 2 9 1 0 2 3 9 9 9 9 6 6 6 2 9 7 0 8 5 4 1 3 5\n",
      " 8 7 2 2 6 9 4 0 6 9 7 7 8 9 4 6 9 3 5 1 1 9 9 4 1 3 2 6 7 4 1 8 3 7 1 5 9\n",
      " 9 4 7 3 4 9 1 7 9 9 2 1 9 7 4 4 4 1 1 4 5 2 6 3 4 1]\n",
      "[  4   8  16  24  28  33  38  42  51  51  51  55  63  70  72  81  82  82\n",
      "  84  87  96 105 114 123 129 135 141 143 152 159 159 167 172 176 177 180\n",
      " 185 193 200 202 204 210 219 223 223 229 238 245 252 260 269 273 279 288\n",
      " 291 296 297 298 307 316 320 321 324 326 332 339 343 344 352 355 362 363\n",
      " 368 377 386 390 397 400 404 413 414 421 430 439 441 442 451 458 462 466\n",
      " 470 471 472 476 481 483 489 492 496 497]\n",
      "Index where cumulative sum exceeds 100 : 21\n"
     ]
    }
   ],
   "source": [
    "import numpy as np\n",
    "\n",
    "# Generate a random 1-dimensional array of size 100 with values ranging from 0 to 9\n",
    "arr = np.random.randint(0, 10, size=100)\n",
    "\n",
    "# Calculate the cumulative sum of the array\n",
    "cumulative_sum = np.cumsum(arr)\n",
    "\n",
    "# Set the threshold value\n",
    "threshold = 100\n",
    "\n",
    "# Find the index where the cumulative sum first exceeds the threshold\n",
    "index = np.where(cumulative_sum>= threshold)[0][0]\n",
    "\n",
    "# Print the index where the cumulative sum exceeds the threshold\n",
    "print(arr)\n",
    "print(cumulative_sum)\n",
    "print(\"Index where cumulative sum exceeds\", threshold, \":\", index)\n"
   ]
  },
  {
   "cell_type": "markdown",
   "metadata": {},
   "source": [
    "### Task 6 - Performing Linear Algebra Operations (n points)\n",
    "Description: In this task, you will work with a randomly generated 2-dimensional array and perform linear algebra operations using NumPy. You will calculate the determinant of the array, compute its inverse, and verify that the product of the array and its inverse yields the identity matrix. This task provides an opportunity to explore fundamental linear algebra concepts, such as determinants, matrix inverses, and the properties of the identity matrix, using NumPy.\n",
    "\n",
    "1. Create a 2-dimensional array with shape (2, 2) and fill it with random integers between 1 and 9.\n",
    "2. Calculate the determinant of the array.\n",
    "3. Compute the inverse of the array.\n",
    "4. Multiply the array by its inverse.\n",
    "5. Print the final array."
   ]
  },
  {
   "cell_type": "code",
   "execution_count": 8,
   "metadata": {},
   "outputs": [
    {
     "name": "stdout",
     "output_type": "stream",
     "text": [
      "Identity Matrix:\n",
      " [[1. 0.]\n",
      " [0. 1.]]\n"
     ]
    }
   ],
   "source": [
    "import numpy as np\n",
    "\n",
    "# Generate a random 2-dimensional array with shape (2, 2) and random integers between 1 and 9\n",
    "arr = np.random.randint(1, 10, (2,2))\n",
    "# i took  the 9 to be inclusive, but I was not sure as it was not specified. if the 9 is meant to be exclusive, the 10 has to be changed to a 9\n",
    "\n",
    "# Calculate the determinant of the array\n",
    "determinant = np.linalg.det(arr)\n",
    "\n",
    "# Compute the inverse of the array\n",
    "inverse = np.linalg.inv(arr)\n",
    "\n",
    "# Multiply the array by its inverse to obtain the identity matrix\n",
    "identity = np.dot(arr, inverse)\n",
    "\n",
    "# Print the resulting identity matrix\n",
    "print(\"Identity Matrix:\\n\", identity)\n"
   ]
  },
  {
   "cell_type": "code",
   "execution_count": null,
   "metadata": {},
   "outputs": [],
   "source": []
  }
 ],
 "metadata": {
  "kernelspec": {
   "display_name": "Python 3 (ipykernel)",
   "language": "python",
   "name": "python3"
  },
  "language_info": {
   "codemirror_mode": {
    "name": "ipython",
    "version": 3
   },
   "file_extension": ".py",
   "mimetype": "text/x-python",
   "name": "python",
   "nbconvert_exporter": "python",
   "pygments_lexer": "ipython3",
   "version": "3.11.3"
  }
 },
 "nbformat": 4,
 "nbformat_minor": 4
}
