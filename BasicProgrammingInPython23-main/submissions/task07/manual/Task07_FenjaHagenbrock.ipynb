{
 "cells": [
  {
   "cell_type": "markdown",
   "metadata": {},
   "source": [
    "# Coding Tasks - Week 7\n",
    "Welcome to the Python Programming Exercise Sheet!  \n",
    "In this exercise sheet, we will cover some of the fundamental concepts in Python programming.  \n",
    "Topics covered are: NumPy.\n",
    "\n",
    "___\n",
    "\n",
    "**DEADLINE**:  19th June until 12:15  \n",
    "**Your name here**: Fenja Hagenbrock  \n",
    "**Your university mail**: fehagenbrock@uos.de\n",
    "\n",
    "___ "
   ]
  },
  {
   "cell_type": "markdown",
   "metadata": {},
   "source": [
    "### Task 1 - Array Manipulation (4 points)\n",
    "\n",
    "Create a Python program that takes a 1D NumPy array of size 10 with random integer values between 1 and 100 (inclusive) and performs the following operations:\n",
    "\n",
    "- Create the 1D array with the specified size.\n",
    "- Reshape the array into a 2x5 matrix.\n",
    "- Transpose the matrix.\n",
    "- Finally, find the index of the maximum value in the array."
   ]
  },
  {
   "cell_type": "code",
   "execution_count": 1,
   "metadata": {},
   "outputs": [
    {
     "name": "stdout",
     "output_type": "stream",
     "text": [
      "The original array:\n",
      "[16 63 63 76 48 83  4 82 79 77]\n",
      "The reshaped array:\n",
      "[[16 63 63 76 48]\n",
      " [83  4 82 79 77]]\n",
      "The transposed array:\n",
      "[[16 83]\n",
      " [63  4]\n",
      " [63 82]\n",
      " [76 79]\n",
      " [48 77]]\n",
      "The index of the maximum value:\n",
      "1\n"
     ]
    }
   ],
   "source": [
    "import numpy as np\n",
    "\n",
    "# Create a 1D array of size 10 with random integer values between 1 and 100\n",
    "arr = np.random.randint(1, 101, 10)\n",
    "\n",
    "# Reshape the array into a 2x5 matrix\n",
    "arr_reshaped = arr.reshape(2, 5)\n",
    "\n",
    "# Transpose the matrix\n",
    "arr_transposed = arr_reshaped.transpose()\n",
    "\n",
    "# Find the index of the maximum value in the array\n",
    "max_index = np.array(arr_transposed).argmax()\n",
    "\n",
    "# Print the original array\n",
    "print(f\"The original array:\\n{arr}\")\n",
    "\n",
    "# Print the reshaped array\n",
    "print(f\"The reshaped array:\\n{arr_reshaped}\")\n",
    "\n",
    "# Print the transposed array\n",
    "print(f\"The transposed array:\\n{arr_transposed}\")\n",
    "\n",
    "# Print the index of the maximum value\n",
    "print(f\"The index of the maximum value:\\n{max_index}\")"
   ]
  },
  {
   "cell_type": "markdown",
   "metadata": {},
   "source": [
    "### Task 2 - Standart Deviation Ratio (SDR) (4 points)\n",
    "\n",
    "Implement a Python program that calculates the standard deviation ratio (SDR) of a given 1D NumPy array. SDR represents the ratio of the standard deviation of the positive elements to the standard deviation of the negative elements.\n",
    "\n",
    "- Create a 1D array of 100 random values.\n",
    "- Split the array into positive and negative elements.\n",
    "- Calculate the standard deviations of the positive and negative arrays.\n",
    "- Calculate the standard deviation ratio (SDR)."
   ]
  },
  {
   "cell_type": "code",
   "execution_count": 2,
   "metadata": {},
   "outputs": [
    {
     "name": "stdout",
     "output_type": "stream",
     "text": [
      "Array:\n",
      "[0.87763564 0.93569348 0.89658671 0.21227882 0.49859078 0.07337446\n",
      " 0.50389898 0.83267981 0.94136343 0.85647719 0.79712887 0.5082869\n",
      " 0.71313883 0.82483062 0.21867948 0.12372221 0.13798424 0.77416392\n",
      " 0.38998968 0.30211507 0.81725892 0.53681592 0.60124758 0.96741129\n",
      " 0.35981705 0.06789446 0.29621803 0.73844861 0.73572037 0.1816675\n",
      " 0.22969596 0.18510443 0.39957093 0.4009409  0.34623628 0.82952677\n",
      " 0.67188913 0.2365319  0.32017831 0.08216449 0.78866786 0.46276549\n",
      " 0.10283653 0.31242044 0.26413271 0.18884828 0.95666602 0.95157354\n",
      " 0.4311005  0.68445061 0.17402703 0.08467473 0.4982743  0.64364697\n",
      " 0.15998875 0.0167221  0.00715694 0.82812926 0.50178248 0.55746558\n",
      " 0.37972098 0.94235948 0.49081537 0.85086701 0.8152032  0.52611974\n",
      " 0.02894272 0.98897248 0.71042642 0.45529442 0.95212084 0.15271601\n",
      " 0.56883905 0.72060271 0.88631179 0.9894182  0.50361566 0.5386424\n",
      " 0.30268286 0.00769566 0.26607853 0.53504427 0.70778964 0.24600719\n",
      " 0.19492719 0.82026904 0.15487109 0.74053315 0.43677649 0.32029649\n",
      " 0.73791935 0.79355442 0.89817253 0.30731767 0.37005256 0.44905\n",
      " 0.24896761 0.5659125  0.61531199 0.18010228]\n",
      "The positive array:\n",
      "[0.87763564 0.93569348 0.89658671 0.21227882 0.49859078 0.07337446\n",
      " 0.50389898 0.83267981 0.94136343 0.85647719 0.79712887 0.5082869\n",
      " 0.71313883 0.82483062 0.21867948 0.12372221 0.13798424 0.77416392\n",
      " 0.38998968 0.30211507 0.81725892 0.53681592 0.60124758 0.96741129\n",
      " 0.35981705 0.06789446 0.29621803 0.73844861 0.73572037 0.1816675\n",
      " 0.22969596 0.18510443 0.39957093 0.4009409  0.34623628 0.82952677\n",
      " 0.67188913 0.2365319  0.32017831 0.08216449 0.78866786 0.46276549\n",
      " 0.10283653 0.31242044 0.26413271 0.18884828 0.95666602 0.95157354\n",
      " 0.4311005  0.68445061 0.17402703 0.08467473 0.4982743  0.64364697\n",
      " 0.15998875 0.0167221  0.00715694 0.82812926 0.50178248 0.55746558\n",
      " 0.37972098 0.94235948 0.49081537 0.85086701 0.8152032  0.52611974\n",
      " 0.02894272 0.98897248 0.71042642 0.45529442 0.95212084 0.15271601\n",
      " 0.56883905 0.72060271 0.88631179 0.9894182  0.50361566 0.5386424\n",
      " 0.30268286 0.00769566 0.26607853 0.53504427 0.70778964 0.24600719\n",
      " 0.19492719 0.82026904 0.15487109 0.74053315 0.43677649 0.32029649\n",
      " 0.73791935 0.79355442 0.89817253 0.30731767 0.37005256 0.44905\n",
      " 0.24896761 0.5659125  0.61531199 0.18010228]\n",
      "The negative array:\n",
      "[-0.87763564 -0.93569348 -0.89658671 -0.21227882 -0.49859078 -0.07337446\n",
      " -0.50389898 -0.83267981 -0.94136343 -0.85647719 -0.79712887 -0.5082869\n",
      " -0.71313883 -0.82483062 -0.21867948 -0.12372221 -0.13798424 -0.77416392\n",
      " -0.38998968 -0.30211507 -0.81725892 -0.53681592 -0.60124758 -0.96741129\n",
      " -0.35981705 -0.06789446 -0.29621803 -0.73844861 -0.73572037 -0.1816675\n",
      " -0.22969596 -0.18510443 -0.39957093 -0.4009409  -0.34623628 -0.82952677\n",
      " -0.67188913 -0.2365319  -0.32017831 -0.08216449 -0.78866786 -0.46276549\n",
      " -0.10283653 -0.31242044 -0.26413271 -0.18884828 -0.95666602 -0.95157354\n",
      " -0.4311005  -0.68445061 -0.17402703 -0.08467473 -0.4982743  -0.64364697\n",
      " -0.15998875 -0.0167221  -0.00715694 -0.82812926 -0.50178248 -0.55746558\n",
      " -0.37972098 -0.94235948 -0.49081537 -0.85086701 -0.8152032  -0.52611974\n",
      " -0.02894272 -0.98897248 -0.71042642 -0.45529442 -0.95212084 -0.15271601\n",
      " -0.56883905 -0.72060271 -0.88631179 -0.9894182  -0.50361566 -0.5386424\n",
      " -0.30268286 -0.00769566 -0.26607853 -0.53504427 -0.70778964 -0.24600719\n",
      " -0.19492719 -0.82026904 -0.15487109 -0.74053315 -0.43677649 -0.32029649\n",
      " -0.73791935 -0.79355442 -0.89817253 -0.30731767 -0.37005256 -0.44905\n",
      " -0.24896761 -0.5659125  -0.61531199 -0.18010228]\n",
      "Standard Deviation Ratio:\n",
      "1.0\n"
     ]
    }
   ],
   "source": [
    "import numpy as np\n",
    "\n",
    "# Create a 1D array of 100 random values\n",
    "arr1 = np.random.rand(100)\n",
    "\n",
    "# Split the array into positive and negative elements\n",
    "positive_array = np.positive(arr1)\n",
    "negative_array = np.negative(arr1)\n",
    "\n",
    "# Calculate the standard deviations\n",
    "positive_std_dev = np.std(positive_array)\n",
    "negative_std_dev = np.std(negative_array)\n",
    "\n",
    "# Calculate the standard deviation ratio\n",
    "sdr = positive_std_dev / negative_std_dev \n",
    "\n",
    "# Print the original array\n",
    "print(f\"Array:\\n{arr1}\")\n",
    "\n",
    "# Print the positive array\n",
    "print(f\"The positive array:\\n{positive_array}\")\n",
    "\n",
    "# Print the negative array\n",
    "print(f\"The negative array:\\n{negative_array}\")\n",
    "\n",
    "# Print the standard deviation ratio\n",
    "print(f\"Standard Deviation Ratio:\\n{sdr}\")\n"
   ]
  },
  {
   "cell_type": "markdown",
   "metadata": {},
   "source": [
    "### Task 3 - Identity Matrix (3 points)\n",
    "\n",
    "Create a 5x5 identity matrix where:\n",
    "\n",
    "- All diagonal elements are equal to 0.\n",
    "- The rest of the elements should be random integers between 0 and 50 (inclusive)."
   ]
  },
  {
   "cell_type": "code",
   "execution_count": 4,
   "metadata": {},
   "outputs": [
    {
     "name": "stdout",
     "output_type": "stream",
     "text": [
      "[[ 0. 28. 13.  8. 12.]\n",
      " [ 7.  0. 47. 23. 26.]\n",
      " [30. 27.  0. 17. 41.]\n",
      " [10. 31. 33.  0.  0.]\n",
      " [18.  8. 36. 28.  0.]]\n"
     ]
    }
   ],
   "source": [
    "import numpy as np\n",
    "\n",
    "# Create a 3x3 identity matrix\n",
    "identity_matrix = np.identity(5)\n",
    "\n",
    "# Generate random integers between 0 and 50 (inclusive)\n",
    "random_integers = np.random.randint(low=0, high=51, size=(5, 5))\n",
    "\n",
    "# Replace the non-diagonal elements with random integers\n",
    "identity_matrix[~np.eye(5, dtype=bool)] = random_integers[~np.eye(5, dtype=bool)]\n",
    "\n",
    "np.fill_diagonal(identity_matrix, 0) #unsure whether that was asked for\n",
    "    \n",
    "print(identity_matrix)"
   ]
  },
  {
   "cell_type": "markdown",
   "metadata": {},
   "source": [
    "### Task 4 - Calculate the Euclidean distance between two arrays (2 points)\n",
    "The Euclidean distance measures the straight-line distance between two points in space. In this task, you will calculate the Euclidean distance between two 1-dimensional arrays using the NumPy library.\n",
    "\n",
    "**Hint:** To calculate the Euclidean distance between the two arrays, we can use the np.linalg.norm() function. This function calculates the norm, which is a generalized form of the Euclidean distance, of the difference between the arrays:\n"
   ]
  },
  {
   "cell_type": "code",
   "execution_count": 5,
   "metadata": {},
   "outputs": [
    {
     "name": "stdout",
     "output_type": "stream",
     "text": [
      "Euclidean Distance: 5.196152422706632\n"
     ]
    }
   ],
   "source": [
    "import numpy as np\n",
    "\n",
    "# Create two 1-dimensional arrays\n",
    "arr1 = np.array([1, 2, 3])\n",
    "arr2 = np.array([4, 5, 6])\n",
    "\n",
    "# Calculate the difference between the two arrays\n",
    "difference = arr1 - arr2\n",
    "\n",
    "# Calculate the Euclidean distance using the norm function from the linalg module\n",
    "distance = np.linalg.norm(difference)\n",
    "\n",
    "# Print the calculated Euclidean distance\n",
    "print(\"Euclidean Distance:\", distance)"
   ]
  },
  {
   "cell_type": "markdown",
   "metadata": {},
   "source": [
    "### Task 5 - Find the Point of Exceeding a Cumulative Sum Threshold (4 points)\n",
    "\n",
    "Generate a random 1-dimensional array of size 100 with values ranging from 0 to 9. Calculate the cumulative sum of the array and find the index where the cumulative sum exceeds 100 for the first time, then print the index.\n",
    "Description:\n",
    "In this task, you will work with a randomly generated 1-dimensional array of numerical values. Your goal is to calculate the cumulative sum of the array, which represents the running total of the values. Then, you need to identify the position in the array where the cumulative sum exceeds a specific threshold."
   ]
  },
  {
   "cell_type": "code",
   "execution_count": 6,
   "metadata": {},
   "outputs": [
    {
     "name": "stdout",
     "output_type": "stream",
     "text": [
      "Index where cumulative sum exceeds 100 : 21\n"
     ]
    }
   ],
   "source": [
    "import numpy as np\n",
    "\n",
    "# Generate a random 1-dimensional array of size 100 with values ranging from 0 to 9\n",
    "arr = np.random.randint(0, 10, size=100)\n",
    "\n",
    "# Calculate the cumulative sum of the array\n",
    "cumulative_sum = np.cumsum(arr)\n",
    "\n",
    "# Set the threshold value\n",
    "threshold = 100\n",
    "\n",
    "# Find the index where the cumulative sum first exceeds the threshold\n",
    "index = cumulative_sum.searchsorted(threshold)\n",
    "\n",
    "# Print the index where the cumulative sum exceeds the threshold\n",
    "print(\"Index where cumulative sum exceeds\", threshold, \":\", index)"
   ]
  },
  {
   "cell_type": "markdown",
   "metadata": {},
   "source": [
    "### Task 6 - Performing Linear Algebra Operations (3 points)\n",
    "Description: In this task, you will work with a randomly generated 2-dimensional array and perform linear algebra operations using NumPy. You will calculate the determinant of the array, compute its inverse, and verify that the product of the array and its inverse yields the identity matrix. This task provides an opportunity to explore fundamental linear algebra concepts, such as determinants, matrix inverses, and the properties of the identity matrix, using NumPy.\n",
    "\n",
    "1. Create a 2-dimensional array with shape (2, 2) and fill it with random integers between 1 and 9.\n",
    "2. Calculate the determinant of the array.\n",
    "3. Compute the inverse of the array.\n",
    "4. Multiply the array by its inverse.\n",
    "5. Print the final array."
   ]
  },
  {
   "cell_type": "code",
   "execution_count": 7,
   "metadata": {},
   "outputs": [
    {
     "name": "stdout",
     "output_type": "stream",
     "text": [
      "Identity Matrix:\n",
      " [[28 15]\n",
      " [15 28]]\n"
     ]
    }
   ],
   "source": [
    "import numpy as np\n",
    "\n",
    "# Generate a random 2-dimensional array with shape (2, 2) and random integers between 1 and 9\n",
    "arr = np.random.randint(low=1, high=10, size=(2, 2))\n",
    "\n",
    "# Calculate the determinant of the array\n",
    "determinant = np.linalg.det(arr)\n",
    "\n",
    "# Compute the inverse of the array\n",
    "inverse = np.flip(arr)\n",
    "\n",
    "# Multiply the array by its inverse to obtain the identity matrix\n",
    "identity = arr * inverse\n",
    "\n",
    "# Print the resulting identity matrix\n",
    "print(\"Identity Matrix:\\n\", identity)\n"
   ]
  },
  {
   "cell_type": "code",
   "execution_count": null,
   "metadata": {},
   "outputs": [],
   "source": []
  }
 ],
 "metadata": {
  "kernelspec": {
   "display_name": "Python 3 (ipykernel)",
   "language": "python",
   "name": "python3"
  },
  "language_info": {
   "codemirror_mode": {
    "name": "ipython",
    "version": 3
   },
   "file_extension": ".py",
   "mimetype": "text/x-python",
   "name": "python",
   "nbconvert_exporter": "python",
   "pygments_lexer": "ipython3",
   "version": "3.10.6"
  }
 },
 "nbformat": 4,
 "nbformat_minor": 4
}
