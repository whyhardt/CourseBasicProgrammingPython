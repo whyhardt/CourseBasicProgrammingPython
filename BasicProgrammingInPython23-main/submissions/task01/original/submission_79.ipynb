{
 "cells": [
  {
   "cell_type": "markdown",
   "id": "incomplete-terrace",
   "metadata": {},
   "source": [
    "# Coding Tasks - Week 1\n",
    "Welcome to the Python Programming Exercise Sheet!  \n",
    "In this exercise sheet, we will cover some of the fundamental concepts in Python programming.  \n",
    "Topics covered are: Declaring variables, data types, operations, and if-statements.  \n",
    "\n",
    "___\n",
    "**DEADLINE**: 14th May until 23:59  \n",
    "**Your name here**: Lilia Ben Salah \n",
    "**Your university mail**: lbensalah@uni-osnabrueck.de\n",
    "___\n",
    "\n",
    "**Important information**:  \n",
    "In order to pass this sheet you need to achieve 10/20 points.  \n",
    "For the best possible grade you require 20/20 points, however, since some harder tasks may take a lot of time you don't have to pressure yourself.  \n",
    "If you complete any three tasks on a sheet you will definitely get a good grade for that sheet.  \n",
    "Hand in your sheet in studip in the respective folder until the deadline.  \n",
    "If you receive no email until a few days after submission you will have passed, the sample solution will also be uploaded around then.  \n",
    "If you receive an email you don't need to worry, you can fail one sheet and also your total points will also be taken into account for the final pass or fail.  "
   ]
  },
  {
   "cell_type": "markdown",
   "id": "surprising-elizabeth",
   "metadata": {},
   "source": [
    "## Task 1 Declaring variables (8 points)\n",
    "Please declare the following variables with the specific data types and values listed.  \n",
    "\n",
    " a) A string with the value \"hello world\"  \n",
    " b) An integer with the value \"-19\"  \n",
    " c) A float with the value \"7.29\"  \n",
    " d) A boolean value of \"False\"  \n",
    " e) A tuple containing the integers \"1\", \"2\", and the float \"4.56\"  \n",
    " f) A list containing the string \"a\", \"b\", and \"c\" as elements  \n",
    " g) The truth value of 9 is greater than or equal to 9  \n",
    " h) The result of 28 times 2 minus 14  "
   ]
  },
  {
   "cell_type": "code",
   "execution_count": null,
   "id": "material-arthur",
   "metadata": {
    "tags": []
   },
   "outputs": [],
   "source": [
    "a = string_var = \"hello world\"\n",
    "b = int_var = -19\n",
    "c = float_var = 7.29\n",
    "d = bool_var = False\n",
    "e = tuple_var = (1, 2, 4.56)\n",
    "f = list_var = [\"a\", \"b\", \"c\"]\n",
    "g = bool_var = 9 >= 9\n",
    "h = int_var = 28 * 2 - 14"
   ]
  },
  {
   "cell_type": "markdown",
   "id": "second-mixture",
   "metadata": {},
   "source": [
    "## Task 2 Implementing formulas (4 points)\n",
    "Please implement mathematical formulas in the cells below.  \n",
    "You are given four variables ```a``` ```b``` ```c```, and ```d``` at the start, and can chose any float or integer value for them to test your formula.  \n",
    "Note however that, depending on what you chose, you may run into division by zero errors or a negative squareroot, so chose carefully if you wish to change these."
   ]
  },
  {
   "cell_type": "code",
   "execution_count": null,
   "id": "union-revolution",
   "metadata": {
    "tags": []
   },
   "outputs": [],
   "source": [
    "a = 1\n",
    "b = 2\n",
    "c = 5.37\n",
    "d = 7.92"
   ]
  },
  {
   "cell_type": "markdown",
   "id": "sitting-screening",
   "metadata": {},
   "source": [
    "### Formula 1\n",
    "$\\frac{A+B}{C+D}$  \n",
    "\"A plus B divided by C plus D\""
   ]
  },
  {
   "cell_type": "code",
   "execution_count": null,
   "id": "geographic-listening",
   "metadata": {
    "tags": []
   },
   "outputs": [],
   "source": [
    "result = a + b / (c + d)"
   ]
  },
  {
   "cell_type": "markdown",
   "id": "instant-configuration",
   "metadata": {},
   "source": [
    "## Formula 2\n",
    "$\\frac{A+B+C+D}{4}$  \n",
    "\"The sum of A, B, C, and D, divided by four\""
   ]
  },
  {
   "cell_type": "code",
   "execution_count": null,
   "id": "greenhouse-offering",
   "metadata": {
    "tags": []
   },
   "outputs": [],
   "source": [
    "average = (a + b + c + d) / 4"
   ]
  },
  {
   "cell_type": "markdown",
   "id": "adapted-adapter",
   "metadata": {},
   "source": [
    "### Formula 3\n",
    "$\\frac{A^2+B^3}{1+\\frac{C}{D}}$  \n",
    "\"A to the power of 2 plus B to the power of 3, divided by 1 plus the quotient of C and D\""
   ]
  },
  {
   "cell_type": "code",
   "execution_count": null,
   "id": "generous-theater",
   "metadata": {
    "tags": []
   },
   "outputs": [],
   "source": [
    "result = (a ** 2 + b ** 3) / (1 + c / d)"
   ]
  },
  {
   "cell_type": "markdown",
   "id": "german-fleece",
   "metadata": {},
   "source": [
    "### Formula 4\n",
    "$\\sqrt[2]{A-B}$  \n",
    "\"The square root of A minus B\"  \n",
    "**Hint:** You can use the power of 1/2 instead here."
   ]
  },
  {
   "cell_type": "code",
   "execution_count": null,
   "id": "informative-plant",
   "metadata": {
    "tags": []
   },
   "outputs": [],
   "source": [
    "result = ((a - b) ** 0.5)"
   ]
  },
  {
   "cell_type": "markdown",
   "id": "portable-patent",
   "metadata": {
    "tags": []
   },
   "source": [
    "## Task 3 Variables - Value Switching (3 points)\n",
    "\n",
    "Write a program that asks the user to enter two different numbers and then switches the values that are stored in a and b. Print the switched values as an output.\n",
    "\n",
    "**Hint:** You may need to look up ```input()``` function to gather information from the users."
   ]
  },
  {
   "cell_type": "code",
   "execution_count": null,
   "id": "nearby-feeling",
   "metadata": {
    "tags": []
   },
   "outputs": [],
   "source": [
    "a = float(input(\"Enter the first number: \"))\n",
    "b = float(input(\"Enter the second number: \"))\n",
    "\n",
    "temp = a\n",
    "a = b\n",
    "b = temp"
   ]
  },
  {
   "cell_type": "code",
   "execution_count": null,
   "id": "atlantic-arena",
   "metadata": {
    "tags": []
   },
   "outputs": [],
   "source": [
    "print(a, b)"
   ]
  },
  {
   "cell_type": "markdown",
   "id": "marked-instrument",
   "metadata": {},
   "source": [
    "## Task 4 If statements (5 points)\n",
    "Imagine that you are working at a theme park and selling tickets for the rollercoaster.  \n",
    "You are obliged to ask all visitors about their height (in cm) before selling them any tickets.  \n",
    "If they are 120cm or taller than that, then they are allowed to ride the rollercoaster and you need to ask how old they are.  \n",
    "Depending on their age, the amount that they have to pay differs:\n",
    "\n",
    "* If they are younger than 12: 5€\n",
    "* If they are 18 or younger: 8€\n",
    "* If they are older than 18: 15€\n",
    "\n",
    "Depending on the result change the value of the variables price (int) and allowed (bool) to match the specified conditions!\n",
    "\n",
    "**Hint:** Do not forget to inform the visitors shorter than 120cm that they cannot ride the rollercoaster at the moment.  \n",
    "You can adjust the code in the cell below to or use the input statement which is commented out to test for specific height and age combinations.  \n",
    "If someone is not allowed on the ride, then you do not need to give them a price obviously."
   ]
  },
  {
   "cell_type": "code",
   "execution_count": null,
   "id": "treated-alert",
   "metadata": {
    "tags": []
   },
   "outputs": [],
   "source": [
    "height = 160\n",
    "age = 19\n",
    "\n",
    "allowed = True\n",
    "price = 0\n",
    "\n",
    "#alternatively comment this out and input\n",
    "# print(\"Height:\")\n",
    "# height = int(input())\n",
    "# age = int(input())"
   ]
  },
  {
   "cell_type": "code",
   "execution_count": null,
   "id": "mathematical-thing",
   "metadata": {
    "tags": []
   },
   "outputs": [],
   "source": [
    "#add here"
   ]
  },
  {
   "cell_type": "code",
   "execution_count": null,
   "id": "enhanced-worship",
   "metadata": {
    "tags": []
   },
   "outputs": [],
   "source": [
    "print(f'The person (height={height},age={age}) is {\"not\" if not allowed else \"\"} allowed to take the ride and their price is {price}€')"
   ]
  },
  {
   "cell_type": "code",
   "execution_count": null,
   "id": "productive-focus",
   "metadata": {},
   "outputs": [],
   "source": []
  }
 ],
 "metadata": {
  "kernelspec": {
   "display_name": "Python 3",
   "language": "python",
   "name": "python3"
  },
  "language_info": {
   "codemirror_mode": {
    "name": "ipython",
    "version": 3
   },
   "file_extension": ".py",
   "mimetype": "text/x-python",
   "name": "python",
   "nbconvert_exporter": "python",
   "pygments_lexer": "ipython3",
   "version": "3.7.3"
  }
 },
 "nbformat": 4,
 "nbformat_minor": 5
}
