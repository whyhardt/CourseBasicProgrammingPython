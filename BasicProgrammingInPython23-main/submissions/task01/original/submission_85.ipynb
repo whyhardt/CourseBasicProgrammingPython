{
 "cells": [
  {
   "cell_type": "markdown",
   "id": "eleven-spending",
   "metadata": {},
   "source": [
    "# Coding Tasks - Week 1\n",
    "Welcome to the Python Programming Exercise Sheet!  \n",
    "In this exercise sheet, we will cover some of the fundamental concepts in Python programming.  \n",
    "Topics covered are: Declaring variables, data types, operations, and if-statements.  \n",
    "\n",
    "___\n",
    "**DEADLINE**: 14th May until 23:59  \n",
    "**Your name here**: Meret Wilczek \n",
    "**Your university mail**: mwilczek@uos.de\n",
    "___\n",
    "\n",
    "**Important information**:  \n",
    "In order to pass this sheet you need to achieve 10/20 points.  \n",
    "For the best possible grade you require 20/20 points, however, since some harder tasks may take a lot of time you don't have to pressure yourself.  \n",
    "If you complete any three tasks on a sheet you will definitely get a good grade for that sheet.  \n",
    "Hand in your sheet in studip in the respective folder until the deadline.  \n",
    "If you receive no email until a few days after submission you will have passed, the sample solution will also be uploaded around then.  \n",
    "If you receive an email you don't need to worry, you can fail one sheet and also your total points will also be taken into account for the final pass or fail.  "
   ]
  },
  {
   "cell_type": "markdown",
   "id": "placed-defeat",
   "metadata": {},
   "source": [
    "## Task 1 Declaring variables (8 points)\n",
    "Please declare the following variables with the specific data types and values listed.  \n",
    "\n",
    " a) A string with the value \"hello world\"  \n",
    " b) An integer with the value \"-19\"  \n",
    " c) A float with the value \"7.29\"  \n",
    " d) A boolean value of \"False\"  \n",
    " e) A tuple containing the integers \"1\", \"2\", and the float \"4.56\"  \n",
    " f) A list containing the string \"a\", \"b\", and \"c\" as elements  \n",
    " g) The truth value of 9 is greater than or equal to 9  \n",
    " h) The result of 28 times 2 minus 14  "
   ]
  },
  {
   "cell_type": "code",
   "execution_count": 10,
   "id": "taken-reputation",
   "metadata": {
    "tags": []
   },
   "outputs": [
    {
     "name": "stdout",
     "output_type": "stream",
     "text": [
      "hello world -19 7.29 False (1, 2, 4.56) ('a', 'b', 'c') True 42\n"
     ]
    }
   ],
   "source": [
    "a = str(\"hello world\")\n",
    "b = int (-19)\n",
    "c = float(7.29)\n",
    "d = bool (0)\n",
    "e = (int(1), int(2), float(4.56))\n",
    "f = ('a', 'b', 'c')\n",
    "g = bool(9 >= 9)\n",
    "h = int (28*2-14)\n",
    "print(a , b, c,  d, e, f, g, h)"
   ]
  },
  {
   "cell_type": "markdown",
   "id": "southern-defendant",
   "metadata": {},
   "source": [
    "## Task 2 Implementing formulas (4 points)\n",
    "Please implement mathematical formulas in the cells below.  \n",
    "You are given four variables ```a``` ```b``` ```c```, and ```d``` at the start, and can chose any float or integer value for them to test your formula.  \n",
    "Note however that, depending on what you chose, you may run into division by zero errors or a negative squareroot, so chose carefully if you wish to change these."
   ]
  },
  {
   "cell_type": "code",
   "execution_count": 22,
   "id": "continent-insurance",
   "metadata": {
    "tags": []
   },
   "outputs": [],
   "source": [
    "a = 20\n",
    "b = 2\n",
    "c = 1\n",
    "d = 10"
   ]
  },
  {
   "cell_type": "markdown",
   "id": "veterinary-egyptian",
   "metadata": {},
   "source": [
    "### Formula 1\n",
    "$\\frac{A+B}{C+D}$  \n",
    "\"A plus B divided by C plus D\""
   ]
  },
  {
   "cell_type": "code",
   "execution_count": 23,
   "id": "numeric-aging",
   "metadata": {
    "tags": []
   },
   "outputs": [
    {
     "name": "stdout",
     "output_type": "stream",
     "text": [
      "2\n"
     ]
    }
   ],
   "source": [
    "f1 = ((a+b)/(c+d))\n",
    "print(f1)"
   ]
  },
  {
   "cell_type": "markdown",
   "id": "raised-shanghai",
   "metadata": {},
   "source": [
    "## Formula 2\n",
    "$\\frac{A+B+C+D}{4}$  \n",
    "\"The sum of A, B, C, and D, divided by four\""
   ]
  },
  {
   "cell_type": "code",
   "execution_count": 24,
   "id": "coupled-carnival",
   "metadata": {
    "tags": []
   },
   "outputs": [
    {
     "name": "stdout",
     "output_type": "stream",
     "text": [
      "8.25\n"
     ]
    }
   ],
   "source": [
    "f2= (a+b+d+c)/4\n",
    "print(f2)"
   ]
  },
  {
   "cell_type": "markdown",
   "id": "equivalent-rover",
   "metadata": {},
   "source": [
    "### Formula 3\n",
    "$\\frac{A^2+B^3}{1+\\frac{C}{D}}$  \n",
    "\"A to the power of 2 plus B to the power of 3, divided by 1 plus the quotient of C and D\""
   ]
  },
  {
   "cell_type": "code",
   "execution_count": 25,
   "id": "lucky-welcome",
   "metadata": {
    "tags": []
   },
   "outputs": [
    {
     "name": "stdout",
     "output_type": "stream",
     "text": [
      "370.9090909090909\n"
     ]
    }
   ],
   "source": [
    "f3 = (a*a+b*b*b)/(1+(c/d))\n",
    "print(f3)"
   ]
  },
  {
   "cell_type": "markdown",
   "id": "surgical-virginia",
   "metadata": {},
   "source": [
    "### Formula 4\n",
    "$\\sqrt[2]{A-B}$  \n",
    "\"The square root of A minus B\"  \n",
    "**Hint:** You can use the power of 1/2 instead here."
   ]
  },
  {
   "cell_type": "code",
   "execution_count": 27,
   "id": "union-signature",
   "metadata": {
    "tags": []
   },
   "outputs": [
    {
     "name": "stdout",
     "output_type": "stream",
     "text": [
      "4.242640687119285\n"
     ]
    }
   ],
   "source": [
    "import math\n",
    "f4= math. sqrt(a-b)\n",
    "print(f4)"
   ]
  },
  {
   "cell_type": "markdown",
   "id": "color-catch",
   "metadata": {
    "tags": []
   },
   "source": [
    "## Task 3 Variables - Value Switching (3 points)\n",
    "\n",
    "Write a program that asks the user to enter two different numbers and then switches the values that are stored in a and b. Print the switched values as an output.\n",
    "\n",
    "**Hint:** You may need to look up ```input()``` function to gather information from the users."
   ]
  },
  {
   "cell_type": "code",
   "execution_count": 34,
   "id": "british-finder",
   "metadata": {
    "tags": []
   },
   "outputs": [
    {
     "name": "stdout",
     "output_type": "stream",
     "text": [
      "Please enter a number: \n",
      "12\n",
      "Please enter a second number: \n",
      "23\n",
      "Thank you! These will now be switched \n",
      "\n",
      "Your first number used to be \n",
      "12\n",
      " and your second one used to be \n",
      "23\n",
      "The first number is now \n",
      "23\n",
      "and the second one is\n",
      "12\n"
     ]
    }
   ],
   "source": [
    "a = input(\"Please enter a number: \\n\" )\n",
    "a= int(a)\n",
    "b = input (\"Please enter a second number: \\n\")\n",
    "b= int(b)\n",
    "print (\"Thank you! These will now be switched \\n\")\n",
    "\n",
    "print( \"Your first number used to be \" )\n",
    "print (a) \n",
    "print (\" and your second one used to be \") \n",
    "print(b)\n",
    "\n",
    "c = a\n",
    "a = b\n",
    "b= c\n",
    "print(\"The first number is now \" )\n",
    "print (a)\n",
    "print(\"and the second one is\" )\n",
    "print(b)\n"
   ]
  },
  {
   "cell_type": "code",
   "execution_count": 29,
   "id": "eleven-laser",
   "metadata": {
    "tags": []
   },
   "outputs": [
    {
     "name": "stdout",
     "output_type": "stream",
     "text": [
      "23 12\n"
     ]
    }
   ],
   "source": [
    "print(a, b)"
   ]
  },
  {
   "cell_type": "markdown",
   "id": "preceding-southwest",
   "metadata": {},
   "source": [
    "## Task 4 If statements (5 points)\n",
    "Imagine that you are working at a theme park and selling tickets for the rollercoaster.  \n",
    "You are obliged to ask all visitors about their height (in cm) before selling them any tickets.  \n",
    "If they are 120cm or taller than that, then they are allowed to ride the rollercoaster and you need to ask how old they are.  \n",
    "Depending on their age, the amount that they have to pay differs:\n",
    "\n",
    "* If they are younger than 12: 5€\n",
    "* If they are 18 or younger: 8€\n",
    "* If they are older than 18: 15€\n",
    "\n",
    "Depending on the result change the value of the variables price (int) and allowed (bool) to match the specified conditions!\n",
    "\n",
    "**Hint:** Do not forget to inform the visitors shorter than 120cm that they cannot ride the rollercoaster at the moment.  \n",
    "You can adjust the code in the cell below to or use the input statement which is commented out to test for specific height and age combinations.  \n",
    "If someone is not allowed on the ride, then you do not need to give them a price obviously."
   ]
  },
  {
   "cell_type": "code",
   "execution_count": 54,
   "id": "placed-fairy",
   "metadata": {
    "tags": []
   },
   "outputs": [
    {
     "name": "stdout",
     "output_type": "stream",
     "text": [
      "Please input your height in cm: \n",
      "130\n",
      "Please input your age in years: \n",
      "19\n"
     ]
    }
   ],
   "source": [
    "height = int(input(\"Please input your height in cm: \\n\"))\n",
    "age= int(input(\"Please input your age in years: \\n\" ))"
   ]
  },
  {
   "cell_type": "code",
   "execution_count": 55,
   "id": "selective-bolivia",
   "metadata": {
    "tags": []
   },
   "outputs": [],
   "source": [
    "price= int (0)\n",
    "if height > 120:\n",
    "    if age <12:\n",
    "        price = 5\n",
    "    else:\n",
    "        if age <= 18:\n",
    "            price = 8\n",
    "        else:\n",
    "            price = 15\n",
    "else:\n",
    "    price = 1"
   ]
  },
  {
   "cell_type": "code",
   "execution_count": 56,
   "id": "composed-penguin",
   "metadata": {
    "tags": []
   },
   "outputs": [
    {
     "name": "stdout",
     "output_type": "stream",
     "text": [
      "You need to pay 15 €.\n",
      " Have a good time!\n"
     ]
    }
   ],
   "source": [
    "if price == 1:\n",
    "    print( \"You cannot ride this ride. Unfortunately you need to be taller than 120cm. I hope you have a good day!\")\n",
    "else:\n",
    "    print( \"You need to pay\", price,  \"€.\\n Have a good time!\")"
   ]
  },
  {
   "cell_type": "code",
   "execution_count": null,
   "id": "bizarre-ceremony",
   "metadata": {},
   "outputs": [],
   "source": []
  }
 ],
 "metadata": {
  "kernelspec": {
   "display_name": "Python 3",
   "language": "python",
   "name": "python3"
  },
  "language_info": {
   "codemirror_mode": {
    "name": "ipython",
    "version": 3
   },
   "file_extension": ".py",
   "mimetype": "text/x-python",
   "name": "python",
   "nbconvert_exporter": "python",
   "pygments_lexer": "ipython3",
   "version": "3.7.3"
  }
 },
 "nbformat": 4,
 "nbformat_minor": 5
}
