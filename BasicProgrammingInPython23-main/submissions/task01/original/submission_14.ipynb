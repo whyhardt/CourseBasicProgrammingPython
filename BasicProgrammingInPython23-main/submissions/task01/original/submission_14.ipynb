{
 "cells": [
  {
   "cell_type": "markdown",
   "id": "d83b263d-a66d-4931-b6be-863a94746522",
   "metadata": {},
   "source": [
    "# Coding Tasks - Week 1\n",
    "Welcome to the Python Programming Exercise Sheet!  \n",
    "In this exercise sheet, we will cover some of the fundamental concepts in Python programming.  \n",
    "Topics covered are: Declaring variables, data types, operations, and if-statements.  \n",
    "\n",
    "___\n",
    "**DEADLINE**: 14th May until 23:59  \n",
    "**Your name here**: Keaton Dahl  \n",
    "**Your university mail**: kdahl@uni-osnabrueck.de\n",
    "___\n",
    "\n",
    "**Important information**:  \n",
    "In order to pass this sheet you need to achieve 10/20 points.  \n",
    "For the best possible grade you require 20/20 points, however, since some harder tasks may take a lot of time you don't have to pressure yourself.  \n",
    "If you complete any three tasks on a sheet you will definitely get a good grade for that sheet.  \n",
    "Hand in your sheet in studip in the respective folder until the deadline.  \n",
    "If you receive no email until a few days after submission you will have passed, the sample solution will also be uploaded around then.  \n",
    "If you receive an email you don't need to worry, you can fail one sheet and also your total points will also be taken into account for the final pass or fail.  "
   ]
  },
  {
   "cell_type": "markdown",
   "id": "3d0873eb-1f67-4d5b-bee4-9195b826a7cd",
   "metadata": {},
   "source": [
    "## Task 1 Declaring variables (8 points)\n",
    "Please declare the following variables with the specific data types and values listed.  \n",
    "\n",
    " a) A string with the value \"hello world\"  \n",
    " b) An integer with the value \"-19\"  \n",
    " c) A float with the value \"7.29\"  \n",
    " d) A boolean value of \"False\"  \n",
    " e) A tuple containing the integers \"1\", \"2\", and the float \"4.56\"  \n",
    " f) A list containing the string \"a\", \"b\", and \"c\" as elements  \n",
    " g) The truth value of 9 is greater than or equal to 9  \n",
    " h) The result of 28 times 2 minus 14  "
   ]
  },
  {
   "cell_type": "code",
   "execution_count": 2,
   "id": "3ce63bc5-d7ec-44cc-916a-22f88aec11cf",
   "metadata": {
    "tags": []
   },
   "outputs": [],
   "source": [
    "a = string_variable=\"hello world\"\n",
    "b = interger_variable=-19\n",
    "c = float_variable= 7.29\n",
    "d = boolean_variable=False \n",
    "e = tuple_variable= (1, 2, 4.56)\n",
    "f = list_variable= [a, b, c]\n",
    "g = truth_variable= 9 >= 9\n",
    "h = result= 28 * 2 - 14"
   ]
  },
  {
   "cell_type": "markdown",
   "id": "1cb7825b-a8f7-4658-8978-bb84c0831787",
   "metadata": {},
   "source": [
    "## Task 2 Implementing formulas (4 points)\n",
    "Please implement mathematical formulas in the cells below.  \n",
    "You are given four variables ```a``` ```b``` ```c```, and ```d``` at the start, and can chose any float or integer value for them to test your formula.  \n",
    "Note however that, depending on what you chose, you may run into division by zero errors or a negative squareroot, so chose carefully if you wish to change these."
   ]
  },
  {
   "cell_type": "code",
   "execution_count": 3,
   "id": "5c9ad341-7031-4a66-9d29-002c368fcac4",
   "metadata": {
    "tags": []
   },
   "outputs": [],
   "source": [
    "a = 1\n",
    "b = 2\n",
    "c = 5.37\n",
    "d = 7.92"
   ]
  },
  {
   "cell_type": "markdown",
   "id": "49520ba5-d229-4866-97ab-14749a923167",
   "metadata": {},
   "source": [
    "### Formula 1\n",
    "$\\frac{A+B}{C+D}$  \n",
    "\"A plus B divided by C plus D\""
   ]
  },
  {
   "cell_type": "code",
   "execution_count": 4,
   "id": "66f3ae16-2db1-4da2-9e72-e670a0f193a7",
   "metadata": {
    "tags": []
   },
   "outputs": [
    {
     "name": "stdout",
     "output_type": "stream",
     "text": [
      "-1.1764705882352942\n"
     ]
    }
   ],
   "source": [
    "result=(1+2)/(5.37-7.92)\n",
    "print(result)"
   ]
  },
  {
   "cell_type": "markdown",
   "id": "2336ea10-ee79-43dc-abd3-55b5f03686f3",
   "metadata": {},
   "source": [
    "## Formula 2\n",
    "$\\frac{A+B+C+D}{4}$  \n",
    "\"The sum of A, B, C, and D, divided by four\""
   ]
  },
  {
   "cell_type": "markdown",
   "id": "6b699c47",
   "metadata": {},
   "source": []
  },
  {
   "cell_type": "code",
   "execution_count": 5,
   "id": "54c7005e-b53b-4835-9eb3-ca755c229fc6",
   "metadata": {
    "tags": []
   },
   "outputs": [
    {
     "name": "stdout",
     "output_type": "stream",
     "text": [
      "4.0725\n"
     ]
    }
   ],
   "source": [
    "result=(1+2+5.37+7.92)/4\n",
    "print(result)"
   ]
  },
  {
   "cell_type": "markdown",
   "id": "7834621c-1354-4ccd-9acd-d4111948e2fe",
   "metadata": {},
   "source": [
    "### Formula 3\n",
    "$\\frac{A^2+B^3}{1+\\frac{C}{D}}$  \n",
    "\"A to the power of 2 plus B to the power of 3, divided by 1 plus the quotient of C and D\""
   ]
  },
  {
   "cell_type": "code",
   "execution_count": 6,
   "id": "40cd88ff-a4b9-415f-ba77-64fe9e520c27",
   "metadata": {
    "tags": []
   },
   "outputs": [
    {
     "name": "stdout",
     "output_type": "stream",
     "text": [
      "2.3837471783295707\n"
     ]
    }
   ],
   "source": [
    "result=((1^2)+(2^3))/(1+(5.37/7.92))\n",
    "print(result)"
   ]
  },
  {
   "cell_type": "markdown",
   "id": "9403de5e-4eaa-4162-b3da-df6998483310",
   "metadata": {},
   "source": [
    "### Formula 4\n",
    "$\\sqrt[2]{A-B}$  \n",
    "\"The square root of A minus B\"  \n",
    "**Hint:** You can use the power of 1/2 instead here."
   ]
  },
  {
   "cell_type": "code",
   "execution_count": 7,
   "id": "d3e633e9-d34a-4cbb-a588-2bdb829f7ae3",
   "metadata": {
    "tags": []
   },
   "outputs": [
    {
     "name": "stdout",
     "output_type": "stream",
     "text": [
      "(6.123233995736766e-17+1j)\n"
     ]
    }
   ],
   "source": [
    "import math\n",
    "result=(1-2) ** (1/2)\n",
    "print(result)"
   ]
  },
  {
   "cell_type": "markdown",
   "id": "9172e5ce-d407-4f43-878c-52fce64f6473",
   "metadata": {
    "tags": []
   },
   "source": [
    "## Task 3 Variables - Value Switching (3 points)\n",
    "\n",
    "Write a program that asks the user to enter two different numbers and then switches the values that are stored in a and b. Print the switched values as an output.\n",
    "\n",
    "**Hint:** You may need to look up ```input()``` function to gather information from the users."
   ]
  },
  {
   "cell_type": "code",
   "execution_count": 1,
   "id": "59915e6f-9be8-400e-bf78-8fe73bb13226",
   "metadata": {
    "tags": []
   },
   "outputs": [
    {
     "name": "stdout",
     "output_type": "stream",
     "text": [
      "Enter first number\n",
      "Enter second number\n"
     ]
    },
    {
     "ename": "NameError",
     "evalue": "name 'X' is not defined",
     "output_type": "error",
     "traceback": [
      "\u001b[1;31m---------------------------------------------------------------------------\u001b[0m",
      "\u001b[1;31mNameError\u001b[0m                                 Traceback (most recent call last)",
      "Cell \u001b[1;32mIn[1], line 4\u001b[0m\n\u001b[0;32m      1\u001b[0m \u001b[39mprint\u001b[39m(\u001b[39m\"\u001b[39m\u001b[39mEnter first number\u001b[39m\u001b[39m\"\u001b[39m)\n\u001b[0;32m      2\u001b[0m \u001b[39mprint\u001b[39m(\u001b[39m\"\u001b[39m\u001b[39mEnter second number\u001b[39m\u001b[39m\"\u001b[39m)\n\u001b[1;32m----> 4\u001b[0m a\u001b[39m=\u001b[39m\u001b[39minput\u001b[39m(X)\n\u001b[0;32m      5\u001b[0m b\u001b[39m=\u001b[39m\u001b[39minput\u001b[39m(Y)\n",
      "\u001b[1;31mNameError\u001b[0m: name 'X' is not defined"
     ]
    }
   ],
   "source": [
    "print(\"Enter first number\")\n",
    "print(\"Enter second number\")\n",
    "\n",
    "a=input()\n",
    "b=input()\n",
    "\n"
   ]
  },
  {
   "cell_type": "code",
   "execution_count": 1,
   "id": "cfb0c3a5-dffb-4616-b483-cc2193c24a8f",
   "metadata": {
    "tags": []
   },
   "outputs": [
    {
     "name": "stdout",
     "output_type": "stream",
     "text": [
      "Original values\n",
      "a= 1\n",
      "b= 2\n",
      "Switched values\n",
      "a= 2\n",
      "b= 1\n"
     ]
    }
   ],
   "source": [
    "\n",
    "print(\"Original values\")\n",
    "\n",
    "print(\"a=\", 1)\n",
    "print(\"b=\", 2)\n",
    "\n",
    "print(\"Switched values\")\n",
    "\n",
    "print(\"a=\", 2)\n",
    "print(\"b=\", 1)"
   ]
  },
  {
   "cell_type": "markdown",
   "id": "37ce0d03-8047-467a-8d20-602342479514",
   "metadata": {},
   "source": [
    "## Task 4 If statements (5 points)\n",
    "Imagine that you are working at a theme park and selling tickets for the rollercoaster.  \n",
    "You are obliged to ask all visitors about their height (in cm) before selling them any tickets.  \n",
    "If they are 120cm or taller than that, then they are allowed to ride the rollercoaster and you need to ask how old they are.  \n",
    "Depending on their age, the amount that they have to pay differs:\n",
    "\n",
    "* If they are younger than 12: 5€\n",
    "* If they are 18 or younger: 8€\n",
    "* If they are older than 18: 15€\n",
    "\n",
    "Depending on the result change the value of the variables price (int) and allowed (bool) to match the specified conditions!\n",
    "\n",
    "**Hint:** Do not forget to inform the visitors shorter than 120cm that they cannot ride the rollercoaster at the moment.  \n",
    "You can adjust the code in the cell below to or use the input statement which is commented out to test for specific height and age combinations.  \n",
    "If someone is not allowed on the ride, then you do not need to give them a price obviously."
   ]
  },
  {
   "cell_type": "code",
   "execution_count": 6,
   "id": "80f52fbb-057c-499a-b802-78f60b3f1d30",
   "metadata": {
    "tags": []
   },
   "outputs": [],
   "source": [
    "height = 160\n",
    "age = 19\n",
    "\n",
    "allowed = True\n",
    "price = 0\n",
    "\n",
    "#alternatively comment this out and input\n",
    "# print(\"Height:\")\n",
    "# height = int(input())\n",
    "# age = int(input())"
   ]
  },
  {
   "cell_type": "code",
   "execution_count": 13,
   "id": "3ebe256a-5e8a-49a7-bb83-45d78415ad08",
   "metadata": {
    "tags": []
   },
   "outputs": [
    {
     "name": "stdout",
     "output_type": "stream",
     "text": [
      "Allowed: Yes\n",
      "Price: 15 €\n"
     ]
    }
   ],
   "source": [
    "height = int(input())\n",
    "\n",
    "allowed = False\n",
    "price = 0\n",
    "\n",
    "if height >= 120:\n",
    "    age = int(input())\n",
    "    allowed = True\n",
    "\n",
    "    if age < 12:\n",
    "        price = 5\n",
    "    elif age <= 18:\n",
    "        price = 8\n",
    "    else:\n",
    "        price = 15\n",
    "else:\n",
    "    print(\"Not allowed to ride the rollercoaster\")\n",
    "\n",
    "if allowed:\n",
    "    print(\"Allowed: Yes\")\n",
    "    print(\"Price:\", price, \"€\")\n",
    "else:\n",
    "    print(\"Allowed: No\")\n"
   ]
  },
  {
   "cell_type": "code",
   "execution_count": 14,
   "id": "25286276-e866-468c-b9ae-93cd52366b96",
   "metadata": {
    "tags": []
   },
   "outputs": [
    {
     "name": "stdout",
     "output_type": "stream",
     "text": [
      "The person (height=121,age=20) is allowed to take the ride and their price is 15€\n"
     ]
    }
   ],
   "source": [
    "print(f'The person (height={height},age={age}) is{\"not\" if not allowed else \"\"} allowed to take the ride and their price is {price}€')"
   ]
  },
  {
   "cell_type": "code",
   "execution_count": null,
   "id": "42ff62a5-11f0-4eac-8c40-7e315f042e99",
   "metadata": {},
   "outputs": [],
   "source": []
  }
 ],
 "metadata": {
  "kernelspec": {
   "display_name": "Python 3 (ipykernel)",
   "language": "python",
   "name": "python3"
  },
  "language_info": {
   "codemirror_mode": {
    "name": "ipython",
    "version": 3
   },
   "file_extension": ".py",
   "mimetype": "text/x-python",
   "name": "python",
   "nbconvert_exporter": "python",
   "pygments_lexer": "ipython3",
   "version": "3.8.8"
  }
 },
 "nbformat": 4,
 "nbformat_minor": 5
}
