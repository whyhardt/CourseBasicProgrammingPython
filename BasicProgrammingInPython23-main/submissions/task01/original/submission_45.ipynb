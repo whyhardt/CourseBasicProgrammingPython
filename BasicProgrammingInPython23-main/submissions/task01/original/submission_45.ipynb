{
 "cells": [
  {
   "cell_type": "markdown",
   "id": "d83b263d-a66d-4931-b6be-863a94746522",
   "metadata": {},
   "source": [
    "# Coding Tasks - Week 1\n",
    "Welcome to the Python Programming Exercise Sheet!  \n",
    "In this exercise sheet, we will cover some of the fundamental concepts in Python programming.  \n",
    "Topics covered are: Declaring variables, data types, operations, and if-statements.  \n",
    "\n",
    "___\n",
    "**DEADLINE**: 14th May until 23:59  \n",
    "**Your name here**: Jule Bufler  \n",
    "**Your university mail**: example.person@uos.de\n",
    "___\n",
    "\n",
    "**Important information**:  \n",
    "In order to pass this sheet you need to achieve 10/20 points.  \n",
    "For the best possible grade you require 20/20 points, however, since some harder tasks may take a lot of time you don't have to pressure yourself.  \n",
    "If you complete any three tasks on a sheet you will definitely get a good grade for that sheet.  \n",
    "Hand in your sheet in studip in the respective folder until the deadline.  \n",
    "If you receive no email until a few days after submission you will have passed, the sample solution will also be uploaded around then.  \n",
    "If you receive an email you don't need to worry, you can fail one sheet and also your total points will also be taken into account for the final pass or fail.  "
   ]
  },
  {
   "cell_type": "markdown",
   "id": "3d0873eb-1f67-4d5b-bee4-9195b826a7cd",
   "metadata": {},
   "source": [
    "## Task 1 Declaring variables (8 points)\n",
    "Please declare the following variables with the specific data types and values listed.  \n",
    "\n",
    " a) A string with the value \"hello world\"  \n",
    " b) An integer with the value \"-19\"  \n",
    " c) A float with the value \"7.29\"  \n",
    " d) A boolean value of \"False\"  \n",
    " e) A tuple containing the integers \"1\", \"2\", and the float \"4.56\"  \n",
    " f) A list containing the string \"a\", \"b\", and \"c\" as elements  \n",
    " g) The truth value of 9 is greater than or equal to 9  \n",
    " h) The result of 28 times 2 minus 14  "
   ]
  },
  {
   "cell_type": "code",
   "execution_count": 1,
   "id": "3ce63bc5-d7ec-44cc-916a-22f88aec11cf",
   "metadata": {
    "tags": []
   },
   "outputs": [],
   "source": [
    "a = \"hello world\"\n",
    "b = -19\n",
    "c = 7.29 \n",
    "d = False\n",
    "e = {1,2,4.45}\n",
    "f = [\"a\",\"b\",\"c\"]\n",
    "g = 9>=9\n",
    "h = 28*2 -14"
   ]
  },
  {
   "cell_type": "markdown",
   "id": "1cb7825b-a8f7-4658-8978-bb84c0831787",
   "metadata": {},
   "source": [
    "## Task 2 Implementing formulas (4 points)\n",
    "Please implement mathematical formulas in the cells below.  \n",
    "You are given four variables ```a``` ```b``` ```c```, and ```d``` at the start, and can chose any float or integer value for them to test your formula.  \n",
    "Note however that, depending on what you chose, you may run into division by zero errors or a negative squareroot, so chose carefully if you wish to change these."
   ]
  },
  {
   "cell_type": "code",
   "execution_count": 2,
   "id": "5c9ad341-7031-4a66-9d29-002c368fcac4",
   "metadata": {
    "tags": []
   },
   "outputs": [],
   "source": [
    "a = 1\n",
    "b = 2\n",
    "c = 5.37\n",
    "d = 7.92"
   ]
  },
  {
   "cell_type": "markdown",
   "id": "49520ba5-d229-4866-97ab-14749a923167",
   "metadata": {},
   "source": [
    "### Formula 1\n",
    "$\\frac{A+B}{C+D}$  \n",
    "\"A plus B divided by C plus D\""
   ]
  },
  {
   "cell_type": "code",
   "execution_count": 3,
   "id": "66f3ae16-2db1-4da2-9e72-e670a0f193a7",
   "metadata": {
    "tags": []
   },
   "outputs": [
    {
     "data": {
      "text/plain": [
       "0.22573363431151244"
      ]
     },
     "execution_count": 3,
     "metadata": {},
     "output_type": "execute_result"
    }
   ],
   "source": [
    "(a+b)/(c+d)"
   ]
  },
  {
   "cell_type": "markdown",
   "id": "2336ea10-ee79-43dc-abd3-55b5f03686f3",
   "metadata": {},
   "source": [
    "## Formula 2\n",
    "$\\frac{A+B+C+D}{4}$  \n",
    "\"The sum of A, B, C, and D, divided by four\""
   ]
  },
  {
   "cell_type": "code",
   "execution_count": 4,
   "id": "54c7005e-b53b-4835-9eb3-ca755c229fc6",
   "metadata": {
    "tags": []
   },
   "outputs": [
    {
     "data": {
      "text/plain": [
       "4.0725"
      ]
     },
     "execution_count": 4,
     "metadata": {},
     "output_type": "execute_result"
    }
   ],
   "source": [
    "(a+b+c+d)/4"
   ]
  },
  {
   "cell_type": "markdown",
   "id": "7834621c-1354-4ccd-9acd-d4111948e2fe",
   "metadata": {},
   "source": [
    "### Formula 3\n",
    "$\\frac{A^2+B^3}{1+\\frac{C}{D}}$  \n",
    "\"A to the power of 2 plus B to the power of 3, divided by 1 plus the quotient of C and D\""
   ]
  },
  {
   "cell_type": "code",
   "execution_count": 5,
   "id": "40cd88ff-a4b9-415f-ba77-64fe9e520c27",
   "metadata": {
    "tags": []
   },
   "outputs": [
    {
     "data": {
      "text/plain": [
       "5.363431151241534"
      ]
     },
     "execution_count": 5,
     "metadata": {},
     "output_type": "execute_result"
    }
   ],
   "source": [
    "(a*a + b*b*b) / (1+(c/d))"
   ]
  },
  {
   "cell_type": "markdown",
   "id": "9403de5e-4eaa-4162-b3da-df6998483310",
   "metadata": {},
   "source": [
    "### Formula 4\n",
    "$\\sqrt[2]{A-B}$  \n",
    "\"The square root of A minus B\"  \n",
    "**Hint:** You can use the power of 1/2 instead here."
   ]
  },
  {
   "cell_type": "code",
   "execution_count": 6,
   "id": "d3e633e9-d34a-4cbb-a588-2bdb829f7ae3",
   "metadata": {
    "tags": []
   },
   "outputs": [
    {
     "data": {
      "text/plain": [
       "(6.123233995736766e-17+1j)"
      ]
     },
     "execution_count": 6,
     "metadata": {},
     "output_type": "execute_result"
    }
   ],
   "source": [
    "pow((a-b),0.5)"
   ]
  },
  {
   "cell_type": "markdown",
   "id": "9172e5ce-d407-4f43-878c-52fce64f6473",
   "metadata": {
    "tags": []
   },
   "source": [
    "## Task 3 Variables - Value Switching (3 points)\n",
    "\n",
    "Write a program that asks the user to enter two different numbers and then switches the values that are stored in a and b. Print the switched values as an output.\n",
    "\n",
    "**Hint:** You may need to look up ```input()``` function to gather information from the users."
   ]
  },
  {
   "cell_type": "code",
   "execution_count": 7,
   "id": "59915e6f-9be8-400e-bf78-8fe73bb13226",
   "metadata": {
    "tags": []
   },
   "outputs": [
    {
     "name": "stdout",
     "output_type": "stream",
     "text": [
      "8\n",
      "9\n"
     ]
    }
   ],
   "source": [
    "a = input()\n",
    "b = input()\n",
    "\n",
    "temp = a\n",
    "a = b\n",
    "b = temp"
   ]
  },
  {
   "cell_type": "code",
   "execution_count": 8,
   "id": "cfb0c3a5-dffb-4616-b483-cc2193c24a8f",
   "metadata": {
    "tags": []
   },
   "outputs": [
    {
     "name": "stdout",
     "output_type": "stream",
     "text": [
      "9 8\n"
     ]
    }
   ],
   "source": [
    "print(a, b)"
   ]
  },
  {
   "cell_type": "markdown",
   "id": "37ce0d03-8047-467a-8d20-602342479514",
   "metadata": {},
   "source": [
    "## Task 4 If statements (5 points)\n",
    "Imagine that you are working at a theme park and selling tickets for the rollercoaster.  \n",
    "You are obliged to ask all visitors about their height (in cm) before selling them any tickets.  \n",
    "If they are 120cm or taller than that, then they are allowed to ride the rollercoaster and you need to ask how old they are.  \n",
    "Depending on their age, the amount that they have to pay differs:\n",
    "\n",
    "* If they are younger than 12: 5€\n",
    "* If they are 18 or younger: 8€\n",
    "* If they are older than 18: 15€\n",
    "\n",
    "Depending on the result change the value of the variables price (int) and allowed (bool) to match the specified conditions!\n",
    "\n",
    "**Hint:** Do not forget to inform the visitors shorter than 120cm that they cannot ride the rollercoaster at the moment.  \n",
    "You can adjust the code in the cell below to or use the input statement which is commented out to test for specific height and age combinations.  \n",
    "If someone is not allowed on the ride, then you do not need to give them a price obviously."
   ]
  },
  {
   "cell_type": "code",
   "execution_count": 10,
   "id": "80f52fbb-057c-499a-b802-78f60b3f1d30",
   "metadata": {
    "tags": []
   },
   "outputs": [
    {
     "name": "stdout",
     "output_type": "stream",
     "text": [
      "Height:\n",
      "130\n",
      "32\n"
     ]
    }
   ],
   "source": [
    "height = 160\n",
    "age = 19\n",
    "\n",
    "#alternatively comment this out and input\n",
    "print(\"Height:\")\n",
    "height = int(input())\n",
    "age = int(input())"
   ]
  },
  {
   "cell_type": "code",
   "execution_count": 11,
   "id": "3ebe256a-5e8a-49a7-bb83-45d78415ad08",
   "metadata": {
    "tags": []
   },
   "outputs": [],
   "source": [
    "if height < 120:\n",
    "    allowed = False\n",
    "    print(\"Sorry, you are not allowed to ride the rollercoaster as you are shorter than 120cm.\")\n",
    "else:\n",
    "    allowed = True\n",
    "    if age < 12:\n",
    "        price = 5\n",
    "    elif age <= 18:\n",
    "        price = 8\n",
    "    else:\n",
    "        price = 15\n",
    "    print(\"You are allowed to ride the rollercoaster and your ticket costs\", price, \"euros.\")       "
   ]
  },
  {
   "cell_type": "code",
   "execution_count": null,
   "id": "25286276-e866-468c-b9ae-93cd52366b96",
   "metadata": {
    "tags": []
   },
   "outputs": [],
   "source": [
    "print(f'The person (height={height},age={age}) is {\"not\" if not allowed else \"\"} allowed to take the ride and their price is {price}€')"
   ]
  },
  {
   "cell_type": "code",
   "execution_count": null,
   "id": "42ff62a5-11f0-4eac-8c40-7e315f042e99",
   "metadata": {},
   "outputs": [],
   "source": []
  }
 ],
 "metadata": {
  "kernelspec": {
   "display_name": "Python 3 (ipykernel)",
   "language": "python",
   "name": "python3"
  },
  "language_info": {
   "codemirror_mode": {
    "name": "ipython",
    "version": 3
   },
   "file_extension": ".py",
   "mimetype": "text/x-python",
   "name": "python",
   "nbconvert_exporter": "python",
   "pygments_lexer": "ipython3",
   "version": "3.9.12"
  }
 },
 "nbformat": 4,
 "nbformat_minor": 5
}
