{
  "cells": [
    {
      "cell_type": "markdown",
      "id": "d83b263d-a66d-4931-b6be-863a94746522",
      "metadata": {
        "id": "d83b263d-a66d-4931-b6be-863a94746522"
      },
      "source": [
        "# Coding Tasks - Week 1\n",
        "Welcome to the Python Programming Exercise Sheet!  \n",
        "In this exercise sheet, we will cover some of the fundamental concepts in Python programming.  \n",
        "Topics covered are: Declaring variables, data types, operations, and if-statements.  \n",
        "\n",
        "___\n",
        "**DEADLINE**: 14th May until 23:59  \n",
        "**Your name here**: Okajevo Wilfred\n",
        "\n",
        "**Your university mail**: wokajevo@uos.de\n",
        "___\n",
        "\n",
        "**Important information**:  \n",
        "In order to pass this sheet you need to achieve 10/20 points.  \n",
        "For the best possible grade you require 20/20 points, however, since some harder tasks may take a lot of time you don't have to pressure yourself.  \n",
        "If you complete any three tasks on a sheet you will definitely get a good grade for that sheet.  \n",
        "Hand in your sheet in studip in the respective folder until the deadline.  \n",
        "If you receive no email until a few days after submission you will have passed, the sample solution will also be uploaded around then.  \n",
        "If you receive an email you don't need to worry, you can fail one sheet and also your total points will also be taken into account for the final pass or fail.  "
      ]
    },
    {
      "cell_type": "markdown",
      "id": "3d0873eb-1f67-4d5b-bee4-9195b826a7cd",
      "metadata": {
        "id": "3d0873eb-1f67-4d5b-bee4-9195b826a7cd"
      },
      "source": [
        "## Task 1 Declaring variables (8 points)\n",
        "Please declare the following variables with the specific data types and values listed.  \n",
        "\n",
        " a) A string with the value \"hello world\"  \n",
        " b) An integer with the value \"-19\"  \n",
        " c) A float with the value \"7.29\"  \n",
        " d) A boolean value of \"False\"  \n",
        " e) A tuple containing the integers \"1\", \"2\", and the float \"4.56\"  \n",
        " f) A list containing the string \"a\", \"b\", and \"c\" as elements  \n",
        " g) The truth value of 9 is greater than or equal to 9  \n",
        " h) The result of 28 times 2 minus 14  "
      ]
    },
    {
      "cell_type": "code",
      "execution_count": 1,
      "id": "3ce63bc5-d7ec-44cc-916a-22f88aec11cf",
      "metadata": {
        "tags": [],
        "id": "3ce63bc5-d7ec-44cc-916a-22f88aec11cf"
      },
      "outputs": [],
      "source": [
        "a = \"hello world\"\n",
        "b = -19\n",
        "c = 7.29\n",
        "d = False\n",
        "e = (1, 2, 4.56)\n",
        "f = ['a', 'b', 'c'] # using the list method: list('abc') would still work\n",
        "g =  9 >= 9\n",
        "h = (28*2) - 14"
      ]
    },
    {
      "cell_type": "markdown",
      "id": "1cb7825b-a8f7-4658-8978-bb84c0831787",
      "metadata": {
        "id": "1cb7825b-a8f7-4658-8978-bb84c0831787"
      },
      "source": [
        "## Task 2 Implementing formulas (4 points)\n",
        "Please implement mathematical formulas in the cells below.  \n",
        "You are given four variables ```a``` ```b``` ```c```, and ```d``` at the start, and can chose any float or integer value for them to test your formula.  \n",
        "Note however that, depending on what you chose, you may run into division by zero errors or a negative squareroot, so chose carefully if you wish to change these."
      ]
    },
    {
      "cell_type": "code",
      "execution_count": 2,
      "id": "5c9ad341-7031-4a66-9d29-002c368fcac4",
      "metadata": {
        "tags": [],
        "id": "5c9ad341-7031-4a66-9d29-002c368fcac4"
      },
      "outputs": [],
      "source": [
        "a = 1\n",
        "b = 2\n",
        "c = 5.37\n",
        "d = 7.92"
      ]
    },
    {
      "cell_type": "markdown",
      "id": "49520ba5-d229-4866-97ab-14749a923167",
      "metadata": {
        "id": "49520ba5-d229-4866-97ab-14749a923167"
      },
      "source": [
        "### Formula 1\n",
        "$\\frac{A+B}{C+D}$  \n",
        "\"A plus B divided by C plus D\""
      ]
    },
    {
      "cell_type": "code",
      "execution_count": 3,
      "id": "66f3ae16-2db1-4da2-9e72-e670a0f193a7",
      "metadata": {
        "tags": [],
        "colab": {
          "base_uri": "https://localhost:8080/"
        },
        "id": "66f3ae16-2db1-4da2-9e72-e670a0f193a7",
        "outputId": "c0769693-f5b0-432b-c941-f3a4461bf5a2"
      },
      "outputs": [
        {
          "output_type": "stream",
          "name": "stdout",
          "text": [
            "0.22573363431151244\n"
          ]
        }
      ],
      "source": [
        "formular_one = (a+b)/(c+d)\n",
        "print(formular_one)"
      ]
    },
    {
      "cell_type": "markdown",
      "id": "2336ea10-ee79-43dc-abd3-55b5f03686f3",
      "metadata": {
        "id": "2336ea10-ee79-43dc-abd3-55b5f03686f3"
      },
      "source": [
        "## Formula 2\n",
        "$\\frac{A+B+C+D}{4}$  \n",
        "\"The sum of A, B, C, and D, divided by four\""
      ]
    },
    {
      "cell_type": "code",
      "execution_count": 4,
      "id": "54c7005e-b53b-4835-9eb3-ca755c229fc6",
      "metadata": {
        "tags": [],
        "id": "54c7005e-b53b-4835-9eb3-ca755c229fc6"
      },
      "outputs": [],
      "source": [
        "formular_two = (a+b+c+d)/4"
      ]
    },
    {
      "cell_type": "markdown",
      "id": "7834621c-1354-4ccd-9acd-d4111948e2fe",
      "metadata": {
        "id": "7834621c-1354-4ccd-9acd-d4111948e2fe"
      },
      "source": [
        "### Formula 3\n",
        "$\\frac{A^2+B^3}{1+\\frac{C}{D}}$  \n",
        "\"A to the power of 2 plus B to the power of 3, divided by 1 plus the quotient of C and D\""
      ]
    },
    {
      "cell_type": "code",
      "execution_count": 5,
      "id": "40cd88ff-a4b9-415f-ba77-64fe9e520c27",
      "metadata": {
        "tags": [],
        "colab": {
          "base_uri": "https://localhost:8080/"
        },
        "id": "40cd88ff-a4b9-415f-ba77-64fe9e520c27",
        "outputId": "d4ab1ae4-8680-4aef-d28e-1e4e0c6380ab"
      },
      "outputs": [
        {
          "output_type": "stream",
          "name": "stdout",
          "text": [
            "5.363431151241534\n"
          ]
        }
      ],
      "source": [
        "formular_three = (a**2 + b**3)/(1 + (c/d))\n",
        "print(formular_three)"
      ]
    },
    {
      "cell_type": "markdown",
      "id": "9403de5e-4eaa-4162-b3da-df6998483310",
      "metadata": {
        "id": "9403de5e-4eaa-4162-b3da-df6998483310"
      },
      "source": [
        "### Formula 4\n",
        "$\\sqrt[2]{A-B}$  \n",
        "\"The square root of A minus B\"  \n",
        "**Hint:** You can use the power of 1/2 instead here."
      ]
    },
    {
      "cell_type": "code",
      "execution_count": 18,
      "id": "d3e633e9-d34a-4cbb-a588-2bdb829f7ae3",
      "metadata": {
        "tags": [],
        "colab": {
          "base_uri": "https://localhost:8080/"
        },
        "id": "d3e633e9-d34a-4cbb-a588-2bdb829f7ae3",
        "outputId": "baa9119c-b366-487a-ec78-4fe5015c56fa"
      },
      "outputs": [
        {
          "output_type": "stream",
          "name": "stdout",
          "text": [
            "(6.123233995736766e-17+1j)\n"
          ]
        }
      ],
      "source": [
        "formular_four = (a-b)**(1/2)\n",
        "print(formular_four)"
      ]
    },
    {
      "cell_type": "markdown",
      "id": "9172e5ce-d407-4f43-878c-52fce64f6473",
      "metadata": {
        "tags": [],
        "id": "9172e5ce-d407-4f43-878c-52fce64f6473"
      },
      "source": [
        "## Task 3 Variables - Value Switching (3 points)\n",
        "\n",
        "Write a program that asks the user to enter two different numbers and then switches the values that are stored in a and b. Print the switched values as an output.\n",
        "\n",
        "**Hint:** You may need to look up ```input()``` function to gather information from the users."
      ]
    },
    {
      "cell_type": "code",
      "execution_count": 21,
      "id": "59915e6f-9be8-400e-bf78-8fe73bb13226",
      "metadata": {
        "tags": [],
        "colab": {
          "base_uri": "https://localhost:8080/"
        },
        "id": "59915e6f-9be8-400e-bf78-8fe73bb13226",
        "outputId": "104a7397-1537-4e4c-ac0a-7bc5b0eeded9"
      },
      "outputs": [
        {
          "output_type": "stream",
          "name": "stdout",
          "text": [
            "Enter the first number: 1\n",
            "Enter the second number: 2\n",
            "Before swapping: a = 1, b = 2\n",
            "After swapping: a = 2, b = 1\n"
          ]
        }
      ],
      "source": [
        "a = input(\"Enter the first number: \")\n",
        "b = input(\"Enter the second number: \")\n",
        "\n",
        "print(\"Before swapping: a = {}, b = {}\".format(a,b))\n",
        "\n",
        "a, b = b, a\n",
        "\n",
        "print(\"After swapping: a = {}, b = {}\".format(a,b))\n"
      ]
    },
    {
      "cell_type": "code",
      "execution_count": 22,
      "id": "cfb0c3a5-dffb-4616-b483-cc2193c24a8f",
      "metadata": {
        "tags": [],
        "colab": {
          "base_uri": "https://localhost:8080/"
        },
        "id": "cfb0c3a5-dffb-4616-b483-cc2193c24a8f",
        "outputId": "694a2ffa-07c7-49a0-f8d4-eaf3070f7ae2"
      },
      "outputs": [
        {
          "output_type": "stream",
          "name": "stdout",
          "text": [
            "2 1\n"
          ]
        }
      ],
      "source": [
        "print(a, b)"
      ]
    },
    {
      "cell_type": "markdown",
      "id": "37ce0d03-8047-467a-8d20-602342479514",
      "metadata": {
        "id": "37ce0d03-8047-467a-8d20-602342479514"
      },
      "source": [
        "## Task 4 If statements (5 points)\n",
        "Imagine that you are working at a theme park and selling tickets for the rollercoaster.  \n",
        "You are obliged to ask all visitors about their height (in cm) before selling them any tickets.  \n",
        "If they are 120cm or taller than that, then they are allowed to ride the rollercoaster and you need to ask how old they are.  \n",
        "Depending on their age, the amount that they have to pay differs:\n",
        "\n",
        "* If they are younger than 12: 5€\n",
        "* If they are 18 or younger: 8€\n",
        "* If they are older than 18: 15€\n",
        "\n",
        "Depending on the result change the value of the variables price (int) and allowed (bool) to match the specified conditions!\n",
        "\n",
        "**Hint:** Do not forget to inform the visitors shorter than 120cm that they cannot ride the rollercoaster at the moment.  \n",
        "You can adjust the code in the cell below to or use the input statement which is commented out to test for specific height and age combinations.  \n",
        "If someone is not allowed on the ride, then you do not need to give them a price obviously."
      ]
    },
    {
      "cell_type": "code",
      "execution_count": 24,
      "id": "80f52fbb-057c-499a-b802-78f60b3f1d30",
      "metadata": {
        "tags": [],
        "colab": {
          "base_uri": "https://localhost:8080/"
        },
        "id": "80f52fbb-057c-499a-b802-78f60b3f1d30",
        "outputId": "7c15144f-6d51-4cce-c66a-824f55992727"
      },
      "outputs": [
        {
          "output_type": "stream",
          "name": "stdout",
          "text": [
            "Enter your height in cm:\n",
            "120\n",
            "Enter your age:\n",
            "4\n",
            "You're allowed to ride the rollercoaster and Your ticket price is €5\n"
          ]
        }
      ],
      "source": [
        "\"\"\"# Initial input values\n",
        "height = 160\n",
        "age = 19\n",
        "\n",
        "# Initial values\n",
        "allowed = True\n",
        "price = 0\n",
        "\n",
        "\"\"\"\n",
        "allowed = True\n",
        "price = 0\n",
        "print(\"Enter your height in cm:\")\n",
        "height = int(input())\n",
        "print(\"Enter your age:\")\n",
        "age = int(input())\n",
        "\n",
        "# Check if the person is allowed to ride\n",
        "if height < 120:\n",
        "    allowed = False\n",
        "    print(\"Sorry, you're not tall enough to ride the rollercoaster.\")\n",
        "else:\n",
        "    # Check the age and set the price\n",
        "    if age < 12:\n",
        "        price = 5\n",
        "    elif age <= 18:\n",
        "        price = 8\n",
        "    else:\n",
        "        price = 15\n",
        "    print(\"You're allowed to ride the rollercoaster and Your ticket price is €\" + str(price))\n",
        "\n",
        "# If user is not allowed, price remains 0\n"
      ]
    },
    {
      "cell_type": "code",
      "execution_count": 25,
      "id": "25286276-e866-468c-b9ae-93cd52366b96",
      "metadata": {
        "tags": [],
        "colab": {
          "base_uri": "https://localhost:8080/"
        },
        "id": "25286276-e866-468c-b9ae-93cd52366b96",
        "outputId": "d46623d7-b5ca-4217-a82b-81d7ad3e4e45"
      },
      "outputs": [
        {
          "output_type": "stream",
          "name": "stdout",
          "text": [
            "The person (height=120,age=4) is  allowed to take the ride and their price is 5€\n"
          ]
        }
      ],
      "source": [
        "print(f'The person (height={height},age={age}) is {\"not\" if not allowed else \"\"} allowed to take the ride and their price is {price}€')"
      ]
    },
    {
      "cell_type": "code",
      "execution_count": null,
      "id": "42ff62a5-11f0-4eac-8c40-7e315f042e99",
      "metadata": {
        "id": "42ff62a5-11f0-4eac-8c40-7e315f042e99"
      },
      "outputs": [],
      "source": []
    }
  ],
  "metadata": {
    "kernelspec": {
      "display_name": "Python 3 (ipykernel)",
      "language": "python",
      "name": "python3"
    },
    "language_info": {
      "codemirror_mode": {
        "name": "ipython",
        "version": 3
      },
      "file_extension": ".py",
      "mimetype": "text/x-python",
      "name": "python",
      "nbconvert_exporter": "python",
      "pygments_lexer": "ipython3",
      "version": "3.8.8"
    },
    "colab": {
      "provenance": []
    }
  },
  "nbformat": 4,
  "nbformat_minor": 5
}