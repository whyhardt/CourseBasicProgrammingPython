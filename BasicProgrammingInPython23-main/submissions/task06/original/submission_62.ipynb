{
 "cells": [
  {
   "cell_type": "markdown",
   "metadata": {},
   "source": [
    "# Coding Tasks - Week 6\n",
    "Welcome to the Python Programming Exercise Sheet!  \n",
    "In this exercise sheet, we will cover some of the fundamental concepts in Python programming.  \n",
    "Topics covered are: Recall of previous concepts.\n",
    "\n",
    "___\n",
    "\n",
    "**DEADLINE**:  12th June until 12:15  \n",
    "**Your name here**: Laura Kinderknecht  \n",
    "**Your university mail**: lkinderknech@uni-osnabrueck.de\n",
    "\n",
    "___\n",
    "\n",
    "**Important information**:  \n",
    "In order to pass this sheet you need to achieve  /  points.  \n",
    "For the best possible grade you require  /  points, however, since some harder tasks may take a lot of time you don't have to pressure yourself.  \n",
    "If you complete any three tasks on a sheet you will definitely get a good grade for that sheet.  \n",
    "Hand in your sheet in studip in the respective folder until the deadline.  \n",
    "If you receive no email until a few days after submission you will have passed, the sample solution will also be uploaded around then.  \n",
    "If you receive an email you don't need to worry, you can fail one sheet and also your total points will also be taken into account for the final pass or fail.  "
   ]
  },
  {
   "cell_type": "markdown",
   "metadata": {},
   "source": [
    "## Tuples"
   ]
  },
  {
   "cell_type": "markdown",
   "metadata": {},
   "source": [
    "### Task 1 - City Population Tracker (3 points)\n",
    "\n",
    "Write a program that takes a list of cities and their corresponding populations as input. The program should calculate the total population of all the cities and determine the cities with the highest and lowest populations.\n",
    "\n",
    "Your program should perform the following steps:\n",
    "\n",
    "1. Define lists, where each list contains the name of a city and its population.\n",
    "2. Use a for loop to iterate over the lists and calculate the total population by adding up the populations of all the cities.\n",
    "3. Use if statements to determine the city with the highest population and the city with the lowest population.\n",
    "4. Print the total population of all the cities, as well as the names and populations of the cities with the highest and lowest populations.\n",
    "\n",
    "In this task, you'll need to use lists to store the cities and their populations. You'll iterate over the list using a for loop, perform calculations to determine the total population, and find the cities with the highest and lowest populations using if statements. Finally, you'll print the population summary and the details of the cities with the highest and lowest populations.\n",
    "\n",
    "**Hint:** Using lambda function might be useful when finding the cities with the highest and lowest populations."
   ]
  },
  {
   "cell_type": "code",
   "execution_count": 36,
   "metadata": {},
   "outputs": [
    {
     "name": "stdout",
     "output_type": "stream",
     "text": [
      "[['Tokyo', '39'], ['Jakarta', '35'], ['Chongqing', '32'], ['Seoul', '26']]\n",
      "\n",
      "Population Summary:\n",
      "Total population of all cities: 132\n",
      "\n",
      "City with the highest population:\n",
      "Name: Tokyo\n",
      "Population: 39\n",
      "\n",
      "City with the lowest population:\n",
      "Name: Seoul\n",
      "Population: 26\n"
     ]
    }
   ],
   "source": [
    "# Define an empty list to store city population tuples\n",
    "cities = []\n",
    "\n",
    "# Get the number of cities from the user\n",
    "num_cities = int(input(\"Enter the number of cities: \"))\n",
    "\n",
    "# Iterate over the range of the number of cities\n",
    "for i in range(num_cities):\n",
    "    #your code here  \n",
    "    city = list(input(\"Enter a city name and its population - seperated by space: \").split())\n",
    "    cities.append(city)\n",
    "\n",
    "print(cities)\n",
    "\n",
    "# Calculate the total population\n",
    "total_population = sum(int(city[1]) for city in cities)\n",
    "\n",
    "# Find the city with the highest population\n",
    "highest_city = max(cities, key = lambda x: x[1])\n",
    "\n",
    "# Find the city with the lowest population\n",
    "lowest_city = min(cities, key = lambda x: x[1])\n",
    "\n",
    "# Print the population summary\n",
    "print(\"\\nPopulation Summary:\")\n",
    "print(f\"Total population of all cities: {total_population}\\n\")\n",
    "\n",
    "# Print the city with the highest population\n",
    "print(\"City with the highest population:\")\n",
    "print(f\"Name: {highest_city[0]}\")\n",
    "print(f\"Population: {highest_city[1]}\\n\")\n",
    "\n",
    "# Print the city with the lowest population\n",
    "print(\"City with the lowest population:\")\n",
    "print(f\"Name: {lowest_city[0]}\")\n",
    "print(f\"Population: {lowest_city[1]}\")\n"
   ]
  },
  {
   "cell_type": "markdown",
   "metadata": {},
   "source": [
    "### Task 2 -  Student Grades  (2 points)\n",
    "You are a teacher and you need to calculate the average grade for each student in your class. Each student has four subject grades: Math, Science, English, and History. You have a list of tuples, where each tuple contains the student's name followed by their subject grades. Write a program that calculates and prints the average grade for each student in the following format:\n",
    "\n",
    "Alice: Average Grade = 88.75\n",
    "\n",
    "Bob: Average Grade = 79.0\n",
    "\n",
    "Claire: Average Grade = 91.0\n",
    "\n",
    "\n",
    "**Instructions:**\n",
    "1. Define a function named ```calculate_average``` that takes a tuple of grades as input and returns the average grade.\n",
    "2. Iterate over each tuple in the grades list.\n",
    "3. Extract the student's name and grades from each tuple.\n",
    "4. Call the ```calculate_average``` function with the grades tuple to calculate the average grade.\n",
    "5. Print the student's name and average grade using the provided format.\n",
    "\n",
    "Note: You can assume that each tuple in the list will have the correct format and number of grades.\n",
    "\n",
    "This task will test your understanding of tuples, iteration, and function usage. Good luck!"
   ]
  },
  {
   "cell_type": "code",
   "execution_count": 37,
   "metadata": {},
   "outputs": [
    {
     "name": "stdout",
     "output_type": "stream",
     "text": [
      "Alice: Average Grade = 88.75\n",
      "Bob: Average Grade = 79.0\n",
      "Claire: Average Grade = 91.0\n"
     ]
    }
   ],
   "source": [
    "def calculate_average(grades):\n",
    "    output = 0\n",
    "    for grade in grades:\n",
    "        output += grade\n",
    "    output /= len(grades)\n",
    "    return output\n",
    "    \n",
    "    \n",
    "grades = [(\"Alice\", 85, 90, 92, 88),\n",
    "          (\"Bob\", 76, 82, 80, 78),\n",
    "          (\"Claire\", 92, 88, 90, 94)]\n",
    "\n",
    "for student_grades in grades:\n",
    "    name = student_grades[0]\n",
    "    average_grade = calculate_average(student_grades[1:5])\n",
    "    print(f\"{name}: Average Grade = {average_grade}\")\n",
    "    "
   ]
  },
  {
   "cell_type": "markdown",
   "metadata": {},
   "source": [
    "## Sets"
   ]
  },
  {
   "cell_type": "markdown",
   "metadata": {},
   "source": [
    "### Task 3 - Set Operations Calculators   (2 points)\n",
    "\n",
    "Write a Python program that defines the following functions to perform set operations:\n",
    "\n",
    "1. union(set1, set2): This function takes two sets as input and returns their union.\n",
    "2. intersection(set1, set2): This function takes two sets as input and returns their intersection.\n",
    "3. difference(set1, set2): This function takes two sets as input and returns the difference between the first set and the second set (i.e., elements in set1 that are not present in set2).\n",
    "4. symmetric_difference(set1, set2): This function takes two sets as input and returns their symmetric difference (i.e., elements that are present in either set1 or set2, but not both).\n",
    "\n",
    "Your program should then prompt the user to enter the elements of two sets and call the respective functions to perform the set operations. The results should be displayed to the user."
   ]
  },
  {
   "cell_type": "code",
   "execution_count": 39,
   "metadata": {},
   "outputs": [
    {
     "name": "stdout",
     "output_type": "stream",
     "text": [
      "Union: {1, 2, 3, 4, 5, 6}\n",
      "Intersection: {3, 4}\n",
      "Difference (Set1 - Set2): {1, 2}\n",
      "Symmetric Difference: {1, 2, 5, 6}\n"
     ]
    }
   ],
   "source": [
    "set1={1, 2, 3, 4} \n",
    "set2={3, 4, 5, 6}\n",
    "\n",
    "def union(set1, set2):\n",
    "    union = list(set1)  #initialize union list with all element of set1\n",
    "    for elem in set2:   #iterate through elements in set2\n",
    "        if elem not in union:   #if an element is not already in the union list\n",
    "            union.append(elem)  #add to the list\n",
    "    return set(union)\n",
    "    \n",
    "def intersection(set1, set2):\n",
    "    intersection = []\n",
    "    for elem1 in set1:    #iterate through the elements of set1\n",
    "        for elem2 in set2:   #iterate through the elements of set2\n",
    "            if elem1 == elem2:   #if the elements are the same\n",
    "                intersection.append(elem1)   #append elem1 to the intersection list\n",
    "    return set(intersection)\n",
    "    \n",
    "def difference(set1, set2):\n",
    "    difference = []\n",
    "    for elem in set1:    #iterate through the elements of set1\n",
    "        if not elem in set2:   #if the current element is not in set2\n",
    "            difference.append(elem)   #append to the difference list\n",
    "    return set(difference)\n",
    "\n",
    "\n",
    "def symmetric_difference(set1, set2):\n",
    "    sym_diff = []\n",
    "    for elem in set1:    #iterate through the elements of set1\n",
    "        if not elem in set2:    #if the current element is not in set2\n",
    "            sym_diff.append(elem)    #append to the sym_diff list\n",
    "    \n",
    "    for elem in set2:    #iterate through the elements of set2\n",
    "        if not elem in set1:    #if the current elements is not in set1\n",
    "            sym_diff.append(elem)   #append to sym_diff list\n",
    "    \n",
    "    return set(sym_diff)\n",
    "\n",
    "# Perform the set operations using the defined functions\n",
    "set_union = union(set1, set2)\n",
    "set_intersection = intersection(set1, set2)\n",
    "set_difference = difference(set1, set2)\n",
    "set_symmetric_difference = symmetric_difference(set1, set2)\n",
    "\n",
    "# Display the results\n",
    "print(\"Union:\", set_union)\n",
    "print(\"Intersection:\", set_intersection)\n",
    "print(\"Difference (Set1 - Set2):\", set_difference)\n",
    "print(\"Symmetric Difference:\", set_symmetric_difference)"
   ]
  },
  {
   "cell_type": "markdown",
   "metadata": {},
   "source": [
    "### Task 4 - Unique Elements Counter   (3 points)\n",
    "\n",
    "Write a Python program that defines a function called ```count_unique_elements```  which takes a list as input and returns the count of unique elements in the list and performs the following steps:\n",
    "\n",
    "1. Define the function called ```count_unique_elements```.\n",
    "2. Prompt the user to enter a list of numbers.\n",
    "3. Convert the numbers from strings to integers.\n",
    "4. Call the ```count_unique_elements``` function and display the result.\n",
    "\n",
    "**Hint:** List comprehension might help you convert the numbers from strings to integers."
   ]
  },
  {
   "cell_type": "code",
   "execution_count": 40,
   "metadata": {},
   "outputs": [
    {
     "name": "stdout",
     "output_type": "stream",
     "text": [
      "Number of unique elements: [1, 2, 3, 14, 4, 15]\n"
     ]
    }
   ],
   "source": [
    "def count_unique_elements(lst):\n",
    "    \n",
    "    unique = []    #create empty list to store unique values in\n",
    "    \n",
    "    for elem in lst:   #iterate through the given numbers\n",
    "        if not elem in unique:  #only append those numbers to the unique list, that aren't in the list already\n",
    "            unique.append(elem)\n",
    "    \n",
    "    return unique   #return the list with unique values\n",
    "    \n",
    "# Prompt the user to enter a list of numbers\n",
    "user_input = input(\"Enter a list of numbers (separated by spaces): \")\n",
    "\n",
    "#split into strings of numbers\n",
    "numbers = user_input.split()\n",
    "\n",
    "#convert each string of numbers into an integer\n",
    "numbers = [int(x) for x in numbers]\n",
    "\n",
    "# Call the count_unique_elements function and display the result\n",
    "unique_count = count_unique_elements(numbers)\n",
    "print(\"Number of unique elements:\", unique_count)"
   ]
  },
  {
   "cell_type": "markdown",
   "metadata": {},
   "source": [
    "## Dictionaries"
   ]
  },
  {
   "cell_type": "markdown",
   "metadata": {},
   "source": [
    "### Task 5 - Book Collection Manager (5 points)\n",
    "\n",
    "You are working on a project that requires managing a book collection. You need to create a program that uses a dictionary to store information about the books. Each book will have a unique ID as the key and a dictionary of details as the value. The details of each book include the title, author, and publication year.\n",
    "\n",
    "Implement the following functions to interact with the book collection:\n",
    "\n",
    "1. add_book(collection, book_id, title, author, year): Adds a new book to the collection with the given book ID, title, author, and publication year.\n",
    "2. remove_book(collection, book_id): Removes a book from the collection with the given book ID.\n",
    "3. search_book(collection, book_id): Searches for a book in the collection with the given book ID and displays its details (title, author, year) if found.\n",
    "4. display_all_books(collection): Displays the details of all books in the collection."
   ]
  },
  {
   "cell_type": "code",
   "execution_count": 42,
   "metadata": {},
   "outputs": [
    {
     "name": "stdout",
     "output_type": "stream",
     "text": [
      "('Python Programming', 'John Smith', 2022)\n",
      "('Web Development Guide', 'Bob Williams', 2020)\n",
      "('Python Programming', 'John Smith', 2022)\n",
      "('Web Development Guide', 'Bob Williams', 2020)\n"
     ]
    }
   ],
   "source": [
    "def add_book(collection, book_id, title, author, year):\n",
    "    book_collection[book_id] = title, author, year  #add key-value pair to dictionary - which has the given ID as its key and its details as the value\n",
    "    \n",
    "def remove_book(collection, book_id):\n",
    "    book_collection.pop(book_id) #remove the book by its book_id\n",
    "    \n",
    "def search_book(collection, book_id):\n",
    "    print(book_collection[book_id]) #display the details of the searched book\n",
    "\n",
    "def display_all_books(collection):\n",
    "    for book in collection:    #for all books in the given collection\n",
    "        print(collection[book])  #print details of the book\n",
    "    \n",
    "    \n",
    "# Create an empty book collection\n",
    "book_collection = {}\n",
    "\n",
    "# Perform operations on the book collection\n",
    "add_book(book_collection, 1, \"Python Programming\", \"John Smith\", 2022)\n",
    "add_book(book_collection, 2, \"Data Science Basics\", \"Alice Johnson\", 2021)\n",
    "add_book(book_collection, 3, \"Web Development Guide\", \"Bob Williams\", 2020)\n",
    "\n",
    "remove_book(book_collection, 2)\n",
    "\n",
    "search_book(book_collection, 1)\n",
    "search_book(book_collection, 3)\n",
    "\n",
    "display_all_books(book_collection)"
   ]
  },
  {
   "cell_type": "markdown",
   "metadata": {},
   "source": [
    "### Task 6 -  Student Grade Tracker   (5 points)\n",
    "\n",
    "Create a class called ```StudentGradeTracker``` that represents a grade tracker for students. The class should have the following methods:\n",
    "\n",
    "1. init(self): Initializes an empty dictionary to store student grades.\n",
    "2. add_grade(self, student_id, grade): Adds a grade to the grade tracker for the given student. The student_id should be the key, and the grade should be the value in the dictionary. If the student_id already exists in the grade tracker, print a message indicating that the grade has been updated.\n",
    "3. remove_grade(self, student_id): Removes the grade for the given student from the grade tracker. If the student_id is found and removed, print a message indicating that the grade has been removed. If the student_id is not found in the grade tracker, print a message indicating that the student does not have a grade recorded.\n",
    "4. display_grades(self): Displays all the grades in the grade tracker. If the grade tracker is not empty, print each student's grade on a new line in the format: \"Student ID: Grade\". If the grade tracker is empty, print a message indicating that no grades have been recorded.\n",
    "\n",
    "**Instructions:**\n",
    "\n",
    "1. Implement the StudentGradeTracker class with the methods described above.\n",
    "2. Create an instance of the StudentGradeTracker class.\n",
    "3. Add at least three grades to the grade tracker using the add_grade() method.\n",
    "4. Display all the grades in the grade tracker using the display_grades() method.\n",
    "5. Remove one grade from the grade tracker using the remove_grade() method.\n",
    "6. Display the updated grades in the grade tracker using the display_grades() method."
   ]
  },
  {
   "cell_type": "code",
   "execution_count": 33,
   "metadata": {},
   "outputs": [
    {
     "name": "stdout",
     "output_type": "stream",
     "text": [
      "001: 85\n",
      "002: 92\n",
      "003: 78\n",
      "The grade of the student with the ID: 002 has been removed.\n",
      "001: 85\n",
      "003: 78\n"
     ]
    }
   ],
   "source": [
    "class StudentGradeTracker:\n",
    "    def __init__(self):\n",
    "        self.dictt = {}\n",
    "        \n",
    "    def add_grade(self, student_id, grade):\n",
    "        if student_id in self.dictt:\n",
    "            print(f\"The grade of the student with the ID: {self.student_id} has been updated.\")\n",
    "        self.dictt[student_id] = grade\n",
    "        \n",
    "    def remove_grade(self, student_id):\n",
    "        if not student_id in self.dictt:\n",
    "            print(f\"The student with the ID: {student_id} does not have a grade recorded.\")\n",
    "        else:\n",
    "            self.dictt.pop(student_id)\n",
    "            print(f\"The grade of the student with the ID: {student_id} has been removed.\")\n",
    "        \n",
    "    def display_grades(self):\n",
    "        if not self.dictt == {}:\n",
    "            for student in self.dictt:    #for all students in the grade_tracker\n",
    "                print(f\"{student}: {self.dictt[student]}\")  #print grade of student\n",
    "    \n",
    "        elif self.dictt == {}:\n",
    "            print(\"No grades have been recorded yet.\")\n",
    "        \n",
    "# Create an instance of the StudentGradeTracker class\n",
    "grade_tracker = StudentGradeTracker()\n",
    "\n",
    "# Add grades to the tracker\n",
    "grade_tracker.add_grade(\"001\", 85)\n",
    "grade_tracker.add_grade(\"002\", 92)\n",
    "grade_tracker.add_grade(\"003\", 78)\n",
    "\n",
    "# Display the grades\n",
    "grade_tracker.display_grades()\n",
    "\n",
    "# Remove a grade\n",
    "grade_tracker.remove_grade(\"002\")\n",
    "\n",
    "# Display the updated grades\n",
    "grade_tracker.display_grades()\n"
   ]
  }
 ],
 "metadata": {
  "kernelspec": {
   "display_name": "Python 3 (ipykernel)",
   "language": "python",
   "name": "python3"
  },
  "language_info": {
   "codemirror_mode": {
    "name": "ipython",
    "version": 3
   },
   "file_extension": ".py",
   "mimetype": "text/x-python",
   "name": "python",
   "nbconvert_exporter": "python",
   "pygments_lexer": "ipython3",
   "version": "3.10.9"
  }
 },
 "nbformat": 4,
 "nbformat_minor": 2
}
