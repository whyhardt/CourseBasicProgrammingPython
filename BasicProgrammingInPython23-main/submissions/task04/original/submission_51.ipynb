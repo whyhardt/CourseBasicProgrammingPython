{
 "cells": [
  {
   "cell_type": "markdown",
   "metadata": {},
   "source": [
    "# Coding Tasks - Week 4\n",
    "Welcome to the Python Programming Exercise Sheet!  \n",
    "In this exercise sheet, we will cover some of the fundamental concepts in Python programming.  \n",
    "Topics covered are: Functions, recursion and variable scope.\n",
    "\n",
    "___\n",
    "**DEADLINE**: 29th May until 12:15  \n",
    "**Your name here**: Sarina Scheerhorn   \n",
    "**Your university mail**: sscheerhorn@uos.de\n",
    "___\n",
    "\n",
    "**Important information**:  \n",
    "In order to pass this sheet you need to achieve 10/20 points.  \n",
    "For the best possible grade you require 20/20 points, however, since some harder tasks may take a lot of time you don't have to pressure yourself.  \n",
    "If you complete any three tasks on a sheet you will definitely get a good grade for that sheet.  \n",
    "Hand in your sheet in studip in the respective folder until the deadline.  \n",
    "If you receive no email until a few days after submission you will have passed, the sample solution will also be uploaded around then.  \n",
    "If you receive an email you don't need to worry, you can fail one sheet and also your total points will also be taken into account for the final pass or fail.  "
   ]
  },
  {
   "cell_type": "markdown",
   "metadata": {},
   "source": [
    "## Task 1 Simple mathematical functions (2 points)\n",
    "### Sum function\n",
    "Write a function that takes different numbers as parameters, and returns the sum of all numbers.  \n",
    "The function should be called ```get_sum``` and take in four numbers in the form of four parameters.  \n",
    "Make sure to also test your function below to check if it works properly."
   ]
  },
  {
   "cell_type": "code",
   "execution_count": null,
   "metadata": {},
   "outputs": [],
   "source": [
    "def get_sum(#your code here):\n",
    "    #your code here"
   ]
  },
  {
   "cell_type": "code",
   "execution_count": null,
   "metadata": {
    "tags": []
   },
   "outputs": [],
   "source": [
    "get_sum(1,2,3,4)"
   ]
  },
  {
   "cell_type": "markdown",
   "metadata": {},
   "source": [
    "### Area of a circle\n",
    "Write a function ```circle_area``` which takes in the radius of a circle as a float number.  \n",
    "Using ```pi```, as imported from the math module ```math``` may be helpful here.  \n",
    "Remember the formula for getting the area from a circle with known radius is $A=\\pi r^2$.  "
   ]
  },
  {
   "cell_type": "code",
   "execution_count": null,
   "metadata": {
    "tags": []
   },
   "outputs": [],
   "source": [
    "from math import pi\n",
    "print(pi)"
   ]
  },
  {
   "cell_type": "code",
   "execution_count": null,
   "metadata": {
    "tags": []
   },
   "outputs": [],
   "source": [
    "def circle_area(#your code here):\n",
    "    #your code here"
   ]
  },
  {
   "cell_type": "code",
   "execution_count": null,
   "metadata": {
    "tags": []
   },
   "outputs": [],
   "source": [
    "circle_area(2.34)"
   ]
  },
  {
   "cell_type": "markdown",
   "metadata": {
    "tags": []
   },
   "source": [
    "## Task 2 Recall of  loops and lists (3 poins)\n",
    "Write a function ```intersection``` which receives two lists as arguments and returns another list containing all items that are present in both lists.  \n",
    "For example, giving it a list ```[1,2,3,4]``` and a list ```[3,4,5,6]``` should return ```[3,4]```.  "
   ]
  },
  {
   "cell_type": "code",
   "execution_count": null,
   "metadata": {},
   "outputs": [],
   "source": [
    "def intersection(#your code here):\n",
    "    #your code here"
   ]
  },
  {
   "cell_type": "code",
   "execution_count": null,
   "metadata": {},
   "outputs": [],
   "source": [
    "list_a = [1, 2, 3, 4, 5]\n",
    "list_b = [3, 4, 5, 6, 7]\n",
    "\n",
    "intersection(list_a, list_b)  "
   ]
  },
  {
   "cell_type": "markdown",
   "metadata": {},
   "source": [
    "## Task 3 Vowel removal (4 points)\n",
    "Write a function ```remove_vowels``` that takes a string as input and returns a modified string with all the vowels removed.  \n",
    "Vowels are the letters \"a\", \"e\", \"i\", \"o\", and \"u\".  \n",
    "The output string should have all the remaining characters in the original string, but without any vowels.  \n",
    "This task requires knowledge of string manipulation and the use of functions to perform specific tasks on a string.  \n",
    "\n",
    "**Hint:** The function should be designed to remove all occurrences of these letters, regardless of whether they are capitalized or lowercase."
   ]
  },
  {
   "cell_type": "code",
   "execution_count": null,
   "metadata": {},
   "outputs": [],
   "source": [
    "def remove_vowels(string):\n",
    "    #your code here"
   ]
  },
  {
   "cell_type": "code",
   "execution_count": null,
   "metadata": {},
   "outputs": [],
   "source": [
    "my_str=input(\"Enter a text to remove the vowels:\")\n",
    "remove_vowels(my_str)"
   ]
  },
  {
   "cell_type": "markdown",
   "metadata": {},
   "source": [
    "## Task 4 Prime Number Checker (5 points)\n",
    "\n",
    "Write a function ```is_prime``` that takes a number as input and returns ```True``` if the number is a prime number, and ```False``` otherwise.  \n",
    "**Hint:** A prime number is a number that is only divisible by 1 and itself. Also note that 0 and 1 are not prime numbers."
   ]
  },
  {
   "cell_type": "code",
   "execution_count": null,
   "metadata": {},
   "outputs": [],
   "source": [
    "def is_prime(#your code here):\n",
    "    #your code here"
   ]
  },
  {
   "cell_type": "code",
   "execution_count": null,
   "metadata": {},
   "outputs": [],
   "source": [
    "is_prime(5)"
   ]
  },
  {
   "cell_type": "markdown",
   "metadata": {},
   "source": [
    "## Task 5 Recursion (6 points)\n",
    "### Calculating the nth Fibonacci Number Using Recursion (3/6 points)\n",
    "The Fibonacci sequence is a series of numbers in which each number is the sum of the two preceding ones. In this question, we will focus on calculating the nth Fibonacci number using recursion. Write a recursive function **fibonacci** that takes an input **n** and returns the nth Fibonacci number. Assume that the Fibonacci sequence starts with 0 as the 1st number and 1 as the 2nd number.   \n",
    "To solve this problem using recursion, we break it down into smaller subproblems. For any value of n, the nth Fibonacci number can be obtained by summing the (n-1)th and (n-2)th Fibonacci numbers.\n",
    "\n",
    "**Hint:** Remember to cover both the recursive case and the base case, else you end up with an infinite loop."
   ]
  },
  {
   "cell_type": "code",
   "execution_count": null,
   "metadata": {},
   "outputs": [],
   "source": [
    "def fibonacci(#your code here):\n",
    "    #your code here"
   ]
  },
  {
   "cell_type": "code",
   "execution_count": null,
   "metadata": {},
   "outputs": [],
   "source": [
    "n = int(input(\"Enter the value of n: \"))\n",
    "result = fibonacci(n)\n",
    "print(f\"The {n}th Fibonacci number is: {result}\")"
   ]
  },
  {
   "cell_type": "markdown",
   "metadata": {
    "tags": []
   },
   "source": [
    "### Greatest common divisor (3/6 points)\n",
    "Write a function ```gcd``` that takes in two integers and returns their greatest common divisor.  \n",
    "The greatest common divisor is the integer that will result in a remainder of zero if used as divisor for both integers.  \n",
    "If the gcd is \"c\", and we have two numbers \"a\" and \"b\", then both \"remainder of a divided by c\" and \"remainder of b divided by c\" will yield 0.  \n",
    "\n",
    "In case you don't know what the concept of greatest common divisor is, feel free to read this explanation or search [here](https://en.wikipedia.org/wiki/Greatest_common_divisor).\n",
    "\n",
    "Submitting any working solution will give you three points, submitting a working solution with recursion will give you four.\n",
    "\n",
    "**Explanation for a recursive solution**  \n",
    "Since this task is a bit harder, we will actually give you, in text, the idea of the recursion in the algorithm.  \n",
    "Given a call with the values ```gcd(a, b)```, if you were to do a recursive call with ```gcd(b, a % b)``` every time you have not found a common divisor, you will eventually arrive at one.  \n",
    "Think of the following cases to see why:\n",
    "\n",
    "---\n",
    "Same number case, the gcd is either of the two numbers:  \n",
    "(a=10,b=10, resulting in 10 % 10 = 0, yielding gcd=10)\n",
    "\n",
    "---\n",
    "One-sided case (working direction):  \n",
    "(a=15, b=5, resulting in 15 % 5 = 0, yielding gcd=5)\n",
    "\n",
    "---\n",
    "One-sided case (non-working direction):  \n",
    "(a=5, b=15, resulting in 5 % 15 = 5, we now switch around a and b if we call gcd(b, a % b))  \n",
    "(a=15, b=5, resulting in 15 % 5 = 0, yielding gcd=5)\n",
    "\n",
    "---\n",
    "Unresolved case (neither direction works yet):  \n",
    "(a=168, b=20, resulting in 168 % 20 = 8, then we call gcd(20, 8))  \n",
    "(a=20, b=8, resulting in 20 % 8 = 4, then we call gcd(8, 4))  \n",
    "(a=8, b=4, resulting in 8 % 4 = 0, then we call gcd(4, 0))\n",
    "\n",
    "---\n",
    "**All these cases have in common that they, in the end, yield 0 for b and a value for a, take from that information what you want for the base case ;)**"
   ]
  },
  {
   "cell_type": "code",
   "execution_count": null,
   "metadata": {
    "tags": []
   },
   "outputs": [],
   "source": [
    "def gcd(#your code here):\n",
    "    #your code here"
   ]
  },
  {
   "cell_type": "code",
   "execution_count": null,
   "metadata": {
    "tags": []
   },
   "outputs": [],
   "source": [
    "a = int(input(\"Enter first number: \"))\n",
    "b = int(input(\"Enter second number: \"))\n",
    "\n",
    "print(\"GCD of\", a, \"and\", b, \"is:\", gcd(a, b))"
   ]
  }
 ],
 "metadata": {
  "kernelspec": {
   "display_name": "Python 3 (ipykernel)",
   "language": "python",
   "name": "python3"
  },
  "language_info": {
   "codemirror_mode": {
    "name": "ipython",
    "version": 3
   },
   "file_extension": ".py",
   "mimetype": "text/x-python",
   "name": "python",
   "nbconvert_exporter": "python",
   "pygments_lexer": "ipython3",
   "version": "3.8.8"
  }
 },
 "nbformat": 4,
 "nbformat_minor": 4
}
