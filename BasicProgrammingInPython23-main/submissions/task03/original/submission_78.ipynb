{
 "cells": [
  {
   "cell_type": "markdown",
   "metadata": {},
   "source": [
    "# Coding Tasks - Week 3\n",
    "Welcome to the Python Programming Exercise Sheet!  \n",
    "In this exercise sheet, we will cover some of the fundamental concepts in Python programming.  \n",
    "Topics covered are: For- and While-Loops and list methods.\n",
    "\n",
    "___\n",
    "**DEADLINE**: 15th May 12:15  \n",
    "**Your name here**: Meret Wilczek  \n",
    "**Your university mail**: mwilczek@uos.de\n",
    "___\n",
    "\n",
    "**Important information**:  \n",
    "In order to pass this sheet you need to achieve 10/20 points.  \n",
    "For the best possible grade you require 20/20 points, however, since some harder tasks may take a lot of time you don't have to pressure yourself.  \n",
    "If you complete any three tasks on a sheet you will definitely get a good grade for that sheet.  \n",
    "Hand in your sheet in studip in the respective folder until the deadline.  \n",
    "If you receive no email until a few days after submission you will have passed, the sample solution will also be uploaded around then.  \n",
    "If you receive an email you don't need to worry, you can fail one sheet and also your total points will also be taken into account for the final pass or fail.  "
   ]
  },
  {
   "cell_type": "markdown",
   "metadata": {},
   "source": [
    "## Task 1 Looping over strings (4 points)\n",
    "\n",
    "Given the string below, print each character of the string and count the number of vowels using a loop structure.  \n",
    "Finally, print the number of vowels (AEIOUaeiou) as an output, as stored in the variable ```vowel_count```.  \n",
    "**Hint:** You may want to check again what the ```in``` operator in python does for statements like ```'A' in string```."
   ]
  },
  {
   "cell_type": "code",
   "execution_count": null,
   "metadata": {
    "tags": []
   },
   "outputs": [],
   "source": [
    "my_string = \"Summer is coming!\"\n",
    "vowel_count = 0\n",
    "vowels = 'aeiou'\n",
    "for each_char in my_string:\n",
    "    if each_char in vowels:\n",
    "        vowel_count += 1 \n",
    "        \n",
    "print(\"The number of vowels is: \", vowel_count)"
   ]
  },
  {
   "cell_type": "markdown",
   "metadata": {},
   "source": [
    "## Task 2 For and While conversion (6 points)\n",
    "For each part you are given an empty list ```result```, and a for or while loop.  \n",
    "Convert the for-loops into while-loops and the while-loops into for-loops such that the result will be identical.  \n",
    "\n",
    "**Hint:** You may use either ```result += [element]``` or ```result.append(element)``` for the element you wish to add to the ```result``` list.  \n",
    "You may find the usage of the condition ```number % 2 == 0``` useful for an if statement in a while loop for the first task."
   ]
  },
  {
   "cell_type": "markdown",
   "metadata": {},
   "source": [
    "### Part 1 - Even numbers from 2 to 20\n",
    "A loop which creates a list of even numbers from 2 to 20.  \n",
    "Convert to a while loop."
   ]
  },
  {
   "cell_type": "code",
   "execution_count": null,
   "metadata": {
    "tags": []
   },
   "outputs": [],
   "source": [
    "result = []\n",
    "for number in range(2, 21, 2):\n",
    "    result += [number]\n",
    "print(result)"
   ]
  },
  {
   "cell_type": "code",
   "execution_count": null,
   "metadata": {
    "tags": []
   },
   "outputs": [],
   "source": [
    "result = []\n",
    "\n",
    "number = 1\n",
    "while number <= 20: \n",
    "    if number % 2 == 0: \n",
    "        result += [number] \n",
    "    number = number + 1\n",
    "    \n",
    "print(result)"
   ]
  },
  {
   "cell_type": "markdown",
   "metadata": {},
   "source": [
    "### Part 2 - Snake trivia\n",
    "A loop over a list of strings, then add every string which is longer than 8 characters to the ```result``` list.  "
   ]
  },
  {
   "cell_type": "code",
   "execution_count": null,
   "metadata": {
    "tags": []
   },
   "outputs": [],
   "source": [
    "python_text = \"The Pythonidae, commonly known as pythons, are a family of nonvenomous snakes found in Africa, Asia, and Australia. Among its members are some of the largest snakes in the world. Ten genera and 39 species are currently recognized. Being naturally non-venomous, pythons must constrict their prey to suffocate it prior to consumption. Pythons will typically strike at and bite their prey of choice to gain hold of it; they then must use physical strength to constrict their prey, by coiling their muscular bodies around the animal, effectively suffocating it before swallowing whole. This is in stark contrast to venomous snakes such as the rattlesnake, for example, which delivers a swift, venomous bite but releases, waiting as the prey succumbs to envenomation before being consumed. Collectively, the pythons are well-documented and -studied as constrictors, much like other non-venomous snakes, including the boas and even kingsnakes of the New World.\"\n",
    "python_text = python_text.split(\" \")\n",
    "print(python_text)"
   ]
  },
  {
   "cell_type": "code",
   "execution_count": null,
   "metadata": {
    "tags": []
   },
   "outputs": [],
   "source": [
    "result = []\n",
    "i = 0\n",
    "\n",
    "while i < len(python_text):\n",
    "    if len(python_text[i]) > 8:\n",
    "        result += [python_text[i]]\n",
    "    \n",
    "    i += 1\n",
    "\n",
    "print(result)"
   ]
  },
  {
   "cell_type": "code",
   "execution_count": null,
   "metadata": {
    "tags": []
   },
   "outputs": [],
   "source": [
    "result = []\n",
    "\n",
    "for i in python_text:\n",
    "    if len(i) > 8: \n",
    "        result += [i]\n",
    "    \n",
    "\n",
    "print(result)"
   ]
  },
  {
   "cell_type": "markdown",
   "metadata": {},
   "source": [
    "## Task 3 List methods (5 points)\n",
    "Examine the list methods and find methods suitable for the following four tasks.  \n",
    "**Important:** Some methods will alter the object they are called on and some methods may or may not return something. For example, ```string = string.split(\",\")``` requires the re-assignment to overwrite ```string```, while ```list.remove()``` does not need a re-assignment and will alter the list. For the following methods, test and read so you know which is the case where."
   ]
  },
  {
   "cell_type": "code",
   "execution_count": null,
   "metadata": {
    "tags": []
   },
   "outputs": [],
   "source": [
    "print(dir(list))"
   ]
  },
  {
   "cell_type": "markdown",
   "metadata": {},
   "source": [
    "### Part 1\n",
    "Sort the following list alphabetically from A-Z:"
   ]
  },
  {
   "cell_type": "code",
   "execution_count": 4,
   "metadata": {
    "tags": []
   },
   "outputs": [
    {
     "name": "stdout",
     "output_type": "stream",
     "text": [
      "['Pluto', 'Pete', 'Daisy Duck', 'Scrooge McDuck', 'Track', 'Trick', 'Tick', 'Goofy', 'Mickey Mouse', 'Minnie Mouse', 'Donald Duck']\n"
     ]
    }
   ],
   "source": [
    "names = [\"Donald Duck\", \"Minnie Mouse\", \"Mickey Mouse\", \"Goofy\", \"Tick\", \"Trick\", \"Track\", \"Scrooge McDuck\", \"Daisy Duck\", \"Pete\", \"Pluto\"]\n",
    "\n",
    "names = names[::-1]\n",
    "\n",
    "print(names)"
   ]
  },
  {
   "cell_type": "markdown",
   "metadata": {},
   "source": [
    "### Part 2\n",
    "Get the index of \"March\" in the list and print it:"
   ]
  },
  {
   "cell_type": "code",
   "execution_count": null,
   "metadata": {
    "tags": []
   },
   "outputs": [],
   "source": [
    "months = [\"January\", \"February\", \"March\", \"April\", \"May\", \"June\", \"July\", \"August\", \"September\", \"October\", \"November\", \"December\"]\n",
    "\n",
    "idx = months.index(\"March\")\n",
    "\n",
    "print(idx, \" is the index of \", months[idx])"
   ]
  },
  {
   "cell_type": "markdown",
   "metadata": {},
   "source": [
    "### Part 3\n",
    "Retrieve the first object of the list using the ```pop()``` method and store it in the variable ```removed```.  \n",
    "This method removes the last element of a list and alters the list, while also returning it so you can save or use it somewhere."
   ]
  },
  {
   "cell_type": "code",
   "execution_count": null,
   "metadata": {
    "scrolled": true,
    "tags": []
   },
   "outputs": [],
   "source": [
    "alphabet = [\"A\",\"B\",\"C\",\"D\",\"E\",\"F\",\"G\",\"H\"]\n",
    "\n",
    "removed = alphabet.pop(0)\n",
    "\n",
    "print(removed, \" was removed from the alphabet list, which is now: \", alphabet)"
   ]
  },
  {
   "cell_type": "markdown",
   "metadata": {},
   "source": [
    "## Part 4\n",
    "Previously we have removed an item from the alphabet list, now we wish to add it back.  \n",
    "Add the \"H\" letter back into the list by inserting it.  \n",
    "You may need ```len(alphabet)``` here as argument."
   ]
  },
  {
   "cell_type": "code",
   "execution_count": null,
   "metadata": {
    "tags": []
   },
   "outputs": [],
   "source": [
    "alphabet = [\"A\",\"B\",\"C\",\"D\",\"E\",\"F\",\"G\"]\n",
    "\n",
    "alphabet.insert(len(alphabet), \"H\")\n",
    "\n",
    "print(alphabet)"
   ]
  },
  {
   "cell_type": "markdown",
   "metadata": {},
   "source": [
    "### Part 5\n",
    "Get the number of occurances of the integer 2 inside this list and print it:"
   ]
  },
  {
   "cell_type": "code",
   "execution_count": 2,
   "metadata": {
    "tags": []
   },
   "outputs": [
    {
     "ename": "ModuleNotFoundError",
     "evalue": "No module named 'numpy'",
     "output_type": "error",
     "traceback": [
      "\u001b[0;31m---------------------------------------------------------------------------\u001b[0m",
      "\u001b[0;31mModuleNotFoundError\u001b[0m                       Traceback (most recent call last)",
      "\u001b[0;32m<ipython-input-2-b60c1db1aa03>\u001b[0m in \u001b[0;36m<module>\u001b[0;34m\u001b[0m\n\u001b[0;32m----> 1\u001b[0;31m \u001b[0;32mimport\u001b[0m \u001b[0mnumpy\u001b[0m\u001b[0;34m\u001b[0m\u001b[0;34m\u001b[0m\u001b[0m\n\u001b[0m\u001b[1;32m      2\u001b[0m \u001b[0;31m#numbers = [1,2,1,3,2,3,2,1,3,2,2,1,3,2,2,2,1,2,2,3,2,1,3,1,2,3,1,2,3,1,2,3,1,2]\u001b[0m\u001b[0;34m\u001b[0m\u001b[0;34m\u001b[0m\u001b[0;34m\u001b[0m\u001b[0m\n\u001b[1;32m      3\u001b[0m \u001b[0mnumbers\u001b[0m \u001b[0;34m=\u001b[0m \u001b[0;34m[\u001b[0m\u001b[0;36m1\u001b[0m\u001b[0;34m,\u001b[0m \u001b[0;36m2\u001b[0m\u001b[0;34m,\u001b[0m \u001b[0;36m3\u001b[0m\u001b[0;34m,\u001b[0m \u001b[0;36m4\u001b[0m\u001b[0;34m,\u001b[0m \u001b[0;36m5\u001b[0m\u001b[0;34m,\u001b[0m \u001b[0;36m6\u001b[0m\u001b[0;34m,\u001b[0m \u001b[0;36m4\u001b[0m\u001b[0;34m,\u001b[0m \u001b[0;36m3\u001b[0m\u001b[0;34m,\u001b[0m \u001b[0;36m2\u001b[0m\u001b[0;34m,\u001b[0m \u001b[0;36m1\u001b[0m\u001b[0;34m,\u001b[0m \u001b[0;36m4\u001b[0m\u001b[0;34m,\u001b[0m \u001b[0;36m5\u001b[0m\u001b[0;34m,\u001b[0m \u001b[0;34m]\u001b[0m\u001b[0;34m\u001b[0m\u001b[0;34m\u001b[0m\u001b[0m\n\u001b[1;32m      4\u001b[0m \u001b[0mn\u001b[0m \u001b[0;34m=\u001b[0m \u001b[0mnumpyp\u001b[0m\u001b[0;34m.\u001b[0m\u001b[0mcount_nonzero\u001b[0m\u001b[0;34m(\u001b[0m\u001b[0my\u001b[0m \u001b[0;34m==\u001b[0m \u001b[0;36m1\u001b[0m\u001b[0;34m)\u001b[0m\u001b[0;34m\u001b[0m\u001b[0;34m\u001b[0m\u001b[0m\n\u001b[1;32m      5\u001b[0m \u001b[0mprint\u001b[0m\u001b[0;34m(\u001b[0m\u001b[0;34m\"2 appears \"\u001b[0m\u001b[0;34m,\u001b[0m \u001b[0mn\u001b[0m\u001b[0;34m,\u001b[0m \u001b[0;34m\" times in the list.\"\u001b[0m\u001b[0;34m)\u001b[0m\u001b[0;34m\u001b[0m\u001b[0;34m\u001b[0m\u001b[0m\n",
      "\u001b[0;31mModuleNotFoundError\u001b[0m: No module named 'numpy'"
     ]
    }
   ],
   "source": [
    "\n",
    "#numbers = [1,2,1,3,2,3,2,1,3,2,2,1,3,2,2,2,1,2,2,3,2,1,3,1,2,3,1,2,3,1,2,3,1,2]\n",
    "n = numpyp.count_nonzero(y == 1)\n",
    "print(\"2 appears \", n, \" times in the list.\")"
   ]
  },
  {
   "cell_type": "markdown",
   "metadata": {},
   "source": [
    "## Task 4 Restaurant Roulette (5 points)\n",
    "\n",
    "Finally it is the weekend!  \n",
    "You are going out with some friends to enjoy a nice dinner in Osnabrück.  \n",
    "Some of you are really generous that you cannot even decide who is going to pay for the bill.\n",
    "\n",
    "In order to tackle this issue, you are going to create a program that will collect all of your names into a list and then selects a random name from that list.  \n",
    "Whoever is selected will have to pay for everyone's bill.  \n",
    "\n",
    "Implement a while loop that receives inputs, using, for example, ```input(\"Enter a name or \\'stop\\', to stop:\")``` and stores the input in the list ```names```.  \n",
    "Make sure to add a condition to the while loop that will stop the loop, for example checking each iteration if the last input is equal to \"stop\".  \n",
    "Finally, store the selected name in the variable ```selected_name``` and print it.\n",
    "\n",
    "**Hint:** For this we imported the ```random``` module, how modules work will be explained in more detail later.  \n",
    "For all intents and purposes you can ignore it and simply look at what it does below the loop you implement."
   ]
  },
  {
   "cell_type": "code",
   "execution_count": 3,
   "metadata": {
    "tags": []
   },
   "outputs": [
    {
     "name": "stdout",
     "output_type": "stream",
     "text": [
      "Enter a name or 'stop', to stop:Becks\n",
      "Enter a name or 'stop', to stop:Hanna\n",
      "Enter a name or 'stop', to stop:Jan\n",
      "Enter a name or 'stop', to stop:Simon\n",
      "Enter a name or 'stop', to stop:Jonas\n",
      "Enter a name or 'stop', to stop:stop\n",
      "Hanna  will have to pay for everyone's bill.\n"
     ]
    }
   ],
   "source": [
    "import random\n",
    "\n",
    "names =  [input(\"Enter a name or \\'stop\\', to stop:\")]\n",
    "\n",
    "while names[len(names)-1] != \"stop\":\n",
    "    new = input(\"Enter a name or \\'stop\\', to stop:\")\n",
    "    names.insert(len(names), new)\n",
    "    \n",
    "names.pop()\n",
    "\n",
    "selected_name = random.choice(names)\n",
    "\n",
    "print(selected_name, \" will have to pay for everyone's bill.\")"
   ]
  },
  {
   "cell_type": "code",
   "execution_count": 1,
   "metadata": {},
   "outputs": [
    {
     "ename": "NameError",
     "evalue": "name 'random' is not defined",
     "output_type": "error",
     "traceback": [
      "\u001b[0;31m---------------------------------------------------------------------------\u001b[0m",
      "\u001b[0;31mNameError\u001b[0m                                 Traceback (most recent call last)",
      "\u001b[0;32m<ipython-input-1-577affa36112>\u001b[0m in \u001b[0;36m<module>\u001b[0;34m\u001b[0m\n\u001b[0;32m----> 1\u001b[0;31m \u001b[0mselected_name\u001b[0m \u001b[0;34m=\u001b[0m \u001b[0mrandom\u001b[0m\u001b[0;34m.\u001b[0m\u001b[0mchoice\u001b[0m\u001b[0;34m(\u001b[0m\u001b[0mnames\u001b[0m\u001b[0;34m)\u001b[0m\u001b[0;34m\u001b[0m\u001b[0;34m\u001b[0m\u001b[0m\n\u001b[0m\u001b[1;32m      2\u001b[0m \u001b[0;34m\u001b[0m\u001b[0m\n\u001b[1;32m      3\u001b[0m \u001b[0mprint\u001b[0m\u001b[0;34m(\u001b[0m\u001b[0mselected_name\u001b[0m\u001b[0;34m,\u001b[0m \u001b[0;34m\" will have to pay for everyone's bill.\"\u001b[0m\u001b[0;34m)\u001b[0m\u001b[0;34m\u001b[0m\u001b[0;34m\u001b[0m\u001b[0m\n",
      "\u001b[0;31mNameError\u001b[0m: name 'random' is not defined"
     ]
    }
   ],
   "source": []
  },
  {
   "cell_type": "code",
   "execution_count": null,
   "metadata": {},
   "outputs": [],
   "source": []
  }
 ],
 "metadata": {
  "kernelspec": {
   "display_name": "Python 3",
   "language": "python",
   "name": "python3"
  },
  "language_info": {
   "codemirror_mode": {
    "name": "ipython",
    "version": 3
   },
   "file_extension": ".py",
   "mimetype": "text/x-python",
   "name": "python",
   "nbconvert_exporter": "python",
   "pygments_lexer": "ipython3",
   "version": "3.7.3"
  }
 },
 "nbformat": 4,
 "nbformat_minor": 4
}
