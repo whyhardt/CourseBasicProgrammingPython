{
 "cells": [
  {
   "attachments": {},
   "cell_type": "markdown",
   "metadata": {},
   "source": [
    "# Coding Tasks - Week 5\n",
    "Welcome to the Python Programming Exercise Sheet!  \n",
    "In this exercise sheet, we will cover some of the fundamental concepts in Python programming.  \n",
    "Topics covered are: Object oriented programming (OOP).\n",
    "\n",
    "___\n",
    "\n",
    "**DEADLINE**: 5th June until 12:15  \n",
    "**Your name here**: Arda Utku Gezgin\n",
    "**Your university mail**: agezgin@uni-osnabrueck.de\n",
    "\n",
    "___\n",
    "\n",
    "**Important information**:  \n",
    "In order to pass this sheet you need to achieve 10/20 points.  \n",
    "For the best possible grade you require 20/20 points, however, since some harder tasks may take a lot of time you don't have to pressure yourself.  \n",
    "If you complete any three tasks on a sheet you will definitely get a good grade for that sheet.  \n",
    "Hand in your sheet in studip in the respective folder until the deadline.  \n",
    "If you receive no email until a few days after submission you will have passed, the sample solution will also be uploaded around then.  \n",
    "If you receive an email you don't need to worry, you can fail one sheet and also your total points will also be taken into account for the final pass or fail.  "
   ]
  },
  {
   "attachments": {},
   "cell_type": "markdown",
   "metadata": {},
   "source": [
    "## Imports\n",
    "From now on you will encounter an import cell here in the top which you should **always** execute first to import necessary libraries for later.  \n",
    "\n",
    "Additionally, we want to provide you with a rundown of how imports work since it is related to classes and methods.  \n",
    "Imports always consist of either a full or a partial import, full imports are written like ```import library```, partial imports are written like ```from library import Class```.  \n",
    "\n",
    "You can think of libraries as separate python scripts from which you import code written, if you say ```from myscript import ThisClass```, what you are essentially doing is run the ```ThisClass``` class definition part of the script ```myscript.py```.  \n",
    "\n",
    "Many libraries are built-in and do not require installing such as ```math```, ```re``` (regex), or ```time```.  \n",
    "Others, like ```numpy```, ```pandas```, or ```tensorflow```, require an installation via pip or another method.  \n",
    "\n",
    "Additionally, you can use ```as``` and ```,``` in your imports.  \n",
    "If you type ```import numpy as np``` for instance, then you do not have to type ```numpy.array```, but rather just ```np.array``` which can be a useful abbreviation or be used to rename something important if you have two functions with the same name.  \n",
    "\n",
    "If you do ```from datetime import datetime, timedelta``` for example, you are selecting specifically the part ```datetime``` and ```timedelta``` only from the ```datetime``` library. \n",
    "\n",
    "You may even do something like ```from library import Function as anothername```.  \n",
    "\n",
    "We hope this explanation helps you with formulating and understanding import statements.  "
   ]
  },
  {
   "cell_type": "code",
   "execution_count": 1,
   "metadata": {
    "tags": []
   },
   "outputs": [],
   "source": [
    "from datetime import datetime, timedelta\n",
    "from math import pi, sqrt"
   ]
  },
  {
   "attachments": {},
   "cell_type": "markdown",
   "metadata": {},
   "source": [
    "## Task 1 - Creating a Student Class (6 points)\n",
    "\n",
    "Create a Python class called ```Student``` which should take the following attributes: ```name```, ```age```, and ```grade```.\n",
    "After you define the class, implement the methods ```get_name()```, ```get_age()```, and ```get_grade()``` to access these attributes.  \n",
    "\n",
    "You will have to write the whole class from scratch here, then in the cell right below, create an instance of the class and name it ```student```.  \n",
    "Finally, you can execute the third code cell which is already pre-written code to retrieve the attributes of the class from your written getter-methods.  \n",
    "\n",
    "**Hint:** You will need to define a ```__init__()``` method to be able to receive three arguments or a tuple which represents the three arguments.  \n",
    "Additionally, you will need three getter-methods which **return** the value of a certain attribute of the class.  \n",
    "\n",
    "**Note:** This is more like a toy task honestly, in reality you would not use getters for simple attributes like this and you could also write a ```__repr__``` or a ```__str__``` method to make the instance print it's attributes, this is mainly for practice. ;)"
   ]
  },
  {
   "cell_type": "code",
   "execution_count": 13,
   "metadata": {
    "tags": []
   },
   "outputs": [],
   "source": [
    "class Student:\n",
    "    def __init__(self, name, age, grade):\n",
    "        self.name = name\n",
    "        self.age = age\n",
    "        self.grade = grade\n",
    "    \n",
    "    def get_name(self):\n",
    "        return self.name\n",
    "    \n",
    "    def get_age(self):\n",
    "        return self.age\n",
    "    \n",
    "    def get_grade(self):\n",
    "        return self.grade\n",
    "\n"
   ]
  },
  {
   "cell_type": "code",
   "execution_count": 17,
   "metadata": {
    "tags": []
   },
   "outputs": [],
   "source": [
    "student = Student(\"Tilbe\", 28, 12)\n"
   ]
  },
  {
   "cell_type": "code",
   "execution_count": 15,
   "metadata": {
    "tags": []
   },
   "outputs": [
    {
     "name": "stdout",
     "output_type": "stream",
     "text": [
      "Name: Tilbe\n",
      "Age: 28\n",
      "Grade: 12\n"
     ]
    }
   ],
   "source": [
    "print(\"Name:\", student.get_name())\n",
    "print(\"Age:\", student.get_age())\n",
    "print(\"Grade:\", student.get_grade())\n"
   ]
  },
  {
   "attachments": {},
   "cell_type": "markdown",
   "metadata": {},
   "source": [
    "## Task 2 - Bank Account Class (5 points)"
   ]
  },
  {
   "attachments": {},
   "cell_type": "markdown",
   "metadata": {},
   "source": [
    "Create a class called ```BankAccount```  with the following:  \n",
    "\n",
    "- It should have the attributes: ```account_number``` and ```balance```.  \n",
    "- The dunder methods: ```__init__``` and ```__str__```.  \n",
    "- The methods: ```deposit(amount)``` and ```withdraw(amount)```.  \n",
    "- Initialisation method: ```__init__(self, account_number, balance)``` which sets the attributes ```account_number``` and ```balance```.  \n",
    "- String conversion method; also known as print method: ```__str__(self)``` which simply returns the string ```f'The account {self.account_number} has a balance of {self.balance}.'```.  \n",
    "- Deposit method: ```deposit(self, amount)``` which takes an amount (int) as input and adds it to the current balance (attribute) of the account.  \n",
    "- Withdrawal method: ```withdraw(self, amount)``` which takes an amount (int) as input and subtracts it from the current balance of the account, if sufficient funds are available, else it will return the string ```\"Insufficient funds.\"```.\n",
    "\n",
    "**Note:** Here for the \"Insufficient funds\" case of the withdrawal method one could also raise a custom error named, for example, InsufficientFundsError. This is not needed and not wanted here, but this is something for you to think about in case you in the future encounter this situation where it makes sense to implement an error for certain cases with classes."
   ]
  },
  {
   "cell_type": "code",
   "execution_count": 18,
   "metadata": {
    "tags": []
   },
   "outputs": [],
   "source": [
    "class BankAccount:\n",
    "    def __init__(self, account_number, balance):\n",
    "        self.account_number = account_number\n",
    "        self.balance = balance\n",
    "    \n",
    "    def __str__(self):\n",
    "        return f\"The account {self.account_number} has a balance of {self.balance}.\"\n",
    "    \n",
    "    def deposit(self, amount):\n",
    "        self.balance += amount\n",
    "    \n",
    "    def withdraw(self, amount):\n",
    "        if self.balance >= amount:\n",
    "            self.balance -= amount\n",
    "        else:\n",
    "            return \"Insufficient funds.\"\n"
   ]
  },
  {
   "cell_type": "code",
   "execution_count": 19,
   "metadata": {
    "tags": []
   },
   "outputs": [
    {
     "name": "stdout",
     "output_type": "stream",
     "text": [
      "The account 123456789 has a balance of 0.\n",
      "Balance after deposit: 1000\n",
      "Balance after withdrawal: 500\n",
      "Insufficient funds.\n"
     ]
    }
   ],
   "source": [
    "# Create a BankAccount instance\n",
    "account = BankAccount(\"123456789\", 0)\n",
    "\n",
    "# Display the initial balance (str method)\n",
    "print(account)\n",
    "\n",
    "# Perform a deposit\n",
    "account.deposit(1000)\n",
    "\n",
    "# Display the updated balance\n",
    "print(\"Balance after deposit:\", account.balance)\n",
    "\n",
    "# Perform a withdrawal\n",
    "account.withdraw(500)\n",
    "\n",
    "# Display the final balance\n",
    "print(\"Balance after withdrawal:\", account.balance)\n",
    "\n",
    "# Try to withdraw too much\n",
    "print(account.withdraw(10000))\n"
   ]
  },
  {
   "attachments": {},
   "cell_type": "markdown",
   "metadata": {},
   "source": [
    "## Task 3 - Geometric Classes (5 points)\n",
    "Finish the following three geometric classes by implementing the four missing statements in the methods.  \n",
    "\n",
    "- Rectangle: Implement the missing statement in the ```perimeter``` and ```area``` method.  \n",
    "- Triangle: Implement the missing statement in the ```__init__``` method and the equilateral test in the ```is_equilateral``` method.  \n",
    "- Circle: Implement the missing statement in the ```diameter``` method.\n",
    "\n",
    "**Hint:** For the triangle you may want to look up the ```max``` function and for the rest you can get away with very simple mathematics, you can also look at the internet to get the formulas if you don't know them by heart."
   ]
  },
  {
   "cell_type": "code",
   "execution_count": 20,
   "metadata": {
    "tags": []
   },
   "outputs": [],
   "source": [
    "class Rectangle:\n",
    "    def __init__(self, width, height):\n",
    "        self.width = width\n",
    "        self.height = height\n",
    "    \n",
    "    def perimeter(self):\n",
    "        return 2 * (self.width + self.height)\n",
    "    \n",
    "    def area(self):\n",
    "        return self.width * self.height\n",
    "\n",
    "\n",
    "class Triangle:\n",
    "    def __init__(self, side1, side2, side3):\n",
    "        self.side1 = side1\n",
    "        self.side2 = side2\n",
    "        self.side3 = side3\n",
    "    \n",
    "    def perimeter(self):\n",
    "        return self.side1 + self.side2 + self.side3\n",
    "    \n",
    "    def area(self):\n",
    "        # Using Heron's formula\n",
    "        s = (self.side1 + self.side2 + self.side3) / 2\n",
    "        return (s * (s - self.side1) * (s - self.side2) * (s - self.side3)) ** 0.5\n",
    "    \n",
    "    def is_equilateral(self):\n",
    "        return self.side1 == self.side2 == self.side3\n",
    "\n",
    "\n",
    "class Circle:\n",
    "    def __init__(self, radius):\n",
    "        self.radius = radius\n",
    "    \n",
    "    def diameter(self):\n",
    "        return 2 * self.radius\n",
    "    \n",
    "    def circumference(self):\n",
    "        return 2 * 3.14159 * self.radius\n",
    "    \n",
    "    def area(self):\n",
    "        return 3.14159 * self.radius**2\n"
   ]
  },
  {
   "cell_type": "code",
   "execution_count": 21,
   "metadata": {
    "tags": []
   },
   "outputs": [],
   "source": [
    "from math import sqrt\n",
    "\n",
    "class Triangle:\n",
    "    def __init__(self, a, b, c):\n",
    "        if not ((a+b > c) and (b+c > a) and (a+c > b)):\n",
    "            raise ValueError(f\"The three lengths {a}, {b}, and {c} cannot form a triangle together.\")\n",
    "            \n",
    "        self.a = a\n",
    "        self.b = b\n",
    "        self.c = c\n",
    "        \n",
    "        self.width = max([self.a, self.b, self.c])\n",
    "        self.height = 0.25 * self.width * sqrt(sum([self.a, self.b, self.c]))\n",
    "    \n",
    "    def perimeter(self):\n",
    "        return self.a + self.b + self.c\n",
    "    \n",
    "    def area(self):\n",
    "        return 0.5 * self.width * self.height\n",
    "    \n",
    "    def is_equilateral(self):\n",
    "        if self.a == self.b == self.c:\n",
    "            return True\n",
    "        else:\n",
    "            return False\n"
   ]
  },
  {
   "cell_type": "code",
   "execution_count": 22,
   "metadata": {
    "tags": []
   },
   "outputs": [],
   "source": [
    "from math import pi\n",
    "\n",
    "class Circle:\n",
    "    def __init__(self, radius):\n",
    "        self.radius = radius\n",
    "    \n",
    "    def perimeter(self):\n",
    "        return 2 * pi * self.radius\n",
    "    \n",
    "    def area(self):\n",
    "        return pi * self.radius**2\n",
    "    \n",
    "    def diameter(self):\n",
    "        return 2 * self.radius\n"
   ]
  },
  {
   "cell_type": "code",
   "execution_count": 23,
   "metadata": {
    "tags": []
   },
   "outputs": [
    {
     "name": "stdout",
     "output_type": "stream",
     "text": [
      "Perimeter: 18\n",
      "Area: 18\n"
     ]
    }
   ],
   "source": [
    "rectangle = Rectangle(6, 3)\n",
    "print(f'Perimeter: {rectangle.perimeter()}')\n",
    "print(f'Area: {rectangle.area()}')\n"
   ]
  },
  {
   "cell_type": "code",
   "execution_count": 24,
   "metadata": {
    "tags": []
   },
   "outputs": [
    {
     "name": "stdout",
     "output_type": "stream",
     "text": [
      "Width: 5\n",
      "Height: 4.330127018922193\n",
      "Perimeter: 12\n",
      "Area: 10.825317547305481\n",
      "The triangle is equilateral: False\n",
      "\n",
      "Width: 6\n",
      "Height: 6.0\n",
      "Perimeter: 16\n",
      "Area: 18.0\n",
      "The triangle is equilateral: False\n"
     ]
    }
   ],
   "source": [
    "triangle_a = Triangle(3, 4, 5)\n",
    "print(f'Width: {triangle_a.width}')\n",
    "print(f'Height: {triangle_a.height}')\n",
    "print(f'Perimeter: {triangle_a.perimeter()}')\n",
    "print(f'Area: {triangle_a.area()}')\n",
    "print(f'The triangle is equilateral: {triangle_a.is_equilateral()}\\n')\n",
    "\n",
    "triangle_b = Triangle(5, 5, 6)\n",
    "print(f'Width: {triangle_b.width}')\n",
    "print(f'Height: {triangle_b.height}')\n",
    "print(f'Perimeter: {triangle_b.perimeter()}')\n",
    "print(f'Area: {triangle_b.area()}')\n",
    "print(f'The triangle is equilateral: {triangle_b.is_equilateral()}')\n"
   ]
  },
  {
   "cell_type": "code",
   "execution_count": 25,
   "metadata": {
    "tags": []
   },
   "outputs": [
    {
     "name": "stdout",
     "output_type": "stream",
     "text": [
      "The three lengths 1, 1, and 2 cannot form a triangle together.\n"
     ]
    }
   ],
   "source": [
    "try:\n",
    "    triangle = Triangle(1, 1, 2)\n",
    "except ValueError as e:\n",
    "    print(e)\n"
   ]
  },
  {
   "cell_type": "code",
   "execution_count": 26,
   "metadata": {
    "tags": []
   },
   "outputs": [
    {
     "name": "stdout",
     "output_type": "stream",
     "text": [
      "Perimeter: 31.41592653589793\n",
      "Area: 78.53981633974483\n",
      "Diameter: 10\n"
     ]
    }
   ],
   "source": [
    "circle = Circle(5)\n",
    "print(f'Perimeter: {circle.perimeter()}')\n",
    "print(f'Area: {circle.area()}')\n",
    "print(f'Diameter: {circle.diameter()}')\n"
   ]
  },
  {
   "attachments": {},
   "cell_type": "markdown",
   "metadata": {},
   "source": [
    "## Task 4 - Time based while loop (4 points)\n",
    "\n",
    "Implement a while loop which runs exactly one minute. \n",
    "\n",
    "You must define a condition and the start time. For this task, orient yourself on the given help in the cells right under this to understand how the ```datetime``` library may be used and how to calculate distances with it.  \n",
    "\n",
    "Then, write a starttime and a conditional for the while loop below."
   ]
  },
  {
   "cell_type": "code",
   "execution_count": 27,
   "metadata": {
    "tags": []
   },
   "outputs": [
    {
     "data": {
      "text/plain": [
       "datetime.datetime(2023, 5, 24, 17, 49, 52, 156273)"
      ]
     },
     "execution_count": 27,
     "metadata": {},
     "output_type": "execute_result"
    }
   ],
   "source": [
    "datetime.now()"
   ]
  },
  {
   "cell_type": "code",
   "execution_count": 28,
   "metadata": {
    "tags": []
   },
   "outputs": [
    {
     "name": "stdout",
     "output_type": "stream",
     "text": [
      "2023-05-22 12:15:00\n"
     ]
    }
   ],
   "source": [
    "starttime = datetime(year=2023, month=5, day=22, hour=12, minute=15, second=0)\n",
    "print(starttime)"
   ]
  },
  {
   "cell_type": "code",
   "execution_count": 29,
   "metadata": {
    "tags": []
   },
   "outputs": [
    {
     "name": "stdout",
     "output_type": "stream",
     "text": [
      "2023-05-22 13:45:00\n"
     ]
    }
   ],
   "source": [
    "endtime = datetime(year=2023, month=5, day=22, hour=13, minute=45, second=0)\n",
    "print(endtime)"
   ]
  },
  {
   "cell_type": "code",
   "execution_count": 30,
   "metadata": {
    "tags": []
   },
   "outputs": [
    {
     "name": "stdout",
     "output_type": "stream",
     "text": [
      "1:30:00\n",
      "The distance between start and end in seconds is equal to 5400sec seconds.\n",
      "In minutes this would be 90.0mins, in hours it would be 1.5h.\n"
     ]
    }
   ],
   "source": [
    "distance = endtime - starttime\n",
    "print(distance)\n",
    "print(f'The distance between start and end in seconds is equal to {distance.seconds}sec seconds.')\n",
    "print(f'In minutes this would be {distance.seconds/60}mins, in hours it would be {round(distance.seconds/60/60,2)}h.')"
   ]
  },
  {
   "cell_type": "code",
   "execution_count": 31,
   "metadata": {
    "tags": []
   },
   "outputs": [
    {
     "name": "stdout",
     "output_type": "stream",
     "text": [
      "Loop started at 2023-05-24 17:54:21.726921.\n",
      "Loop ended at approximately 2023-05-24 17:54:21.727011\n",
      "\n",
      "0\n"
     ]
    }
   ],
   "source": [
    "counter = 0\n",
    "start = datetime.now()\n",
    "\n",
    "while datetime.now() < endtime:\n",
    "    counter += 1\n",
    "\n",
    "print(f'Loop started at {start}.')\n",
    "print(f'Loop ended at approximately {datetime.now()}\\n')\n",
    "print(counter)"
   ]
  },
  {
   "cell_type": "code",
   "execution_count": null,
   "metadata": {},
   "outputs": [],
   "source": []
  }
 ],
 "metadata": {
  "kernelspec": {
   "display_name": "Python 3 (ipykernel)",
   "language": "python",
   "name": "python3"
  },
  "language_info": {
   "codemirror_mode": {
    "name": "ipython",
    "version": 3
   },
   "file_extension": ".py",
   "mimetype": "text/x-python",
   "name": "python",
   "nbconvert_exporter": "python",
   "pygments_lexer": "ipython3",
   "version": "3.11.3"
  }
 },
 "nbformat": 4,
 "nbformat_minor": 4
}
