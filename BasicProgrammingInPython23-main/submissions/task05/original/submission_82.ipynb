{
 "cells": [
  {
   "cell_type": "markdown",
   "metadata": {},
   "source": [
    "# Coding Tasks - Week 5\n",
    "Welcome to the Python Programming Exercise Sheet!  \n",
    "In this exercise sheet, we will cover some of the fundamental concepts in Python programming.  \n",
    "Topics covered are: Object oriented programming (OOP).\n",
    "\n",
    "___\n",
    "\n",
    "**DEADLINE**: 5th June until 12:15  \n",
    "**Your name here**: Sazykina Valeriia  \n",
    "**Your university mail**: vsazykina@uni-osnabrueck.de\n",
    "\n",
    "___\n",
    "\n",
    "**Important information**:  \n",
    "In order to pass this sheet you need to achieve 10/20 points.  \n",
    "For the best possible grade you require 20/20 points, however, since some harder tasks may take a lot of time you don't have to pressure yourself.  \n",
    "If you complete any three tasks on a sheet you will definitely get a good grade for that sheet.  \n",
    "Hand in your sheet in studip in the respective folder until the deadline.  \n",
    "If you receive no email until a few days after submission you will have passed, the sample solution will also be uploaded around then.  \n",
    "If you receive an email you don't need to worry, you can fail one sheet and also your total points will also be taken into account for the final pass or fail.  "
   ]
  },
  {
   "cell_type": "markdown",
   "metadata": {},
   "source": [
    "## Imports\n",
    "From now on you will encounter an import cell here in the top which you should **always** execute first to import necessary libraries for later.  \n",
    "\n",
    "Additionally, we want to provide you with a rundown of how imports work since it is related to classes and methods.  \n",
    "Imports always consist of either a full or a partial import, full imports are written like ```import library```, partial imports are written like ```from library import Class```.  \n",
    "\n",
    "You can think of libraries as separate python scripts from which you import code written, if you say ```from myscript import ThisClass```, what you are essentially doing is run the ```ThisClass``` class definition part of the script ```myscript.py```.  \n",
    "\n",
    "Many libraries are built-in and do not require installing such as ```math```, ```re``` (regex), or ```time```.  \n",
    "Others, like ```numpy```, ```pandas```, or ```tensorflow```, require an installation via pip or another method.  \n",
    "\n",
    "Additionally, you can use ```as``` and ```,``` in your imports.  \n",
    "If you type ```import numpy as np``` for instance, then you do not have to type ```numpy.array```, but rather just ```np.array``` which can be a useful abbreviation or be used to rename something important if you have two functions with the same name.  \n",
    "\n",
    "If you do ```from datetime import datetime, timedelta``` for example, you are selecting specifically the part ```datetime``` and ```timedelta``` only from the ```datetime``` library. \n",
    "\n",
    "You may even do something like ```from library import Function as anothername```.  \n",
    "\n",
    "We hope this explanation helps you with formulating and understanding import statements.  "
   ]
  },
  {
   "cell_type": "code",
   "execution_count": 1,
   "metadata": {
    "tags": []
   },
   "outputs": [],
   "source": [
    "from datetime import datetime, timedelta\n",
    "from math import pi, sqrt"
   ]
  },
  {
   "cell_type": "markdown",
   "metadata": {},
   "source": [
    "## Task 1 - Creating a Student Class (6 points)\n",
    "\n",
    "Create a Python class called ```Student``` which should take the following attributes: ```name```, ```age```, and ```grade```.\n",
    "After you define the class, implement the methods ```get_name()```, ```get_age()```, and ```get_grade()``` to access these attributes.  \n",
    "\n",
    "You will have to write the whole class from scratch here, then in the cell right below, create an instance of the class and name it ```student```.  \n",
    "Finally, you can execute the third code cell which is already pre-written code to retrieve the attributes of the class from your written getter-methods.  \n",
    "\n",
    "**Hint:** You will need to define a ```__init__()``` method to be able to receive three arguments or a tuple which represents the three arguments.  \n",
    "Additionally, you will need three getter-methods which **return** the value of a certain attribute of the class.  \n",
    "\n",
    "**Note:** This is more like a toy task honestly, in reality you would not use getters for simple attributes like this and you could also write a ```__repr__``` or a ```__str__``` method to make the instance print it's attributes, this is mainly for practice. ;)"
   ]
  },
  {
   "cell_type": "code",
   "execution_count": 2,
   "metadata": {
    "tags": []
   },
   "outputs": [],
   "source": [
    "class Student:\n",
    "    def __init__(self, name, age, grade):\n",
    "        self.name=name\n",
    "        self.age=age\n",
    "        self.grade=grade\n",
    "    \n",
    "    def get_name(self):\n",
    "        return self.name\n",
    "    def get_age(self):\n",
    "        return self.age\n",
    "    def get_grade(self):\n",
    "        return self.grade"
   ]
  },
  {
   "cell_type": "code",
   "execution_count": 3,
   "metadata": {
    "tags": []
   },
   "outputs": [],
   "source": [
    "student = Student(\"Valeria\", 29, 1)"
   ]
  },
  {
   "cell_type": "code",
   "execution_count": 4,
   "metadata": {
    "tags": []
   },
   "outputs": [
    {
     "name": "stdout",
     "output_type": "stream",
     "text": [
      "Name: Valeria\n",
      "Age: 29\n",
      "Grade: 1\n"
     ]
    }
   ],
   "source": [
    "print(\"Name:\", student.get_name())\n",
    "print(\"Age:\", student.get_age())\n",
    "print(\"Grade:\", student.get_grade())"
   ]
  },
  {
   "cell_type": "markdown",
   "metadata": {},
   "source": [
    "## Task 2 - Bank Account Class (5 points)"
   ]
  },
  {
   "cell_type": "markdown",
   "metadata": {},
   "source": [
    "Create a class called ```BankAccount```  with the following:  \n",
    "\n",
    "- It should have the attributes: ```account_number``` and ```balance```.  \n",
    "- The dunder methods: ```__init__``` and ```__str__```.  \n",
    "- The methods: ```deposit(amount)``` and ```withdraw(amount)```.  \n",
    "- Initialisation method: ```__init__(self, account_number, balance)``` which sets the attributes ```account_number``` and ```balance```.  \n",
    "- String conversion method; also known as print method: ```__str__(self)``` which simply returns the string ```f'The account {self.account_number} has a balance of {self.balance}.'```.  \n",
    "- Deposit method: ```deposit(self, amount)``` which takes an amount (int) as input and adds it to the current balance (attribute) of the account.  \n",
    "- Withdrawal method: ```withdraw(self, amount)``` which takes an amount (int) as input and subtracts it from the current balance of the account, if sufficient funds are available, else it will return the string ```\"Insufficient funds.\"```.\n",
    "\n",
    "**Note:** Here for the \"Insufficient funds\" case of the withdrawal method one could also raise a custom error named, for example, InsufficientFundsError. This is not needed and not wanted here, but this is something for you to think about in case you in the future encounter this situation where it makes sense to implement an error for certain cases with classes."
   ]
  },
  {
   "cell_type": "code",
   "execution_count": 5,
   "metadata": {
    "tags": []
   },
   "outputs": [],
   "source": [
    "class BankAccount:\n",
    "    def __init__(self, account_number, balance):\n",
    "        '''Method to create an instance of the class BankAccount.'''\n",
    "        self.account_number=account_number\n",
    "        self.balance=balance\n",
    "        \n",
    "    def __str__(self):\n",
    "        '''Method for printing a string for the account and balance.'''\n",
    "        return f'The account {self.account_number} has a balance of {self.balance}'\n",
    "    \n",
    "    def deposit(self, ammount):\n",
    "        '''Method for depositing into the account.'''\n",
    "        self.balance+=ammount\n",
    "    \n",
    "    def withdraw(self, ammount):\n",
    "        '''Method for withdrawing from the account.'''\n",
    "        if ammount<=self.balance:\n",
    "            self.balance-=ammount\n",
    "        else:\n",
    "            return \"Insufficient funds.\""
   ]
  },
  {
   "cell_type": "code",
   "execution_count": 6,
   "metadata": {
    "tags": []
   },
   "outputs": [
    {
     "name": "stdout",
     "output_type": "stream",
     "text": [
      "The account 123456789 has a balance of 500\n",
      "Balance after deposit: 1500\n",
      "Balance after withdrawal: 1000\n",
      "Insufficient funds.\n"
     ]
    }
   ],
   "source": [
    "#Create a BankAccount instance\n",
    "account = BankAccount(\"123456789\", 500)\n",
    "\n",
    "#Display the initial balance (str method)\n",
    "print(account)\n",
    "\n",
    "#Perform a deposit\n",
    "account.deposit(1000)\n",
    "\n",
    "#Display the updated balance\n",
    "print(\"Balance after deposit:\", account.balance)\n",
    "\n",
    "#Perform a withdrawal\n",
    "account.withdraw(500)\n",
    "\n",
    "#Display the final balance\n",
    "print(\"Balance after withdrawal:\", account.balance)\n",
    "\n",
    "#Try to withdraw too much\n",
    "print(account.withdraw(10000))"
   ]
  },
  {
   "cell_type": "markdown",
   "metadata": {},
   "source": [
    "## Task 3 - Geometric Classes (5 points)\n",
    "Finish the following three geometric classes by implementing the four missing statements in the methods.  \n",
    "\n",
    "- Rectangle: Implement the missing statement in the ```perimeter``` and ```area``` method.  \n",
    "- Triangle: Implement the missing statement in the ```__init__``` method and the equilateral test in the ```is_equilateral``` method.  \n",
    "- Circle: Implement the missing statement in the ```diameter``` method.\n",
    "\n",
    "**Hint:** For the triangle you may want to look up the ```max``` function and for the rest you can get away with very simple mathematics, you can also look at the internet to get the formulas if you don't know them by heart."
   ]
  },
  {
   "cell_type": "code",
   "execution_count": 7,
   "metadata": {
    "tags": []
   },
   "outputs": [],
   "source": [
    "class Rectangle:\n",
    "    def __init__(self, width, height):\n",
    "        self.width = width\n",
    "        self.height = height\n",
    "    \n",
    "    def perimeter(self):\n",
    "        return 2*(self.width+self.height)\n",
    "    \n",
    "    def area(self):\n",
    "        return self.width*self.height"
   ]
  },
  {
   "cell_type": "code",
   "execution_count": 8,
   "metadata": {
    "tags": []
   },
   "outputs": [],
   "source": [
    "class Triangle:\n",
    "    def __init__(self, a, b, c):\n",
    "        #Triangles, given three lenghts, are only possible if any two side lenghts are greater than the third (check triangle inequality theorem)\n",
    "        if not ((a+b > c) and (b+c > a) and (a+c > b)):\n",
    "            raise ValueError(f\"The three lengths {a}, {b}, and {c} cannot form a triangle together.\")\n",
    "            \n",
    "        self.a = a\n",
    "        self.b = b\n",
    "        self.c = c\n",
    "        \n",
    "        #The width of a traingle is the length of the longest side (use the max function over a list of all side attributes [self.a,self.b,self.c])\n",
    "        self.width = max([self.a, self.b, self.c])\n",
    "        \n",
    "        #The height of a triangle is calculated, for all known sides, via the formula given here\n",
    "        self.height = 0.25*self.width*sqrt(sum([self.a,self.b,self.c]))\n",
    "    \n",
    "    def perimeter(self):\n",
    "        return self.a + self.b + self.c\n",
    "    \n",
    "    def area(self):\n",
    "        return 0.5*self.width*self.height\n",
    "    \n",
    "    def is_equilateral(self):\n",
    "        #A triangle is equilateral if two sides have the same length\n",
    "        if self.a == self.b & self.a == self.c & self.b == self.c:\n",
    "            return True #the triangle is equilateral\n",
    "        \n",
    "        else:\n",
    "            return False #the triangle is not equilateral"
   ]
  },
  {
   "cell_type": "code",
   "execution_count": 9,
   "metadata": {
    "tags": []
   },
   "outputs": [],
   "source": [
    "class Circle:\n",
    "    def __init__(self, radius):\n",
    "        self.radius = radius\n",
    "    \n",
    "    def perimeter(self):\n",
    "        return self.radius*pi\n",
    "    \n",
    "    def area(self):\n",
    "        return self.radius*pi**2\n",
    "    \n",
    "    def diameter(self):\n",
    "        return self.radius*2"
   ]
  },
  {
   "cell_type": "code",
   "execution_count": 10,
   "metadata": {
    "tags": []
   },
   "outputs": [
    {
     "name": "stdout",
     "output_type": "stream",
     "text": [
      "Perimeter: 16\n",
      "Area: 15\n"
     ]
    }
   ],
   "source": [
    "# Create an instance of the Rectangle class\n",
    "rectangle = Rectangle(5, 3)\n",
    "\n",
    "# Calculate and print the perimeter of the rectangle\n",
    "print(f'Perimeter: {rectangle.perimeter()}')\n",
    "print(f'Area: {rectangle.area()}')"
   ]
  },
  {
   "cell_type": "code",
   "execution_count": 11,
   "metadata": {
    "tags": []
   },
   "outputs": [
    {
     "name": "stdout",
     "output_type": "stream",
     "text": [
      "Width: 5\n",
      "Height: 4.330127018922193\n",
      "Perimeter: 12\n",
      "Area: 10.825317547305481\n",
      "The triangle is equilateral: False\n",
      "\n",
      "Width: 5\n",
      "Height: 4.841229182759271\n",
      "Perimeter: 15\n",
      "Area: 12.103072956898178\n",
      "The triangle is equilateral: True\n"
     ]
    }
   ],
   "source": [
    "# Create an instance of the Triangle class\n",
    "triangle_a = Triangle(3, 4, 5)\n",
    "\n",
    "print(f'Width: {triangle_a.width}')\n",
    "print(f'Height: {triangle_a.height}')\n",
    "print(f'Perimeter: {triangle_a.perimeter()}')\n",
    "print(f'Area: {triangle_a.area()}')\n",
    "print(f'The triangle is equilateral: {triangle_a.is_equilateral()}\\n')\n",
    "\n",
    "triangle_b = Triangle(5, 5, 5)\n",
    "\n",
    "print(f'Width: {triangle_b.width}')\n",
    "print(f'Height: {triangle_b.height}')\n",
    "print(f'Perimeter: {triangle_b.perimeter()}')\n",
    "print(f'Area: {triangle_b.area()}')\n",
    "print(f'The triangle is equilateral: {triangle_b.is_equilateral()}')"
   ]
  },
  {
   "cell_type": "code",
   "execution_count": 14,
   "metadata": {
    "tags": []
   },
   "outputs": [
    {
     "ename": "ValueError",
     "evalue": "The three lengths 1, 1, and 2 cannot form a triangle together.",
     "output_type": "error",
     "traceback": [
      "\u001b[1;31m---------------------------------------------------------------------------\u001b[0m",
      "\u001b[1;31mValueError\u001b[0m                                Traceback (most recent call last)",
      "Cell \u001b[1;32mIn[14], line 2\u001b[0m\n\u001b[0;32m      1\u001b[0m \u001b[38;5;66;03m#Verifying the error for an impossible triangle works\u001b[39;00m\n\u001b[1;32m----> 2\u001b[0m triangle \u001b[38;5;241m=\u001b[39m \u001b[43mTriangle\u001b[49m\u001b[43m(\u001b[49m\u001b[38;5;241;43m1\u001b[39;49m\u001b[43m,\u001b[49m\u001b[43m \u001b[49m\u001b[38;5;241;43m1\u001b[39;49m\u001b[43m,\u001b[49m\u001b[43m \u001b[49m\u001b[38;5;241;43m2\u001b[39;49m\u001b[43m)\u001b[49m\n",
      "Cell \u001b[1;32mIn[8], line 5\u001b[0m, in \u001b[0;36mTriangle.__init__\u001b[1;34m(self, a, b, c)\u001b[0m\n\u001b[0;32m      2\u001b[0m \u001b[38;5;28;01mdef\u001b[39;00m \u001b[38;5;21m__init__\u001b[39m(\u001b[38;5;28mself\u001b[39m, a, b, c):\n\u001b[0;32m      3\u001b[0m     \u001b[38;5;66;03m#Triangles, given three lenghts, are only possible if any two side lenghts are greater than the third (check triangle inequality theorem)\u001b[39;00m\n\u001b[0;32m      4\u001b[0m     \u001b[38;5;28;01mif\u001b[39;00m \u001b[38;5;129;01mnot\u001b[39;00m ((a\u001b[38;5;241m+\u001b[39mb \u001b[38;5;241m>\u001b[39m c) \u001b[38;5;129;01mand\u001b[39;00m (b\u001b[38;5;241m+\u001b[39mc \u001b[38;5;241m>\u001b[39m a) \u001b[38;5;129;01mand\u001b[39;00m (a\u001b[38;5;241m+\u001b[39mc \u001b[38;5;241m>\u001b[39m b)):\n\u001b[1;32m----> 5\u001b[0m         \u001b[38;5;28;01mraise\u001b[39;00m \u001b[38;5;167;01mValueError\u001b[39;00m(\u001b[38;5;124mf\u001b[39m\u001b[38;5;124m\"\u001b[39m\u001b[38;5;124mThe three lengths \u001b[39m\u001b[38;5;132;01m{\u001b[39;00ma\u001b[38;5;132;01m}\u001b[39;00m\u001b[38;5;124m, \u001b[39m\u001b[38;5;132;01m{\u001b[39;00mb\u001b[38;5;132;01m}\u001b[39;00m\u001b[38;5;124m, and \u001b[39m\u001b[38;5;132;01m{\u001b[39;00mc\u001b[38;5;132;01m}\u001b[39;00m\u001b[38;5;124m cannot form a triangle together.\u001b[39m\u001b[38;5;124m\"\u001b[39m)\n\u001b[0;32m      7\u001b[0m     \u001b[38;5;28mself\u001b[39m\u001b[38;5;241m.\u001b[39ma \u001b[38;5;241m=\u001b[39m a\n\u001b[0;32m      8\u001b[0m     \u001b[38;5;28mself\u001b[39m\u001b[38;5;241m.\u001b[39mb \u001b[38;5;241m=\u001b[39m b\n",
      "\u001b[1;31mValueError\u001b[0m: The three lengths 1, 1, and 2 cannot form a triangle together."
     ]
    }
   ],
   "source": [
    "#Verifying the error for an impossible triangle works\n",
    "triangle = Triangle(1, 1, 2) #reason this does not work is due to 1+1>2 being wrong"
   ]
  },
  {
   "cell_type": "code",
   "execution_count": 15,
   "metadata": {
    "tags": []
   },
   "outputs": [
    {
     "name": "stdout",
     "output_type": "stream",
     "text": [
      "Perimeter: 15.707963267948966\n",
      "Area: 49.34802200544679\n",
      "Diameter: 10\n"
     ]
    }
   ],
   "source": [
    "# Create an instance of the Circle class\n",
    "circle = Circle(5)\n",
    "\n",
    "# Calculate and print the perimeter of the rectangle\n",
    "print(f'Perimeter: {circle.perimeter()}')\n",
    "print(f'Area: {circle.area()}')\n",
    "print(f'Diameter: {circle.diameter()}')"
   ]
  },
  {
   "cell_type": "markdown",
   "metadata": {},
   "source": [
    "## Task 4 - Time based while loop (4 points)\n",
    "\n",
    "Implement a while loop which runs exactly one minute. \n",
    "\n",
    "You must define a condition and the start time. For this task, orient yourself on the given help in the cells right under this to understand how the ```datetime``` library may be used and how to calculate distances with it.  \n",
    "\n",
    "Then, write a starttime and a conditional for the while loop below."
   ]
  },
  {
   "cell_type": "code",
   "execution_count": 42,
   "metadata": {},
   "outputs": [],
   "source": [
    "from datetime import datetime, timedelta"
   ]
  },
  {
   "cell_type": "code",
   "execution_count": 43,
   "metadata": {
    "tags": []
   },
   "outputs": [
    {
     "data": {
      "text/plain": [
       "datetime.datetime(2023, 6, 3, 14, 41, 28, 368267)"
      ]
     },
     "execution_count": 43,
     "metadata": {},
     "output_type": "execute_result"
    }
   ],
   "source": [
    "datetime.now()"
   ]
  },
  {
   "cell_type": "code",
   "execution_count": 44,
   "metadata": {
    "tags": []
   },
   "outputs": [
    {
     "name": "stdout",
     "output_type": "stream",
     "text": [
      "2023-05-22 12:15:00\n"
     ]
    }
   ],
   "source": [
    "starttime = datetime(year=2023, month=5, day=22, hour=12, minute=15, second=0)\n",
    "print(starttime)"
   ]
  },
  {
   "cell_type": "code",
   "execution_count": 45,
   "metadata": {
    "tags": []
   },
   "outputs": [
    {
     "name": "stdout",
     "output_type": "stream",
     "text": [
      "2023-05-22 13:45:00\n"
     ]
    }
   ],
   "source": [
    "endtime = datetime(year=2023, month=5, day=22, hour=13, minute=45, second=0)\n",
    "print(endtime)"
   ]
  },
  {
   "cell_type": "code",
   "execution_count": 46,
   "metadata": {
    "tags": []
   },
   "outputs": [
    {
     "name": "stdout",
     "output_type": "stream",
     "text": [
      "1:30:00\n",
      "The distance between start and end in seconds is equal to 5400sec seconds.\n",
      "In minutes this would be 90.0mins, in hours it would be 1.5h.\n"
     ]
    }
   ],
   "source": [
    "distance = endtime - starttime\n",
    "print(distance)\n",
    "print(f'The distance between start and end in seconds is equal to {distance.seconds}sec seconds.')\n",
    "print(f'In minutes this would be {distance.seconds/60}mins, in hours it would be {round(distance.seconds/60/60,2)}h.')"
   ]
  },
  {
   "cell_type": "code",
   "execution_count": 48,
   "metadata": {
    "tags": []
   },
   "outputs": [
    {
     "name": "stdout",
     "output_type": "stream",
     "text": [
      "Loop started at 2023-06-03 14:42:29.463978.\n",
      "Loop ended at approximately 2023-06-03 14:43:29.471829\n",
      "\n",
      "57692623\n"
     ]
    }
   ],
   "source": [
    "import datetime\n",
    "counter = 0\n",
    "start =  datetime.datetime.now()\n",
    "\n",
    "while datetime.datetime.now() < (start + datetime.timedelta(minutes=1)):\n",
    "    counter += 1\n",
    "\n",
    "print(f'Loop started at {start}.')\n",
    "print(f'Loop ended at approximately {datetime.datetime.now()}\\n')\n",
    "print(counter)"
   ]
  },
  {
   "cell_type": "code",
   "execution_count": null,
   "metadata": {},
   "outputs": [],
   "source": []
  }
 ],
 "metadata": {
  "kernelspec": {
   "display_name": "Python 3 (ipykernel)",
   "language": "python",
   "name": "python3"
  },
  "language_info": {
   "codemirror_mode": {
    "name": "ipython",
    "version": 3
   },
   "file_extension": ".py",
   "mimetype": "text/x-python",
   "name": "python",
   "nbconvert_exporter": "python",
   "pygments_lexer": "ipython3",
   "version": "3.10.9"
  }
 },
 "nbformat": 4,
 "nbformat_minor": 4
}
