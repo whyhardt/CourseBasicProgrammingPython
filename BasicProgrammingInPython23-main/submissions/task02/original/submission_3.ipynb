{
  "cells": [
    {
      "cell_type": "markdown",
      "id": "dd6a629f-0fb7-407d-9d5b-f0299736f172",
      "metadata": {
        "id": "dd6a629f-0fb7-407d-9d5b-f0299736f172"
      },
      "source": [
        "# Coding Tasks - Week 2\n",
        "Welcome to the Python Programming Exercise Sheet!  \n",
        "In this exercise sheet, we will cover some of the fundamental concepts in Python programming.  \n",
        "Topics covered are: String methods, indexing, and slicing.\n",
        "\n",
        "___\n",
        "**DEADLINE**: 21st May until 23:59  \n",
        "**Your name here**: Waldo Ungerer  \n",
        "**Your university mail**: wungerer@uni-osnabrueck.de  \n",
        "___\n",
        "\n",
        "**Important information**:  \n",
        "In order to pass this sheet you need to achieve 10/20 points.  \n",
        "For the best possible grade you require 20/20 points, however, since some harder tasks may take a lot of time you don't have to pressure yourself.  \n",
        "If you complete any three tasks on a sheet you will definitely get a good grade for that sheet.  \n",
        "Hand in your sheet in studip in the respective folder until the deadline.  \n",
        "If you receive no email until a few days after the submission deadline you will have passed, the sample solution will also be uploaded around then.  \n",
        "If you receive an email you don't need to worry, you can fail one sheet and also your total points will also be taken into account for the final pass or fail.  "
      ]
    },
    {
      "cell_type": "markdown",
      "id": "000c8be5",
      "metadata": {
        "id": "000c8be5"
      },
      "source": [
        "## Task 1 Multiline printing and number of characters (5 points)\n",
        "### Part 1\n",
        "We have learned that there are different ways of printing in multiple lines, using linebreaks for example.  \n",
        "Now it is time to write a program that splits the given string into a list of lines.  \n",
        "**Hint:** You may need to look up the ```split()``` function, and make sure the variable ```programmer_joke``` is overwritten with the method result."
      ]
    },
    {
      "cell_type": "code",
      "execution_count": 2,
      "id": "d9dd0fc1",
      "metadata": {
        "tags": [],
        "id": "d9dd0fc1"
      },
      "outputs": [],
      "source": [
        "programmer_joke = \"That\\ncode\\nlooks\\nlike\\nit\\nis\\nsnaking\\naround\"\n",
        "programmer_joke = programmer_joke.split('\\n')"
      ]
    },
    {
      "cell_type": "code",
      "execution_count": 3,
      "id": "fdcf40a8-b3bc-4ac0-8b9a-11263b251d46",
      "metadata": {
        "tags": [],
        "id": "fdcf40a8-b3bc-4ac0-8b9a-11263b251d46",
        "colab": {
          "base_uri": "https://localhost:8080/"
        },
        "outputId": "9358c4b6-0389-42e1-eaf8-ec98842820e9"
      },
      "outputs": [
        {
          "output_type": "stream",
          "name": "stdout",
          "text": [
            "['That', 'code', 'looks', 'like', 'it', 'is', 'snaking', 'around']\n"
          ]
        }
      ],
      "source": [
        "print(programmer_joke)"
      ]
    },
    {
      "cell_type": "markdown",
      "id": "d15dc7e3",
      "metadata": {
        "id": "d15dc7e3"
      },
      "source": [
        "### Part 2\n",
        "By now you are familiar with receiving user input using the ```input()``` function.  \n",
        "Write a program that receives two user inputs and stores them in ```string_a``` and ```string_b```.  \n",
        "If the first string provided is longer than the second string, print out ```True```, if not, print ```False```.  "
      ]
    },
    {
      "cell_type": "code",
      "execution_count": 6,
      "id": "251d72ab",
      "metadata": {
        "tags": [],
        "id": "251d72ab",
        "colab": {
          "base_uri": "https://localhost:8080/"
        },
        "outputId": "3cf86917-88ae-4fee-dd07-8e484718accb"
      },
      "outputs": [
        {
          "output_type": "stream",
          "name": "stdout",
          "text": [
            "Enter a string_some_string_1\n",
            "Enter another string_some_string\n",
            "True\n"
          ]
        }
      ],
      "source": [
        "string_a = input(\"Enter a string\")\n",
        "string_b = input(\"Enter another string\")\n",
        "\n",
        "if len(string_a) > len(string_b):\n",
        "  print(True)\n",
        "else:\n",
        "  print(False)"
      ]
    },
    {
      "cell_type": "markdown",
      "id": "305ac563-b768-4a74-9477-adb4d13228fa",
      "metadata": {
        "id": "305ac563-b768-4a74-9477-adb4d13228fa"
      },
      "source": [
        "## Task 2 If-statements, methods, and strings (4 points)\n",
        "Write three conditional statements (filled in for the ```True```), to handle the following four cases.  \n",
        "For this you may need to use string methods, you can look at this [link](https://www.w3schools.com/python/python_ref_string.asp).  \n",
        "You can find a single method in the list which will solve either conditional, an example is ```char.isalnum()``` which will return True if all letters in ```char``` are alphanumerical.  \n",
        "Please handle the following cases for the if-statements in order:\n",
        " 1) The char is an alphanumerical letter.\n",
        " 2) The char is a number.\n",
        " 3) The char is upper-case.\n",
        " 4) The char is lower-case."
      ]
    },
    {
      "cell_type": "code",
      "execution_count": 14,
      "id": "cde9ecd6-7273-47a9-9f0c-77b1878e568e",
      "metadata": {
        "tags": [],
        "id": "cde9ecd6-7273-47a9-9f0c-77b1878e568e",
        "colab": {
          "base_uri": "https://localhost:8080/"
        },
        "outputId": "82f38d27-f955-492b-d163-26aad5281ae9"
      },
      "outputs": [
        {
          "output_type": "stream",
          "name": "stdout",
          "text": [
            "A\n",
            "The character < A > is an upper case alphabetical.\n"
          ]
        }
      ],
      "source": [
        "char = input() \n",
        "\n",
        "if not char.isalnum():\n",
        "    print(\"The character <\", char, \"> is not alphanumerical.\")\n",
        "\n",
        "if char.isdigit():\n",
        "    print(\"The character <\", char, \"> is a number.\")\n",
        "\n",
        "elif char.isupper():\n",
        "    print(\"The character <\", char, \"> is an upper case alphabetical.\")\n",
        "\n",
        "elif not char.isupper():\n",
        "    print(\"The character <\", char, \"> is a lower case alphabetical.\")\n",
        "\n",
        "else:\n",
        "    print(\"The character <\", char, \"> neither of the former options.\")"
      ]
    },
    {
      "cell_type": "markdown",
      "id": "1507d6b0-25bc-45ab-b278-bc710a700502",
      "metadata": {
        "tags": [],
        "id": "1507d6b0-25bc-45ab-b278-bc710a700502"
      },
      "source": [
        "## Task 3 Slicing and Indexing (5 points)\n",
        "In this task you will receive a list and are asked to change something in it or to access only specific elements of the list.  \n",
        "For each cell you will have a ```result``` variable with a print statement right after for checking, make sure you change the value of ```result``` accordingly.  \n",
        "\n",
        "\n",
        "Retrieve the ```\"Cherry\"``` element of the list."
      ]
    },
    {
      "cell_type": "code",
      "execution_count": 15,
      "id": "4c039071-27dd-488a-b2de-f8fb8fec0b1b",
      "metadata": {
        "tags": [],
        "id": "4c039071-27dd-488a-b2de-f8fb8fec0b1b",
        "colab": {
          "base_uri": "https://localhost:8080/"
        },
        "outputId": "81eb8e69-d225-4e3d-cb68-f0298cde4ea0"
      },
      "outputs": [
        {
          "output_type": "stream",
          "name": "stdout",
          "text": [
            "Cherry\n"
          ]
        }
      ],
      "source": [
        "shopping_list = [\"Apple\", \"Banana\", \"Cherry\", \"Tomato\", \"Potato\", \"Onion\"]\n",
        "\n",
        "result = shopping_list[2]\n",
        "print(result)"
      ]
    },
    {
      "cell_type": "markdown",
      "id": "c8a2bfae-6326-4f64-b88c-cefc93fb916c",
      "metadata": {
        "id": "c8a2bfae-6326-4f64-b88c-cefc93fb916c"
      },
      "source": [
        "Retrieve the first two elements of the list."
      ]
    },
    {
      "cell_type": "code",
      "execution_count": 16,
      "id": "b3664224-c7e1-4eb7-9f37-550bda1a6722",
      "metadata": {
        "tags": [],
        "id": "b3664224-c7e1-4eb7-9f37-550bda1a6722",
        "colab": {
          "base_uri": "https://localhost:8080/"
        },
        "outputId": "3c68a8bf-f058-459f-8ef8-2617fa6a354a"
      },
      "outputs": [
        {
          "output_type": "stream",
          "name": "stdout",
          "text": [
            "['Apple', 'Banana']\n"
          ]
        }
      ],
      "source": [
        "shopping_list = [\"Apple\", \"Banana\", \"Cherry\", \"Tomato\", \"Potato\", \"Onion\"]\n",
        "\n",
        "result = shopping_list[:2]\n",
        "print(result)"
      ]
    },
    {
      "cell_type": "markdown",
      "id": "1d968a9b-5889-418f-b63f-852f6e2e2c53",
      "metadata": {
        "id": "1d968a9b-5889-418f-b63f-852f6e2e2c53"
      },
      "source": [
        "Retrieve the first two and the last two elements of the list.  \n",
        "**HINT:** You may want to use list-addition ```list + list```"
      ]
    },
    {
      "cell_type": "code",
      "execution_count": 17,
      "id": "0b98768e-f568-43a1-be13-fb14cdf787bc",
      "metadata": {
        "tags": [],
        "id": "0b98768e-f568-43a1-be13-fb14cdf787bc",
        "colab": {
          "base_uri": "https://localhost:8080/"
        },
        "outputId": "890c05f0-5161-4139-c0c9-9e0322fd1ed6"
      },
      "outputs": [
        {
          "output_type": "stream",
          "name": "stdout",
          "text": [
            "['Apple', 'Banana', 'Potato', 'Onion']\n"
          ]
        }
      ],
      "source": [
        "shopping_list = [\"Apple\", \"Banana\", \"Cherry\", \"Tomato\", \"Potato\", \"Onion\"]\n",
        "\n",
        "result = shopping_list[:2] + shopping_list[-2:]\n",
        "print(result)"
      ]
    },
    {
      "cell_type": "markdown",
      "id": "3ffeac26-3426-45dc-b10f-38983762fc92",
      "metadata": {
        "id": "3ffeac26-3426-45dc-b10f-38983762fc92"
      },
      "source": [
        "Retrieve every second item of the list, starting from the Apple."
      ]
    },
    {
      "cell_type": "code",
      "execution_count": 18,
      "id": "883e473f-f1d7-4a33-baa7-686eb8efd059",
      "metadata": {
        "tags": [],
        "id": "883e473f-f1d7-4a33-baa7-686eb8efd059",
        "colab": {
          "base_uri": "https://localhost:8080/"
        },
        "outputId": "58c1e22e-7531-470b-e061-66df28e7a120"
      },
      "outputs": [
        {
          "output_type": "stream",
          "name": "stdout",
          "text": [
            "['Apple', 'Cherry', 'Potato']\n"
          ]
        }
      ],
      "source": [
        "shopping_list = [\"Apple\", \"Banana\", \"Cherry\", \"Tomato\", \"Potato\", \"Onion\"]\n",
        "\n",
        "result = shopping_list[::2]\n",
        "print(result)"
      ]
    },
    {
      "cell_type": "markdown",
      "id": "ef831cb1-4c46-45e5-8c0c-a2aa508ccf80",
      "metadata": {
        "id": "ef831cb1-4c46-45e5-8c0c-a2aa508ccf80"
      },
      "source": [
        "Retrieve the list in reverse."
      ]
    },
    {
      "cell_type": "code",
      "execution_count": 19,
      "id": "d0126ad7-7359-46f0-95bb-883cfd0c6f6f",
      "metadata": {
        "tags": [],
        "id": "d0126ad7-7359-46f0-95bb-883cfd0c6f6f",
        "colab": {
          "base_uri": "https://localhost:8080/"
        },
        "outputId": "447db711-521f-43bc-9202-2890bcb89c83"
      },
      "outputs": [
        {
          "output_type": "stream",
          "name": "stdout",
          "text": [
            "['Onion', 'Potato', 'Tomato', 'Cherry', 'Banana', 'Apple']\n"
          ]
        }
      ],
      "source": [
        "shopping_list = [\"Apple\", \"Banana\", \"Cherry\", \"Tomato\", \"Potato\", \"Onion\"]\n",
        "\n",
        "result = shopping_list[::-1]\n",
        "print(result)"
      ]
    },
    {
      "cell_type": "markdown",
      "id": "60f6f403-7c30-4c3e-b944-942833ea9100",
      "metadata": {
        "id": "60f6f403-7c30-4c3e-b944-942833ea9100"
      },
      "source": [
        "Retrieve a list with at least one dairy product, fruit, and sweet, by taking elements from each of the presented lists (don't just make a new list, that will not give you points).  \n",
        "**HINT:** You can do this by using the ```[list[idx]]+[list[idx]]+[list[idx]]``` operation."
      ]
    },
    {
      "cell_type": "code",
      "execution_count": 20,
      "id": "9011de17-8ca7-4d38-b5fe-5a966dbde816",
      "metadata": {
        "tags": [],
        "id": "9011de17-8ca7-4d38-b5fe-5a966dbde816",
        "colab": {
          "base_uri": "https://localhost:8080/"
        },
        "outputId": "a43716e5-0428-4ed5-e3a1-5d79d9df3204"
      },
      "outputs": [
        {
          "output_type": "stream",
          "name": "stdout",
          "text": [
            "['Joghurt', 'Apple', 'Chocolate']\n"
          ]
        }
      ],
      "source": [
        "shopping_list_fruit = [\"Apple\", \"Banana\", \"Cherry\", \"Tomato\", \"Potato\", \"Onion\"]\n",
        "shopping_list_dairy = [\"Joghurt\", \"Milk\"]\n",
        "shopping_list_sweets = [\"Chocolate\", \"Popsicle\", \"Gummy bears\"]\n",
        "\n",
        "result = [shopping_list_dairy[0]] + [shopping_list_fruit[0]] + [shopping_list_sweets[0]]\n",
        "print(result)"
      ]
    },
    {
      "cell_type": "markdown",
      "id": "e3054d81-4d70-416c-9c94-550fcd0ee381",
      "metadata": {
        "id": "e3054d81-4d70-416c-9c94-550fcd0ee381"
      },
      "source": [
        "## Task 4 Manipulating strings (6 points)\n",
        "In this task you are required to manipulate a string ```file_name```  through sequence of actions as follows.   \n",
        "Try different file extensions for testing, make sure it works for different file names as well as intended.  "
      ]
    },
    {
      "cell_type": "code",
      "execution_count": 21,
      "id": "12a99eeb-6112-4318-951e-a750193d2a7e",
      "metadata": {
        "tags": [],
        "id": "12a99eeb-6112-4318-951e-a750193d2a7e"
      },
      "outputs": [],
      "source": [
        "file_name = \"Hello, world.txt\""
      ]
    },
    {
      "cell_type": "markdown",
      "id": "e5af69c8",
      "metadata": {
        "id": "e5af69c8"
      },
      "source": [
        "Check whether the file contains special characters like colon \":\" or coma \",\" or dollar sign \"$\", using an if statement.  \n",
        "Then, and only if the symbol is in the file name, replace it with an underscore character (```\"_\"```), using string methods.  "
      ]
    },
    {
      "cell_type": "code",
      "execution_count": 23,
      "id": "d6882704",
      "metadata": {
        "tags": [],
        "id": "d6882704",
        "colab": {
          "base_uri": "https://localhost:8080/"
        },
        "outputId": "21c053d9-1f1a-4fbb-a9c7-8537a70c37d7"
      },
      "outputs": [
        {
          "output_type": "stream",
          "name": "stdout",
          "text": [
            "Hello_ world.txt\n"
          ]
        }
      ],
      "source": [
        "file_name = \"Hello, world.txt\"\n",
        "special_characters = [\":\", \",\", \"$\"]\n",
        "for char in special_characters:\n",
        "    if char in file_name:\n",
        "        file_name = file_name.replace(char, \"_\")\n",
        "print(file_name)"
      ]
    },
    {
      "cell_type": "markdown",
      "id": "fdbdcb82",
      "metadata": {
        "id": "fdbdcb82"
      },
      "source": [
        "Finally, check the file type from the extension, and assign the variable ```file_type``` the following values:\n",
        "* ```\".txt\"``` and ```\".doc\"``` and ```\".pdf\"``` should output ```\"Document file\"```\n",
        "* ```\".jpg\"``` and ```\".png\"``` should output ```\"Image file\"```\n",
        "* ```\".mp4\"``` and ```\".mov\"``` should output ```\"Video file\"```\n",
        "* for other types, or if no extension exists, it should print ```\"Unsupported file format\"```\n",
        "\n",
        "**HINT:** For this you may want to take a look at the last three characters of the string in an if statement."
      ]
    },
    {
      "cell_type": "code",
      "execution_count": 29,
      "id": "d12c377e",
      "metadata": {
        "id": "d12c377e",
        "colab": {
          "base_uri": "https://localhost:8080/"
        },
        "outputId": "8b23653d-b5b0-4ad4-84dc-a234da1b8d64"
      },
      "outputs": [
        {
          "output_type": "stream",
          "name": "stdout",
          "text": [
            "Please enter your file namebig_bang_theory.mov\n",
            "Video file\n"
          ]
        }
      ],
      "source": [
        "file_name = input(\"Please enter your file name\")\n",
        "file_type = \"Unsupported file format\"\n",
        "\n",
        "\n",
        "if file_name.endswith((\".txt\", \".doc\", \".pdf\")):\n",
        "    file_type = \"Document file\"\n",
        "    \n",
        "elif file_name.endswith((\".jpg\", \".png\")):\n",
        "    file_type = \"Image file\"\n",
        "    \n",
        "elif file_name.endswith((\".mp4\", \".mov\")):\n",
        "    file_type = \"Video file\"\n",
        "    \n",
        "else:\n",
        "    file_type = \"Unsupported file format\"\n",
        "\n",
        "print(file_type)"
      ]
    },
    {
      "cell_type": "code",
      "execution_count": null,
      "id": "ad5ee428-1fa9-48df-a805-9ae200dc3826",
      "metadata": {
        "id": "ad5ee428-1fa9-48df-a805-9ae200dc3826"
      },
      "outputs": [],
      "source": []
    }
  ],
  "metadata": {
    "kernelspec": {
      "display_name": "Python 3 (ipykernel)",
      "language": "python",
      "name": "python3"
    },
    "language_info": {
      "codemirror_mode": {
        "name": "ipython",
        "version": 3
      },
      "file_extension": ".py",
      "mimetype": "text/x-python",
      "name": "python",
      "nbconvert_exporter": "python",
      "pygments_lexer": "ipython3",
      "version": "3.8.8"
    },
    "colab": {
      "provenance": []
    }
  },
  "nbformat": 4,
  "nbformat_minor": 5
}