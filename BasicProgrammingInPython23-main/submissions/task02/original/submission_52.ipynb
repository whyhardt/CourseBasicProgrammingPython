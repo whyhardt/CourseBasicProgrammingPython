{
 "cells": [
  {
   "cell_type": "markdown",
   "id": "dd6a629f-0fb7-407d-9d5b-f0299736f172",
   "metadata": {},
   "source": [
    "# Coding Tasks - Week 2\n",
    "Welcome to the Python Programming Exercise Sheet!  \n",
    "In this exercise sheet, we will cover some of the fundamental concepts in Python programming.  \n",
    "Topics covered are: String methods, indexing, and slicing.\n",
    "\n",
    "___\n",
    "**DEADLINE**: 21st May until 23:59  \n",
    "**Your name here**: Laura Tiemann  \n",
    "**Your university mail**: lautiemann@uos.de  \n",
    "___\n",
    "\n",
    "**Important information**:  \n",
    "In order to pass this sheet you need to achieve 10/20 points.  \n",
    "For the best possible grade you require 20/20 points, however, since some harder tasks may take a lot of time you don't have to pressure yourself.  \n",
    "If you complete any three tasks on a sheet you will definitely get a good grade for that sheet.  \n",
    "Hand in your sheet in studip in the respective folder until the deadline.  \n",
    "If you receive no email until a few days after the submission deadline you will have passed, the sample solution will also be uploaded around then.  \n",
    "If you receive an email you don't need to worry, you can fail one sheet and also your total points will also be taken into account for the final pass or fail.  "
   ]
  },
  {
   "cell_type": "markdown",
   "id": "000c8be5",
   "metadata": {},
   "source": [
    "## Task 1 Multiline printing and number of characters (5 points)\n",
    "### Part 1\n",
    "We have learned that there are different ways of printing in multiple lines, using linebreaks for example.  \n",
    "Now it is time to write a program that splits the given string into a list of lines.  \n",
    "**Hint:** You may need to look up the ```split()``` function, and make sure the variable ```programmer_joke``` is overwritten with the method result."
   ]
  },
  {
   "cell_type": "code",
   "execution_count": 10,
   "id": "d9dd0fc1",
   "metadata": {
    "tags": []
   },
   "outputs": [],
   "source": [
    "programmer_joke = \"That\\ncode\\nlooks\\nlike\\nit\\nis\\nsnaking\\naround\"\n",
    "programmer_joke = programmer_joke.split(\"\\n\")"
   ]
  },
  {
   "cell_type": "code",
   "execution_count": 11,
   "id": "fdcf40a8-b3bc-4ac0-8b9a-11263b251d46",
   "metadata": {
    "tags": []
   },
   "outputs": [
    {
     "name": "stdout",
     "output_type": "stream",
     "text": [
      "['That', 'code', 'looks', 'like', 'it', 'is', 'snaking', 'around']\n"
     ]
    }
   ],
   "source": [
    "print(programmer_joke)"
   ]
  },
  {
   "cell_type": "markdown",
   "id": "d15dc7e3",
   "metadata": {},
   "source": [
    "### Part 2\n",
    "By now you are familiar with receiving user input using the ```input()``` function.  \n",
    "Write a program that receives two user inputs and stores them in ```string_a``` and ```string_b```.  \n",
    "If the first string provided is longer than the second string, print out ```True```, if not, print ```False```.  "
   ]
  },
  {
   "cell_type": "code",
   "execution_count": 12,
   "id": "251d72ab",
   "metadata": {
    "tags": []
   },
   "outputs": [
    {
     "name": "stdout",
     "output_type": "stream",
     "text": [
      "Please insert a first string: hey\n",
      "Please insert a second string: hello\n",
      "False\n"
     ]
    }
   ],
   "source": [
    "string_a = input(\"Please insert a first string: \")\n",
    "string_b = input(\"Please insert a second string: \")\n",
    "\n",
    "\n",
    "if len(string_a) > len(string_b):\n",
    "    print(True)\n",
    "else:\n",
    "    print(False)"
   ]
  },
  {
   "cell_type": "markdown",
   "id": "305ac563-b768-4a74-9477-adb4d13228fa",
   "metadata": {},
   "source": [
    "## Task 2 If-statements, methods, and strings (4 points)\n",
    "Write three conditional statements (filled in for the ```True```), to handle the following four cases.  \n",
    "For this you may need to use string methods, you can look at this [link](https://www.w3schools.com/python/python_ref_string.asp).  \n",
    "You can find a single method in the list which will solve either conditional, an example is ```char.isalnum()``` which will return True if all letters in ```char``` are alphanumerical.  \n",
    "Please handle the following cases for the if-statements in order:\n",
    " 1) The char is an alphanumerical letter.\n",
    " 2) The char is a number.\n",
    " 3) The char is upper-case.\n",
    " 4) The char is lower-case."
   ]
  },
  {
   "cell_type": "code",
   "execution_count": 14,
   "id": "b3aea100-071d-4781-98bd-1ca598563ba4",
   "metadata": {
    "tags": []
   },
   "outputs": [
    {
     "name": "stdout",
     "output_type": "stream",
     "text": [
      "Insert your character: b\n"
     ]
    }
   ],
   "source": [
    "#alternatively you can change the character to check for another value\n",
    "#char = 'A' \n",
    "\n",
    "#alternatively you can comment this back in and test for any character\n",
    "char = input(\"Insert your character: \") "
   ]
  },
  {
   "cell_type": "code",
   "execution_count": 16,
   "id": "cde9ecd6-7273-47a9-9f0c-77b1878e568e",
   "metadata": {
    "tags": []
   },
   "outputs": [
    {
     "name": "stdout",
     "output_type": "stream",
     "text": [
      "The character < b > is a lower case alphabetical.\n"
     ]
    }
   ],
   "source": [
    "if char.isalnum() == False:\n",
    "    print(\"The character <\", char, \"> is not alphanumerical.\")\n",
    "\n",
    "if char.isalnum() and char.isnumeric():\n",
    "    print(\"The character <\", char, \"> is a number.\")\n",
    "\n",
    "elif char.isalnum() and char.isupper():\n",
    "    print(\"The character <\", char, \"> is an upper case alphabetical.\")\n",
    "\n",
    "elif char.isalnum() and char.islower():\n",
    "    print(\"The character <\", char, \"> is a lower case alphabetical.\")\n",
    "\n",
    "else:\n",
    "    print(\"The character <\", char, \"> neither of the former options.\")"
   ]
  },
  {
   "cell_type": "markdown",
   "id": "1507d6b0-25bc-45ab-b278-bc710a700502",
   "metadata": {
    "tags": []
   },
   "source": [
    "## Task 3 Slicing and Indexing (5 points)\n",
    "In this task you will receive a list and are asked to change something in it or to access only specific elements of the list.  \n",
    "For each cell you will have a ```result``` variable with a print statement right after for checking, make sure you change the value of ```result``` accordingly.  \n",
    "\n",
    "\n",
    "Retrieve the ```\"Cherry\"``` element of the list."
   ]
  },
  {
   "cell_type": "code",
   "execution_count": 27,
   "id": "4c039071-27dd-488a-b2de-f8fb8fec0b1b",
   "metadata": {
    "tags": []
   },
   "outputs": [
    {
     "name": "stdout",
     "output_type": "stream",
     "text": [
      "Cherry\n"
     ]
    }
   ],
   "source": [
    "shopping_list = [\"Apple\", \"Banana\", \"Cherry\", \"Tomato\", \"Potato\", \"Onion\"]\n",
    "\n",
    "result = shopping_list[2]\n",
    "print(result)"
   ]
  },
  {
   "cell_type": "markdown",
   "id": "c8a2bfae-6326-4f64-b88c-cefc93fb916c",
   "metadata": {},
   "source": [
    "Retrieve the first two elements of the list."
   ]
  },
  {
   "cell_type": "code",
   "execution_count": 29,
   "id": "b3664224-c7e1-4eb7-9f37-550bda1a6722",
   "metadata": {
    "tags": []
   },
   "outputs": [
    {
     "name": "stdout",
     "output_type": "stream",
     "text": [
      "['Apple', 'Banana']\n"
     ]
    }
   ],
   "source": [
    "shopping_list = [\"Apple\", \"Banana\", \"Cherry\", \"Tomato\", \"Potato\", \"Onion\"]\n",
    "\n",
    "result = shopping_list[:2]\n",
    "print(result)"
   ]
  },
  {
   "cell_type": "markdown",
   "id": "1d968a9b-5889-418f-b63f-852f6e2e2c53",
   "metadata": {},
   "source": [
    "Retrieve the first two and the last two elements of the list.  \n",
    "**HINT:** You may want to use list-addition ```list + list```"
   ]
  },
  {
   "cell_type": "code",
   "execution_count": 31,
   "id": "0b98768e-f568-43a1-be13-fb14cdf787bc",
   "metadata": {
    "tags": []
   },
   "outputs": [
    {
     "name": "stdout",
     "output_type": "stream",
     "text": [
      "['Apple', 'Banana', 'Potato', 'Onion']\n"
     ]
    }
   ],
   "source": [
    "shopping_list = [\"Apple\", \"Banana\", \"Cherry\", \"Tomato\", \"Potato\", \"Onion\"]\n",
    "\n",
    "result = shopping_list[:2] + shopping_list[4:]\n",
    "print(result)"
   ]
  },
  {
   "cell_type": "markdown",
   "id": "3ffeac26-3426-45dc-b10f-38983762fc92",
   "metadata": {},
   "source": [
    "Retrieve every second item of the list, starting from the Apple."
   ]
  },
  {
   "cell_type": "code",
   "execution_count": 32,
   "id": "883e473f-f1d7-4a33-baa7-686eb8efd059",
   "metadata": {
    "tags": []
   },
   "outputs": [
    {
     "name": "stdout",
     "output_type": "stream",
     "text": [
      "['Apple', 'Cherry', 'Potato']\n"
     ]
    }
   ],
   "source": [
    "shopping_list = [\"Apple\", \"Banana\", \"Cherry\", \"Tomato\", \"Potato\", \"Onion\"]\n",
    "\n",
    "result = shopping_list[0::2]\n",
    "print(result)"
   ]
  },
  {
   "cell_type": "markdown",
   "id": "ef831cb1-4c46-45e5-8c0c-a2aa508ccf80",
   "metadata": {},
   "source": [
    "Retrieve the list in reverse."
   ]
  },
  {
   "cell_type": "code",
   "execution_count": 33,
   "id": "d0126ad7-7359-46f0-95bb-883cfd0c6f6f",
   "metadata": {
    "tags": []
   },
   "outputs": [
    {
     "name": "stdout",
     "output_type": "stream",
     "text": [
      "['Onion', 'Potato', 'Tomato', 'Cherry', 'Banana', 'Apple']\n"
     ]
    }
   ],
   "source": [
    "shopping_list = [\"Apple\", \"Banana\", \"Cherry\", \"Tomato\", \"Potato\", \"Onion\"]\n",
    "\n",
    "result = shopping_list[::-1]\n",
    "print(result)"
   ]
  },
  {
   "cell_type": "markdown",
   "id": "60f6f403-7c30-4c3e-b944-942833ea9100",
   "metadata": {},
   "source": [
    "Retrieve a list with at least one dairy product, fruit, and sweet, by taking elements from each of the presented lists (don't just make a new list, that will not give you points).  \n",
    "**HINT:** You can do this by using the ```[list[idx]]+[list[idx]]+[list[idx]]``` operation."
   ]
  },
  {
   "cell_type": "code",
   "execution_count": 35,
   "id": "9011de17-8ca7-4d38-b5fe-5a966dbde816",
   "metadata": {
    "tags": []
   },
   "outputs": [
    {
     "name": "stdout",
     "output_type": "stream",
     "text": [
      "['Apple', 'Joghurt', 'Chocolate']\n"
     ]
    }
   ],
   "source": [
    "shopping_list_fruit = [\"Apple\", \"Banana\", \"Cherry\", \"Tomato\", \"Potato\", \"Onion\"]\n",
    "shopping_list_dairy = [\"Joghurt\", \"Milk\"]\n",
    "shopping_list_sweets = [\"Chocolate\", \"Popsicle\", \"Gummy bears\"]\n",
    "\n",
    "result = [shopping_list_fruit[0]]+[shopping_list_dairy[0]]+[shopping_list_sweets[0]]\n",
    "print(result)"
   ]
  },
  {
   "cell_type": "markdown",
   "id": "e3054d81-4d70-416c-9c94-550fcd0ee381",
   "metadata": {},
   "source": [
    "## Task 4 Manipulating strings (6 points)\n",
    "In this task you are required to manipulate a string ```file_name```  through sequence of actions as follows.   \n",
    "Try different file extensions for testing, make sure it works for different file names as well as intended.  "
   ]
  },
  {
   "cell_type": "code",
   "execution_count": 8,
   "id": "12a99eeb-6112-4318-951e-a750193d2a7e",
   "metadata": {
    "tags": []
   },
   "outputs": [],
   "source": [
    "file_name = \"Hello, world.txt\""
   ]
  },
  {
   "cell_type": "markdown",
   "id": "e5af69c8",
   "metadata": {},
   "source": [
    "Check whether the file contains special characters like colon \":\" or coma \",\" or dollar sign \"$\", using an if statement.  \n",
    "Then, and only if the symbol is in the file name, replace it with an underscore character (```\"_\"```), using string methods.  "
   ]
  },
  {
   "cell_type": "code",
   "execution_count": 9,
   "id": "d6882704",
   "metadata": {
    "tags": []
   },
   "outputs": [
    {
     "name": "stdout",
     "output_type": "stream",
     "text": [
      "Hello__world.txt\n"
     ]
    }
   ],
   "source": [
    "for i in file_name:\n",
    "    # special characters contain colons, commas, dollar signs or even spaces\n",
    "    if not (letter.isnumeric() or letter.isalpha() or letter == '.'):\n",
    "        # replace special character\n",
    "        file_name = file_name.replace(i, \"_\")  \n",
    "    \n",
    "print(file_name)"
   ]
  },
  {
   "cell_type": "markdown",
   "id": "fdbdcb82",
   "metadata": {},
   "source": [
    "Finally, check the file type from the extension, and assign the variable ```file_type``` the following values:\n",
    "* ```\".txt\"``` and ```\".doc\"``` and ```\".pdf\"``` should output ```\"Document file\"```\n",
    "* ```\".jpg\"``` and ```\".png\"``` should output ```\"Image file\"```\n",
    "* ```\".mp4\"``` and ```\".mov\"``` should output ```\"Video file\"```\n",
    "* for other types, or if no extension exists, it should print ```\"Unsupported file format\"```\n",
    "\n",
    "**HINT:** For this you may want to take a look at the last three characters of the string in an if statement."
   ]
  },
  {
   "cell_type": "code",
   "execution_count": 40,
   "id": "07baeddd",
   "metadata": {},
   "outputs": [
    {
     "name": "stdout",
     "output_type": "stream",
     "text": [
      "Name of file: test.xyz\n"
     ]
    }
   ],
   "source": [
    "file_name = input(\"Name of file: \")\n"
   ]
  },
  {
   "cell_type": "code",
   "execution_count": 41,
   "id": "d12c377e",
   "metadata": {},
   "outputs": [],
   "source": [
    "if file_name[-3:] == \"txt\" or file_name[-3:] == \"doc\" or file_name[-3:] == \"pdf\":\n",
    "    file_type = \"Document file\"\n",
    "    \n",
    "elif file_name[-3:] == \"jpg\" or file_name[-3:] == \"png\":\n",
    "    file_type = \"Image file\"\n",
    "    \n",
    "elif file_name[-3:] == \"mp4\" or file_name[-3:] == \"mov\":\n",
    "    file_type = \"Video file\"\n",
    "    \n",
    "else:\n",
    "    file_type = \"Unsupported file format\""
   ]
  },
  {
   "cell_type": "code",
   "execution_count": 42,
   "id": "d20d781e-b4ef-4cf8-b159-d02f8451039d",
   "metadata": {
    "tags": []
   },
   "outputs": [
    {
     "name": "stdout",
     "output_type": "stream",
     "text": [
      "Unsupported file format\n"
     ]
    }
   ],
   "source": [
    "print(file_type)"
   ]
  }
 ],
 "metadata": {
  "kernelspec": {
   "display_name": "Python 3",
   "language": "python",
   "name": "python3"
  },
  "language_info": {
   "codemirror_mode": {
    "name": "ipython",
    "version": 3
   },
   "file_extension": ".py",
   "mimetype": "text/x-python",
   "name": "python",
   "nbconvert_exporter": "python",
   "pygments_lexer": "ipython3",
   "version": "3.8.8"
  }
 },
 "nbformat": 4,
 "nbformat_minor": 5
}
