{
 "cells": [
  {
   "cell_type": "markdown",
   "metadata": {},
   "source": [
    "## **Basic Programming in Python - Mock Exam**\n",
    "\n",
    "### **Summer Semester 2023**\n",
    "### **29.06.2023**\n",
    "\n",
    "___\n",
    "\n",
    "### **Time**\n",
    "**Start Time:** 12:00 (UTC+2/CEST)  \n",
    "**End Time:** 14:00 (UTC+2/CEST)  \n",
    "**Time:** 120 Minutes  \n",
    "\n",
    "(You can test yourself by setting a timer based on the period you are given.)\n",
    "\n",
    "___\n",
    "\n",
    "### **Important information**\n",
    "\n",
    "#### Handing in and time\n",
    "\n",
    "You have 120 minutes to work on the exam in total, starting from 12:00 (UTC+2/CEST aka German time), as stated above. \n",
    "\n",
    "Make sure to finish on time, set yourself an alarm or listen for us telling you in the exam support meeting room before the end of the exam that you have only a few minutes left.  \n",
    "\n",
    "The exam officially ends at 14:00, you will be allowed to hand in your solutions using the exam submission folder, or, if you encounter problems, via e-mail to one of organizers. \n",
    "\n",
    "Submissions later than 14:10 will not be accepted and if no submission was made till then, it will be counted as 0 points.  \n",
    "\n",
    "The submissions format is that of a jupyter notebook (.ipynb) document, alternatively python scripts (.py) or a pdf file can be submitted, any other format will be counted as a fail. \n",
    "\n",
    "Please submit your exam in the folder \"Final Exam Submission\" on StudIP under the file section.\n",
    "\n",
    "#### Working on the tasks\n",
    "\n",
    "Regarding your submission, make sure you follow these rules:\n",
    "\n",
    "- Do not change any of the task description cells in this document.\n",
    "- Do not submit multiple alternative solutions to tasks, we will ignore all but the last solution if you do this.\n",
    "- Do not change the names of variables already defined and try to use the exact names for variables from the task description if given.\n",
    "- Read the task descriptions carefully to not miss explicit and clear instructions like, \"write a function that **returns a string**\"\" instead of \"write a function that **prints a string**\".\n",
    "\n",
    "If you do not adhere to these rules you may lose points.\n",
    "\n",
    "#### Cheating and copying code\n",
    "\n",
    "You may use any online resource to help you with the exam, however, you are not allowed to communicate to anyone and not allowed to copy from anyone and paste their code in your exam. \n",
    "\n",
    "This also counts for code from ChatGPT or code found on the internet, write your own code! \n",
    "\n",
    "For smaller parts like copying a simple \"```np.random.randint(1, 10, 100)```\" this should not be a problem unless copied from another student. \n",
    "\n",
    "If we can prove you communicated with another student or exchanged answers or copied large pieces of code, then your exam will be graded as 0 points and you fail.\n",
    "\n",
    "You are required to document your code. You should add comments explaining your code. These comments are part of the grading and you will lose points if you don't add them. You can write them in any simple language that shows you do understand your solution.\n",
    "\n",
    "We can test it and have tested it for the weekly assignments, but decided to not act upon it for the weekly assignments to not reveal how we do it before the exam, so if you worked with someone and copied in the past, stop doing it for the exam or there might be consequences.\n",
    "\n",
    "#### Points\n",
    "\n",
    "The tasks are of similar difficulty as the weekly assignments.\n",
    "\n",
    "This exam contains 12 questions, so the content of about three weekly assignments. \n",
    "\n",
    "We will grade all your submitted tasks but only give you the points of the highest valued tasks that you worked on that reaches 40 points maximum.\n",
    "For instance, if you worked on nine tasks which give you four points each and on two tasks which give you six points each, then we will ignore two tasks for four points each and you will get 40 points. This way you can choose which tasks to work on based on difficulty and preferences.\n",
    "\n",
    "___\n",
    "\n",
    "Total amount of points in the exam: 60  \n",
    "The maximum amount of points you can reach is: 40  \n",
    "The number of points needed to pass the exam is: 20\n",
    "\n",
    "___\n",
    "\n",
    "#### Final words\n",
    "\n",
    "Before you start working on this exam, make sure take a careful look over the entire exam before you decide to work on anything, to get an overview and already start thinking about which tasks to ignore and which tasks to spend more time on.  \n",
    "\n",
    "Good luck and we hope this exam will be fair and all of you will pass!\n",
    "\n",
    "___\n",
    "\n",
    "#### Overview\n",
    "\n",
    "- Task 1: Display Divisors (5 points)\n",
    "- Task 2: Odd Indices (3 points)\n",
    "- Task 3: Arithmetic Operations (4 points)\n",
    "- Task 4: Reversed String (5 points)\n",
    "- Task 5: Remove Whitespace (3 points)\n",
    "- Task 6: Remove Duplicates Case Insensitive (7 points)\n",
    "- Task 7: Working with Files (4 points)\n",
    "- Task 8: Sales Performance (5 points)\n",
    "- Task 9: Array Manipulation (5 points)\n",
    "- Task 10: Leap Year (7 points)\n",
    "- Task 11: Normalize a NumPy Array (6 points)\n",
    "- Task 12: Plot a Pie Chart (6 points)\n",
    "\n",
    "___"
   ]
  },
  {
   "cell_type": "markdown",
   "metadata": {},
   "source": [
    "#### **Task 1: Display Divisors (5 points)**\n",
    "\n",
    "Create a program that asks the user to type an ```integer (n)``` value. Then, print all ```divisors``` of ```n``` by iterating through all integers less than or equal to ```n```."
   ]
  },
  {
   "cell_type": "code",
   "execution_count": null,
   "metadata": {},
   "outputs": [],
   "source": [
    "# Try to create the code from the scratch.\n",
    "\n"
   ]
  },
  {
   "cell_type": "markdown",
   "metadata": {},
   "source": [
    "#### **Task 2: Odd Indices (3 points)**\n",
    "\n",
    "Given the list below, use a for loop that displays the items at odd indices and print them on a single line."
   ]
  },
  {
   "cell_type": "code",
   "execution_count": null,
   "metadata": {},
   "outputs": [],
   "source": [
    "num_list = [10, 20, 30, 40, 50, 60, 70, 80, 90, 100]\n",
    "\n",
    "for ___ in ___[___]:\n",
    "    print(___, ___)"
   ]
  },
  {
   "cell_type": "markdown",
   "metadata": {},
   "source": [
    "#### **Task 3: Arithmetic operations (4 points)**\n",
    "\n",
    "Write a Python program that interacts with the user to perform arithmetic operations on two numbers. The program should prompt the user to enter two numbers and then calculate and display their sum, difference, product, and quotient"
   ]
  },
  {
   "cell_type": "code",
   "execution_count": null,
   "metadata": {},
   "outputs": [],
   "source": [
    "# Prompt the user to enter the first number\n",
    "num1 = ___(___(\"Enter the first number: \"))\n",
    "\n",
    "# Prompt the user to enter the second number\n",
    "num2 = ___(___(\"Enter the second number: \"))\n",
    "\n",
    "# Calculate the sum\n",
    "sum_result = # Your code here\n",
    "\n",
    "# Calculate the difference\n",
    "difference_result = # Your code here\n",
    "\n",
    "# Calculate the product\n",
    "product_result = # Your code here\n",
    "\n",
    "# Calculate the quotient\n",
    "quotient_result = # Your code here\n",
    "\n",
    "# Display the results\n",
    "print(\"Sum:\", ___)\n",
    "print(\"Difference:\", ___\n",
    "print(\"Product:\", ___\n",
    "print(\"Quotient:\", ___)"
   ]
  },
  {
   "cell_type": "markdown",
   "metadata": {},
   "source": [
    "#### **Task 4: Reversed String (5 points)**\n",
    "\n",
    "Given the string below ```Osnabrück```, your task is to define a function that reverses it. The output should be equal to ```kcürbansO```."
   ]
  },
  {
   "cell_type": "code",
   "execution_count": null,
   "metadata": {},
   "outputs": [],
   "source": [
    "def string_reverse(str1):\n",
    "\n",
    "    reversed_string =  # Your code here\n",
    "    index =  # Your code here\n",
    "    while ___ > ___:\n",
    "        reversed_string += ___\n",
    "        index = ___\n",
    "    return ___\n",
    "\n",
    "\n",
    "print(string_reverse(\"Osnabrück\"))"
   ]
  },
  {
   "cell_type": "markdown",
   "metadata": {},
   "source": [
    "#### **Task 5: Remove Whitespace (3 points)**\n",
    "\n",
    "Write a Python function called remove_whitespace that takes in a string as a parameter and returns a new string with all whitespace characters removed."
   ]
  },
  {
   "cell_type": "code",
   "execution_count": null,
   "metadata": {},
   "outputs": [],
   "source": [
    "def remove_whitespace(string):\n",
    "    return  # Your code here\n",
    "\n",
    "# Test the code\n",
    "input_string = \"Hello    World!\"\n",
    "result = remove_whitespace(input_string)\n",
    "print(result)"
   ]
  },
  {
   "cell_type": "markdown",
   "metadata": {},
   "source": [
    "#### **Task 6: Remove Duplicates Case Insensitive (7 points)**\n",
    "\n",
    "Write a Python function named remove_duplicates_case_insensitive that accepts a list of strings as a parameter. The function should return a new list with duplicate elements removed, while considering case insensitivity. This means that strings with the same characters but different letter cases should be treated as duplicates.\n",
    "\n",
    "To achieve this, follow these steps:\n",
    "\n",
    "1. Define the function remove_duplicates_case_insensitive and specify the strings parameter for the input list of strings.\n",
    "2. Create an empty list called result to store the unique strings.\n",
    "3. Iterate over each string, s, in the input list using a for loop.\n",
    "4. Convert the current string, s, to lowercase using the lower() method and assign the result to a new variable, lower_s.\n",
    "5. Check if lower_s is not already in the result list. If it is not, append lower_s to the result list.\n",
    "6. After iterating over all the strings, return the result list containing the unique strings."
   ]
  },
  {
   "cell_type": "code",
   "execution_count": null,
   "metadata": {},
   "outputs": [],
   "source": [
    "def remove_duplicates_case_insensitive(strings):\n",
    "    # Fill in the missing code below this line\n",
    "    # Create an empty list to store unique elements\n",
    "    unique_strings =  # Your code here\n",
    "    \n",
    "    # Iterate over the strings list\n",
    "    for ___ in ___:\n",
    "        # Convert the string to lowercase for case insensitivity\n",
    "        lowercase_string = # Your code here\n",
    "        \n",
    "        # Check if the lowercase string is already in the unique_strings list\n",
    "        if lowercase_string ___ [___ for ___ in ___]:\n",
    "            # Append the original string to the unique_strings list\n",
    "            # Your code here\n",
    "    \n",
    "    # Return the list with duplicate elements removed\n",
    "    return # Your code here\n",
    "    # End of missing code\n",
    "    \n",
    "# Test the code\n",
    "strings = ['Python', 'python', 'Java', 'JAVA', 'Ruby', 'ruby']\n",
    "result = remove_duplicates_case_insensitive(strings)\n",
    "print(result)   "
   ]
  },
  {
   "cell_type": "markdown",
   "metadata": {},
   "source": [
    "#### **Task 7: Working with Files (4 points)**\n",
    "\n",
    "Write a program that copies the content of a file called \"input.txt\" to a new file called \"output.txt\".\n",
    "\n",
    "Hint: Run the file creator code before starting to work on your own code!"
   ]
  },
  {
   "cell_type": "code",
   "execution_count": null,
   "metadata": {},
   "outputs": [],
   "source": [
    "sentences = [\n",
    "    \"The sky is blue.\",\n",
    "    \"I love eating pizza.\",\n",
    "    \"Python programming is fun.\",\n",
    "    \"Today is a beautiful day.\",\n",
    "    \"I enjoy reading books.\",\n",
    "    \"Coding challenges sharpen my skills.\",\n",
    "    \"The beach is my favorite vacation spot.\",\n",
    "    \"I like listening to music.\",\n",
    "    \"Learning new things is exciting.\",\n",
    "    \"I want to travel the world.\"\n",
    "]\n",
    "\n",
    "with ___ as ___:\n",
    "    for ___in ___:\n",
    "        # Your code here"
   ]
  },
  {
   "cell_type": "code",
   "execution_count": null,
   "metadata": {},
   "outputs": [],
   "source": [
    "input_file = ___(\"input.txt\", ___)\n",
    "output_file = ___(\"output.txt\", ___)\n",
    "\n",
    "content = input_file.___\n",
    "output_file.___(content)\n",
    "\n",
    "input_file.close()\n",
    "output_file.close()"
   ]
  },
  {
   "cell_type": "markdown",
   "metadata": {},
   "source": [
    "#### **Task 8: Sales Performance (5 points)**\n",
    "\n",
    "You are analyzing the sales performance of a company in different regions. You are given a list regions containing the names of the regions, a list sales containing the sales values for each region, and a list errors containing the corresponding error values representing the uncertainty in the sales data. \n",
    "\n",
    "1. Create a bar plot using the given data, where the x-axis represents the regions and the y-axis represents the sales. \n",
    "2. Set the bar color as \"purple\", edge color as \"black\", and line width as 2. \n",
    "3. Add x and y labels, a title.\n",
    "4. Set the edge color parameter to 'black' to define the edge color.\n",
    "5. Finally, add a legend, place it to the top left and display the stacked bar chart. "
   ]
  },
  {
   "cell_type": "code",
   "execution_count": null,
   "metadata": {},
   "outputs": [],
   "source": [
    "import matplotlib.pyplot as plt\n",
    "\n",
    "# Prepare the data\n",
    "regions = ['North', 'South', 'East', 'West']\n",
    "sales = [25000, 30000, 28000, 32000]\n",
    "errors = [2000, 1500, 1800, 2500]\n",
    "\n",
    "# Create the bar plot with error bars\n",
    "plt.___(___, ___, yerr=errors, color=___ edgecolor=___, linewidth=___)\n",
    "\n",
    "# Add labels and title\n",
    "plt.___(___)\n",
    "plt.___(___)\n",
    "plt.___(___)\n",
    "\n",
    "# Display the plot\n",
    "plt.___"
   ]
  },
  {
   "cell_type": "markdown",
   "metadata": {},
   "source": [
    "#### **Task 9: Array Manipulation (5 points)**\n",
    "\n",
    "Create 3 numpy arrays arr1, arr2, and arr3 as follows:\n",
    "\n",
    "1. arr1 is an identity matrix of shape (5,5)\n",
    "2. arr2 is array of shape (5,5) with random generated integers with values between 0 and 50.\n",
    "2. arr3 is array of shape (5,5) with generated values of normal distribution with mean 75 and standrad deviation 10.\n",
    "3. Replace diagonal elements or arr1 with diagonal elements of arr2.\n",
    "4. Replace non-diagonal elements of arr1 with non-diagonal elements of arr3.\n",
    "5. display arr1 after making the changes."
   ]
  },
  {
   "cell_type": "code",
   "execution_count": null,
   "metadata": {},
   "outputs": [],
   "source": [
    "import numpy as np\n",
    "from numpy import random\n",
    "\n",
    "arr1 = # Your code here\n",
    "arr2 = random.___(___, size=(___,___))\n",
    "arr3 = random.___(___,___,size=(___,___))\n",
    "\n",
    "print(arr1, \"\\n\")\n",
    "print(arr2, \"\\n\")\n",
    "print(arr3, \"\\n\")\n",
    "\n",
    "arr1[___] = arr2[___]\n",
    "arr1[___] = arr3[___]\n",
    "\n",
    "print(arr1, \"\\n\")"
   ]
  },
  {
   "cell_type": "markdown",
   "metadata": {},
   "source": [
    "#### **Task 10: Leap Year (7 points)**\n",
    "\n",
    "A leap year is a year that contains February 29th. There are certain conditions to check whether a year is a leap year or not:\n",
    "\n",
    "1. Every year that is evenly divisible by 4.\n",
    "2. Except every year that is divisible by 100 is not a leap year unless it is also divisible by 400 (e.g. 2000).\n",
    "\n",
    "Create a class called ```LeapYearChecker``` that includes a method called ```is_leap_year``` that takes a year as an integer as a parameter. The method should be able to return ```True``` if the given year is a leap year and ```False``` otherwise."
   ]
  },
  {
   "cell_type": "code",
   "execution_count": null,
   "metadata": {},
   "outputs": [],
   "source": [
    "class LeapYearChecker():\n",
    "    def is_leap_year(___, year):\n",
    "        # Your code here\n",
    "            # Your code here\n",
    "                # Your code here\n",
    "                    return # Your code here\n",
    "                # Your code here\n",
    "                    return # Your code here\n",
    "            # Your code here\n",
    "                return # Your code here\n",
    "        # Your code here\n",
    "            return # Your code here\n",
    "\n",
    "\n",
    "#Instance of the LeapYearChecker class\n",
    "year_checker = LeapYearChecker()\n",
    "\n",
    "#Calling the is_leap_year method to check if a year is a leap year or not\n",
    "aprint(year_checker.is_leap_year(2000))"
   ]
  },
  {
   "cell_type": "markdown",
   "metadata": {},
   "source": [
    "#### **Task 11: Normalize the NumPy Array (6 points)**\n",
    "\n",
    "You are given a NumPy array data containing a set of numerical values. Your task is to normalize this array by subtracting the mean of the array from each element and then dividing each element by the standard deviation of the array. This process of normalization helps in bringing the data to a common scale and is commonly used in data preprocessing.\n",
    "\n",
    "Write a Python function called normalize_array(data) that takes a NumPy array data as input and returns the normalized array. The function should follow the following steps:\n",
    "\n",
    "* Calculate the mean of the array using the appropriate NumPy function.\n",
    "* Calculate the standard deviation of the array using the appropriate NumPy function.\n",
    "* Subtract the mean from each element of the array.\n",
    "* Divide each element of the array by the standard deviation.\n",
    "Your task is to implement the normalize_array function and provide the code for it. Additionally, include any necessary imports that you may need.\n",
    "\n",
    "Test your function using a sample array and print the normalized array as the output to verify its correctness.\n",
    "\n",
    "Note: It is recommended to avoid using any built-in normalization functions from external libraries and implement the normalization logic manually within the normalize_array function."
   ]
  },
  {
   "cell_type": "code",
   "execution_count": null,
   "metadata": {},
   "outputs": [],
   "source": [
    "import numpy as np\n",
    "\n",
    "def normalize_array(data):\n",
    "    mean = # Your code here\n",
    "    std_dev = # Your code here\n",
    "    normalized_data = # Your code here\n",
    "    return # Your code here\n",
    "\n",
    "\n",
    "# Test the function\n",
    "sample_array = np.array([5, 10, 15, 20, 25])\n",
    "normalized_array = normalize_array(sample_array)\n",
    "print(\"Normalized Array:\", normalized_array)"
   ]
  },
  {
   "cell_type": "markdown",
   "metadata": {},
   "source": [
    "#### **Task 12:  Plot a Pie Chart (6 points)**\n",
    "You have a dataset that contains information about different categories. Your task is to create a pie chart to visualize the percentage distribution of these categories.\n",
    "\n",
    "Write a Python program that utilizes the Matplotlib library to plot a pie chart for the given dataset. Follow these steps to accomplish the task:\n",
    "\n",
    "* Import the necessary libraries.\n",
    "* Prepare the dataset by providing the category names and their corresponding values.\n",
    "* Calculate the percentage contribution of each category by dividing its value by the total sum of all category values and multiplying by 100.\n",
    "* Create a pie chart, providing the category percentages as input.\n",
    "* Add labels to the pie chart sectors to indicate the category names and their respective percentages.\n",
    "* Set a title for the pie chart.\n",
    "* Display the pie chart.\n",
    "* Your task is to implement the code for this program, including the necessary imports and function calls. Test your program with a sample dataset and provide a clear and well-labeled pie chart as the output."
   ]
  },
  {
   "cell_type": "code",
   "execution_count": null,
   "metadata": {},
   "outputs": [],
   "source": [
    "import matplotlib.pyplot as plt\n",
    "\n",
    "\n",
    "def plot_pie_chart(categories, values):\n",
    "    # Calculate the percentage distribution of categories\n",
    "    total =  # Your code here\n",
    "    percentages =  # Your code here\n",
    "\n",
    "    # Create the pie chart\n",
    "    plt.___(___, ___=categories, ___='%1.1f%%')\n",
    "\n",
    "    # Add legend and title\n",
    "    plt.___()\n",
    "    plt.___(\"Percentage Distribution of Categories\")\n",
    "\n",
    "    # Display the chart\n",
    "    plt.___()\n",
    "\n",
    "\n",
    "# Test the function\n",
    "categories = ['Category A', 'Category B', 'Category C', 'Category D']\n",
    "values = [25, 35, 15, 25]\n",
    "plot_pie_chart(categories, values)"
   ]
  }
 ],
 "metadata": {
  "kernelspec": {
   "display_name": "Python 3 (ipykernel)",
   "language": "python",
   "name": "python3"
  },
  "language_info": {
   "codemirror_mode": {
    "name": "ipython",
    "version": 3
   },
   "file_extension": ".py",
   "mimetype": "text/x-python",
   "name": "python",
   "nbconvert_exporter": "python",
   "pygments_lexer": "ipython3",
   "version": "3.8.8"
  }
 },
 "nbformat": 4,
 "nbformat_minor": 4
}
