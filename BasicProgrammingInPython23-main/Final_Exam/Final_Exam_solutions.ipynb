{
 "cells": [
  {
   "cell_type": "markdown",
   "metadata": {},
   "source": [
    "## **Basic Programming in Python - Final Exam**\n",
    "\n",
    "### **Summer Semester 2023**\n",
    "### **03.07.2023**\n",
    "\n",
    "___\n",
    "\n",
    "### **Time**\n",
    "**Start Time:** 12:00 (UTC+2/CEST)  \n",
    "**End Time:** 14:00 (UTC+2/CEST)  \n",
    "**Time:** 120 Minutes  \n",
    "\n",
    "___\n",
    "\n",
    "### **Important information**\n",
    "\n",
    "#### Handing in and time\n",
    "\n",
    "You have 120 minutes to work on the exam in total, starting from 12:00 (UTC+2/CEST aka German time), as stated above. \n",
    "\n",
    "Make sure to finish on time, set yourself an alarm or listen for us telling you in the exam support meeting room before the end of the exam that you have only a few minutes left.  \n",
    "\n",
    "The exam officially ends at 16:00, you will be allowed to hand in your solutions using the exam submission folder, or, if you encounter problems, via e-mail to one of organizers. \n",
    "\n",
    "Submissions later than 16:10 will not be accepted and if no submission was made till then, it will be counted as 0 points.  \n",
    "\n",
    "The submissions format is that of a jupyter notebook (.ipynb) document, alternatively python scripts (.py) or a pdf file can be submitted, any other format will be counted as a fail. \n",
    "\n",
    "Please submit your exam in the folder \"Final Exam Submission\" on StudIP under the file section.\n",
    "\n",
    "#### Working on the tasks\n",
    "\n",
    "Regarding your submission, make sure you follow these rules:\n",
    "\n",
    "- Do not change any of the task description cells in this document.\n",
    "- Do not submit multiple alternative solutions to tasks, we will ignore all but the last solution if you do this.\n",
    "- Do not change the names of variables already defined and try to use the exact names for variables from the task description if given.\n",
    "- Read the task descriptions carefully to not miss explicit and clear instructions like, \"write a function that **returns a string**\"\" instead of \"write a function that **prints a string**\".\n",
    "\n",
    "If you do not adhere to these rules you may lose points.\n",
    "\n",
    "#### Cheating and copying code\n",
    "\n",
    "You may use any online resource to help you with the exam, however, you are not allowed to communicate to anyone and not allowed to copy from anyone and paste their code in your exam. \n",
    "\n",
    "This also counts for code from ChatGPT or code found on the internet, write your own code! \n",
    "\n",
    "For smaller parts like copying a simple \"```np.random.randint(1, 10, 100)```\" this should not be a problem unless copied from another student. \n",
    "\n",
    "If we can prove you communicated with another student or exchanged answers or copied large pieces of code, then your exam will be graded as 0 points and you fail.  \n",
    "\n",
    "We can test it and have tested it for the weekly assignments, but decided to not act upon it for the weekly assignments to not reveal how we do it before the exam, so if you worked with someone and copied in the past, stop doing it for the exam or there might be consequences.\n",
    "\n",
    "#### Points\n",
    "\n",
    "The tasks are of similar difficulty as the weekly assignments.\n",
    "\n",
    "This exam contains 12 questions, so the content of about three weekly assignments. \n",
    "\n",
    "We will grade all your submitted tasks but only give you the points of the eight highest valued tasks you worked on.\n",
    "For instance, if you worked on eight tasks which give five points and on two tasks which give six points, then we will ignore two tasks for five points and you will get 48 points. This way you can choose which tasks to work on based on difficulty and preferences.\n",
    "\n",
    "___\n",
    "\n",
    "Total amount of points in the exam: 60  \n",
    "The maximum amount of points you can reach this way is: 44  \n",
    "The minimum amount of points you can reach this way is: 36  \n",
    "The number of points needed to pass the exam is: 28  \n",
    "Doing any combination of eight tasks will reach 28 points if you do not lose more than 8 points total over all of them, therefore we recommend working on nine tasks to complete the exam since we will pick your highest graded eight tasks.\n",
    "\n",
    "___\n",
    "\n",
    "#### Final words\n",
    "\n",
    "Before you start working on this exam, make sure take a careful look over the entire exam before you decide to work on anything, to get an overview and already start thinking about which tasks to ignore and which tasks to spend more time on.  \n",
    "\n",
    "Good luck and we hope this exam will be fair and all of you will pass!\n",
    "\n",
    "___\n",
    "\n",
    "#### Overview\n",
    "\n",
    "- Task 1: Datatypes in Python (4 points)\n",
    "- Task 2: Lists (4 points)\n",
    "- Task 3: Logic and if statements (4 points)\n",
    "- Task 4: Numpy arrays (4 points)\n",
    "- Task 5: Finding the median (5 points)\n",
    "- Task 6: Strong password (5 points)\n",
    "- Task 7: Numpy array axes (5 points)\n",
    "- Task 8: Character frequency (5 points)\n",
    "- Task 9: Merge sort recursion (6 points)\n",
    "- Task 10: Contact list class (6 points)\n",
    "- Task 11: Coordinates class (6 points)\n",
    "- Task 12: Sales pie chart (6 points)\n",
    "\n",
    "___"
   ]
  },
  {
   "cell_type": "markdown",
   "metadata": {},
   "source": [
    "## Tasks\n",
    "### Task 1: Datatypes in Python (4 points)\n",
    "\n",
    "a) Print out the data type/class of the following python object ```number```:"
   ]
  },
  {
   "cell_type": "code",
   "execution_count": 1,
   "metadata": {
    "tags": []
   },
   "outputs": [
    {
     "name": "stdout",
     "output_type": "stream",
     "text": [
      "<class 'float'>\n"
     ]
    }
   ],
   "source": [
    "number = 1.234\n",
    "\n",
    "print(type(number))"
   ]
  },
  {
   "cell_type": "markdown",
   "metadata": {},
   "source": [
    "b) Add the following objects ```a```, ```b```, and ```c``` together as a string with value ```\"This task is worth 4 points.\"``` and store it in ```res``` (do not simply assign this value to ```res```)."
   ]
  },
  {
   "cell_type": "code",
   "execution_count": 2,
   "metadata": {
    "tags": []
   },
   "outputs": [
    {
     "name": "stdout",
     "output_type": "stream",
     "text": [
      "This task is worth 4 points.\n"
     ]
    }
   ],
   "source": [
    "a = \"This task is worth \"\n",
    "b = 4\n",
    "c = \" points.\"\n",
    "\n",
    "res = a + str(b) + c\n",
    "\n",
    "print(res)"
   ]
  },
  {
   "cell_type": "markdown",
   "metadata": {},
   "source": [
    "c) Remove all duplicates in this list by converting it to a set, then back to a list."
   ]
  },
  {
   "cell_type": "code",
   "execution_count": 3,
   "metadata": {
    "tags": []
   },
   "outputs": [
    {
     "name": "stdout",
     "output_type": "stream",
     "text": [
      "['a', 'd', 'c', 'e', 'b']\n"
     ]
    }
   ],
   "source": [
    "data = ['a','b','d','a','c','d','e','b','a']\n",
    "\n",
    "data = list(set(data))\n",
    "\n",
    "print(data)"
   ]
  },
  {
   "cell_type": "markdown",
   "metadata": {},
   "source": [
    "d) You are given the following error ```TypeError: 'tuple' object does not support item assignment```.  \n",
    "Find a way to change the value of ```tup[0]``` using type conversion from and back to a tuple.  \n",
    "Use only type conversions, ```tup```, and the assignment ```= -1``` itself.  \n",
    "Do not generate a new tuple using lines like ```tup = (-1,0)``` or ```tup = (-1, tup[1])```."
   ]
  },
  {
   "cell_type": "code",
   "execution_count": 4,
   "metadata": {
    "tags": []
   },
   "outputs": [
    {
     "name": "stdout",
     "output_type": "stream",
     "text": [
      "(-1, 0)\n"
     ]
    }
   ],
   "source": [
    "tup = (1,0)\n",
    "\n",
    "tup = list(tup)\n",
    "\n",
    "tup[0] = -1\n",
    "\n",
    "tup = tuple(tup)\n",
    "\n",
    "print(tup)"
   ]
  },
  {
   "cell_type": "markdown",
   "metadata": {},
   "source": [
    "### Task 2: Lists (4 points)\n",
    "Please index, create and manipulate the following lists.\n",
    "\n",
    "a) Generate a list of all even numbers between 0 and 20, including zero, by using a for loop and if statement only; simply defining it as ```result = [0,2,4,6,8,10,12,14,16,18,20]``` will give no points!"
   ]
  },
  {
   "cell_type": "code",
   "execution_count": 5,
   "metadata": {
    "tags": []
   },
   "outputs": [
    {
     "name": "stdout",
     "output_type": "stream",
     "text": [
      "[0, 2, 4, 6, 8, 10, 12, 14, 16, 18, 20]\n"
     ]
    }
   ],
   "source": [
    "result = []\n",
    "\n",
    "for n in range(0,21):\n",
    "    if n % 2 == 0:\n",
    "        result += [n]\n",
    "\n",
    "print(result)"
   ]
  },
  {
   "cell_type": "markdown",
   "metadata": {},
   "source": [
    "b) Using indexing, retrieve the every third element of this list, starting from the 3rd element ('C')."
   ]
  },
  {
   "cell_type": "code",
   "execution_count": 6,
   "metadata": {
    "tags": []
   },
   "outputs": [
    {
     "name": "stdout",
     "output_type": "stream",
     "text": [
      "['C', 'F', 'I', 'L', 'O', 'R', 'U', 'X']\n"
     ]
    }
   ],
   "source": [
    "alphabet = list('ABCDEFGHIJKLMNOPQRSTUVWXYZ')\n",
    "\n",
    "result = alphabet[2::3]\n",
    "\n",
    "print(result)"
   ]
  },
  {
   "cell_type": "markdown",
   "metadata": {},
   "source": [
    "c) Sort the list in ascending order, e.g 0,1,2,... using list methods, then store the first half in ```list_a``` and the second half in ```list_b```."
   ]
  },
  {
   "cell_type": "code",
   "execution_count": 7,
   "metadata": {
    "tags": []
   },
   "outputs": [
    {
     "name": "stdout",
     "output_type": "stream",
     "text": [
      "[2, 3, 8, 8, 9, 10]\n",
      "[16, 17, 23, 24, 35, 52]\n"
     ]
    }
   ],
   "source": [
    "numbers = [10,8,2,3,52,8,23,9,16,24,35,17]\n",
    "\n",
    "numbers.sort()\n",
    "\n",
    "list_a = numbers[:int(len(numbers)/2)]\n",
    "list_b = numbers[int(len(numbers)/2):]\n",
    "\n",
    "print(list_a)\n",
    "print(list_b)"
   ]
  },
  {
   "cell_type": "markdown",
   "metadata": {},
   "source": [
    "### Task 3: Logic and if statements (4 points)\n",
    "Write if statements using ```if```, ```elif```, and ```else```.  \n",
    "You are given variables with values assigned to them.  \n",
    "Your task is to implement the following logical formulas and conditionals into an if statement."
   ]
  },
  {
   "cell_type": "code",
   "execution_count": 8,
   "metadata": {
    "tags": []
   },
   "outputs": [],
   "source": [
    "a,b = True, True\n",
    "c = False\n",
    "d = 3\n",
    "e = -1\n",
    "f = [-1,0,1,2,3]\n",
    "g = [0,1,2]"
   ]
  },
  {
   "cell_type": "markdown",
   "metadata": {},
   "source": [
    "a) If a and b are true, then print True, else print False."
   ]
  },
  {
   "cell_type": "code",
   "execution_count": 9,
   "metadata": {
    "tags": []
   },
   "outputs": [
    {
     "name": "stdout",
     "output_type": "stream",
     "text": [
      "True\n"
     ]
    }
   ],
   "source": [
    "if a and b:\n",
    "    print(True)\n",
    "else:\n",
    "    print(False)"
   ]
  },
  {
   "cell_type": "markdown",
   "metadata": {},
   "source": [
    "b) If d is greater than 0 and divisible by 2 without a rest, then print True else print False."
   ]
  },
  {
   "cell_type": "code",
   "execution_count": 10,
   "metadata": {
    "tags": []
   },
   "outputs": [
    {
     "name": "stdout",
     "output_type": "stream",
     "text": [
      "False\n"
     ]
    }
   ],
   "source": [
    "if d > 0 and d % 2 == 0:\n",
    "    print(True)\n",
    "else:\n",
    "    print(False)"
   ]
  },
  {
   "cell_type": "markdown",
   "metadata": {},
   "source": [
    "c) Cover these cases with an if statement:\n",
    " * e is included in f and positive: Print \"Case A\"\n",
    " * e is included in f and not positive: Print \"Case B\"\n",
    " * e is not included in f and positive: Print \"Case C\"\n",
    " * e is not included in f and not positive: Print \"Case D\""
   ]
  },
  {
   "cell_type": "code",
   "execution_count": 11,
   "metadata": {},
   "outputs": [
    {
     "name": "stdout",
     "output_type": "stream",
     "text": [
      "Case B\n"
     ]
    }
   ],
   "source": [
    "if e in f:\n",
    "    if e > 0:\n",
    "        print(\"Case A\")\n",
    "    else:\n",
    "        print(\"Case B\")\n",
    "    \n",
    "else:\n",
    "    if e > 0:\n",
    "        print(\"Case C\")\n",
    "    else:\n",
    "        print(\"Case D\")"
   ]
  },
  {
   "cell_type": "markdown",
   "metadata": {},
   "source": [
    "d) Cover these cases with an if statement:\n",
    " * Both d and e are included in g : Print \"Case A\"\n",
    " * Only d is included in g : Print \"Case B\"\n",
    " * Only e is included in g : Print \"Case C\"\n",
    " * Neither are included in g but both are included in f: Print \"Case D\"\n",
    " * Neither are included in g but d is included in f : Print \"Case E\"\n",
    " * Neither are included in g but d is included in f : Print \"Case F\"\n",
    " * If neither are included in either g or f : Print \"Case G\""
   ]
  },
  {
   "cell_type": "code",
   "execution_count": 12,
   "metadata": {
    "tags": []
   },
   "outputs": [
    {
     "name": "stdout",
     "output_type": "stream",
     "text": [
      "Case D\n"
     ]
    }
   ],
   "source": [
    "if d in g and e in g:\n",
    "    print(\"Case A\")\n",
    "\n",
    "else:\n",
    "    if d in g:\n",
    "        print(\"Case B\")\n",
    "    \n",
    "    elif e in g:\n",
    "        print(\"Case C\")\n",
    "    \n",
    "    else:\n",
    "        if d in f and e in f:\n",
    "            print('Case D')\n",
    "            \n",
    "        elif d in f:\n",
    "            print('Case E')\n",
    "            \n",
    "        elif e in f:\n",
    "            print('Case F')\n",
    "            \n",
    "        else:\n",
    "            print('Case G')"
   ]
  },
  {
   "cell_type": "markdown",
   "metadata": {},
   "source": [
    "### Task 4: Numpy arrays (4 points)\n",
    "In this task you are supposed to create numpy arrays according to certain criteria.  \n",
    "For this you are not allowed to use the ```np.array``` function but should instead use different array generating functions like ```np.full``` or functions from the ```np.random``` category.  \n",
    "\n",
    "a) Create an array filled with zeros of the shape 3x3x3:"
   ]
  },
  {
   "cell_type": "code",
   "execution_count": 13,
   "metadata": {
    "tags": []
   },
   "outputs": [
    {
     "name": "stdout",
     "output_type": "stream",
     "text": [
      "[[[0. 0. 0.]\n",
      "  [0. 0. 0.]\n",
      "  [0. 0. 0.]]\n",
      "\n",
      " [[0. 0. 0.]\n",
      "  [0. 0. 0.]\n",
      "  [0. 0. 0.]]\n",
      "\n",
      " [[0. 0. 0.]\n",
      "  [0. 0. 0.]\n",
      "  [0. 0. 0.]]]\n"
     ]
    }
   ],
   "source": [
    "import numpy as np\n",
    "\n",
    "arr = np.zeros((3,3,3))\n",
    "\n",
    "print(arr)"
   ]
  },
  {
   "cell_type": "markdown",
   "metadata": {},
   "source": [
    "b) Create a numpy array of integers in the shape (20,) which counts the numbers from 1 to 20 in it from left to right:"
   ]
  },
  {
   "cell_type": "code",
   "execution_count": 14,
   "metadata": {
    "tags": []
   },
   "outputs": [
    {
     "name": "stdout",
     "output_type": "stream",
     "text": [
      "[ 1  2  3  4  5  6  7  8  9 10 11 12 13 14 15 16 17 18 19 20]\n"
     ]
    }
   ],
   "source": [
    "import numpy as np\n",
    "\n",
    "arr = np.arange(1,21)\n",
    "\n",
    "print(arr)"
   ]
  },
  {
   "cell_type": "markdown",
   "metadata": {},
   "source": [
    "c) Create a numpy array from a normal distribution with mean=10 and standard deviation=5 of shape=(5,5)."
   ]
  },
  {
   "cell_type": "code",
   "execution_count": 15,
   "metadata": {
    "tags": []
   },
   "outputs": [
    {
     "name": "stdout",
     "output_type": "stream",
     "text": [
      "[[-0.80896005 15.53473693 20.49304973  6.69337091  4.99820275]\n",
      " [16.87482258  9.39980742  5.16520328  5.11730232 20.03025297]\n",
      " [ 5.61977098 17.30621717  9.61251542  8.87716758  7.1606686 ]\n",
      " [11.09638323 11.93965268 12.60893844  9.81761409  3.65572834]\n",
      " [ 8.88689954 10.04203977  2.81435675 16.45029003 11.17626915]]\n"
     ]
    }
   ],
   "source": [
    "import numpy as np\n",
    "\n",
    "arr = np.random.normal(10,5,(5,5))\n",
    "\n",
    "print(arr)"
   ]
  },
  {
   "cell_type": "markdown",
   "metadata": {},
   "source": [
    "d) Create a numpy array starting at 0 and stopping at 100 with shape (44,) with an even step count for each step.  \n",
    "To understand this better, here is an array from 1 to 2 with five steps (shape=(5,)):"
   ]
  },
  {
   "cell_type": "code",
   "execution_count": 16,
   "metadata": {
    "tags": []
   },
   "outputs": [
    {
     "name": "stdout",
     "output_type": "stream",
     "text": [
      "[1.0, 1.25, 1.5, 1.75, 2.0]\n"
     ]
    }
   ],
   "source": [
    "print([1.,1.25,1.5,1.75,2.])"
   ]
  },
  {
   "cell_type": "code",
   "execution_count": 17,
   "metadata": {
    "tags": []
   },
   "outputs": [
    {
     "name": "stdout",
     "output_type": "stream",
     "text": [
      "[  0.           2.56410256   5.12820513   7.69230769  10.25641026\n",
      "  12.82051282  15.38461538  17.94871795  20.51282051  23.07692308\n",
      "  25.64102564  28.20512821  30.76923077  33.33333333  35.8974359\n",
      "  38.46153846  41.02564103  43.58974359  46.15384615  48.71794872\n",
      "  51.28205128  53.84615385  56.41025641  58.97435897  61.53846154\n",
      "  64.1025641   66.66666667  69.23076923  71.79487179  74.35897436\n",
      "  76.92307692  79.48717949  82.05128205  84.61538462  87.17948718\n",
      "  89.74358974  92.30769231  94.87179487  97.43589744 100.        ]\n"
     ]
    }
   ],
   "source": [
    "import numpy as np\n",
    "\n",
    "arr = np.linspace(0,100,40)\n",
    "\n",
    "print(arr)"
   ]
  },
  {
   "cell_type": "markdown",
   "metadata": {},
   "source": [
    "### Task 5: Finding the median (5 points)\n",
    "The median is a statistical measure that represents the middle value of a dataset when it is sorted in ascending or descending order.  \n",
    "In this task, you are required to write a Python function that calculates the median of a given list of numbers.  \n",
    "\n",
    "The function will receive a list of float numbers and should return the median of that list.  \n",
    "To find the median, follow these steps:\n",
    "\n",
    "1. Sort the list of numbers in ascending order.\n",
    "2. Determine if the number of elements in the list is even or odd.\n",
    "3. If the number of elements is odd, the median is the middle element.\n",
    "4. If the number of elements is even, the median is the average of the two middle elements\n",
    "\n",
    "**You are not allowed to use numpy or math modules imported, if you just use a .median() function from somewhere it will count as 0 points**"
   ]
  },
  {
   "cell_type": "code",
   "execution_count": 18,
   "metadata": {
    "tags": []
   },
   "outputs": [
    {
     "name": "stdout",
     "output_type": "stream",
     "text": [
      "[17, 91, 16, 24, 1, 66, 92, 28, 57, 18, 8, 51, 77, 47, 58, 95, 79, 75, 25, 14, 86, 81, 100, 63, 16, 38, 18, 34, 57, 99]\n"
     ]
    }
   ],
   "source": [
    "import random\n",
    "\n",
    "example_data = [random.randint(1,100) for _ in range(30)]\n",
    "\n",
    "print(example_data)"
   ]
  },
  {
   "cell_type": "code",
   "execution_count": 19,
   "metadata": {},
   "outputs": [],
   "source": [
    "def find_median(numbers):\n",
    "    sorted_numbers = sorted(numbers)\n",
    "    \n",
    "    n = len(sorted_numbers)\n",
    "    \n",
    "    if n % 2 == 0:\n",
    "        median = (sorted_numbers[n//2 - 1] + sorted_numbers[n//2]) / 2\n",
    "        \n",
    "    else:\n",
    "        median = sorted_numbers[n//2]\n",
    "        \n",
    "    return median"
   ]
  },
  {
   "cell_type": "code",
   "execution_count": 20,
   "metadata": {},
   "outputs": [
    {
     "name": "stdout",
     "output_type": "stream",
     "text": [
      "Median: 54.0\n"
     ]
    }
   ],
   "source": [
    "# Test the function\n",
    "median = find_median(example_data)\n",
    "print(\"Median:\", median)"
   ]
  },
  {
   "cell_type": "markdown",
   "metadata": {
    "tags": []
   },
   "source": [
    "### Task 6: Strong password (5 points)\n",
    "Write a Python program to check if a given string is a valid password. The password should meet the following criteria:\n",
    "\n",
    "* It should have at least 8 characters.\n",
    "* It should contain at least one uppercase letter.\n",
    "* It should contain at least one lowercase letter.\n",
    "* It should contain at least one digit.\n",
    "* It should contain at least one non-numerical letter.\n",
    "\n",
    "This function should return a boolean value!"
   ]
  },
  {
   "cell_type": "code",
   "execution_count": 21,
   "metadata": {
    "tags": []
   },
   "outputs": [],
   "source": [
    "def strong_password(password):\n",
    "    '''\n",
    "    A function which receives a password string and validates whether it is a strong password.\n",
    "    \n",
    "    param password (str): A password as string\n",
    "    \n",
    "    returns (bool): True if strong password, else False.\n",
    "    '''\n",
    "    \n",
    "    if len(password) < 8:\n",
    "        return False\n",
    "    \n",
    "    cases = [False]*4\n",
    "    \n",
    "    for char in password:\n",
    "        if char.isupper():\n",
    "            cases[0] = True\n",
    "            \n",
    "        elif char.islower():\n",
    "            cases[1] = True\n",
    "            \n",
    "        elif char.isdigit():\n",
    "            cases[2] = True\n",
    "            \n",
    "        elif not char.isalnum():\n",
    "            cases[3] = True\n",
    "            \n",
    "    return all(cases)"
   ]
  },
  {
   "cell_type": "code",
   "execution_count": 22,
   "metadata": {
    "tags": []
   },
   "outputs": [
    {
     "name": "stdin",
     "output_type": "stream",
     "text": [
      "Enter a password:  password123\n"
     ]
    },
    {
     "name": "stdout",
     "output_type": "stream",
     "text": [
      "Weak password\n"
     ]
    }
   ],
   "source": [
    "# Test the function\n",
    "password = input(\"Enter a password: \")\n",
    "if strong_password(password):\n",
    "    print(\"Strong password\")\n",
    "else:\n",
    "    print(\"Weak password\")"
   ]
  },
  {
   "cell_type": "markdown",
   "metadata": {},
   "source": [
    "### Task 7: Numpy array axes (5 points)\n",
    "Create a loop over the following two numpy arrays.  \n",
    "\n",
    "You are not allowed to use anything in this code besides:\n",
    "- Loops (```for``` and  ```while```)\n",
    "- List comprehensions (```[smth for smth in list]```)\n",
    "- If statements (```if```, ```elif```, and ```else```)\n",
    "- Comparisons (```smth > 0```)\n",
    "- Value assignments (```smth[idx] = num``` or ```smth[idx] += num``` or ```smth[idx] -= num```)"
   ]
  },
  {
   "cell_type": "code",
   "execution_count": 23,
   "metadata": {
    "tags": []
   },
   "outputs": [
    {
     "name": "stdout",
     "output_type": "stream",
     "text": [
      "[[1 0]\n",
      " [0 1]\n",
      " [1 1]\n",
      " [0 0]]\n",
      "[[1 1]\n",
      " [0 1]\n",
      " [0 0]\n",
      " [1 0]]\n"
     ]
    }
   ],
   "source": [
    "import numpy as np\n",
    "\n",
    "a = np.array([[1,0],[0,1],[1,1],[0,0]])\n",
    "b = np.array([[1,1],[0,1],[0,0],[1,0]])\n",
    "\n",
    "print(a)\n",
    "print(b)"
   ]
  },
  {
   "cell_type": "markdown",
   "metadata": {},
   "source": [
    "Using only these methods, please change the values in array ```a``` to the values in array ```b``` in the x-axis (HINT: shape\\[0\\] == 0).  \n",
    "Using only these methods, please change the values in array ```b``` to the values in array ```a``` in the y-axis (HINT: shape\\[1\\] == 0).  "
   ]
  },
  {
   "cell_type": "code",
   "execution_count": 24,
   "metadata": {
    "tags": []
   },
   "outputs": [],
   "source": [
    "for x in range(a.shape[0]):\n",
    "    for y in range(a.shape[1]):\n",
    "        if x == 0:\n",
    "            a[x][y] = b[x][y]\n",
    "            \n",
    "        if y == 0:\n",
    "            b[x][y] = a[x][y]"
   ]
  },
  {
   "cell_type": "code",
   "execution_count": 25,
   "metadata": {
    "tags": []
   },
   "outputs": [
    {
     "name": "stdout",
     "output_type": "stream",
     "text": [
      "[[1 1]\n",
      " [0 1]\n",
      " [1 1]\n",
      " [0 0]]\n",
      "[[1 1]\n",
      " [0 1]\n",
      " [1 0]\n",
      " [0 0]]\n"
     ]
    }
   ],
   "source": [
    "print(a)\n",
    "print(b)"
   ]
  },
  {
   "cell_type": "markdown",
   "metadata": {
    "tags": []
   },
   "source": [
    "### Task 8: Character frequency (5 points)\n",
    "Create a function which receives a string as parameter and returns a dictionary.  \n",
    "This dictionary should map each character in the string to the number of occurances of the string.  \n",
    "For example, the inputted string \"AABBCCC\" should result in a dictionary like this:"
   ]
  },
  {
   "cell_type": "code",
   "execution_count": 26,
   "metadata": {
    "tags": []
   },
   "outputs": [
    {
     "name": "stdout",
     "output_type": "stream",
     "text": [
      "AABBCCC results in the dictionary {'A': 2, 'B': 2, 'C': 3}\n"
     ]
    }
   ],
   "source": [
    "a = \"AABBCCC\"\n",
    "result = {'A' : 2, 'B' : 2, 'C' : 3}\n",
    "\n",
    "print(a, \"results in the dictionary\", result)"
   ]
  },
  {
   "cell_type": "markdown",
   "metadata": {},
   "source": [
    "Create the function char_frequency which takes a string as input and returns a dictionary mapping the characters to their number of occurances.  \n",
    "Keep in mind to return an empty dictionary for an empty string."
   ]
  },
  {
   "cell_type": "code",
   "execution_count": 27,
   "metadata": {},
   "outputs": [],
   "source": [
    "def char_frequency(string):\n",
    "    freq = {}\n",
    "    for char in string:\n",
    "        keys = freq.keys()\n",
    "        if char in keys:\n",
    "            freq[char] += 1\n",
    "        else:\n",
    "            freq[char] = 1\n",
    "    return freq"
   ]
  },
  {
   "cell_type": "code",
   "execution_count": 28,
   "metadata": {
    "tags": []
   },
   "outputs": [
    {
     "name": "stdout",
     "output_type": "stream",
     "text": [
      "{'t': 3, 'e': 1, 's': 2, 'r': 1, 'i': 1, 'n': 1, 'g': 1}\n"
     ]
    }
   ],
   "source": [
    "print(char_frequency(\"teststring\"))"
   ]
  },
  {
   "cell_type": "markdown",
   "metadata": {},
   "source": [
    "### Task 9: Merge sort recursion (6 points)\n",
    "You are tasked to implement the missing code pieces in this Merge sort implementation using recursion to sort the following array.  \n",
    "\n",
    "The array consists of number between 1 and 300, and can have duplicates.  \n",
    "The length of the array is random between 100 and 200 elements.\n",
    "\n",
    "Merge sort is a sorting algorithm which divides a given array into two smaller arrays and then recursively calls itself on these array halves.  \n",
    "In the base case, the two, or one in case it is an uneven length array, the numbers will be sorted and returned.  \n",
    "In the recursive case the array is split into two halves and then afterwards merged together again.  \n",
    "The merge function combines the sorted array halves into one sorted big array by appending the smaller of the two elements at the start of each list until both are empty.  \n",
    "This way the array is essentially split into the smallest units and then merged from the bottom up into one big array.  \n",
    "\n",
    "You need to enter the correct return statements and the right conditionals for the if staments, both are indicated by comments.  \n",
    "You can ignore the pre-written merge function."
   ]
  },
  {
   "cell_type": "code",
   "execution_count": 29,
   "metadata": {
    "tags": []
   },
   "outputs": [
    {
     "name": "stdout",
     "output_type": "stream",
     "text": [
      "[85, 221, 82, 6, 98, 83, 34, 36, 284, 142] Length: 160\n"
     ]
    }
   ],
   "source": [
    "import random\n",
    "arr = [random.randint(1,300) for _ in range(random.randint(100,200))]\n",
    "\n",
    "print(arr[:10], 'Length:', len(arr))"
   ]
  },
  {
   "cell_type": "code",
   "execution_count": 30,
   "metadata": {
    "tags": []
   },
   "outputs": [],
   "source": [
    "def merge(a, b):\n",
    "    '''Merges splitted sorted arrays into one big sorted array'''\n",
    "    \n",
    "    arr = []\n",
    "    \n",
    "    #until a and b are empty, combine them to an array\n",
    "    while len(a)+len(b) > 0:\n",
    "        #if the first index of a is smaller or equal, append it to arr\n",
    "        if a[0] <= b[0]:\n",
    "            arr.append(a[0])\n",
    "            a = a[1:] #remove the appended element from a\n",
    "        \n",
    "        else:\n",
    "            arr.append(b[0])\n",
    "            b = b[1:] #remove the appended element from a\n",
    "            \n",
    "        #if a is empty just add the last element in b\n",
    "        if len(a) == 0:\n",
    "            arr += b[:] #because it is possible that b is longer than 1\n",
    "            b = []\n",
    "        \n",
    "        #if b is empty just add the last element in a, causes error without elif here\n",
    "        elif len(b) == 0:\n",
    "            arr += a[:] #because it is possible that a is longer than 1\n",
    "            a = []\n",
    "            \n",
    "    return arr"
   ]
  },
  {
   "cell_type": "code",
   "execution_count": 31,
   "metadata": {
    "tags": []
   },
   "outputs": [],
   "source": [
    "def merge_sort(arr):\n",
    "    '''Implementation of Merge sort'''\n",
    "    \n",
    "    #base case one element\n",
    "    if len(arr) == 1:\n",
    "        return arr\n",
    "    \n",
    "    #base case two elements (sort)\n",
    "    if len(arr) == 2:\n",
    "        if arr[0] <= arr[1]:\n",
    "            return arr\n",
    "        \n",
    "        else:\n",
    "            return [arr[1],arr[0]]\n",
    "        \n",
    "    #recursive case split, call, merge\n",
    "    idx = int(len(arr)/2)\n",
    "    split_a = merge_sort(arr[:idx])\n",
    "    split_b = merge_sort(arr[idx:])\n",
    "    \n",
    "    #splits themselves are sorted so we combine them into a list\n",
    "    sorted_array = merge(split_a,split_b)\n",
    "    \n",
    "    return sorted_array"
   ]
  },
  {
   "cell_type": "code",
   "execution_count": 32,
   "metadata": {
    "tags": []
   },
   "outputs": [
    {
     "name": "stdout",
     "output_type": "stream",
     "text": [
      "[2, 4, 5, 6, 10, 13, 16, 18, 19, 21, 22, 27, 30, 31, 31, 34, 34, 35, 35, 36, 36, 39, 40, 40, 41, 43, 44, 44, 45, 47, 47, 48, 49, 52, 54, 54, 55, 55, 55, 56, 56, 57, 58, 62, 62, 62, 63, 65, 67, 69, 72, 75, 79, 81, 82, 83, 83, 83, 83, 85, 87, 90, 93, 93, 94, 98, 102, 104, 107, 107, 107, 110, 111, 111, 113, 113, 115, 120, 127, 128, 128, 131, 132, 132, 133, 137, 137, 138, 140, 140, 140, 142, 142, 142, 143, 143, 143, 145, 147, 148, 148, 150, 151, 157, 160, 160, 160, 160, 164, 172, 180, 185, 187, 187, 188, 191, 192, 193, 193, 194, 198, 202, 203, 203, 205, 208, 209, 210, 218, 221, 221, 221, 221, 225, 229, 234, 238, 239, 242, 243, 254, 259, 259, 263, 264, 269, 269, 272, 273, 275, 275, 281, 284, 284, 288, 291, 291, 292, 294, 297] length:  160\n"
     ]
    }
   ],
   "source": [
    "print(merge_sort(arr), \"length: \", len(arr))"
   ]
  },
  {
   "cell_type": "markdown",
   "metadata": {
    "tags": []
   },
   "source": [
    "### Task 10: Contact list class (6 points)\n",
    "Define a class named ```ContactList``` which allows users to add and display their contacts.\n",
    "In this class you should be able to add contacts, remove contacts, and display the list of contacts.\n",
    "Additionally, you should also be able to retrieve the number of a given contact.\n",
    "\n",
    "Implement the methods ```add_contact```, ```remove_contact```, ```display_contacts```.\n",
    "\n",
    " * \\_\\_init\\_\\_: Receives no argument and creates an empty dictionary ```self.contacts```.\n",
    " * add_contact: Receives two parameters ```name``` and ```number```.\n",
    " * remove_contact: Receives one parameter ```name``` and removes the corresponding contact from the contacts.\n",
    " * display_contacts: Receives no argument and prints all contacts and their numbers out using the print function.\n",
    " \n",
    "Remember to inform the user with a print statement when:\n",
    "1. The contact you want to add already exists.\n",
    "2. The contact you want to remove does not exist."
   ]
  },
  {
   "cell_type": "code",
   "execution_count": 33,
   "metadata": {},
   "outputs": [],
   "source": [
    "class ContactList:\n",
    "    def __init__(self):\n",
    "        self.contacts = {}\n",
    "\n",
    "    def add_contact(self, name, number):\n",
    "        if name not in self.contacts:\n",
    "            self.contacts[name] = number\n",
    "            print(f\"Contact '{name}' with number '{number}' added successfully.\")\n",
    "        else:\n",
    "            print(f\"Contact '{name}' already exists.\")\n",
    "\n",
    "    def remove_contact(self, name):\n",
    "        if name in self.contacts:\n",
    "            del self.contacts[name]\n",
    "            print(f\"Contact '{name}' removed successfully.\")\n",
    "        else:\n",
    "            print(f\"Contact '{name}' does not exist.\")\n",
    "\n",
    "    def display_contacts(self):\n",
    "        if self.contacts:\n",
    "            print(\"Contact List:\")\n",
    "            for name, number in self.contacts.items():\n",
    "                print(f\"Name: {name}, Number: {number}\")\n",
    "        else:\n",
    "            print(\"Contact List is empty.\")"
   ]
  },
  {
   "cell_type": "code",
   "execution_count": 34,
   "metadata": {},
   "outputs": [
    {
     "name": "stdout",
     "output_type": "stream",
     "text": [
      "Contact 'John' with number '1234567890' added successfully.\n",
      "Contact 'Emily' with number '9876543210' added successfully.\n",
      "Contact 'Emily' already exists.\n",
      "Contact List:\n",
      "Name: John, Number: 1234567890\n",
      "Name: Emily, Number: 9876543210\n",
      "Contact 'Emily' removed successfully.\n",
      "Contact 'David' does not exist.\n",
      "Contact List:\n",
      "Name: John, Number: 1234567890\n"
     ]
    }
   ],
   "source": [
    "#Create an instance of the ContactList class\n",
    "contact_list = ContactList()\n",
    "\n",
    "#Add contacts\n",
    "contact_list.add_contact(\"John\", \"1234567890\")\n",
    "contact_list.add_contact(\"Emily\", \"9876543210\")\n",
    "\n",
    "#Add contacts that already exist\n",
    "contact_list.add_contact(\"Emily\", \"9876543210\")\n",
    "\n",
    "#Print the contact list\n",
    "contact_list.display_contacts()\n",
    "\n",
    "#Remove contacts\n",
    "contact_list.remove_contact(\"Emily\")\n",
    "\n",
    "#Remove contacts that do not exist\n",
    "contact_list.remove_contact(\"David\")  \n",
    "\n",
    "#Print  the updated contact list\n",
    "contact_list.display_contacts()"
   ]
  },
  {
   "cell_type": "markdown",
   "metadata": {},
   "source": [
    "### Task 11: Coordinates class (6 points)\n",
    "You are tasked with completing the Coordinates class.  \n",
    "Read carefully the current implementation and figure out how to add the missing parts.\n",
    "\n",
    "In this implemenation we want to implement the operations addition, substraction, equality, inequality, length, indexing, and string representation.  \n",
    "\n",
    "You will have to complete the following tasks:\n",
    " * Implement the math equation to get the length of a vector inside the ```length``` method (indicated in comment).\n",
    " * Implement the value-wise addition in the ```__add__``` method.\n",
    " * Implement the negation of values in the ```__neg__``` method, meaning setting each value to it's negative.\n",
    " * Implement the if-conditions in the ```__getitem__``` method.\n",
    " \n",
    "**Afterwards you should test the class in the code block below as well!**"
   ]
  },
  {
   "cell_type": "code",
   "execution_count": 35,
   "metadata": {
    "tags": []
   },
   "outputs": [],
   "source": [
    "from math import sqrt\n",
    "\n",
    "class Coordinates:\n",
    "    def __init__(self, x, y, z):\n",
    "        self.x = x\n",
    "        self.y = y\n",
    "        self.z = z\n",
    "    \n",
    "    def __str__(self):\n",
    "        return str(tuple([self.x, self.y, self.z]))\n",
    "    \n",
    "    def __len__(self):\n",
    "        return 3\n",
    "    \n",
    "    def length(self):\n",
    "        length = float(sqrt(self.x**2+self.y**2+self.z**2))\n",
    "        \n",
    "        return length\n",
    "    \n",
    "    def __add__(self, b):\n",
    "        if type(b) == type(self):\n",
    "            return Coordinates(self.x+b.x, self.y+b.x, self.z+b.z)\n",
    "            \n",
    "        else:\n",
    "            raise TypeError(f'unsupported operand type(s) for +: {type(self)} and {type(b)}')\n",
    "        \n",
    "        return self\n",
    "    \n",
    "    def __sub__(self, b):\n",
    "        return self.__add__(-b)\n",
    "    \n",
    "    def __neg__(self):\n",
    "        return Coordinates(-self.x, -self.y, -self.z)\n",
    "    \n",
    "    def __eq__(self, b):\n",
    "        if type(b) == type(self):\n",
    "            if self.x == b.x and self.y == b.y and self.z == b.z:\n",
    "                return True\n",
    "            \n",
    "            else:\n",
    "                return False\n",
    "            \n",
    "        else:\n",
    "            TypeError(f'unsupported operand type(s) for ==: {type(self)} and {type(b)}')\n",
    "    \n",
    "    def __neq__(self, b):\n",
    "        return not self.__eq__(b)\n",
    "    \n",
    "    def __getitem__(self, key):\n",
    "        if key == 0:\n",
    "            return self.x\n",
    "        \n",
    "        elif key == 1:\n",
    "            return self.y\n",
    "        \n",
    "        elif key == 2:\n",
    "            return self.z\n",
    "        \n",
    "        else:\n",
    "            raise IndexError(f'coordinate index {key} out of range.')"
   ]
  },
  {
   "cell_type": "markdown",
   "metadata": {
    "tags": []
   },
   "source": [
    "Testing the class:  \n",
    "\n",
    "a) Create two instances of the class and store them in ```coord_a``` ```coor_b```, any parameters for ```x``` ```y```, and ```z``` will suffice."
   ]
  },
  {
   "cell_type": "code",
   "execution_count": 36,
   "metadata": {
    "tags": []
   },
   "outputs": [],
   "source": [
    "coord_a = Coordinates(1,2,3)\n",
    "coord_b = Coordinates(4,5,6)"
   ]
  },
  {
   "cell_type": "markdown",
   "metadata": {},
   "source": [
    "b) Print the result of trying to add both coordinates together."
   ]
  },
  {
   "cell_type": "code",
   "execution_count": 37,
   "metadata": {
    "tags": []
   },
   "outputs": [
    {
     "name": "stdout",
     "output_type": "stream",
     "text": [
      "(5, 6, 9)\n"
     ]
    }
   ],
   "source": [
    "print(coord_a+coord_b)"
   ]
  },
  {
   "cell_type": "markdown",
   "metadata": {},
   "source": [
    "c) Print the length of ```coord_a``` using the ```length``` method."
   ]
  },
  {
   "cell_type": "code",
   "execution_count": 38,
   "metadata": {
    "tags": []
   },
   "outputs": [
    {
     "name": "stdout",
     "output_type": "stream",
     "text": [
      "3.7416573867739413\n"
     ]
    }
   ],
   "source": [
    "print(coord_a.length())"
   ]
  },
  {
   "cell_type": "markdown",
   "metadata": {},
   "source": [
    "d) Print the result of testing whether ```coord_a``` ```coord_b``` are identical ```==```."
   ]
  },
  {
   "cell_type": "code",
   "execution_count": 39,
   "metadata": {
    "tags": []
   },
   "outputs": [
    {
     "name": "stdout",
     "output_type": "stream",
     "text": [
      "False\n"
     ]
    }
   ],
   "source": [
    "print(coord_a == coord_b)"
   ]
  },
  {
   "cell_type": "markdown",
   "metadata": {},
   "source": [
    "e) Print the negative of ```coord_a```, e.g. ```-coord_a```."
   ]
  },
  {
   "cell_type": "code",
   "execution_count": 40,
   "metadata": {
    "tags": []
   },
   "outputs": [
    {
     "name": "stdout",
     "output_type": "stream",
     "text": [
      "(-1, -2, -3)\n"
     ]
    }
   ],
   "source": [
    "print(-coord_a)"
   ]
  },
  {
   "cell_type": "markdown",
   "metadata": {},
   "source": [
    "f) Retrieve the element of ```coord_a``` at index 1."
   ]
  },
  {
   "cell_type": "code",
   "execution_count": 41,
   "metadata": {
    "tags": []
   },
   "outputs": [
    {
     "name": "stdout",
     "output_type": "stream",
     "text": [
      "2\n"
     ]
    }
   ],
   "source": [
    "print(coord_a[1])"
   ]
  },
  {
   "cell_type": "markdown",
   "metadata": {},
   "source": [
    "### Task 12: Sales pie chart (6 points)\n",
    "You have sales data for different products.  \n",
    "Your tasks are the following:\n",
    " * Calculate the total amount of sales over all products.\n",
    " * Calculate the percentage of sales for each product inside the prewritten loop.\n",
    " * Fill in the missing arguments in the ```plt.pie``` function.\n",
    " * Add a fitting title to the plot."
   ]
  },
  {
   "cell_type": "code",
   "execution_count": 42,
   "metadata": {
    "tags": []
   },
   "outputs": [
    {
     "data": {
      "image/png": "[encoded data removed]",
      "text/plain": [
       "<Figure size 640x480 with 1 Axes>"
      ]
     },
     "metadata": {},
     "output_type": "display_data"
    }
   ],
   "source": [
    "import matplotlib.pyplot as plt\n",
    "\n",
    "products = ['Shampoo', 'Moisturizer', 'Perfume', 'Soap']\n",
    "sales = [25000, 38000, 19000, 41000]\n",
    "\n",
    "total_sales = sum(sales)\n",
    "\n",
    "sales_percentages = []\n",
    "for sale in sales:\n",
    "    percentage = (sale / total_sales) * 100\n",
    "    sales_percentages.append(percentage)\n",
    "\n",
    "plt.pie(sales_percentages, labels=products, autopct='%1.1f%%')\n",
    "plt.title('Total Sales Distribution of Products')\n",
    "\n",
    "plt.show()"
   ]
  }
 ],
 "metadata": {
  "kernelspec": {
   "display_name": "Python 3 (ipykernel)",
   "language": "python",
   "name": "python3"
  },
  "language_info": {
   "codemirror_mode": {
    "name": "ipython",
    "version": 3
   },
   "file_extension": ".py",
   "mimetype": "text/x-python",
   "name": "python",
   "nbconvert_exporter": "python",
   "pygments_lexer": "ipython3",
   "version": "3.8.8"
  }
 },
 "nbformat": 4,
 "nbformat_minor": 4
}
