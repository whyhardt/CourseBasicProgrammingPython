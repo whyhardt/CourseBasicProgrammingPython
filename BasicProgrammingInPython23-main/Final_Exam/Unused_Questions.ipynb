{
 "cells": [
  {
   "attachments": {},
   "cell_type": "markdown",
   "metadata": {},
   "source": [
    "##### **Working with Files**\n",
    "\n",
    "You are tasked with writing a Python program to store a list of strings into a text file. Each string in the list should be written on a new line in the text file. This task is commonly encountered in scenarios where you need to save data to a file for future reference or to share information in a readable format.\n",
    "\n",
    "Write a Python function called write_strings_to_file(strings, filename) that takes two parameters as input: strings, a list of strings to be written to the file, and filename, the name of the text file to which the strings should be written.\n",
    "\n",
    "The function should perform the following steps:\n",
    "\n",
    "* Open the specified file in write mode using the open() function.\n",
    "* Iterate over each string in the strings list.\n",
    "* Write each string to the file, followed by a newline character (\\n), using the file object's write() method.\n",
    "* Close the file using the close() method to ensure that all the data is saved.\n",
    "Your task is to implement the write_strings_to_file function and provide the code for it. Additionally, include any necessary imports that you may need.\n",
    "\n",
    "Test your function by providing a sample list of strings and a filename, and then check the text file to verify that the strings have been written correctly, with each string on a new line.\n",
    "\n",
    "Note: Ensure that the file is created in the specified location and that the program has write permissions in that directory."
   ]
  },
  {
   "cell_type": "code",
   "execution_count": null,
   "metadata": {},
   "outputs": [],
   "source": [
    "def write_strings_to_file(strings, filename):\n",
    "    with open(filename, 'w') as file:\n",
    "        for string in strings:\n",
    "            file.write(string + '\\n')\n",
    "\n",
    "# Test the function\n",
    "strings = ['Hello', 'World', 'Python', 'Programming']\n",
    "filename = 'output.txt'\n",
    "write_strings_to_file(strings, filename)"
   ]
  },
  {
   "attachments": {},
   "cell_type": "markdown",
   "metadata": {},
   "source": [
    "##### **Yes/No Survey Responses Across Age Groups**\n",
    "\n",
    "You are given five different age groups in the ```age_grouos``` list along with their ```Yes/No``` responses in the ```responses_1``` and ```responses_2``` lists, respectively.\n",
    "\n",
    "1. Create a subplot by initializing a figure and axes.\n",
    "2. Create stacked bar charts based on the data you are given. The first bar should represent the \"Yes\" responses, whereas and the second bar stacks the bars for the \"No\" responses.\n",
    "3. Set the color as ``` \"#024b7a\"```, ```\"#44a5c2\"``` for the Yes/No responses, respectively.\n",
    "4. Set the edge color for both responses as ```\"black\"``` .\n",
    "5. Adjust the line width as 2 for both responses.\n",
    "6. Finally, add a legend, place it to the top left and display the stacked bar chart.\n"
   ]
  },
  {
   "cell_type": "code",
   "execution_count": null,
   "metadata": {},
   "outputs": [],
   "source": [
    "import matplotlib.pyplot as plt\n",
    "\n",
    "# Data\n",
    "age_groups = ['0-10', '11-20', '21-30', '31-40', '41-50']\n",
    "responses_1 = [12, 19, 14, 27, 16]\n",
    "responses_2 = [21, 30, 15, 17, 20]\n",
    "\n",
    "fig, ax = plt.subplots()\n",
    "\n",
    "# Stacked bar chart\n",
    "ax.bar(age_groups, responses_1, label='Yes',\n",
    "       color=\"#024b7a\", edgecolor=\"black\", linewidth=2)\n",
    "ax.bar(age_groups, responses_2, bottom=responses_1, label='No',\n",
    "       color=\"#44a5c2\", edgecolor=\"black\", linewidth=2)\n",
    "\n",
    "# Legend\n",
    "ax.legend(loc='upper left')\n",
    "\n",
    "# Display the chart\n",
    "plt.show()\n"
   ]
  },
  {
   "attachments": {},
   "cell_type": "markdown",
   "metadata": {},
   "source": [
    "##### **Sales Comparison for Two Product Categories**\n",
    "\n",
    "You are analyzing the sales data for two product categories, \"Electronics\" and \"Clothing,\" over a period of five months. The given data consists of the total sales values for each category in the corresponding months. Your task is to create a stacked area plot that visualizes the sales comparison between the two categories.\n",
    "\n",
    "1. Create the stacked area plot with customizations: Use the stackplot function from matplotlib to create the stacked area plot. Pass the months list as the x-axis values and the electronics_sales and clothing_sales lists as the y-axis values.  \n",
    "2. Add labels and title: Enhance the plot by adding labels for the x-axis and y-axis, as well as a title. \n",
    "3. Set the colors using their codes by specifying the colors parameter as ['#00FFFF', '#FF00FF'] for cyan and magenta, respectively. \n",
    "4. Set the edgecolor parameter to 'black' to define the edge color.\n",
    "5. Adjust the line width using the linewidth parameter a line width of 2.\n",
    "6. Finally, add a legend, place it to the top left and display the stacked bar c"
   ]
  },
  {
   "cell_type": "code",
   "execution_count": null,
   "metadata": {},
   "outputs": [],
   "source": [
    "import matplotlib.pyplot as plt\n",
    "\n",
    "# Prepare the data\n",
    "months = ['Jan', 'Feb', 'Mar', 'Apr', 'May']  # x-axis values (months)\n",
    "electronics_sales = [10000, 12000, 11000,\n",
    "                     14000, 13000]  # Electronics sales values\n",
    "clothing_sales = [8000, 9000, 10000, 11000, 12000]  # Clothing sales values\n",
    "\n",
    "# Create the stacked area plot with customizations\n",
    "plt.stackplot(months, electronics_sales, clothing_sales, colors=[\n",
    "              '#00FFFF', '#FF00FF'], edgecolor='black', linewidth=2, labels=['Electronics', 'Clothing'])\n",
    "\n",
    "# Add labels and title\n",
    "plt.xlabel('Months')\n",
    "plt.ylabel('Sales')\n",
    "plt.title('Sales Comparison: Electronics vs Clothing')\n",
    "\n",
    "# Add a legend and customize its position\n",
    "plt.legend(loc='upper left')\n",
    "\n",
    "# Display the plot\n",
    "plt.show()\n"
   ]
  },
  {
   "attachments": {},
   "cell_type": "markdown",
   "metadata": {},
   "source": [
    "##### **Grade for Assignments in \"Learning Basic Python\" Course**\n",
    "\n",
    "You are analyzing the grades for 10 assignments for 6 students. Each assignment consists of 4 tasks. \n",
    "1. Create a scatter plot using the given data, where the x-axis represents the assignments (from 1 to 10) and the y-axis represents the grades. \n",
    "2. Set the marker color as \"green\", the marker style as \"s\" (square), and the marker size as 50. \n",
    "3. Add x and y labels, a title, and display the plot."
   ]
  },
  {
   "cell_type": "code",
   "execution_count": null,
   "metadata": {},
   "outputs": [],
   "source": [
    "import matplotlib.pyplot as plt\n",
    "\n",
    "# Given data\n",
    "assignments = list(range(1, 11))\n",
    "students = ['Student A', 'Student B', 'Student C',\n",
    "            'Student D', 'Student E', 'Student F']\n",
    "grades = [\n",
    "    [85, 78, 90, 92, 70, 85, 80, 75, 88, 90],   # Grades for Student A\n",
    "    [95, 92, 88, 80, 85, 90, 78, 92, 88, 90],   # Grades for Student B\n",
    "    [80, 85, 90, 75, 88, 92, 78, 90, 92, 85],   # Grades for Student C\n",
    "    [90, 88, 85, 92, 78, 80, 75, 85, 90, 88],   # Grades for Student D\n",
    "    [75, 80, 85, 90, 92, 78, 80, 88, 90, 85],   # Grades for Student E\n",
    "    [88, 90, 92, 78, 80, 85, 90, 75, 85, 88]    # Grades for Student F\n",
    "]\n",
    "\n",
    "# Create the scatter plot\n",
    "for i in range(len(students)):\n",
    "    plt.scatter(assignments, grades[i], color='green',\n",
    "                marker='s', s=50, label=students[i])\n",
    "\n",
    "# Add labels and title\n",
    "plt.xlabel('Assignments')\n",
    "plt.ylabel('Grades')\n",
    "plt.title('Assignment Grades for Learning Basic Python')\n",
    "\n",
    "# Add a legend\n",
    "plt.legend()\n",
    "\n",
    "# Display the plot\n",
    "plt.show()\n"
   ]
  },
  {
   "attachments": {},
   "cell_type": "markdown",
   "metadata": {},
   "source": [
    "##### **Perfect numbers**\n",
    "\n",
    "Write a function that checks whether an integer is a perfect number or not.\n",
    "1. The function should take an integer as an input.\n",
    "2. The function should return true if the integer is a perfect number and false if it's not.\n",
    "3. A perfect number is an integer that is equal to the sum of it's proper divisors.\n",
    "4. Example: Divisors of 6 are 1,2, and 3. The sum of 1+2+3=6, then 6 is a perfect number.\n",
    "5. Divisors of 8 are 1,2, and 4. The sum of 1+2+4= 7 not 8, then 8 is a not a perfect number.\n",
    "6. In case of perfect number, the dunction should also display the divisors."
   ]
  },
  {
   "cell_type": "code",
   "execution_count": null,
   "metadata": {},
   "outputs": [],
   "source": [
    "def isPerfect(n):\n",
    "    D = []\n",
    "    for i in range(1, n):\n",
    "        if n % i == 0:\n",
    "            D.append(i)\n",
    "    if sum(D) == n:\n",
    "        print(D)\n",
    "        return True\n",
    "    else:\n",
    "        return False\n",
    "\n",
    "\n",
    "isPerfect(6)\n",
    "isPerfect(8)\n",
    "isPerfect(28)\n"
   ]
  },
  {
   "attachments": {},
   "cell_type": "markdown",
   "metadata": {},
   "source": [
    "##### **Palindrome strings**\n",
    "\n",
    "Write a function that checks with a string is a palindrome.\n",
    "1. The function should take a string as an input.\n",
    "2. The function should return true if the string is palindrome and false if it's not.\n",
    "3. A palindrome is a word, phrase, or sequence that reads the same backward as forward.\n",
    "4. e.g., 𝑚𝑎𝑑𝑎𝑚 or 6102016 or elle is palindrome.\n",
    "5. The function should NOT be case sensitive, i.e., \"a\" and \"A\" are considered equal."
   ]
  },
  {
   "cell_type": "code",
   "execution_count": null,
   "metadata": {},
   "outputs": [],
   "source": [
    "def isPalindrome(str):\n",
    "    str = str.lower()\n",
    "\n",
    "    for i in range(0, int(len(str)/2)):\n",
    "        if str[i] != str[len(str)-i-1]:\n",
    "            return False\n",
    "    return True\n",
    "\n",
    "\n",
    "print(isPalindrome(\"MadAm\"))\n",
    "print(isPalindrome(\"6102016\"))\n",
    "print(isPalindrome(\"Example\"))\n"
   ]
  },
  {
   "attachments": {},
   "cell_type": "markdown",
   "metadata": {},
   "source": [
    "##### **Array retrieval**\n",
    "\n",
    "Write a code to retrieve the following elements from the given array\n",
    "1. 66\n",
    "2. [7 8 9]\n",
    "3. [[ 4  6]  \n",
    "     [44 66]]\n"
   ]
  },
  {
   "cell_type": "code",
   "execution_count": null,
   "metadata": {},
   "outputs": [],
   "source": [
    "import numpy as np\n",
    "\n",
    "arr = np.array([[[[1, 2, 3], [4, 5, 6]], [[7, 8, 9], [10, 11, 12]]],[[[11, 22, 33], [44, 55, 66]], [[77, 88, 99], [100, 110, 120]]]])\n",
    "\n",
    "print(arr[1,0,1,2])\n",
    "print(arr[0,1,0])\n",
    "print(arr[0:2,0,1,0:3:2])"
   ]
  }
 ],
 "metadata": {
  "kernelspec": {
   "display_name": "Python 3 (ipykernel)",
   "language": "python",
   "name": "python3"
  },
  "language_info": {
   "codemirror_mode": {
    "name": "ipython",
    "version": 3
   },
   "file_extension": ".py",
   "mimetype": "text/x-python",
   "name": "python",
   "nbconvert_exporter": "python",
   "pygments_lexer": "ipython3",
   "version": "3.8.8"
  }
 },
 "nbformat": 4,
 "nbformat_minor": 4
}
