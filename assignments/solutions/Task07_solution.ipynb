{
 "cells": [
  {
   "cell_type": "markdown",
   "metadata": {},
   "source": [
    "# Coding Tasks - Week 7\n",
    "Welcome to the Python Programming Exercise Sheet!  \n",
    "In this exercise sheet, we will cover some of the fundamental concepts in Python programming.  \n",
    "Topics covered are: NumPy.\n",
    "\n",
    "___\n",
    "\n",
    "**DEADLINE**:  19th June until 12:15  \n",
    "**Your name here**: Example Person  \n",
    "**Your university mail**: example.person@uos.de\n",
    "\n",
    "___\n",
    "\n",
    "**Important information**:  \n",
    "In order to pass this sheet you need to achieve  /  points.  \n",
    "For the best possible grade you require  /  points, however, since some harder tasks may take a lot of time you don't have to pressure yourself.  \n",
    "If you complete any three tasks on a sheet you will definitely get a good grade for that sheet.  \n",
    "Hand in your sheet in studip in the respective folder until the deadline.  \n",
    "If you receive no email until a few days after submission you will have passed, the sample solution will also be uploaded around then.  \n",
    "If you receive an email you don't need to worry, you can fail one sheet and also your total points will also be taken into account for the final pass or fail.  "
   ]
  },
  {
   "cell_type": "markdown",
   "metadata": {},
   "source": [
    "### Task 1 - Array Manipulation (4 points)\n",
    "\n",
    "Create a Python program that takes a 1D NumPy array of size 10 with random integer values between 1 and 100 (inclusive) and performs the following operations:\n",
    "\n",
    "- Create the 1D array with the specified size.\n",
    "- Reshape the array into a 2x5 matrix.\n",
    "- Transpose the matrix.\n",
    "- Finally, find the index of the maximum value in the array."
   ]
  },
  {
   "cell_type": "code",
   "execution_count": 1,
   "metadata": {},
   "outputs": [
    {
     "name": "stdout",
     "output_type": "stream",
     "text": [
      "The original array:\n",
      "[28 24 78 73 68  4 78 78 90 72]\n",
      "The reshaped array:\n",
      "[[28 24 78 73 68]\n",
      " [ 4 78 78 90 72]]\n",
      "The transposed array:\n",
      "[[28  4]\n",
      " [24 78]\n",
      " [78 78]\n",
      " [73 90]\n",
      " [68 72]]\n",
      "The index of the maximum value:\n",
      "7\n"
     ]
    }
   ],
   "source": [
    "import numpy as np\n",
    "\n",
    "# Create a 1D array of size 10 with random integer values between 1 and 100\n",
    "arr = np.random.randint(1, 101, 10)\n",
    "\n",
    "# Reshape the array into a 2x5 matrix\n",
    "arr_reshaped = arr.reshape(2, 5)\n",
    "\n",
    "# Transpose the matrix\n",
    "arr_transposed = arr_reshaped.T\n",
    "\n",
    "# Find the index of the maximum value in the array\n",
    "max_index = np.argmax(arr_transposed)\n",
    "\n",
    "print(f\"The original array:\\n{arr}\")\n",
    "print(f\"The reshaped array:\\n{arr_reshaped}\")\n",
    "print(f\"The transposed array:\\n{arr_transposed}\")\n",
    "print(f\"The index of the maximum value:\\n{max_index}\")"
   ]
  },
  {
   "cell_type": "markdown",
   "metadata": {},
   "source": [
    "### Task 2 - Standart Deviation Ratio (SDR) (4 points)\n",
    "\n",
    "Implement a Python program that calculates the standard deviation ratio (SDR) of a given 1D NumPy array. SDR represents the ratio of the standard deviation of the positive elements to the standard deviation of the negative elements.\n",
    "\n",
    "- Create a 1D array of 100 random values.\n",
    "- Split the array into positive and negative elements.\n",
    "- Calculate the standard deviations of the positive and negative arrays.\n",
    "- Calculate the standard deviation ratio (SDR)."
   ]
  },
  {
   "cell_type": "code",
   "execution_count": 2,
   "metadata": {},
   "outputs": [
    {
     "name": "stdout",
     "output_type": "stream",
     "text": [
      "Array:\n",
      "[-3.89679664  1.31770312  0.58666012 -1.0594752  -0.94424644  1.11292213\n",
      "  0.2298298   0.21822671 -0.61376412  0.27308286  0.29114748 -0.66248251\n",
      " -0.86127977  1.25678745  0.14963326 -0.69922362  1.84505836  1.54586812\n",
      "  0.05730171  0.88622044 -0.6861101   0.70309463  0.0992753  -0.52203482\n",
      "  0.03115307  0.95038904  1.82505495  0.36370483  1.04859705 -0.33203868\n",
      " -1.06726152  0.24361346 -1.68749698 -1.10461287 -0.16647153 -1.77760061\n",
      "  0.78540042  0.87260016  1.99561359 -1.03412964  1.58296936  0.58413157\n",
      "  0.30027784 -1.88010195  0.72188212  0.85539773  1.23962903 -1.9209404\n",
      " -0.65537002 -0.33701364 -1.91434973  0.2023673   0.63636166 -0.07754958\n",
      "  1.72859017 -0.97148152 -1.52887064 -0.44729028  0.02973173  1.67068885\n",
      " -0.81374705 -0.58852448 -0.43639926  1.61111972 -1.4287785   0.54054792\n",
      "  1.41726689  0.06001002 -0.36250579 -1.57787675 -0.53107239  0.55677774\n",
      "  0.62078917 -0.06002853  1.31566948  0.35497511 -2.21186659 -0.95564218\n",
      " -0.98344238  0.29522796 -0.50732686 -0.36238439 -0.39005487  2.2326904\n",
      "  0.47118899 -0.46267149  1.13422152 -1.0556227  -0.03363174  0.46788467\n",
      " -1.42429249 -0.28894436  2.02542518  0.40815427 -0.26389213 -0.35597153\n",
      "  0.28860415 -0.41905139  0.27567682  1.23537074]\n",
      "The positive array:\n",
      "[1.31770312 0.58666012 1.11292213 0.2298298  0.21822671 0.27308286\n",
      " 0.29114748 1.25678745 0.14963326 1.84505836 1.54586812 0.05730171\n",
      " 0.88622044 0.70309463 0.0992753  0.03115307 0.95038904 1.82505495\n",
      " 0.36370483 1.04859705 0.24361346 0.78540042 0.87260016 1.99561359\n",
      " 1.58296936 0.58413157 0.30027784 0.72188212 0.85539773 1.23962903\n",
      " 0.2023673  0.63636166 1.72859017 0.02973173 1.67068885 1.61111972\n",
      " 0.54054792 1.41726689 0.06001002 0.55677774 0.62078917 1.31566948\n",
      " 0.35497511 0.29522796 2.2326904  0.47118899 1.13422152 0.46788467\n",
      " 2.02542518 0.40815427 0.28860415 0.27567682 1.23537074]\n",
      "The negative array:\n",
      "[-3.89679664 -1.0594752  -0.94424644 -0.61376412 -0.66248251 -0.86127977\n",
      " -0.69922362 -0.6861101  -0.52203482 -0.33203868 -1.06726152 -1.68749698\n",
      " -1.10461287 -0.16647153 -1.77760061 -1.03412964 -1.88010195 -1.9209404\n",
      " -0.65537002 -0.33701364 -1.91434973 -0.07754958 -0.97148152 -1.52887064\n",
      " -0.44729028 -0.81374705 -0.58852448 -0.43639926 -1.4287785  -0.36250579\n",
      " -1.57787675 -0.53107239 -0.06002853 -2.21186659 -0.95564218 -0.98344238\n",
      " -0.50732686 -0.36238439 -0.39005487 -0.46267149 -1.0556227  -0.03363174\n",
      " -1.42429249 -0.28894436 -0.26389213 -0.35597153 -0.41905139]\n",
      "Standard Deviation Ratio:\n",
      "0.8569715322212154\n"
     ]
    }
   ],
   "source": [
    "import numpy as np\n",
    "\n",
    "# Create a 1D array of 100 random values\n",
    "arr1 = np.random.randn(100)\n",
    "\n",
    "# Split the array into positive and negative elements\n",
    "positive_array = arr1[arr1 > 0]\n",
    "negative_array = arr1[arr1 < 0]\n",
    "\n",
    "# Calculate the standard deviations\n",
    "positive_std_dev = np.std(positive_array)\n",
    "negative_std_dev = np.std(negative_array)\n",
    "\n",
    "# Calculate the standard deviation ratio\n",
    "sdr = positive_std_dev / negative_std_dev\n",
    "\n",
    "print(f\"Array:\\n{arr1}\")\n",
    "print(f\"The positive array:\\n{positive_array}\")\n",
    "print(f\"The negative array:\\n{negative_array}\")\n",
    "print(f\"Standard Deviation Ratio:\\n{sdr}\")"
   ]
  },
  {
   "cell_type": "markdown",
   "metadata": {},
   "source": [
    "### Task 3 - Identity Matrix (3 points)\n",
    "\n",
    "Create a 5x5 identity matrix where:\n",
    "\n",
    "- All diagonal elements are equal to 0.\n",
    "- The rest of the elements should be random integers between 0 and 50 (inclusive)."
   ]
  },
  {
   "cell_type": "code",
   "execution_count": 3,
   "metadata": {},
   "outputs": [
    {
     "name": "stdout",
     "output_type": "stream",
     "text": [
      "[[ 0. 32.  7. 28. 32.]\n",
      " [28.  0. 35. 16. 10.]\n",
      " [37. 11.  0. 25. 22.]\n",
      " [33.  1. 35.  0.  5.]\n",
      " [31. 46. 34.  4.  0.]]\n"
     ]
    }
   ],
   "source": [
    "import numpy as np\n",
    "\n",
    "# Create a 5x5 identity matrix\n",
    "identity_matrix = np.zeros((5,5))\n",
    "\n",
    "# Generate random integers between 0 and 50 (inclusive)\n",
    "random_integers = np.random.randint(0, 51, (5, 5))\n",
    "\n",
    "# Replace the non-diagonal elements with random integers\n",
    "identity_matrix[~np.eye(5, dtype=bool)] = random_integers[~np.eye(5, dtype=bool)]\n",
    "\n",
    "print(identity_matrix)"
   ]
  },
  {
   "cell_type": "markdown",
   "metadata": {},
   "source": [
    "### Task 4 - Calculate the Euclidean distance between two arrays (2 points)\n",
    "The Euclidean distance measures the straight-line distance between two points in space. In this task, you will calculate the Euclidean distance between two 1-dimensional arrays using the NumPy library.\n",
    "\n",
    "**Hint:** To calculate the Euclidean distance between the two arrays, we can use the np.linalg.norm() function. This function calculates the norm, which is a generalized form of the Euclidean distance, of the difference between the arrays:\n"
   ]
  },
  {
   "cell_type": "code",
   "execution_count": 4,
   "metadata": {},
   "outputs": [
    {
     "name": "stdout",
     "output_type": "stream",
     "text": [
      "Euclidean Distance: 5.196152422706632\n"
     ]
    }
   ],
   "source": [
    "import numpy as np\n",
    "\n",
    "# Create two 1-dimensional arrays\n",
    "arr1 = np.array([1, 2, 3])\n",
    "arr2 = np.array([4, 5, 6])\n",
    "\n",
    "# Calculate the difference between the two arrays\n",
    "difference = arr1 - arr2\n",
    "\n",
    "# Calculate the Euclidean distance using the norm function from the linalg module\n",
    "distance = np.linalg.norm(difference)\n",
    "\n",
    "# Print the calculated Euclidean distance\n",
    "print(\"Euclidean Distance:\", distance)\n",
    "\n"
   ]
  },
  {
   "cell_type": "markdown",
   "metadata": {},
   "source": [
    "### Task 5 - Find the Point of Exceeding a Cumulative Sum Threshold (4 points)\n",
    "\n",
    "Generate a random 1-dimensional array of size 100 with values ranging from 0 to 9. Calculate the cumulative sum of the array and find the index where the cumulative sum exceeds 100 for the first time, then print the index.\n",
    "Description:\n",
    "In this task, you will work with a randomly generated 1-dimensional array of numerical values. Your goal is to calculate the cumulative sum of the array, which represents the running total of the values. Then, you need to identify the position in the array where the cumulative sum exceeds a specific threshold."
   ]
  },
  {
   "cell_type": "code",
   "execution_count": 5,
   "metadata": {},
   "outputs": [
    {
     "name": "stdout",
     "output_type": "stream",
     "text": [
      "Index where cumulative sum exceeds 100 : 16\n"
     ]
    }
   ],
   "source": [
    "import numpy as np\n",
    "\n",
    "# Generate a random 1-dimensional array of size 100 with values ranging from 0 to 9\n",
    "arr = np.random.randint(0, 10, size=100)\n",
    "\n",
    "# Calculate the cumulative sum of the array\n",
    "cumulative_sum = np.cumsum(arr)\n",
    "\n",
    "# Set the threshold value\n",
    "threshold = 100\n",
    "\n",
    "# Find the index where the cumulative sum first exceeds the threshold\n",
    "index = np.argmax(cumulative_sum > threshold)\n",
    "\n",
    "# Print the index where the cumulative sum exceeds the threshold\n",
    "print(\"Index where cumulative sum exceeds\", threshold, \":\", index)\n"
   ]
  },
  {
   "cell_type": "markdown",
   "metadata": {},
   "source": [
    "### Task 6 - Performing Linear Algebra Operations (3 points)\n",
    "Description: In this task, you will work with a randomly generated 2-dimensional array and perform linear algebra operations using NumPy. You will calculate the determinant of the array, compute its inverse, and verify that the product of the array and its inverse yields the identity matrix. This task provides an opportunity to explore fundamental linear algebra concepts, such as determinants, matrix inverses, and the properties of the identity matrix, using NumPy.\n",
    "\n",
    "1. Create a 2-dimensional array with shape (2, 2) and fill it with random integers between 1 and 9.\n",
    "2. Calculate the determinant of the array.\n",
    "3. Compute the inverse of the array.\n",
    "4. Multiply the array by its inverse.\n",
    "5. Print the final array."
   ]
  },
  {
   "cell_type": "code",
   "execution_count": 6,
   "metadata": {},
   "outputs": [
    {
     "name": "stdout",
     "output_type": "stream",
     "text": [
      "Identity Matrix:\n",
      " [[ 1.00000000e+00  0.00000000e+00]\n",
      " [-1.11022302e-16  1.00000000e+00]]\n"
     ]
    }
   ],
   "source": [
    "import numpy as np\n",
    "\n",
    "# Generate a random 2-dimensional array with shape (2, 2) and random integers between 1 and 9\n",
    "arr = np.random.randint(1, 10, size=(2, 2))\n",
    "\n",
    "# Calculate the determinant of the array\n",
    "determinant = np.linalg.det(arr)\n",
    "\n",
    "# Compute the inverse of the array\n",
    "inverse = np.linalg.inv(arr)\n",
    "\n",
    "# Multiply the array by its inverse to obtain the identity matrix\n",
    "identity = np.dot(arr, inverse)\n",
    "\n",
    "# Print the resulting identity matrix\n",
    "print(\"Identity Matrix:\\n\", identity)\n"
   ]
  }
 ],
 "metadata": {
  "kernelspec": {
   "display_name": "Python 3 (ipykernel)",
   "language": "python",
   "name": "python3"
  },
  "language_info": {
   "codemirror_mode": {
    "name": "ipython",
    "version": 3
   },
   "file_extension": ".py",
   "mimetype": "text/x-python",
   "name": "python",
   "nbconvert_exporter": "python",
   "pygments_lexer": "ipython3",
   "version": "3.8.8"
  }
 },
 "nbformat": 4,
 "nbformat_minor": 4
}
