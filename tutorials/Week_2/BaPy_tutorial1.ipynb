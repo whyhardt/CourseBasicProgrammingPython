{
  "cells": [
    {
      "cell_type": "markdown",
      "metadata": {
        "id": "a5Mhyc06zg2X"
      },
      "source": [
        "# Basic Programming in Python\n",
        "\n",
        "## Summer Term 2024\n",
        "\n",
        "### Tutorial"
      ]
    },
    {
      "cell_type": "markdown",
      "metadata": {
        "id": "Lby54vHx1M-x"
      },
      "source": [
        "#### Printing to the Console\n",
        "\n",
        " 1. Let's keep pace with the tradition and print a message to the console, such as \"I love Python!\". If you wish, you can print it in any language you want! Don't forget this is your very first program, so be proud! 😎\n"
      ]
    },
    {
      "cell_type": "code",
      "execution_count": null,
      "metadata": {
        "id": "gePlYQHz4REa"
      },
      "outputs": [],
      "source": [
        "print()"
      ]
    },
    {
      "cell_type": "markdown",
      "metadata": {
        "id": "ydRE0JOB6MLC"
      },
      "source": [
        "2. Write a program that prints out the lyrics to the song \"99 Bottles of Beer\" with using one print statement. The first line should be \"99 bottles of beer on the wall, 99 bottles of beer...\" and the last line should be \"No more bottles of beer on the wall, no more bottles of beer. Go to the store and buy some more, 99 bottles of beer on the wall.\""
      ]
    },
    {
      "cell_type": "code",
      "execution_count": null,
      "metadata": {
        "colab": {
          "base_uri": "https://localhost:8080/"
        },
        "id": "At2x3Yg-7TOQ",
        "outputId": "b2adff70-901c-4efc-bc9f-f8f75ebd3570"
      },
      "outputs": [
        {
          "name": "stdout",
          "output_type": "stream",
          "text": [
            "99 bottles of beer on the wall, 99 bottles of beer ...\n",
            "No more bottles of beer on the wall, no more bottles of beer. Go to the store and buy some more, 99 bottles of beer on the wall.\n"
          ]
        }
      ],
      "source": [
        "print(\"99 bottles of beer on the wall, 99 bottles of beer ...\\nNo more bottles of beer on the wall, no more bottles of beer. Go to the store and buy some more, 99 bottles of beer on the wall.\")"
      ]
    },
    {
      "cell_type": "markdown",
      "metadata": {
        "id": "fr0FgsEAwFyv"
      },
      "source": [
        "#### Math Operator Precedence Rules\n",
        "\n",
        "PEMDAS - LR (LEFT TO RIGHT)\n",
        "\n",
        "\n",
        "() \n",
        "\n",
        "**\n",
        "\n",
        "*/\n",
        "\n",
        "+-\n"
      ]
    },
    {
      "cell_type": "markdown",
      "metadata": {
        "id": "W02nuowX0ZaL"
      },
      "source": [
        "3. Think about what the results would be for the following expressions, and then type them to verify your answers!\n",
        "\n",
        "- 25 / 4 * 4 \n",
        "\n",
        "- 3 + 4 ** 2\n",
        "\n",
        "- 4 / 12 + 4\n",
        "\n",
        "- 3 ** 2\n",
        "\n",
        "- (5 – 2) * 3\n",
        "\n",
        "- 16**1/2"
      ]
    },
    {
      "cell_type": "code",
      "execution_count": null,
      "metadata": {
        "id": "23x9JfL168J4"
      },
      "outputs": [],
      "source": [
        "25 / 4 * 4\n",
        "\n",
        "#Try to calculate 25 / (4*4) as well. Why is the result different?\n",
        "#Play around with math operators and try to solve the rest! :)"
      ]
    },
    {
      "cell_type": "markdown",
      "metadata": {
        "id": "aMZ4RPDV_7L0"
      },
      "source": [
        "4. Write a Python program that makes this computation on an integer number (n): n*nn+nnn"
      ]
    },
    {
      "cell_type": "code",
      "execution_count": null,
      "metadata": {
        "id": "Fmg_PFIhALCr"
      },
      "outputs": [],
      "source": [
        "n = 5\n",
        "\n",
        "#Type conversion\n",
        "nn = int(str(n) + str(n))\n",
        "nnn = int(str(n) + str(n) + str(n))\n",
        "\n",
        "print(n * nn + nnn) "
      ]
    },
    {
      "cell_type": "markdown",
      "metadata": {
        "id": "xfV9m6OQ7d-B"
      },
      "source": [
        "5. Create a program that calculates the area of a rectangle with a width of 4 and a height of 5, and then prints the result with an appropriate massage to the console."
      ]
    },
    {
      "cell_type": "code",
      "execution_count": null,
      "metadata": {
        "id": "-B6WwXKg8J4r"
      },
      "outputs": [],
      "source": []
    },
    {
      "cell_type": "markdown",
      "metadata": {
        "id": "ODQYOAcE9n-s"
      },
      "source": [
        "6. Wind often makes the air feel even colder than it is. The Wind Chill Factor (WCF) measures how cold it feels with a given air temperature (T, in degrees Fahrenheit) and wind speed (V, in miles per hour). One formula for the WCF is:\n",
        "\n",
        "    WCF=35.7+0.6T–35.7(V0.16)+0.43T(V0.16)\n",
        "\n",
        "Create variables for the temperature T and wind speed V, and then using this formula calculate the WCF.\n"
      ]
    },
    {
      "cell_type": "code",
      "execution_count": null,
      "metadata": {
        "id": "81rBeZEcAcqd"
      },
      "outputs": [],
      "source": [
        "#The formula to convert from Celcius to Fahrenheit: (Celcius * 9 / 5) + 32\n",
        "\n",
        "T = 18\n",
        "V = 10\n",
        "\n",
        "WCF = 35.7 + 0.6 * (T) - 35.7 * (V * 0.16) + 0.43 * (T) * (V * 0.16)\n",
        "\n",
        "print(WCF)"
      ]
    },
    {
      "cell_type": "markdown",
      "metadata": {
        "id": "MOkOr-3q-t6j"
      },
      "source": [
        "#### If Statement\n",
        "\n",
        "7. Create a program that defines a variable day with the value \"Tuesday\". If the day is a weekday (Monday to Friday), print \"It's a weekday\". If the day is a weekend day (Saturday or Sunday), print \"It's the weekend\"."
      ]
    },
    {
      "cell_type": "code",
      "execution_count": null,
      "metadata": {
        "id": "mr91CKL7_q1L"
      },
      "outputs": [],
      "source": [
        "day = \"Tuesday\"\n",
        "\n",
        "if day == \"Monday\" or day == \"Tuesday\" or day == \"Wednesday\" or day == \"Thursday\" or day == \"Friday\":\n",
        "  print(\"It is a weekday!\")\n",
        "else:\n",
        "  print(\"It is the weekend!\")"
      ]
    },
    {
      "cell_type": "markdown",
      "metadata": {
        "id": "yTeDYkl9DQsE"
      },
      "source": [
        "8. Write a program that generates a random number between 1 and 100 and then prints a message to the console indicating whether that number is divisible by 3, 5, both, or neither."
      ]
    },
    {
      "cell_type": "code",
      "execution_count": null,
      "metadata": {
        "id": "PkSZ1hoxDaw2",
        "tags": []
      },
      "outputs": [],
      "source": [
        "import random\n",
        "\n",
        "#Since randrange(a, b) function is exclusive at the stop value, we added +1.\n",
        "my_random_number = random.randrange(1, 101)\n",
        "\n",
        "#It is a good practice to have print statements to check the values of your variables.\n",
        "print(my_random_number) \n",
        "\n",
        "#Remember to use double equal signs \"==\" to compare different values.\n",
        "if my_random_number % 3 == 0 and my_random_number % 5 == 0: \n",
        "  print(\"It is divisible by both 3 and 5.\")\n",
        "elif my_random_number % 3 == 0:\n",
        "  print(\"It is only divisible by 3.\")\n",
        "elif my_random_number % 5 == 0:\n",
        "  print(\"It is only divisible by 5.\")\n",
        "else:\n",
        "  print(\"It is neither divisible by 3 nor 5.\")"
      ]
    }
  ],
  "metadata": {
    "colab": {
      "provenance": []
    },
    "kernelspec": {
      "display_name": "Python 3 (ipykernel)",
      "language": "python",
      "name": "python3"
    },
    "language_info": {
      "codemirror_mode": {
        "name": "ipython",
        "version": 3
      },
      "file_extension": ".py",
      "mimetype": "text/x-python",
      "name": "python",
      "nbconvert_exporter": "python",
      "pygments_lexer": "ipython3",
      "version": "3.9.12"
    }
  },
  "nbformat": 4,
  "nbformat_minor": 0
}
