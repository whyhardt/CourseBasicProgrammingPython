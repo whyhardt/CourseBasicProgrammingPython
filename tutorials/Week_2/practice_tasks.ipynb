{
 "cells": [
  {
   "cell_type": "markdown",
   "id": "2078d0dd-7ecd-4e7d-a14e-dcf16b5522ae",
   "metadata": {},
   "source": [
    "# Practice tasks\n",
    "## Formula implementation\n",
    "Implement the following formulas in Python:  \n",
    "a) 10 plus 5 divided by 3  \n",
    "b) 10 plus 5 in brackets, divided by 3  \n",
    "c) Ten to the power of 4 (two options)  \n",
    "d) Remainder of 10 divided by 3, minus 10  \n",
    "e) Minus 15 times 2.5, integer-divided by seven  "
   ]
  },
  {
   "cell_type": "code",
   "execution_count": null,
   "id": "5b3ebf10-5b5e-46ee-85fa-4b6465685ab9",
   "metadata": {},
   "outputs": [],
   "source": []
  },
  {
   "cell_type": "code",
   "execution_count": null,
   "id": "ae9870ac-0485-42f9-8a3b-7abc7707b51f",
   "metadata": {},
   "outputs": [],
   "source": []
  },
  {
   "cell_type": "code",
   "execution_count": null,
   "id": "ae8e4da3-47d3-4cb7-bc15-645b8d4b7742",
   "metadata": {},
   "outputs": [],
   "source": []
  },
  {
   "cell_type": "code",
   "execution_count": null,
   "id": "580dbd53-9137-4e3f-b535-70a3f850409f",
   "metadata": {},
   "outputs": [],
   "source": []
  },
  {
   "cell_type": "code",
   "execution_count": null,
   "id": "525088d4-4a89-4170-beab-b4d208852acd",
   "metadata": {},
   "outputs": [],
   "source": []
  },
  {
   "cell_type": "markdown",
   "id": "c2e35f8c-8ad8-4a7b-b565-dd775f64ba90",
   "metadata": {},
   "source": [
    "## What will be printed?\n",
    "For this task you will be made familiar with the input keyword in python.  \n",
    "You can type ```input()``` and a string that you type in, until you hit enter, will be inserted where it is.  \n",
    "It can be used both for single-time input and be stored in a variable.  \n",
    "Keep in mind you will need to convert it to integer in case you don't want a string for example.  \n",
    "Example usage:"
   ]
  },
  {
   "cell_type": "code",
   "execution_count": null,
   "id": "c9b0c660-d202-46f2-9912-541b491bdcd0",
   "metadata": {
    "tags": []
   },
   "outputs": [],
   "source": [
    "7 + int(input())"
   ]
  },
  {
   "cell_type": "code",
   "execution_count": null,
   "id": "93b30cb8-336a-4d3c-aed1-ee3289f0f441",
   "metadata": {
    "tags": []
   },
   "outputs": [],
   "source": [
    "variable_a = input()\n",
    "print(type(variable_a), variable_a)"
   ]
  },
  {
   "cell_type": "markdown",
   "id": "9bd84497-8d99-4423-ae79-ffc835b7f772",
   "metadata": {},
   "source": [
    "Run each cell and type into the input request a string of what you think will be the output of executing a given cell:\n",
    "\n",
    "### a) Conditional I"
   ]
  },
  {
   "cell_type": "code",
   "execution_count": 3,
   "id": "929ac23d-b6f7-42ef-b3d5-6f996202644e",
   "metadata": {
    "tags": []
   },
   "outputs": [
    {
     "data": {
      "text/plain": [
       "False"
      ]
     },
     "execution_count": 3,
     "metadata": {},
     "output_type": "execute_result"
    }
   ],
   "source": [
    "input() #your guess\n",
    "True and False"
   ]
  },
  {
   "cell_type": "markdown",
   "id": "191fc1a0-9375-4ae4-b3ab-f34ee9fe9917",
   "metadata": {},
   "source": [
    "### b) Conditional II"
   ]
  },
  {
   "cell_type": "code",
   "execution_count": null,
   "id": "2c76cb9b-2d7c-44fe-863d-b1f63bf906d1",
   "metadata": {
    "tags": []
   },
   "outputs": [],
   "source": [
    "input() #your guess\n",
    "(11 % 2) == 0"
   ]
  },
  {
   "cell_type": "markdown",
   "id": "60afea22-591e-41c0-a56b-44514c5d35bb",
   "metadata": {},
   "source": [
    "### c) Conditional III"
   ]
  },
  {
   "cell_type": "code",
   "execution_count": null,
   "id": "2aa7f93d-1407-44ba-97a0-a0bc005aba02",
   "metadata": {
    "tags": []
   },
   "outputs": [],
   "source": [
    "input() #your guess\n",
    "not(not(True and False) and False)"
   ]
  },
  {
   "cell_type": "markdown",
   "id": "e91c72b2-bb98-457e-94e6-d69317b6afc3",
   "metadata": {},
   "source": [
    "### d) Conditional IV"
   ]
  },
  {
   "cell_type": "code",
   "execution_count": 4,
   "id": "6cb8f2ae-9b25-4d87-83ee-dbf189e569e9",
   "metadata": {
    "tags": []
   },
   "outputs": [
    {
     "data": {
      "text/plain": [
       "25.0"
      ]
     },
     "execution_count": 4,
     "metadata": {},
     "output_type": "execute_result"
    }
   ],
   "source": [
    "input() #your guess\n",
    "(10.72 // 2)**2"
   ]
  },
  {
   "cell_type": "markdown",
   "id": "b21cc986-0b11-42d7-ab1d-f65bd6800133",
   "metadata": {},
   "source": [
    "### e) Conditional V"
   ]
  },
  {
   "cell_type": "code",
   "execution_count": null,
   "id": "7568342c-d2e9-4e75-b0dc-acdd5bdc9baf",
   "metadata": {
    "tags": []
   },
   "outputs": [],
   "source": [
    "input() #your guess\n",
    "type(2.30) != float"
   ]
  },
  {
   "cell_type": "markdown",
   "id": "b8e8a506-a833-4cf7-8eb0-0c96565592bc",
   "metadata": {},
   "source": [
    "### f) Conditional VI"
   ]
  },
  {
   "cell_type": "code",
   "execution_count": null,
   "id": "ccc3921d-7730-4a5d-9c83-c41243a96e9f",
   "metadata": {},
   "outputs": [],
   "source": [
    "input() #your guess\n",
    "\"Beep\" if 7 > 3 else \"Boop\""
   ]
  },
  {
   "cell_type": "markdown",
   "id": "3831aa9e-b45d-4047-be7a-da354cf967e8",
   "metadata": {},
   "source": [
    "## If statement color task\n",
    "Please write an if statement in the cell with ```#add your code below here``` which prints out the result of mixing colors.  \n",
    "You should handle the following cases:  \n",
    "1) In case either of the two colors is not (red, yellow, blue), print a statement saying that that color ```color_n``` is not a valid color selected.\n",
    "2) In case you have red and yellow, print orange.\n",
    "3) In case you have red and blue, print purple.\n",
    "4) In case you have yellow and blue, print green.\n",
    "5) In case both colors have the same name, print either color name."
   ]
  },
  {
   "cell_type": "code",
   "execution_count": null,
   "id": "ad07fc4a-65f5-4f8f-ae10-b5c2d079490e",
   "metadata": {
    "tags": []
   },
   "outputs": [],
   "source": [
    "color_a = input()"
   ]
  },
  {
   "cell_type": "code",
   "execution_count": null,
   "id": "b85740cb-2aa9-4511-8771-fe60c1dc1609",
   "metadata": {
    "tags": []
   },
   "outputs": [],
   "source": [
    "color_b = input()"
   ]
  },
  {
   "cell_type": "code",
   "execution_count": null,
   "id": "8afcaab3-87a0-4f76-9942-84cc7a491966",
   "metadata": {},
   "outputs": [],
   "source": [
    "#add your code below here"
   ]
  }
 ],
 "metadata": {
  "kernelspec": {
   "display_name": "Python 3 (ipykernel)",
   "language": "python",
   "name": "python3"
  },
  "language_info": {
   "codemirror_mode": {
    "name": "ipython",
    "version": 3
   },
   "file_extension": ".py",
   "mimetype": "text/x-python",
   "name": "python",
   "nbconvert_exporter": "python",
   "pygments_lexer": "ipython3",
   "version": "3.11.8"
  }
 },
 "nbformat": 4,
 "nbformat_minor": 5
}
