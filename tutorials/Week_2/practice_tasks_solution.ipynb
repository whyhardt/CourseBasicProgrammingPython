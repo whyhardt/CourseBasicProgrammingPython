{
 "cells": [
  {
   "cell_type": "markdown",
   "id": "2078d0dd-7ecd-4e7d-a14e-dcf16b5522ae",
   "metadata": {},
   "source": [
    "# Practice tasks\n",
    "## Formula implementation\n",
    "Implement the following formulas in Python:  \n",
    "a) 10 plus 5 divided by 3  \n",
    "b) 10 plus 5 in brackets, divided by 3  \n",
    "c) 10 to the power of 4 (two options)  \n",
    "d) Remainder of 10 divided by 3, minus 10  \n",
    "e) Minus 15 times 2.5, integer-divided by 7 "
   ]
  },
  {
   "cell_type": "code",
   "execution_count": 18,
   "id": "5b3ebf10-5b5e-46ee-85fa-4b6465685ab9",
   "metadata": {
    "tags": []
   },
   "outputs": [
    {
     "data": {
      "text/plain": [
       "11.666666666666666"
      ]
     },
     "execution_count": 18,
     "metadata": {},
     "output_type": "execute_result"
    }
   ],
   "source": [
    "10 + 5 / 3"
   ]
  },
  {
   "cell_type": "code",
   "execution_count": 25,
   "id": "ae9870ac-0485-42f9-8a3b-7abc7707b51f",
   "metadata": {
    "tags": []
   },
   "outputs": [
    {
     "data": {
      "text/plain": [
       "5.0"
      ]
     },
     "execution_count": 25,
     "metadata": {},
     "output_type": "execute_result"
    }
   ],
   "source": [
    "(10 + 5) / 3"
   ]
  },
  {
   "cell_type": "code",
   "execution_count": 23,
   "id": "ae8e4da3-47d3-4cb7-bc15-645b8d4b7742",
   "metadata": {
    "tags": []
   },
   "outputs": [
    {
     "data": {
      "text/plain": [
       "True"
      ]
     },
     "execution_count": 23,
     "metadata": {},
     "output_type": "execute_result"
    }
   ],
   "source": [
    "10**4 == int(1e4) #either of the two"
   ]
  },
  {
   "cell_type": "code",
   "execution_count": 28,
   "id": "580dbd53-9137-4e3f-b535-70a3f850409f",
   "metadata": {
    "tags": []
   },
   "outputs": [
    {
     "data": {
      "text/plain": [
       "-9"
      ]
     },
     "execution_count": 28,
     "metadata": {},
     "output_type": "execute_result"
    }
   ],
   "source": [
    "10 % 3 - 10"
   ]
  },
  {
   "cell_type": "code",
   "execution_count": 31,
   "id": "525088d4-4a89-4170-beab-b4d208852acd",
   "metadata": {
    "tags": []
   },
   "outputs": [
    {
     "data": {
      "text/plain": [
       "-6.0"
      ]
     },
     "execution_count": 31,
     "metadata": {},
     "output_type": "execute_result"
    }
   ],
   "source": [
    "-15 * 2.5 // 7"
   ]
  },
  {
   "cell_type": "markdown",
   "id": "c2e35f8c-8ad8-4a7b-b565-dd775f64ba90",
   "metadata": {},
   "source": [
    "## What will be printed?\n",
    "For this task you will be made familiar with the input keyword in python.  \n",
    "You can type ```input()``` and a string that you type in, until you hit enter, will be inserted where it is.  \n",
    "It can be used both for single-time input and be stored in a variable.  \n",
    "Keep in mind you will need to convert it to integer in case you don't want a string for example.  \n",
    "Example usage:"
   ]
  },
  {
   "cell_type": "code",
   "execution_count": null,
   "id": "c9b0c660-d202-46f2-9912-541b491bdcd0",
   "metadata": {
    "tags": []
   },
   "outputs": [],
   "source": [
    "7 + int(input())"
   ]
  },
  {
   "cell_type": "code",
   "execution_count": null,
   "id": "93b30cb8-336a-4d3c-aed1-ee3289f0f441",
   "metadata": {
    "tags": []
   },
   "outputs": [],
   "source": [
    "variable_a = input()\n",
    "print(type(variable_a), variable_a)"
   ]
  },
  {
   "cell_type": "markdown",
   "id": "9bd84497-8d99-4423-ae79-ffc835b7f772",
   "metadata": {},
   "source": [
    "Please type as a string in input what you think will be the output of executing a given cell:\n",
    "\n",
    "### a) Conditional I"
   ]
  },
  {
   "cell_type": "code",
   "execution_count": null,
   "id": "929ac23d-b6f7-42ef-b3d5-6f996202644e",
   "metadata": {
    "tags": []
   },
   "outputs": [],
   "source": [
    "input() #your guess\n",
    "True and False"
   ]
  },
  {
   "cell_type": "markdown",
   "id": "191fc1a0-9375-4ae4-b3ab-f34ee9fe9917",
   "metadata": {},
   "source": [
    "### b) Conditional II"
   ]
  },
  {
   "cell_type": "code",
   "execution_count": null,
   "id": "2c76cb9b-2d7c-44fe-863d-b1f63bf906d1",
   "metadata": {
    "tags": []
   },
   "outputs": [],
   "source": [
    "input() #your guess\n",
    "(11 % 2) == 0"
   ]
  },
  {
   "cell_type": "markdown",
   "id": "60afea22-591e-41c0-a56b-44514c5d35bb",
   "metadata": {},
   "source": [
    "### c) Conditional III"
   ]
  },
  {
   "cell_type": "code",
   "execution_count": null,
   "id": "2aa7f93d-1407-44ba-97a0-a0bc005aba02",
   "metadata": {
    "tags": []
   },
   "outputs": [],
   "source": [
    "input() #your guess\n",
    "not(not(True and False) and False)"
   ]
  },
  {
   "cell_type": "markdown",
   "id": "e91c72b2-bb98-457e-94e6-d69317b6afc3",
   "metadata": {},
   "source": [
    "### d) Conditional IV"
   ]
  },
  {
   "cell_type": "code",
   "execution_count": null,
   "id": "6cb8f2ae-9b25-4d87-83ee-dbf189e569e9",
   "metadata": {
    "tags": []
   },
   "outputs": [],
   "source": [
    "input() #your guess\n",
    "(10.72 // 2)**2"
   ]
  },
  {
   "cell_type": "markdown",
   "id": "b21cc986-0b11-42d7-ab1d-f65bd6800133",
   "metadata": {},
   "source": [
    "### e) Conditional V"
   ]
  },
  {
   "cell_type": "code",
   "execution_count": null,
   "id": "7568342c-d2e9-4e75-b0dc-acdd5bdc9baf",
   "metadata": {
    "tags": []
   },
   "outputs": [],
   "source": [
    "input() #your guess\n",
    "type(2.30) != float"
   ]
  },
  {
   "cell_type": "markdown",
   "id": "b8e8a506-a833-4cf7-8eb0-0c96565592bc",
   "metadata": {},
   "source": [
    "### f) Conditional VI"
   ]
  },
  {
   "cell_type": "code",
   "execution_count": null,
   "id": "ccc3921d-7730-4a5d-9c83-c41243a96e9f",
   "metadata": {},
   "outputs": [],
   "source": [
    "input() #your guess\n",
    "\"Beep\" if 7 > 3 else \"Boop\""
   ]
  },
  {
   "cell_type": "markdown",
   "id": "3831aa9e-b45d-4047-be7a-da354cf967e8",
   "metadata": {},
   "source": [
    "## If statement color task\n",
    "Please write an if statement in the cell with ```#add your code below here``` which prints out the result of mixing colors.  \n",
    "You should handle the following cases:  \n",
    "1) In case either of the two colors is not (red, yellow, blue), print a statement saying that that color ```color_n``` is not a valid color selected.\n",
    "2) In case you have red and yellow, print orange.\n",
    "3) In case you have red and blue, print purple.\n",
    "4) In case you have yellow and blue, print green.\n",
    "5) In case both colors have the same name, print either color name."
   ]
  },
  {
   "cell_type": "code",
   "execution_count": 40,
   "id": "ad07fc4a-65f5-4f8f-ae10-b5c2d079490e",
   "metadata": {
    "tags": []
   },
   "outputs": [
    {
     "name": "stdin",
     "output_type": "stream",
     "text": [
      " blue\n"
     ]
    }
   ],
   "source": [
    "color_a = input()"
   ]
  },
  {
   "cell_type": "code",
   "execution_count": 41,
   "id": "b85740cb-2aa9-4511-8771-fe60c1dc1609",
   "metadata": {
    "tags": []
   },
   "outputs": [
    {
     "name": "stdin",
     "output_type": "stream",
     "text": [
      " yellow\n"
     ]
    }
   ],
   "source": [
    "color_b = input()"
   ]
  },
  {
   "cell_type": "code",
   "execution_count": 42,
   "id": "8afcaab3-87a0-4f76-9942-84cc7a491966",
   "metadata": {
    "tags": []
   },
   "outputs": [
    {
     "name": "stdout",
     "output_type": "stream",
     "text": [
      "green\n"
     ]
    }
   ],
   "source": [
    "#add your code below here\n",
    "\n",
    "#case where color a is not blue, red, or yellow\n",
    "if not(color_a in ['red','blue','yellow']):\n",
    "    print(\"The selected color\", color_a, \" is not a valid color option.\")\n",
    "\n",
    "#case where color b is not blue, red, or yellow\n",
    "elif not(color_b in ['red','blue','yellow']):\n",
    "    print(\"The selected color\", color_b, \" is not a valid color option.\")\n",
    "\n",
    "#same color\n",
    "elif color_a == color_b:\n",
    "    print(color_a)\n",
    "\n",
    "#different color cases\n",
    "else:\n",
    "    if color_a == \"red\":\n",
    "        if color_b == \"blue\":\n",
    "            print(\"purple\")\n",
    "        \n",
    "        #we know color b has to be yellow\n",
    "        else:\n",
    "            print(\"orange\")\n",
    "            \n",
    "    elif color_a == \"yellow\":\n",
    "        if color_b == \"blue\":\n",
    "            print(\"green\")\n",
    "        \n",
    "        #we know color b has to be red\n",
    "        else:\n",
    "            print(\"orange\")\n",
    "            \n",
    "    #we know color a has to be blue\n",
    "    else:\n",
    "        if color_b == \"yellow\":\n",
    "            print(\"green\")\n",
    "        \n",
    "        else:\n",
    "            print(\"purple\")"
   ]
  },
  {
   "cell_type": "code",
   "execution_count": null,
   "id": "2fb6e724-410d-4861-9ee6-9a869a57ccc0",
   "metadata": {},
   "outputs": [],
   "source": []
  }
 ],
 "metadata": {
  "kernelspec": {
   "display_name": "Python 3 (ipykernel)",
   "language": "python",
   "name": "python3"
  },
  "language_info": {
   "codemirror_mode": {
    "name": "ipython",
    "version": 3
   },
   "file_extension": ".py",
   "mimetype": "text/x-python",
   "name": "python",
   "nbconvert_exporter": "python",
   "pygments_lexer": "ipython3",
   "version": "3.8.8"
  }
 },
 "nbformat": 4,
 "nbformat_minor": 5
}
