{
 "cells": [
  {
   "cell_type": "markdown",
   "id": "d5e27c66-f4b7-4f0f-840b-e3cede40c6c6",
   "metadata": {},
   "source": [
    "# Recap: Data types, operations, and conditionals\n",
    "## Data types (simple)"
   ]
  },
  {
   "cell_type": "code",
   "execution_count": 1,
   "id": "4aa95c78-7ec4-4686-a2f2-9024e6d50e5c",
   "metadata": {
    "tags": []
   },
   "outputs": [
    {
     "data": {
      "text/plain": [
       "3"
      ]
     },
     "execution_count": 1,
     "metadata": {},
     "output_type": "execute_result"
    }
   ],
   "source": [
    "3"
   ]
  },
  {
   "cell_type": "code",
   "execution_count": 2,
   "id": "cce8cba0-cc7a-4a61-a706-da155c34c662",
   "metadata": {
    "tags": []
   },
   "outputs": [
    {
     "data": {
      "text/plain": [
       "int"
      ]
     },
     "execution_count": 2,
     "metadata": {},
     "output_type": "execute_result"
    }
   ],
   "source": [
    "type(3)"
   ]
  },
  {
   "cell_type": "code",
   "execution_count": 3,
   "id": "44a5519e-5fe9-40a0-92f5-8015ae18d546",
   "metadata": {
    "tags": []
   },
   "outputs": [
    {
     "name": "stdout",
     "output_type": "stream",
     "text": [
      "7.23 <class 'float'>\n"
     ]
    }
   ],
   "source": [
    "print(7.23, type(7.23))"
   ]
  },
  {
   "cell_type": "code",
   "execution_count": 4,
   "id": "aaf44e76-600a-4ce9-ba4b-3443f61f95fd",
   "metadata": {
    "tags": []
   },
   "outputs": [
    {
     "name": "stdout",
     "output_type": "stream",
     "text": [
      "1j <class 'complex'>\n"
     ]
    }
   ],
   "source": [
    "print(1j, type(1j))"
   ]
  },
  {
   "cell_type": "code",
   "execution_count": 87,
   "id": "434802f8-54d0-4f55-a0dc-7a4006ac5d97",
   "metadata": {
    "tags": []
   },
   "outputs": [
    {
     "name": "stdout",
     "output_type": "stream",
     "text": [
      "This is a string 48957 %%$§ <class 'str'>\n"
     ]
    }
   ],
   "source": [
    "print(\"This is a string 48957 %%$§\", str)"
   ]
  },
  {
   "cell_type": "code",
   "execution_count": 90,
   "id": "71dfb1f8-46b0-41a1-a74d-7e9fe081aa20",
   "metadata": {
    "tags": []
   },
   "outputs": [
    {
     "name": "stdout",
     "output_type": "stream",
     "text": [
      "A\n",
      "B\n",
      "C\n"
     ]
    }
   ],
   "source": [
    "# You can format strings all sorts of ways\n",
    "print(\"A\\nB\\nC\") #\\n is used as a line break"
   ]
  },
  {
   "cell_type": "code",
   "execution_count": 6,
   "id": "4f7d1fd7-c9bc-4f1d-94e8-31a983392b7e",
   "metadata": {
    "tags": []
   },
   "outputs": [
    {
     "name": "stdout",
     "output_type": "stream",
     "text": [
      "True <class 'bool'>\n"
     ]
    }
   ],
   "source": [
    "print(True, bool)"
   ]
  },
  {
   "cell_type": "markdown",
   "id": "e181411d-f24d-4338-972f-a38bed758cad",
   "metadata": {},
   "source": [
    "## Data types (complex)"
   ]
  },
  {
   "cell_type": "code",
   "execution_count": 7,
   "id": "a5b9b9d6-c556-4ae0-8958-cb0aa767bca4",
   "metadata": {
    "tags": []
   },
   "outputs": [
    {
     "data": {
      "text/plain": [
       "(1, 2, 3)"
      ]
     },
     "execution_count": 7,
     "metadata": {},
     "output_type": "execute_result"
    }
   ],
   "source": [
    "(1, 2, 3) #the tuple"
   ]
  },
  {
   "cell_type": "code",
   "execution_count": 8,
   "id": "afd991a1-9b35-47b0-972a-ab6160e92726",
   "metadata": {
    "tags": []
   },
   "outputs": [
    {
     "data": {
      "text/plain": [
       "[1, 2, 3]"
      ]
     },
     "execution_count": 8,
     "metadata": {},
     "output_type": "execute_result"
    }
   ],
   "source": [
    "[1, 2, 3] #the list"
   ]
  },
  {
   "cell_type": "code",
   "execution_count": 10,
   "id": "94ff8768-730f-4e08-889c-462a4f06cd69",
   "metadata": {
    "tags": []
   },
   "outputs": [
    {
     "data": {
      "text/plain": [
       "{1, 2, 3}"
      ]
     },
     "execution_count": 10,
     "metadata": {},
     "output_type": "execute_result"
    }
   ],
   "source": [
    "{1, 2, 3} #set\n",
    "set([1, 2, 3]) #also a set"
   ]
  },
  {
   "cell_type": "code",
   "execution_count": 11,
   "id": "d75a3ea8-1102-4265-9724-f3fc9862f2cd",
   "metadata": {
    "tags": []
   },
   "outputs": [
    {
     "data": {
      "text/plain": [
       "{'A': 1, 'B': 2}"
      ]
     },
     "execution_count": 11,
     "metadata": {},
     "output_type": "execute_result"
    }
   ],
   "source": [
    "{'A' : 1, 'B' : 2} #the dictionary"
   ]
  },
  {
   "cell_type": "code",
   "execution_count": 12,
   "id": "518664c8-77c8-4c1b-888c-35ec80f43e89",
   "metadata": {
    "tags": []
   },
   "outputs": [
    {
     "data": {
      "text/plain": [
       "1"
      ]
     },
     "execution_count": 12,
     "metadata": {},
     "output_type": "execute_result"
    }
   ],
   "source": [
    "{'A' : 1, 'B' : 2}['A']"
   ]
  },
  {
   "cell_type": "markdown",
   "id": "83507a8b-3bde-4cac-a397-ebb0f9bbce05",
   "metadata": {},
   "source": [
    "## Differences of list-likes"
   ]
  },
  {
   "cell_type": "code",
   "execution_count": 13,
   "id": "ebb298d3-ce05-4006-b4d5-8be076e1c199",
   "metadata": {
    "tags": []
   },
   "outputs": [],
   "source": [
    "tup = (1, 2, 3)\n",
    "lst = [1, 2, 3]\n",
    "set_a = {1, 2, 3}"
   ]
  },
  {
   "cell_type": "markdown",
   "id": "801cdf98-2e44-4877-95ee-0569e3c1df8f",
   "metadata": {},
   "source": [
    "### Accessing values"
   ]
  },
  {
   "cell_type": "code",
   "execution_count": 15,
   "id": "32d98dd0-e76a-41a9-8daf-5402fb3a719d",
   "metadata": {
    "tags": []
   },
   "outputs": [
    {
     "data": {
      "text/plain": [
       "2"
      ]
     },
     "execution_count": 15,
     "metadata": {},
     "output_type": "execute_result"
    }
   ],
   "source": [
    "tup[1] #access a value at index 1"
   ]
  },
  {
   "cell_type": "code",
   "execution_count": 16,
   "id": "f4836722-ecec-4282-871b-886e69f7b0dd",
   "metadata": {
    "tags": []
   },
   "outputs": [
    {
     "data": {
      "text/plain": [
       "2"
      ]
     },
     "execution_count": 16,
     "metadata": {},
     "output_type": "execute_result"
    }
   ],
   "source": [
    "lst[1]"
   ]
  },
  {
   "cell_type": "code",
   "execution_count": 19,
   "id": "99880445-da77-4fc5-a97c-a18343cbb51a",
   "metadata": {
    "tags": []
   },
   "outputs": [
    {
     "ename": "TypeError",
     "evalue": "'set' object is not subscriptable",
     "output_type": "error",
     "traceback": [
      "\u001b[1;31m---------------------------------------------------------------------------\u001b[0m",
      "\u001b[1;31mTypeError\u001b[0m                                 Traceback (most recent call last)",
      "Cell \u001b[1;32mIn[19], line 1\u001b[0m\n\u001b[1;32m----> 1\u001b[0m \u001b[43mset_a\u001b[49m\u001b[43m[\u001b[49m\u001b[38;5;241;43m1\u001b[39;49m\u001b[43m]\u001b[49m\n",
      "\u001b[1;31mTypeError\u001b[0m: 'set' object is not subscriptable"
     ]
    }
   ],
   "source": [
    "set_a[1]"
   ]
  },
  {
   "cell_type": "code",
   "execution_count": 18,
   "id": "f3579777-3c91-4e27-9cfd-508f498f3570",
   "metadata": {
    "tags": []
   },
   "outputs": [
    {
     "data": {
      "text/plain": [
       "2"
      ]
     },
     "execution_count": 18,
     "metadata": {},
     "output_type": "execute_result"
    }
   ],
   "source": [
    "list(set_a)[1] #we cannot access a set itself and convert to list first"
   ]
  },
  {
   "cell_type": "markdown",
   "id": "f4577ba8-5537-4611-8acc-0614044c04b5",
   "metadata": {},
   "source": [
    "### Changing values"
   ]
  },
  {
   "cell_type": "code",
   "execution_count": 20,
   "id": "2fd7765b-f5ab-447a-8383-711b1701d6e5",
   "metadata": {
    "tags": []
   },
   "outputs": [
    {
     "data": {
      "text/plain": [
       "[1, 42, 3]"
      ]
     },
     "execution_count": 20,
     "metadata": {},
     "output_type": "execute_result"
    }
   ],
   "source": [
    "lst[1] = 42 #list supports assignments\n",
    "lst"
   ]
  },
  {
   "cell_type": "code",
   "execution_count": 21,
   "id": "5369a0fb-ad9f-4c4d-b520-207eb6a75c77",
   "metadata": {
    "tags": []
   },
   "outputs": [
    {
     "ename": "TypeError",
     "evalue": "'tuple' object does not support item assignment",
     "output_type": "error",
     "traceback": [
      "\u001b[1;31m---------------------------------------------------------------------------\u001b[0m",
      "\u001b[1;31mTypeError\u001b[0m                                 Traceback (most recent call last)",
      "Cell \u001b[1;32mIn[21], line 1\u001b[0m\n\u001b[1;32m----> 1\u001b[0m \u001b[43mtup\u001b[49m\u001b[43m[\u001b[49m\u001b[38;5;241;43m1\u001b[39;49m\u001b[43m]\u001b[49m \u001b[38;5;241m=\u001b[39m \u001b[38;5;241m42\u001b[39m\n",
      "\u001b[1;31mTypeError\u001b[0m: 'tuple' object does not support item assignment"
     ]
    }
   ],
   "source": [
    "tup[1] = 42 #tuple and sets do not"
   ]
  },
  {
   "cell_type": "code",
   "execution_count": 22,
   "id": "ec46fae5-0e78-4847-b6d6-644c506b7fd2",
   "metadata": {
    "tags": []
   },
   "outputs": [
    {
     "ename": "TypeError",
     "evalue": "'set' object does not support item assignment",
     "output_type": "error",
     "traceback": [
      "\u001b[1;31m---------------------------------------------------------------------------\u001b[0m",
      "\u001b[1;31mTypeError\u001b[0m                                 Traceback (most recent call last)",
      "Cell \u001b[1;32mIn[22], line 1\u001b[0m\n\u001b[1;32m----> 1\u001b[0m \u001b[43mset_a\u001b[49m\u001b[43m[\u001b[49m\u001b[38;5;241;43m1\u001b[39;49m\u001b[43m]\u001b[49m \u001b[38;5;241m=\u001b[39m \u001b[38;5;241m42\u001b[39m\n",
      "\u001b[1;31mTypeError\u001b[0m: 'set' object does not support item assignment"
     ]
    }
   ],
   "source": [
    "set_a[1] = 42"
   ]
  },
  {
   "cell_type": "code",
   "execution_count": 23,
   "id": "cc24d6fe-6795-4995-9475-d7ab9de42620",
   "metadata": {
    "tags": []
   },
   "outputs": [],
   "source": [
    "dic = {'A' : 1, 'B' : 2}"
   ]
  },
  {
   "cell_type": "code",
   "execution_count": 25,
   "id": "08f62850-9d33-4f28-b0e7-90434e64983a",
   "metadata": {
    "tags": []
   },
   "outputs": [],
   "source": [
    "dic['A'] = 'alphabetical'"
   ]
  },
  {
   "cell_type": "code",
   "execution_count": 26,
   "id": "333c630d-64a5-451e-aaf9-76da9b810740",
   "metadata": {
    "tags": []
   },
   "outputs": [
    {
     "data": {
      "text/plain": [
       "{'A': 'alphabetical', 'B': 2}"
      ]
     },
     "execution_count": 26,
     "metadata": {},
     "output_type": "execute_result"
    }
   ],
   "source": [
    "dic"
   ]
  },
  {
   "cell_type": "markdown",
   "id": "ee5edfdf-b7d6-4620-9880-dda10c1e8905",
   "metadata": {},
   "source": [
    "## It can get complicated"
   ]
  },
  {
   "cell_type": "code",
   "execution_count": 28,
   "id": "d158231a-2805-4992-9eb5-8eb191930463",
   "metadata": {
    "tags": []
   },
   "outputs": [
    {
     "data": {
      "text/plain": [
       "{'A': (1, 'G', True), 'B': [(1.11, 2.4, 9.2), [1, 2, 3]]}"
      ]
     },
     "execution_count": 28,
     "metadata": {},
     "output_type": "execute_result"
    }
   ],
   "source": [
    "complicated_dict = {'A' : (1, 'G', True), 'B' : [(1.11,2.4,9.2),[1,2,3]]}\n",
    "complicated_dict"
   ]
  },
  {
   "cell_type": "code",
   "execution_count": 29,
   "id": "dc10f1ea-b3df-4249-82d2-8b1933d125a2",
   "metadata": {
    "tags": []
   },
   "outputs": [
    {
     "data": {
      "text/plain": [
       "1.11"
      ]
     },
     "execution_count": 29,
     "metadata": {},
     "output_type": "execute_result"
    }
   ],
   "source": [
    "complicated_dict['B'][0][0]"
   ]
  },
  {
   "cell_type": "code",
   "execution_count": 33,
   "id": "6ab15c79-fa02-43c5-8c8f-442ae02dd345",
   "metadata": {
    "tags": []
   },
   "outputs": [
    {
     "data": {
      "text/plain": [
       "(1, 'G', True)"
      ]
     },
     "execution_count": 33,
     "metadata": {},
     "output_type": "execute_result"
    }
   ],
   "source": [
    "complicated_dict['A']"
   ]
  },
  {
   "cell_type": "markdown",
   "id": "a46e60fc-c884-4cef-851e-b7242660dce3",
   "metadata": {},
   "source": [
    "## Mathematical operations"
   ]
  },
  {
   "cell_type": "code",
   "execution_count": 34,
   "id": "ae4c2aad-ac43-46c7-9017-a024df75f2be",
   "metadata": {
    "tags": []
   },
   "outputs": [
    {
     "data": {
      "text/plain": [
       "3"
      ]
     },
     "execution_count": 34,
     "metadata": {},
     "output_type": "execute_result"
    }
   ],
   "source": [
    "1 + 2 #addition"
   ]
  },
  {
   "cell_type": "code",
   "execution_count": 35,
   "id": "cce2f503-f4b1-450f-9e30-effe096d1e30",
   "metadata": {
    "tags": []
   },
   "outputs": [
    {
     "data": {
      "text/plain": [
       "1"
      ]
     },
     "execution_count": 35,
     "metadata": {},
     "output_type": "execute_result"
    }
   ],
   "source": [
    "3 - 2 #substraction"
   ]
  },
  {
   "cell_type": "code",
   "execution_count": 36,
   "id": "db288d55-25a5-4318-8d90-7f42d9ff1fe0",
   "metadata": {
    "tags": []
   },
   "outputs": [],
   "source": [
    "summ = 1+2+3+4+5+6"
   ]
  },
  {
   "cell_type": "code",
   "execution_count": 37,
   "id": "37e9d8be-49c2-4984-9214-3df293c4c219",
   "metadata": {
    "tags": []
   },
   "outputs": [
    {
     "data": {
      "text/plain": [
       "21"
      ]
     },
     "execution_count": 37,
     "metadata": {},
     "output_type": "execute_result"
    }
   ],
   "source": [
    "summ"
   ]
  },
  {
   "cell_type": "code",
   "execution_count": 38,
   "id": "c6ddbd82-d7f3-4941-a0eb-58113bb13fef",
   "metadata": {
    "tags": []
   },
   "outputs": [
    {
     "data": {
      "text/plain": [
       "20"
      ]
     },
     "execution_count": 38,
     "metadata": {},
     "output_type": "execute_result"
    }
   ],
   "source": [
    "2*10 #multiplication"
   ]
  },
  {
   "cell_type": "code",
   "execution_count": 39,
   "id": "2645a4cd-93d5-4912-8bd8-0f1c2465b880",
   "metadata": {
    "tags": []
   },
   "outputs": [
    {
     "data": {
      "text/plain": [
       "5.0"
      ]
     },
     "execution_count": 39,
     "metadata": {},
     "output_type": "execute_result"
    }
   ],
   "source": [
    "10/2 #division"
   ]
  },
  {
   "cell_type": "code",
   "execution_count": 40,
   "id": "d7465928-f713-4596-a133-690697c9fdb5",
   "metadata": {
    "tags": []
   },
   "outputs": [
    {
     "data": {
      "text/plain": [
       "float"
      ]
     },
     "execution_count": 40,
     "metadata": {},
     "output_type": "execute_result"
    }
   ],
   "source": [
    "type(10/2)"
   ]
  },
  {
   "cell_type": "code",
   "execution_count": 71,
   "id": "b0b195ac-8b8d-4923-8530-b5d7ad0ca897",
   "metadata": {
    "tags": []
   },
   "outputs": [
    {
     "name": "stdout",
     "output_type": "stream",
     "text": [
      "Division 10/3: 3.3333333333333335\n",
      "Remainder of 10/3 1\n"
     ]
    }
   ],
   "source": [
    "print('Division 10/3:',10/3)\n",
    "print('Remainder of 10/3:', 10%3)"
   ]
  },
  {
   "cell_type": "code",
   "execution_count": 72,
   "id": "6cf9a8d0-dafc-475a-a0cf-25b85c4c275c",
   "metadata": {
    "tags": []
   },
   "outputs": [
    {
     "data": {
      "text/plain": [
       "1"
      ]
     },
     "execution_count": 72,
     "metadata": {},
     "output_type": "execute_result"
    }
   ],
   "source": [
    "10 % 3 #modulo or remainder of division"
   ]
  },
  {
   "cell_type": "code",
   "execution_count": 41,
   "id": "0f064d3c-4f9f-40d8-9f6b-e46d4184ff70",
   "metadata": {
    "tags": []
   },
   "outputs": [
    {
     "data": {
      "text/plain": [
       "7"
      ]
     },
     "execution_count": 41,
     "metadata": {},
     "output_type": "execute_result"
    }
   ],
   "source": [
    "#integer rounding by type conversion\n",
    "float_b = 7.89\n",
    "int(float_b)"
   ]
  },
  {
   "cell_type": "code",
   "execution_count": 1,
   "id": "4c27cdb6",
   "metadata": {},
   "outputs": [
    {
     "name": "stdout",
     "output_type": "stream",
     "text": [
      "Normal division 10/3: 3.3333333333333335\n",
      "Integer division 10//3: 3\n"
     ]
    }
   ],
   "source": [
    "# integer division\n",
    "print('Normal division 10/3:', 10/3)\n",
    "print('Integer division 10//3:', 10//3)"
   ]
  },
  {
   "cell_type": "code",
   "execution_count": 44,
   "id": "6d335732-ff82-4653-a486-5415b35ec14f",
   "metadata": {
    "tags": []
   },
   "outputs": [
    {
     "data": {
      "text/plain": [
       "7.9"
      ]
     },
     "execution_count": 44,
     "metadata": {},
     "output_type": "execute_result"
    }
   ],
   "source": [
    "#\"proper\" rounding\n",
    "round(float_b, 1)"
   ]
  },
  {
   "cell_type": "code",
   "execution_count": 45,
   "id": "a7b1e690-050d-4238-baf0-9c503c64af8c",
   "metadata": {
    "tags": []
   },
   "outputs": [
    {
     "data": {
      "text/plain": [
       "16"
      ]
     },
     "execution_count": 45,
     "metadata": {},
     "output_type": "execute_result"
    }
   ],
   "source": [
    "2**4 #2 to the power of 4 (exponential)"
   ]
  },
  {
   "cell_type": "markdown",
   "id": "824ea390-ecf8-4495-918a-6d8abd16a4aa",
   "metadata": {
    "tags": []
   },
   "source": [
    "## Conditional operations\n",
    "All conditional operations return either True, False, or if unlucky, an error.\n",
    "### Logical"
   ]
  },
  {
   "cell_type": "code",
   "execution_count": 49,
   "id": "7cd7386e-0087-4dec-9519-5bb06b38e655",
   "metadata": {
    "tags": []
   },
   "outputs": [
    {
     "data": {
      "text/plain": [
       "True"
      ]
     },
     "execution_count": 49,
     "metadata": {},
     "output_type": "execute_result"
    }
   ],
   "source": [
    "True or False #or operator for logics"
   ]
  },
  {
   "cell_type": "code",
   "execution_count": 50,
   "id": "08df9c3a-a895-47ab-a8ec-1497b2a08908",
   "metadata": {
    "tags": []
   },
   "outputs": [
    {
     "data": {
      "text/plain": [
       "False"
      ]
     },
     "execution_count": 50,
     "metadata": {},
     "output_type": "execute_result"
    }
   ],
   "source": [
    "True and False #AND"
   ]
  },
  {
   "cell_type": "code",
   "execution_count": 51,
   "id": "6346df00-552e-4952-a9cd-f78cecf65be5",
   "metadata": {
    "tags": []
   },
   "outputs": [
    {
     "data": {
      "text/plain": [
       "True"
      ]
     },
     "execution_count": 51,
     "metadata": {},
     "output_type": "execute_result"
    }
   ],
   "source": [
    "not False #NOT"
   ]
  },
  {
   "cell_type": "code",
   "execution_count": 52,
   "id": "467a2b9f-c2b8-4962-847f-5e8bd386364e",
   "metadata": {
    "tags": []
   },
   "outputs": [
    {
     "data": {
      "text/plain": [
       "False"
      ]
     },
     "execution_count": 52,
     "metadata": {},
     "output_type": "execute_result"
    }
   ],
   "source": [
    "not(True or False)"
   ]
  },
  {
   "cell_type": "code",
   "execution_count": 56,
   "id": "215e93d9-06da-4fdb-88cd-049cbb1f81a0",
   "metadata": {
    "tags": []
   },
   "outputs": [
    {
     "data": {
      "text/plain": [
       "False"
      ]
     },
     "execution_count": 56,
     "metadata": {},
     "output_type": "execute_result"
    }
   ],
   "source": [
    "not False and False #not without brackets will only negate the first False"
   ]
  },
  {
   "cell_type": "code",
   "execution_count": 57,
   "id": "4467af30-a8f8-44e2-8455-85f08827a3db",
   "metadata": {
    "tags": []
   },
   "outputs": [
    {
     "data": {
      "text/plain": [
       "True"
      ]
     },
     "execution_count": 57,
     "metadata": {},
     "output_type": "execute_result"
    }
   ],
   "source": [
    "not(False and False) #not with brackets will negate the entire statement"
   ]
  },
  {
   "cell_type": "markdown",
   "id": "afccd3ef-f762-46be-bce9-303d65df7071",
   "metadata": {},
   "source": [
    "### Numerical"
   ]
  },
  {
   "cell_type": "code",
   "execution_count": 64,
   "id": "62eb2288-5baf-4c3c-b252-d712f9e6d79e",
   "metadata": {
    "tags": []
   },
   "outputs": [
    {
     "data": {
      "text/plain": [
       "True"
      ]
     },
     "execution_count": 64,
     "metadata": {},
     "output_type": "execute_result"
    }
   ],
   "source": [
    "1 == 1 #equal"
   ]
  },
  {
   "cell_type": "code",
   "execution_count": 65,
   "id": "bba8a9a8-13f8-441c-81e4-e0b076116c93",
   "metadata": {
    "tags": []
   },
   "outputs": [
    {
     "data": {
      "text/plain": [
       "False"
      ]
     },
     "execution_count": 65,
     "metadata": {},
     "output_type": "execute_result"
    }
   ],
   "source": [
    "1 != 1 #not equal"
   ]
  },
  {
   "cell_type": "code",
   "execution_count": 58,
   "id": "7a9b54f0-6cfa-49ed-a47a-a293ba11ed59",
   "metadata": {
    "tags": []
   },
   "outputs": [
    {
     "data": {
      "text/plain": [
       "True"
      ]
     },
     "execution_count": 58,
     "metadata": {},
     "output_type": "execute_result"
    }
   ],
   "source": [
    "1 < 7 #smaller than"
   ]
  },
  {
   "cell_type": "code",
   "execution_count": 59,
   "id": "e279ad48-40a4-4a3d-8b91-f7e136e4512d",
   "metadata": {
    "tags": []
   },
   "outputs": [
    {
     "data": {
      "text/plain": [
       "False"
      ]
     },
     "execution_count": 59,
     "metadata": {},
     "output_type": "execute_result"
    }
   ],
   "source": [
    "1 > 7 #greater than"
   ]
  },
  {
   "cell_type": "code",
   "execution_count": 62,
   "id": "65beb066-142f-4e8f-b296-dc8718cd7f94",
   "metadata": {
    "tags": []
   },
   "outputs": [
    {
     "data": {
      "text/plain": [
       "True"
      ]
     },
     "execution_count": 62,
     "metadata": {},
     "output_type": "execute_result"
    }
   ],
   "source": [
    "2 <= 2 #smaller-or-equal"
   ]
  },
  {
   "cell_type": "code",
   "execution_count": 63,
   "id": "53b6dc99-159e-46e7-a463-02c4ec9aa43c",
   "metadata": {
    "tags": []
   },
   "outputs": [
    {
     "data": {
      "text/plain": [
       "False"
      ]
     },
     "execution_count": 63,
     "metadata": {},
     "output_type": "execute_result"
    }
   ],
   "source": [
    "2 < 2 #smaller than (to show the difference)"
   ]
  },
  {
   "cell_type": "code",
   "execution_count": 67,
   "id": "7def07d6-833a-4fd3-b2fa-c467fb85951a",
   "metadata": {
    "tags": []
   },
   "outputs": [
    {
     "data": {
      "text/plain": [
       "True"
      ]
     },
     "execution_count": 67,
     "metadata": {},
     "output_type": "execute_result"
    }
   ],
   "source": [
    "len(\"abc\") == 3"
   ]
  },
  {
   "cell_type": "code",
   "execution_count": 68,
   "id": "07da0b0d-906d-48e7-b671-f61620247ece",
   "metadata": {
    "tags": []
   },
   "outputs": [
    {
     "data": {
      "text/plain": [
       "True"
      ]
     },
     "execution_count": 68,
     "metadata": {},
     "output_type": "execute_result"
    }
   ],
   "source": [
    "len(\"abc\") < len([1,2,3,4])"
   ]
  },
  {
   "cell_type": "code",
   "execution_count": 73,
   "id": "3ee39f01-7932-4fe2-ac63-3a06830a72aa",
   "metadata": {
    "tags": []
   },
   "outputs": [
    {
     "data": {
      "text/plain": [
       "False"
      ]
     },
     "execution_count": 73,
     "metadata": {},
     "output_type": "execute_result"
    }
   ],
   "source": [
    "#is 7 number even? -> Nope\n",
    "(7 % 2) == 0"
   ]
  },
  {
   "cell_type": "code",
   "execution_count": 74,
   "id": "3dc7da96-2203-47d8-829d-646574129266",
   "metadata": {
    "tags": []
   },
   "outputs": [
    {
     "data": {
      "text/plain": [
       "True"
      ]
     },
     "execution_count": 74,
     "metadata": {},
     "output_type": "execute_result"
    }
   ],
   "source": [
    "#is 6 number even? -> Yes\n",
    "(6 % 2) == 0"
   ]
  },
  {
   "cell_type": "code",
   "execution_count": 91,
   "id": "bd717372-b723-4756-b5b2-afd4aade31ab",
   "metadata": {
    "tags": []
   },
   "outputs": [
    {
     "data": {
      "text/plain": [
       "True"
      ]
     },
     "execution_count": 91,
     "metadata": {},
     "output_type": "execute_result"
    }
   ],
   "source": [
    "7 in [1,2,3,4,5,6,7] #you can test if an element is inside a list"
   ]
  },
  {
   "cell_type": "markdown",
   "id": "35f6754a-017d-4011-9da2-b0140cc48f01",
   "metadata": {},
   "source": [
    "## If-statement examples"
   ]
  },
  {
   "cell_type": "code",
   "execution_count": 79,
   "id": "b2c2bb53-b62f-4782-bbbe-fa898a2c3cd4",
   "metadata": {
    "tags": []
   },
   "outputs": [],
   "source": [
    "person_a = \"Stefan\"\n",
    "person_b = \"Leonie\""
   ]
  },
  {
   "cell_type": "code",
   "execution_count": 80,
   "id": "d23d08c3-2f71-4bc5-87b6-453b04b1086a",
   "metadata": {
    "tags": []
   },
   "outputs": [
    {
     "name": "stdout",
     "output_type": "stream",
     "text": [
      "True\n"
     ]
    }
   ],
   "source": [
    "if person_a == \"Stefan\":\n",
    "    print(True)"
   ]
  },
  {
   "cell_type": "code",
   "execution_count": 81,
   "id": "e6ecf1ff-cc6a-4361-9d64-c825b26f389f",
   "metadata": {
    "tags": []
   },
   "outputs": [],
   "source": [
    "if person_a == \"Leonie\":\n",
    "    print(True)"
   ]
  },
  {
   "cell_type": "code",
   "execution_count": 84,
   "id": "0c97422d-5cfc-40bc-b1f5-0c0cfcdd5ee5",
   "metadata": {
    "tags": []
   },
   "outputs": [
    {
     "name": "stdout",
     "output_type": "stream",
     "text": [
      "Case 2\n"
     ]
    }
   ],
   "source": [
    "if person_a == \"Leonie\":\n",
    "    print(\"Case 1\")\n",
    "    \n",
    "else:\n",
    "    print(\"Case 2\")"
   ]
  },
  {
   "cell_type": "code",
   "execution_count": 86,
   "id": "aa378622-f273-40e9-b91d-ac367d914fdf",
   "metadata": {
    "tags": []
   },
   "outputs": [
    {
     "name": "stdout",
     "output_type": "stream",
     "text": [
      "Else Case\n"
     ]
    }
   ],
   "source": [
    "if person_a == \"Leonie\":\n",
    "    print(\"Case 1\")\n",
    "    \n",
    "elif person_a == \"Tim\":\n",
    "    print(\"Case 2\")\n",
    "    \n",
    "else:\n",
    "    print(\"Else Case\")"
   ]
  },
  {
   "cell_type": "markdown",
   "id": "ea732f0e-7c2d-4aed-947b-5f174682fcf3",
   "metadata": {},
   "source": [
    "First thing checked is if ```if``` statement is true.  \n",
    "Then, in order, the ```elif``` statements are checked.  \n",
    "Afterwards, if present, an ```else``` code block is executed.  \n",
    "If at any point an ```if``` or ```elif``` statement is true, everything else will be ignored and only its code block will be executed.  \n",
    "\n",
    "It follows:  \n",
    "Test the most probable case first, then in order of probability, then think about if something needs to happen if neither is true."
   ]
  },
  {
   "cell_type": "code",
   "execution_count": null,
   "id": "767cb4c5-e325-43a8-9dd6-f4b71b9bf1b5",
   "metadata": {},
   "outputs": [],
   "source": []
  }
 ],
 "metadata": {
  "kernelspec": {
   "display_name": "Python 3 (ipykernel)",
   "language": "python",
   "name": "python3"
  },
  "language_info": {
   "codemirror_mode": {
    "name": "ipython",
    "version": 3
   },
   "file_extension": ".py",
   "mimetype": "text/x-python",
   "name": "python",
   "nbconvert_exporter": "python",
   "pygments_lexer": "ipython3",
   "version": "3.11.8"
  }
 },
 "nbformat": 4,
 "nbformat_minor": 5
}
