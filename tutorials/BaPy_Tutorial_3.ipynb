{
  "cells": [
    {
      "cell_type": "markdown",
      "metadata": {
        "id": "tv8lx8cW3ID-"
      },
      "source": [
        "# **Basic Programming in Python**\n",
        "\n",
        "## Summer Term 2024\n",
        "\n",
        "### Tutorial on Lists and Loops"
      ]
    },
    {
      "cell_type": "markdown",
      "metadata": {
        "id": "pdNQ0xT945L6"
      },
      "source": [
        "#### **Lists**"
      ]
    },
    {
      "cell_type": "markdown",
      "metadata": {},
      "source": [
        "**Creating a list**\n",
        "\n",
        "In Python, you can store a collection of items in a list, such as integers and strings.\n",
        "\n",
        "Lists are created using square brackets `[ ]` and items stored in a list are separated by commas."
      ]
    },
    {
      "cell_type": "code",
      "execution_count": null,
      "metadata": {
        "id": "eTukJNxN6GS4"
      },
      "outputs": [],
      "source": [
        "my_numbers = [1, 2, 3, 4, 5, 6, 7, 8, 9, 10]\n",
        "\n",
        "fruits = [\"Apple\", \"Banana\", \"Orange\", \"Watermelon\"]\n",
        "\n",
        "# Can a list contain a mix of different data types? Try it out by yourself!\n",
        "\n",
        "# add your code here"
      ]
    },
    {
      "cell_type": "markdown",
      "metadata": {
        "id": "SJYAjYqL1AD4"
      },
      "source": [
        "**Accessing elements in a list**\n",
        "\n",
        "It is possible to access elements in a list by using their index. \n",
        "\n",
        "Given the **fruits** list above, print the first and the last elements of the list - without knowing the lenght of the list ;)\n"
      ]
    },
    {
      "cell_type": "code",
      "execution_count": null,
      "metadata": {
        "id": "7ebaUv_510KR"
      },
      "outputs": [],
      "source": [
        "# add your code here"
      ]
    },
    {
      "cell_type": "markdown",
      "metadata": {
        "id": "bWFF77wT2J_7"
      },
      "source": [
        "**Changing elements in a list**\n",
        "\n",
        "We can change a certain element in a list by assigning a new value to an index of that item we want to change.\n",
        "\n",
        "Try to change `\"Watermelon\"` into `\"Strawberry\"`."
      ]
    },
    {
      "cell_type": "code",
      "execution_count": null,
      "metadata": {
        "id": "o3nXrpgx4fEJ"
      },
      "outputs": [],
      "source": [
        "# add your code here\n",
        "\n",
        "print(fruits)"
      ]
    },
    {
      "cell_type": "markdown",
      "metadata": {
        "id": "jdr5uCO95Ajb"
      },
      "source": [
        "**Adding new elements to a list**\n",
        "\n",
        "We can also add a new item to a list by using `.append()` method.\n",
        "\n",
        "Add `\"Plum\"` to the end of the `fruits` list."
      ]
    },
    {
      "cell_type": "code",
      "execution_count": null,
      "metadata": {
        "id": "YxJWy_hG6Xk0"
      },
      "outputs": [],
      "source": [
        "# add your code here\n",
        "\n",
        "print(fruits)"
      ]
    },
    {
      "cell_type": "markdown",
      "metadata": {},
      "source": [
        "Further you can also use mathematical operators with lists.\n",
        "\n",
        "Create another list (of a different length) and try the basic mathematical operators `+`, `-`, `*` and `/` for your custom list and the list `fruits`.   \n",
        "Now try to add the item `\"Grapes\"` to the list as you did before with `\"Plum\"` but this time with the `+` operator. \n",
        "\n",
        "What do you observe?"
      ]
    },
    {
      "cell_type": "code",
      "execution_count": null,
      "metadata": {},
      "outputs": [],
      "source": [
        "your_list = None  # Replace None with your list\n",
        "\n",
        "# add your code here"
      ]
    },
    {
      "cell_type": "markdown",
      "metadata": {
        "id": "sT-imrF06_S9"
      },
      "source": [
        "**Removing elements from a list**\n",
        "\n",
        "`.remove()` method allows us to remove the first occurence of an element from a list.\n",
        "\n",
        "Try to remove `\"Banana\"` from the list."
      ]
    },
    {
      "cell_type": "code",
      "execution_count": null,
      "metadata": {
        "id": "DFL4bdwX7nK2"
      },
      "outputs": [],
      "source": [
        "# add your code here\n",
        "\n",
        "print(fruits)"
      ]
    },
    {
      "cell_type": "markdown",
      "metadata": {
        "id": "H-ySbaMg7qPj"
      },
      "source": [
        "While `.remove()` method removes the first occurence of the given element, `.pop()` method removes an element at a specific index.\n",
        "\n",
        "What happens when you use `.pop()` method at the index `5` in `my_numbers` list?   \n",
        "You can also retrieve the removed element as the output of the `.pop()` method. \n",
        "\n",
        "Print the updated list as well as the removed value."
      ]
    },
    {
      "cell_type": "code",
      "execution_count": null,
      "metadata": {
        "id": "nWah242w8VFs"
      },
      "outputs": [],
      "source": [
        "my_numbers = [0, 1, 2, 3, 4, 5, 6, 7, 8, 9, 10]\n",
        "\n",
        "# add your code here\n",
        "\n",
        "print(my_numbers)"
      ]
    },
    {
      "cell_type": "markdown",
      "metadata": {
        "id": "yvUWGk-p878v"
      },
      "source": [
        "**List evaluation methods**\n",
        "\n",
        "Python has built-in functions to retrieve certain characteristics of a list.\n",
        "\n",
        "Try them, modify the corresponding list and take a look at the results.   \n",
        "Try to combine different data types (e.g. Strings and Numbers, Integers and Floats etc.) to see which ones you can have combined in a list and which ones not. This might be an indicator to the usability in your future programs.   \n",
        "What's your guess on that?  "
      ]
    },
    {
      "cell_type": "code",
      "execution_count": null,
      "metadata": {
        "id": "EIFhiRpC9ByV"
      },
      "outputs": [],
      "source": [
        "len(my_numbers) #Gives the length of the list"
      ]
    },
    {
      "cell_type": "code",
      "execution_count": null,
      "metadata": {},
      "outputs": [],
      "source": [
        "max(my_numbers) #Gives the highest value"
      ]
    },
    {
      "cell_type": "code",
      "execution_count": null,
      "metadata": {},
      "outputs": [],
      "source": [
        "min(my_numbers) #Gives the smallest value"
      ]
    },
    {
      "cell_type": "code",
      "execution_count": null,
      "metadata": {},
      "outputs": [],
      "source": [
        "sum(my_numbers) #Sums up all elements"
      ]
    },
    {
      "cell_type": "code",
      "execution_count": null,
      "metadata": {},
      "outputs": [],
      "source": [
        "sorted(my_numbers) #Sorts the list from the smallest to the highest."
      ]
    },
    {
      "cell_type": "markdown",
      "metadata": {},
      "source": [
        "**Slicing**\n",
        "\n",
        "Slicing is a way of selecting only a specified range of indexes within a list.   \n",
        "You can do so with the `[ ]` operator and specifying the indexes with `m:n`, `m:`, `:m`, `:`, where `m` and `n < len(list)`\n",
        "\n",
        "Retrieve a range of list items from the `fruits` list by applying slicing."
      ]
    },
    {
      "cell_type": "code",
      "execution_count": null,
      "metadata": {},
      "outputs": [],
      "source": [
        "print(fruits)\n",
        "\n",
        "# add your code here"
      ]
    },
    {
      "cell_type": "markdown",
      "metadata": {
        "id": "jnUa2AowKxY2"
      },
      "source": [
        "#### **Iteration and Looping**"
      ]
    },
    {
      "cell_type": "markdown",
      "metadata": {},
      "source": [
        "In programming a loop repeats code until a certain condition is met. Each time the computer runs through a loop, it's called an iteration. Iterative refers to a sequence of instructions or code being repeated until a specific end result is achieved."
      ]
    },
    {
      "cell_type": "markdown",
      "metadata": {
        "id": "_TuEocM2RoOP"
      },
      "source": [
        "**The *while* loop**\n",
        "\n",
        "More formally, here is the flow of execution for a while statement:\n",
        "1. Evaluate the condition, yielding True or False.\n",
        "2. If the condition is false, exit the while statement and continue execution at the next\n",
        "statement.\n",
        "3. If the condition is true, execute the body and then go back to step 1.\n",
        "\n",
        "This type of flow is called a loop because the third step loops back around to the top. The body of the loop should change the value of one or more variables so that eventually the condition becomes false and the loop terminates."
      ]
    },
    {
      "cell_type": "markdown",
      "metadata": {
        "id": "3uSJ5capZr3i"
      },
      "source": [
        "Task 1: Write a program that asks the user to enter a positive integer and computes the sum of all the integers from 1 to that number."
      ]
    },
    {
      "cell_type": "code",
      "execution_count": null,
      "metadata": {
        "id": "grhG4H1pQPIb"
      },
      "outputs": [],
      "source": [
        "num = int(input(\"Enter a positive integer: \"))\n",
        "\n",
        "# add your code here"
      ]
    },
    {
      "cell_type": "markdown",
      "metadata": {
        "id": "Fs7BjLaYQHwb"
      },
      "source": [
        "\n",
        "**Traversal with a *for* loop**\n",
        "\n",
        "\n",
        "A for loop is used for iterating over a sequence (that is either a list, a tuple, a dictionary, a set, or a string). With the for loop we can execute a set of statements, once for each item in a list, tuple, set etc.\n",
        "\n",
        "Remember that you can iterate over such sequences in different ways e.g.: \n",
        "- Direct looping over the items with `for n in Sequence`\n",
        "- Looping over a range of integers e.g. resembling the indexes of a list with: \n",
        "    - `for i in range(Stop: Integer)`\n",
        "    - `for i in range(Start: Integer, Stop: Integer)`\n",
        "    - `for i in range(Start: Integer, Stop: Integer, StepSize: Integer)`\n",
        "- Looping over the item and index pair of a list with `for i, n in enumerate(Sequence)`\n",
        "\n",
        "Task 2: Write a program that calculates the average of a list of numbers. Try the different looping strategies mentioned above."
      ]
    },
    {
      "cell_type": "code",
      "execution_count": null,
      "metadata": {
        "id": "0-aVNQeBQKT7"
      },
      "outputs": [],
      "source": [
        "nums = [2, 11, 4, 6, 8, 17, 10, 3, 1]\n",
        "\n",
        "# add your code here"
      ]
    },
    {
      "cell_type": "markdown",
      "metadata": {
        "id": "NGpDtxD6P6hs"
      },
      "source": [
        "**Break statement**\n",
        "\n",
        "With the break statement in \"while\" statement we can stop the loop even if the while condition is true. In \"for\" with the break statement we can stop the loop before it has looped through all the items. \n",
        "\n",
        "Task 3: Write a program that prompts the user to enter a word and prints the word in reverse order. The program should continue to ask the user for a word until the word \"stop\" is entered."
      ]
    },
    {
      "cell_type": "code",
      "execution_count": null,
      "metadata": {
        "id": "WvJXZQNRQHMm"
      },
      "outputs": [],
      "source": [
        "while True:\n",
        "  word = input(\"Enter a word: \") \n",
        "  # add your code here\n",
        "  reversed_word = None\n",
        "  print(\"Reversed word:\", reversed_word)"
      ]
    },
    {
      "cell_type": "markdown",
      "metadata": {
        "id": "t3qVMgoThXlk"
      },
      "source": [
        "Task 4: Write a program that uses a for loop to iterate over a list of integers and prints each number until it reaches a negative number. Then, break out of the loop."
      ]
    },
    {
      "cell_type": "code",
      "execution_count": null,
      "metadata": {
        "id": "0Eo-2yf6husD"
      },
      "outputs": [],
      "source": [
        "numbers = [10, 20, 30, 40, -5, 50, 60]\n",
        "\n",
        "# add your code here"
      ]
    },
    {
      "cell_type": "markdown",
      "metadata": {
        "id": "WjUA8Ir2QNWW"
      },
      "source": [
        "**The *continue* statement**\n",
        "\n",
        "With the continue statement we can stop the current iteration of the loop, and continue with the next.\n",
        "\n",
        "Task 5: Skip Game! Write a program that prints all the even numbers from 1 to 50 using a **for** loop. However, for multiples of 3, print \"skip\" instead of the number."
      ]
    },
    {
      "cell_type": "code",
      "execution_count": null,
      "metadata": {
        "id": "uciKSmvpiKR_"
      },
      "outputs": [],
      "source": [
        "# add your code here"
      ]
    }
  ],
  "metadata": {
    "colab": {
      "provenance": []
    },
    "kernelspec": {
      "display_name": "Python 3",
      "name": "python3"
    },
    "language_info": {
      "codemirror_mode": {
        "name": "ipython",
        "version": 3
      },
      "file_extension": ".py",
      "mimetype": "text/x-python",
      "name": "python",
      "nbconvert_exporter": "python",
      "pygments_lexer": "ipython3",
      "version": "3.11.8"
    }
  },
  "nbformat": 4,
  "nbformat_minor": 0
}
