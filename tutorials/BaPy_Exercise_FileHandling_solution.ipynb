{
 "cells": [
  {
   "cell_type": "markdown",
   "metadata": {},
   "source": [
    "# **Basic Programming in Python**\n",
    "\n",
    "## Summer Term 2024\n",
    "\n",
    "### Additional exercise on handling files and saving results"
   ]
  },
  {
   "cell_type": "markdown",
   "metadata": {},
   "source": [
    "When working on datasets, you don't really want to start copy-pasting all the values from your dataset into your code.\n",
    "You neither want to copy-paste all your values from a terminal or the Jupyter notebook output section into a csv-file to store that data for later usage.\n",
    "\n",
    "At this point we have to get comfortable with file handling.\n",
    "\n",
    "The goal of this exercise is to make you fit on this topic - but since you are by now a proficient coder, you won't get so much information on that 😎\n",
    "\n",
    "Jokes aside..\n",
    "\n",
    "It is really important to learn to navigate yourself through the countless resources which are available at the tips of your fingers aka the internet.   \n",
    "Remember the soft skills for coders section. You already saw how one can get a good insight into a coding topic through the help of e.g. forums.\n",
    "\n",
    "PS: Do yourself a favor and don't use ChatGPT for that exercise.   \n",
    "As already mentioned before: It's a powerful tool which a coder can and should use to spend less time being stuck in language-related problems and more spend more time being creative.   \n",
    "But if you do so while learning basically anything, you will get the backlash sooner or later.\n",
    "May it be in terms of: \n",
    "- lack of knowledge in general\n",
    "- not being able to manage the delivered results well\n",
    "- most critical: trusting blindly a failure-prone software\n",
    "\n",
    "But enough talking. Let's get our hands dirty!"
   ]
  },
  {
   "cell_type": "markdown",
   "metadata": {},
   "source": [
    "### **Preparation**"
   ]
  },
  {
   "cell_type": "markdown",
   "metadata": {},
   "source": [
    "First, you have to upload a file before you can start with this exercise.\n",
    "You can take for that the file `resources/my_file.txt` from studip."
   ]
  },
  {
   "cell_type": "markdown",
   "metadata": {},
   "source": [
    "### **Handy file handling**"
   ]
  },
  {
   "cell_type": "markdown",
   "metadata": {},
   "source": [
    "#### **Opening Files**"
   ]
  },
  {
   "cell_type": "markdown",
   "metadata": {},
   "source": [
    "You can open a file with the `open()` function.   \n",
    "Here you can also specify in which mode you want to open a file.   \n",
    "By default Python opens a file in the read mode."
   ]
  },
  {
   "cell_type": "code",
   "execution_count": null,
   "metadata": {},
   "outputs": [],
   "source": [
    "my_file = open(\"resources/my_file.txt\")\n",
    "\n",
    "print(my_file)"
   ]
  },
  {
   "cell_type": "markdown",
   "metadata": {},
   "source": [
    "You don't get to see the content of an opened file directly with the `print()` function. You first have to read its content."
   ]
  },
  {
   "cell_type": "markdown",
   "metadata": {},
   "source": [
    "#### **Reading Files**"
   ]
  },
  {
   "cell_type": "markdown",
   "metadata": {},
   "source": [
    "After opening a file by using the `open()` function, we can start reading its content with the `read()` method."
   ]
  },
  {
   "cell_type": "code",
   "execution_count": null,
   "metadata": {},
   "outputs": [],
   "source": [
    "read_my_file = my_file.read()\n",
    "\n",
    "print(read_my_file)"
   ]
  },
  {
   "cell_type": "markdown",
   "metadata": {},
   "source": [
    "I guess you are familiar with the content if this file by now ;)"
   ]
  },
  {
   "cell_type": "markdown",
   "metadata": {},
   "source": [
    "#### **Closing Files**"
   ]
  },
  {
   "cell_type": "markdown",
   "metadata": {},
   "source": [
    "After reading a file's content, you have to close it with the `close()` method. Otherwise it will block the allocated memory on your machine. "
   ]
  },
  {
   "cell_type": "code",
   "execution_count": null,
   "metadata": {},
   "outputs": [],
   "source": [
    "my_file.close()"
   ]
  },
  {
   "cell_type": "markdown",
   "metadata": {},
   "source": [
    "#### **Different file modes**"
   ]
  },
  {
   "cell_type": "markdown",
   "metadata": {},
   "source": [
    "As already mentioned, files are opened by default in the read mode.\n",
    "But there are plenty more:\n",
    "```\n",
    "Mode    Description\n",
    "r       Open a file in reading mode (default)\n",
    "w       Open a file in writing mode\n",
    "x       Open a file for exclusive creation\n",
    "a       Open a file in appending mode\n",
    "t       Open a file in text mode (default)\n",
    "b       Open a file in binary mode\n",
    "+       Open a file in both read and write mode\n",
    "```"
   ]
  },
  {
   "cell_type": "markdown",
   "metadata": {},
   "source": [
    "#### **Creating a File**"
   ]
  },
  {
   "cell_type": "markdown",
   "metadata": {},
   "source": [
    "To create a file you must open it in either the `x` or `w` mode. What are the differences?"
   ]
  },
  {
   "cell_type": "code",
   "execution_count": null,
   "metadata": {},
   "outputs": [],
   "source": [
    "# Create a new file in the x mode\n",
    "file2 = open(\"my_file2.txt\", \"x\")\n",
    "file2.close()"
   ]
  },
  {
   "cell_type": "markdown",
   "metadata": {},
   "source": [
    "Okay you just created a new file with the filename `my_file2.txt`.\n",
    "What happens if you re-run the upper cell?\n",
    "\n",
    "Now do the same thing for the `w` mode."
   ]
  },
  {
   "cell_type": "code",
   "execution_count": null,
   "metadata": {},
   "outputs": [],
   "source": [
    "# Create a new file in the w mode\n",
    "file2 = open(\"my_file2.txt\", \"w\")\n",
    "file2.close()"
   ]
  },
  {
   "cell_type": "markdown",
   "metadata": {},
   "source": [
    "Did you notice something?\n",
    "\n",
    "The `w` mode creates a file even if another file with the filename already exists. It's overwriting. So be cautious with that."
   ]
  },
  {
   "cell_type": "markdown",
   "metadata": {},
   "source": [
    "#### **Editing a file**"
   ]
  },
  {
   "cell_type": "markdown",
   "metadata": {},
   "source": [
    "You cannot only read a file's content but you can actually edit it with the `write()` method!"
   ]
  },
  {
   "cell_type": "code",
   "execution_count": null,
   "metadata": {},
   "outputs": [],
   "source": [
    "file2 = open(\"my_file2.txt\", \"w\")\n",
    "file2.write(\"I need an ice cream asap.\")\n",
    "file2.close()\n",
    "\n",
    "# Let's read the file\n",
    "file2 = open(\"my_file2.txt\", \"r\")\n",
    "print(file2.read())\n",
    "file2.close()"
   ]
  },
  {
   "cell_type": "markdown",
   "metadata": {},
   "source": [
    "Instead of opening a file and overwriting all its content you could also use the append mode `a`"
   ]
  },
  {
   "cell_type": "code",
   "execution_count": null,
   "metadata": {},
   "outputs": [],
   "source": [
    "file2 = open(\"my_file2.txt\", \"a\")\n",
    "\n",
    "#Add the content you want to append\n",
    "file2.write(\"\\nI also need a break.\")\n",
    "file2.close()\n",
    "\n",
    "# Let's read the file's content again\n",
    "file2 = open(\"my_file2.txt\", \"r\")\n",
    "print(file2.read())\n",
    "file2.close()"
   ]
  },
  {
   "cell_type": "markdown",
   "metadata": {},
   "source": [
    "#### **Deleting a file**"
   ]
  },
  {
   "cell_type": "markdown",
   "metadata": {},
   "source": [
    "And finally you are going to delete your hard work. This can be done with the `os.remove()` function.\n",
    "\n",
    "I think you already know that but **BE CAREFUL WITH THAT**. It's cannot undo this action.\n",
    "\n",
    "Before deleting the file, you first have to import the `os` module, which delivers this function\n",
    "\n",
    "*Short excursion: modules are packages/libraries of code which other people created. Usually they come with handy functions and classes for specific tasks. That way you don't have to create everything by yourself. The `os` module is a basic Python module. You can look up its contents easily - go ahead.*"
   ]
  },
  {
   "cell_type": "code",
   "execution_count": null,
   "metadata": {},
   "outputs": [],
   "source": [
    "# import the os module\n",
    "import os"
   ]
  },
  {
   "cell_type": "code",
   "execution_count": null,
   "metadata": {},
   "outputs": [],
   "source": [
    "os.remove(\"my_file2.txt\")"
   ]
  },
  {
   "cell_type": "code",
   "execution_count": null,
   "metadata": {},
   "outputs": [],
   "source": [
    "# check if you have removed the file\n",
    "file2 = open(\"my_file2.txt\", \"r\")"
   ]
  },
  {
   "cell_type": "markdown",
   "metadata": {},
   "source": [
    "#### **Using the `with` statement**"
   ]
  },
  {
   "cell_type": "markdown",
   "metadata": {},
   "source": [
    "The `with` statement allows you to automatically close files as soon as you are at the end of the corresponding code block.   \n",
    "Python identifies the corresponding code block through the indentation (similar to `if` statements and `for` loops).\n",
    "\n",
    "The `with` statement provides more readable code structure than the manual opening and closing of files."
   ]
  },
  {
   "cell_type": "code",
   "execution_count": null,
   "metadata": {},
   "outputs": [],
   "source": [
    "#Open the file using with statement\n",
    "with open(\"resources/my_file.txt\", \"r\") as file:\n",
    "    #Read the contents of the file\n",
    "    print(file.read())"
   ]
  },
  {
   "cell_type": "code",
   "execution_count": null,
   "metadata": {},
   "outputs": [],
   "source": [
    "# We did not close the file by hand. Try to read the file contents again\n",
    "print(file.read())"
   ]
  },
  {
   "cell_type": "markdown",
   "metadata": {},
   "source": [
    "You can perform all the operations from above and many more within this code block. You can even implement a `for` loop inside the `with` code block"
   ]
  },
  {
   "cell_type": "markdown",
   "metadata": {},
   "source": [
    "### **Working with CSV files**"
   ]
  },
  {
   "cell_type": "markdown",
   "metadata": {},
   "source": [
    "CSV (Comma-Separated Values) files are widely used for storing tabular data. They consist of rows, each containing data separated by commas. Python provides the `csv` module to handle CSV files efficiently.\n",
    "\n",
    "We can use the csv module's `reader()` function to read CSV data into lists. Similarly, we can use the `writer()` function to write data to CSV files.\n",
    "\n",
    "The csv module offers various options for customizing the behavior, such as specifying delimiters, handling headers, and handling missing data.\n",
    "\n",
    "With that being said, let's apply all our learned knowledge and finally get **cognitive**!\n",
    "\n",
    "**Task:**\n",
    "\n",
    "We are going to work here with randomly generated data from a reinforcement learning experiment with a four armed bandit task.   \n",
    "In this task a participant has to select at each trial one of four arms and receives a reward according to the unknown reward probability.   \n",
    "The data is structured in a pretty unhandy way because its taking up too much space.   \n",
    "Our goal is to reduce the data as much as possible.\n",
    "\n",
    "Start by importing the `csv` module and read the contents of the `four_armed_bandit_task.csv` file."
   ]
  },
  {
   "cell_type": "code",
   "execution_count": 3,
   "metadata": {},
   "outputs": [
    {
     "name": "stdout",
     "output_type": "stream",
     "text": [
      "[['trial', 'arm_1', 'arm_2', 'arm_3', 'arm_4'], ['0', '-1', '-1', '-1', '1'], ['1', '-1', '-1', '1', '-1'], ['2', '1', '-1', '-1', '-1'], ['3', '0', '-1', '-1', '-1'], ['4', '-1', '-1', '-1', '0'], ['5', '-1', '-1', '-1', '0'], ['6', '-1', '-1', '1', '-1'], ['7', '-1', '1', '-1', '-1'], ['8', '-1', '0', '-1', '-1'], ['9', '0', '-1', '-1', '-1'], ['10', '0', '-1', '-1', '-1'], ['11', '-1', '0', '-1', '-1'], ['12', '-1', '-1', '-1', '1'], ['13', '-1', '-1', '1', '-1'], ['14', '-1', '1', '-1', '-1'], ['15', '-1', '-1', '-1', '1'], ['16', '0', '-1', '-1', '-1'], ['17', '-1', '1', '-1', '-1'], ['18', '-1', '-1', '1', '-1'], ['19', '-1', '-1', '1', '-1'], ['20', '1', '-1', '-1', '-1'], ['21', '-1', '-1', '1', '-1'], ['22', '-1', '-1', '1', '-1'], ['23', '-1', '0', '-1', '-1'], ['24', '0', '-1', '-1', '-1'], ['25', '-1', '-1', '-1', '1'], ['26', '-1', '-1', '1', '-1'], ['27', '-1', '0', '-1', '-1'], ['28', '-1', '-1', '-1', '1'], ['29', '-1', '-1', '0', '-1'], ['30', '-1', '-1', '1', '-1'], ['31', '-1', '-1', '-1', '1'], ['32', '-1', '-1', '-1', '0'], ['33', '0', '-1', '-1', '-1'], ['34', '-1', '-1', '-1', '1'], ['35', '-1', '1', '-1', '-1'], ['36', '-1', '0', '-1', '-1'], ['37', '-1', '1', '-1', '-1'], ['38', '0', '-1', '-1', '-1'], ['39', '1', '-1', '-1', '-1'], ['40', '-1', '-1', '0', '-1'], ['41', '-1', '-1', '1', '-1'], ['42', '-1', '-1', '1', '-1'], ['43', '-1', '-1', '0', '-1'], ['44', '-1', '0', '-1', '-1'], ['45', '-1', '-1', '0', '-1'], ['46', '0', '-1', '-1', '-1'], ['47', '-1', '1', '-1', '-1'], ['48', '-1', '-1', '1', '-1'], ['49', '-1', '1', '-1', '-1'], ['50', '0', '-1', '-1', '-1'], ['51', '-1', '-1', '-1', '0'], ['52', '0', '-1', '-1', '-1'], ['53', '-1', '-1', '0', '-1'], ['54', '0', '-1', '-1', '-1'], ['55', '-1', '-1', '-1', '1'], ['56', '0', '-1', '-1', '-1'], ['57', '0', '-1', '-1', '-1'], ['58', '-1', '-1', '-1', '0'], ['59', '-1', '1', '-1', '-1'], ['60', '-1', '-1', '0', '-1'], ['61', '-1', '-1', '0', '-1'], ['62', '-1', '1', '-1', '-1'], ['63', '-1', '-1', '0', '-1'], ['64', '0', '-1', '-1', '-1'], ['65', '0', '-1', '-1', '-1'], ['66', '-1', '1', '-1', '-1'], ['67', '-1', '-1', '-1', '1'], ['68', '-1', '-1', '0', '-1'], ['69', '-1', '-1', '-1', '0'], ['70', '-1', '-1', '1', '-1'], ['71', '-1', '-1', '-1', '0'], ['72', '-1', '1', '-1', '-1'], ['73', '0', '-1', '-1', '-1'], ['74', '-1', '-1', '1', '-1'], ['75', '-1', '1', '-1', '-1'], ['76', '-1', '-1', '-1', '1'], ['77', '-1', '1', '-1', '-1'], ['78', '1', '-1', '-1', '-1'], ['79', '-1', '1', '-1', '-1'], ['80', '-1', '1', '-1', '-1'], ['81', '-1', '-1', '0', '-1'], ['82', '-1', '0', '-1', '-1'], ['83', '-1', '-1', '-1', '0'], ['84', '-1', '-1', '0', '-1'], ['85', '0', '-1', '-1', '-1'], ['86', '-1', '1', '-1', '-1'], ['87', '-1', '-1', '1', '-1'], ['88', '-1', '-1', '0', '-1'], ['89', '-1', '-1', '-1', '0'], ['90', '-1', '0', '-1', '-1'], ['91', '-1', '-1', '-1', '1'], ['92', '-1', '-1', '0', '-1'], ['93', '0', '-1', '-1', '-1'], ['94', '-1', '-1', '-1', '1'], ['95', '-1', '-1', '1', '-1'], ['96', '-1', '1', '-1', '-1'], ['97', '-1', '1', '-1', '-1'], ['98', '-1', '-1', '-1', '0'], ['99', '-1', '0', '-1', '-1'], ['100', '-1', '1', '-1', '-1'], ['101', '0', '-1', '-1', '-1'], ['102', '-1', '-1', '-1', '1'], ['103', '1', '-1', '-1', '-1'], ['104', '-1', '0', '-1', '-1'], ['105', '-1', '-1', '-1', '1'], ['106', '-1', '-1', '0', '-1'], ['107', '-1', '-1', '1', '-1'], ['108', '-1', '-1', '-1', '0'], ['109', '0', '-1', '-1', '-1'], ['110', '1', '-1', '-1', '-1'], ['111', '1', '-1', '-1', '-1'], ['112', '-1', '-1', '0', '-1'], ['113', '0', '-1', '-1', '-1'], ['114', '-1', '-1', '1', '-1'], ['115', '0', '-1', '-1', '-1'], ['116', '-1', '-1', '-1', '0'], ['117', '-1', '0', '-1', '-1'], ['118', '-1', '-1', '-1', '1'], ['119', '-1', '0', '-1', '-1'], ['120', '-1', '1', '-1', '-1'], ['121', '1', '-1', '-1', '-1'], ['122', '-1', '-1', '1', '-1'], ['123', '-1', '1', '-1', '-1'], ['124', '-1', '-1', '1', '-1'], ['125', '0', '-1', '-1', '-1'], ['126', '-1', '1', '-1', '-1'], ['127', '-1', '-1', '0', '-1'], ['128', '-1', '-1', '-1', '1'], ['129', '1', '-1', '-1', '-1'], ['130', '-1', '-1', '1', '-1'], ['131', '-1', '-1', '0', '-1'], ['132', '-1', '-1', '0', '-1'], ['133', '1', '-1', '-1', '-1'], ['134', '-1', '-1', '-1', '0'], ['135', '-1', '-1', '0', '-1'], ['136', '-1', '-1', '0', '-1'], ['137', '-1', '1', '-1', '-1'], ['138', '-1', '-1', '-1', '1'], ['139', '-1', '-1', '-1', '1'], ['140', '-1', '-1', '-1', '0'], ['141', '-1', '-1', '-1', '0'], ['142', '-1', '-1', '-1', '1'], ['143', '-1', '0', '-1', '-1'], ['144', '0', '-1', '-1', '-1'], ['145', '-1', '-1', '-1', '1'], ['146', '1', '-1', '-1', '-1'], ['147', '-1', '-1', '-1', '0'], ['148', '-1', '0', '-1', '-1'], ['149', '-1', '1', '-1', '-1'], ['150', '-1', '1', '-1', '-1'], ['151', '-1', '-1', '-1', '1'], ['152', '-1', '-1', '-1', '0'], ['153', '0', '-1', '-1', '-1'], ['154', '-1', '-1', '0', '-1'], ['155', '-1', '0', '-1', '-1'], ['156', '-1', '-1', '1', '-1'], ['157', '-1', '0', '-1', '-1'], ['158', '-1', '-1', '0', '-1'], ['159', '-1', '-1', '-1', '1'], ['160', '-1', '1', '-1', '-1'], ['161', '-1', '0', '-1', '-1'], ['162', '-1', '-1', '-1', '1'], ['163', '-1', '-1', '0', '-1'], ['164', '-1', '-1', '0', '-1'], ['165', '-1', '0', '-1', '-1'], ['166', '-1', '-1', '1', '-1'], ['167', '-1', '-1', '0', '-1'], ['168', '-1', '-1', '-1', '0'], ['169', '-1', '-1', '0', '-1'], ['170', '-1', '0', '-1', '-1'], ['171', '-1', '1', '-1', '-1'], ['172', '-1', '1', '-1', '-1'], ['173', '-1', '-1', '1', '-1'], ['174', '-1', '0', '-1', '-1'], ['175', '-1', '0', '-1', '-1'], ['176', '-1', '-1', '-1', '1'], ['177', '-1', '-1', '0', '-1'], ['178', '-1', '-1', '1', '-1'], ['179', '-1', '-1', '-1', '0'], ['180', '-1', '1', '-1', '-1'], ['181', '-1', '-1', '-1', '1'], ['182', '-1', '-1', '1', '-1'], ['183', '0', '-1', '-1', '-1'], ['184', '-1', '-1', '-1', '1'], ['185', '-1', '-1', '1', '-1'], ['186', '-1', '1', '-1', '-1'], ['187', '1', '-1', '-1', '-1'], ['188', '-1', '1', '-1', '-1'], ['189', '1', '-1', '-1', '-1'], ['190', '0', '-1', '-1', '-1'], ['191', '-1', '-1', '-1', '1'], ['192', '-1', '-1', '1', '-1'], ['193', '-1', '-1', '1', '-1'], ['194', '0', '-1', '-1', '-1'], ['195', '0', '-1', '-1', '-1'], ['196', '-1', '-1', '1', '-1'], ['197', '0', '-1', '-1', '-1'], ['198', '-1', '-1', '-1', '1'], ['199', '-1', '-1', '1', '-1']]\n"
     ]
    }
   ],
   "source": [
    "import csv\n",
    "\n",
    "file_dir = \"resources/four_armed_bandit_task.csv\"\n",
    "\n",
    "with open(file_dir, \"r\") as file:\n",
    "    reader = csv.reader(file)\n",
    "    # add your code here\n",
    "    # hint: this files has several lines.\n",
    "    content = []\n",
    "    for row in reader:\n",
    "        content.append(row)\n",
    "        \n",
    "print(content)"
   ]
  },
  {
   "cell_type": "markdown",
   "metadata": {},
   "source": [
    "Print the data to check how it looks like.\n",
    "\n",
    "It should be in the form: `n_trials, arm_1, arm_2, arm_3, arm_4` with each trial being one row.    \n",
    "The non-chosen arms have the value -1. The chosen arm has the value 0 or 1 depending on whether it was rewarded or not.   \n",
    "\n",
    "Our goal is to reduce the data to its core information.   \n",
    "We could do so by compressing the dimensions of the four arms into one dimension.\n",
    "\n",
    "This dimension could carry following information:   \n",
    "It carries the number of the chosen arm i.e. 1, 2, 3, or 4.   \n",
    "Further, it is multiplied by 1 or -1 depending on whether it was rewarded or not.   \n",
    "\n",
    "This would give our data the form: `n_trials, result` where `result` can be any integer between -4 and 4 (except for 0).\n",
    "\n",
    "Save the result in another csv file.\n",
    "\n",
    "Feel free to work on this small project on your own!\n",
    "\n",
    "*PS: This is not part of the grade. So don't stress yourself out about it. It's just a neat little exercise with some real CogSci relation!*"
   ]
  },
  {
   "cell_type": "code",
   "execution_count": 5,
   "metadata": {},
   "outputs": [
    {
     "data": {
      "text/plain": [
       "[False, True, True, True, True]"
      ]
     },
     "execution_count": 5,
     "metadata": {},
     "output_type": "execute_result"
    }
   ],
   "source": [
    "index_arm"
   ]
  },
  {
   "cell_type": "code",
   "execution_count": 16,
   "metadata": {},
   "outputs": [
    {
     "name": "stdout",
     "output_type": "stream",
     "text": [
      "[['trial', 'choice'], ['0', 4], ['1', 3], ['2', 1], ['3', -1], ['4', -4], ['5', -4], ['6', 3], ['7', 2], ['8', -2], ['9', -1], ['10', -1], ['11', -2], ['12', 4], ['13', 3], ['14', 2], ['15', 4], ['16', -1], ['17', 2], ['18', 3], ['19', 3], ['20', 1], ['21', 3], ['22', 3], ['23', -2], ['24', -1], ['25', 4], ['26', 3], ['27', -2], ['28', 4], ['29', -3], ['30', 3], ['31', 4], ['32', -4], ['33', -1], ['34', 4], ['35', 2], ['36', -2], ['37', 2], ['38', -1], ['39', 1], ['40', -3], ['41', 3], ['42', 3], ['43', -3], ['44', -2], ['45', -3], ['46', -1], ['47', 2], ['48', 3], ['49', 2], ['50', -1], ['51', -4], ['52', -1], ['53', -3], ['54', -1], ['55', 4], ['56', -1], ['57', -1], ['58', -4], ['59', 2], ['60', -3], ['61', -3], ['62', 2], ['63', -3], ['64', -1], ['65', -1], ['66', 2], ['67', 4], ['68', -3], ['69', -4], ['70', 3], ['71', -4], ['72', 2], ['73', -1], ['74', 3], ['75', 2], ['76', 4], ['77', 2], ['78', 1], ['79', 2], ['80', 2], ['81', -3], ['82', -2], ['83', -4], ['84', -3], ['85', -1], ['86', 2], ['87', 3], ['88', -3], ['89', -4], ['90', -2], ['91', 4], ['92', -3], ['93', -1], ['94', 4], ['95', 3], ['96', 2], ['97', 2], ['98', -4], ['99', -2], ['100', 2], ['101', -1], ['102', 4], ['103', 1], ['104', -2], ['105', 4], ['106', -3], ['107', 3], ['108', -4], ['109', -1], ['110', 1], ['111', 1], ['112', -3], ['113', -1], ['114', 3], ['115', -1], ['116', -4], ['117', -2], ['118', 4], ['119', -2], ['120', 2], ['121', 1], ['122', 3], ['123', 2], ['124', 3], ['125', -1], ['126', 2], ['127', -3], ['128', 4], ['129', 1], ['130', 3], ['131', -3], ['132', -3], ['133', 1], ['134', -4], ['135', -3], ['136', -3], ['137', 2], ['138', 4], ['139', 4], ['140', -4], ['141', -4], ['142', 4], ['143', -2], ['144', -1], ['145', 4], ['146', 1], ['147', -4], ['148', -2], ['149', 2], ['150', 2], ['151', 4], ['152', -4], ['153', -1], ['154', -3], ['155', -2], ['156', 3], ['157', -2], ['158', -3], ['159', 4], ['160', 2], ['161', -2], ['162', 4], ['163', -3], ['164', -3], ['165', -2], ['166', 3], ['167', -3], ['168', -4], ['169', -3], ['170', -2], ['171', 2], ['172', 2], ['173', 3], ['174', -2], ['175', -2], ['176', 4], ['177', -3], ['178', 3], ['179', -4], ['180', 2], ['181', 4], ['182', 3], ['183', -1], ['184', 4], ['185', 3], ['186', 2], ['187', 1], ['188', 2], ['189', 1], ['190', -1], ['191', 4], ['192', 3], ['193', 3], ['194', -1], ['195', -1], ['196', 3], ['197', -1], ['198', 4], ['199', 3]]\n"
     ]
    }
   ],
   "source": [
    "# add your code here\n",
    "\n",
    "# transform the content from that file \n",
    "# from current shape: (trial, arm1, arm2, arm3, arm4) \n",
    "# into new shape: (trial, choice)\n",
    "new_content_header = [[\"trial\", \"choice\"]]\n",
    "new_content = []\n",
    "\n",
    "# find all columns that have the word \"arm\" in their name\n",
    "index_arm = []\n",
    "for i in range(len(content[0])):\n",
    "    index_arm.append(\"arm\" in content[0][i])\n",
    "\n",
    "# loop through the remaining rows\n",
    "for i in range(1, len(content)):\n",
    "    # loop through the columns of each row\n",
    "    for j in range(len(content[i])):\n",
    "        # check if the column is an arm column and the value is either 0 or 1\n",
    "        if index_arm[j] and content[i][j] in [\"0\", \"1\"]:\n",
    "            # if the value is 1, append the trial number and the column index to the new content\n",
    "            if content[i][j] == \"1\":\n",
    "                new_content.append([content[i][0], j])\n",
    "            # if the value is 0, append the trial number and the column index * -1 to the new content\n",
    "            elif content[i][j] == \"0\":\n",
    "                new_content.append([content[i][0], -j])\n",
    "\n",
    "new_content = new_content_header + new_content\n",
    "\n",
    "print(new_content)"
   ]
  },
  {
   "cell_type": "code",
   "execution_count": 11,
   "metadata": {},
   "outputs": [
    {
     "name": "stdout",
     "output_type": "stream",
     "text": [
      "[['0', '-1', '-1', '-1', '1'], ['1', '-1', '-1', '1', '-1'], ['2', '1', '-1', '-1', '-1'], ['3', '0', '-1', '-1', '-1'], ['4', '-1', '-1', '-1', '0'], ['5', '-1', '-1', '-1', '0'], ['6', '-1', '-1', '1', '-1'], ['7', '-1', '1', '-1', '-1'], ['8', '-1', '0', '-1', '-1']]\n",
      "[['0', 4], ['1', 3], ['2', 1], ['3', -1], ['4', -4], ['5', -4], ['6', 3], ['7', 2], ['8', -2]]\n"
     ]
    }
   ],
   "source": [
    "# check if the new content is correct\n",
    "print(content[1:10])\n",
    "print(new_content[1:10])"
   ]
  },
  {
   "cell_type": "code",
   "execution_count": 12,
   "metadata": {},
   "outputs": [
    {
     "data": {
      "text/plain": [
       "'resources/four_armed_bandit_task.csv'"
      ]
     },
     "execution_count": 12,
     "metadata": {},
     "output_type": "execute_result"
    }
   ],
   "source": [
    "file_dir"
   ]
  },
  {
   "cell_type": "code",
   "execution_count": 13,
   "metadata": {},
   "outputs": [
    {
     "data": {
      "text/plain": [
       "['resources', 'four_armed_bandit_task.csv']"
      ]
     },
     "execution_count": 13,
     "metadata": {},
     "output_type": "execute_result"
    }
   ],
   "source": [
    "file_dir.split(\"/\")"
   ]
  },
  {
   "cell_type": "code",
   "execution_count": 14,
   "metadata": {},
   "outputs": [
    {
     "name": "stdout",
     "output_type": "stream",
     "text": [
      "resources\n",
      "four_armed_bandit_task_formatted.csv\n"
     ]
    }
   ],
   "source": [
    "# write the new content to a new file\n",
    "# file location is in the same directory as the original file\n",
    "new_file_dir = file_dir.split(\"/\")[0]\n",
    "new_file_name = file_dir.split(\"/\")[1].split(\".\")[0] + \"_formatted.csv\"\n",
    "print(new_file_dir)\n",
    "print(new_file_name)\n",
    "with open(new_file_dir + \"/\" + new_file_name, \"w\") as file:\n",
    "    writer = csv.writer(file)\n",
    "    writer.writerows(new_content)"
   ]
  }
 ],
 "metadata": {
  "kernelspec": {
   "display_name": "pymc",
   "language": "python",
   "name": "python3"
  },
  "language_info": {
   "codemirror_mode": {
    "name": "ipython",
    "version": 3
   },
   "file_extension": ".py",
   "mimetype": "text/x-python",
   "name": "python",
   "nbconvert_exporter": "python",
   "pygments_lexer": "ipython3",
   "version": "3.11.8"
  }
 },
 "nbformat": 4,
 "nbformat_minor": 2
}
