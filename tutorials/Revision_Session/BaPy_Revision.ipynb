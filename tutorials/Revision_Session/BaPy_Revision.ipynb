{
  "nbformat": 4,
  "nbformat_minor": 0,
  "metadata": {
    "colab": {
      "provenance": []
    },
    "kernelspec": {
      "name": "python3",
      "display_name": "Python 3"
    },
    "language_info": {
      "name": "python"
    }
  },
  "cells": [
    {
      "cell_type": "markdown",
      "source": [
        "# **Basic Programming in Python**\n",
        "\n",
        "## Summer Semester 2023\n",
        "\n",
        "### Revision Session - 26.06.2023"
      ],
      "metadata": {
        "id": "iaLAsaSmXafK"
      }
    },
    {
      "cell_type": "markdown",
      "source": [
        "### **Variable Naming**\n",
        "\n",
        "#### **Which of the following variable names follow the Python naming conventions? Remember that using lowercase letters and underscores are suggested by Python naming conventions.**"
      ],
      "metadata": {
        "id": "puesGSUHgFEs"
      }
    },
    {
      "cell_type": "code",
      "source": [
        "#1\n",
        "my_variable\n",
        "\n",
        "#2\n",
        "myVariable\n",
        "\n",
        "#3\n",
        "MyVariable\n",
        "\n",
        "#4\n",
        "myVariable123\n",
        "\n",
        "#5\n",
        "123myVariable"
      ],
      "metadata": {
        "id": "58e4OO6BjJOY"
      },
      "execution_count": null,
      "outputs": []
    },
    {
      "cell_type": "markdown",
      "source": [
        "### **Data Types and Type Conversions**"
      ],
      "metadata": {
        "id": "0MAfbbAwkU_o"
      }
    },
    {
      "cell_type": "markdown",
      "source": [
        "#### **Let's try to explain how type conversion works in the following examples.**"
      ],
      "metadata": {
        "id": "C9w3fjI7l3u5"
      }
    },
    {
      "cell_type": "markdown",
      "source": [
        "##### **Implicit Type Conversion**"
      ],
      "metadata": {
        "id": "BeCkUxQamjXP"
      }
    },
    {
      "cell_type": "code",
      "source": [
        "number_1= 123\n",
        "number_2 = 1.23\n",
        "\n",
        "new_number = number_1 + number_2\n",
        "\n",
        "print(\"Value:\", new_number)\n",
        "print(\"Data Type:\", type(new_number))"
      ],
      "metadata": {
        "id": "D9O-q110lCnm"
      },
      "execution_count": null,
      "outputs": []
    },
    {
      "cell_type": "markdown",
      "source": [
        "##### **Explicit Type Conversion**"
      ],
      "metadata": {
        "id": "mj6COgtFmmzx"
      }
    },
    {
      "cell_type": "code",
      "source": [
        "num_string = \"10\"\n",
        "num_integer = 30\n",
        "\n",
        "print(\"Data type of num_string before Type Casting:\", type(num_string))\n",
        "\n",
        "# Explicit type conversion\n",
        "num_string = int(num_string)\n",
        "\n",
        "print(\"Data type of num_string after Type Casting:\", type(num_string))\n",
        "\n",
        "num_sum = num_integer + num_string\n",
        "\n",
        "print(\"Sum:\", num_sum)\n",
        "print(\"Data type of num_sum:\", type(num_sum))"
      ],
      "metadata": {
        "id": "9wRifvbAlfrM"
      },
      "execution_count": null,
      "outputs": []
    },
    {
      "cell_type": "markdown",
      "source": [
        "### **Strings**\n",
        "Strings are an essential part of any programming language, and understanding how to manipulate and format them effectively is crucial. Strings in Python are sequences of characters enclosed in single quotes ('') or double quotes (\"\").\n",
        "\n",
        "* **Concatenation:**\n",
        "String concatenation is the process of combining strings. In Python, you can use the \"+\" operator to concatenate strings.\n",
        "* **String Indexing:**\n",
        "Strings can be accessed using indexes, which start from 0 for the first character. You can use square brackets [] to access individual characters or a range of characters within a string.\n",
        "* **String Methods:** Python provides numerous built-in methods for string manipulation. text.upper(), text.lower(),text.replace(\"Hello\", \"Hi\"), text.split(\", \")\n",
        "* **String Formatting:**\n",
        "String formatting allows you to create dynamic strings by embedding variables and expressions. Python provides different approaches for string formatting, including the %-formatting, the str.format() method, and f-strings (formatted string literals)."
      ],
      "metadata": {
        "id": "4CUhrcfap0kS"
      }
    },
    {
      "cell_type": "code",
      "source": [
        "# String Manipulation and Formatting Example\n",
        "\n",
        "# Concatenation\n",
        "first_name = \"John\"\n",
        "last_name = \"Doe\"\n",
        "full_name = first_name + \" \" + last_name\n",
        "print(\"Full Name:\", full_name)\n",
        "\n",
        "# String Indexing\n",
        "text = \"Hello, World!\"\n",
        "print(\"First Character:\", text[0])\n",
        "print(\"Substring:\", text[7:12])\n",
        "\n",
        "# String Methods\n",
        "text = \"Hello, World!\"\n",
        "print(\"Uppercase:\", text.upper())\n",
        "print(\"Lowercase:\", text.lower())\n",
        "print(\"Replaced Text:\", text.replace(\"Hello\", \"Hi\"))\n",
        "print(\"Split Text:\", text.split(\", \"))\n",
        "\n",
        "# String Formatting\n",
        "name = \"Alice\"\n",
        "age = 25\n",
        "\n",
        "# str.format()\n",
        "formatted_text = \"My name is {} and I am {} years old.\".format(name, age)\n",
        "print(\"Formatted Text (str.format()):\", formatted_text)\n",
        "\n",
        "# f-strings\n",
        "formatted_text = f\"My name is {name} and I am {age} years old.\"\n",
        "print(\"Formatted Text (f-strings):\", formatted_text)"
      ],
      "metadata": {
        "id": "lhNrxjxnsXQ0"
      },
      "execution_count": null,
      "outputs": []
    },
    {
      "cell_type": "markdown",
      "source": [
        "#### **Can you predict what will be printed in the output without running the code in the following examples?**"
      ],
      "metadata": {
        "id": "v-JDqqyhmsqg"
      }
    },
    {
      "cell_type": "markdown",
      "source": [
        "#### **If Statements and Logical Flow**"
      ],
      "metadata": {
        "id": "pigii2ucddta"
      }
    },
    {
      "cell_type": "code",
      "source": [
        "score = 67\n",
        "\n",
        "if score < 80 and score > 70:\n",
        "    print(\"A\")\n",
        "elif score < 90 or score > 80:\n",
        "    print(\"B\")\n",
        "elif score > 60:\n",
        "    print(\"C\")\n",
        "else:\n",
        "    print(\"D\")"
      ],
      "metadata": {
        "id": "dMstRUtYa_Jj"
      },
      "execution_count": null,
      "outputs": []
    },
    {
      "cell_type": "markdown",
      "source": [
        "#### **Functions**"
      ],
      "metadata": {
        "id": "zloKHbXYdilq"
      }
    },
    {
      "cell_type": "code",
      "source": [
        "def outer_function(a, b):\n",
        "    def inner_function(c, d):\n",
        "        return c + d\n",
        "    return inner_function(a, b)\n",
        "\n",
        "result = outer_function(5, 10)\n",
        "print(result)"
      ],
      "metadata": {
        "id": "umhSqQ0PcE4U"
      },
      "execution_count": null,
      "outputs": []
    },
    {
      "cell_type": "markdown",
      "source": [
        "### **Loops (for loop, while loop)**\n",
        "\n",
        "Loops are used to repeatedly execute a block of code. They allow you to automate repetitive tasks and iterate over a sequence of elements. In Python, there are two types of loops: the for loop and the while loop.\n",
        "\n",
        "**For Loop:**\n",
        "The for loop is used to iterate over a sequence (such as a list, tuple, or string) or other iterable objects.\n",
        "\n",
        "**While Loop:**\n",
        "The while loop is used to repeatedly execute a block of code as long as a given condition is true.\n",
        "\n",
        "**Loop Control Statements:**\n",
        "* break: Terminates the loop and transfers control to the next statement outside the loop.\n",
        "* continue: Skips the current iteration and moves to the next iteration.\n",
        "* pass: Acts as a placeholder and does nothing. It is used when a statement is required syntactically but you want to skip its execution.\n",
        "\n",
        "**Nested Loops:**\n",
        "You can have loops inside another loop. This is known as nested loops. It allows you to perform more complex iterations."
      ],
      "metadata": {
        "id": "3MHfMIovyU5E"
      }
    },
    {
      "cell_type": "code",
      "source": [
        "# For Loop Example\n",
        "fruits = [\"apple\", \"banana\", \"cherry\"]\n",
        "for fruit in fruits:\n",
        "    print(fruit)"
      ],
      "metadata": {
        "id": "_2XqaoEOmy7y"
      },
      "execution_count": null,
      "outputs": []
    },
    {
      "cell_type": "code",
      "source": [
        "# While Loop Example\n",
        "count = 0\n",
        "while count < 5:\n",
        "    print(count)\n",
        "    count += 1"
      ],
      "metadata": {
        "id": "3vnfBNHpx3ss"
      },
      "execution_count": null,
      "outputs": []
    },
    {
      "cell_type": "markdown",
      "source": [
        "### **Lists, tuples, and dictionaries**\n",
        "\n",
        " **Lists:**\n",
        "\n",
        " Definition: Lists are ordered, mutable collections of elements enclosed in square brackets.\n",
        "\n",
        "* Creating a list: my_list = [1, 2, 3, 4, 5]\n",
        "* Accessing elements: print(my_list[0]) # Output: 1\n",
        "* Modifying elements: my_list[2] = 10\n",
        "* List methods: my_list.append(6), my_list.remove(3), len(my_list)\n",
        "\n",
        "**Dictionaries:**\n",
        "\n",
        "Definition: Dictionaries are unordered collections of key-value pairs enclosed in curly braces.\n",
        "\n",
        "* Creating a dictionary: my_dict = {'name': 'John', 'age': 25, 'city': 'New York'}\n",
        "* Accessing values: print(my_dict['name']) # Output: John\n",
        "* Modifying values: my_dict['age'] = 26\n",
        "* Dictionary methods: my_dict.keys(), my_dict.values(), my_dict.items()\n",
        "\n",
        "**Common Operations on Lists, Tuples, and Dictionaries:**\n",
        "* Slicing: my_list[1:4], my_tuple[:3], my_dict['name':'age']\n",
        "* Concatenation: list1 + list2, tuple1 + tuple2\n",
        "* Length: len(my_list), len(my_tuple), len(my_dict)\n",
        "* Iterating over elements: for item in my_list:, for key, value in my_dict.items():"
      ],
      "metadata": {
        "id": "ALGjQ08coRMT"
      }
    },
    {
      "cell_type": "code",
      "source": [
        "# Lists\n",
        "my_list = [1, 2, 3, 4, 5]\n",
        "print(\"List:\", my_list)\n",
        "\n",
        "# Accessing elements\n",
        "print(\"First element:\", my_list[0])\n",
        "\n",
        "# Modifying elements\n",
        "my_list[2] = 10\n",
        "print(\"Modified list:\", my_list)\n",
        "\n",
        "# List methods\n",
        "my_list.append(6)\n",
        "my_list.remove(10) # Removes the first occurence of a specific value\n",
        "print(\"List after append and remove:\", my_list)\n",
        "print(\"Length of list:\", len(my_list))\n",
        "\n",
        "# Dictionaries\n",
        "my_dict = {'name': 'John', 'age': 25, 'city': 'New York'}\n",
        "print(\"\\nDictionary:\", my_dict)\n",
        "\n",
        "# Accessing values\n",
        "print(\"Name:\", my_dict['name'])\n",
        "\n",
        "# Modifying values\n",
        "my_dict['age'] = 26\n",
        "print(\"Modified dictionary:\", my_dict)\n",
        "\n",
        "# Dictionary methods\n",
        "print(\"Keys:\", my_dict.keys())\n",
        "print(\"Values:\", my_dict.values())\n",
        "print(\"Items:\", my_dict.items())\n",
        "\n",
        "# Common operations\n",
        "sliced_list = my_list[1:4]\n",
        "concatenated_list = my_list + [7, 8, 9]\n",
        "list_length = len(my_list)\n",
        "\n",
        "# List comprehension\n",
        "squared_nums = [num ** 2 for num in my_list]\n",
        "even_nums = [num for num in my_list if num % 2 == 0]\n",
        "\n",
        "print(\"\\nSliced list:\", sliced_list)\n",
        "print(\"Concatenated list:\", concatenated_list)\n",
        "print(\"Length of list:\", list_length)\n",
        "print(\"Squared numbers list:\", squared_nums)\n",
        "print(\"Even numbers list:\", even_nums)"
      ],
      "metadata": {
        "id": "vM7uqszMvH-z"
      },
      "execution_count": null,
      "outputs": []
    },
    {
      "cell_type": "markdown",
      "source": [
        "### **Object-Oriented Programming**\n",
        "Object-oriented programming (OOP) is a programming paradigm that organizes code into objects, which are instances of classes. In Python, OOP allows us to create reusable and modular code by defining classes, creating objects from those classes, and leveraging inheritance and polymorphism.\n",
        "\n",
        "* **Classes and Objects:** A class is a blueprint for creating objects. It defines the attributes (data) and methods (functions) that the objects of that class will have. Objects are instances of classes, and they can have their own unique attribute values.\n",
        "* **Inheritance:** Inheritance allows us to create a new class (child class) based on an existing class (parent class). The child class inherits the attributes and methods of the parent class and can add its own unique attributes and methods.\n",
        "\n"
      ],
      "metadata": {
        "id": "EGvC6azCtT91"
      }
    },
    {
      "cell_type": "code",
      "source": [
        "# Parent class\n",
        "class Animal:\n",
        "    def __init__(self, name, age):\n",
        "        self.name = name\n",
        "        self.age = age\n",
        "\n",
        "    def eat(self):\n",
        "        print(f\"{self.name} is eating.\")\n",
        "\n",
        "    def sleep(self):\n",
        "        print(f\"{self.name} is sleeping.\")\n",
        "\n",
        "\n",
        "# Child class inheriting from Animal\n",
        "class Dog(Animal):\n",
        "    def __init__(self, name, age, breed):\n",
        "        super().__init__(name, age)\n",
        "        self.breed = breed\n",
        "\n",
        "    def bark(self):\n",
        "        print(\"Woof! Woof!\")\n",
        "\n",
        "\n",
        "# Child class inheriting from Animal\n",
        "class Cat(Animal):\n",
        "    def purr(self):\n",
        "        print(\"Meow... purr...\")\n",
        "\n",
        "\n",
        "# Creating objects from classes\n",
        "my_dog = Dog(\"Buddy\", 3, \"Labrador\")\n",
        "my_cat = Cat(\"Whiskers\", 5)\n",
        "\n",
        "# Accessing attributes and calling methods\n",
        "print(f\"My dog's name is {my_dog.name}.\")\n",
        "print(f\"My cat is {my_cat.age} years old.\")\n",
        "my_dog.eat()\n",
        "my_cat.sleep()\n",
        "my_dog.bark()\n",
        "my_cat.purr()"
      ],
      "metadata": {
        "id": "-xZCRS4ZuaI8"
      },
      "execution_count": null,
      "outputs": []
    },
    {
      "cell_type": "markdown",
      "source": [
        "### **NumPy**"
      ],
      "metadata": {
        "id": "1UTyx4K46tW4"
      }
    },
    {
      "cell_type": "code",
      "source": [
        "import numpy as np\n",
        "\n",
        "a = np.array([1, 2, 3])     # Creates a 1-dimensional array\n",
        "print(a)"
      ],
      "metadata": {
        "id": "v0jXl3nd6lEB"
      },
      "execution_count": null,
      "outputs": []
    },
    {
      "cell_type": "code",
      "source": [
        "b = np.zeros((2, 3))      # Creates a 2x3 array filled with zeros\n",
        "print(b)"
      ],
      "metadata": {
        "id": "crbg0q_r65fB"
      },
      "execution_count": null,
      "outputs": []
    },
    {
      "cell_type": "code",
      "source": [
        "c = np.arange(0, 10, 2)     # Creates an array [0, 2, 4, 6, 8]\n",
        "print(c)"
      ],
      "metadata": {
        "id": "7WHtPR9y67R8"
      },
      "execution_count": null,
      "outputs": []
    },
    {
      "cell_type": "code",
      "source": [
        "import numpy as np\n",
        "\n",
        "arr = np.array([[1, 2, 3], [4, 5, 6]])\n",
        "print(arr.shape)\n",
        "print(arr.ndim)\n",
        "print(arr.size)\n",
        "print(arr.dtype)"
      ],
      "metadata": {
        "id": "OZTm5HvN6xia"
      },
      "execution_count": null,
      "outputs": []
    },
    {
      "cell_type": "code",
      "source": [
        "import numpy as np\n",
        "\n",
        "arr = np.array([1, 2, 3, 4, 5])\n",
        "print(arr[0])\n",
        "print(arr[1:4])"
      ],
      "metadata": {
        "id": "DNNqGfDr7X68"
      },
      "execution_count": null,
      "outputs": []
    },
    {
      "cell_type": "code",
      "source": [
        "arr2 = np.array([[1, 2, 3], [4, 5, 6]])\n",
        "print(arr2[1, 2])\n",
        "print(arr2[:, 1:])"
      ],
      "metadata": {
        "id": "HaZP3T_97cRx"
      },
      "execution_count": null,
      "outputs": []
    },
    {
      "cell_type": "code",
      "source": [
        "arr3 = np.array([[[1, 2], [3, 4]], [[5, 6], [7, 8]]])\n",
        "\n",
        "slice_1 = arr3[0, 1, 0]\n",
        "\n",
        "print(arr3)\n",
        "print(slice_1)"
      ],
      "metadata": {
        "id": "XhTSYFxw84xA"
      },
      "execution_count": null,
      "outputs": []
    },
    {
      "cell_type": "code",
      "source": [
        "slice_2 = arr3[:, :, 1]\n",
        "print(slice_2)"
      ],
      "metadata": {
        "id": "AcCsBG-794uM"
      },
      "execution_count": null,
      "outputs": []
    },
    {
      "cell_type": "markdown",
      "source": [
        "## **Data visualization**\n",
        " Data visualization is an essential skill for any programmer, as it helps us understand and communicate data effectively. Matplotlib is a powerful library in Python that enables us to create a wide range of plots. Visualizing data helps us identify patterns, trends, and relationships that might not be apparent in raw numbers. It allows us to present information in a clear and concise manner, aiding in decision-making and storytelling.\n",
        " * **Basic Line Plot:** A line plot is a common type of plot used to visualize the relationship between two variables\n",
        " * **Scatter Plot:** A scatter plot is used to display the distribution and relationship between two variables as individual points.\n",
        " * **Bar Plot:** A bar plot represents categorical data with rectangular bars, where the height of each bar corresponds to the value it represents.\n",
        " * **Histogram:** A histogram displays the distribution of a continuous variable by dividing it into bins and showing the frequency or count of values within each bin."
      ],
      "metadata": {
        "id": "ldDSqMCg-Rny"
      }
    },
    {
      "cell_type": "code",
      "source": [
        "import matplotlib.pyplot as plt\n",
        "\n",
        "x = [1, 2, 3, 4, 5]\n",
        "y = [2, 4, 6, 8, 10]\n",
        "\n",
        "#Basic Line Plot\n",
        "plt.plot(x, y)\n",
        "plt.xlabel('X-axis')\n",
        "plt.ylabel('Y-axis')\n",
        "plt.title('Line Plot')\n",
        "plt.show()"
      ],
      "metadata": {
        "id": "L1X4qkC0-Rnz"
      },
      "execution_count": null,
      "outputs": []
    },
    {
      "cell_type": "code",
      "source": [
        "# Scatter Plot\n",
        "plt.scatter(x, y)\n",
        "plt.xlabel('X-axis')\n",
        "plt.ylabel('Y-axis')\n",
        "plt.title('Scatter Plot')\n",
        "plt.show()"
      ],
      "metadata": {
        "colab": {
          "base_uri": "https://localhost:8080/",
          "height": 472
        },
        "outputId": "47cd9ab8-60eb-4321-dbda-95531401ba6d",
        "id": "9tP7AWQc-Rn0"
      },
      "execution_count": null,
      "outputs": [
        {
          "output_type": "display_data",
          "data": {
            "text/plain": [
              "<Figure size 640x480 with 1 Axes>"
            ],
            "image/png": "[encoded data removed]"
          },
          "metadata": {}
        }
      ]
    },
    {
      "cell_type": "code",
      "source": [
        "#Bar Plot\n",
        "categories = ['A', 'B', 'C', 'D']\n",
        "values = [10, 15, 7, 12]\n",
        "\n",
        "plt.bar(categories, values)\n",
        "plt.xlabel('Categories')\n",
        "plt.ylabel('Values')\n",
        "plt.title('Bar Plot')\n",
        "plt.show()"
      ],
      "metadata": {
        "colab": {
          "base_uri": "https://localhost:8080/",
          "height": 472
        },
        "outputId": "ddbde6b1-f874-483c-dde0-35a4ee62976f",
        "id": "KKgIPnK_-Rn0"
      },
      "execution_count": null,
      "outputs": [
        {
          "output_type": "display_data",
          "data": {
            "text/plain": [
              "<Figure size 640x480 with 1 Axes>"
            ],
            "image/png": "[encoded data removed]"
          },
          "metadata": {}
        }
      ]
    },
    {
      "cell_type": "code",
      "source": [
        "#Histogram\n",
        "data = [1, 1, 2, 3, 3, 3, 4, 4, 5, 5, 6, 6, 6, 6, 7, 8, 8, 9]\n",
        "\n",
        "plt.hist(data, bins=5)\n",
        "plt.xlabel('Value')\n",
        "plt.ylabel('Frequency')\n",
        "plt.title('Histogram')\n",
        "plt.show()"
      ],
      "metadata": {
        "colab": {
          "base_uri": "https://localhost:8080/",
          "height": 472
        },
        "id": "FoiMLvlG93Qc",
        "outputId": "501ebd12-3123-46fd-a7d7-965fcb144f19"
      },
      "execution_count": null,
      "outputs": [
        {
          "output_type": "display_data",
          "data": {
            "text/plain": [
              "<Figure size 640x480 with 1 Axes>"
            ],
            "image/png": "[encoded data removed]"
          },
          "metadata": {}
        }
      ]
    },
    {
      "cell_type": "code",
      "source": [
        "labels = ['Coal', 'Natural Gas', 'Renewables', 'Nuclear']\n",
        "percentages = [40, 30, 20, 10]\n",
        "\n",
        "plt.pie(percentages, labels=labels, autopct='%1.1f%%', startangle=90)\n",
        "\n",
        "plt.title('Energy Sources in a Country')\n",
        "\n",
        "plt.axis('equal')\n",
        "plt.show()"
      ],
      "metadata": {
        "colab": {
          "base_uri": "https://localhost:8080/",
          "height": 428
        },
        "id": "S6x6xLESHuSw",
        "outputId": "929a2cb1-f70d-4ab2-98f7-cc129ddfe607"
      },
      "execution_count": 52,
      "outputs": [
        {
          "output_type": "display_data",
          "data": {
            "text/plain": [
              "<Figure size 640x480 with 1 Axes>"
            ],
            "image/png": "[encoded data removed]"
          },
          "metadata": {}
        }
      ]
    },
    {
      "cell_type": "markdown",
      "source": [
        "### **File handling**\n",
        "File handling in Python allows us to read data from files, write data to files, and perform various operations on them. It's an essential skill for working with external data sources and storing information persistently.\n",
        "* **Opening and Closing Files:**\n",
        "To work with a file, we need to open it using the open() function. We provide the file path and specify the mode (read, write, append, etc.). After performing file operations, it's important to close the file using the close() method to release system resources.\n",
        "* **Reading from Files:**\n",
        "We can read data from a file using methods like read(), readline(), or readlines(). The read() method reads the entire file content, while readline() reads one line at a time. readlines() returns a list of lines in the file.\n",
        "* **Writing to Files:**\n",
        "To write data to a file, we open it in write mode (\"w\") or append mode (\"a\") using the open() function. We can use the write() method to write data to the file. Be cautious when opening a file in write mode, as it will overwrite the existing content.\n",
        "* **File Handling with Context Managers:**\n",
        "Python provides a more convenient way to handle files using context managers. The with statement automatically takes care of opening and closing the file, ensuring proper resource management."
      ],
      "metadata": {
        "id": "eRbEY8Q7sanE"
      }
    },
    {
      "cell_type": "code",
      "source": [
        "# Opening and Closing Files\n",
        "file = open(\"data.txt\", \"r\")  # Open the file in read mode\n",
        "content = file.read()  # Read the file contents\n",
        "print(content)\n",
        "file.close()  # Close the file\n",
        "\n",
        "# Reading from Files\n",
        "file = open(\"data.txt\", \"r\")\n",
        "content = file.readlines()\n",
        "for line in content:\n",
        "    print(line)\n",
        "file.close()\n",
        "\n",
        "# Writing to Files\n",
        "file = open(\"output.txt\", \"w\")\n",
        "file.write(\"Hello, World!\")\n",
        "file.close()\n",
        "\n",
        "# File Handling with Context Managers\n",
        "with open(\"data.txt\", \"r\") as file:\n",
        "    content = file.read()\n",
        "    print(content)"
      ],
      "metadata": {
        "id": "etmvPstrtH3e"
      },
      "execution_count": null,
      "outputs": []
    }
  ]
}