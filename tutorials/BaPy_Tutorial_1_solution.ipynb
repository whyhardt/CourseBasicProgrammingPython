{
  "cells": [
    {
      "cell_type": "markdown",
      "metadata": {
        "id": "a5Mhyc06zg2X"
      },
      "source": [
        "# Basic Programming in Python\n",
        "\n",
        "## Summer Term 2024\n",
        "\n",
        "### Tutorial on printing, math operations and if-statements"
      ]
    },
    {
      "cell_type": "markdown",
      "metadata": {
        "id": "Lby54vHx1M-x"
      },
      "source": [
        "#### Printing to the Console\n",
        "\n",
        " 1. Let's keep pace with the tradition and print a message to the console, such as \"I love Python!\". If you wish, you can print it in any language you want! Don't forget this is your very first program, so be proud! 😎\n"
      ]
    },
    {
      "cell_type": "code",
      "execution_count": 1,
      "metadata": {
        "id": "gePlYQHz4REa"
      },
      "outputs": [
        {
          "name": "stdout",
          "output_type": "stream",
          "text": [
            "I love Python!\n"
          ]
        }
      ],
      "source": [
        "print(\"I love Python!\")"
      ]
    },
    {
      "cell_type": "markdown",
      "metadata": {
        "id": "ydRE0JOB6MLC"
      },
      "source": [
        "2. Write a program that prints out the lyrics to the song \"99 Bottles of Beer\" with using one print statement. The first line should be \"99 bottles of beer on the wall, 99 bottles of beer...\" and the last line should be \"No more bottles of beer on the wall, no more bottles of beer. Go to the store and buy some more, 99 bottles of beer on the wall.\"\n",
        "\n",
        "You can make line breaks by using \"\\n\" wihtin your string. This is called the new-line operator"
      ]
    },
    {
      "cell_type": "code",
      "execution_count": 3,
      "metadata": {
        "colab": {
          "base_uri": "https://localhost:8080/"
        },
        "id": "At2x3Yg-7TOQ",
        "outputId": "b2adff70-901c-4efc-bc9f-f8f75ebd3570"
      },
      "outputs": [
        {
          "name": "stdout",
          "output_type": "stream",
          "text": [
            "99 bottles of beer on the wall, 99 bottles of beer...\n",
            "No more bottles of beer on the wall, no more bottles of beer. Go to the store and buy some more, 99 bottles of beer on the wall.\n"
          ]
        }
      ],
      "source": [
        "print(\"99 bottles of beer on the wall, 99 bottles of beer...\\nNo more bottles of beer on the wall, no more bottles of beer. Go to the store and buy some more, 99 bottles of beer on the wall.\")"
      ]
    },
    {
      "cell_type": "markdown",
      "metadata": {},
      "source": [
        "#### Math operations"
      ]
    },
    {
      "cell_type": "markdown",
      "metadata": {
        "id": "W02nuowX0ZaL"
      },
      "source": [
        "Implement the following formulas in Python:  \n",
        "a) 10 plus 5 divided by 2  \n",
        "b) 10 plus 5 in brackets, divided by 3  \n",
        "c) Ten to the power of 4   \n",
        "d) Remainder of 10 divided by 3, minus 10  \n",
        "e) Minus 15 times 2.5, integer-divided by seven\n",
        "\n",
        "Replace hereby the `None` keyword with your mathematical expression. `None` is a special constant representing the absence of a value or a null value in Python.\n"
      ]
    },
    {
      "cell_type": "code",
      "execution_count": 4,
      "metadata": {},
      "outputs": [],
      "source": [
        "a = 10 + 5 / 2"
      ]
    },
    {
      "cell_type": "code",
      "execution_count": 5,
      "metadata": {},
      "outputs": [],
      "source": [
        "b = (10 + 5) / 3"
      ]
    },
    {
      "cell_type": "code",
      "execution_count": 7,
      "metadata": {},
      "outputs": [],
      "source": [
        "c = 10 ** 4"
      ]
    },
    {
      "cell_type": "code",
      "execution_count": 8,
      "metadata": {},
      "outputs": [],
      "source": [
        "d = 10 % 3 - 10 "
      ]
    },
    {
      "cell_type": "code",
      "execution_count": 9,
      "metadata": {},
      "outputs": [],
      "source": [
        "e = -15 * 2.5 // 7"
      ]
    },
    {
      "cell_type": "markdown",
      "metadata": {},
      "source": [
        "Let's check if you got the results right! To do so, just run the next cell without any modifications. \n",
        "The test will show you which results are not correct."
      ]
    },
    {
      "cell_type": "code",
      "execution_count": 10,
      "metadata": {},
      "outputs": [
        {
          "name": "stdout",
          "output_type": "stream",
          "text": [
            "a = 12.5 is correct!\n",
            "b = 5.0 is correct!\n",
            "c = 10000 is correct!\n",
            "d = -9 is correct!\n",
            "e = -6.0 is correct!\n",
            "Congratulations! Your calculations have passed all the tests!\n"
          ]
        }
      ],
      "source": [
        "# do not modify the code below this line\n",
        "assert a == 12.5, \"Hm ... your (a) seems not to be correct\"\n",
        "print(f\"a = {a} is correct!\")\n",
        "assert b == 5, \"Hm ... your (b) seems not to be correct\"\n",
        "print(f\"b = {b} is correct!\")\n",
        "assert c == 10000, \"Hm ... your (c) seems not to be correct\"\n",
        "print(f\"c = {c} is correct!\")\n",
        "assert d == -9, \"Hm ... your (d) seems not to be correct\"\n",
        "print(f\"d = {d} is correct!\")\n",
        "assert e == -6, \"Hm ... your (e) seems not to be correct\"\n",
        "print(f\"e = {e} is correct!\")\n",
        "\n",
        "print(\"Congratulations! Your calculations have passed all the tests!\")"
      ]
    },
    {
      "cell_type": "markdown",
      "metadata": {
        "id": "xfV9m6OQ7d-B"
      },
      "source": [
        "Create a program that calculates the area of a rectangle with a width of 4 and a height of 5, and then prints the result with an appropriate message to the console."
      ]
    },
    {
      "cell_type": "code",
      "execution_count": 11,
      "metadata": {
        "id": "-B6WwXKg8J4r"
      },
      "outputs": [
        {
          "name": "stdout",
          "output_type": "stream",
          "text": [
            "The area of a rectangle with width 4 and height 5 is 20\n"
          ]
        }
      ],
      "source": [
        "width = 4\n",
        "height = 5\n",
        "\n",
        "area = width * height\n",
        "\n",
        "print(f\"The area of a rectangle with width {width} and height {height} is {area}\")"
      ]
    },
    {
      "cell_type": "markdown",
      "metadata": {},
      "source": [
        "#### If Statement"
      ]
    },
    {
      "cell_type": "markdown",
      "metadata": {
        "id": "MOkOr-3q-t6j"
      },
      "source": [
        "Create a program that defines a variable day with the value \"Tuesday\". If the day is a weekday (Monday to Friday), print \"It's a weekday\". If the day is a weekend day (Saturday or Sunday), print \"It's the weekend\"."
      ]
    },
    {
      "cell_type": "code",
      "execution_count": 12,
      "metadata": {
        "id": "mr91CKL7_q1L"
      },
      "outputs": [
        {
          "name": "stdout",
          "output_type": "stream",
          "text": [
            "It's a weekday\n"
          ]
        }
      ],
      "source": [
        "day = \"Tuesday\"\n",
        "\n",
        "if day == \"Monday\" or day == \"Tuesday\" or day == \"Wednesday\" or day == \"Thursday\" or day == \"Friday\":\n",
        "    print(\"It's a weekday\")\n",
        "else:\n",
        "    print(\"It's the weekend\")"
      ]
    },
    {
      "cell_type": "markdown",
      "metadata": {
        "id": "yTeDYkl9DQsE"
      },
      "source": [
        "Write a program that generates a random number between 1 and 100 and then prints a message to the console indicating whether that number is divisible by 3, 5, both, or neither."
      ]
    },
    {
      "cell_type": "code",
      "execution_count": 15,
      "metadata": {
        "id": "PkSZ1hoxDaw2",
        "tags": []
      },
      "outputs": [
        {
          "name": "stdout",
          "output_type": "stream",
          "text": [
            "Your random number is 73\n",
            "The number is not divisible by 3 or 5\n"
          ]
        }
      ],
      "source": [
        "import random\n",
        "\n",
        "# Since randrange(a, b) function is exclusive at the stop value, we added +1.\n",
        "my_random_number = random.randrange(1, 101)\n",
        "\n",
        "# It is a good practice to have print statements to check the values of your variables.\n",
        "print(f\"Your random number is {my_random_number}\") \n",
        "\n",
        "# Remember to use double equal signs \"==\" to compare different values.\n",
        "# perform the checks with if statements\n",
        "\n",
        "# your code starts here \n",
        "if my_random_number % 3 == 0 and my_random_number % 5 == 0:\n",
        "    print(\"The number is divisible by 3 and 5\")\n",
        "elif my_random_number % 3 == 0:\n",
        "    print(\"The number is divisible by 3\")\n",
        "elif my_random_number % 5 == 0:\n",
        "    print(\"The number is divisible by 5\")\n",
        "else:\n",
        "    print(\"The number is not divisible by 3 or 5\")"
      ]
    },
    {
      "cell_type": "markdown",
      "metadata": {},
      "source": [
        "Let's try now something that involves everything that you learned before and bring it into real-world application!\n",
        "\n",
        "Wind often makes the air feel even colder than it is.  \n",
        "The Wind Chill (WC) measures how cold temperature feels with a given air temperature (T, in degrees Fahrenheit) and wind speed (V, in miles per hour). You can find the formula to calculate the WC in the image below.\n",
        "\n",
        "But be careful when applying this formula! It's only valid for values between -45°F and 40°F.\n",
        "\n",
        "Your next task is to apply this formula when you have a air temperature in degrees Celsius and wind speed in km per hour.\n",
        "\n",
        "Create variables for the temperature T and wind speed V, and calculate the WCF using this formula.\n",
        "Check also if the input variables are valid.\n",
        "\n",
        "You can check your result with this table:\n",
        "\n",
        "![Table for WC](https://www.weather.gov/images/safety/windchill21.gif)"
      ]
    },
    {
      "cell_type": "code",
      "execution_count": 21,
      "metadata": {},
      "outputs": [
        {
          "name": "stdout",
          "output_type": "stream",
          "text": [
            "Temperature in Fahrenheit: 32.0\n",
            "Speed in miles per hour: 12.4\n",
            "The input parameter T_c is valid.\n",
            "The input parameter v_km is valid.\n",
            "Wind chill in Fahrenheit: 22.610073016560825\n",
            "Wind chill in Celsius: -5.216626101910652\n"
          ]
        }
      ],
      "source": [
        "# The formula to convert from Celcius to Fahrenheit: 9 / 5 Celcius + 32\n",
        "# The formula to convert km to miles: 1 km = 0.62 mile \n",
        "\n",
        "# define the input variables in Celcius and km per hour\n",
        "# convert Celcius to Fahrenheit\n",
        "# convert km per hour to miles per hour\n",
        "# check the validity of the input parameters\n",
        "# calculate the wind chill\n",
        "# print the wind chill in Fahrenheit\n",
        "# convert the wind chill factor to Celsius\n",
        "# print the wind chill in Celsius\n",
        "\n",
        "# your code starts here\n",
        "# input variables in Celcius and km per hour\n",
        "T_c = 0\n",
        "v_km = 20\n",
        "\n",
        "# convert the units to Fahrenheit and miles per hour\n",
        "T_f = 9 / 5 * T_c + 32\n",
        "v_m = v_km * 0.62\n",
        "print(\"Temperature in Fahrenheit:\", T_f)\n",
        "print(\"Speed in miles per hour:\", v_m)\n",
        "\n",
        "# check the validity of the input parameters\n",
        "if T_f < -45 or T_f > 40:\n",
        "    print(\"The input parameter T_c is outside the valid range.\")\n",
        "else:\n",
        "    print(\"The input parameter T_c is valid.\")\n",
        "    \n",
        "if v_m < 0 or v_m > 60:\n",
        "    print(\"The input parameter v_km is outside the valid range.\")\n",
        "else:\n",
        "    print(\"The input parameter v_km is valid.\")\n",
        "    \n",
        "# calculate the wind chill\n",
        "WC = 35.74 + 0.6215 * T_f - 35.75 * v_m ** 0.16 + 0.4275 * T_f * v_m ** 0.16\n",
        "print(\"Wind chill in Fahrenheit:\", WC)\n",
        "\n",
        "# convert the wind chill factor to Celsius\n",
        "WC_c = (WC - 32) * 5 / 9\n",
        "print(\"Wind chill in Celsius:\", WC_c)\n"
      ]
    },
    {
      "cell_type": "markdown",
      "metadata": {},
      "source": [
        "Wow, that was quite a bit of work. But you did it! You created your first program with a real-world use-case. Congratulations!"
      ]
    }
  ],
  "metadata": {
    "colab": {
      "provenance": []
    },
    "kernelspec": {
      "display_name": "Python 3 (ipykernel)",
      "language": "python",
      "name": "python3"
    },
    "language_info": {
      "codemirror_mode": {
        "name": "ipython",
        "version": 3
      },
      "file_extension": ".py",
      "mimetype": "text/x-python",
      "name": "python",
      "nbconvert_exporter": "python",
      "pygments_lexer": "ipython3",
      "version": "3.11.8"
    }
  },
  "nbformat": 4,
  "nbformat_minor": 0
}
