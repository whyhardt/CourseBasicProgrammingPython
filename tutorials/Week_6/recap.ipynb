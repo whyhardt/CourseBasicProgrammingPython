{
 "cells": [
  {
   "cell_type": "markdown",
   "id": "a627186d-8c42-4582-b3a9-596c30aa25fb",
   "metadata": {},
   "source": [
    "# Recap: Functions and Classes\n",
    "## Defining a function"
   ]
  },
  {
   "cell_type": "code",
   "execution_count": 1,
   "id": "face89ca-544d-4a25-8323-90907e930256",
   "metadata": {
    "tags": []
   },
   "outputs": [],
   "source": [
    "#functions are defined by using \"def\", then the function name, then, in brackets, the arguments of the function\n",
    "def function(argument_a, argument_b):\n",
    "    '''Description string'''\n",
    "    \n",
    "    something = argument_a + argument_b #you always compute something inside the function\n",
    "    \n",
    "    return something #you either return something or not, you can omit the return and then it will return None"
   ]
  },
  {
   "cell_type": "code",
   "execution_count": 2,
   "id": "39dd0d58-c4f6-462c-9a7d-cfe6c8b194a3",
   "metadata": {
    "tags": []
   },
   "outputs": [],
   "source": [
    "#import a function(!) from the math module\n",
    "from math import sqrt #imports also import functions or classes usually"
   ]
  },
  {
   "cell_type": "code",
   "execution_count": 3,
   "id": "6ce3913d-cbc6-4501-9779-68530146025d",
   "metadata": {
    "tags": []
   },
   "outputs": [
    {
     "data": {
      "text/plain": [
       "3.0"
      ]
     },
     "execution_count": 3,
     "metadata": {},
     "output_type": "execute_result"
    }
   ],
   "source": [
    "sqrt(9)"
   ]
  },
  {
   "cell_type": "markdown",
   "id": "580e9a93-ce13-4be1-bbb8-fec5a1cfcb9c",
   "metadata": {},
   "source": [
    "## Function call"
   ]
  },
  {
   "cell_type": "code",
   "execution_count": 4,
   "id": "c2e198a8-0665-41ab-835b-8b59af325588",
   "metadata": {
    "tags": []
   },
   "outputs": [],
   "source": [
    "def find_number_index(string : str, number : [float,int], multiples=False) -> list:\n",
    "    '''Finds a given integer or float number in a string and returns the indices where it starts'''\n",
    "    \n",
    "    index = 0\n",
    "    \n",
    "    if multiples:\n",
    "        indices = []\n",
    "        \n",
    "        #implement a way to find multiple indices here (see practice tasks)\n",
    "        \n",
    "        return indices\n",
    "    \n",
    "    else:\n",
    "        index = string.find(str(number))\n",
    "        #if the index is -1 then there was no pattern found\n",
    "        if index == -1:\n",
    "            return []\n",
    "        \n",
    "        else:\n",
    "            return [index]"
   ]
  },
  {
   "cell_type": "code",
   "execution_count": 5,
   "id": "44b0471a-4388-41f8-ac54-9f0bbd799212",
   "metadata": {
    "tags": []
   },
   "outputs": [
    {
     "name": "stdout",
     "output_type": "stream",
     "text": [
      "Help on function find_number_index in module __main__:\n",
      "\n",
      "find_number_index(string: str, number: [<class 'float'>, <class 'int'>], multiples=False) -> list\n",
      "    Finds a given integer or float number in a string and returns the indices where it starts\n",
      "\n"
     ]
    }
   ],
   "source": [
    "help(find_number_index)"
   ]
  },
  {
   "cell_type": "code",
   "execution_count": 6,
   "id": "b9f448ef-dea5-486e-93b2-bcbabb5ca9bd",
   "metadata": {
    "tags": []
   },
   "outputs": [
    {
     "data": {
      "text/plain": [
       "[]"
      ]
     },
     "execution_count": 6,
     "metadata": {},
     "output_type": "execute_result"
    }
   ],
   "source": [
    "string = \"In this measurement the value is 2.78% higher than in this other measurement.\"\n",
    "number = 2.78\n",
    "\n",
    "find_number_index(string, number)"
   ]
  },
  {
   "cell_type": "code",
   "execution_count": 7,
   "id": "0ef0b054-c048-4eff-b95d-7172480d6dcb",
   "metadata": {
    "tags": []
   },
   "outputs": [
    {
     "data": {
      "text/plain": [
       "[29]"
      ]
     },
     "execution_count": 7,
     "metadata": {},
     "output_type": "execute_result"
    }
   ],
   "source": [
    "string = \"What I like about the number 42 is that 42 appears often and also is an inside joke.\"\n",
    "number = 42\n",
    "\n",
    "find_number_index(string, number, multiples=True)"
   ]
  },
  {
   "cell_type": "markdown",
   "id": "604c53dc-9571-4f9a-8027-9cad17cf4535",
   "metadata": {},
   "source": [
    "## Defining a class"
   ]
  },
  {
   "cell_type": "code",
   "execution_count": 8,
   "id": "eb032954-5641-45a6-ab24-2b75229c89e6",
   "metadata": {
    "tags": []
   },
   "outputs": [],
   "source": [
    "class Shape:\n",
    "    #method for initialising the class instance, used to set initial values to each attribute (class variables) of an instance (self)\n",
    "    def __init__(self, shape, color):\n",
    "        self.shape = shape\n",
    "        self.color = color\n",
    "    \n",
    "    #this dunder (double under) method corresponds to calling str() or print() on the object, as in print(Shape('circle','green'))\n",
    "    #there are many dunder methods for operations such as:\n",
    "    # __len__ for len(object)\n",
    "    # __add__ and __radd__ (right add) for object + object\n",
    "    # __eq__ for object == object or object is object (not reference equality but value equality, like in two integers in different memory spots which both hold the value 6)\n",
    "    # and many more, you can search on the web what other methods exist\n",
    "    def __str__(self):\n",
    "        return f'A {self.color} {self.shape}.'\n",
    "    \n",
    "    #you may want to return True or False for a test on a specific instance of the class\n",
    "    def is_blue_cirlce(self):\n",
    "        if self.color == 'blue' and self.shape == 'circle':\n",
    "            return True\n",
    "        else:\n",
    "            return False\n",
    "        \n",
    "    def has_four_sides(self):\n",
    "        if self.shape == 'rectangle':\n",
    "            return True\n",
    "        else:\n",
    "            return False\n",
    "    \n",
    "    #this method is one way for example to take an instance (self) and then return some other object (the initial instance is not deleted)\n",
    "    def try_division(self):\n",
    "        if self.shape == 'rectangle':\n",
    "            return [Shape('triangle',self.color),Shape('triangle',self.color)]\n",
    "        \n",
    "    #this is one way to change the attribuet of the instance (self) inside another method\n",
    "    def recolor(self, color):\n",
    "        self.color = color\n",
    "    \n",
    "    #another method may not use an instance (self) of the class but is called on the class itself and returns an instance or something else\n",
    "    def fromlist(lst):\n",
    "        return Shape(lst[0], lst[1])"
   ]
  },
  {
   "cell_type": "markdown",
   "id": "51dd9626-3714-45c4-9f60-db44b60cd4d7",
   "metadata": {},
   "source": [
    "### Instances and Calls"
   ]
  },
  {
   "cell_type": "code",
   "execution_count": 9,
   "id": "9cc896ad-c4a3-429e-b9ad-b3182fed5de6",
   "metadata": {
    "tags": []
   },
   "outputs": [],
   "source": [
    "rectangle = Shape('rectangle','red')\n",
    "circle = Shape('circle','blue')\n",
    "triangle = Shape('triangle','green')"
   ]
  },
  {
   "cell_type": "code",
   "execution_count": 10,
   "id": "2277eff9-aef0-4f09-80e5-86e626d51131",
   "metadata": {
    "tags": []
   },
   "outputs": [
    {
     "name": "stdout",
     "output_type": "stream",
     "text": [
      "A red rectangle.\n"
     ]
    }
   ],
   "source": [
    "rectangle_fromlist = Shape.fromlist(['rectangle','red'])\n",
    "print(rectangle_fromlist)"
   ]
  },
  {
   "cell_type": "code",
   "execution_count": 11,
   "id": "9519e7e5-c5be-48b8-8706-4af320f7c18b",
   "metadata": {
    "tags": []
   },
   "outputs": [
    {
     "name": "stdout",
     "output_type": "stream",
     "text": [
      "A red rectangle.\n",
      "A blue circle.\n",
      "A green triangle.\n"
     ]
    }
   ],
   "source": [
    "print(rectangle)\n",
    "print(circle)\n",
    "print(triangle)"
   ]
  },
  {
   "cell_type": "code",
   "execution_count": 12,
   "id": "49632106-f264-401f-a87c-9f35750fb176",
   "metadata": {
    "tags": []
   },
   "outputs": [
    {
     "data": {
      "text/plain": [
       "True"
      ]
     },
     "execution_count": 12,
     "metadata": {},
     "output_type": "execute_result"
    }
   ],
   "source": [
    "circle.is_blue_cirlce()"
   ]
  },
  {
   "cell_type": "code",
   "execution_count": 13,
   "id": "c25f8a8a-5cab-44fb-86b2-dcc82ed1ea8c",
   "metadata": {
    "tags": []
   },
   "outputs": [
    {
     "data": {
      "text/plain": [
       "False"
      ]
     },
     "execution_count": 13,
     "metadata": {},
     "output_type": "execute_result"
    }
   ],
   "source": [
    "circle.has_four_sides()"
   ]
  },
  {
   "cell_type": "code",
   "execution_count": 14,
   "id": "95115ab9-e3f1-4489-ae89-4c5558ee3ebc",
   "metadata": {
    "tags": []
   },
   "outputs": [
    {
     "name": "stdout",
     "output_type": "stream",
     "text": [
      "A red rectangle. \n",
      "\n",
      "A red triangle.\n",
      "A red triangle.\n"
     ]
    }
   ],
   "source": [
    "print(rectangle,'\\n')\n",
    "divided = rectangle.try_division()\n",
    "print(divided[0])\n",
    "print(divided[1])"
   ]
  }
 ],
 "metadata": {
  "kernelspec": {
   "display_name": "Python 3 (ipykernel)",
   "language": "python",
   "name": "python3"
  },
  "language_info": {
   "codemirror_mode": {
    "name": "ipython",
    "version": 3
   },
   "file_extension": ".py",
   "mimetype": "text/x-python",
   "name": "python",
   "nbconvert_exporter": "python",
   "pygments_lexer": "ipython3",
   "version": "3.8.8"
  }
 },
 "nbformat": 4,
 "nbformat_minor": 5
}
