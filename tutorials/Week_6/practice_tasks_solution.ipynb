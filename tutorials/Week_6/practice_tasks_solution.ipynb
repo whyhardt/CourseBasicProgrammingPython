{
 "cells": [
  {
   "cell_type": "markdown",
   "id": "1f21f95d-c36e-4aa8-901f-eebfa2687066",
   "metadata": {},
   "source": [
    "# Practice tasks\n",
    "## Creating a function option"
   ]
  },
  {
   "cell_type": "code",
   "execution_count": 4,
   "id": "05e8a619-16c6-4409-9d3a-4832067516ef",
   "metadata": {
    "tags": []
   },
   "outputs": [],
   "source": [
    "def find_number_index(string : str, number : [float,int], multiples=False) -> list:\n",
    "    '''Finds a given integer or float number in a string and returns the indices where it starts'''\n",
    "    \n",
    "    index = 0\n",
    "    \n",
    "    if multiples:\n",
    "        indices = []\n",
    "        \n",
    "        #implement a way to find multiple indices here\n",
    "        #HINT: You may find a for loop over the indices of the string and the method \"str.startswith(string)\" useful ;)\n",
    "        for i in range(len(string)):\n",
    "            if string[i:].startswith(str(number)):\n",
    "                indices.append(i)\n",
    "        \n",
    "        return indices\n",
    "    \n",
    "    else:\n",
    "        index = string.find(str(number))\n",
    "        #if the index is -1 then there was no pattern found\n",
    "        if index == -1:\n",
    "            return []\n",
    "        \n",
    "        else:\n",
    "            return [index]"
   ]
  },
  {
   "cell_type": "code",
   "execution_count": 5,
   "id": "6fbfec1e-a567-4792-b8cf-3d71800ced52",
   "metadata": {
    "tags": []
   },
   "outputs": [
    {
     "data": {
      "text/plain": [
       "[29, 40]"
      ]
     },
     "execution_count": 5,
     "metadata": {},
     "output_type": "execute_result"
    }
   ],
   "source": [
    "string = \"What I like about the number 42 is that 42 appears often and also is an inside joke.\"\n",
    "number = 42\n",
    "\n",
    "find_number_index(string, number, multiples=True)"
   ]
  },
  {
   "cell_type": "markdown",
   "id": "ef57bf8e-74de-49ec-a6be-b9d04191a4bc",
   "metadata": {},
   "source": [
    "## Creating a Class\n",
    "Implement the following method for the class:"
   ]
  },
  {
   "cell_type": "code",
   "execution_count": 10,
   "id": "6f73ff1d-25d4-430f-af7c-9c733e56e2de",
   "metadata": {},
   "outputs": [],
   "source": [
    "import random\n",
    "\n",
    "class RockPaperScissors:\n",
    "    def __init__(self):\n",
    "        self.options = ['rock','paper','scissors']\n",
    "        \n",
    "    def give_random_option(self):\n",
    "        return random.choice(self.options) #HINT: you may want to look at random.choice() here ;)\n",
    "        \n",
    "    def play(self, choice):\n",
    "        random_choice = self.give_random_option()\n",
    "        \n",
    "        if choice == random_choice:\n",
    "            print(f'Your choice: {choice}, Opponent: {random_choice}, Result: Draw!')\n",
    "        \n",
    "        elif choice == 'scissors':\n",
    "            if random_choice == 'rock':\n",
    "                print(f'Your choice: {choice}, Opponent: {random_choice}, Result: Loss!')\n",
    "            else:\n",
    "                print(f'Your choice: {choice}, Opponent: {random_choice}, Result: Win!')\n",
    "        \n",
    "        elif choice == 'rock':\n",
    "            if random_choice == 'paper':\n",
    "                print(f'Your choice: {choice}, Opponent: {random_choice}, Result: Loss!')\n",
    "            else:\n",
    "                print(f'Your choice: {choice}, Opponent: {random_choice}, Result: Win!')\n",
    "        \n",
    "        elif choice == 'paper':\n",
    "            if random_choice == 'scissors':\n",
    "                print(f'Your choice: {choice}, Opponent: {random_choice}, Result: Loss!')\n",
    "            else:\n",
    "                print(f'Your choice: {choice}, Opponent: {random_choice}, Result: Win!')\n",
    "        \n",
    "        else:\n",
    "            print('Not a valid choice!')\n",
    "        \n",
    "        #do something and return \"won\" \"lost\" with a print of the random choice"
   ]
  },
  {
   "cell_type": "markdown",
   "id": "4b9933c5-55e5-42ab-adc0-f7b5f7d0f519",
   "metadata": {},
   "source": [
    "## Using the class\n",
    "Create instances of the class and experiment with it."
   ]
  },
  {
   "cell_type": "code",
   "execution_count": 11,
   "id": "6511825c-bf7b-4b54-bfa2-71ba8196df6a",
   "metadata": {},
   "outputs": [],
   "source": [
    "game = RockPaperScissors()"
   ]
  },
  {
   "cell_type": "code",
   "execution_count": 15,
   "id": "3fb2ebb1-0db9-4df0-9e2c-e5a3ad9161ee",
   "metadata": {
    "tags": []
   },
   "outputs": [
    {
     "data": {
      "text/plain": [
       "'scissors'"
      ]
     },
     "execution_count": 15,
     "metadata": {},
     "output_type": "execute_result"
    }
   ],
   "source": [
    "game.give_random_option()"
   ]
  },
  {
   "cell_type": "code",
   "execution_count": 17,
   "id": "bec69d35-c3e3-4541-a493-c050cc9a5e0d",
   "metadata": {
    "tags": []
   },
   "outputs": [
    {
     "name": "stdout",
     "output_type": "stream",
     "text": [
      "Your choice: scissors, Opponent: paper, Result: Win!\n"
     ]
    }
   ],
   "source": [
    "game.play('scissors')"
   ]
  },
  {
   "cell_type": "code",
   "execution_count": null,
   "id": "0ae0cbdd-d48f-4683-bdf2-3a4bad88141f",
   "metadata": {},
   "outputs": [],
   "source": []
  }
 ],
 "metadata": {
  "kernelspec": {
   "display_name": "Python 3 (ipykernel)",
   "language": "python",
   "name": "python3"
  },
  "language_info": {
   "codemirror_mode": {
    "name": "ipython",
    "version": 3
   },
   "file_extension": ".py",
   "mimetype": "text/x-python",
   "name": "python",
   "nbconvert_exporter": "python",
   "pygments_lexer": "ipython3",
   "version": "3.8.8"
  }
 },
 "nbformat": 4,
 "nbformat_minor": 5
}
