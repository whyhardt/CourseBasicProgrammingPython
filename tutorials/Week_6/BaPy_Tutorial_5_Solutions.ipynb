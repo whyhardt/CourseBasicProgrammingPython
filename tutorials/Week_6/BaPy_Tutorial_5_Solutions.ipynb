{
  "nbformat": 4,
  "nbformat_minor": 0,
  "metadata": {
    "colab": {
      "provenance": []
    },
    "kernelspec": {
      "name": "python3",
      "display_name": "Python 3"
    },
    "language_info": {
      "name": "python"
    }
  },
  "cells": [
    {
      "cell_type": "markdown",
      "source": [
        "# **Basic Programming in Python**\n",
        "\n",
        "## Summer Semester 2023\n",
        "\n",
        "### Tutorial - 23.05.2023"
      ],
      "metadata": {
        "id": "8wcVe3xWMiKh"
      }
    },
    {
      "cell_type": "markdown",
      "source": [
        "## **Object Oriented Programming (OOP)**\n",
        "\n",
        "In Python, classes represent a blueprint to create **objects** (instances) and they encapsulate **attributes** (variables) and **methods** (functions). Therefore, the structure and behavior of objects can be defined by classes."
      ],
      "metadata": {
        "id": "__5pjgpzORwX"
      }
    },
    {
      "cell_type": "markdown",
      "source": [
        "**1.** Let's start by defining a class called `Dog`. The class should have an attribute called `name` and a method called `bark `that prints \"Woof!\" when it is called."
      ],
      "metadata": {
        "id": "xtSOusPwTVtM"
      }
    },
    {
      "cell_type": "code",
      "source": [
        "class Dog:\n",
        "  def __init__(self, name):\n",
        "    self.name = name \n",
        "\n",
        "  def bark(self):\n",
        "    print(\"Woof\")\n",
        "\n",
        "#Create an instance of the Dog Class and give it a name\n",
        "my_dog = Dog(\"Buddy\")\n",
        "\n",
        "#Access the name attribute\n",
        "print(my_dog.name)\n",
        "\n",
        "#Call the bark() method\n",
        "my_dog.bark()"
      ],
      "metadata": {
        "id": "RqeBv3t7UCpa",
        "colab": {
          "base_uri": "https://localhost:8080/"
        },
        "outputId": "92dac8cd-2b65-4580-f315-d15046353137"
      },
      "execution_count": null,
      "outputs": [
        {
          "output_type": "stream",
          "name": "stdout",
          "text": [
            "Buddy\n",
            "Woof\n"
          ]
        }
      ]
    },
    {
      "cell_type": "markdown",
      "source": [
        "Why are we using `self `as a first parameter in the first method of the Dog class?\n",
        "\n",
        "- Represents the instance of the class, that is the object, on which the method is being called.\n",
        "\n",
        "- The object can refer to itself and access attributes and methods."
      ],
      "metadata": {
        "id": "-sRPtSf_WSuC"
      }
    },
    {
      "cell_type": "markdown",
      "source": [
        "\n",
        "**2.** Can you tell the attribute(s) and methods of the following example? Then, please describe what the program is doing by adding informative comments."
      ],
      "metadata": {
        "id": "mW3c3GpcYS4P"
      }
    },
    {
      "cell_type": "code",
      "source": [
        "class Circle:\n",
        "    def __init__(self, radius):\n",
        "        self.radius = radius\n",
        "    \n",
        "    def calculate_area(self):\n",
        "        return 3.14 * self.radius ** 2\n",
        "    \n",
        "    def print_info(self):\n",
        "        print(f\"Circle with radius {self.radius}\")\n",
        "\n",
        "#Creating an instance of the Circle class\n",
        "my_circle = Circle(5)\n",
        "\n",
        "#Calling calculate_area() method\n",
        "print(my_circle.calculate_area())\n",
        "\n",
        "#Printing out the result by calling print_info() method\n",
        "my_circle.print_info()"
      ],
      "metadata": {
        "id": "KNYgTMCBYj7g"
      },
      "execution_count": null,
      "outputs": []
    },
    {
      "cell_type": "markdown",
      "source": [
        "### **Dunder Methods**"
      ],
      "metadata": {
        "id": "rQWbFSNfeBep"
      }
    },
    {
      "cell_type": "markdown",
      "source": [
        "**`__init__()`**\n",
        "\n",
        "The `__init__() `(initialization) method is a special/magic method that is called when an object is instantiated. It is also common for `__init__()` parameters to have the same names as attributes."
      ],
      "metadata": {
        "id": "4nu2_Hafevol"
      }
    },
    {
      "cell_type": "markdown",
      "source": [
        "**1.** Create a class called `Product` that has attributes for `name`, `price` and `quantity`. You need to implement `__init__()` method to initialize these attributes. Finally, access these attributes by creating objects."
      ],
      "metadata": {
        "id": "MG4dG7AEg-FO"
      }
    },
    {
      "cell_type": "code",
      "source": [
        "class Product:\n",
        "    def __init__(self, name, price, quantity):\n",
        "      self.name = name\n",
        "      self.price = price\n",
        "      self.quantity = quantity\n",
        "        \n",
        "\n",
        "#Create an instance of the Product class\n",
        "product = Product(\"Keyboard\", 29.99, 5)\n",
        "\n",
        "#Access the attributes\n",
        "print(product.name)\n",
        "print(product.price)\n",
        "print(product.quantity)"
      ],
      "metadata": {
        "id": "6ltBH_3RhxAt",
        "colab": {
          "base_uri": "https://localhost:8080/"
        },
        "outputId": "8f22e788-1d61-410b-f7ed-5aa730b070f9"
      },
      "execution_count": null,
      "outputs": [
        {
          "output_type": "stream",
          "name": "stdout",
          "text": [
            "Keyboard\n",
            "29.99\n",
            "5\n"
          ]
        }
      ]
    },
    {
      "cell_type": "markdown",
      "source": [
        "**2.** Create a class named `ListPrinter` which has an `items`attribute representing a list of items (e.g., fruits) to be printed. In addition, implement a `print_items()` method to print each item in the list."
      ],
      "metadata": {
        "id": "pbDDoPbFiZRB"
      }
    },
    {
      "cell_type": "code",
      "source": [
        "class ListPrinter:\n",
        "  def __init__(self, items):\n",
        "    self.items = items\n",
        "\n",
        "  def print_items(self):\n",
        "    for item in self.items:\n",
        "      print(item)\n",
        "\n",
        "#Create an instance of the ListPrinter class\n",
        "list_printer = ListPrinter([\"Apple\", \"Banana\", \"Orange\"])\n",
        "\n",
        "#Print each item in the list\n",
        "list_printer.print_items()"
      ],
      "metadata": {
        "id": "9W9hiJMxjIQQ",
        "colab": {
          "base_uri": "https://localhost:8080/"
        },
        "outputId": "eb495b7a-c90b-4caf-e4bb-e6e635033151"
      },
      "execution_count": null,
      "outputs": [
        {
          "output_type": "stream",
          "name": "stdout",
          "text": [
            "Apple\n",
            "Banana\n",
            "Orange\n"
          ]
        }
      ]
    },
    {
      "cell_type": "markdown",
      "source": [
        "**`__ str__()`**\n",
        "\n",
        "The ` __ str__()` method is a special method in Python classes that is used to define a string representation of an object. The method should return a string that provides a human-readable representation of the object’s state. This string is used when the object is printed, or when the built-in str() function is called on the object. \n",
        "\n",
        "The syntax for the __str__ method in a Python class is as follows:\n",
        "\n"
      ],
      "metadata": {
        "id": "l-30JUAA3hmp"
      }
    },
    {
      "cell_type": "code",
      "source": [
        "class MyClass:\n",
        "    def __init__(self, ...):\n",
        "        #Initialization code\n",
        "\n",
        "    def __str__(self):\n",
        "        return \"string representation of the object\""
      ],
      "metadata": {
        "id": "aYPLPPkp5NHe"
      },
      "execution_count": null,
      "outputs": []
    },
    {
      "cell_type": "markdown",
      "source": [
        "If the `__ str__()` method is not defined for a class, the interpreter will use the default implementation, which returns the name of the object’s class and its memory address.\n",
        "\n",
        "The method should be defined within the class and should be named `__ str__()`. It should not take any arguments and it should return a string.\n",
        "\n",
        "**1.** In this updated version, the Product class includes the `__ str__()` method, which returns a string representation of the object. The method is defined to provide a formatted string containing the product's name, price, and quantity."
      ],
      "metadata": {
        "id": "gAU50-D19Y_2"
      }
    },
    {
      "cell_type": "code",
      "source": [
        "class Product:\n",
        "    def __init__(self, name, price, quantity):\n",
        "        self.name = name\n",
        "        self.price = price\n",
        "        self.quantity = quantity\n",
        "    \n",
        "    def __str__(self):\n",
        "        return f\"Product: {self.name}\\nPrice: {self.price}\\nQuantity: {self.quantity}\"\n",
        "\n",
        "#Create an instance of the Product class\n",
        "product = Product(\"Keyboard\", 49.99, 10)\n",
        "\n",
        "#Display the product\n",
        "print(product)"
      ],
      "metadata": {
        "id": "4wwYL7T59wvm",
        "colab": {
          "base_uri": "https://localhost:8080/"
        },
        "outputId": "3260b581-40dd-4ddc-aa56-6b5b8f849eff"
      },
      "execution_count": null,
      "outputs": [
        {
          "output_type": "stream",
          "name": "stdout",
          "text": [
            "Product: Keyboard\n",
            "Price: 49.99\n",
            "Quantity: 10\n"
          ]
        }
      ]
    },
    {
      "cell_type": "markdown",
      "source": [
        "By including the `__ str__()` method, we can directly use the print() function on an instance of the Product class to display a meaningful representation of the product."
      ],
      "metadata": {
        "id": "GBqTOhvt_Gbh"
      }
    },
    {
      "cell_type": "markdown",
      "source": [
        "**2.** Write a program that defines a class called ListPrinter. The class should have the following methods:\n",
        "\n",
        "* `__ init__(self, items)`: Initializes the ListPrinter object with a list of items passed as an argument.\n",
        "* `__ str__(self)`: Returns a string representation of the ListPrinter object, with each item in the list printed on a new line.\n",
        "Create an instance of the ListPrinter class with the following items: \"Apple\", \"Banana\", \"Orange\". Print the object to display the list as a string.\n",
        "\n",
        "\n",
        "\n"
      ],
      "metadata": {
        "id": "5UxcNubFNVJt"
      }
    },
    {
      "cell_type": "markdown",
      "source": [],
      "metadata": {
        "id": "F6jSmB7tYGFQ"
      }
    },
    {
      "cell_type": "code",
      "source": [
        "class ListPrinter:\n",
        "    def __init__(self, items):\n",
        "       self.items = items\n",
        "    \n",
        "    def __str__(self):\n",
        "      return '\\n'.join(self.items)\n",
        "\n",
        "#Create an instance of the ListPrinter class\n",
        "list_printer = ListPrinter([\"Apple\", \"Banana\", \"Orange\"])\n",
        "\n",
        "#Display the list as a string\n",
        "print(list_printer)"
      ],
      "metadata": {
        "id": "lugVvzV0OuIS",
        "colab": {
          "base_uri": "https://localhost:8080/"
        },
        "outputId": "9bdb8ead-86e4-4bd7-d4cf-19d6358fcd21"
      },
      "execution_count": null,
      "outputs": [
        {
          "output_type": "stream",
          "name": "stdout",
          "text": [
            "Apple\n",
            "Banana\n",
            "Orange\n"
          ]
        }
      ]
    },
    {
      "cell_type": "markdown",
      "source": [
        "**`__ add__()`**\n",
        "\n",
        "\n",
        "The `__ add__()` method is a special method in Python that allows objects to define the behavior of the addition operator (+). It enables objects of a class to support the addition operation and allows them to be concatenated or combined using the + operator.\n",
        "\n",
        "To implement the `__ add__()` method, you need to define it within the class definition. The method takes two parameters: self (referring to the current instance of the object) and other (referring to the object being added). The method should perform the necessary computations or operations and return the result.\n"
      ],
      "metadata": {
        "id": "caU-WxfONEMe"
      }
    },
    {
      "cell_type": "markdown",
      "source": [
        "1. Create a class called Data that represents a data value. The class should have the following methods:\n",
        "\n",
        "* `__ init__(self, value)`: Initializes the Data object with a value passed as an argument.\n",
        "\n",
        "* `__ add__(self, other)`: Defines the addition operation for Data objects. It takes another Data object (other) as input and returns a new Data object that contains the sum of the value attributes of both objects.\n",
        "* Create two Data objects with values 5 and 10, respectively. Add the two objects together using the + operator and assign the result to a variable called result. \n",
        "* Finally, print the value of the result object."
      ],
      "metadata": {
        "id": "F7ZcvrnIPfaR"
      }
    },
    {
      "cell_type": "code",
      "source": [
        "class Data:\n",
        "    def __init__(self, value):\n",
        "        # initialization code\n",
        "        self.value = value\n",
        "    \n",
        "    def __add__(self, other):\n",
        "      return Data(self.value + other.value)"
      ],
      "metadata": {
        "id": "uFvLqPkFS2-C"
      },
      "execution_count": null,
      "outputs": []
    },
    {
      "cell_type": "code",
      "source": [
        "#Create two Data objects\n",
        "data1 = Data(10)\n",
        "data2 = Data(20)\n",
        "\n",
        "#Add the two Data objects using the '+' operator\n",
        "result = data1+data2\n",
        "\n",
        "#Print the value attribute of the result object\n",
        "print(result.value)"
      ],
      "metadata": {
        "id": "H8q1-S72S6nJ",
        "colab": {
          "base_uri": "https://localhost:8080/"
        },
        "outputId": "ef0dc03a-0ee5-408e-abc7-c149218d8705"
      },
      "execution_count": null,
      "outputs": [
        {
          "output_type": "stream",
          "name": "stdout",
          "text": [
            "30\n"
          ]
        }
      ]
    },
    {
      "cell_type": "markdown",
      "source": [
        "2.  Here's the modified code for the ListPrinter class that uses the` __ add__() `method: \n",
        "Write a program that defines a class called ListPrinter. The class should have the following methods:\n",
        "\n",
        "* `__ init__(self, items)`: Initializes the ListPrinter object with a list of itemspassed as an argument and assigns it to the items attribute.\n",
        "*` __ str__(self):` Returns a string representation of the ListPrinter object by joining the items with a newline character (\"\\n\").\n",
        "* `__ add__(self, other)`: Defines the behavior of the addition operation (+) for ListPrinter objects. It takes another ListPrinter object, other, as input, concatenates their item lists, and returns a new ListPrinter object with the combined items.\n",
        "* Create two instances of the ListPrinter class with the following item lists:\n",
        "\n",
        "[\"Apple\", \"Banana\"]\n",
        "\n",
        "[\"Orange\", \"Grapes\"]\n",
        "* Perform the following operations:\n",
        "Add the two ListPrinter objects together using the + operator and store the result in a variable called combined_printer.\n",
        "Print the combined_printer object, which should display all the items on separate lines.\n",
        "\n",
        "Hint: The \"\\n\".join(self.items) expression joins all the items in the self.items list into a single string, where each item is separated by a newline character (\"\\n\"). The resulting string represents the items in the list with each item on a separate line."
      ],
      "metadata": {
        "id": "n8W5mIsDTUEI"
      }
    },
    {
      "cell_type": "code",
      "source": [
        "class ListPrinter:\n",
        "    def __init__(self, items):\n",
        "        self.items = items\n",
        "    \n",
        "    def __str__(self):\n",
        "        return \"\\n\".join(self.items)\n",
        "    \n",
        "    def __add__(self, other):\n",
        "         combined_items = self.items + other.items\n",
        "         return ListPrinter(combined_items)"
      ],
      "metadata": {
        "id": "MYSTiDB2UYhd"
      },
      "execution_count": null,
      "outputs": []
    },
    {
      "cell_type": "code",
      "source": [
        "#Create two ListPrinter objects\n",
        "list_printer1 = ListPrinter([\"Apple\", \"Banana\"])\n",
        "list_printer2 = ListPrinter([\"Orange\", \"Grapes\"])\n",
        "\n",
        "#Add the two ListPrinter objects using the '+' operator\n",
        "combined_printer = list_printer1 + list_printer2\n",
        "\n",
        "#Print the combined items using the __str__() method\n",
        "print(combined_printer)"
      ],
      "metadata": {
        "id": "WExTcW7FUgqS",
        "colab": {
          "base_uri": "https://localhost:8080/"
        },
        "outputId": "f06d07a9-ce76-4739-e81b-98b09dc4cbba"
      },
      "execution_count": null,
      "outputs": [
        {
          "output_type": "stream",
          "name": "stdout",
          "text": [
            "Apple\n",
            "Banana\n",
            "Orange\n",
            "Grapes\n"
          ]
        }
      ]
    },
    {
      "cell_type": "markdown",
      "source": [
        "If you hadn’t defined the `__ add__()` method, Python would have raised a TypeError."
      ],
      "metadata": {
        "id": "xPxlAjdnUnjx"
      }
    },
    {
      "cell_type": "code",
      "source": [
        "class Data:\n",
        "    def __init__(self, value):\n",
        "        self.value = value\n",
        "        \n",
        "a = Data(40)\n",
        "b = Data(2)\n",
        "c = a + b\n",
        "print(c.value)"
      ],
      "metadata": {
        "id": "nPxi9yZkUu9Z"
      },
      "execution_count": null,
      "outputs": []
    },
    {
      "cell_type": "markdown",
      "source": [
        "The reason for this error is that the `__ add__()` dunder method has never been defined—and it is not defined for a custom object by default. So, to resolve the TypeError: unsupported operand type(s) for +, you need to provide the `__ add__(self, other)` method in your class definition as shown previously:"
      ],
      "metadata": {
        "id": "fvKxD9cYU774"
      }
    },
    {
      "cell_type": "code",
      "source": [
        "class Data:\n",
        "    def __init__(self, value):\n",
        "        self.value = value\n",
        "        \n",
        "    def __add__(self, other):\n",
        "        return Data(self.value + other.value)"
      ],
      "metadata": {
        "id": "RbZOvUTnUwya"
      },
      "execution_count": null,
      "outputs": []
    }
  ]
}