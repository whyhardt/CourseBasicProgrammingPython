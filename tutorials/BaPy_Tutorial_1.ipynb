{
  "cells": [
    {
      "cell_type": "markdown",
      "metadata": {
        "id": "a5Mhyc06zg2X"
      },
      "source": [
        "# Basic Programming in Python\n",
        "\n",
        "## Summer Term 2025\n",
        "\n",
        "### Tutorial on printing, math operations and if-statements"
      ]
    },
    {
      "cell_type": "markdown",
      "metadata": {
        "id": "Lby54vHx1M-x"
      },
      "source": [
        "#### Printing to the Console\n",
        "\n",
        " 1. Let's keep pace with the tradition and print a message to the console, such as \"I love Python!\". If you wish, you can print it in any language you want! Don't forget this is your very first program, so be proud! 😎\n"
      ]
    },
    {
      "cell_type": "code",
      "execution_count": null,
      "metadata": {
        "id": "gePlYQHz4REa"
      },
      "outputs": [],
      "source": [
        "print()"
      ]
    },
    {
      "cell_type": "markdown",
      "metadata": {
        "id": "ydRE0JOB6MLC"
      },
      "source": [
        "2. Write a program that prints out the lyrics to the song \"99 Bottles of Beer\" with using one print statement. The first line should be \"99 bottles of beer on the wall, 99 bottles of beer...\" and the last line should be \"No more bottles of beer on the wall, no more bottles of beer. Go to the store and buy some more, 99 bottles of beer on the wall.\"\n",
        "\n",
        "You can make line breaks by using \"\\n\" wihtin your string. This is called the new-line operator"
      ]
    },
    {
      "cell_type": "code",
      "execution_count": null,
      "metadata": {
        "colab": {
          "base_uri": "https://localhost:8080/"
        },
        "id": "At2x3Yg-7TOQ",
        "outputId": "b2adff70-901c-4efc-bc9f-f8f75ebd3570"
      },
      "outputs": [],
      "source": [
        "print()"
      ]
    },
    {
      "cell_type": "markdown",
      "metadata": {},
      "source": [
        "#### Math operations"
      ]
    },
    {
      "cell_type": "markdown",
      "metadata": {
        "id": "W02nuowX0ZaL"
      },
      "source": [
        "Implement the following formulas in Python:  \n",
        "a) 10 plus 5 divided by 2  \n",
        "b) 10 plus 5 in brackets, divided by 3  \n",
        "c) Ten to the power of 4 (two options)  \n",
        "d) Remainder of 10 divided by 3, minus 10  \n",
        "e) Minus 15 times 2.5, integer-divided by seven\n",
        "\n",
        "Replace hereby the `None` keyword with your mathematical expression. `None` is a special constant representing the absence of a value or a null value in Python.\n"
      ]
    },
    {
      "cell_type": "code",
      "execution_count": null,
      "metadata": {},
      "outputs": [],
      "source": [
        "a = None"
      ]
    },
    {
      "cell_type": "code",
      "execution_count": null,
      "metadata": {},
      "outputs": [],
      "source": [
        "b = None"
      ]
    },
    {
      "cell_type": "code",
      "execution_count": null,
      "metadata": {},
      "outputs": [],
      "source": [
        "c = None"
      ]
    },
    {
      "cell_type": "code",
      "execution_count": null,
      "metadata": {},
      "outputs": [],
      "source": [
        "d = None"
      ]
    },
    {
      "cell_type": "code",
      "execution_count": null,
      "metadata": {},
      "outputs": [],
      "source": [
        "e = None"
      ]
    },
    {
      "cell_type": "markdown",
      "metadata": {},
      "source": [
        "Let's check if you got the results right! To do so, just run the next cell without any modifications. \n",
        "The test will show you which results are not correct."
      ]
    },
    {
      "cell_type": "code",
      "execution_count": null,
      "metadata": {},
      "outputs": [],
      "source": [
        "# do not modify the code below this line\n",
        "assert a == 12.5, \"Hm ... your (a) seems not to be correct\"\n",
        "print(f\"a = {a} is correct!\")\n",
        "assert b == 5, \"Hm ... your (b) seems not to be correct\"\n",
        "print(f\"b = {b} is correct!\")\n",
        "assert c == 10000, \"Hm ... your (c) seems not to be correct\"\n",
        "print(f\"c = {c} is correct!\")\n",
        "assert d == -9, \"Hm ... your (d) seems not to be correct\"\n",
        "print(f\"d = {d} is correct!\")\n",
        "assert e == -6, \"Hm ... your (e) seems not to be correct\"\n",
        "print(f\"e = {e} is correct!\")\n",
        "\n",
        "print(\"Congratulations! Your calculations have passed all the tests!\")"
      ]
    },
    {
      "cell_type": "markdown",
      "metadata": {
        "id": "xfV9m6OQ7d-B"
      },
      "source": [
        "Create a program that calculates the area of a rectangle with a width of 4 and a height of 5, and then prints the result with an appropriate message to the console."
      ]
    },
    {
      "cell_type": "code",
      "execution_count": null,
      "metadata": {
        "id": "-B6WwXKg8J4r"
      },
      "outputs": [],
      "source": []
    },
    {
      "cell_type": "markdown",
      "metadata": {},
      "source": [
        "#### If Statement"
      ]
    },
    {
      "cell_type": "markdown",
      "metadata": {
        "id": "MOkOr-3q-t6j"
      },
      "source": [
        "Create a program that defines a variable day with the value \"Tuesday\". If the day is a weekday (Monday to Friday), print \"It's a weekday\". If the day is a weekend day (Saturday or Sunday), print \"It's the weekend\"."
      ]
    },
    {
      "cell_type": "code",
      "execution_count": null,
      "metadata": {
        "id": "mr91CKL7_q1L"
      },
      "outputs": [],
      "source": []
    },
    {
      "cell_type": "markdown",
      "metadata": {
        "id": "yTeDYkl9DQsE"
      },
      "source": [
        "Write a program that generates a random number between 1 and 100 and then prints a message to the console indicating whether that number is divisible by 3, 5, both, or neither."
      ]
    },
    {
      "cell_type": "code",
      "execution_count": null,
      "metadata": {
        "id": "PkSZ1hoxDaw2",
        "tags": []
      },
      "outputs": [],
      "source": [
        "import random\n",
        "\n",
        "# Since randrange(a, b) function is exclusive at the stop value, we added +1.\n",
        "my_random_number = random.randrange(1, 101)\n",
        "\n",
        "# It is a good practice to have print statements to check the values of your variables.\n",
        "print(my_random_number) \n",
        "\n",
        "# Remember to use double equal signs \"==\" to compare different values.\n",
        "# perform the checks with if statements\n",
        "\n",
        "# your code starts here "
      ]
    },
    {
      "cell_type": "code",
      "execution_count": null,
      "metadata": {},
      "outputs": [],
      "source": [
        "import random\n",
        "\n",
        "# Since randrange(a, b) function is exclusive at the stop value, we added +1.\n",
        "my_random_number = random.randrange(1, 101)\n",
        "\n",
        "# It is a good practice to have print statements to check the values of your variables.\n",
        "print(my_random_number) \n",
        "\n",
        "# Remember to use double equal signs \"==\" to compare different values.\n",
        "# perform the checks with if statements\n",
        "\n",
        "# your code starts here "
      ]
    },
    {
      "cell_type": "markdown",
      "metadata": {},
      "source": [
        "Let's try now something that involves everything that you learned before and bring it into real-world application!\n",
        "\n",
        "Wind often makes the air feel even colder than it is.  \n",
        "The Wind Chill (WC) measures how cold temperature feels with a given air temperature (T, in degrees Fahrenheit) and wind speed (V, in miles per hour). You can find the formula to calculate the WC in the image below.\n",
        "\n",
        "But be careful when applying this formula! It's only valid for values between -45°F and 40°F.\n",
        "\n",
        "Your next task is to apply this formula when you have a air temperature in degrees Celsius and wind speed in km per hour.\n",
        "\n",
        "Create variables for the temperature T and wind speed V, and calculate the WCF using this formula.\n",
        "Check also if the input variables are valid.\n",
        "\n",
        "You can check your result with this table:\n",
        "\n",
        "![Table for WC](https://www.weather.gov/images/safety/windchill21.gif)"
      ]
    },
    {
      "cell_type": "code",
      "execution_count": 38,
      "metadata": {},
      "outputs": [],
      "source": [
        "# The formula to convert from Celcius to Fahrenheit: 9 / 5 Celcius + 32\n",
        "# The formula to convert km to miles: 1 mile = 0.62 km \n",
        "\n",
        "# define the input variables in Celcius and km per hour\n",
        "# convert Celcius to Fahrenheit\n",
        "# convert km per hour to miles per hour\n",
        "# check the validity of the input parameters\n",
        "# calculate the wind chill\n",
        "# print the wind chill in Fahrenheit\n",
        "# convert the wind chill factor to Celsius\n",
        "# print the wind chill in Celsius\n",
        "\n",
        "# your code starts here"
      ]
    },
    {
      "cell_type": "markdown",
      "metadata": {},
      "source": [
        "Wow, that was quite a bit of work. But you did it! You created your first program with a real-world use-case. Congratulations!"
      ]
    }
  ],
  "metadata": {
    "colab": {
      "provenance": []
    },
    "kernelspec": {
      "display_name": "Python 3 (ipykernel)",
      "language": "python",
      "name": "python3"
    },
    "language_info": {
      "codemirror_mode": {
        "name": "ipython",
        "version": 3
      },
      "file_extension": ".py",
      "mimetype": "text/x-python",
      "name": "python",
      "nbconvert_exporter": "python",
      "pygments_lexer": "ipython3",
      "version": "3.11.8"
    }
  },
  "nbformat": 4,
  "nbformat_minor": 0
}
