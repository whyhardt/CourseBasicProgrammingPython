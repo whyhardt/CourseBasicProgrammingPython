{
 "cells": [
  {
   "cell_type": "markdown",
   "id": "a627186d-8c42-4582-b3a9-596c30aa25fb",
   "metadata": {},
   "source": [
    "# Recap: Loops\n",
    "## The range function\n",
    "The ```range()``` function can be used as an iterator for for-loops or to generate lists."
   ]
  },
  {
   "cell_type": "code",
   "execution_count": 1,
   "id": "e9424431-3449-424b-a047-2c2b548606fe",
   "metadata": {
    "tags": []
   },
   "outputs": [
    {
     "data": {
      "text/plain": [
       "[0, 1, 2, 3, 4, 5, 6, 7]"
      ]
     },
     "execution_count": 1,
     "metadata": {},
     "output_type": "execute_result"
    }
   ],
   "source": [
    "list(range(8)) #most basic usage with a upper limit (exclusive)"
   ]
  },
  {
   "cell_type": "code",
   "execution_count": 2,
   "id": "8300c4e6-df22-48ae-8d91-1986775410d3",
   "metadata": {
    "tags": []
   },
   "outputs": [
    {
     "data": {
      "text/plain": [
       "[2, 3, 4, 5, 6, 7]"
      ]
     },
     "execution_count": 2,
     "metadata": {},
     "output_type": "execute_result"
    }
   ],
   "source": [
    "list(range(2, 8)) #default for lower limit is 0, it is included in the interval and can be specified like here"
   ]
  },
  {
   "cell_type": "code",
   "execution_count": 3,
   "id": "4cf8b27f-733f-4f6a-bfb0-5474399711e9",
   "metadata": {
    "tags": []
   },
   "outputs": [
    {
     "data": {
      "text/plain": [
       "[0, 2, 4, 6, 8, 10]"
      ]
     },
     "execution_count": 3,
     "metadata": {},
     "output_type": "execute_result"
    }
   ],
   "source": [
    "list(range(0, 11, 2)) #optionally you can include a step argument as third argument"
   ]
  },
  {
   "cell_type": "markdown",
   "id": "5199773f-8f90-425f-bf53-ee5206b9edd1",
   "metadata": {},
   "source": [
    "## For loops\n",
    "For loops are used to iterate over an object or to do a loop a specific amount of times.  \n",
    "They consist of the object to be iterated over, here ```range(10)```, a local variable, here ```i```, and an execution block inside the loop that will be executed each iteration."
   ]
  },
  {
   "cell_type": "code",
   "execution_count": 4,
   "id": "e8425a20-5d8f-41d0-9af0-950618cfedac",
   "metadata": {
    "tags": []
   },
   "outputs": [
    {
     "name": "stdout",
     "output_type": "stream",
     "text": [
      "0\n",
      "1\n",
      "2\n",
      "3\n",
      "4\n",
      "5\n",
      "6\n",
      "7\n",
      "8\n",
      "9\n"
     ]
    }
   ],
   "source": [
    "for i in range(10):\n",
    "    print(i)"
   ]
  },
  {
   "cell_type": "markdown",
   "id": "8b1ec37e-de23-4d81-b121-bb525210617e",
   "metadata": {},
   "source": [
    "If we loop over a string we can also get every single character with each iteration."
   ]
  },
  {
   "cell_type": "code",
   "execution_count": 5,
   "id": "28d4c7de-b83b-407f-838e-21492316190a",
   "metadata": {
    "tags": []
   },
   "outputs": [
    {
     "name": "stdout",
     "output_type": "stream",
     "text": [
      "a\n",
      "b\n",
      "c\n",
      "d\n"
     ]
    }
   ],
   "source": [
    "for char in \"abcdEFG\":\n",
    "    if char.islower():\n",
    "        print(char)"
   ]
  },
  {
   "cell_type": "markdown",
   "id": "eea76257-c1fa-4539-b10b-52cad4259a86",
   "metadata": {},
   "source": [
    "Essentially this is like iterating over a list of every character in a string:\n",
    "Which in a list would look like this:"
   ]
  },
  {
   "cell_type": "code",
   "execution_count": 6,
   "id": "8bb95443-04c8-48b4-8206-37f737f564ae",
   "metadata": {
    "tags": []
   },
   "outputs": [
    {
     "data": {
      "text/plain": [
       "['a', 'b', 'c', 'd', 'E', 'F', 'G']"
      ]
     },
     "execution_count": 6,
     "metadata": {},
     "output_type": "execute_result"
    }
   ],
   "source": [
    "char_list = []\n",
    "for char in \"abcdEFG\":\n",
    "    char_list.append(char)\n",
    "\n",
    "char_list"
   ]
  },
  {
   "cell_type": "markdown",
   "id": "3a31500c-afcd-4002-9923-bd011ce00afd",
   "metadata": {},
   "source": [
    "You may also encounter cases where you don't need a local variable like \"i\" because it is just not necessary for what you are doing, in that case you can use an underscore."
   ]
  },
  {
   "cell_type": "code",
   "execution_count": 7,
   "id": "bf13a266-9d55-4f9a-8f56-6c5fbfbaa863",
   "metadata": {
    "tags": []
   },
   "outputs": [
    {
     "name": "stdout",
     "output_type": "stream",
     "text": [
      "No counter needed!\n",
      "No counter needed!\n"
     ]
    }
   ],
   "source": [
    "for _ in range(2):\n",
    "    print('No counter needed!')"
   ]
  },
  {
   "cell_type": "markdown",
   "id": "dd2cbeb5-af9b-4e12-bb05-2e1b8cf3b29a",
   "metadata": {},
   "source": [
    "You can iterate over lists and many other objects:"
   ]
  },
  {
   "cell_type": "code",
   "execution_count": 8,
   "id": "3d933a1f-5a36-4f90-897c-df5f2363df1b",
   "metadata": {
    "tags": []
   },
   "outputs": [
    {
     "name": "stdout",
     "output_type": "stream",
     "text": [
      "1\n",
      "2\n",
      "3\n",
      "4\n",
      "5\n"
     ]
    }
   ],
   "source": [
    "for elem in [1,2,3,4,5]:\n",
    "    print(elem)"
   ]
  },
  {
   "cell_type": "markdown",
   "id": "916793ad-28e7-45b2-8828-32cbcb46eab6",
   "metadata": {},
   "source": [
    "But not over all of them, integers for example don't work and this is a common error produced when you forget something like a ```range()``` around something in the loop."
   ]
  },
  {
   "cell_type": "code",
   "execution_count": 9,
   "id": "3f147840-036a-4f76-b3bf-0076608a96ac",
   "metadata": {
    "tags": []
   },
   "outputs": [
    {
     "ename": "TypeError",
     "evalue": "'int' object is not iterable",
     "output_type": "error",
     "traceback": [
      "\u001b[1;31m---------------------------------------------------------------------------\u001b[0m",
      "\u001b[1;31mTypeError\u001b[0m                                 Traceback (most recent call last)",
      "Cell \u001b[1;32mIn[9], line 1\u001b[0m\n\u001b[1;32m----> 1\u001b[0m \u001b[38;5;28;01mfor\u001b[39;00m a \u001b[38;5;129;01min\u001b[39;00m \u001b[38;5;241m7\u001b[39m:\n\u001b[0;32m      2\u001b[0m     \u001b[38;5;28mprint\u001b[39m(a)\n",
      "\u001b[1;31mTypeError\u001b[0m: 'int' object is not iterable"
     ]
    }
   ],
   "source": [
    "for a in 7:\n",
    "    print(a)"
   ]
  },
  {
   "cell_type": "markdown",
   "id": "365c47d5-210a-4a56-9252-7e806a871da1",
   "metadata": {},
   "source": [
    "You can also loop over the index of a list and then access the object at a certain index, here done for two lists of same length.  \n",
    "This is however less efficient than using ```zip()```."
   ]
  },
  {
   "cell_type": "code",
   "execution_count": 10,
   "id": "e26720ef-4361-4a14-9050-53d5315ef9d4",
   "metadata": {
    "tags": []
   },
   "outputs": [
    {
     "name": "stdout",
     "output_type": "stream",
     "text": [
      "1 a\n",
      "2 b\n",
      "3 c\n"
     ]
    }
   ],
   "source": [
    "list_a = [1, 2, 3]\n",
    "list_b = [\"a\", \"b\", \"c\"]\n",
    "\n",
    "for i in range(len(list_a)):\n",
    "    print(list_a[i], list_b[i])"
   ]
  },
  {
   "cell_type": "code",
   "execution_count": 11,
   "id": "52af3cf0-b34c-4ae9-89b0-b81a17ace772",
   "metadata": {
    "tags": []
   },
   "outputs": [
    {
     "name": "stdout",
     "output_type": "stream",
     "text": [
      "1 a\n",
      "2 b\n",
      "3 c\n"
     ]
    }
   ],
   "source": [
    "for a, b in zip(list_a, list_b):\n",
    "    print(a, b)"
   ]
  },
  {
   "cell_type": "markdown",
   "id": "d7e99bb4-0414-468a-bbf5-0de9b4d3ff6f",
   "metadata": {},
   "source": [
    "You may encounter situations where you would like to iterate over an object but also have the index of the object.  \n",
    "Use ```enumerate()``` for this, since it is better just iterating over the ```range(len())``` of an object since ideally we always want to iterate over objects and not only indices."
   ]
  },
  {
   "cell_type": "code",
   "execution_count": 12,
   "id": "6bc06c9e-d911-445d-857b-aa38d3f45e5d",
   "metadata": {
    "tags": []
   },
   "outputs": [
    {
     "name": "stdout",
     "output_type": "stream",
     "text": [
      "a but at what index?\n",
      "b but at what index?\n",
      "c but at what index?\n"
     ]
    }
   ],
   "source": [
    "for elem in [\"a\", \"b\", \"c\"]:\n",
    "    print(elem, \"but at what index?\")"
   ]
  },
  {
   "cell_type": "code",
   "execution_count": 13,
   "id": "f39a08e8-4623-4701-919a-c7b120d69168",
   "metadata": {
    "tags": []
   },
   "outputs": [
    {
     "name": "stdout",
     "output_type": "stream",
     "text": [
      "0 a\n",
      "1 b\n",
      "2 c\n"
     ]
    }
   ],
   "source": [
    "for i, elem in enumerate([\"a\", \"b\", \"c\"]):\n",
    "    print(i, elem)"
   ]
  },
  {
   "cell_type": "markdown",
   "id": "604c53dc-9571-4f9a-8027-9cad17cf4535",
   "metadata": {},
   "source": [
    "## While loops\n",
    "While loops are loops which are executed until a certain condition does no longer hold.  \n",
    "They consist of three parts, the condition, the execution block inside it, and something inside the execution block which will make the condition false over time.  \n",
    "Without the third part to make the condition false it will become an infinite loop and cause problems or crashes.\n",
    "Here are two examples:"
   ]
  },
  {
   "cell_type": "code",
   "execution_count": 14,
   "id": "6ab2f854-e12a-4a57-acee-a7bfdda1905c",
   "metadata": {
    "tags": []
   },
   "outputs": [
    {
     "name": "stdout",
     "output_type": "stream",
     "text": [
      "This is still looping.\n"
     ]
    }
   ],
   "source": [
    "condition = True\n",
    "\n",
    "while condition == True:\n",
    "    print(\"This is still looping.\")\n",
    "    condition = False"
   ]
  },
  {
   "cell_type": "code",
   "execution_count": 15,
   "id": "465aeedf-105b-4976-a81d-804328a4ebcf",
   "metadata": {
    "tags": []
   },
   "outputs": [
    {
     "name": "stdout",
     "output_type": "stream",
     "text": [
      "0\n",
      "1\n",
      "2\n",
      "3\n",
      "4\n",
      "5\n",
      "6\n",
      "7\n",
      "8\n",
      "9\n"
     ]
    }
   ],
   "source": [
    "i = 0\n",
    "\n",
    "while i < 10:\n",
    "    print(i)\n",
    "    i += 1"
   ]
  },
  {
   "cell_type": "markdown",
   "id": "25684f1d-5991-436b-8b74-e656a2c99f23",
   "metadata": {},
   "source": [
    "(Note that, contrary to for-loops, for the while loop you will need to declare variables used in the condition before starting the loop, else you will get this error)"
   ]
  },
  {
   "cell_type": "code",
   "execution_count": 16,
   "id": "9e265dca-dc74-434c-83a2-b0dfa01b2bfd",
   "metadata": {
    "tags": []
   },
   "outputs": [
    {
     "ename": "NameError",
     "evalue": "name 'undefined' is not defined",
     "output_type": "error",
     "traceback": [
      "\u001b[1;31m---------------------------------------------------------------------------\u001b[0m",
      "\u001b[1;31mNameError\u001b[0m                                 Traceback (most recent call last)",
      "Cell \u001b[1;32mIn[16], line 1\u001b[0m\n\u001b[1;32m----> 1\u001b[0m \u001b[38;5;28;01mwhile\u001b[39;00m \u001b[43mundefined\u001b[49m \u001b[38;5;241m<\u001b[39m \u001b[38;5;241m10\u001b[39m:\n\u001b[0;32m      2\u001b[0m     \u001b[38;5;28mprint\u001b[39m(undefined)\n\u001b[0;32m      3\u001b[0m     undefined \u001b[38;5;241m+\u001b[39m\u001b[38;5;241m=\u001b[39m \u001b[38;5;241m1\u001b[39m\n",
      "\u001b[1;31mNameError\u001b[0m: name 'undefined' is not defined"
     ]
    }
   ],
   "source": [
    "while undefined < 10:\n",
    "    print(undefined)\n",
    "    undefined += 1"
   ]
  },
  {
   "cell_type": "markdown",
   "id": "3992802b-8e7e-468a-88bf-afe0efbd2458",
   "metadata": {},
   "source": [
    "This is the most useless loop you can write, it will never execute."
   ]
  },
  {
   "cell_type": "code",
   "execution_count": 17,
   "id": "a755bebc-8b2b-4a88-8c03-0a1cc2becebb",
   "metadata": {
    "tags": []
   },
   "outputs": [],
   "source": [
    "while False:\n",
    "    print('something')"
   ]
  },
  {
   "cell_type": "markdown",
   "id": "4bd63615-9051-43a1-b04c-4858b24515c8",
   "metadata": {},
   "source": [
    "This is an example of a ```while True``` loop that will be an infinite loop without a ```break``` statement.  \n",
    "You may encounter this as some programs actually need it or make more sense with it.  \n",
    "Usually these work in a way to loop infinitely and do tasks in the loop and then, once you get something or press a certain key, they will be broken with a ```break``` statement.  \n",
    "Use break statements sparingly since they are usually not a good practice to implement."
   ]
  },
  {
   "cell_type": "code",
   "execution_count": 18,
   "id": "1cb33c71-fdf0-4e2e-9839-c62e3506df58",
   "metadata": {
    "tags": []
   },
   "outputs": [
    {
     "name": "stdout",
     "output_type": "stream",
     "text": [
      "1\n",
      "2\n",
      "3\n",
      "4\n"
     ]
    }
   ],
   "source": [
    "numbers = [1, 2, 3, 4, 5]\n",
    "i = 0\n",
    "\n",
    "while True:\n",
    "    print(numbers[i])\n",
    "    i += 1\n",
    "    \n",
    "    if numbers[i] == 5:\n",
    "        break"
   ]
  },
  {
   "cell_type": "markdown",
   "id": "5af7cace-b161-406f-9cbc-a90f12b1867f",
   "metadata": {},
   "source": [
    "This is one example of a nested for-loop.  \n",
    "These you may encounter when working on certain tasks like dimension-wise coordinates or other things like sorting arrays.  \n",
    "They are multiplicative, meaning that the total number of executions of a code block inside two for-loops is the product of the iteration count of them individually.  "
   ]
  },
  {
   "cell_type": "code",
   "execution_count": 19,
   "id": "99553628-f697-417d-aef0-cbe400214e77",
   "metadata": {
    "tags": []
   },
   "outputs": [
    {
     "name": "stdout",
     "output_type": "stream",
     "text": [
      "0 3\n",
      "0 4\n",
      "0 5\n",
      "1 3\n",
      "1 4\n",
      "1 5\n",
      "2 3\n",
      "2 4\n",
      "2 5\n"
     ]
    }
   ],
   "source": [
    "for x in [0,1,2]:\n",
    "    for y in [3,4,5]:\n",
    "        print(x, y)"
   ]
  },
  {
   "cell_type": "code",
   "execution_count": null,
   "id": "2fc1945d-28a4-4b91-aa52-d8afd6ab0fc5",
   "metadata": {
    "tags": []
   },
   "outputs": [],
   "source": []
  }
 ],
 "metadata": {
  "kernelspec": {
   "display_name": "Python 3 (ipykernel)",
   "language": "python",
   "name": "python3"
  },
  "language_info": {
   "codemirror_mode": {
    "name": "ipython",
    "version": 3
   },
   "file_extension": ".py",
   "mimetype": "text/x-python",
   "name": "python",
   "nbconvert_exporter": "python",
   "pygments_lexer": "ipython3",
   "version": "3.8.8"
  }
 },
 "nbformat": 4,
 "nbformat_minor": 5
}
