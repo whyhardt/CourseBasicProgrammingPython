{
 "cells": [
  {
   "cell_type": "markdown",
   "id": "1f21f95d-c36e-4aa8-901f-eebfa2687066",
   "metadata": {},
   "source": [
    "# Practice tasks\n",
    "## Testing out the range function\n",
    "Please use the range function to create the following lists, convert from range to list using ```list()```"
   ]
  },
  {
   "cell_type": "code",
   "execution_count": 7,
   "id": "924ada6f-60ed-4012-835d-bb5a753036ce",
   "metadata": {
    "tags": []
   },
   "outputs": [
    {
     "data": {
      "text/plain": [
       "[0, 1, 2, 3, 4, 5, 6, 7, 8, 9, 10]"
      ]
     },
     "execution_count": 7,
     "metadata": {},
     "output_type": "execute_result"
    }
   ],
   "source": [
    "# a list with values from 0 to 10\n",
    "\n",
    "list(range(11))"
   ]
  },
  {
   "cell_type": "code",
   "execution_count": 12,
   "id": "05e7d2c3-2a86-4ae5-9095-e4f47efc5db2",
   "metadata": {
    "tags": []
   },
   "outputs": [
    {
     "data": {
      "text/plain": [
       "[30, 31, 32, 33, 34, 35, 36, 37, 38, 39, 40]"
      ]
     },
     "execution_count": 12,
     "metadata": {},
     "output_type": "execute_result"
    }
   ],
   "source": [
    "# a list with values from 30 to 40\n",
    "\n",
    "# this would work too, but is a print\n",
    "# for i in range(30,41):\n",
    "#     print(i)\n",
    "    \n",
    "list(range(30,41))"
   ]
  },
  {
   "cell_type": "code",
   "execution_count": 9,
   "id": "2c92c52c-839a-4527-afa8-1f5cee0f6695",
   "metadata": {
    "tags": []
   },
   "outputs": [
    {
     "data": {
      "text/plain": [
       "[2, 4, 6, 8, 10]"
      ]
     },
     "execution_count": 9,
     "metadata": {},
     "output_type": "execute_result"
    }
   ],
   "source": [
    "# a list with all even numbers between 0 and 10, excluding 0\n",
    "\n",
    "# this would work too, but is a print\n",
    "# i=2\n",
    "# while i<11:\n",
    "#     print(i)\n",
    "#     i+=2\n",
    "\n",
    "list(range(2,11,2))"
   ]
  },
  {
   "cell_type": "code",
   "execution_count": 13,
   "id": "84961458-796e-406d-a268-e7d315db66df",
   "metadata": {
    "tags": []
   },
   "outputs": [
    {
     "data": {
      "text/plain": [
       "[10,\n",
       " 20,\n",
       " 30,\n",
       " 40,\n",
       " 50,\n",
       " 60,\n",
       " 70,\n",
       " 80,\n",
       " 90,\n",
       " 100,\n",
       " 110,\n",
       " 120,\n",
       " 130,\n",
       " 140,\n",
       " 150,\n",
       " 160,\n",
       " 170,\n",
       " 180,\n",
       " 190,\n",
       " 200]"
      ]
     },
     "execution_count": 13,
     "metadata": {},
     "output_type": "execute_result"
    }
   ],
   "source": [
    "# a list with all numbers divisible by 10 without remainder until including 200\n",
    "\n",
    "list(range(10, 201, 10))"
   ]
  },
  {
   "cell_type": "markdown",
   "id": "1eff4323-667e-4af8-be5d-c7bb302b943d",
   "metadata": {},
   "source": [
    "## While loops and conditions\n",
    "Write while or for loops for the following tasks:\n",
    "\n",
    "### Task 1\n",
    "Write a while loop that prints out the numbers 1-10, with a counter ```i```, used in the condition of the while loop."
   ]
  },
  {
   "cell_type": "code",
   "execution_count": 14,
   "id": "3f52e096-9d3a-40d8-a56e-e5b3e7a116e8",
   "metadata": {
    "tags": []
   },
   "outputs": [
    {
     "name": "stdout",
     "output_type": "stream",
     "text": [
      "1\n",
      "2\n",
      "3\n",
      "4\n",
      "5\n",
      "6\n",
      "7\n",
      "8\n",
      "9\n",
      "10\n"
     ]
    }
   ],
   "source": [
    "i = 1\n",
    "\n",
    "while i < 11:\n",
    "    print(i)\n",
    "    i += 1"
   ]
  },
  {
   "cell_type": "markdown",
   "id": "1a593718-f2ff-412b-b56a-4240d514f6f7",
   "metadata": {},
   "source": [
    "### Task 2\n",
    "You have a string and an empty list.  \n",
    "Using a for loop and the ```enumerate()``` function, store in the empty list the indices of every non-alphanumerical character."
   ]
  },
  {
   "cell_type": "code",
   "execution_count": 27,
   "id": "ed99f88a-8671-425c-9b54-fbbbb05daad8",
   "metadata": {
    "tags": []
   },
   "outputs": [],
   "source": [
    "string = \"In this string not every c#aracter i% as it sh$uld b€\"\n",
    "indices = []"
   ]
  },
  {
   "cell_type": "code",
   "execution_count": 28,
   "id": "50ec3535-ce8b-4360-b9ec-688f677944bd",
   "metadata": {
    "tags": []
   },
   "outputs": [
    {
     "name": "stdout",
     "output_type": "stream",
     "text": [
      "[2, 7, 14, 18, 24, 26, 34, 36, 37, 40, 43, 46, 50, 52]\n"
     ]
    }
   ],
   "source": [
    "for i, char in enumerate(string):\n",
    "    if not char.isalnum():\n",
    "        indices.append(i)\n",
    "\n",
    "print(indices)"
   ]
  },
  {
   "cell_type": "markdown",
   "id": "ff551c75-0f74-4662-a88a-1a3e377dc1ef",
   "metadata": {},
   "source": [
    "## Sorting\n",
    "Write any loop structure which sorts the given array in ascending order.  \n",
    "You may want to look up \"Insertion Sort\", \"Bubble Sort\", or other \"simple\" sorting algorithms for this."
   ]
  },
  {
   "cell_type": "code",
   "execution_count": 18,
   "id": "a518634b-64b9-444a-a248-c82cea69f570",
   "metadata": {
    "tags": []
   },
   "outputs": [],
   "source": [
    "array = [8,19,62,7,10,6,12,5,19,3]"
   ]
  },
  {
   "cell_type": "code",
   "execution_count": 20,
   "id": "e8026f43-156a-4ffe-8e67-20beb7861062",
   "metadata": {
    "tags": []
   },
   "outputs": [
    {
     "data": {
      "text/plain": [
       "[3, 5, 6, 7, 8, 10, 12, 19, 19, 62]"
      ]
     },
     "execution_count": 20,
     "metadata": {},
     "output_type": "execute_result"
    }
   ],
   "source": [
    "for i in range(len(array)-1):\n",
    "    for j in range(0, len(array)-i-1):\n",
    "        if array[j] > array[j + 1]:\n",
    "            array[j], array[j + 1] = array[j + 1], array[j]\n",
    "\n",
    "array"
   ]
  },
  {
   "cell_type": "markdown",
   "id": "5db1ec50-4b13-40db-9685-3fdf51a4bd34",
   "metadata": {},
   "source": [
    "source: https://www.geeksforgeeks.org/python-program-for-bubble-sort/ (slight changes)  \n",
    "good source for understanding sorting algorithms: https://youtu.be/RfXt_qHDEPw  \n",
    "\n",
    "YOU MAY SOLVE THIS TASK IN ANY POSSIBLE WAY, BUBBLE SORT IS NOT THE ONLY WAY TO SOLVE IT!"
   ]
  },
  {
   "cell_type": "code",
   "execution_count": null,
   "id": "6f73ff1d-25d4-430f-af7c-9c733e56e2de",
   "metadata": {},
   "outputs": [],
   "source": []
  }
 ],
 "metadata": {
  "kernelspec": {
   "display_name": "Python 3 (ipykernel)",
   "language": "python",
   "name": "python3"
  },
  "language_info": {
   "codemirror_mode": {
    "name": "ipython",
    "version": 3
   },
   "file_extension": ".py",
   "mimetype": "text/x-python",
   "name": "python",
   "nbconvert_exporter": "python",
   "pygments_lexer": "ipython3",
   "version": "3.8.8"
  }
 },
 "nbformat": 4,
 "nbformat_minor": 5
}
