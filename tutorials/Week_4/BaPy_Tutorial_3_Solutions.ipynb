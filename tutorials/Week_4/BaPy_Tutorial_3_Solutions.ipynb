{
  "nbformat": 4,
  "nbformat_minor": 0,
  "metadata": {
    "colab": {
      "provenance": []
    },
    "kernelspec": {
      "name": "python3",
      "display_name": "Python 3"
    },
    "language_info": {
      "name": "python"
    }
  },
  "cells": [
    {
      "cell_type": "markdown",
      "source": [
        "# **Basic Programming in Python**\n",
        "\n",
        "## Summer Semester 2023\n",
        "\n",
        "### Tutorial - 09.05.2023"
      ],
      "metadata": {
        "id": "tv8lx8cW3ID-"
      }
    },
    {
      "cell_type": "markdown",
      "source": [
        "## **Lists**\n",
        "#### **1. Creating a List**\n",
        "\n",
        "In Python, you can store a collection of items in a list, such as integers and strings.\n",
        "\n",
        "Lists are created using square brackets '[ ]' and items stored in a list are separated by commas."
      ],
      "metadata": {
        "id": "pdNQ0xT945L6"
      }
    },
    {
      "cell_type": "code",
      "source": [
        "my_numbers = [1, 2, 3, 4, 5, 6, 7, 8, 9, 10]\n",
        "\n",
        "fruits = [\"Apple\", \"Banana\", \"Orange\", \"Watermelon\"]\n",
        "\n",
        "#Can a list contain a mix of different data types? Try it out by yourself! "
      ],
      "metadata": {
        "id": "eTukJNxN6GS4"
      },
      "execution_count": null,
      "outputs": []
    },
    {
      "cell_type": "markdown",
      "source": [
        "#### **2. Accessing elements in a list**\n",
        "\n",
        "It is possible to access elements in a list by using their index. \n",
        "\n",
        "Given the **fruits** list above, print the first and the last elements of the list.\n"
      ],
      "metadata": {
        "id": "SJYAjYqL1AD4"
      }
    },
    {
      "cell_type": "code",
      "source": [
        "print(fruits[0]) #Accesses the first element of the list.\n",
        "print(fruits[-1]) #Accesses the last element of the list."
      ],
      "metadata": {
        "id": "7ebaUv_510KR"
      },
      "execution_count": null,
      "outputs": []
    },
    {
      "cell_type": "markdown",
      "source": [
        "#### **3. Changing elements in a list**\n",
        "\n",
        "We can change a certain element in a list by assigning a new value to an index of that item we want to change.\n",
        "\n",
        "Try to change **\"Watermelon\"** into **\"Strawberry\"**."
      ],
      "metadata": {
        "id": "bWFF77wT2J_7"
      }
    },
    {
      "cell_type": "code",
      "source": [
        "fruits = [\"Apple\", \"Banana\", \"Orange\", \"Watermelon\"]\n",
        "\n",
        "fruits[3] = \"Strawberry\" #\"Watermelon\" has the index of 3.\n",
        "print(fruits)"
      ],
      "metadata": {
        "id": "o3nXrpgx4fEJ"
      },
      "execution_count": null,
      "outputs": []
    },
    {
      "cell_type": "markdown",
      "source": [
        "#### **4. Adding new elements to a list**\n",
        "\n",
        "We can also add a new item to a list by using **append()** method.\n",
        "\n",
        "Add **\"Plum\"** to the end of the **fruits** list."
      ],
      "metadata": {
        "id": "jdr5uCO95Ajb"
      }
    },
    {
      "cell_type": "code",
      "source": [
        "fruits.append(\"Plum\")\n",
        "print(fruits)\n",
        "\n",
        "#You can also use extend() method to append elements from an iterable, such as another list.\n",
        "\n",
        "my_list = [1, 2, 3]\n",
        "new_items = [4, 5, 6]\n",
        "\n",
        "my_list.extend(new_items)\n",
        "\n",
        "print(my_list)"
      ],
      "metadata": {
        "id": "YxJWy_hG6Xk0"
      },
      "execution_count": null,
      "outputs": []
    },
    {
      "cell_type": "markdown",
      "source": [
        "#### **5. Removing elements from a list**\n",
        "\n",
        "**remove()** method allows us to remove the first occurence of an element from a list.\n",
        "\n",
        "Try to remove **\"Banana\"** from the list."
      ],
      "metadata": {
        "id": "sT-imrF06_S9"
      }
    },
    {
      "cell_type": "code",
      "source": [
        "fruits = [\"Apple\", \"Banana\", \"Orange\", \"Watermelon\"]\n",
        "\n",
        "fruits.remove(\"Banana\") #Removes the first occurence of the specified item. Can you guess what happens when you have duplicates in the list?\n",
        "print(fruits)"
      ],
      "metadata": {
        "id": "DFL4bdwX7nK2"
      },
      "execution_count": null,
      "outputs": []
    },
    {
      "cell_type": "markdown",
      "source": [
        "While **remove()** method removes the first occurence of the given element, **pop()** method removes an element at a specific index.\n",
        "\n",
        "What happens when you use **'pop()'** method at the index **5** in **my_numbers** list?"
      ],
      "metadata": {
        "id": "H-ySbaMg7qPj"
      }
    },
    {
      "cell_type": "code",
      "source": [
        "my_numbers = [1, 2, 3, 4, 5, 6, 7, 8, 9, 10]\n",
        "my_numbers.pop(5)"
      ],
      "metadata": {
        "id": "nWah242w8VFs"
      },
      "execution_count": null,
      "outputs": []
    },
    {
      "cell_type": "markdown",
      "source": [
        "#### **6. List evaluation methods**"
      ],
      "metadata": {
        "id": "yvUWGk-p878v"
      }
    },
    {
      "cell_type": "code",
      "source": [
        "len(my_numbers) #Gives the length of the list.\n",
        "\n",
        "#Using max() and min() methods on lists with string elements return strings in a lexicographical order.\n",
        "max(my_numbers) #Gives the highest value.\n",
        "min(my_numbers) #Gives the smallest value.\n",
        "\n",
        "sum(my_numbers) #Sums up all elements.\n",
        "\n",
        "sorted(my_numbers) #Sorts the list from the smallest to the highest."
      ],
      "metadata": {
        "id": "EIFhiRpC9ByV"
      },
      "execution_count": null,
      "outputs": []
    },
    {
      "cell_type": "markdown",
      "source": [
        "## **Iteration and Looping**\n",
        "In programming a loop repeats code until a certain condition is met. Each time the computer runs through a loop, it's called an iteration. Iterative refers to a sequence of instructions or code being repeated until a specific end result is achieved.\n",
        "\n",
        "\n",
        "\n",
        "\n"
      ],
      "metadata": {
        "id": "jnUa2AowKxY2"
      }
    },
    {
      "cell_type": "markdown",
      "source": [
        "#### **1.   The *while* loop**\n",
        "\n",
        "More formally, here is the flow of execution for a while statement:\n",
        "1. Evaluate the condition, yielding True or False.\n",
        "2. If the condition is false, exit the while statement and continue execution at the next\n",
        "statement.\n",
        "3. If the condition is true, execute the body and then go back to step 1.\n",
        "\n",
        "This type of flow is called a loop because the third step loops back around to the top. The body of the loop should change the value of one or more variables so that eventually the condition becomes false and the loop terminates."
      ],
      "metadata": {
        "id": "_TuEocM2RoOP"
      }
    },
    {
      "cell_type": "markdown",
      "source": [
        "Task 1: Write a program that asks the user to enter a positive integer and computes the sum of all the integers from 1 to that number."
      ],
      "metadata": {
        "id": "3uSJ5capZr3i"
      }
    },
    {
      "cell_type": "code",
      "source": [
        "numbers = int(input(\"Enter a positive integer: \")) #input() method will always return string type, so do not forget to convert the input into integer.\n",
        "\n",
        "sum_num = 0 #Define the total sum.\n",
        "i = 1 #Define the counter.\n",
        "while i <= numbers: #Iterating through 1 to numbers.\n",
        "  sum_num += i #Add current number to the total.\n",
        "  i += 1 #Increment the counter.\n",
        "\n",
        "print(\"The sum of all integers from 1 to\",  numbers, \"is\", sum_num)"
      ],
      "metadata": {
        "id": "grhG4H1pQPIb"
      },
      "execution_count": null,
      "outputs": []
    },
    {
      "cell_type": "markdown",
      "source": [
        "\n",
        "#### **2. Traversal with a *for* loop**\n",
        "\n",
        "\n",
        "A for loop is used for iterating over a sequence (that is either a list, a tuple, a dictionary, a set, or a string). With the for loop we can execute a set of statements, once for each item in a list, tuple, set etc.\n",
        "\n",
        "Task 2: Write a program that calculates the average of a list of numbers."
      ],
      "metadata": {
        "id": "Fs7BjLaYQHwb"
      }
    },
    {
      "cell_type": "code",
      "source": [
        "nums = [2, 11, 4, 6, 8, 17, 10, 3, 1]\n",
        "\n",
        "total = 0 \n",
        "counts= len(nums) #Accessing the total number of items in the nums list.\n",
        "\n",
        "for num in nums:\n",
        "  total += num #It is equal to total = total + num\n",
        "average = total / counts\n",
        "print(f\"The average of the numbers in the list is: {average:.2f}\") #Using f-strings allows us to embed expressions and variables inside a string. :.2f defines the number of decimal points."
      ],
      "metadata": {
        "id": "0-aVNQeBQKT7"
      },
      "execution_count": null,
      "outputs": []
    },
    {
      "cell_type": "markdown",
      "source": [
        "#### **3.  Break**\n",
        "\n",
        "With the break statement in \"while\" statement we can stop the loop even if the while condition is true. In \"for\" with the break statement we can stop the loop before it has looped through all the items. \n",
        "\n",
        "Task 3: Write a program that prompts the user to enter a word and prints the word in reverse order. The program should continue to ask the user for a word until the word \"x\" is entered."
      ],
      "metadata": {
        "id": "NGpDtxD6P6hs"
      }
    },
    {
      "cell_type": "code",
      "source": [
        "while True:\n",
        "  word = input(\"Enter a word: \") \n",
        "  if word == 'x':\n",
        "    break\n",
        "  reversed_word = word[::-1]\n",
        "  print(\"Reversed word:\", reversed_word)"
      ],
      "metadata": {
        "id": "WvJXZQNRQHMm"
      },
      "execution_count": null,
      "outputs": []
    },
    {
      "cell_type": "markdown",
      "source": [
        "Task 4: Write a program that uses a for loop to iterate over a list of integers and prints each number until it reaches a negative number. Then, break out of the loop."
      ],
      "metadata": {
        "id": "t3qVMgoThXlk"
      }
    },
    {
      "cell_type": "code",
      "source": [
        "my_cool_numbers = [1, 3, 5, 7, 9, -2, 11, 13, 15]\n",
        "\n",
        "for num in my_cool_numbers:\n",
        "    if num < 0:  #Check if the current number is negative.\n",
        "        break  #Exit the loop if the number is negative.\n",
        "    print(num)  #Print the current number if it's positive."
      ],
      "metadata": {
        "id": "0Eo-2yf6husD"
      },
      "execution_count": null,
      "outputs": []
    },
    {
      "cell_type": "markdown",
      "source": [
        "\n",
        "#### **4.   The *continue* statement**\n",
        "\n",
        "With the continue statement we can stop the current iteration of the loop, and continue with the next."
      ],
      "metadata": {
        "id": "WjUA8Ir2QNWW"
      }
    },
    {
      "cell_type": "markdown",
      "source": [
        "Task 5: Skip Game! Write a program that prints all the even numbers from 1 to 50 using a **for** loop. However, for multiples of 3, print \"skip\" instead of the number. (To loop through a set of code a specified number of times, we can use the **range()** function, The **range()** function returns a sequence of numbers, starting from 0 by default, and increments by 1 (by default), and ends at a specified number."
      ],
      "metadata": {
        "id": "2BWp7uSViQVX"
      }
    },
    {
      "cell_type": "code",
      "source": [
        "for i in range(1, 51):\n",
        "    if i % 3 == 0:  #Check if the current number is divisible by 3.\n",
        "        print(\"skip\")\n",
        "        continue  #Skip to the next iteration."
      ],
      "metadata": {
        "id": "uciKSmvpiKR_"
      },
      "execution_count": null,
      "outputs": []
    }
  ]
}