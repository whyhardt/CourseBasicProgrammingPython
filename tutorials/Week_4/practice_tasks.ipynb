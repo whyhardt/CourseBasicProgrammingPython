{
 "cells": [
  {
   "cell_type": "markdown",
   "id": "1f21f95d-c36e-4aa8-901f-eebfa2687066",
   "metadata": {},
   "source": [
    "# Practice tasks\n",
    "## Testing out the range function\n",
    "Please use the range function to create the following lists, convert from range to list using ```list()```"
   ]
  },
  {
   "cell_type": "code",
   "execution_count": 1,
   "id": "924ada6f-60ed-4012-835d-bb5a753036ce",
   "metadata": {
    "tags": []
   },
   "outputs": [],
   "source": [
    "# a list with values from 0 to 10\n",
    "\n",
    "#add here"
   ]
  },
  {
   "cell_type": "code",
   "execution_count": 2,
   "id": "05e7d2c3-2a86-4ae5-9095-e4f47efc5db2",
   "metadata": {
    "tags": []
   },
   "outputs": [],
   "source": [
    "# a list with values from 30 to 40\n",
    "\n",
    "#add here"
   ]
  },
  {
   "cell_type": "code",
   "execution_count": 3,
   "id": "2c92c52c-839a-4527-afa8-1f5cee0f6695",
   "metadata": {
    "tags": []
   },
   "outputs": [],
   "source": [
    "# a list with all even numbers between 0 and 10, excluding 0\n",
    "\n",
    "#add here"
   ]
  },
  {
   "cell_type": "code",
   "execution_count": 4,
   "id": "84961458-796e-406d-a268-e7d315db66df",
   "metadata": {
    "tags": []
   },
   "outputs": [],
   "source": [
    "# a list with all numbers divisible by 10 without remainder until including 200\n",
    "\n",
    "#add here"
   ]
  },
  {
   "cell_type": "markdown",
   "id": "1eff4323-667e-4af8-be5d-c7bb302b943d",
   "metadata": {},
   "source": [
    "## While loops and conditions\n",
    "Write while or for loops for the following tasks:\n",
    "\n",
    "### Task 1\n",
    "Write a while loop that prints out the numbers 1-10, with a counter ```i```, used in the condition of the while loop."
   ]
  },
  {
   "cell_type": "code",
   "execution_count": null,
   "id": "3f52e096-9d3a-40d8-a56e-e5b3e7a116e8",
   "metadata": {},
   "outputs": [],
   "source": []
  },
  {
   "cell_type": "markdown",
   "id": "1a593718-f2ff-412b-b56a-4240d514f6f7",
   "metadata": {},
   "source": [
    "### Task 2\n",
    "You have a string and an empty list.  \n",
    "Using a for loop and the ```enumerate()``` function, store in the empty list the indices of every non-alphanumerical character."
   ]
  },
  {
   "cell_type": "code",
   "execution_count": null,
   "id": "ed99f88a-8671-425c-9b54-fbbbb05daad8",
   "metadata": {},
   "outputs": [],
   "source": [
    "string = \"In this string not every c#aracter i% as it sh$uld b€\"\n",
    "indices = []"
   ]
  },
  {
   "cell_type": "code",
   "execution_count": null,
   "id": "50ec3535-ce8b-4360-b9ec-688f677944bd",
   "metadata": {},
   "outputs": [],
   "source": []
  },
  {
   "cell_type": "markdown",
   "id": "ff551c75-0f74-4662-a88a-1a3e377dc1ef",
   "metadata": {},
   "source": [
    "## Sorting\n",
    "Write any loop structure which sorts the given array in ascending order.  \n",
    "You may want to look up \"Insertion Sort\", \"Bubble Sort\", or other \"simple\" sorting algorithms for this."
   ]
  },
  {
   "cell_type": "code",
   "execution_count": null,
   "id": "a518634b-64b9-444a-a248-c82cea69f570",
   "metadata": {},
   "outputs": [],
   "source": []
  }
 ],
 "metadata": {
  "kernelspec": {
   "display_name": "Python 3 (ipykernel)",
   "language": "python",
   "name": "python3"
  },
  "language_info": {
   "codemirror_mode": {
    "name": "ipython",
    "version": 3
   },
   "file_extension": ".py",
   "mimetype": "text/x-python",
   "name": "python",
   "nbconvert_exporter": "python",
   "pygments_lexer": "ipython3",
   "version": "3.8.8"
  }
 },
 "nbformat": 4,
 "nbformat_minor": 5
}
