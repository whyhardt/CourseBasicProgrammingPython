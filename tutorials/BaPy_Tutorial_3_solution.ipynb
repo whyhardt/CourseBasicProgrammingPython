{
  "cells": [
    {
      "cell_type": "markdown",
      "metadata": {
        "id": "tv8lx8cW3ID-"
      },
      "source": [
        "# **Basic Programming in Python**\n",
        "\n",
        "## Summer Term 2024\n",
        "\n",
        "### Tutorial on Lists and Loops"
      ]
    },
    {
      "cell_type": "markdown",
      "metadata": {
        "id": "pdNQ0xT945L6"
      },
      "source": [
        "#### **Lists**"
      ]
    },
    {
      "cell_type": "markdown",
      "metadata": {
        "id": "unMAA0MOSAzE"
      },
      "source": [
        "**Creating a list**\n",
        "\n",
        "In Python, you can store a collection of items in a list, such as integers and strings.\n",
        "\n",
        "Lists are created using square brackets `[ ]` and items stored in a list are separated by commas."
      ]
    },
    {
      "cell_type": "code",
      "execution_count": 72,
      "metadata": {
        "id": "eTukJNxN6GS4",
        "outputId": "86165f0f-efdf-4a09-9f75-bb5b9ca8ab7d",
        "colab": {
          "base_uri": "https://localhost:8080/"
        }
      },
      "outputs": [
        {
          "output_type": "stream",
          "name": "stdout",
          "text": [
            "['some', 1, ['Apple', 'Banana', 'Orange', 'Watermelon']]\n"
          ]
        }
      ],
      "source": [
        "my_numbers = [1, 2, 3, 4, 5, 6, 7, 8, 9, 10]\n",
        "\n",
        "fruits = [\"Apple\", \"Banana\", \"Orange\", \"Watermelon\"]\n",
        "\n",
        "# Can a list contain a mix of different data types? Try it out by yourself!\n",
        "\n",
        "# add your code here\n",
        "list1 = [\"some\", 1, fruits]\n",
        "\n",
        "print(list1)"
      ]
    },
    {
      "cell_type": "markdown",
      "metadata": {
        "id": "SJYAjYqL1AD4"
      },
      "source": [
        "**Accessing elements in a list**\n",
        "\n",
        "It is possible to access elements in a list by using their index.\n",
        "\n",
        "Given the **fruits** list above, print the first and the last elements of the list - without knowing the lenght of the list ;)\n"
      ]
    },
    {
      "cell_type": "code",
      "execution_count": 73,
      "metadata": {
        "id": "7ebaUv_510KR",
        "outputId": "6d0db1cd-15db-4f53-956b-1fdffd7477ba",
        "colab": {
          "base_uri": "https://localhost:8080/"
        }
      },
      "outputs": [
        {
          "output_type": "stream",
          "name": "stdout",
          "text": [
            "t\n",
            "['Apple', 'Banana', 'Orange', 'Watermelon']\n"
          ]
        }
      ],
      "source": [
        "# add your code here\n",
        "# remember: indexing of strings\n",
        "string1 = \"e12tg5\"\n",
        "print(string1[3])\n",
        "\n",
        "# you can index a list like a string since both are considered sequences\n",
        "print(list1[2])"
      ]
    },
    {
      "cell_type": "markdown",
      "metadata": {
        "id": "bWFF77wT2J_7"
      },
      "source": [
        "**Changing elements in a list**\n",
        "\n",
        "We can change a certain element in a list by assigning a new value to an index of that item we want to change.\n",
        "\n",
        "Try to change `\"Watermelon\"` into `\"Strawberry\"`."
      ]
    },
    {
      "cell_type": "code",
      "execution_count": 74,
      "metadata": {
        "id": "o3nXrpgx4fEJ",
        "outputId": "560ee6a8-8847-4837-ae72-189be94f719c",
        "colab": {
          "base_uri": "https://localhost:8080/"
        }
      },
      "outputs": [
        {
          "output_type": "stream",
          "name": "stdout",
          "text": [
            "['Apple', 'Banana', 'Orange', 'Strawberry']\n"
          ]
        }
      ],
      "source": [
        "# add your code here\n",
        "fruits[-1] = \"Strawberry\"\n",
        "print(fruits)"
      ]
    },
    {
      "cell_type": "markdown",
      "metadata": {
        "id": "jdr5uCO95Ajb"
      },
      "source": [
        "**Adding new elements to a list**\n",
        "\n",
        "We can also add a new item to a list by using `.append()` method.\n",
        "\n",
        "Add `\"Plum\"` to the end of the `fruits` list."
      ]
    },
    {
      "cell_type": "code",
      "execution_count": 78,
      "metadata": {
        "id": "YxJWy_hG6Xk0",
        "outputId": "5f782059-4f33-4c8a-8b48-1107ccc0713b",
        "colab": {
          "base_uri": "https://localhost:8080/"
        }
      },
      "outputs": [
        {
          "output_type": "stream",
          "name": "stdout",
          "text": [
            "['Apple', 'Banana', 'Orange', 'Strawberry', 'Plum']\n"
          ]
        }
      ],
      "source": [
        "# add your code here\n",
        "fruits.append(\"Plum\")\n",
        "print(fruits)"
      ]
    },
    {
      "cell_type": "markdown",
      "metadata": {
        "id": "glHuuQ2mSAzO"
      },
      "source": [
        "Further you can also use mathematical operators with lists.\n",
        "\n",
        "Create another list (of a different length) and try the basic mathematical operators `+`, `-`, `*` and `/` for your custom list and the list `fruits`.   \n",
        "Now try to add the item `\"Grapes\"` to the list as you did before with `\"Plum\"` but this time with the `+` operator.\n",
        "\n",
        "What do you observe?"
      ]
    },
    {
      "cell_type": "code",
      "execution_count": 75,
      "metadata": {
        "id": "J4IUIuYxSAzP",
        "outputId": "70615851-8607-4f1f-a287-66665aa1b3ca",
        "colab": {
          "base_uri": "https://localhost:8080/"
        }
      },
      "outputs": [
        {
          "output_type": "stream",
          "name": "stdout",
          "text": [
            "['Apple', 'Banana', 'Orange', 'Strawberry', 'Apple', 'Banana', 'Orange', 'Strawberry', 'Apple', 'Banana', 'Orange', 'Strawberry']\n"
          ]
        }
      ],
      "source": [
        "your_list = fruits + fruits + fruits # Replace None with your list\n",
        "\n",
        "# add your code here\n",
        "print(your_list)"
      ]
    },
    {
      "cell_type": "code",
      "source": [
        "# you have the same operations for lists and strings; again because both are sequences\n",
        "\"string1\" + 'string2'"
      ],
      "metadata": {
        "id": "Gwi1K3ookkqR",
        "outputId": "d6135272-c18d-4b90-c4a4-5f2b384b622c",
        "colab": {
          "base_uri": "https://localhost:8080/",
          "height": 35
        }
      },
      "execution_count": 76,
      "outputs": [
        {
          "output_type": "execute_result",
          "data": {
            "text/plain": [
              "'string1string2'"
            ],
            "application/vnd.google.colaboratory.intrinsic+json": {
              "type": "string"
            }
          },
          "metadata": {},
          "execution_count": 76
        }
      ]
    },
    {
      "cell_type": "markdown",
      "metadata": {
        "id": "sT-imrF06_S9"
      },
      "source": [
        "**Removing elements from a list**\n",
        "\n",
        "`.remove()` method allows us to remove the first occurence of an element from a list.\n",
        "\n",
        "Try to remove `\"Banana\"` from the list."
      ]
    },
    {
      "cell_type": "code",
      "execution_count": 79,
      "metadata": {
        "id": "DFL4bdwX7nK2",
        "outputId": "ca3c8c07-873a-4dfa-b6f5-a2bef5fda126",
        "colab": {
          "base_uri": "https://localhost:8080/"
        }
      },
      "outputs": [
        {
          "output_type": "stream",
          "name": "stdout",
          "text": [
            "['Apple', 'Banana', 'Orange', 'Strawberry']\n"
          ]
        }
      ],
      "source": [
        "# add your code here\n",
        "fruits.remove(\"Plum\")\n",
        "print(fruits)"
      ]
    },
    {
      "cell_type": "markdown",
      "metadata": {
        "id": "H-ySbaMg7qPj"
      },
      "source": [
        "While `.remove()` method removes the first occurence of the given element, `.pop()` method removes an element at a specific index.\n",
        "\n",
        "What happens when you use `.pop()` method at the index `5` in `my_numbers` list?   \n",
        "You can also retrieve the removed element as the output of the `.pop()` method.\n",
        "\n",
        "Print the updated list as well as the removed value."
      ]
    },
    {
      "cell_type": "code",
      "execution_count": 81,
      "metadata": {
        "id": "nWah242w8VFs",
        "outputId": "705c1ef2-96c1-4d25-dcde-ef9f2fd30828",
        "colab": {
          "base_uri": "https://localhost:8080/"
        }
      },
      "outputs": [
        {
          "output_type": "stream",
          "name": "stdout",
          "text": [
            "[1, 2, 4, 5, 6, 7, 8, 9, 10]\n"
          ]
        }
      ],
      "source": [
        "my_numbers = [1, 2, 3, 4, 5, 6, 7, 8, 9, 10]\n",
        "\n",
        "# add your code here\n",
        "my_numbers.pop(2)\n",
        "print(my_numbers)"
      ]
    },
    {
      "cell_type": "markdown",
      "metadata": {
        "id": "yvUWGk-p878v"
      },
      "source": [
        "**List evaluation methods**\n",
        "\n",
        "Python has built-in functions to retrieve certain characteristics of a list.\n",
        "\n",
        "Try them, modify the corresponding list and take a look at the results.   \n",
        "Try to combine different data types (e.g. Strings and Numbers, Integers and Floats etc.) to see which ones you can have combined in a list and which ones not. This might be an indicator to the usability in your future programs.   \n",
        "What's your guess on that?  "
      ]
    },
    {
      "cell_type": "code",
      "execution_count": 82,
      "metadata": {
        "id": "EIFhiRpC9ByV",
        "outputId": "89052fde-e308-48ff-e488-47dbd6a15d32",
        "colab": {
          "base_uri": "https://localhost:8080/"
        }
      },
      "outputs": [
        {
          "output_type": "execute_result",
          "data": {
            "text/plain": [
              "9"
            ]
          },
          "metadata": {},
          "execution_count": 82
        }
      ],
      "source": [
        "len(my_numbers) #Gives the length of the list"
      ]
    },
    {
      "cell_type": "code",
      "execution_count": 83,
      "metadata": {
        "id": "s-wQ2LxOSAzW",
        "outputId": "3dee34bc-4a1a-4d75-d248-9730eaed1942",
        "colab": {
          "base_uri": "https://localhost:8080/",
          "height": 35
        }
      },
      "outputs": [
        {
          "output_type": "execute_result",
          "data": {
            "text/plain": [
              "'Strawberry'"
            ],
            "application/vnd.google.colaboratory.intrinsic+json": {
              "type": "string"
            }
          },
          "metadata": {},
          "execution_count": 83
        }
      ],
      "source": [
        "max(fruits) #Gives the highest value"
      ]
    },
    {
      "cell_type": "code",
      "execution_count": 84,
      "metadata": {
        "id": "WRwpy9TPSAzX",
        "outputId": "e16feaea-75c0-4bd3-95a7-99382ada1c3c",
        "colab": {
          "base_uri": "https://localhost:8080/",
          "height": 35
        }
      },
      "outputs": [
        {
          "output_type": "execute_result",
          "data": {
            "text/plain": [
              "'Apple'"
            ],
            "application/vnd.google.colaboratory.intrinsic+json": {
              "type": "string"
            }
          },
          "metadata": {},
          "execution_count": 84
        }
      ],
      "source": [
        "min(fruits) #Gives the smallest value"
      ]
    },
    {
      "cell_type": "code",
      "execution_count": 85,
      "metadata": {
        "id": "mLNvVrkGSAzX",
        "outputId": "3fdbb558-1cde-425d-e1d7-def9d44e3b6e",
        "colab": {
          "base_uri": "https://localhost:8080/",
          "height": 141
        }
      },
      "outputs": [
        {
          "output_type": "error",
          "ename": "TypeError",
          "evalue": "unsupported operand type(s) for +: 'int' and 'str'",
          "traceback": [
            "\u001b[0;31m---------------------------------------------------------------------------\u001b[0m",
            "\u001b[0;31mTypeError\u001b[0m                                 Traceback (most recent call last)",
            "\u001b[0;32m<ipython-input-85-bd2231f69d38>\u001b[0m in \u001b[0;36m<cell line: 1>\u001b[0;34m()\u001b[0m\n\u001b[0;32m----> 1\u001b[0;31m \u001b[0msum\u001b[0m\u001b[0;34m(\u001b[0m\u001b[0mfruits\u001b[0m\u001b[0;34m)\u001b[0m \u001b[0;31m#Sums up all elements\u001b[0m\u001b[0;34m\u001b[0m\u001b[0;34m\u001b[0m\u001b[0m\n\u001b[0m",
            "\u001b[0;31mTypeError\u001b[0m: unsupported operand type(s) for +: 'int' and 'str'"
          ]
        }
      ],
      "source": [
        "sum(fruits) #Sums up all elements"
      ]
    },
    {
      "cell_type": "code",
      "execution_count": 87,
      "metadata": {
        "id": "iTlgJFyCSAzY",
        "outputId": "90da95d4-7b9a-4e00-8f57-4d6d9292c83a",
        "colab": {
          "base_uri": "https://localhost:8080/"
        }
      },
      "outputs": [
        {
          "output_type": "execute_result",
          "data": {
            "text/plain": [
              "['Apple', 'Banana', 'Orange', 'Strawberry']"
            ]
          },
          "metadata": {},
          "execution_count": 87
        }
      ],
      "source": [
        "sorted(fruits) #Sorts the list from the smallest to the highest."
      ]
    },
    {
      "cell_type": "markdown",
      "metadata": {
        "id": "himtHVS3SAzZ"
      },
      "source": [
        "**Slicing**\n",
        "\n",
        "Slicing is a way of selecting only a specified range of indexes within a list.   \n",
        "You can do so with the `[ ]` operator and specifying the indexes with `m:n`, `m:`, `:m`, `:`, where `m` and `n < len(list)`\n",
        "\n",
        "Retrieve a range of list items from the `fruits` list by applying slicing."
      ]
    },
    {
      "cell_type": "code",
      "execution_count": 89,
      "metadata": {
        "id": "jy9vEHigSAza",
        "outputId": "d5348664-ee6c-422b-c227-18f3b161de19",
        "colab": {
          "base_uri": "https://localhost:8080/"
        }
      },
      "outputs": [
        {
          "output_type": "stream",
          "name": "stdout",
          "text": [
            "['Apple', 'Banana', 'Orange', 'Strawberry']\n",
            "['Banana', 'Orange']\n",
            "['Banana', 'Orange', 'Strawberry']\n",
            "['Apple', 'Banana', 'Orange']\n",
            "['Apple', 'Banana', 'Orange', 'Strawberry']\n",
            "['Apple', 'Banana', 'Orange']\n",
            "['Banana']\n"
          ]
        }
      ],
      "source": [
        "print(fruits)\n",
        "\n",
        "# add your code here\n",
        "m = 1\n",
        "n = 3\n",
        "print(fruits[m:n])\n",
        "print(fruits[m:])\n",
        "print(fruits[:n])\n",
        "print(fruits[:])\n",
        "print(fruits[:-1])\n",
        "print(fruits[m:-2])"
      ]
    },
    {
      "cell_type": "markdown",
      "metadata": {
        "id": "jnUa2AowKxY2"
      },
      "source": [
        "#### **Iteration and Looping**"
      ]
    },
    {
      "cell_type": "markdown",
      "metadata": {
        "id": "w0AKELHpSAza"
      },
      "source": [
        "In programming a loop repeats code until a certain condition is met. Each time the computer runs through a loop, it's called an iteration. Iterative refers to a sequence of instructions or code being repeated until a specific end result is achieved."
      ]
    },
    {
      "cell_type": "markdown",
      "metadata": {
        "id": "_TuEocM2RoOP"
      },
      "source": [
        "**The *while* loop**\n",
        "\n",
        "More formally, here is the flow of execution for a while statement:\n",
        "1. Evaluate the condition, yielding True or False.\n",
        "2. If the condition is false, exit the while statement and continue execution at the next\n",
        "statement.\n",
        "3. If the condition is true, execute the body and then go back to step 1.\n",
        "\n",
        "This type of flow is called a loop because the third step loops back around to the top. The body of the loop should change the value of one or more variables so that eventually the condition becomes false and the loop terminates."
      ]
    },
    {
      "cell_type": "markdown",
      "metadata": {
        "id": "3uSJ5capZr3i"
      },
      "source": [
        "Task 1: Write a program that asks the user to enter a positive integer and computes the sum of all the integers from 1 to that number."
      ]
    },
    {
      "cell_type": "code",
      "execution_count": 90,
      "metadata": {
        "id": "grhG4H1pQPIb",
        "outputId": "95d0c400-3603-4c85-a91b-ba1763a2f8b8",
        "colab": {
          "base_uri": "https://localhost:8080/"
        }
      },
      "outputs": [
        {
          "output_type": "stream",
          "name": "stdout",
          "text": [
            "Enter a positive integer: 10\n",
            "55\n"
          ]
        }
      ],
      "source": [
        "num = int(input(\"Enter a positive integer: \"))\n",
        "\n",
        "# add your code here\n",
        "sum_nums = 0\n",
        "while num > 0:\n",
        "  sum_nums += num\n",
        "  num -= 1\n",
        "\n",
        "print(sum_nums)"
      ]
    },
    {
      "cell_type": "markdown",
      "metadata": {
        "id": "Fs7BjLaYQHwb"
      },
      "source": [
        "\n",
        "**Traversal with a *for* loop**\n",
        "\n",
        "\n",
        "A for loop is used for iterating over a sequence (that is either a list, a tuple, a dictionary, a set, or a string). With the for loop we can execute a set of statements, once for each item in a list, tuple, set etc.\n",
        "\n",
        "Remember that you can iterate over such sequences in different ways e.g.:\n",
        "- Direct looping over the items with `for n in Sequence`\n",
        "- Looping over a range of integers e.g. resembling the indexes of a list with:\n",
        "    - `for i in range(Stop: Integer)`\n",
        "    - `for i in range(Start: Integer, Stop: Integer)`\n",
        "    - `for i in range(Start: Integer, Stop: Integer, StepSize: Integer)`\n",
        "- Looping over the item and index pair of a list with `for i, n in enumerate(Sequence)`\n",
        "\n",
        "Task 2: Write a program that calculates the average of a list of numbers. Try the different looping strategies mentioned above."
      ]
    },
    {
      "cell_type": "code",
      "execution_count": 93,
      "metadata": {
        "id": "0-aVNQeBQKT7",
        "outputId": "195a5c13-83c9-434d-edaa-69c2ac8f6002",
        "colab": {
          "base_uri": "https://localhost:8080/"
        }
      },
      "outputs": [
        {
          "output_type": "stream",
          "name": "stdout",
          "text": [
            "8.666666666666666\n"
          ]
        }
      ],
      "source": [
        "nums = [2, 11, 4, 6, 8, 17, 10, 3, 1]\n",
        "\n",
        "# add your code here\n",
        "start = 3\n",
        "stop = 8\n",
        "step = 2\n",
        "looping_seq = range(start, stop, step)\n",
        "\n",
        "sum_nums = 0\n",
        "for i in looping_seq:\n",
        "  sum_nums += nums[i]\n",
        "\n",
        "avg_nums = sum_nums / len(looping_seq)\n",
        "\n",
        "print(avg_nums)"
      ]
    },
    {
      "cell_type": "markdown",
      "metadata": {
        "id": "NGpDtxD6P6hs"
      },
      "source": [
        "\n",
        "**Break statement**\n",
        "\n",
        "With the break statement in \"while\" statement we can stop the loop even if the while condition is true. In \"for\" with the break statement we can stop the loop before it has looped through all the items.\n",
        "\n",
        "Task 3: Write a program that prompts the user to enter a word and prints the word in reverse order. The program should continue to ask the user for a word until the word \"stop\" is entered."
      ]
    },
    {
      "cell_type": "code",
      "execution_count": 56,
      "metadata": {
        "id": "WvJXZQNRQHMm",
        "outputId": "324918fc-f36b-44dc-ef1e-4a589f4dd8f3",
        "colab": {
          "base_uri": "https://localhost:8080/"
        }
      },
      "outputs": [
        {
          "output_type": "stream",
          "name": "stdout",
          "text": [
            "Enter a word: tree\n",
            "Reversed word: eert\n",
            "Enter a word: stop\n",
            "Reversed word: pots\n"
          ]
        }
      ],
      "source": [
        "while True:\n",
        "  word = input(\"Enter a word: \")\n",
        "  # add your code here\n",
        "  if word == \"stop\":\n",
        "    break\n",
        "  reversed_word = word[::-1]\n",
        "  print(\"Reversed word:\", reversed_word)"
      ]
    },
    {
      "cell_type": "markdown",
      "metadata": {
        "id": "t3qVMgoThXlk"
      },
      "source": [
        "Task 4: Write a program that uses a for loop to iterate over a list of integers and prints each number until it reaches a negative number. Then, break out of the loop."
      ]
    },
    {
      "cell_type": "code",
      "execution_count": 59,
      "metadata": {
        "id": "0Eo-2yf6husD",
        "outputId": "533a4541-0b48-469f-e2b4-1ce1f0cd161e",
        "colab": {
          "base_uri": "https://localhost:8080/"
        }
      },
      "outputs": [
        {
          "output_type": "stream",
          "name": "stdout",
          "text": [
            "10\n",
            "20\n",
            "30\n",
            "40\n"
          ]
        }
      ],
      "source": [
        "numbers = [10, 20, 30, 40, -5, 50, 60]\n",
        "\n",
        "# add your code here\n",
        "for i in numbers:\n",
        "  if i > 0:\n",
        "    print(i)\n",
        "  else:\n",
        "    break"
      ]
    },
    {
      "cell_type": "markdown",
      "metadata": {
        "id": "WjUA8Ir2QNWW"
      },
      "source": [
        "**The *continue* statement**\n",
        "\n",
        "With the continue statement we can stop the current iteration of the loop, and continue with the next.\n",
        "\n",
        "Task 5: Skip Game! Write a program that prints all the even numbers from 1 to 50 using a **for** loop. However, for multiples of 3, print \"skip\" instead of the number."
      ]
    },
    {
      "cell_type": "code",
      "execution_count": 96,
      "metadata": {
        "id": "uciKSmvpiKR_",
        "outputId": "8c80e15e-6e10-409d-a260-6d3b580f5576",
        "colab": {
          "base_uri": "https://localhost:8080/"
        }
      },
      "outputs": [
        {
          "output_type": "stream",
          "name": "stdout",
          "text": [
            "2\n",
            "4\n",
            "skip\n",
            "8\n",
            "10\n",
            "skip\n",
            "14\n",
            "16\n",
            "skip\n",
            "20\n",
            "22\n",
            "skip\n",
            "26\n",
            "28\n",
            "skip\n",
            "32\n",
            "34\n",
            "skip\n",
            "38\n",
            "40\n",
            "skip\n",
            "44\n",
            "46\n",
            "skip\n",
            "50\n"
          ]
        }
      ],
      "source": [
        "# add your code here\n",
        "for i in range(1, 51):\n",
        "  if i % 3 == 0 and i % 2 == 0:\n",
        "    print(\"skip\")\n",
        "    continue\n",
        "  if i % 2 == 0:\n",
        "    print(i)\n",
        "\n",
        "  # we could achieve the same behavior with an if-elif statement instead:\n",
        "  # if i % 3 == 0 and i % 2 == 0:\n",
        "  #  print(\"skip\")\n",
        "  # elif i % 2 == 0:\n",
        "  #  print(i)"
      ]
    }
  ],
  "metadata": {
    "colab": {
      "provenance": []
    },
    "kernelspec": {
      "display_name": "Python 3",
      "name": "python3"
    },
    "language_info": {
      "codemirror_mode": {
        "name": "ipython",
        "version": 3
      },
      "file_extension": ".py",
      "mimetype": "text/x-python",
      "name": "python",
      "nbconvert_exporter": "python",
      "pygments_lexer": "ipython3",
      "version": "3.11.8"
    }
  },
  "nbformat": 4,
  "nbformat_minor": 0
}