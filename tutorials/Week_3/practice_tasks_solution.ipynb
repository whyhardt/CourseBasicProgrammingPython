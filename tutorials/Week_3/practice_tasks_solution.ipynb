{
 "cells": [
  {
   "cell_type": "markdown",
   "id": "2078d0dd-7ecd-4e7d-a14e-dcf16b5522ae",
   "metadata": {},
   "source": [
    "# Practice tasks\n",
    "## Reformat the given string\n",
    "Below you find a script from \"Monty Python and The Holy Grail\", taken from [this webpage](http://www.montypython.50webs.com/scripts/Holy_Grail/Scene22.htm).  \n",
    "If you would like to see the movie scene this is from, visit [this link](https://youtu.be/0D7hFHfLEyk).  \n",
    "Since the language Python is named after Monty Python, this is but a fitting task."
   ]
  },
  {
   "cell_type": "code",
   "execution_count": 1,
   "id": "cbabf3b0-8f9c-4ae8-b41a-6c4a7402c7b8",
   "metadata": {
    "tags": []
   },
   "outputs": [
    {
     "data": {
      "text/plain": [
       "\"GALAHAD: There it is!\\nARTHUR: The Bridge of Death!\\nROBIN: Oh, great.\\nARTHUR: Look! There's the old man from scene twenty-four!\\nBEDEVERE: What is he doing here?\\nARTHUR: He is the keeper of the Bridge of Death. He asks each traveller five questions--\\nGALAHAD: Three questions.\\nARTHUR: Three questions. He who answers the five questions--\\nGALAHAD: Three questions.\\nARTHUR: Three questions may cross in safety.\\nROBIN: What if you get a question wrong?\\nARTHUR: Then you are cast into the Gorge of Eternal Peril.\\nROBIN: Oh, I won't go.\\nGALAHAD: Who's going to answer the questions?\\nARTHUR: Sir Robin!\\nROBIN: Yes?\\nARTHUR: Brave Sir Robin, you go.\\nROBIN: Hey! I've got a great idea. Why doesn't Lancelot go?\\nLANCELOT: Yes. Let me go, my liege. I will take him single-handed. I shall make a feint to the north-east that s--\\nARTHUR: No, no. No. Hang on! Hang on! Hang on! Just answer the five questions--\\nGALAHAD: Three questions.\\nARTHUR: Three questions as best you can, and we shall watch... and pray.\\nLANCELOT: I understand, my liege.\\nARTHUR: Good luck, brave Sir Lancelot. God be with you.\\nBRIDGEKEEPER: Stop! Who would cross the Bridge of Death must answer me these questions three, ere the other side he see.\\nLANCELOT: Ask me the questions, bridgekeeper. I am not afraid.\\nBRIDGEKEEPER: What... is your name?\\nLANCELOT: My name is 'Sir Lancelot of Camelot'.\\nBRIDGEKEEPER: What... is your quest?\\nLANCELOT: To seek the Holy Grail.\\nBRIDGEKEEPER: What... is your favorite color?\\nLANCELOT: Blue.\\nBRIDGEKEEPER: Right. Off you go.\\nLANCELOT: Oh, thank you. Thank you very much.\\nROBIN: That's easy!\\nBRIDGEKEEPER: Stop! Who approacheth the Bridge of Death must answer me these questions three, ere the other side he see.\\nROBIN: Ask me the questions, bridgekeeper. I'm not afraid.\\nBRIDGEKEEPER: What... is your name?\\nROBIN: 'Sir Robin of Camelot'.\\nBRIDGEKEEPER: What... is your quest?\\nROBIN: To seek the Holy Grail.\\nBRIDGEKEEPER: What... is the capital of Assyria?\\nROBIN: I don't know that! Auuuuuuuugh!\\nBRIDGEKEEPER: Stop! What... is your name?\\nGALAHAD: 'Sir Galahad of Camelot'.\\nBRIDGEKEEPER: What... is your quest?\\nGALAHAD: I seek the Grail.\\nBRIDGEKEEPER: What... is your favorite color?\\nGALAHAD: Blue. No, yel-- auuuuuuuugh!\\nBRIDGEKEEPER: Hee hee heh. Stop! What... is your name?\\nARTHUR: It is 'Arthur', King of the Britons.\\nBRIDGEKEEPER: What... is your quest?\\nARTHUR: To seek the Holy Grail.\\nBRIDGEKEEPER: What... is the air-speed velocity of an unladen swallow?\\nARTHUR: What do you mean? An African or European swallow?\\nBRIDGEKEEPER: Huh? I-- I don't know that. Auuuuuuuugh!\\nBEDEVERE: How do know so much about swallows?\\nARTHUR: Well, you have to know these things when you're a king, you know.\""
      ]
     },
     "execution_count": 1,
     "metadata": {},
     "output_type": "execute_result"
    }
   ],
   "source": [
    "string = \"\"\"GALAHAD: There it is!\n",
    "ARTHUR: The Bridge of Death!\n",
    "ROBIN: Oh, great.\n",
    "ARTHUR: Look! There's the old man from scene twenty-four!\n",
    "BEDEVERE: What is he doing here?\n",
    "ARTHUR: He is the keeper of the Bridge of Death. He asks each traveller five questions--\n",
    "GALAHAD: Three questions.\n",
    "ARTHUR: Three questions. He who answers the five questions--\n",
    "GALAHAD: Three questions.\n",
    "ARTHUR: Three questions may cross in safety.\n",
    "ROBIN: What if you get a question wrong?\n",
    "ARTHUR: Then you are cast into the Gorge of Eternal Peril.\n",
    "ROBIN: Oh, I won't go.\n",
    "GALAHAD: Who's going to answer the questions?\n",
    "ARTHUR: Sir Robin!\n",
    "ROBIN: Yes?\n",
    "ARTHUR: Brave Sir Robin, you go.\n",
    "ROBIN: Hey! I've got a great idea. Why doesn't Lancelot go?\n",
    "LANCELOT: Yes. Let me go, my liege. I will take him single-handed. I shall make a feint to the north-east that s--\n",
    "ARTHUR: No, no. No. Hang on! Hang on! Hang on! Just answer the five questions--\n",
    "GALAHAD: Three questions.\n",
    "ARTHUR: Three questions as best you can, and we shall watch... and pray.\n",
    "LANCELOT: I understand, my liege.\n",
    "ARTHUR: Good luck, brave Sir Lancelot. God be with you.\n",
    "BRIDGEKEEPER: Stop! Who would cross the Bridge of Death must answer me these questions three, ere the other side he see.\n",
    "LANCELOT: Ask me the questions, bridgekeeper. I am not afraid.\n",
    "BRIDGEKEEPER: What... is your name?\n",
    "LANCELOT: My name is 'Sir Lancelot of Camelot'.\n",
    "BRIDGEKEEPER: What... is your quest?\n",
    "LANCELOT: To seek the Holy Grail.\n",
    "BRIDGEKEEPER: What... is your favorite color?\n",
    "LANCELOT: Blue.\n",
    "BRIDGEKEEPER: Right. Off you go.\n",
    "LANCELOT: Oh, thank you. Thank you very much.\n",
    "ROBIN: That's easy!\n",
    "BRIDGEKEEPER: Stop! Who approacheth the Bridge of Death must answer me these questions three, ere the other side he see.\n",
    "ROBIN: Ask me the questions, bridgekeeper. I'm not afraid.\n",
    "BRIDGEKEEPER: What... is your name?\n",
    "ROBIN: 'Sir Robin of Camelot'.\n",
    "BRIDGEKEEPER: What... is your quest?\n",
    "ROBIN: To seek the Holy Grail.\n",
    "BRIDGEKEEPER: What... is the capital of Assyria?\n",
    "ROBIN: I don't know that! Auuuuuuuugh!\n",
    "BRIDGEKEEPER: Stop! What... is your name?\n",
    "GALAHAD: 'Sir Galahad of Camelot'.\n",
    "BRIDGEKEEPER: What... is your quest?\n",
    "GALAHAD: I seek the Grail.\n",
    "BRIDGEKEEPER: What... is your favorite color?\n",
    "GALAHAD: Blue. No, yel-- auuuuuuuugh!\n",
    "BRIDGEKEEPER: Hee hee heh. Stop! What... is your name?\n",
    "ARTHUR: It is 'Arthur', King of the Britons.\n",
    "BRIDGEKEEPER: What... is your quest?\n",
    "ARTHUR: To seek the Holy Grail.\n",
    "BRIDGEKEEPER: What... is the air-speed velocity of an unladen swallow?\n",
    "ARTHUR: What do you mean? An African or European swallow?\n",
    "BRIDGEKEEPER: Huh? I-- I don't know that. Auuuuuuuugh!\n",
    "BEDEVERE: How do know so much about swallows?\n",
    "ARTHUR: Well, you have to know these things when you're a king, you know.\"\"\"\n",
    "string"
   ]
  },
  {
   "cell_type": "code",
   "execution_count": 2,
   "id": "8f603909-79d7-49e9-857b-020f9d3606e2",
   "metadata": {
    "tags": []
   },
   "outputs": [
    {
     "name": "stdout",
     "output_type": "stream",
     "text": [
      "['__add__', '__class__', '__contains__', '__delattr__', '__dir__', '__doc__', '__eq__', '__format__', '__ge__', '__getattribute__', '__getitem__', '__getnewargs__', '__gt__', '__hash__', '__init__', '__init_subclass__', '__iter__', '__le__', '__len__', '__lt__', '__mod__', '__mul__', '__ne__', '__new__', '__reduce__', '__reduce_ex__', '__repr__', '__rmod__', '__rmul__', '__setattr__', '__sizeof__', '__str__', '__subclasshook__', 'capitalize', 'casefold', 'center', 'count', 'encode', 'endswith', 'expandtabs', 'find', 'format', 'format_map', 'index', 'isalnum', 'isalpha', 'isascii', 'isdecimal', 'isdigit', 'isidentifier', 'islower', 'isnumeric', 'isprintable', 'isspace', 'istitle', 'isupper', 'join', 'ljust', 'lower', 'lstrip', 'maketrans', 'partition', 'replace', 'rfind', 'rindex', 'rjust', 'rpartition', 'rsplit', 'rstrip', 'split', 'splitlines', 'startswith', 'strip', 'swapcase', 'title', 'translate', 'upper', 'zfill']\n"
     ]
    }
   ],
   "source": [
    "print(dir(str))"
   ]
  },
  {
   "cell_type": "code",
   "execution_count": 3,
   "id": "ae9870ac-0485-42f9-8a3b-7abc7707b51f",
   "metadata": {
    "tags": []
   },
   "outputs": [
    {
     "data": {
      "text/plain": [
       "\"There it is!\\nThe Bridge of Death!\\nOh, great.\\nLook! There's the old man from scene twenty-four!\\nWhat is he doing here?\\nHe is the keeper of the Bridge of Death. He asks each traveller five questions--\\nThree questions.\\nThree questions. He who answers the five questions--\\nThree questions.\\nThree questions may cross in safety.\\nWhat if you get a question wrong?\\nThen you are cast into the Gorge of Eternal Peril.\\nOh, I won't go.\\nWho's going to answer the questions?\\nSir Robin!\\nYes?\\nBrave Sir Robin, you go.\\nHey! I've got a great idea. Why doesn't Lancelot go?\\nYes. Let me go, my liege. I will take him single-handed. I shall make a feint to the north-east that s--\\nNo, no. No. Hang on! Hang on! Hang on! Just answer the five questions--\\nThree questions.\\nThree questions as best you can, and we shall watch... and pray.\\nI understand, my liege.\\nGood luck, brave Sir Lancelot. God be with you.\\nStop! Who would cross the Bridge of Death must answer me these questions three, ere the other side he see.\\nAsk me the questions, bridgekeeper. I am not afraid.\\nWhat... is your name?\\nMy name is 'Sir Lancelot of Camelot'.\\nWhat... is your quest?\\nTo seek the Holy Grail.\\nWhat... is your favorite color?\\nBlue.\\nRight. Off you go.\\nOh, thank you. Thank you very much.\\nThat's easy!\\nStop! Who approacheth the Bridge of Death must answer me these questions three, ere the other side he see.\\nAsk me the questions, bridgekeeper. I'm not afraid.\\nWhat... is your name?\\n'Sir Robin of Camelot'.\\nWhat... is your quest?\\nTo seek the Holy Grail.\\nWhat... is the capital of Assyria?\\nI don't know that! Auuuuuuuugh!\\nStop! What... is your name?\\n'Sir Galahad of Camelot'.\\nWhat... is your quest?\\nI seek the Grail.\\nWhat... is your favorite color?\\nBlue. No, yel-- auuuuuuuugh!\\nHee hee heh. Stop! What... is your name?\\nIt is 'Arthur', King of the Britons.\\nWhat... is your quest?\\nTo seek the Holy Grail.\\nWhat... is the air-speed velocity of an unladen swallow?\\nWhat do you mean? An African or European swallow?\\nHuh? I-- I don't know that. Auuuuuuuugh!\\nHow do know so much about swallows?\\nWell, you have to know these things when you're a king, you know.\""
      ]
     },
     "execution_count": 3,
     "metadata": {},
     "output_type": "execute_result"
    }
   ],
   "source": [
    "# remove, by replacing, every name (\"GALAHAD: \", \"ARTHUR: \", \"BRIDGEKEEPER: \", etc)\n",
    "string = string.replace(\"GALAHAD: \",\"\")\n",
    "string = string.replace(\"ARTHUR: \",\"\")\n",
    "string = string.replace(\"BRIDGEKEEPER: \",\"\")\n",
    "string = string.replace(\"ROBIN: \",\"\")\n",
    "string = string.replace(\"BEDEVERE: \",\"\")\n",
    "string = string.replace(\"LANCELOT: \",\"\")\n",
    "string"
   ]
  },
  {
   "cell_type": "code",
   "execution_count": 4,
   "id": "ae8e4da3-47d3-4cb7-bc15-645b8d4b7742",
   "metadata": {
    "tags": []
   },
   "outputs": [
    {
     "data": {
      "text/plain": [
       "\"there it is!\\nthe bridge of death!\\noh, great.\\nlook! there's the old man from scene twenty-four!\\nwhat is he doing here?\\nhe is the keeper of the bridge of death. he asks each traveller five questions--\\nthree questions.\\nthree questions. he who answers the five questions--\\nthree questions.\\nthree questions may cross in safety.\\nwhat if you get a question wrong?\\nthen you are cast into the gorge of eternal peril.\\noh, i won't go.\\nwho's going to answer the questions?\\nsir robin!\\nyes?\\nbrave sir robin, you go.\\nhey! i've got a great idea. why doesn't lancelot go?\\nyes. let me go, my liege. i will take him single-handed. i shall make a feint to the north-east that s--\\nno, no. no. hang on! hang on! hang on! just answer the five questions--\\nthree questions.\\nthree questions as best you can, and we shall watch... and pray.\\ni understand, my liege.\\ngood luck, brave sir lancelot. god be with you.\\nstop! who would cross the bridge of death must answer me these questions three, ere the other side he see.\\nask me the questions, bridgekeeper. i am not afraid.\\nwhat... is your name?\\nmy name is 'sir lancelot of camelot'.\\nwhat... is your quest?\\nto seek the holy grail.\\nwhat... is your favorite color?\\nblue.\\nright. off you go.\\noh, thank you. thank you very much.\\nthat's easy!\\nstop! who approacheth the bridge of death must answer me these questions three, ere the other side he see.\\nask me the questions, bridgekeeper. i'm not afraid.\\nwhat... is your name?\\n'sir robin of camelot'.\\nwhat... is your quest?\\nto seek the holy grail.\\nwhat... is the capital of assyria?\\ni don't know that! auuuuuuuugh!\\nstop! what... is your name?\\n'sir galahad of camelot'.\\nwhat... is your quest?\\ni seek the grail.\\nwhat... is your favorite color?\\nblue. no, yel-- auuuuuuuugh!\\nhee hee heh. stop! what... is your name?\\nit is 'arthur', king of the britons.\\nwhat... is your quest?\\nto seek the holy grail.\\nwhat... is the air-speed velocity of an unladen swallow?\\nwhat do you mean? an african or european swallow?\\nhuh? i-- i don't know that. auuuuuuuugh!\\nhow do know so much about swallows?\\nwell, you have to know these things when you're a king, you know.\""
      ]
     },
     "execution_count": 4,
     "metadata": {},
     "output_type": "execute_result"
    }
   ],
   "source": [
    "# make the entire string lowercase\n",
    "string = string.lower()\n",
    "string"
   ]
  },
  {
   "cell_type": "code",
   "execution_count": 5,
   "id": "c0c1cc00-8332-40d7-a004-6670c34681b2",
   "metadata": {},
   "outputs": [
    {
     "name": "stdout",
     "output_type": "stream",
     "text": [
      "bridge of death!\n",
      "oh,\n"
     ]
    }
   ],
   "source": [
    "# find the index in the string where \"bridge of death\" and print the string from that index until 20 characters later\n",
    "index = string.index(\"bridge of death\")\n",
    "print(string[index:index+20])"
   ]
  },
  {
   "cell_type": "code",
   "execution_count": 6,
   "id": "580dbd53-9137-4e3f-b535-70a3f850409f",
   "metadata": {
    "tags": []
   },
   "outputs": [],
   "source": [
    "# split the string into a list at every \"\\n\" linebreak\n",
    "string = string.split('\\n')"
   ]
  },
  {
   "cell_type": "code",
   "execution_count": 7,
   "id": "525088d4-4a89-4170-beab-b4d208852acd",
   "metadata": {
    "tags": []
   },
   "outputs": [
    {
     "name": "stdout",
     "output_type": "stream",
     "text": [
      "there it is!\n",
      "the bridge of death!\n",
      "oh, great.\n",
      "look! there's the old man from scene twenty-four!\n",
      "what is he doing here?\n",
      "he is the keeper of the bridge of death. he asks each traveller five questions--\n",
      "three questions.\n",
      "three questions. he who answers the five questions--\n",
      "three questions.\n",
      "three questions may cross in safety.\n",
      "what if you get a question wrong?\n",
      "then you are cast into the gorge of eternal peril.\n",
      "oh, i won't go.\n",
      "who's going to answer the questions?\n",
      "sir robin!\n",
      "yes?\n",
      "brave sir robin, you go.\n",
      "hey! i've got a great idea. why doesn't lancelot go?\n",
      "yes. let me go, my liege. i will take him single-handed. i shall make a feint to the north-east that s--\n",
      "no, no. no. hang on! hang on! hang on! just answer the five questions--\n",
      "three questions.\n",
      "three questions as best you can, and we shall watch... and pray.\n",
      "i understand, my liege.\n",
      "good luck, brave sir lancelot. god be with you.\n",
      "stop! who would cross the bridge of death must answer me these questions three, ere the other side he see.\n",
      "ask me the questions, bridgekeeper. i am not afraid.\n",
      "what... is your name?\n",
      "my name is 'sir lancelot of camelot'.\n",
      "what... is your quest?\n",
      "to seek the holy grail.\n",
      "what... is your favorite color?\n",
      "blue.\n",
      "right. off you go.\n",
      "oh, thank you. thank you very much.\n",
      "that's easy!\n",
      "stop! who approacheth the bridge of death must answer me these questions three, ere the other side he see.\n",
      "ask me the questions, bridgekeeper. i'm not afraid.\n",
      "what... is your name?\n",
      "'sir robin of camelot'.\n",
      "what... is your quest?\n",
      "to seek the holy grail.\n",
      "what... is the capital of assyria?\n",
      "i don't know that! auuuuuuuugh!\n",
      "stop! what... is your name?\n",
      "'sir galahad of camelot'.\n",
      "what... is your quest?\n",
      "i seek the grail.\n",
      "what... is your favorite color?\n",
      "blue. no, yel-- auuuuuuuugh!\n",
      "hee hee heh. stop! what... is your name?\n",
      "it is 'arthur', king of the britons.\n",
      "what... is your quest?\n",
      "to seek the holy grail.\n",
      "what... is the air-speed velocity of an unladen swallow?\n",
      "what do you mean? an african or european swallow?\n",
      "huh? i-- i don't know that. auuuuuuuugh!\n",
      "how do know so much about swallows?\n",
      "well, you have to know these things when you're a king, you know.\n"
     ]
    }
   ],
   "source": [
    "# execute the following line to view your result\n",
    "for line in string:\n",
    "    print(line)"
   ]
  },
  {
   "cell_type": "markdown",
   "id": "c593ae31-3cbc-4acc-ba68-fcb3b76bb192",
   "metadata": {},
   "source": [
    "## List manipulation"
   ]
  },
  {
   "cell_type": "code",
   "execution_count": 8,
   "id": "e45985aa-6980-41be-bede-ef6654328c9d",
   "metadata": {},
   "outputs": [],
   "source": [
    "list_a = ['a','b','c','d']\n",
    "list_b = [1,2,3,4]"
   ]
  },
  {
   "cell_type": "code",
   "execution_count": 9,
   "id": "f8edbb08-1a41-40c5-b4a7-ca61be3917cb",
   "metadata": {},
   "outputs": [
    {
     "data": {
      "text/plain": [
       "'d'"
      ]
     },
     "execution_count": 9,
     "metadata": {},
     "output_type": "execute_result"
    }
   ],
   "source": [
    "#print the last element of list_a without using list_a[3]\n",
    "list_a[-1]"
   ]
  },
  {
   "cell_type": "code",
   "execution_count": 10,
   "id": "8a238043-c1df-4793-a24d-432c8f0c2381",
   "metadata": {},
   "outputs": [
    {
     "data": {
      "text/plain": [
       "4"
      ]
     },
     "execution_count": 10,
     "metadata": {},
     "output_type": "execute_result"
    }
   ],
   "source": [
    "#print the length of list_b\n",
    "len(list_b)"
   ]
  },
  {
   "cell_type": "code",
   "execution_count": 11,
   "id": "8870547f-2ead-4bb3-b453-57102c34d25f",
   "metadata": {},
   "outputs": [
    {
     "data": {
      "text/plain": [
       "['b', 'd']"
      ]
     },
     "execution_count": 11,
     "metadata": {},
     "output_type": "execute_result"
    }
   ],
   "source": [
    "#print every second element of list_a using only one indexing bracket\n",
    "list_a[1::2]"
   ]
  },
  {
   "cell_type": "code",
   "execution_count": 12,
   "id": "ad4493c4-fc5b-42d9-b155-89ad4d44635a",
   "metadata": {},
   "outputs": [
    {
     "data": {
      "text/plain": [
       "[3, 4]"
      ]
     },
     "execution_count": 12,
     "metadata": {},
     "output_type": "execute_result"
    }
   ],
   "source": [
    "#print the last two elements of list_b using only one indexing bracket\n",
    "list_b[-2:]"
   ]
  },
  {
   "cell_type": "code",
   "execution_count": 13,
   "id": "9e414428-605d-4b4d-ad70-045983580ec7",
   "metadata": {},
   "outputs": [
    {
     "data": {
      "text/plain": [
       "['d', 'c', 'b', 'a']"
      ]
     },
     "execution_count": 13,
     "metadata": {},
     "output_type": "execute_result"
    }
   ],
   "source": [
    "#print the reversed list_a\n",
    "list_a[::-1]"
   ]
  },
  {
   "cell_type": "code",
   "execution_count": 14,
   "id": "4f8ff334-d88a-418d-9c77-66de70de0f1f",
   "metadata": {},
   "outputs": [
    {
     "data": {
      "text/plain": [
       "['a', 'b', 3, 4]"
      ]
     },
     "execution_count": 14,
     "metadata": {},
     "output_type": "execute_result"
    }
   ],
   "source": [
    "#create a new list (list_c) with the first half from list_a and the second half from list_b using list addition\n",
    "list_c = list_a[:2] + list_b[2:]\n",
    "#or alternatively\n",
    "list_c = list_a[:int(len(list_a)/2)] + list_b[int(len(list_b)/2):]\n",
    "list_c"
   ]
  },
  {
   "cell_type": "code",
   "execution_count": null,
   "id": "bff4aa3d-7a38-4956-971c-e8cc2b8f42e3",
   "metadata": {},
   "outputs": [],
   "source": []
  }
 ],
 "metadata": {
  "kernelspec": {
   "display_name": "Python 3 (ipykernel)",
   "language": "python",
   "name": "python3"
  },
  "language_info": {
   "codemirror_mode": {
    "name": "ipython",
    "version": 3
   },
   "file_extension": ".py",
   "mimetype": "text/x-python",
   "name": "python",
   "nbconvert_exporter": "python",
   "pygments_lexer": "ipython3",
   "version": "3.8.8"
  }
 },
 "nbformat": 4,
 "nbformat_minor": 5
}
