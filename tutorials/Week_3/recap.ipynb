{
 "cells": [
  {
   "cell_type": "markdown",
   "id": "d5e27c66-f4b7-4f0f-840b-e3cede40c6c6",
   "metadata": {},
   "source": [
    "# Recap: Indexing and Methods\n",
    "## Methods (Basics)\n",
    "A method is a function of an object in python.  \n",
    "There are classes, an instance of a class is called an object.  \n",
    "A function is a function defined outside of any class, a method is a function defined inside a class.  "
   ]
  },
  {
   "cell_type": "code",
   "execution_count": 2,
   "id": "e3229c79-9c1d-4306-8f41-c11f08de6238",
   "metadata": {
    "tags": []
   },
   "outputs": [
    {
     "data": {
      "text/plain": [
       "3"
      ]
     },
     "execution_count": 2,
     "metadata": {},
     "output_type": "execute_result"
    }
   ],
   "source": [
    "len('123') #is a function"
   ]
  },
  {
   "cell_type": "code",
   "execution_count": 3,
   "id": "76ade98f-ff3c-46e4-a660-5e78b0c9c4d2",
   "metadata": {
    "tags": []
   },
   "outputs": [
    {
     "data": {
      "text/plain": [
       "'a23'"
      ]
     },
     "execution_count": 3,
     "metadata": {},
     "output_type": "execute_result"
    }
   ],
   "source": [
    "'123'.replace('1','a') #is a method"
   ]
  },
  {
   "cell_type": "code",
   "execution_count": 6,
   "id": "4aa95c78-7ec4-4686-a2f2-9024e6d50e5c",
   "metadata": {
    "tags": []
   },
   "outputs": [
    {
     "name": "stdout",
     "output_type": "stream",
     "text": [
      "['__add__', '__class__', '__contains__', '__delattr__', '__dir__', '__doc__', '__eq__', '__format__', '__ge__', '__getattribute__', '__getitem__', '__getnewargs__', '__gt__', '__hash__', '__init__', '__init_subclass__', '__iter__', '__le__', '__len__', '__lt__', '__mod__', '__mul__', '__ne__', '__new__', '__reduce__', '__reduce_ex__', '__repr__', '__rmod__', '__rmul__', '__setattr__', '__sizeof__', '__str__', '__subclasshook__', 'capitalize', 'casefold', 'center', 'count', 'encode', 'endswith', 'expandtabs', 'find', 'format', 'format_map', 'index', 'isalnum', 'isalpha', 'isascii', 'isdecimal', 'isdigit', 'isidentifier', 'islower', 'isnumeric', 'isprintable', 'isspace', 'istitle', 'isupper', 'join', 'ljust', 'lower', 'lstrip', 'maketrans', 'partition', 'replace', 'rfind', 'rindex', 'rjust', 'rpartition', 'rsplit', 'rstrip', 'split', 'splitlines', 'startswith', 'strip', 'swapcase', 'title', 'translate', 'upper', 'zfill']\n"
     ]
    }
   ],
   "source": [
    "print(dir(str)) #you can use the dir() function on an object or a class to see all methods inside it"
   ]
  },
  {
   "cell_type": "code",
   "execution_count": 7,
   "id": "87dffdec-fa56-4f4f-bf72-2cbc2bfb25cb",
   "metadata": {
    "tags": []
   },
   "outputs": [
    {
     "name": "stdout",
     "output_type": "stream",
     "text": [
      "Help on method_descriptor:\n",
      "\n",
      "replace(self, old, new, count=-1, /)\n",
      "    Return a copy with all occurrences of substring old replaced by new.\n",
      "    \n",
      "      count\n",
      "        Maximum number of occurrences to replace.\n",
      "        -1 (the default value) means replace all occurrences.\n",
      "    \n",
      "    If the optional argument count is given, only the first count occurrences are\n",
      "    replaced.\n",
      "\n"
     ]
    }
   ],
   "source": [
    "#let us test the replace() method of the string class for example, for this lets look at the help() function\n",
    "help(str.replace)"
   ]
  },
  {
   "cell_type": "markdown",
   "id": "fe4eb3ad-484a-47e1-884f-e691b8557994",
   "metadata": {},
   "source": [
    "Generally, it is a good option to look up documentation and the ```dir()``` and ```help()``` function when you are unsure or have not worked with a class that much yet."
   ]
  },
  {
   "cell_type": "code",
   "execution_count": 8,
   "id": "cc262a99-355c-4253-8b84-86ed2d298a7b",
   "metadata": {
    "tags": []
   },
   "outputs": [
    {
     "data": {
      "text/plain": [
       "'Episode 4-6 were the best Star Wars movies'"
      ]
     },
     "execution_count": 8,
     "metadata": {},
     "output_type": "execute_result"
    }
   ],
   "source": [
    "\"Episode 7-9 were the best Star Wars movies\".replace(\"7-9\",\"4-6\")"
   ]
  },
  {
   "cell_type": "code",
   "execution_count": 9,
   "id": "991a3bdd-4147-46c3-820a-dc6390099d28",
   "metadata": {
    "tags": []
   },
   "outputs": [
    {
     "data": {
      "text/plain": [
       "'i like not caring about capitalisation'"
      ]
     },
     "execution_count": 9,
     "metadata": {},
     "output_type": "execute_result"
    }
   ],
   "source": [
    "\"i lIkE nOt CaRiNg AbOuT cApItAlIsAtIoN\".lower()"
   ]
  },
  {
   "cell_type": "markdown",
   "id": "7b695cb2-9632-43f7-ab9d-6d142ac32aed",
   "metadata": {},
   "source": [
    "### Small dunder (double under) method excourse\n",
    "Dunder methods are methods which represent a core aspect of computation of an object, for example the \\_\\_add\\_\\_ method is used to define addition in an object."
   ]
  },
  {
   "cell_type": "code",
   "execution_count": 10,
   "id": "2dc27fc2-7579-4e90-9906-ace2b1eb49ab",
   "metadata": {
    "tags": []
   },
   "outputs": [
    {
     "data": {
      "text/plain": [
       "10"
      ]
     },
     "execution_count": 10,
     "metadata": {},
     "output_type": "execute_result"
    }
   ],
   "source": [
    "int.__add__(2, 8)"
   ]
  },
  {
   "cell_type": "code",
   "execution_count": 11,
   "id": "c9ac1c12-75b2-4636-9999-54f0cfb9ddff",
   "metadata": {
    "tags": []
   },
   "outputs": [
    {
     "data": {
      "text/plain": [
       "10"
      ]
     },
     "execution_count": 11,
     "metadata": {},
     "output_type": "execute_result"
    }
   ],
   "source": [
    "2 + 8"
   ]
  },
  {
   "cell_type": "markdown",
   "id": "e181411d-f24d-4338-972f-a38bed758cad",
   "metadata": {},
   "source": [
    "## The len and range function\n",
    "The ```len()``` function is used to retrieve the length of an object in python.  \n",
    "The ```range()``` function is useful for defining a range of natural numbers from a start to end, to loop or index over."
   ]
  },
  {
   "cell_type": "code",
   "execution_count": 12,
   "id": "a5b9b9d6-c556-4ae0-8958-cb0aa767bca4",
   "metadata": {
    "tags": []
   },
   "outputs": [
    {
     "data": {
      "text/plain": [
       "22"
      ]
     },
     "execution_count": 12,
     "metadata": {},
     "output_type": "execute_result"
    }
   ],
   "source": [
    "len(\"My length should be 22\")"
   ]
  },
  {
   "cell_type": "code",
   "execution_count": 15,
   "id": "0c39c049-2185-4c0c-a9b9-de39d7e2f2f6",
   "metadata": {
    "tags": []
   },
   "outputs": [
    {
     "data": {
      "text/plain": [
       "3"
      ]
     },
     "execution_count": 15,
     "metadata": {},
     "output_type": "execute_result"
    }
   ],
   "source": [
    "len(['a','b','c'])"
   ]
  },
  {
   "cell_type": "code",
   "execution_count": 13,
   "id": "7df5f19c-e5c5-4f49-a4cf-7cf0241baf4b",
   "metadata": {
    "tags": []
   },
   "outputs": [
    {
     "ename": "TypeError",
     "evalue": "object of type 'int' has no len()",
     "output_type": "error",
     "traceback": [
      "\u001b[1;31m---------------------------------------------------------------------------\u001b[0m",
      "\u001b[1;31mTypeError\u001b[0m                                 Traceback (most recent call last)",
      "Cell \u001b[1;32mIn[13], line 1\u001b[0m\n\u001b[1;32m----> 1\u001b[0m \u001b[38;5;28;43mlen\u001b[39;49m\u001b[43m(\u001b[49m\u001b[38;5;241;43m7\u001b[39;49m\u001b[43m)\u001b[49m \u001b[38;5;66;03m#integers don't have a length, and many other objects also may not\u001b[39;00m\n",
      "\u001b[1;31mTypeError\u001b[0m: object of type 'int' has no len()"
     ]
    }
   ],
   "source": [
    "len(7) #integers don't have a length, and many other objects also may not"
   ]
  },
  {
   "cell_type": "code",
   "execution_count": 16,
   "id": "41415aaa-af78-41fe-877f-7eab4c604d92",
   "metadata": {
    "tags": []
   },
   "outputs": [
    {
     "data": {
      "text/plain": [
       "range(0, 10)"
      ]
     },
     "execution_count": 16,
     "metadata": {},
     "output_type": "execute_result"
    }
   ],
   "source": [
    "range(10)"
   ]
  },
  {
   "cell_type": "code",
   "execution_count": 17,
   "id": "f1b1e98b-e724-4587-bfb1-0914748290f7",
   "metadata": {
    "tags": []
   },
   "outputs": [
    {
     "data": {
      "text/plain": [
       "[0, 1, 2, 3, 4, 5, 6, 7, 8, 9]"
      ]
     },
     "execution_count": 17,
     "metadata": {},
     "output_type": "execute_result"
    }
   ],
   "source": [
    "list(range(10)) #converting the range function to a list reveals the numbers which would be iterated over"
   ]
  },
  {
   "cell_type": "code",
   "execution_count": 18,
   "id": "0c52c0d3-6ef4-4747-8889-7a7962896342",
   "metadata": {
    "tags": []
   },
   "outputs": [
    {
     "data": {
      "text/plain": [
       "[2, 3, 4, 5, 6, 7, 8, 9]"
      ]
     },
     "execution_count": 18,
     "metadata": {},
     "output_type": "execute_result"
    }
   ],
   "source": [
    "list(range(2,10)) #the lower limit is included while the upper is not"
   ]
  },
  {
   "cell_type": "markdown",
   "id": "83507a8b-3bde-4cac-a397-ebb0f9bbce05",
   "metadata": {},
   "source": [
    "## Indexing"
   ]
  },
  {
   "cell_type": "code",
   "execution_count": 19,
   "id": "ebb298d3-ce05-4006-b4d5-8be076e1c199",
   "metadata": {
    "tags": []
   },
   "outputs": [
    {
     "data": {
      "text/plain": [
       "[1, 2, 3, 4, 5, 6, 7, 8, 9, 10]"
      ]
     },
     "execution_count": 19,
     "metadata": {},
     "output_type": "execute_result"
    }
   ],
   "source": [
    "list_a = list(range(1,11))\n",
    "list_a"
   ]
  },
  {
   "cell_type": "code",
   "execution_count": 24,
   "id": "767cb4c5-e325-43a8-9dd6-f4b71b9bf1b5",
   "metadata": {},
   "outputs": [
    {
     "data": {
      "text/plain": [
       "5"
      ]
     },
     "execution_count": 24,
     "metadata": {},
     "output_type": "execute_result"
    }
   ],
   "source": [
    "#accessing one element of the list\n",
    "list_a[4]"
   ]
  },
  {
   "cell_type": "code",
   "execution_count": 29,
   "id": "73f1be58-f2bd-4046-9428-e51d5ee9e72b",
   "metadata": {
    "tags": []
   },
   "outputs": [
    {
     "data": {
      "text/plain": [
       "[1, 2, 3]"
      ]
     },
     "execution_count": 29,
     "metadata": {},
     "output_type": "execute_result"
    }
   ],
   "source": [
    "#accessing the first two elements of the list\n",
    "list_a[:3]"
   ]
  },
  {
   "cell_type": "code",
   "execution_count": 34,
   "id": "199b98d6-f3a6-4cf2-b210-a7655d7512d4",
   "metadata": {
    "tags": []
   },
   "outputs": [
    {
     "data": {
      "text/plain": [
       "10"
      ]
     },
     "execution_count": 34,
     "metadata": {},
     "output_type": "execute_result"
    }
   ],
   "source": [
    "#accessing the last element of the list (two options)\n",
    "list_a[-1]"
   ]
  },
  {
   "cell_type": "code",
   "execution_count": 37,
   "id": "fe7a68fe-5f0d-49fd-a90f-8ca01a391620",
   "metadata": {
    "tags": []
   },
   "outputs": [
    {
     "data": {
      "text/plain": [
       "10"
      ]
     },
     "execution_count": 37,
     "metadata": {},
     "output_type": "execute_result"
    }
   ],
   "source": [
    "list_a[len(list_a) - 1]"
   ]
  },
  {
   "cell_type": "code",
   "execution_count": 42,
   "id": "cd98a1c3-9c19-4ffd-beca-7c95335bae3b",
   "metadata": {
    "tags": []
   },
   "outputs": [
    {
     "data": {
      "text/plain": [
       "[1, 2, 3, 4, 5, 6, 7, 8, 9]"
      ]
     },
     "execution_count": 42,
     "metadata": {},
     "output_type": "execute_result"
    }
   ],
   "source": [
    "#accessing everything but the last element of the list (two options)\n",
    "list_a[:-1]"
   ]
  },
  {
   "cell_type": "code",
   "execution_count": 39,
   "id": "71894da4-1c41-4aed-9bde-3df0e303ac36",
   "metadata": {
    "tags": []
   },
   "outputs": [
    {
     "data": {
      "text/plain": [
       "[1, 2, 3, 4, 5, 6, 7, 8, 9]"
      ]
     },
     "execution_count": 39,
     "metadata": {},
     "output_type": "execute_result"
    }
   ],
   "source": [
    "list_a[:len(list_a)-1]"
   ]
  },
  {
   "cell_type": "code",
   "execution_count": 43,
   "id": "fb29e313-1fd6-451d-96bd-94ac3b4c5ed5",
   "metadata": {
    "tags": []
   },
   "outputs": [
    {
     "data": {
      "text/plain": [
       "[8, 9, 10]"
      ]
     },
     "execution_count": 43,
     "metadata": {},
     "output_type": "execute_result"
    }
   ],
   "source": [
    "#accessing the last three elements of the list\n",
    "list_a[-3:]"
   ]
  },
  {
   "cell_type": "code",
   "execution_count": 44,
   "id": "6375646c-56b9-45da-bbf9-e3ec86c9d8fe",
   "metadata": {
    "tags": []
   },
   "outputs": [
    {
     "data": {
      "text/plain": [
       "[1, 4, 7, 10]"
      ]
     },
     "execution_count": 44,
     "metadata": {},
     "output_type": "execute_result"
    }
   ],
   "source": [
    "#accessing the entire list in steps of three\n",
    "list_a[::3]"
   ]
  },
  {
   "cell_type": "code",
   "execution_count": 45,
   "id": "7508ecf8-abb6-4cc3-ab18-4761042b2a03",
   "metadata": {
    "tags": []
   },
   "outputs": [
    {
     "data": {
      "text/plain": [
       "[3, 6, 9]"
      ]
     },
     "execution_count": 45,
     "metadata": {},
     "output_type": "execute_result"
    }
   ],
   "source": [
    "#accessing every third element of the list\n",
    "list_a[2::3]"
   ]
  },
  {
   "cell_type": "code",
   "execution_count": 46,
   "id": "7eddbf02-b0aa-4149-abef-fb67d521353e",
   "metadata": {
    "tags": []
   },
   "outputs": [
    {
     "data": {
      "text/plain": [
       "[10, 9, 8, 7, 6, 5, 4, 3, 2, 1]"
      ]
     },
     "execution_count": 46,
     "metadata": {},
     "output_type": "execute_result"
    }
   ],
   "source": [
    "#reversing the list\n",
    "list_a[::-1]"
   ]
  },
  {
   "cell_type": "code",
   "execution_count": 47,
   "id": "88aca2d4-b6e4-4d74-a05e-1d47a807ea15",
   "metadata": {
    "tags": []
   },
   "outputs": [
    {
     "data": {
      "text/plain": [
       "[1, 2, 3, 4, 5, 6, 7, 8, 9, 10, 10, 9, 8, 7, 6, 5, 4, 3, 2, 1]"
      ]
     },
     "execution_count": 47,
     "metadata": {},
     "output_type": "execute_result"
    }
   ],
   "source": [
    "#adding the reversed list to the original list\n",
    "list_a + list_a[::-1]"
   ]
  },
  {
   "cell_type": "code",
   "execution_count": 49,
   "id": "e618458c-6fac-458b-8a3e-0c4bd448635d",
   "metadata": {},
   "outputs": [
    {
     "data": {
      "text/plain": [
       "[2, 3, 6, 7]"
      ]
     },
     "execution_count": 49,
     "metadata": {},
     "output_type": "execute_result"
    }
   ],
   "source": [
    "#lets say you want elements 2 and 3 and 6 and 7\n",
    "list_a[1:3] + list_a[5:7]"
   ]
  },
  {
   "cell_type": "code",
   "execution_count": null,
   "id": "08299dc1-1ce8-4c18-beb0-7e604eb356d4",
   "metadata": {},
   "outputs": [],
   "source": []
  }
 ],
 "metadata": {
  "kernelspec": {
   "display_name": "Python 3 (ipykernel)",
   "language": "python",
   "name": "python3"
  },
  "language_info": {
   "codemirror_mode": {
    "name": "ipython",
    "version": 3
   },
   "file_extension": ".py",
   "mimetype": "text/x-python",
   "name": "python",
   "nbconvert_exporter": "python",
   "pygments_lexer": "ipython3",
   "version": "3.8.8"
  }
 },
 "nbformat": 4,
 "nbformat_minor": 5
}
