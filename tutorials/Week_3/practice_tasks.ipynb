{
 "cells": [
  {
   "cell_type": "markdown",
   "id": "2078d0dd-7ecd-4e7d-a14e-dcf16b5522ae",
   "metadata": {},
   "source": [
    "# Practice tasks\n",
    "## Reformat the given string\n",
    "Below you find a script from \"Monty Python and The Holy Grail\", taken from [this webpage](http://www.montypython.50webs.com/scripts/Holy_Grail/Scene22.htm).  \n",
    "If you would like to see the movie scene this is from, visit [this link](https://youtu.be/0D7hFHfLEyk)."
   ]
  },
  {
   "cell_type": "code",
   "execution_count": null,
   "id": "cbabf3b0-8f9c-4ae8-b41a-6c4a7402c7b8",
   "metadata": {
    "tags": []
   },
   "outputs": [],
   "source": [
    "string = \"\"\"GALAHAD: There it is!\n",
    "ARTHUR: The Bridge of Death!\n",
    "ROBIN: Oh, great.\n",
    "ARTHUR: Look! There's the old man from scene twenty-four!\n",
    "BEDEVERE: What is he doing here?\n",
    "ARTHUR: He is the keeper of the Bridge of Death. He asks each traveller five questions--\n",
    "GALAHAD: Three questions.\n",
    "ARTHUR: Three questions. He who answers the five questions--\n",
    "GALAHAD: Three questions.\n",
    "ARTHUR: Three questions may cross in safety.\n",
    "ROBIN: What if you get a question wrong?\n",
    "ARTHUR: Then you are cast into the Gorge of Eternal Peril.\n",
    "ROBIN: Oh, I won't go.\n",
    "GALAHAD: Who's going to answer the questions?\n",
    "ARTHUR: Sir Robin!\n",
    "ROBIN: Yes?\n",
    "ARTHUR: Brave Sir Robin, you go.\n",
    "ROBIN: Hey! I've got a great idea. Why doesn't Lancelot go?\n",
    "LANCELOT: Yes. Let me go, my liege. I will take him single-handed. I shall make a feint to the north-east that s--\n",
    "ARTHUR: No, no. No. Hang on! Hang on! Hang on! Just answer the five questions--\n",
    "GALAHAD: Three questions.\n",
    "ARTHUR: Three questions as best you can, and we shall watch... and pray.\n",
    "LANCELOT: I understand, my liege.\n",
    "ARTHUR: Good luck, brave Sir Lancelot. God be with you.\n",
    "BRIDGEKEEPER: Stop! Who would cross the Bridge of Death must answer me these questions three, ere the other side he see.\n",
    "LANCELOT: Ask me the questions, bridgekeeper. I am not afraid.\n",
    "BRIDGEKEEPER: What... is your name?\n",
    "LANCELOT: My name is 'Sir Lancelot of Camelot'.\n",
    "BRIDGEKEEPER: What... is your quest?\n",
    "LANCELOT: To seek the Holy Grail.\n",
    "BRIDGEKEEPER: What... is your favorite color?\n",
    "LANCELOT: Blue.\n",
    "BRIDGEKEEPER: Right. Off you go.\n",
    "LANCELOT: Oh, thank you. Thank you very much.\n",
    "ROBIN: That's easy!\n",
    "BRIDGEKEEPER: Stop! Who approacheth the Bridge of Death must answer me these questions three, ere the other side he see.\n",
    "ROBIN: Ask me the questions, bridgekeeper. I'm not afraid.\n",
    "BRIDGEKEEPER: What... is your name?\n",
    "ROBIN: 'Sir Robin of Camelot'.\n",
    "BRIDGEKEEPER: What... is your quest?\n",
    "ROBIN: To seek the Holy Grail.\n",
    "BRIDGEKEEPER: What... is the capital of Assyria?\n",
    "ROBIN: I don't know that! Auuuuuuuugh!\n",
    "BRIDGEKEEPER: Stop! What... is your name?\n",
    "GALAHAD: 'Sir Galahad of Camelot'.\n",
    "BRIDGEKEEPER: What... is your quest?\n",
    "GALAHAD: I seek the Grail.\n",
    "BRIDGEKEEPER: What... is your favorite color?\n",
    "GALAHAD: Blue. No, yel-- auuuuuuuugh!\n",
    "BRIDGEKEEPER: Hee hee heh. Stop! What... is your name?\n",
    "ARTHUR: It is 'Arthur', King of the Britons.\n",
    "BRIDGEKEEPER: What... is your quest?\n",
    "ARTHUR: To seek the Holy Grail.\n",
    "BRIDGEKEEPER: What... is the air-speed velocity of an unladen swallow?\n",
    "ARTHUR: What do you mean? An African or European swallow?\n",
    "BRIDGEKEEPER: Huh? I-- I don't know that. Auuuuuuuugh!\n",
    "BEDEVERE: How do know so much about swallows?\n",
    "ARTHUR: Well, you have to know these things when you're a king, you know.\"\"\"\n",
    "string"
   ]
  },
  {
   "cell_type": "code",
   "execution_count": null,
   "id": "ae9870ac-0485-42f9-8a3b-7abc7707b51f",
   "metadata": {
    "tags": []
   },
   "outputs": [],
   "source": [
    "# remove, by replacing, every name (\"GALAHAD: \", \"ARTHUR: \", \"BRIDGEKEEPER: \", etc)\n",
    "string = #add"
   ]
  },
  {
   "cell_type": "code",
   "execution_count": null,
   "id": "ae8e4da3-47d3-4cb7-bc15-645b8d4b7742",
   "metadata": {
    "tags": []
   },
   "outputs": [],
   "source": [
    "# make the entire string lowercase\n",
    "string = #add"
   ]
  },
  {
   "cell_type": "code",
   "execution_count": null,
   "id": "c0c1cc00-8332-40d7-a004-6670c34681b2",
   "metadata": {},
   "outputs": [],
   "source": [
    "# find the index in the string where \"Bridge of Death\" is and print the string from that index until 20 characters later\n",
    "index = #add\n",
    "print() #add here"
   ]
  },
  {
   "cell_type": "code",
   "execution_count": null,
   "id": "580dbd53-9137-4e3f-b535-70a3f850409f",
   "metadata": {
    "tags": []
   },
   "outputs": [],
   "source": [
    "# split the string into a list at every \"\\n\" linebreak\n",
    "string = #add"
   ]
  },
  {
   "cell_type": "code",
   "execution_count": null,
   "id": "525088d4-4a89-4170-beab-b4d208852acd",
   "metadata": {
    "tags": []
   },
   "outputs": [],
   "source": [
    "# execute the following line to view your result\n",
    "for line in string:\n",
    "    print(line)"
   ]
  },
  {
   "cell_type": "markdown",
   "id": "c593ae31-3cbc-4acc-ba68-fcb3b76bb192",
   "metadata": {},
   "source": [
    "## List manipulation"
   ]
  },
  {
   "cell_type": "code",
   "execution_count": null,
   "id": "e45985aa-6980-41be-bede-ef6654328c9d",
   "metadata": {},
   "outputs": [],
   "source": [
    "list_a = ['a','b','c','d']\n",
    "list_b = [1,2,3,4]"
   ]
  },
  {
   "cell_type": "code",
   "execution_count": null,
   "id": "f8edbb08-1a41-40c5-b4a7-ca61be3917cb",
   "metadata": {},
   "outputs": [],
   "source": [
    "#print the last element of list_a without using list_a[3]\n",
    "#add"
   ]
  },
  {
   "cell_type": "code",
   "execution_count": null,
   "id": "8a238043-c1df-4793-a24d-432c8f0c2381",
   "metadata": {},
   "outputs": [],
   "source": [
    "#print the length of list_b\n",
    "#add"
   ]
  },
  {
   "cell_type": "code",
   "execution_count": null,
   "id": "8870547f-2ead-4bb3-b453-57102c34d25f",
   "metadata": {},
   "outputs": [],
   "source": [
    "#print every second element of list_a using only one indexing bracket\n",
    "#add"
   ]
  },
  {
   "cell_type": "code",
   "execution_count": null,
   "id": "ad4493c4-fc5b-42d9-b155-89ad4d44635a",
   "metadata": {},
   "outputs": [],
   "source": [
    "#print the last two elements of list_b using only one indexing bracket\n",
    "#add"
   ]
  },
  {
   "cell_type": "code",
   "execution_count": null,
   "id": "9e414428-605d-4b4d-ad70-045983580ec7",
   "metadata": {},
   "outputs": [],
   "source": [
    "#print the reversed list_a\n",
    "#add"
   ]
  },
  {
   "cell_type": "code",
   "execution_count": null,
   "id": "4f8ff334-d88a-418d-9c77-66de70de0f1f",
   "metadata": {},
   "outputs": [],
   "source": [
    "#create a new list (list_c) with the first half from list_a and the second half from list_b using list addition\n",
    "#add"
   ]
  },
  {
   "cell_type": "code",
   "execution_count": null,
   "id": "bff4aa3d-7a38-4956-971c-e8cc2b8f42e3",
   "metadata": {},
   "outputs": [],
   "source": []
  }
 ],
 "metadata": {
  "kernelspec": {
   "display_name": "Python 3 (ipykernel)",
   "language": "python",
   "name": "python3"
  },
  "language_info": {
   "codemirror_mode": {
    "name": "ipython",
    "version": 3
   },
   "file_extension": ".py",
   "mimetype": "text/x-python",
   "name": "python",
   "nbconvert_exporter": "python",
   "pygments_lexer": "ipython3",
   "version": "3.8.8"
  }
 },
 "nbformat": 4,
 "nbformat_minor": 5
}
