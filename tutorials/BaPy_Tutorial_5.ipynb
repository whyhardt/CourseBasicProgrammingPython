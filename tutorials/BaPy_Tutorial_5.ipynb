{
  "cells": [
    {
      "cell_type": "markdown",
      "metadata": {
        "id": "6vKP1wjgfyMB"
      },
      "source": [
        "# **Basic Programming in Python**\n",
        "\n",
        "## Summer Term 2025\n",
        "\n",
        "### Tutorial on NumPy"
      ]
    },
    {
      "cell_type": "markdown",
      "metadata": {
        "id": "vOmoFPLMDFbV"
      },
      "source": [
        "## **Introduction to NumPy**"
      ]
    },
    {
      "cell_type": "markdown",
      "metadata": {},
      "source": [
        "### Creating arrays"
      ]
    },
    {
      "cell_type": "markdown",
      "metadata": {
        "id": "JglLcoLcFw-t"
      },
      "source": [
        "`numpy.array()`: This function creates a NumPy array, either from an iterable or directly."
      ]
    },
    {
      "cell_type": "code",
      "execution_count": null,
      "metadata": {
        "colab": {
          "base_uri": "https://localhost:8080/"
        },
        "id": "y_JNkiGABn80",
        "outputId": "f1faf543-58e4-41a6-ecd0-6e2769807f3d"
      },
      "outputs": [],
      "source": [
        "# Import NumPy library\n",
        "import numpy as np\n",
        "\n",
        "# Create a NumPy array from a list\n",
        "my_list = [1, 2, 3, 4, 5]\n",
        "my_arr1 = np.array(my_list)\n",
        "\n",
        "print(my_list)\n",
        "print(my_arr1)"
      ]
    },
    {
      "cell_type": "code",
      "execution_count": null,
      "metadata": {
        "colab": {
          "base_uri": "https://localhost:8080/"
        },
        "id": "JpL9_L2fCaU8",
        "outputId": "8dde31f8-c00b-4462-f771-61001bf81a35"
      },
      "outputs": [],
      "source": [
        "# Directly create a NumPy Array\n",
        "my_arr2 = np.array([1, 2, 3, 4, 5])\n",
        "\n",
        "print(my_arr2)"
      ]
    },
    {
      "cell_type": "markdown",
      "metadata": {},
      "source": [
        "You can also use other methods for creating Numpy arrays.\n",
        "\n",
        "Recall the introduced methods from the lecture:\n",
        "\n",
        "```\n",
        "np.zeros(shape)\n",
        "np.ones(shape)\n",
        "np.empty(shape)\n",
        "np.arange(stop)\n",
        "np.arange(start,stop)\n",
        "np.arange(start,stop,step)\n",
        "np.ones_like(array)\n",
        "np.zeros_like(array)\n",
        "```\n",
        "\n",
        "These methods deliver more or less *deterministic* results, i.e. you know the results already before execution.   \n",
        "You can also create random arrays with *stochastic* array creation methods. These can be useful in certain cases e.g. random input generation for simulations or conditioning of experiments, testing of a function, hypothesis testing etc.\n",
        "\n",
        "To create random arrays with values drawn from specific distributions or value ranges, we have to use the `np.random` module. Some examples are:\n",
        "\n",
        "```\n",
        "np.random.randint()\n",
        "np.random.random()\n",
        "np.random.uniform()\n",
        "np.random.normal()\n",
        "np.random.binomial()\n",
        "```\n",
        "\n",
        "Learn about these methods from the documentation. You can take an easy look at it with the built-in `help` function. Apply these methods and inspect the results. "
      ]
    },
    {
      "cell_type": "code",
      "execution_count": null,
      "metadata": {},
      "outputs": [],
      "source": [
        "# add your code here"
      ]
    },
    {
      "cell_type": "markdown",
      "metadata": {
        "id": "iysO-E3LDaJy"
      },
      "source": [
        "**What’s the difference between a Python list and a NumPy array?**\n",
        "\n",
        "- While a Python list can contain different data types within a single list, all of the elements in a NumPy array should be homogeneous. The mathematical operations that are meant to be performed on arrays would be extremely inefficient if the arrays weren’t homogeneous (https://numpy.org/doc/stable/user/absolute_beginners.html)."
      ]
    },
    {
      "cell_type": "markdown",
      "metadata": {},
      "source": [
        "### **Dimensions in Arrays**"
      ]
    },
    {
      "cell_type": "markdown",
      "metadata": {
        "id": "ujYuU8iBERZ7"
      },
      "source": [
        "**1.** **1-D Arrays**\n",
        "\n",
        "- A 1D array is an array that contains elements arranged in a single row or column."
      ]
    },
    {
      "cell_type": "code",
      "execution_count": null,
      "metadata": {
        "colab": {
          "base_uri": "https://localhost:8080/"
        },
        "id": "KDs7n5CLE4sp",
        "outputId": "ebcd9fb8-cb08-487d-ad24-bbef5dc4056e"
      },
      "outputs": [],
      "source": [
        "my_arr2 = np.array([1, 2, 3, 4, 5])\n",
        "\n",
        "print(my_arr2)"
      ]
    },
    {
      "cell_type": "markdown",
      "metadata": {
        "id": "XSiQHPy_FLIJ"
      },
      "source": [
        "**2.** **2-D Arrays**\n",
        "\n",
        "- A 2D array is an array with two dimensions: rows and columns. You can imagine them as a table or grid-like structure."
      ]
    },
    {
      "cell_type": "code",
      "execution_count": null,
      "metadata": {
        "id": "6bzM_F2PFXg0"
      },
      "outputs": [],
      "source": [
        "my_array_2d = np.array([[1, 2, 3], [4, 5, 6]])\n",
        "\n",
        "print(my_array_2d)"
      ]
    },
    {
      "cell_type": "markdown",
      "metadata": {
        "id": "ucwlIPUpFcva"
      },
      "source": [
        "**3.** **3-D Arrays**\n",
        "\n",
        "- A 3D array can be thought of as a collection of 2D arrays."
      ]
    },
    {
      "cell_type": "code",
      "execution_count": null,
      "metadata": {
        "colab": {
          "base_uri": "https://localhost:8080/"
        },
        "id": "ta_ctf0QFnpx",
        "outputId": "f34d896c-4385-4fb7-ba31-780cb6762545"
      },
      "outputs": [],
      "source": [
        "my_array_3d = np.array([[[1, 2, 3], [4, 5, 6]], [[7, 8, 9], [10, 11, 12]]])\n",
        "\n",
        "print('Number of dimensions in array:', my_array_3d.ndim)\n",
        "print('The array is:')\n",
        "print(my_array_3d)"
      ]
    },
    {
      "cell_type": "markdown",
      "metadata": {
        "id": "1PAiVl3eGVLw"
      },
      "source": [
        "`numpy.shape()`: Returns the dimension of a NumPy array."
      ]
    },
    {
      "cell_type": "code",
      "execution_count": null,
      "metadata": {
        "colab": {
          "base_uri": "https://localhost:8080/"
        },
        "id": "eTj-WLaSGduH",
        "outputId": "5cea7965-b901-4d5f-8c67-4c021649789e"
      },
      "outputs": [],
      "source": [
        "my_array_3d = np.array([[[1, 2, 3], [4, 5, 6]], [[7, 8, 9], [10, 11, 12]]])\n",
        "\n",
        "print(my_array_3d)\n",
        "check_arr_shape = np.shape(my_array_3d)\n",
        "\n",
        "# The output indicates that it has 2 layers, 2 rows and 3 columns.\n",
        "print('The array shape is:', check_arr_shape)"
      ]
    },
    {
      "cell_type": "markdown",
      "metadata": {
        "id": "eMPNqxC-IBo3"
      },
      "source": [
        "`numpy.reshape()`: Reshapes a NumPy array to a specified shape.\n",
        "\n",
        "- Can you reshape the given array to `(2,2)`?"
      ]
    },
    {
      "cell_type": "code",
      "execution_count": null,
      "metadata": {
        "colab": {
          "base_uri": "https://localhost:8080/",
          "height": 381
        },
        "id": "tANUkuvpIZja",
        "outputId": "ddceee2e-db52-4f2d-e5b0-6b5f2efa6e3c"
      },
      "outputs": [],
      "source": [
        "my_array_3d = np.array([[[1, 2, 3], [4, 5, 6]], [[7, 8, 9], [10, 11, 12]]])\n",
        "\n",
        "reshaped_array = np.reshape(my_array_3d, (2, 2))\n",
        "\n",
        "print(reshaped_array)"
      ]
    },
    {
      "cell_type": "markdown",
      "metadata": {
        "id": "_komq_4SI4nx"
      },
      "source": [
        "**Why do we have the error `ValueError: cannot reshape array of size 12 into shape (2,2)`?**\n",
        "\n",
        "- When you want to reshape an array, you need to ensure that the total number of elements remains the same.\n",
        "\n",
        "- Let's try to reshape my_array_3d to `(3, 4) `now:"
      ]
    },
    {
      "cell_type": "code",
      "execution_count": null,
      "metadata": {
        "colab": {
          "base_uri": "https://localhost:8080/"
        },
        "id": "RsA2zBBMJj4U",
        "outputId": "3665ec80-9b69-43ad-eeef-013fcbcd4c85"
      },
      "outputs": [],
      "source": [
        "reshaped_array = np.reshape(my_array_3d, newshape=None)\n",
        "\n",
        "print(reshaped_array)"
      ]
    },
    {
      "cell_type": "markdown",
      "metadata": {},
      "source": [
        "Numpy arrays are instances of the `np.ndarray` class, which comes with a lot of class methods. One of these methods let's you reshape your array similar to the `np.reshape()` method. Reshaping can also be done with the in-place method `np.ndarray.reshape()`."
      ]
    },
    {
      "cell_type": "code",
      "execution_count": null,
      "metadata": {},
      "outputs": [],
      "source": [
        "print('Original shape:')\n",
        "print(my_array_2d)\n",
        "print('\\nReshaped array:')\n",
        "print(my_array_2d.reshape(6, 1))"
      ]
    },
    {
      "cell_type": "markdown",
      "metadata": {},
      "source": [
        "### **The Axis Parameter in NumPy**"
      ]
    },
    {
      "cell_type": "markdown",
      "metadata": {
        "id": "X98I-smBL3oi"
      },
      "source": [
        "The axis parameter in NumPy refers to the dimension or axis along which a particular operation is performed.\n",
        "\n",
        "By choosing different axis values, you can control the behavior and outcome of the operation.\n",
        "\n",
        "The axis parameter can take different forms:\n",
        "\n",
        "- For a 1-dimensional array, the axis parameter is not applicable since there is only one axis.\n",
        "\n",
        "- For a 2-dimensional array, axis = 0 refers to the vertical axis (rows) and axis = 1 refers to the horizontal axis (columns).\n",
        "\n",
        "- For arrays with more than 2 dimensions, the axis values increase accordingly. For example, axis = 0 represents the first dimension, axis = 1 represents the second dimension, and so on.\n",
        "\n",
        "![image.png](data:image/png;base64,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)\n"
      ]
    },
    {
      "cell_type": "code",
      "execution_count": null,
      "metadata": {
        "id": "t1f1oIcVErij"
      },
      "outputs": [],
      "source": [
        "import numpy as np\n",
        "\n",
        "# Example 1: Sum along the columns in each row (axis = 0)\n",
        "print('Example 1: Sum along the columns in each row (axis = 0)')\n",
        "arr = np.array([[1, 2, 3], [4, 5, 6]])\n",
        "result = np.sum(arr, axis = 0)\n",
        "print(result)  # Output: [5 7 9]\n",
        "\n",
        "# Example 2: Mean along the rows in each column (axis = 1)\n",
        "print('\\nExample 2: Mean along the rows in each column (axis = 1)')\n",
        "arr = np.array([[1, 2, 3], [4, 5, 6]])\n",
        "result = np.mean(arr, axis = 1)\n",
        "print(result)  # Output: [2. 5.]\n",
        "\n",
        "# Example 3: Maximum along the third dimension (axis = 2)\n",
        "print('\\nExample 3: Maximum along the third dimension (axis = 2)')\n",
        "arr = np.array([[[1, 2, 4], [3, 4, 6]], [[5, 6, 8], [7, 8, 10]]])\n",
        "print('The shape of the array is:', arr.shape)\n",
        "result = np.max(arr, axis = 2)\n",
        "print(result)  # Output: [[2 4] [6 8]]\n",
        "# get the position of the maximum value in the array\n",
        "result_pos = np.argmax(arr, axis = 2)\n",
        "print(result_pos)  # Output: [[1 1] [1 1]]"
      ]
    },
    {
      "cell_type": "markdown",
      "metadata": {},
      "source": [
        "Why is the position of the maximum `[[1 1] [1 1]]`? Can you think of an explanation?   \n",
        "Change the `axis` value and see how the maximum and its position changes. Try to understand what's happening there."
      ]
    },
    {
      "cell_type": "markdown",
      "metadata": {},
      "source": [
        "### **Array Operations**"
      ]
    },
    {
      "cell_type": "markdown",
      "metadata": {
        "id": "4vLMhlERJP2c"
      },
      "source": [
        "NumPy allows us to perform arithmetic operations on arrays, just like with individual numbers."
      ]
    },
    {
      "cell_type": "code",
      "execution_count": null,
      "metadata": {
        "colab": {
          "base_uri": "https://localhost:8080/"
        },
        "id": "wau-4ATzJ9Xz",
        "outputId": "847c2c5a-c0ee-4a5e-9514-a57834384e23"
      },
      "outputs": [],
      "source": [
        "arr1 = np.array([1, 2, 3, 4, 5])\n",
        "arr2 = np.array([6, 7, 8, 9, 10])\n",
        "\n",
        "# Addition\n",
        "sum_result = arr1 + arr2\n",
        "print(\"Addition:\", sum_result)\n",
        "\n",
        "# Subtraction\n",
        "subt_result = arr1 - arr2\n",
        "print(\"Subtraction:\", subt_result)\n",
        "\n",
        "# Multiplication\n",
        "mult_result = arr1 * arr2\n",
        "print(\"Multiplication:\", mult_result)\n",
        "\n",
        "# Division\n",
        "div_result = arr1 / arr2\n",
        "print(\"Division:\", div_result)"
      ]
    },
    {
      "cell_type": "markdown",
      "metadata": {
        "id": "NjCdHGUDKHI6"
      },
      "source": [
        "**Element-wise Operations:**\n",
        "\n",
        "NumPy also supports element-wise operations, where each element of an array is operated upon individually. "
      ]
    },
    {
      "cell_type": "code",
      "execution_count": null,
      "metadata": {
        "id": "vjxVNqEMKUwx"
      },
      "outputs": [],
      "source": [
        "# Square root\n",
        "sqroot_result = np.sqrt(arr1)\n",
        "print(\"Square root:\", sqroot_result)\n",
        "\n",
        "# Exponential\n",
        "exp_result = np.exp(arr1)\n",
        "print(\"Exponential:\", exp_result)\n",
        "\n",
        "# Trigonometric functions\n",
        "tri_result = np.sin(arr1)\n",
        "print(\"Sine:\", tri_result)\n",
        "\n",
        "# Logarithm\n",
        "log_result = np.log10(arr1)\n",
        "print(\"Logarithm:\", log_result)"
      ]
    },
    {
      "cell_type": "markdown",
      "metadata": {
        "id": "dA3N3_MPKa9a"
      },
      "source": [
        "**Mathematical Functions:** \n",
        "\n",
        "In addition to basic arithmetic and element-wise operations, NumPy provides a wide range of mathematical functions. "
      ]
    },
    {
      "cell_type": "code",
      "execution_count": null,
      "metadata": {
        "id": "mMYGZcnsKliy"
      },
      "outputs": [],
      "source": [
        "# Sum of all elements\n",
        "sum_result_2 = np.sum(arr1)\n",
        "print(\"Sum:\", sum_result_2)\n",
        "\n",
        "# Mean of all elements\n",
        "mean_result = np.mean(arr1)\n",
        "print(\"Mean:\", mean_result)\n",
        "\n",
        "# Maximum element\n",
        "max_result = np.max(arr1)\n",
        "print(\"Maximum:\", max_result)\n",
        "\n",
        "# Standard deviation\n",
        "sd_result = np.std(arr1)\n",
        "print(\"Standard Deviation:\", sd_result)"
      ]
    },
    {
      "cell_type": "markdown",
      "metadata": {
        "id": "ePkbEHKzKnhh"
      },
      "source": [
        "### **Indexing and Slicing**\n",
        "\n",
        "NumPy provides powerful tools for working with arrays, and indexing and slicing are fundamental operations for accessing specific elements or subsets of an array. These techniques allow us to extract and modify data efficiently. \n",
        "\n",
        "Indexing refers to accessing individual elements of an array. NumPy arrays are zero-indexed, meaning the indexing starts from 0.\n",
        "To access a single element, you can use square brackets and provide the index of the element you want.\n",
        "\n",
        "When working with higher-dimensional arrays, we use multiple indices separated by commas to access individual elements. Each index corresponds to a specific dimension of the array.\n",
        "\n"
      ]
    },
    {
      "cell_type": "code",
      "execution_count": null,
      "metadata": {
        "colab": {
          "base_uri": "https://localhost:8080/"
        },
        "id": "p_XOcCWrMqJF",
        "outputId": "df89f8df-2c97-4f3d-a39e-4f687e6f2d1b"
      },
      "outputs": [],
      "source": [
        "arr_3 = np.array([[1, 2, 3],\n",
        "                [4, 5, 6],\n",
        "                [7, 8, 9]])\n",
        "print(arr_3)"
      ]
    },
    {
      "cell_type": "markdown",
      "metadata": {
        "id": "Kgp4wx3TN1Sd"
      },
      "source": [
        "To access a specific element, we provide the row and column indices within square brackets:"
      ]
    },
    {
      "cell_type": "code",
      "execution_count": null,
      "metadata": {
        "colab": {
          "base_uri": "https://localhost:8080/"
        },
        "id": "MnpUL3EXMsHd",
        "outputId": "85c37fc1-5098-4231-c4f4-496eafce6330"
      },
      "outputs": [],
      "source": [
        "print(arr_3[0, 1]) \n",
        "print(arr_3[2, 0]) "
      ]
    },
    {
      "cell_type": "markdown",
      "metadata": {
        "id": "lnPLtlCwN6dq"
      },
      "source": [
        "**Slicing in Higher Dimensional Arrays**\n",
        "\n",
        "To extract specific rows or columns, we use slicing on each dimension:"
      ]
    },
    {
      "cell_type": "code",
      "execution_count": null,
      "metadata": {
        "id": "Sh_9P4YMN2WV"
      },
      "outputs": [],
      "source": [
        "arr_3 = np.array([[1, 2, 3],\n",
        "                [4, 5, 6],\n",
        "                [7, 8, 9]])\n",
        "\n",
        "print(arr_3[1:3, :]) # Starting from the index 1 (inclusive) up to the index 3 (exclusive) along the rows. \":\" in the second dimension indicates that we want to select all columns.\n",
        "\n",
        "print(arr_3[:, 1:3]) "
      ]
    },
    {
      "cell_type": "markdown",
      "metadata": {
        "id": "BSgwjRgGOqSU"
      },
      "source": [
        "**3-Dimensional Array**"
      ]
    },
    {
      "cell_type": "code",
      "execution_count": null,
      "metadata": {
        "id": "_ZnPpUYjLG0n"
      },
      "outputs": [],
      "source": [
        "arr_4 = np.array([[[1, 2, 3],\n",
        "                 [4, 5, 6]],\n",
        "                \n",
        "                [[7, 8, 9],\n",
        "                 [10, 11, 12]]])\n",
        "\n",
        "# Accesses the element at index (0, 1, 2)\n",
        "print(arr_4[0, 1, 2])\n",
        "\n",
        "# Slices the array to include all 3-dimensional blocks, extracts the first row of each block\n",
        "print(arr_4[:, 0, :])"
      ]
    },
    {
      "cell_type": "markdown",
      "metadata": {},
      "source": [
        "## **Exercises**"
      ]
    },
    {
      "cell_type": "markdown",
      "metadata": {},
      "source": [
        "### Task 1 - Array Manipulation\n",
        "\n",
        "Create a Python program that takes a 1D NumPy array of size 10 with random integer values between 1 and 100 (inclusive) and performs the following operations:\n",
        "\n",
        "- Create the 1D array with the specified size.\n",
        "- Reshape the array into a 2x5 matrix.\n",
        "- Transpose the matrix.\n",
        "- Finally, find the index of the maximum value in the array."
      ]
    },
    {
      "cell_type": "code",
      "execution_count": null,
      "metadata": {},
      "outputs": [],
      "source": [
        "import numpy as np\n",
        "\n",
        "# Create a 1D array of size 10 with random integer values between 1 and 100\n",
        "arr = np.random.randint(1, 101, 10)\n",
        "\n",
        "# Reshape the array into a 2x5 matrix\n",
        "arr_reshaped = # Your code here\n",
        "\n",
        "# Transpose the matrix\n",
        "arr_transposed = # Your code here\n",
        "\n",
        "# Find the index of the maximum value in the array\n",
        "max_index = # Your code here\n",
        "\n",
        "# Print the original array\n",
        "print(f\"The original array:\\n{arr}\")\n",
        "\n",
        "# Print the reshaped array\n",
        "print(f\"The reshaped array:\\n{arr_reshaped}\")\n",
        "\n",
        "# Print the transposed array\n",
        "print(f\"The transposed array:\\n{arr_transposed}\")\n",
        "\n",
        "# Print the index of the maximum value\n",
        "print(f\"The index of the maximum value:\\n{max_index}\")\n"
      ]
    },
    {
      "cell_type": "markdown",
      "metadata": {},
      "source": [
        "### Task 2 - Standart Deviation Ratio (SDR)\n",
        "\n",
        "Implement a Python program that calculates the standard deviation ratio (SDR) of a given 1D NumPy array. SDR represents the ratio of the standard deviation of the positive elements to the standard deviation of the negative elements.\n",
        "\n",
        "- Create a 1D array of 100 random values.\n",
        "- Split the array into positive and negative elements.\n",
        "- Calculate the standard deviations of the positive and negative arrays.\n",
        "- Calculate the standard deviation ratio (SDR)."
      ]
    },
    {
      "cell_type": "code",
      "execution_count": null,
      "metadata": {},
      "outputs": [],
      "source": [
        "import numpy as np\n",
        "\n",
        "# Create a 1D array of 100 random values\n",
        "arr1 = # Your code here\n",
        "\n",
        "# Split the array into positive and negative elements\n",
        "positive_array = # Your code here\n",
        "negative_array = # Your code here\n",
        "\n",
        "# Calculate the standard deviations\n",
        "positive_std_dev = # Your code here\n",
        "negative_std_dev = # Your code here\n",
        "\n",
        "# Calculate the standard deviation ratio\n",
        "sdr = # Your code here\n",
        "\n",
        "# Print the original array\n",
        "print(f\"Array:\\n{arr1}\")\n",
        "\n",
        "# Print the positive array\n",
        "print(f\"The positive array:\\n{positive_array}\")\n",
        "\n",
        "# Print the negative array\n",
        "print(f\"The negative array:\\n{negative_array}\")\n",
        "\n",
        "# Print the standard deviation ratio\n",
        "print(f\"Standard Deviation Ratio:\\n{sdr}\")\n"
      ]
    },
    {
      "cell_type": "markdown",
      "metadata": {},
      "source": [
        "### Task 3 - Identity Matrix\n",
        "\n",
        "Create a 5x5 identity matrix and apply following operations on that matrix:\n",
        "\n",
        "- All diagonal elements are equal to 0.\n",
        "- The rest of the elements should be random integers between 0 and 50 (inclusive)."
      ]
    },
    {
      "cell_type": "code",
      "execution_count": null,
      "metadata": {},
      "outputs": [],
      "source": [
        "import numpy as np\n",
        "\n",
        "# Create a 5x5 identity matrix\n",
        "identity_matrix = # Your code here\n",
        "\n",
        "# Generate random integers between 0 and 50 (inclusive)\n",
        "random_integers = # Your code here\n",
        "\n",
        "# Replace the non-diagonal elements with random integers\n",
        "identity_matrix[~np.eye(5, dtype=bool)] = random_integers[~np.eye(5, dtype=bool)]\n",
        "\n",
        "print(identity_matrix)\n"
      ]
    },
    {
      "cell_type": "markdown",
      "metadata": {},
      "source": [
        "### Task 4 - Calculate the Euclidean distance between two arrays\n",
        "The Euclidean distance measures the straight-line distance between two points in space. In this task, you will calculate the Euclidean distance between two 1-dimensional arrays using the NumPy library.\n",
        "\n",
        "**Hint:** To calculate the Euclidean distance between the two arrays, we can use the np.linalg.norm() function. This function calculates the norm, which is a generalized form of the Euclidean distance, of the difference between the arrays:\n"
      ]
    },
    {
      "cell_type": "code",
      "execution_count": null,
      "metadata": {},
      "outputs": [],
      "source": [
        "import numpy as np\n",
        "\n",
        "# Create two 1-dimensional arrays\n",
        "arr1 = np.array([1, 2, 3])\n",
        "arr2 = np.array([4, 5, 6])\n",
        "\n",
        "# Calculate the difference between the two arrays\n",
        "difference = # Your code here\n",
        "\n",
        "# Calculate the Euclidean distance using the norm function from the linalg module\n",
        "distance = # Your code here\n",
        "\n",
        "# Print the calculated Euclidean distance\n",
        "print(\"Euclidean Distance:\", distance)"
      ]
    },
    {
      "cell_type": "markdown",
      "metadata": {},
      "source": [
        "### Task 5 - Performing Linear Algebra Operations\n",
        "Description: In this task, you will work with a randomly generated 2-dimensional matrix and perform linear algebra operations using NumPy. You will calculate the determinant of the matrix, compute its inverse, and verify that the product of the matrix and its inverse yields the identity matrix. This task provides an opportunity to explore fundamental linear algebra concepts using NumPy.\n",
        "\n",
        "1. Create a 2-dimensional matrix with shape (2, 2) and fill it with random integers between 1 and 9.\n",
        "2. Calculate the determinant of the matrix.\n",
        "3. Compute the inverse of the matrix.\n",
        "4. Multiply the matrix by its inverse.\n",
        "5. Print the final matrix."
      ]
    },
    {
      "cell_type": "code",
      "execution_count": null,
      "metadata": {},
      "outputs": [],
      "source": [
        "import numpy as np\n",
        "\n",
        "# Generate a random 2-dimensional matrix with shape (2, 2) and random integers between 1 and 9\n",
        "matrix = # Your code here\n",
        "\n",
        "# Calculate the determinant of the matrix\n",
        "determinant = # Your code here\n",
        "\n",
        "# Compute the inverse of the matrix\n",
        "inverse = # Your code here\n",
        "\n",
        "# Multiply the matrix by its inverse to obtain the identity matrix\n",
        "identity = # Your code here\n",
        "\n",
        "# Print the resulting identity matrix\n",
        "print(\"Identity Matrix:\\n\", identity)"
      ]
    },
    {
      "cell_type": "markdown",
      "metadata": {},
      "source": [
        "### Task 6.1 - Threshold crossing of an accumulated random array\n",
        "\n",
        "1. Generate a random 1-dimensional array of size 100 with values ranging from -4 to 9. \n",
        "2. Calculate the cumulative sum of the array and find the index where the cumulative sum exceeds 100 for the first time. \n",
        "3. Print the index of the threshold crossing.\n",
        "\n",
        "Do not change the cells for plotting."
      ]
    },
    {
      "cell_type": "code",
      "execution_count": null,
      "metadata": {},
      "outputs": [],
      "source": [
        "# this import seems weird but is actually quite handy.\n",
        "# We can give custom names to imported libraries and packages and thus make them more concise and/or shorter\n",
        "import numpy as np \n",
        "\n",
        "\n",
        "# Generate a random 1-dimensional array of size 100 with values ranging from -4 to 9\n",
        "arr = # Your code here"
      ]
    },
    {
      "cell_type": "code",
      "execution_count": null,
      "metadata": {},
      "outputs": [],
      "source": [
        "# In order to visualize computed results or numeric data in general we can use e.g. matplotlib.\n",
        "# Most common plotting methods can be found in its subpackage pyplot\n",
        "import matplotlib.pyplot as plt\n",
        "plt.plot(arr)\n",
        "plt.xlabel('Time [ms]')\n",
        "plt.ylabel('Signal [-]')\n",
        "plt.title('Noisy signal over time')\n",
        "plt.show()"
      ]
    },
    {
      "cell_type": "code",
      "execution_count": null,
      "metadata": {},
      "outputs": [],
      "source": [
        "# Calculate the cumulative sum of the array\n",
        "cumulative_sum = # Your code here"
      ]
    },
    {
      "cell_type": "code",
      "execution_count": null,
      "metadata": {},
      "outputs": [],
      "source": [
        "plt.plot(cumulative_sum)\n",
        "plt.xlabel('Time [ms]')\n",
        "plt.ylabel('Accumulated signal [-]')\n",
        "plt.title('Accumulated noisy signal over time')\n",
        "plt.show()"
      ]
    },
    {
      "cell_type": "code",
      "execution_count": null,
      "metadata": {},
      "outputs": [],
      "source": [
        "# Set the threshold value\n",
        "threshold = # Your code here"
      ]
    },
    {
      "cell_type": "code",
      "execution_count": null,
      "metadata": {},
      "outputs": [],
      "source": [
        "plt.plot(cumulative_sum, label='Accumulated signal')\n",
        "plt.plot(np.ones_like(cumulative_sum)*threshold, color='tab:red', linestyle='--', label='Threshold')\n",
        "plt.xlabel('Time [ms]')\n",
        "plt.ylabel('Accumulated signal [-]')\n",
        "plt.title('Accumulated noisy signal and threshold over time')\n",
        "plt.legend()\n",
        "plt.show()"
      ]
    },
    {
      "cell_type": "code",
      "execution_count": null,
      "metadata": {},
      "outputs": [],
      "source": [
        "# Find the index where the cumulative sum first exceeds the threshold\n",
        "index = # Your code here"
      ]
    },
    {
      "cell_type": "code",
      "execution_count": null,
      "metadata": {},
      "outputs": [],
      "source": [
        "# Print the index where the cumulative sum exceeds the threshold\n",
        "print(\"Index where cumulative sum exceeds\", threshold, \":\", index)"
      ]
    },
    {
      "cell_type": "code",
      "execution_count": null,
      "metadata": {},
      "outputs": [],
      "source": [
        "time_crossing = np.argwhere(cumulative_sum > threshold)[0]\n",
        "plt.plot(cumulative_sum, label='Accumulated signal')\n",
        "plt.plot(np.ones_like(cumulative_sum)*threshold, color='tab:red', linestyle='--', label='Threshold')\n",
        "plt.axvline(time_crossing, color='tab:orange', linestyle='--', label='Threshold crossing')\n",
        "plt.xlabel('Time [ms]')\n",
        "plt.ylabel('Accumulated signal [-]')\n",
        "plt.title(f'Accumulated noisy signal crosses threshold at {time_crossing} ms')\n",
        "plt.legend()\n",
        "plt.show()"
      ]
    },
    {
      "cell_type": "markdown",
      "metadata": {},
      "source": [
        "Congratulations! You maybe did not notice that but you solved already a pretty \"cog-sci\" type of task! \n",
        "\n",
        "This type of threshold crossing by a randomly accumulated signal is used in sequential sampling models (more precise: evidence-accumulation models) to determine reaction times in e.g. two-alternative forced choice tasks - a perceptual decision-making task. \n",
        "\n",
        "Here, the signal values are the perceived evidence $dx$ at each time step $dt$ of a specific width e.g. $dt=0.01\\text{s}$. \n",
        "By accumulating the evidence values at each time step you get the total evidence $x = \\sum dx$. \n",
        "And whenever the total evidence crosses a decision boundary (i.e. threshold) $|x| > b$, you can compute a reaction time $t_{reaction}$.\n",
        "\n",
        "With that knowledge we can set up a sequential sampling model and observe the collected reaction times of our model! Let's do that in the next section."
      ]
    },
    {
      "cell_type": "markdown",
      "metadata": {},
      "source": [
        "### Task 6.2 - Evidence-accumulation modeling\n",
        "\n",
        "In the research of perceptual decision-making, one popular hypothesis is that humans decide according to the process of evidence-accumulation.\n",
        "\n",
        "#### Evidence-accumulation\n",
        "Evidence-accumulation is investigated through [two-alternative forced choice experiments](\n",
        "https://en.wikipedia.org/wiki/Two-alternative_forced_choice#) where subjects have to decide within an instant between two response possibilities given the presented evidence. One of these two possibilities is the right one.\n",
        "\n",
        "Example:\n",
        "\n",
        "Imagine you have 2 seconds to decide whether the following image contains more orange or blue tiles. The presented tiles can be seen as the evidence stimulus:\n",
        "\n",
        "![two-alternative forced choice experiment](resources/example_2AFC.png)\n",
        "\n",
        "A response time distribution for such an experiment could look like this:\n",
        "\n",
        "![response time distribution](resources/rt_dist_2AFC.png)\n",
        "\n",
        "Here, you can see on the negative x-axis the response time distribution if the choice was *orange* and on the positive x-axis the distribution if the choice was *blue*.\n",
        "\n",
        "#### The evidence-accumulation model as drift-diffusion process\n",
        "One popular model that describes the evidence-accumulation process is the drift-diffusion model.\n",
        "The model consists of two components defining the perceived evidence at each time step:\n",
        "1. the drift rate $\\mu$\n",
        "2. the diffusion rate $\\sigma$   \n",
        "\n",
        "The drift rate $\\mu$ describes the directed part of the accumulation which is mostly influenced by the evidence stimulus. In the terms of our experiment this would be influenced by the ratio of blue tiles, i.e. the more blue tiles, the higher the drift rate would be.\n",
        "\n",
        "The diffusion rate, on the other hand, describes random processes going on in our brain. The higher this number is, the more noise will be observed in the decisions, e.g. more wrong decisions.\n",
        "\n",
        "Summarized this model can be described within this equation:\n",
        "\n",
        "$x_\\text{t+1} = x_\\text{t} + dx$\n",
        "\n",
        "where $x_\\text{t}$ is the accumulated evidence at time $t$, $x_\\text{t+1}$ is the updated evidence at the next timestep $t+1$ and $dx$ is the evidence update over one time step $dt$ with\n",
        "\n",
        "$dx = \\mu + \\sigma .$\n",
        " \n",
        "A decision is taken by the model when the accumulated evidence $x$ crosses one of the two thresholds $\\pm b$ corresponding to the two choice possibilities with $x > +b$ for choice $1$ or $x < -b$ for choice $0$.   \n",
        "The accumulated time represents then the response time needed to decide for one of the two possibilities given the presented evidence.\n",
        "\n",
        "With this model perceptual decision-making researchers are able to recover response times for particular experiments quite well.\n",
        "\n",
        "We want to implement this model with Numpy and track these evidence traces over the time.\n",
        "\n",
        "The evidence-accumulation process is basically nothing else then calculating the cumulative sum for each time step and finding the time $t$ when a certain point (threshold) is exceeded.\n",
        "\n",
        "You don't have to define a specific experiment. By simply setting the drift rate to e.g. $\\mu = 1$ you will already have defined a specific experiment setup.\n",
        "\n",
        "Parameterize your model that the average response time for either possibility is around $200$ ms.\n",
        "Calculate some characteristics of your generated data like: \n",
        "- mean response time\n",
        "- response times standard deviation\n",
        "- the ratio between the taken decisions etc. \n",
        "\n",
        "Start by defining some characteristics like the time step $dt=1$ (ms) and the single components of the model.   \n",
        "Go then to defining the procedure defining the actual evidence-accumulation.   \n",
        "Finally, retrieve evidence traces and the response times when one of the thresholds is crossed and stop the accumulation at that point.   \n",
        "\n",
        "Write your code in the following cell.\n",
        "Save your results in a 2D array of the shape (trial, maximum number of time steps) to plot them with the provided code below.\n",
        "\n",
        "*Hint: Since drift diffusion models end up with evidence traces of different lengths, you have to define a storage for the evidence traces e.g. a matrix full of zeros where the second dimension corresponds to the maximum number of time steps. If that number of time steps is exceeded simply start with the next trial.*"
      ]
    },
    {
      "cell_type": "markdown",
      "metadata": {},
      "source": [
        "Let's define the experiment parameters first"
      ]
    },
    {
      "cell_type": "code",
      "execution_count": null,
      "metadata": {},
      "outputs": [],
      "source": [
        "# Experiment parameters\n",
        "\n",
        "n_trials = 1000\n",
        "stimulus_intensity = 0.5 # should be scaled between -1 and 1 (e.g.: -1 -> 90% orange tiles; 1 -> 90% blue tiles)\n",
        "max_time = 2000 # unit: ms"
      ]
    },
    {
      "cell_type": "markdown",
      "metadata": {},
      "source": [
        "Now we are going to define the parameters of our cognitive model"
      ]
    },
    {
      "cell_type": "code",
      "execution_count": null,
      "metadata": {},
      "outputs": [],
      "source": [
        "# model parameters\n",
        "\n",
        "threshold = 500.0\n",
        "mu = stimulus_intensity\n",
        "sigma = 20"
      ]
    },
    {
      "cell_type": "markdown",
      "metadata": {},
      "source": [
        "Let's set up a function which samples the perceived evidence for one step $dx$.\n",
        "\n",
        "*Hint: $mu$ has to be scaled (multiplied) with the time step size $dt = 1 / t_{max}$*\n",
        "\n",
        "Remember the equations from above!"
      ]
    },
    {
      "cell_type": "code",
      "execution_count": null,
      "metadata": {},
      "outputs": [],
      "source": [
        "# sampling perceived evidence at one time step\n",
        "def sample_evidence_dx(mu, sigma):\n",
        "    \n",
        "    dx = None\n",
        "    \n",
        "    # add your code here\n",
        "    \n",
        "    return dx"
      ]
    },
    {
      "cell_type": "markdown",
      "metadata": {},
      "source": [
        "Now we are going to define another function performing the evidence accumulation process.\n",
        "\n",
        "This function should return the accumulated evidence $x$ as well as the reaction time $t_{reaction}$.\n",
        "\n",
        "The evidence accumulation should take place until the evidence $x$ reaches either the positive (blue) decision boundary or the negative (orange) decision boundary. (keyword: loop) \n",
        "\n",
        "Consider two criteria to finish the process:\n",
        "1. Reaching the time-limit\n",
        "2. Crossing one of the decision boundaries"
      ]
    },
    {
      "cell_type": "code",
      "execution_count": null,
      "metadata": {},
      "outputs": [],
      "source": [
        "def evidence_accumulation(mu, sigma, threshold, max_time):\n",
        "    \n",
        "    x = 0  # starting point\n",
        "    t_reaction = None  # reaction time\n",
        "    \n",
        "    for index_step in range(max_time):\n",
        "        \n",
        "        dx = sample_evidence_dx(mu, sigma)\n",
        "        \n",
        "        # add your code here\n",
        "    \n",
        "    return x, t_reaction"
      ]
    },
    {
      "cell_type": "markdown",
      "metadata": {},
      "source": [
        "And now let's set up the whole experiment to collect `n_trials` reaction times and sort them into either *orange* or *blue* decisions.\n",
        "\n",
        "Bare in mind that exceeding the time limit and thus not reaching any decision boundary in time leads to no decision at all. \n",
        "Hence, these trials should be ignored."
      ]
    },
    {
      "cell_type": "code",
      "execution_count": null,
      "metadata": {},
      "outputs": [],
      "source": [
        "orange_decisions = []\n",
        "blue_decisions = []\n",
        "\n",
        "for trial in range(n_trials):\n",
        "    \n",
        "    x, t_reaction = evidence_accumulation(mu, sigma, threshold, max_time)\n",
        "    \n",
        "    # add you code here"
      ]
    },
    {
      "cell_type": "markdown",
      "metadata": {},
      "source": [
        "Let's inspect how the observed reaction times look like!\n",
        "\n",
        "We are going to use histograms for that (as already shown in the task description above)!"
      ]
    },
    {
      "cell_type": "code",
      "execution_count": null,
      "metadata": {},
      "outputs": [],
      "source": [
        "# do not change this code\n",
        "# plot a histogram of the response times\n",
        "orange_decisions = -1*np.array(orange_decisions) if np.mean(orange_decisions) > 0 else np.array(orange_decisions)\n",
        "blue_decisions = np.array(blue_decisions)\n",
        "\n",
        "t_reaction_simulated = np.concatenate((blue_decisions, orange_decisions))\n",
        "\n",
        "plt.hist(t_reaction_simulated, bins=50, density=True, alpha=0.5, range=(-max_time, max_time), color='tab:red')\n",
        "plt.xlabel('response times [ms]')\n",
        "plt.ylabel('frequency')\n",
        "plt.title('Histogram of response times')\n",
        "plt.show()"
      ]
    },
    {
      "cell_type": "markdown",
      "metadata": {},
      "source": [
        "Is the reaction time distribution looking similar to the one from the example above?\n",
        "\n",
        "Change some parameters to investigate their effects."
      ]
    },
    {
      "cell_type": "markdown",
      "metadata": {},
      "source": [
        "In the next section we are going to load the (synthetic) response time data from a csv-file and compare it to our simulated data.\n",
        "\n",
        "Can you adjust your model in such a way that these two distributions overlap as good as possible?\n",
        "\n",
        "*Hint: the response times in the csv-file are in seconds (instead of milliseconds)!*"
      ]
    },
    {
      "cell_type": "code",
      "execution_count": null,
      "metadata": {},
      "outputs": [],
      "source": [
        "# load the real response times from the file 'response_times.csv'\n",
        "t_reaction_data = # add your code here"
      ]
    },
    {
      "cell_type": "code",
      "execution_count": null,
      "metadata": {},
      "outputs": [],
      "source": [
        "# Do not modify the code below\n",
        "# plot a histogram of the response times\n",
        "plt.hist(t_reaction_data, bins=50, density=True, alpha=0.5, label='data')\n",
        "plt.hist(t_reaction_simulated, bins=50, density=True, alpha=0.5, label='simulated', color='tab:red')\n",
        "plt.xlabel('response times [seconds]')\n",
        "plt.ylabel('density')\n",
        "plt.title('Histogram of response times')\n",
        "plt.legend()\n",
        "plt.show()"
      ]
    }
  ],
  "metadata": {
    "colab": {
      "provenance": []
    },
    "kernelspec": {
      "display_name": "rl",
      "language": "python",
      "name": "python3"
    },
    "language_info": {
      "codemirror_mode": {
        "name": "ipython",
        "version": 3
      },
      "file_extension": ".py",
      "mimetype": "text/x-python",
      "name": "python",
      "nbconvert_exporter": "python",
      "pygments_lexer": "ipython3",
      "version": "3.11.10"
    }
  },
  "nbformat": 4,
  "nbformat_minor": 0
}
