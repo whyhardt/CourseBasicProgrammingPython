{
  "nbformat": 4,
  "nbformat_minor": 0,
  "metadata": {
    "colab": {
      "provenance": []
    },
    "kernelspec": {
      "name": "python3",
      "display_name": "Python 3"
    },
    "language_info": {
      "name": "python"
    }
  },
  "cells": [
    {
      "cell_type": "markdown",
      "source": [
        "# **Basic Programming in Python**\n",
        "\n",
        "## Summer Semester 2023\n",
        "\n",
        "### Tutorial - 30.05.2023"
      ],
      "metadata": {
        "id": "YTfxUnIQWLIE"
      }
    },
    {
      "cell_type": "markdown",
      "source": [
        "### **More on Data Structures in Python**\n",
        "\n",
        "**1. Tuples**\n",
        "\n",
        "Tuples are **ordered** collections to store different types of elements such as numbers and integers.\n",
        "\n",
        "Tuples are **unchangeable** which means their values cannot be changed and thus, they are especially useful when you want to store data that should not be modofied.\n",
        "\n",
        "Tuples are created by using round brackets `()` and they allow duplicates.\n"
      ],
      "metadata": {
        "id": "Gtii1CTbWobq"
      }
    },
    {
      "cell_type": "code",
      "source": [
        "my_cool_tuple = (\"Apple\", 25, 3.14)\n",
        "\n",
        "print(type(my_cool_tuple))"
      ],
      "metadata": {
        "id": "f3StQZFGaJoM"
      },
      "execution_count": null,
      "outputs": []
    },
    {
      "cell_type": "markdown",
      "source": [
        "You can access elements in a tuple by indexing."
      ],
      "metadata": {
        "id": "FBP0tTB_aqlU"
      }
    },
    {
      "cell_type": "code",
      "source": [
        "print(my_cool_tuple[2])"
      ],
      "metadata": {
        "id": "UehwY8WVau-x"
      },
      "execution_count": null,
      "outputs": []
    },
    {
      "cell_type": "markdown",
      "source": [
        "Can you count how many times the number **2** occurs in the following tuple?"
      ],
      "metadata": {
        "id": "3rtYIrQybawI"
      }
    },
    {
      "cell_type": "code",
      "source": [
        "numbers = (1, 2, 3, 2, 4, 2, 5, 2, 2, 9)\n",
        "print(numbers.count(2))"
      ],
      "metadata": {
        "id": "3YiFJwrJbgVW"
      },
      "execution_count": null,
      "outputs": []
    },
    {
      "cell_type": "markdown",
      "source": [
        "Let's create a tuple called \"my_tuple\" with duplicate elements (1, 2, 2, 3, 4, 4, 4, 5) and then remove all duplicates and print the resulting tuple."
      ],
      "metadata": {
        "id": "iXFd6DwQcUbj"
      }
    },
    {
      "cell_type": "code",
      "source": [
        "my_tuple = (1, 2, 2, 3, 4, 4, 4, 5) \n",
        "unique_tuple = tuple(set(my_tuple))\n",
        "print(unique_tuple)"
      ],
      "metadata": {
        "id": "ZmOlFjUwceq5"
      },
      "execution_count": null,
      "outputs": []
    },
    {
      "cell_type": "markdown",
      "source": [
        "We can perform operations on tuples such as concatenation and repetition."
      ],
      "metadata": {
        "id": "rtYWBicHbapV"
      }
    },
    {
      "cell_type": "code",
      "source": [
        "tuple1 = (1, 2, 3)\n",
        "tuple2 = (4, 5, 6)\n",
        "\n",
        "# Tuple Concatenation\n",
        "concatenated_tuple = tuple1 + tuple2\n",
        "print(concatenated_tuple)  \n",
        "\n",
        "# Tuple Repetition\n",
        "repeated_tuple = tuple1 * 3\n",
        "print(repeated_tuple)  "
      ],
      "metadata": {
        "id": "rZ560o87bgS0"
      },
      "execution_count": null,
      "outputs": []
    },
    {
      "cell_type": "markdown",
      "source": [
        "If tuples are unchangeable, is there a way to change their values somehow?\n",
        "\n",
        "- First, convert the tuple to a list.\n",
        "- Then, use indexing to adjust values.\n",
        "- Finally, convert it back to the tuple."
      ],
      "metadata": {
        "id": "eXVR4d_ZL3g2"
      }
    },
    {
      "cell_type": "code",
      "source": [
        "fruits = (\"apple\", \"banana\", \"cherry\", \"durian\")\n",
        "\n",
        "# Convert the tuple to a list to allow modification\n",
        "fruit_list = list(fruits)\n",
        "fruit_list[index] = \"new name\" \n",
        "\n",
        "# Convert the list back to a tuple\n",
        "fruits = tuple(fruit_list)\n",
        "\n",
        "print(\"Updated fruits:\", fruits)"
      ],
      "metadata": {
        "id": "ngKCudG3QtYH"
      },
      "execution_count": null,
      "outputs": []
    },
    {
      "cell_type": "markdown",
      "source": [
        "**2. Sets**\n",
        "\n",
        "Sets are **unordered** collections of **unique** elements. They can also store different types of data like tuples.\n",
        "\n",
        "Contrary to tuples, sets do not allow for duplicate values and they are **changeable**.\n",
        "\n",
        "Sets are created by using curly braces `{}`."
      ],
      "metadata": {
        "id": "fPQQjri_csEZ"
      }
    },
    {
      "cell_type": "code",
      "source": [
        "my_cool_set = {\"Cherry\", 1, 2, 3, 25.5}\n",
        "print(type(my_cool_set))"
      ],
      "metadata": {
        "id": "-PFR1yzPfI5H"
      },
      "execution_count": null,
      "outputs": []
    },
    {
      "cell_type": "code",
      "source": [
        "set_1 = {\"Apple\", \"Banana\", \"Cherry\", \"Apple\"}\n",
        "\n",
        "print(set_1) # Duplicate values are ignored."
      ],
      "metadata": {
        "id": "xDm5h5Z9ftmR"
      },
      "execution_count": null,
      "outputs": []
    },
    {
      "cell_type": "markdown",
      "source": [
        "Once a set is created, you cannot change its items, but you can add new items.\n",
        "\n",
        "To add one item to a set use the `add() `method."
      ],
      "metadata": {
        "id": "KuJR-8lQTTQC"
      }
    },
    {
      "cell_type": "code",
      "source": [
        "my_set = set()\n",
        "for _ in range(5):\n",
        "    item = input(\"Enter an item: \")\n",
        "    my_set.add(item)\n",
        "  \n",
        "  # Print the final set\n",
        "print(\"Final Set:\", my_set)"
      ],
      "metadata": {
        "id": "Pvgq84cwUEoS"
      },
      "execution_count": null,
      "outputs": []
    },
    {
      "cell_type": "markdown",
      "source": [
        "In this task, the program creates an empty set `my_set`. It prompts the user to enter five items and adds each item to the set using the `add() `method. Finally, it prints the final set after adding all the items. This task demonstrates how to add items to a set using the `add()` method, allowing you to dynamically update the set with new elements."
      ],
      "metadata": {
        "id": "bk8vCeixU1eZ"
      }
    },
    {
      "cell_type": "markdown",
      "source": [
        "We can remove elements from a set using the `remove()` or `discard()` methods."
      ],
      "metadata": {
        "id": "KTUV3IsfZ7AP"
      }
    },
    {
      "cell_type": "code",
      "source": [
        "fruits = {\"Apple\", \"Banana\", \"Orange\",\"Kiwi\",\"Grapes\"}\n",
        "fruits.remove(\"Banana\") # Raises a KeyError in case the item is not present in the given set\n",
        "print(fruits)  \n",
        "\n",
        "fruits.discard(\"Kiwi\")  # Raises no errors in case the item is not present in the given set\n",
        "print(fruits) "
      ],
      "metadata": {
        "id": "FNRjFX7saTJQ"
      },
      "execution_count": null,
      "outputs": []
    },
    {
      "cell_type": "markdown",
      "source": [
        "Sets support mathematical set operations like union, intersection, and difference.\n",
        "\n",
        "Given the `utensils` and `dishes` sets below, create a new set named `dinner_table` that containts both sets."
      ],
      "metadata": {
        "id": "cQQBsT0UgRbe"
      }
    },
    {
      "cell_type": "code",
      "source": [
        "utensils = {\"Fork\", \"Spoon\", \"Knife\"}\n",
        "dishes = {\"Bowl\", \"Plate\", \"Cup\", \"Knife\"}\n",
        "\n",
        "dinner_table = utensils.union(dishes)\n",
        "print(dinner_table)"
      ],
      "metadata": {
        "id": "F2NcNOrNhG3U"
      },
      "execution_count": null,
      "outputs": []
    },
    {
      "cell_type": "markdown",
      "source": [
        "Now print the different and common elements of `utensils `and `dishes` sets."
      ],
      "metadata": {
        "id": "if50dGvKhzPX"
      }
    },
    {
      "cell_type": "code",
      "source": [
        "print(utensils.difference(dishes))\n",
        "\n",
        "print(utensils.intersection(dishes))"
      ],
      "metadata": {
        "id": "Ixj1GWqriBAJ"
      },
      "execution_count": null,
      "outputs": []
    },
    {
      "cell_type": "markdown",
      "source": [
        "**3. Dictionaries**\n",
        "\n",
        "Dictionaries are **key-value** pairs enclosed in curly braces `{}` to store data.\n",
        "\n",
        "Each key-value pair in a dictionary is separated by a colon `:`.\n",
        "\n",
        "It is possible to access the values in a dictionary by using the specified key.\n",
        "\n",
        "They are **changeable**, so you can add, modify and remove key-value pairs.\n",
        "\n",
        "**Duplicates are not allowed** -- Dictionaries cannot have two items with the same key."
      ],
      "metadata": {
        "id": "AolWC-1xiQAX"
      }
    },
    {
      "cell_type": "markdown",
      "source": [
        "**Creating an Empty Dictionary**\n",
        "\n",
        "\n",
        "\n"
      ],
      "metadata": {
        "id": "Y2EwO9VlWej2"
      }
    },
    {
      "cell_type": "code",
      "source": [
        "empty_dict1 = {}\n",
        "print(empty_dict1)  # Output: {}\n",
        "\n",
        "empty_dict2 = dict()\n",
        "print(empty_dict2)  # Output: {}"
      ],
      "metadata": {
        "id": "qE3mTjFuXu6X"
      },
      "execution_count": null,
      "outputs": []
    },
    {
      "cell_type": "markdown",
      "source": [
        "Create a dictionary with initial values by enclosing the key-value pairs in curly braces `{}`. Separate each key-value pair with a colon `:` and separate multiple pairs with commas."
      ],
      "metadata": {
        "id": "WzRHGcLTXwRh"
      }
    },
    {
      "cell_type": "code",
      "source": [
        "capitals = {\"USA\": \"Washington DC\",\n",
        "            \"China\": \"beijing\",\n",
        "            \"India\": \"New Delhi\"}\n",
        "\n",
        "print(type(capitals))"
      ],
      "metadata": {
        "id": "VHFMU5TYj3Cq"
      },
      "execution_count": null,
      "outputs": []
    },
    {
      "cell_type": "markdown",
      "source": [
        "Can you update the given dictionary by adding **Germany** as a key and **Berlin** as a value?"
      ],
      "metadata": {
        "id": "cD5F5NqekW2C"
      }
    },
    {
      "cell_type": "code",
      "source": [
        "capitals.update({\"Germany\": \"Berlin\"})\n",
        "print(capitals)"
      ],
      "metadata": {
        "id": "SnV2RJpjkftc"
      },
      "execution_count": null,
      "outputs": []
    },
    {
      "cell_type": "markdown",
      "source": [
        "**You can modify the existing values in the dictionary by using keys as follows:**"
      ],
      "metadata": {
        "id": "n5nZ3Updik6H"
      }
    },
    {
      "cell_type": "markdown",
      "source": [
        "- Change the value of **25** into **30** by accessing its key `age`:"
      ],
      "metadata": {
        "id": "vbtmal6ciCl9"
      }
    },
    {
      "cell_type": "code",
      "source": [
        "my_dict = {\"Name\": \"John\", \"Age\": 25, \"City\": \"New York\"}\n",
        "my_dict[\"Age\"] = 30\n",
        "print(my_dict[\"Age\"]) "
      ],
      "metadata": {
        "id": "SPXuQATYT9m9"
      },
      "execution_count": null,
      "outputs": []
    },
    {
      "cell_type": "markdown",
      "source": [
        "- Now try to change the value of **USA** into **Las Vegas** by using `update` method:"
      ],
      "metadata": {
        "id": "HsmB2kX-k-tB"
      }
    },
    {
      "cell_type": "code",
      "source": [
        "capitals.update({\"USA\": \"Las Vegas\"})\n",
        "print(capitals)"
      ],
      "metadata": {
        "id": "Cyzwx1GvlJ81"
      },
      "execution_count": null,
      "outputs": []
    },
    {
      "cell_type": "markdown",
      "source": [
        "Remove **India** from the dictionary:"
      ],
      "metadata": {
        "id": "fJHMWRPZlQ3V"
      }
    },
    {
      "cell_type": "code",
      "source": [
        "capitals.pop(\"India\")\n",
        "print(capitals)"
      ],
      "metadata": {
        "id": "1h5jfNY1lSY0"
      },
      "execution_count": null,
      "outputs": []
    },
    {
      "cell_type": "markdown",
      "source": [
        "Removing key-value pairs with `del`:"
      ],
      "metadata": {
        "id": "ulvHRKpdY6Hw"
      }
    },
    {
      "cell_type": "code",
      "source": [
        "del capitals[\"Germany\"]\n",
        "print(capitals)"
      ],
      "metadata": {
        "id": "PqiT3HhNZDBu"
      },
      "execution_count": null,
      "outputs": []
    },
    {
      "cell_type": "markdown",
      "source": [
        "Adding new key-value pairs:"
      ],
      "metadata": {
        "id": "NHd2PekWYSiC"
      }
    },
    {
      "cell_type": "code",
      "source": [
        "capitals[\"Iran\"] = \"Tahran\"\n",
        "print(capitals)"
      ],
      "metadata": {
        "id": "vDpsiu6YYT5-"
      },
      "execution_count": null,
      "outputs": []
    },
    {
      "cell_type": "markdown",
      "source": [
        "Iterating through a dictionary with a for loop:\n",
        "\n",
        "**Note:** Check how to print key-value pairs by using a for loop."
      ],
      "metadata": {
        "id": "oppcxVW1jK9O"
      }
    },
    {
      "cell_type": "code",
      "source": [
        "my_dict = {\"Name\": \"John\", \"Age\": 25, \"City\": \"New York\"}\n",
        "\n",
        "for key in my_dict:\n",
        "    print(key, \": \", my_dict[key])"
      ],
      "metadata": {
        "id": "yfz8NQ5WWLB6"
      },
      "execution_count": null,
      "outputs": []
    },
    {
      "cell_type": "markdown",
      "source": [
        "## **Important Note**\n",
        "\n",
        "## You are required to search more about the topic and their relevant methods since they will be included in the assignments. :)"
      ],
      "metadata": {
        "id": "jy3ZKVlhln6O"
      }
    },
    {
      "cell_type": "markdown",
      "source": [
        "### **Recall on functions and classes**"
      ],
      "metadata": {
        "id": "orxYqbhxGxjc"
      }
    },
    {
      "cell_type": "markdown",
      "source": [
        "**1.** Create a function to return `True` if the first and last number of a given list is the same. If numbers are different then return `False`."
      ],
      "metadata": {
        "id": "SYptHOawG5NS"
      }
    },
    {
      "cell_type": "code",
      "source": [
        "def check_nums(numlist):\n",
        "  print(f\"The given list ist {numlist},\")\n",
        "\n",
        "  first_num = numlist[0]\n",
        "  last_num = numlist[-1]\n",
        "\n",
        "  if first_num == last_num:\n",
        "    return True\n",
        "  else:\n",
        "    return False\n",
        "\n",
        "numbers_1 = [10, 20, 30, 40, 10]\n",
        "print(\"The result is\", check_nums(numbers_1))\n",
        "\n",
        "numbers_2 = [75, 65, 35, 75, 30]\n",
        "print(\"The result is\", check_nums(numbers_2))"
      ],
      "metadata": {
        "id": "dhIrd5TJHKc8"
      },
      "execution_count": null,
      "outputs": []
    },
    {
      "cell_type": "markdown",
      "source": [
        "**2.** Create a class called `Playlist`. The class should have attributes for the **playlist name** and **a list of songs**. \n",
        "\n",
        "Implement methods to **add a song**, **remove a song**, **shuffle the playlist**, and **play the playlist** at the end (display all songs in order)."
      ],
      "metadata": {
        "id": "igBKNp9YO0xh"
      }
    },
    {
      "cell_type": "code",
      "source": [
        "import random\n",
        "\n",
        "class Playlist:\n",
        "    def __init__(self, name):\n",
        "        self.name = name\n",
        "        self.songs = []\n",
        "\n",
        "    def add_song(self, song):\n",
        "        self.songs.append(song)\n",
        "\n",
        "    def remove_song(self, song):\n",
        "        if song in self.songs:\n",
        "            self.songs.remove(song)\n",
        "\n",
        "    def shuffle(self):\n",
        "        random.shuffle(self.songs)\n",
        "\n",
        "    def play(self):\n",
        "        print(\"Playlist:\", self.name)\n",
        "        for song in self.songs:\n",
        "            print(song)\n",
        "\n",
        "my_playlist = Playlist(\"My Favorite Songs\")\n",
        "my_playlist.add_song(\"Song 1\")\n",
        "my_playlist.add_song(\"Song 2\")\n",
        "my_playlist.add_song(\"Song 3\")\n",
        "my_playlist.shuffle()\n",
        "my_playlist.play()"
      ],
      "metadata": {
        "id": "sBBRZDemOnZH"
      },
      "execution_count": null,
      "outputs": []
    },
    {
      "cell_type": "markdown",
      "source": [
        "**3.** A leap year is a year that contains February 29th. There are certain conditions to check whether a year is a leap year or not:\n",
        "\n",
        "- A year that is divisible by 4 is a leap year (e.g., 2020).\n",
        "- A year that is divisible by 100 is not a leap year unless it is also divisible by 400 (e.g., 2000).\n",
        "\n",
        "Create a class called `LeapYearChecker` that includes a method called `is_leap_year` that takes a year as an integer as a parameter. The method should be able to return True if the given year is a leap year and False otherwise."
      ],
      "metadata": {
        "id": "8sHkk_vJbL7x"
      }
    },
    {
      "cell_type": "code",
      "source": [
        "class LeapYearChecker():\n",
        "    def is_leap_year(self, year):\n",
        "        if year % 4 == 0:\n",
        "            if year % 100 == 0:\n",
        "                if year % 400 == 0:\n",
        "                    return True\n",
        "                else:\n",
        "                    return False\n",
        "            else:\n",
        "                return True\n",
        "        else:\n",
        "            return False\n",
        "    \n",
        "# Instance of the LeapYearChecker class\n",
        "year_checker = LeapYearChecker()\n",
        "\n",
        "# Calling the is_leap_year method to check if a year is a leap year or not\n",
        "print(year_checker.is_leap_year(2000))"
      ],
      "metadata": {
        "id": "S6qKHQPDbWMz"
      },
      "execution_count": null,
      "outputs": []
    }
  ]
}