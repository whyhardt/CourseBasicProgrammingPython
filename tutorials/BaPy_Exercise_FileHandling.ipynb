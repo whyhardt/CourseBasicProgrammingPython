{
 "cells": [
  {
   "cell_type": "markdown",
   "metadata": {},
   "source": [
    "# **Basic Programming in Python**\n",
    "\n",
    "## Summer Term 2024\n",
    "\n",
    "### Additional exercise on handling files and saving results"
   ]
  },
  {
   "cell_type": "markdown",
   "metadata": {},
   "source": [
    "When working on datasets, you don't really want to start copy-pasting all the values from your dataset into your code.\n",
    "You neither want to copy-paste all your values from a terminal or the Jupyter notebook output section into a csv-file to store that data for later usage.\n",
    "\n",
    "At this point we have to get comfortable with file handling.\n",
    "\n",
    "The goal of this exercise is to make you fit on this topic - but since you are by now a proficient coder, you won't get so much information on that 😎\n",
    "\n",
    "It is really important to learn to navigate yourself through the countless resources which are available at the tips of your fingers aka the internet.   \n",
    "Remember, the soft skills for coders section. You already saw how one can get a good insight into a coding topic through the help of e.g. forums.\n",
    "\n",
    "PS: Do yourself a favor and don't use ChatGPT for that exercise.   \n",
    "As already mentioned before: It's a powerful tool one can and should use to be more productive while coding.   \n",
    "But do so while learning basically anything, you will get the backlash sooner or later.\n",
    "May it be in terms of: \n",
    "- lack of knowledge in general\n",
    "- not being able to manage the delivered results well\n",
    "- most critical: trusting blindly a failure-prone software"
   ]
  }
 ],
 "metadata": {
  "kernelspec": {
   "display_name": "pymc",
   "language": "python",
   "name": "python3"
  },
  "language_info": {
   "codemirror_mode": {
    "name": "ipython",
    "version": 3
   },
   "file_extension": ".py",
   "mimetype": "text/x-python",
   "name": "python",
   "nbconvert_exporter": "python",
   "pygments_lexer": "ipython3",
   "version": "3.11.8"
  }
 },
 "nbformat": 4,
 "nbformat_minor": 2
}
