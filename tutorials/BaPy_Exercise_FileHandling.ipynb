{
 "cells": [
  {
   "cell_type": "markdown",
   "metadata": {},
   "source": [
    "# **Basic Programming in Python**\n",
    "\n",
    "## Summer Term 2025\n",
    "\n",
    "### Additional exercise on handling files and saving results"
   ]
  },
  {
   "cell_type": "markdown",
   "metadata": {},
   "source": [
    "When working on datasets, you don't really want to start copy-pasting all the values from your dataset into your code.\n",
    "You neither want to copy-paste all your values from a terminal or the Jupyter notebook output section into a csv-file to store that data for later usage.\n",
    "\n",
    "At this point we have to get comfortable with file handling.\n",
    "\n",
    "The goal of this exercise is to make you fit on this topic - but since you are by now a proficient coder, you won't get so much information on that 😎\n",
    "\n",
    "Jokes aside..\n",
    "\n",
    "It is really important to learn to navigate yourself through the countless resources which are available at the tips of your fingers aka the internet.   \n",
    "Remember the soft skills for coders section. You already saw how one can get a good insight into a coding topic through the help of e.g. forums.\n",
    "\n",
    "PS: Do yourself a favor and don't use ChatGPT for that exercise.   \n",
    "As already mentioned before: It's a powerful tool which a coder can and should use to spend less time being stuck in language-related problems and more spend more time being creative.   \n",
    "But if you do so while learning basically anything, you will get the backlash sooner or later.\n",
    "May it be in terms of: \n",
    "- lack of knowledge in general\n",
    "- not being able to manage the delivered results well\n",
    "- most critical: trusting blindly a failure-prone software\n",
    "\n",
    "But enough talking. Let's get our hands dirty!"
   ]
  },
  {
   "cell_type": "markdown",
   "metadata": {},
   "source": [
    "### **Preparation**"
   ]
  },
  {
   "cell_type": "markdown",
   "metadata": {},
   "source": [
    "First, you have to upload a file before you can start with this exercise.\n",
    "You can take for that the file `resources/my_file.txt` from studip."
   ]
  },
  {
   "cell_type": "markdown",
   "metadata": {},
   "source": [
    "### **Handy file handling**"
   ]
  },
  {
   "cell_type": "markdown",
   "metadata": {},
   "source": [
    "#### **Opening Files**"
   ]
  },
  {
   "cell_type": "markdown",
   "metadata": {},
   "source": [
    "You can open a file with the `open()` function.   \n",
    "Here you can also specify in which mode you want to open a file.   \n",
    "By default Python opens a file in the read mode."
   ]
  },
  {
   "cell_type": "code",
   "execution_count": null,
   "metadata": {},
   "outputs": [],
   "source": [
    "my_file = open(\"resources/my_file.txt\")\n",
    "\n",
    "print(my_file)"
   ]
  },
  {
   "cell_type": "markdown",
   "metadata": {},
   "source": [
    "You don't get to see the content of an opened file directly with the `print()` function. You first have to read its content."
   ]
  },
  {
   "cell_type": "markdown",
   "metadata": {},
   "source": [
    "#### **Reading Files**"
   ]
  },
  {
   "cell_type": "markdown",
   "metadata": {},
   "source": [
    "After opening a file by using the `open()` function, we can start reading its content with the `read()` method."
   ]
  },
  {
   "cell_type": "code",
   "execution_count": null,
   "metadata": {},
   "outputs": [],
   "source": [
    "read_my_file = my_file.read()\n",
    "\n",
    "print(read_my_file)"
   ]
  },
  {
   "cell_type": "markdown",
   "metadata": {},
   "source": [
    "I guess you are familiar with the content if this file by now ;)"
   ]
  },
  {
   "cell_type": "markdown",
   "metadata": {},
   "source": [
    "#### **Closing Files**"
   ]
  },
  {
   "cell_type": "markdown",
   "metadata": {},
   "source": [
    "After reading a file's content, you have to close it with the `close()` method. Otherwise it will block the allocated memory on your machine. "
   ]
  },
  {
   "cell_type": "code",
   "execution_count": null,
   "metadata": {},
   "outputs": [],
   "source": [
    "my_file.close()"
   ]
  },
  {
   "cell_type": "markdown",
   "metadata": {},
   "source": [
    "#### **Different file modes**"
   ]
  },
  {
   "cell_type": "markdown",
   "metadata": {},
   "source": [
    "As already mentioned, files are opened by default in the read mode.\n",
    "But there are plenty more:\n",
    "```\n",
    "Mode    Description\n",
    "r       Open a file in reading mode (default)\n",
    "w       Open a file in writing mode\n",
    "x       Open a file for exclusive creation\n",
    "a       Open a file in appending mode\n",
    "t       Open a file in text mode (default)\n",
    "b       Open a file in binary mode\n",
    "+       Open a file in both read and write mode\n",
    "```"
   ]
  },
  {
   "cell_type": "markdown",
   "metadata": {},
   "source": [
    "#### **Creating a File**"
   ]
  },
  {
   "cell_type": "markdown",
   "metadata": {},
   "source": [
    "To create a file you must open it in either the `x` or `w` mode. What are the differences?"
   ]
  },
  {
   "cell_type": "code",
   "execution_count": null,
   "metadata": {},
   "outputs": [],
   "source": [
    "# Create a new file in the x mode\n",
    "file2 = open(\"my_file2.txt\", \"x\")\n",
    "file2.close()"
   ]
  },
  {
   "cell_type": "markdown",
   "metadata": {},
   "source": [
    "Okay you just created a new file with the filename `my_file2.txt`.\n",
    "What happens if you re-run the upper cell?\n",
    "\n",
    "Now do the same thing for the `w` mode."
   ]
  },
  {
   "cell_type": "code",
   "execution_count": null,
   "metadata": {},
   "outputs": [],
   "source": [
    "# Create a new file in the w mode\n",
    "file2 = open(\"my_file2.txt\", \"w\")\n",
    "file2.close()"
   ]
  },
  {
   "cell_type": "markdown",
   "metadata": {},
   "source": [
    "Did you notice something?\n",
    "\n",
    "The `w` mode creates a file even if another file with the filename already exists. It's overwriting. So be cautious with that."
   ]
  },
  {
   "cell_type": "markdown",
   "metadata": {},
   "source": [
    "#### **Editing a file**"
   ]
  },
  {
   "cell_type": "markdown",
   "metadata": {},
   "source": [
    "You cannot only read a file's content but you can actually edit it with the `write()` method!"
   ]
  },
  {
   "cell_type": "code",
   "execution_count": null,
   "metadata": {},
   "outputs": [],
   "source": [
    "file2 = open(\"my_file2.txt\", \"w\")\n",
    "file2.write(\"I need an ice cream asap.\")\n",
    "file2.close()\n",
    "\n",
    "# Let's read the file\n",
    "file2 = open(\"my_file2.txt\", \"r\")\n",
    "print(file2.read())\n",
    "file2.close()"
   ]
  },
  {
   "cell_type": "markdown",
   "metadata": {},
   "source": [
    "Instead of opening a file and overwriting all its content you could also use the append mode `a`"
   ]
  },
  {
   "cell_type": "code",
   "execution_count": null,
   "metadata": {},
   "outputs": [],
   "source": [
    "file2 = open(\"my_file2.txt\", \"a\")\n",
    "\n",
    "#Add the content you want to append\n",
    "file2.write(\"\\nI also need a break.\")\n",
    "file2.close()\n",
    "\n",
    "# Let's read the file's content again\n",
    "file2 = open(\"my_file2.txt\", \"r\")\n",
    "print(file2.read())\n",
    "file2.close()"
   ]
  },
  {
   "cell_type": "markdown",
   "metadata": {},
   "source": [
    "#### **Deleting a file**"
   ]
  },
  {
   "cell_type": "markdown",
   "metadata": {},
   "source": [
    "And finally you are going to delete your hard work. This can be done with the `os.remove()` function.\n",
    "\n",
    "I think you already know that but **BE CAREFUL WITH THAT**. It's cannot undo this action.\n",
    "\n",
    "Before deleting the file, you first have to import the `os` module, which delivers this function\n",
    "\n",
    "*Short excursion: modules are packages/libraries of code which other people created. Usually they come with handy functions and classes for specific tasks. That way you don't have to create everything by yourself. The `os` module is a basic Python module. You can look up its contents easily - go ahead.*"
   ]
  },
  {
   "cell_type": "code",
   "execution_count": null,
   "metadata": {},
   "outputs": [],
   "source": [
    "# import the os module\n",
    "import os"
   ]
  },
  {
   "cell_type": "code",
   "execution_count": null,
   "metadata": {},
   "outputs": [],
   "source": [
    "os.remove(\"my_file2.txt\")"
   ]
  },
  {
   "cell_type": "code",
   "execution_count": null,
   "metadata": {},
   "outputs": [],
   "source": [
    "# check if you have removed the file\n",
    "file2 = open(\"my_file2.txt\", \"r\")"
   ]
  },
  {
   "cell_type": "markdown",
   "metadata": {},
   "source": [
    "#### **Using the `with` statement**"
   ]
  },
  {
   "cell_type": "markdown",
   "metadata": {},
   "source": [
    "The `with` statement allows you to automatically close files as soon as you are at the end of the corresponding code block.   \n",
    "Python identifies the corresponding code block through the indentation (similar to `if` statements and `for` loops).\n",
    "\n",
    "The `with` statement provides more readable code structure than the manual opening and closing of files."
   ]
  },
  {
   "cell_type": "code",
   "execution_count": null,
   "metadata": {},
   "outputs": [],
   "source": [
    "#Open the file using with statement\n",
    "with open(\"resources/my_file.txt\", \"r\") as file:\n",
    "    #Read the contents of the file\n",
    "    print(file.read())"
   ]
  },
  {
   "cell_type": "code",
   "execution_count": null,
   "metadata": {},
   "outputs": [],
   "source": [
    "# We did not close the file by hand. Try to read the file contents again\n",
    "print(file.read())"
   ]
  },
  {
   "cell_type": "markdown",
   "metadata": {},
   "source": [
    "You can perform all the operations from above and many more within this code block. You can even implement a `for` loop inside the `with` code block"
   ]
  },
  {
   "cell_type": "markdown",
   "metadata": {},
   "source": [
    "### **Working with CSV files**"
   ]
  },
  {
   "cell_type": "markdown",
   "metadata": {},
   "source": [
    "CSV (Comma-Separated Values) files are widely used for storing tabular data. They consist of rows, each containing data separated by commas. Python provides the `csv` module to handle CSV files efficiently.\n",
    "\n",
    "We can use the csv module's `reader()` function to read CSV data into lists. Similarly, we can use the `writer()` function to write data to CSV files.\n",
    "\n",
    "The csv module offers various options for customizing the behavior, such as specifying delimiters, handling headers, and handling missing data.\n",
    "\n",
    "With that being said, let's apply all our learned knowledge and finally get **cognitive**!\n",
    "\n",
    "**Task:**\n",
    "\n",
    "We are going to work here with randomly generated data from a reinforcement learning experiment with a four armed bandit task.   \n",
    "In this task a participant has to select at each trial one of four arms and receives a reward according to the unknown reward probability.   \n",
    "The data is structured in a pretty unhandy way because its taking up too much space.   \n",
    "Our goal is to reduce the data as much as possible.\n",
    "\n",
    "Start by importing the `csv` module and read the contents of the `four_armed_bandit_task.csv` file."
   ]
  },
  {
   "cell_type": "code",
   "execution_count": null,
   "metadata": {},
   "outputs": [],
   "source": [
    "import csv\n",
    "\n",
    "file_dir = \"resources/four_armed_bandit_task.csv\"\n",
    "\n",
    "with open(file_dir, \"r\") as file:\n",
    "    reader = csv.reader(file)\n",
    "    # add your code here\n",
    "    # hint: this files has several lines.\n",
    "    content = []\n",
    "    for row in reader:\n",
    "        content.append(row)\n",
    "        \n",
    "print(content)"
   ]
  },
  {
   "cell_type": "markdown",
   "metadata": {},
   "source": [
    "Print the data to check how it looks like.\n",
    "\n",
    "It should be in the form: `n_trials, arm_1, arm_2, arm_3, arm_4` with each trial being one row.    \n",
    "The non-chosen arms have the value -1. The chosen arm has the value 0 or 1 depending on whether it was rewarded or not.   \n",
    "\n",
    "Our goal is to reduce the data to its core information.   \n",
    "We could do so by compressing the dimensions of the four arms into one dimension.\n",
    "\n",
    "This dimension could carry following information:   \n",
    "It carries the number of the chosen arm i.e. 1, 2, 3, or 4.   \n",
    "Further, it is multiplied by 1 or -1 depending on whether it was rewarded or not.   \n",
    "\n",
    "This would give our data the form: `n_trials, result` where `result` can be any integer between -4 and 4 (except for 0).\n",
    "\n",
    "Save the result in another csv file.\n",
    "\n",
    "Feel free to work on this small project on your own!\n",
    "\n",
    "*PS: This is not part of the grade. So don't stress yourself out about it. It's just a neat little exercise with some real CogSci relation!*"
   ]
  },
  {
   "cell_type": "code",
   "execution_count": null,
   "metadata": {},
   "outputs": [],
   "source": [
    "# add your code here\n",
    "\n",
    "# transform the content from that file \n",
    "# from current shape: (trial, arm1, arm2, arm3, arm4) \n",
    "# into new shape: (trial, choice)"
   ]
  },
  {
   "cell_type": "code",
   "execution_count": null,
   "metadata": {},
   "outputs": [],
   "source": [
    "# check if the new content is correct"
   ]
  },
  {
   "cell_type": "code",
   "execution_count": null,
   "metadata": {},
   "outputs": [],
   "source": [
    "# write the new content to a new file\n",
    "# file location is in the same directory as the original file"
   ]
  }
 ],
 "metadata": {
  "kernelspec": {
   "display_name": "pymc",
   "language": "python",
   "name": "python3"
  },
  "language_info": {
   "codemirror_mode": {
    "name": "ipython",
    "version": 3
   },
   "file_extension": ".py",
   "mimetype": "text/x-python",
   "name": "python",
   "nbconvert_exporter": "python",
   "pygments_lexer": "ipython3",
   "version": "3.11.8"
  }
 },
 "nbformat": 4,
 "nbformat_minor": 2
}
