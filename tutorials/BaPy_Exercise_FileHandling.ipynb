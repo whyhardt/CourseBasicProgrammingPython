{
 "cells": [
  {
   "cell_type": "markdown",
   "metadata": {},
   "source": [
    "# **Basic Programming in Python**\n",
    "\n",
    "## Summer Term 2024\n",
    "\n",
    "### Additional exercise on handling files and saving results"
   ]
  },
  {
   "cell_type": "markdown",
   "metadata": {},
   "source": [
    "When working on datasets, you don't really want to start copy-pasting all the values from your dataset into your code.\n",
    "You neither want to copy-paste all your values from a terminal or the Jupyter notebook output section into a csv-file to store that data for later usage.\n",
    "\n",
    "At this point we have to get comfortable with file handling.\n",
    "\n",
    "The goal of this exercise is to make you fit on this topic - but since you are by now a proficient coder, you won't get so much information on that 😎\n",
    "\n",
    "Jokes aside..\n",
    "\n",
    "It is really important to learn to navigate yourself through the countless resources which are available at the tips of your fingers aka the internet.   \n",
    "Remember the soft skills for coders section. You already saw how one can get a good insight into a coding topic through the help of e.g. forums.\n",
    "\n",
    "PS: Do yourself a favor and don't use ChatGPT for that exercise.   \n",
    "As already mentioned before: It's a powerful tool which a coder can and should use to spend less time being stuck in language-related problems and more spend more time being creative.   \n",
    "But if you do so while learning basically anything, you will get the backlash sooner or later.\n",
    "May it be in terms of: \n",
    "- lack of knowledge in general\n",
    "- not being able to manage the delivered results well\n",
    "- most critical: trusting blindly a failure-prone software\n",
    "\n",
    "But enough talking. Let's get our hands dirty!"
   ]
  },
  {
   "cell_type": "markdown",
   "metadata": {},
   "source": [
    "### **Preparation**"
   ]
  },
  {
   "cell_type": "markdown",
   "metadata": {},
   "source": [
    "First, you have to upload a file before you can start with this exercise.\n",
    "You can take for that the file `resources/my_file.txt` from studip."
   ]
  },
  {
   "cell_type": "markdown",
   "metadata": {},
   "source": [
    "### **Handy file handling**"
   ]
  },
  {
   "cell_type": "markdown",
   "metadata": {},
   "source": [
    "#### **Opening Files**"
   ]
  },
  {
   "cell_type": "markdown",
   "metadata": {},
   "source": [
    "You can open a file with the `open()` function.   \n",
    "Here you can also specify in which mode you want to open a file.   \n",
    "By default Python opens a file in the read mode."
   ]
  },
  {
   "cell_type": "code",
   "execution_count": 14,
   "metadata": {},
   "outputs": [
    {
     "name": "stdout",
     "output_type": "stream",
     "text": [
      "<_io.TextIOWrapper name='resources/my_file.txt' mode='r' encoding='UTF-8'>\n"
     ]
    }
   ],
   "source": [
    "my_file = open(\"resources/my_file.txt\")\n",
    "\n",
    "print(my_file)"
   ]
  },
  {
   "cell_type": "markdown",
   "metadata": {},
   "source": [
    "You don't get to see the content of an opened file directly with the `print()` function. You first have to read its content."
   ]
  },
  {
   "cell_type": "markdown",
   "metadata": {},
   "source": [
    "#### **Reading Files**"
   ]
  },
  {
   "cell_type": "markdown",
   "metadata": {},
   "source": [
    "After opening a file by using the `open()` function, we can start reading its content with the `read()` method."
   ]
  },
  {
   "cell_type": "code",
   "execution_count": 8,
   "metadata": {},
   "outputs": [
    {
     "name": "stdout",
     "output_type": "stream",
     "text": [
      "GALAHAD: There it is!\n",
      "ARTHUR: The Bridge of Death!\n",
      "ROBIN: Oh, great.\n",
      "ARTHUR: Look! There's the old man from scene twenty-four!\n",
      "BEDEVERE: What is he doing here?\n",
      "ARTHUR: He is the keeper of the Bridge of Death. He asks each traveller five questions--\n",
      "GALAHAD: Three questions.\n",
      "ARTHUR: Three questions. He who answers the five questions--\n",
      "GALAHAD: Three questions.\n",
      "ARTHUR: Three questions may cross in safety.\n",
      "ROBIN: What if you get a question wrong?\n",
      "ARTHUR: Then you are cast into the Gorge of Eternal Peril.\n",
      "ROBIN: Oh, I won't go.\n",
      "GALAHAD: Who's going to answer the questions?\n",
      "ARTHUR: Sir Robin!\n",
      "ROBIN: Yes?\n",
      "ARTHUR: Brave Sir Robin, you go.\n",
      "ROBIN: Hey! I've got a great idea. Why doesn't Lancelot go?\n",
      "LANCELOT: Yes. Let me go, my liege. I will take him single-handed. I shall make a feint to the north-east that s--\n",
      "ARTHUR: No, no. No. Hang on! Hang on! Hang on! Just answer the five questions--\n",
      "GALAHAD: Three questions.\n",
      "ARTHUR: Three questions as best you can, and we shall watch... and pray.\n",
      "LANCELOT: I understand, my liege.\n",
      "ARTHUR: Good luck, brave Sir Lancelot. God be with you.\n",
      "BRIDGEKEEPER: Stop! Who would cross the Bridge of Death must answer me these questions three, ere the other side he see.\n",
      "LANCELOT: Ask me the questions, bridgekeeper. I am not afraid.\n",
      "BRIDGEKEEPER: What... is your name?\n",
      "LANCELOT: My name is 'Sir Lancelot of Camelot'.\n",
      "BRIDGEKEEPER: What... is your quest?\n",
      "LANCELOT: To seek the Holy Grail.\n",
      "BRIDGEKEEPER: What... is your favorite color?\n",
      "LANCELOT: Blue.\n",
      "BRIDGEKEEPER: Right. Off you go.\n",
      "LANCELOT: Oh, thank you. Thank you very much.\n",
      "ROBIN: That's easy!\n",
      "BRIDGEKEEPER: Stop! Who approacheth the Bridge of Death must answer me these questions three, ere the other side he see.\n",
      "ROBIN: Ask me the questions, bridgekeeper. I'm not afraid.\n",
      "BRIDGEKEEPER: What... is your name?\n",
      "ROBIN: 'Sir Robin of Camelot'.\n",
      "BRIDGEKEEPER: What... is your quest?\n",
      "ROBIN: To seek the Holy Grail.\n",
      "BRIDGEKEEPER: What... is the capital of Assyria?\n",
      "ROBIN: I don't know that! Auuuuuuuugh!\n",
      "BRIDGEKEEPER: Stop! What... is your name?\n",
      "GALAHAD: 'Sir Galahad of Camelot'.\n",
      "BRIDGEKEEPER: What... is your quest?\n",
      "GALAHAD: I seek the Grail.\n",
      "BRIDGEKEEPER: What... is your favorite color?\n",
      "GALAHAD: Blue. No, yel-- auuuuuuuugh!\n",
      "BRIDGEKEEPER: Hee hee heh. Stop! What... is your name?\n",
      "ARTHUR: It is 'Arthur', King of the Britons.\n",
      "BRIDGEKEEPER: What... is your quest?\n",
      "ARTHUR: To seek the Holy Grail.\n",
      "BRIDGEKEEPER: What... is the air-speed velocity of an unladen swallow?\n",
      "ARTHUR: What do you mean? An African or European swallow?\n",
      "BRIDGEKEEPER: Huh? I-- I don't know that. Auuuuuuuugh!\n",
      "BEDEVERE: How do know so much about swallows?\n",
      "ARTHUR: Well, you have to know these things when you're a king, you know.\n",
      "\n"
     ]
    }
   ],
   "source": [
    "read_my_file = my_file.read()\n",
    "\n",
    "print(read_my_file)"
   ]
  },
  {
   "cell_type": "markdown",
   "metadata": {},
   "source": [
    "I guess you are familiar with the content if this file by now ;)"
   ]
  },
  {
   "cell_type": "markdown",
   "metadata": {},
   "source": [
    "#### **Closing Files**"
   ]
  },
  {
   "cell_type": "markdown",
   "metadata": {},
   "source": [
    "After reading a file's content, you have to close it with the `close()` method. Otherwise it will block the allocated memory on your machine. "
   ]
  },
  {
   "cell_type": "code",
   "execution_count": 9,
   "metadata": {},
   "outputs": [],
   "source": [
    "my_file.close()"
   ]
  },
  {
   "cell_type": "markdown",
   "metadata": {},
   "source": [
    "#### **Different file modes**"
   ]
  },
  {
   "cell_type": "markdown",
   "metadata": {},
   "source": [
    "As already mentioned, files are opened by default in the read mode.\n",
    "But there are plenty more:\n",
    "```\n",
    "Mode    Description\n",
    "r       Open a file in reading mode (default)\n",
    "w       Open a file in writing mode\n",
    "x       Open a file for exclusive creation\n",
    "a       Open a file in appending mode\n",
    "t       Open a file in text mode (default)\n",
    "b       Open a file in binary mode\n",
    "+       Open a file in both read and write mode\n",
    "```"
   ]
  },
  {
   "cell_type": "markdown",
   "metadata": {},
   "source": [
    "#### **Creating a File**"
   ]
  },
  {
   "cell_type": "markdown",
   "metadata": {},
   "source": [
    "To create a file you must open it in either the `x` or `w` mode. What are the differences?"
   ]
  },
  {
   "cell_type": "code",
   "execution_count": null,
   "metadata": {},
   "outputs": [],
   "source": [
    "# Create a new file in the x mode\n",
    "file2 = open(\"my_file2.txt\", \"x\")\n",
    "file2.close()"
   ]
  },
  {
   "cell_type": "markdown",
   "metadata": {},
   "source": [
    "Okay you just created a new file with the filename `my_file2.txt`.\n",
    "What happens if you re-run the upper cell?\n",
    "\n",
    "Now do the same thing for the `w` mode."
   ]
  },
  {
   "cell_type": "code",
   "execution_count": 3,
   "metadata": {},
   "outputs": [],
   "source": [
    "# Create a new file in the w mode\n",
    "file2 = open(\"my_file2.txt\", \"w\")\n",
    "file2.close()"
   ]
  },
  {
   "cell_type": "markdown",
   "metadata": {},
   "source": [
    "Did you notice something?\n",
    "\n",
    "The `w` mode creates a file even if another file with the filename already exists. It's overwriting. So be cautious with that."
   ]
  },
  {
   "cell_type": "markdown",
   "metadata": {},
   "source": [
    "#### **Editing a file**"
   ]
  },
  {
   "cell_type": "markdown",
   "metadata": {},
   "source": [
    "You cannot only read a file's content but you can actually edit it with the `write()` method!"
   ]
  },
  {
   "cell_type": "code",
   "execution_count": 4,
   "metadata": {},
   "outputs": [
    {
     "name": "stdout",
     "output_type": "stream",
     "text": [
      "I need an ice cream asap.\n"
     ]
    }
   ],
   "source": [
    "file2 = open(\"my_file2.txt\", \"w\")\n",
    "file2.write(\"I need an ice cream asap.\")\n",
    "file2.close()\n",
    "\n",
    "# Let's read the file\n",
    "file2 = open(\"my_file2.txt\", \"r\")\n",
    "print(file2.read())\n",
    "file2.close()"
   ]
  },
  {
   "cell_type": "markdown",
   "metadata": {},
   "source": [
    "Instead of opening a file and overwriting all its content you could also use the append mode `a`"
   ]
  },
  {
   "cell_type": "code",
   "execution_count": 5,
   "metadata": {},
   "outputs": [
    {
     "name": "stdout",
     "output_type": "stream",
     "text": [
      "I need an ice cream asap.\n",
      "I also need a break.\n"
     ]
    }
   ],
   "source": [
    "file2 = open(\"my_file2.txt\", \"a\")\n",
    "\n",
    "#Add the content you want to append\n",
    "file2.write(\"\\nI also need a break.\")\n",
    "file2.close()\n",
    "\n",
    "# Let's read the file's content again\n",
    "file2 = open(\"my_file2.txt\", \"r\")\n",
    "print(file2.read())\n",
    "file2.close()"
   ]
  },
  {
   "cell_type": "markdown",
   "metadata": {},
   "source": [
    "#### **Deleting a file**"
   ]
  },
  {
   "cell_type": "markdown",
   "metadata": {},
   "source": [
    "And finally you are going to delete your hard work. This can be done with the `os.remove()` function.\n",
    "\n",
    "I think you already know that but **BE CAREFUL WITH THAT**. It's cannot undo this action.\n",
    "\n",
    "Before deleting the file, you first have to import the `os` module, which delivers this function\n",
    "\n",
    "*Short excursion: modules are packages/libraries of code which other people created. Usually they come with handy functions and classes for specific tasks. That way you don't have to create everything by yourself. The `os` module is a basic Python module. You can look up its contents easily - go ahead.*"
   ]
  },
  {
   "cell_type": "code",
   "execution_count": 6,
   "metadata": {},
   "outputs": [],
   "source": [
    "# import the os module\n",
    "import os"
   ]
  },
  {
   "cell_type": "code",
   "execution_count": 7,
   "metadata": {},
   "outputs": [],
   "source": [
    "os.remove(\"my_file2.txt\")"
   ]
  },
  {
   "cell_type": "code",
   "execution_count": 8,
   "metadata": {},
   "outputs": [
    {
     "ename": "FileNotFoundError",
     "evalue": "[Errno 2] No such file or directory: 'my_file2.txt'",
     "output_type": "error",
     "traceback": [
      "\u001b[0;31m---------------------------------------------------------------------------\u001b[0m",
      "\u001b[0;31mFileNotFoundError\u001b[0m                         Traceback (most recent call last)",
      "Cell \u001b[0;32mIn[8], line 2\u001b[0m\n\u001b[1;32m      1\u001b[0m \u001b[38;5;66;03m# check if you have removed the file\u001b[39;00m\n\u001b[0;32m----> 2\u001b[0m file2 \u001b[38;5;241m=\u001b[39m \u001b[38;5;28;43mopen\u001b[39;49m\u001b[43m(\u001b[49m\u001b[38;5;124;43m\"\u001b[39;49m\u001b[38;5;124;43mmy_file2.txt\u001b[39;49m\u001b[38;5;124;43m\"\u001b[39;49m\u001b[43m,\u001b[49m\u001b[43m \u001b[49m\u001b[38;5;124;43m\"\u001b[39;49m\u001b[38;5;124;43mr\u001b[39;49m\u001b[38;5;124;43m\"\u001b[39;49m\u001b[43m)\u001b[49m\n",
      "File \u001b[0;32m~/opt/miniconda3/envs/pymc/lib/python3.11/site-packages/IPython/core/interactiveshell.py:324\u001b[0m, in \u001b[0;36m_modified_open\u001b[0;34m(file, *args, **kwargs)\u001b[0m\n\u001b[1;32m    317\u001b[0m \u001b[38;5;28;01mif\u001b[39;00m file \u001b[38;5;129;01min\u001b[39;00m {\u001b[38;5;241m0\u001b[39m, \u001b[38;5;241m1\u001b[39m, \u001b[38;5;241m2\u001b[39m}:\n\u001b[1;32m    318\u001b[0m     \u001b[38;5;28;01mraise\u001b[39;00m \u001b[38;5;167;01mValueError\u001b[39;00m(\n\u001b[1;32m    319\u001b[0m         \u001b[38;5;124mf\u001b[39m\u001b[38;5;124m\"\u001b[39m\u001b[38;5;124mIPython won\u001b[39m\u001b[38;5;124m'\u001b[39m\u001b[38;5;124mt let you open fd=\u001b[39m\u001b[38;5;132;01m{\u001b[39;00mfile\u001b[38;5;132;01m}\u001b[39;00m\u001b[38;5;124m by default \u001b[39m\u001b[38;5;124m\"\u001b[39m\n\u001b[1;32m    320\u001b[0m         \u001b[38;5;124m\"\u001b[39m\u001b[38;5;124mas it is likely to crash IPython. If you know what you are doing, \u001b[39m\u001b[38;5;124m\"\u001b[39m\n\u001b[1;32m    321\u001b[0m         \u001b[38;5;124m\"\u001b[39m\u001b[38;5;124myou can use builtins\u001b[39m\u001b[38;5;124m'\u001b[39m\u001b[38;5;124m open.\u001b[39m\u001b[38;5;124m\"\u001b[39m\n\u001b[1;32m    322\u001b[0m     )\n\u001b[0;32m--> 324\u001b[0m \u001b[38;5;28;01mreturn\u001b[39;00m \u001b[43mio_open\u001b[49m\u001b[43m(\u001b[49m\u001b[43mfile\u001b[49m\u001b[43m,\u001b[49m\u001b[43m \u001b[49m\u001b[38;5;241;43m*\u001b[39;49m\u001b[43margs\u001b[49m\u001b[43m,\u001b[49m\u001b[43m \u001b[49m\u001b[38;5;241;43m*\u001b[39;49m\u001b[38;5;241;43m*\u001b[39;49m\u001b[43mkwargs\u001b[49m\u001b[43m)\u001b[49m\n",
      "\u001b[0;31mFileNotFoundError\u001b[0m: [Errno 2] No such file or directory: 'my_file2.txt'"
     ]
    }
   ],
   "source": [
    "# check if you have removed the file\n",
    "file2 = open(\"my_file2.txt\", \"r\")"
   ]
  },
  {
   "cell_type": "markdown",
   "metadata": {},
   "source": [
    "#### **Using the `with` statement**"
   ]
  },
  {
   "cell_type": "markdown",
   "metadata": {},
   "source": [
    "The `with` statement allows you to automatically close files as soon as you are at the end of the corresponding code block.   \n",
    "Python identifies the corresponding code block through the indentation (similar to `if` statements and `for` loops).\n",
    "\n",
    "The `with` statement provides more readable code structure than the manual opening and closing of files."
   ]
  },
  {
   "cell_type": "code",
   "execution_count": 9,
   "metadata": {},
   "outputs": [
    {
     "name": "stdout",
     "output_type": "stream",
     "text": [
      "GALAHAD: There it is!\n",
      "ARTHUR: The Bridge of Death!\n",
      "ROBIN: Oh, great.\n",
      "ARTHUR: Look! There's the old man from scene twenty-four!\n",
      "BEDEVERE: What is he doing here?\n",
      "ARTHUR: He is the keeper of the Bridge of Death. He asks each traveller five questions--\n",
      "GALAHAD: Three questions.\n",
      "ARTHUR: Three questions. He who answers the five questions--\n",
      "GALAHAD: Three questions.\n",
      "ARTHUR: Three questions may cross in safety.\n",
      "ROBIN: What if you get a question wrong?\n",
      "ARTHUR: Then you are cast into the Gorge of Eternal Peril.\n",
      "ROBIN: Oh, I won't go.\n",
      "GALAHAD: Who's going to answer the questions?\n",
      "ARTHUR: Sir Robin!\n",
      "ROBIN: Yes?\n",
      "ARTHUR: Brave Sir Robin, you go.\n",
      "ROBIN: Hey! I've got a great idea. Why doesn't Lancelot go?\n",
      "LANCELOT: Yes. Let me go, my liege. I will take him single-handed. I shall make a feint to the north-east that s--\n",
      "ARTHUR: No, no. No. Hang on! Hang on! Hang on! Just answer the five questions--\n",
      "GALAHAD: Three questions.\n",
      "ARTHUR: Three questions as best you can, and we shall watch... and pray.\n",
      "LANCELOT: I understand, my liege.\n",
      "ARTHUR: Good luck, brave Sir Lancelot. God be with you.\n",
      "BRIDGEKEEPER: Stop! Who would cross the Bridge of Death must answer me these questions three, ere the other side he see.\n",
      "LANCELOT: Ask me the questions, bridgekeeper. I am not afraid.\n",
      "BRIDGEKEEPER: What... is your name?\n",
      "LANCELOT: My name is 'Sir Lancelot of Camelot'.\n",
      "BRIDGEKEEPER: What... is your quest?\n",
      "LANCELOT: To seek the Holy Grail.\n",
      "BRIDGEKEEPER: What... is your favorite color?\n",
      "LANCELOT: Blue.\n",
      "BRIDGEKEEPER: Right. Off you go.\n",
      "LANCELOT: Oh, thank you. Thank you very much.\n",
      "ROBIN: That's easy!\n",
      "BRIDGEKEEPER: Stop! Who approacheth the Bridge of Death must answer me these questions three, ere the other side he see.\n",
      "ROBIN: Ask me the questions, bridgekeeper. I'm not afraid.\n",
      "BRIDGEKEEPER: What... is your name?\n",
      "ROBIN: 'Sir Robin of Camelot'.\n",
      "BRIDGEKEEPER: What... is your quest?\n",
      "ROBIN: To seek the Holy Grail.\n",
      "BRIDGEKEEPER: What... is the capital of Assyria?\n",
      "ROBIN: I don't know that! Auuuuuuuugh!\n",
      "BRIDGEKEEPER: Stop! What... is your name?\n",
      "GALAHAD: 'Sir Galahad of Camelot'.\n",
      "BRIDGEKEEPER: What... is your quest?\n",
      "GALAHAD: I seek the Grail.\n",
      "BRIDGEKEEPER: What... is your favorite color?\n",
      "GALAHAD: Blue. No, yel-- auuuuuuuugh!\n",
      "BRIDGEKEEPER: Hee hee heh. Stop! What... is your name?\n",
      "ARTHUR: It is 'Arthur', King of the Britons.\n",
      "BRIDGEKEEPER: What... is your quest?\n",
      "ARTHUR: To seek the Holy Grail.\n",
      "BRIDGEKEEPER: What... is the air-speed velocity of an unladen swallow?\n",
      "ARTHUR: What do you mean? An African or European swallow?\n",
      "BRIDGEKEEPER: Huh? I-- I don't know that. Auuuuuuuugh!\n",
      "BEDEVERE: How do know so much about swallows?\n",
      "ARTHUR: Well, you have to know these things when you're a king, you know.\n",
      "\n"
     ]
    }
   ],
   "source": [
    "#Open the file using with statement\n",
    "with open(\"resources/my_file.txt\", \"r\") as file:\n",
    "    #Read the contents of the file\n",
    "    print(file.read())"
   ]
  },
  {
   "cell_type": "code",
   "execution_count": 10,
   "metadata": {},
   "outputs": [
    {
     "ename": "ValueError",
     "evalue": "I/O operation on closed file.",
     "output_type": "error",
     "traceback": [
      "\u001b[0;31m---------------------------------------------------------------------------\u001b[0m",
      "\u001b[0;31mValueError\u001b[0m                                Traceback (most recent call last)",
      "Cell \u001b[0;32mIn[10], line 2\u001b[0m\n\u001b[1;32m      1\u001b[0m \u001b[38;5;66;03m# We did not close the file by hand. Try to read the file contents again\u001b[39;00m\n\u001b[0;32m----> 2\u001b[0m \u001b[38;5;28mprint\u001b[39m(\u001b[43mfile\u001b[49m\u001b[38;5;241;43m.\u001b[39;49m\u001b[43mread\u001b[49m\u001b[43m(\u001b[49m\u001b[43m)\u001b[49m)\n",
      "\u001b[0;31mValueError\u001b[0m: I/O operation on closed file."
     ]
    }
   ],
   "source": [
    "# We did not close the file by hand. Try to read the file contents again\n",
    "print(file.read())"
   ]
  },
  {
   "cell_type": "markdown",
   "metadata": {},
   "source": [
    "You can perform all the operations from above and many more within this code block. You can even implement a `for` loop inside the `with` code block"
   ]
  },
  {
   "cell_type": "markdown",
   "metadata": {},
   "source": [
    "### **Working with CSV files**"
   ]
  },
  {
   "cell_type": "markdown",
   "metadata": {},
   "source": [
    "CSV (Comma-Separated Values) files are widely used for storing tabular data. They consist of rows, each containing data separated by commas. Python provides the `csv` module to handle CSV files efficiently.\n",
    "\n",
    "We can use the csv module's `reader()` function to read CSV data into lists. Similarly, we can use the `writer()` function to write data to CSV files.\n",
    "\n",
    "The csv module offers various options for customizing the behavior, such as specifying delimiters, handling headers, and handling missing data.\n",
    "\n",
    "With that being said, let's apply all our learned knowledge and finally get **cognitive**!\n",
    "\n",
    "**Task:**\n",
    "\n",
    "We are going to work here with randomly generated data from a reinforcement learning experiment with a four armed bandit task.   \n",
    "In this task a participant has to select at each trial one of four arms and receives a reward according to the unknown reward probability.   \n",
    "The data is structured in a pretty unhandy way because its taking up too much space.   \n",
    "Our goal is to reduce the data as much as possible.\n",
    "\n",
    "Start by importing the `csv` module and read the contents of the `four_armed_bandit_task.csv` file."
   ]
  },
  {
   "cell_type": "code",
   "execution_count": null,
   "metadata": {},
   "outputs": [],
   "source": [
    "import csv\n",
    "\n",
    "with open(\"resources/four_armed_bandit_task.csv\", \"r\") as file:\n",
    "    reader = csv.reader(file)\n",
    "    # add your code here\n",
    "    # hint: this files has several lines."
   ]
  },
  {
   "cell_type": "markdown",
   "metadata": {},
   "source": [
    "Print the data to check how it looks like.\n",
    "\n",
    "It should be in the form: `n_trials, arm_1, arm_2, arm_3, arm_4` with each trials being one row.    \n",
    "The non-chosen arms have the value -1. The chosen arm has the value 0 or 1 depending on whether it was rewarded or not.   \n",
    "\n",
    "Our goal is to reduce the data to its core information.   \n",
    "We could do so by compressing the dimensions of the four arms into one dimension.\n",
    "\n",
    "This dimension could carry following information:   \n",
    "It carries the number of the chosen arm i.e. 1, 2, 3, or 4.   \n",
    "Further, it is multiplied by 1 or -1 depending on whether it was rewarded or not.   \n",
    "\n",
    "This would give our data the form: `n_trials, result` where `result` can be any integer between -4 and 4 (except for 0).\n",
    "\n",
    "Save the result in another csv file.\n",
    "\n",
    "Feel free to work on this small project on your own!\n",
    "\n",
    "*PS: This is not part of the grade. So don't stress yourself out about it. It's just a neat little exercise with some real CogSci relation!*"
   ]
  },
  {
   "cell_type": "code",
   "execution_count": 13,
   "metadata": {},
   "outputs": [],
   "source": [
    "# add your code here"
   ]
  }
 ],
 "metadata": {
  "kernelspec": {
   "display_name": "pymc",
   "language": "python",
   "name": "python3"
  },
  "language_info": {
   "codemirror_mode": {
    "name": "ipython",
    "version": 3
   },
   "file_extension": ".py",
   "mimetype": "text/x-python",
   "name": "python",
   "nbconvert_exporter": "python",
   "pygments_lexer": "ipython3",
   "version": "3.11.8"
  }
 },
 "nbformat": 4,
 "nbformat_minor": 2
}
