{
  "cells": [
    {
      "cell_type": "markdown",
      "metadata": {
        "id": "9EHbDbUipFYI"
      },
      "source": [
        "# Basic Programming in Python\n",
        "\n",
        "## Summer Term 2025\n",
        "\n",
        "### Tutorial on strings, some built-in functions and soft skills for coding"
      ]
    },
    {
      "cell_type": "markdown",
      "metadata": {
        "id": "fyhz3Fcru3sX"
      },
      "source": [
        "#### Strings"
      ]
    },
    {
      "cell_type": "markdown",
      "metadata": {},
      "source": [
        "We have learned that strings in Python are surrounded by either single or double quotation marks.\n",
        "\n",
        "\n",
        "```\n",
        "\"I love Python!\" or 'I love Python!'\n",
        "```\n",
        "\n",
        "We also know that using \\n allows us to print in a new line. You can also print in multilines by using either three double quotes or three single quotes. Now write a program with a single print() function that describes your name and surname, age, hometown and a few hobbies. Remember each information should be given in a separate line! 😉"
      ]
    },
    {
      "cell_type": "code",
      "execution_count": 1,
      "metadata": {
        "colab": {
          "base_uri": "https://localhost:8080/"
        },
        "id": "WuzJ1fNTxfbb",
        "outputId": "de1d2c9a-653d-4470-f6af-55aac3dece8a"
      },
      "outputs": [
        {
          "name": "stdout",
          "output_type": "stream",
          "text": [
            "Name\n",
            "Age\n",
            "Hometown\n",
            "Hobby1\n",
            "Hobby2\n",
            "\n"
          ]
        }
      ],
      "source": [
        "#First, save your data (e.g. Name, Age, Hometown, Hobby) into a variable.\n",
        "my_data = \"\"\"Name\n",
        "Age\n",
        "Hometown\n",
        "Hobby1\n",
        "Hobby2\n",
        "\"\"\"\n",
        "\n",
        "print(my_data)"
      ]
    },
    {
      "cell_type": "markdown",
      "metadata": {
        "id": "s6TeAIoqzFD-"
      },
      "source": [
        "#### Strings Methods"
      ]
    },
    {
      "cell_type": "markdown",
      "metadata": {},
      "source": [
        "Python offers a variety of built-in methods that you can use with strings.\n",
        "\n",
        "- isalnum(): Checks whether all characters in a string are alphanumeric, meaning either alphabets or numbers.\n",
        "\n",
        "Create a program that checks if all characters in the given string are alphanumerical by using if statements."
      ]
    },
    {
      "cell_type": "code",
      "execution_count": 3,
      "metadata": {
        "id": "sJ8hG7bizzZ-"
      },
      "outputs": [
        {
          "name": "stdout",
          "output_type": "stream",
          "text": [
            "The string is not all numbers and letters.\n"
          ]
        }
      ],
      "source": [
        "my_cool_string = \"Hello2024!\"\n",
        "\n",
        "if my_cool_string.isalnum():\n",
        "    print(\"The string is all numbers and letters.\")\n",
        "else:\n",
        "    print(\"The string is not all numbers and letters.\")"
      ]
    },
    {
      "cell_type": "markdown",
      "metadata": {
        "id": "_ykx59Fx00Hm"
      },
      "source": [
        "- isdigit()\tReturns True if all characters in the string consist of digits.\n",
        "\n",
        "Write a program that checks if all the characters in a **string** are digits."
      ]
    },
    {
      "cell_type": "code",
      "execution_count": 4,
      "metadata": {
        "id": "IcEfUybS1cXw"
      },
      "outputs": [
        {
          "name": "stdout",
          "output_type": "stream",
          "text": [
            "The string is all numbers.\n"
          ]
        },
        {
          "ename": "AttributeError",
          "evalue": "'int' object has no attribute 'isdigit'",
          "output_type": "error",
          "traceback": [
            "\u001b[0;31m---------------------------------------------------------------------------\u001b[0m",
            "\u001b[0;31mAttributeError\u001b[0m                            Traceback (most recent call last)",
            "Cell \u001b[0;32mIn[4], line 10\u001b[0m\n\u001b[1;32m      8\u001b[0m \u001b[38;5;66;03m#After you get this task done, try to implement the same program on an integer and not on a string and see if isdigit() works.\u001b[39;00m\n\u001b[1;32m      9\u001b[0m student_ID_int \u001b[38;5;241m=\u001b[39m \u001b[38;5;241m455\u001b[39m\n\u001b[0;32m---> 10\u001b[0m \u001b[38;5;28;01mif\u001b[39;00m \u001b[43mstudent_ID_int\u001b[49m\u001b[38;5;241;43m.\u001b[39;49m\u001b[43misdigit\u001b[49m():\n\u001b[1;32m     11\u001b[0m     \u001b[38;5;28mprint\u001b[39m(\u001b[38;5;124m\"\u001b[39m\u001b[38;5;124mThe string is all numbers.\u001b[39m\u001b[38;5;124m\"\u001b[39m)\n\u001b[1;32m     12\u001b[0m \u001b[38;5;28;01melse\u001b[39;00m:\n",
            "\u001b[0;31mAttributeError\u001b[0m: 'int' object has no attribute 'isdigit'"
          ]
        }
      ],
      "source": [
        "student_ID = \"455\"\n",
        "\n",
        "if student_ID.isdigit():\n",
        "    print(\"The string is all numbers.\")\n",
        "else:\n",
        "    print(\"The string is not all numbers.\")\n",
        "\n",
        "#After you get this task done, try to implement the same program on an integer and not on a string and see if isdigit() works.\n",
        "student_ID_int = 455\n",
        "if student_ID_int.isdigit():\n",
        "    print(\"The string is all numbers.\")\n",
        "else:\n",
        "    print(\"The string is not all numbers.\")"
      ]
    },
    {
      "cell_type": "markdown",
      "metadata": {
        "id": "ZLdXPERA20F1"
      },
      "source": [
        "- islower(): Checks if all characters in the string are lower case.\n",
        "\n",
        "- isupper(): Checks if all characters in the string are upper case.\n",
        "\n",
        "Create a program that asks the user to enter their favorite song. Then check if the string contains either lower/uppercase letters."
      ]
    },
    {
      "cell_type": "code",
      "execution_count": 6,
      "metadata": {
        "id": "-hEl5mHq4jXD"
      },
      "outputs": [
        {
          "name": "stdout",
          "output_type": "stream",
          "text": [
            "The song 99 BOTTLES OF BEER is in uppercase.\n"
          ]
        }
      ],
      "source": [
        "fav_song = input(\"Please type your favorite song: \")\n",
        "\n",
        "if fav_song.islower():\n",
        "    print(f\"The song {fav_song} is in lowercase.\")\n",
        "elif fav_song.isupper():\n",
        "    print(f\"The song {fav_song} is in uppercase.\")"
      ]
    },
    {
      "cell_type": "markdown",
      "metadata": {},
      "source": [
        "And there are a lot more string-methods out there. You can look them up in the official documentation [here](https://docs.python.org/3/library/stdtypes.html#string-methods). Since you are usually flooded with information on these documentation websites, you could start to use your web browser's search engine alternatively. There are a lot of forums where most of the times somebody had already the same question as you have in the current situation. Given that you can break down your problem well enough 😉"
      ]
    },
    {
      "cell_type": "markdown",
      "metadata": {
        "id": "m5Wbmnx46dWH"
      },
      "source": [
        "#### Strings as Arrays\n",
        "\n",
        "Do not forget that strings consist of single characters. A string is a **sequence of characters**. You can access the characters one at a time with the\n",
        "bracket operator. Therefore, we can access these single elements as follows:\n",
        "\n",
        "\n",
        "```\n",
        "a = \"Coffee is all I need!\"\n",
        "print(a[1])\n",
        "```\n",
        "\n"
      ]
    },
    {
      "cell_type": "markdown",
      "metadata": {
        "id": "QlE0crBKdD8b"
      },
      "source": [
        "The expression in brackets is called an **index**. The index indicates which character in the sequence you want (hence the name)."
      ]
    },
    {
      "cell_type": "markdown",
      "metadata": {
        "id": "BvQBCb477qwZ"
      },
      "source": [
        "Try to access the first element of the given string and save it as the variable `first_element`. What exactly do you see in the output?"
      ]
    },
    {
      "cell_type": "code",
      "execution_count": 7,
      "metadata": {
        "id": "GnclMoTr7hnv"
      },
      "outputs": [],
      "source": [
        "a = \"Hello, world!\"\n",
        "\n",
        "first_element = a[0]"
      ]
    },
    {
      "cell_type": "markdown",
      "metadata": {
        "id": "PCjGcw0rdgas"
      },
      "source": [
        "For most people, the first letter of 'Hello, world!' is H, not e. But for computer scientists, the index is an offset from the beginning of the string, and the offset of the first letter is zero.\n",
        "\n",
        "So let's check if you got it right!"
      ]
    },
    {
      "cell_type": "code",
      "execution_count": 8,
      "metadata": {},
      "outputs": [
        {
          "name": "stdout",
          "output_type": "stream",
          "text": [
            "Great! You got the index of the first element of the string correct.\n"
          ]
        }
      ],
      "source": [
        "# do not modify the following code\n",
        "assert first_element == 'H', \"Seems like you did not get the correct index of the string's first element. Try again.\"\n",
        "print(\"Great! You got the index of the first element of the string correct.\")"
      ]
    },
    {
      "cell_type": "markdown",
      "metadata": {
        "id": "P_saCErd9Alc"
      },
      "source": [
        "Play around and see if you can also access the length of the given string.    \n",
        "**len()** is a built-in function that returns the number of elements in a sequence.   \n",
        "Since a string is merely a sequence of characters, this function works also here.   \n",
        "How many elements exist in the following string?"
      ]
    },
    {
      "cell_type": "code",
      "execution_count": 9,
      "metadata": {
        "id": "8DDPNKdW9LdN"
      },
      "outputs": [
        {
          "data": {
            "text/plain": [
              "13"
            ]
          },
          "execution_count": 9,
          "metadata": {},
          "output_type": "execute_result"
        }
      ],
      "source": [
        "a = \"Hello, world!\"\n",
        "\n",
        "len(a)"
      ]
    },
    {
      "cell_type": "markdown",
      "metadata": {
        "id": "QByj1yv-d8oC"
      },
      "source": [
        "A segment of a string is called a slice. Selecting a slice is similar to selecting a character. The operator [n:m] returns the part of the string from the n-th character to the m-th character, including the first but excluding the last. \n",
        "\n",
        "\n",
        "![image.png](data:image/png;base64,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)"
      ]
    },
    {
      "cell_type": "code",
      "execution_count": null,
      "metadata": {
        "id": "etLXCDQLCsxa"
      },
      "outputs": [],
      "source": [
        "my_str = 'Monty Python'"
      ]
    },
    {
      "cell_type": "markdown",
      "metadata": {
        "id": "yEqjqnEMDmzg"
      },
      "source": [
        "Given that my_str is a string, what does my_str[ : ] mean?\n",
        "What about my_str[3:3], my_str[:3] and my_str[3:]?\n"
      ]
    },
    {
      "cell_type": "code",
      "execution_count": 13,
      "metadata": {
        "id": "9YtIN5TPEG1-"
      },
      "outputs": [
        {
          "name": "stdout",
          "output_type": "stream",
          "text": [
            "my_str[:] returns the whole string:\n",
            "Monty Python\n",
            "my_str[3:] returns the whole string starting from the forth character (remember: in Python indexing starts at 0):\n",
            "ty Python\n",
            "my_str[:3] returns the whole string until the third character (remember: in Python indexing excludes the element at the upper index):\n",
            "Mon\n",
            "my_str[3:3] returns nothing:\n",
            "\n",
            "my_str[1:-1] returns the whole string except the first and the last character:\n",
            "onty Pytho\n"
          ]
        }
      ],
      "source": [
        "my_str = 'Monty Python'\n",
        "print(\"my_str[:] returns the whole string:\")\n",
        "print(my_str[:])\n",
        "print(\"my_str[3:] returns the whole string starting from the forth character (remember: in Python indexing starts at 0):\")\n",
        "print(my_str[3:])\n",
        "print(\"my_str[:3] returns the whole string until the third character (remember: in Python indexing excludes the element at the upper index):\")\n",
        "print(my_str[:3])\n",
        "print(\"my_str[3:3] returns nothing:\")\n",
        "print(my_str[3:3])\n",
        "print(\"my_str[1:-1] returns the whole string except the first and the last character:\")\n",
        "print(my_str[1:-1])"
      ]
    },
    {
      "cell_type": "markdown",
      "metadata": {
        "id": "xDv1MSbIERst"
      },
      "source": [
        "If you want to change a string's content, it might be tempting to use the `[]` operator on the left side of an assignment, with the intention of changing a character in a string. For example:"
      ]
    },
    {
      "cell_type": "code",
      "execution_count": 14,
      "metadata": {
        "id": "KvvmiTuYEsTt"
      },
      "outputs": [
        {
          "ename": "TypeError",
          "evalue": "'str' object does not support item assignment",
          "output_type": "error",
          "traceback": [
            "\u001b[0;31m---------------------------------------------------------------------------\u001b[0m",
            "\u001b[0;31mTypeError\u001b[0m                                 Traceback (most recent call last)",
            "Cell \u001b[0;32mIn[14], line 2\u001b[0m\n\u001b[1;32m      1\u001b[0m greeting \u001b[38;5;241m=\u001b[39m \u001b[38;5;124m'\u001b[39m\u001b[38;5;124mHello, world!\u001b[39m\u001b[38;5;124m'\u001b[39m\n\u001b[0;32m----> 2\u001b[0m \u001b[43mgreeting\u001b[49m\u001b[43m[\u001b[49m\u001b[38;5;241;43m0\u001b[39;49m\u001b[43m]\u001b[49m \u001b[38;5;241m=\u001b[39m \u001b[38;5;124m'\u001b[39m\u001b[38;5;124mJ\u001b[39m\u001b[38;5;124m'\u001b[39m\n",
            "\u001b[0;31mTypeError\u001b[0m: 'str' object does not support item assignment"
          ]
        }
      ],
      "source": [
        "greeting = 'Hello, world!'\n",
        "greeting[0] = 'J'"
      ]
    },
    {
      "cell_type": "markdown",
      "metadata": {},
      "source": [
        "But apparently this does not work because **Strings are immutable**.   \n",
        "In order to replace a character in a string, you have to use the slicing operation and mathematical operations like `+`\n",
        "\n",
        "Change the variable `greeting` to `'Jello, world!'` with the mentioned operations"
      ]
    },
    {
      "cell_type": "code",
      "execution_count": 15,
      "metadata": {},
      "outputs": [
        {
          "name": "stdout",
          "output_type": "stream",
          "text": [
            "Jello, world!\n"
          ]
        }
      ],
      "source": [
        "greeting = 'J' + greeting[1:]\n",
        "print(greeting)"
      ]
    },
    {
      "cell_type": "markdown",
      "metadata": {
        "id": "LuK78pzrGDzs"
      },
      "source": [
        "#### The   *in*  operator"
      ]
    },
    {
      "cell_type": "markdown",
      "metadata": {},
      "source": [
        "The word ***in*** is a boolean operator that takes two strings and returns True if the first appears as a substring in the second:"
      ]
    },
    {
      "cell_type": "code",
      "execution_count": 16,
      "metadata": {
        "id": "qr1NqsIvGPrL"
      },
      "outputs": [
        {
          "name": "stdout",
          "output_type": "stream",
          "text": [
            "True\n",
            "True\n",
            "False\n",
            "True\n"
          ]
        }
      ],
      "source": [
        "new_str = 'banana'\n",
        "print('a' in new_str)\n",
        "print('na' in new_str)\n",
        "print('d' in new_str)\n",
        "print('anana' in new_str)"
      ]
    },
    {
      "cell_type": "markdown",
      "metadata": {
        "id": "GqgVVXOBHL2r"
      },
      "source": [
        "#### String comparison"
      ]
    },
    {
      "cell_type": "markdown",
      "metadata": {},
      "source": [
        "To see if two strings are equal you can use the relational operator `==`:"
      ]
    },
    {
      "cell_type": "code",
      "execution_count": 17,
      "metadata": {
        "id": "oqoseS5RHU_3"
      },
      "outputs": [
        {
          "name": "stdout",
          "output_type": "stream",
          "text": [
            "Seems like your strings are different!\n"
          ]
        }
      ],
      "source": [
        "my_str = 'I dont remember the value of my_cool_sting'\n",
        "if my_str == my_cool_string:\n",
        "  print('Your strings are equal!')\n",
        "else:\n",
        "  print('Seems like your strings are different!')"
      ]
    },
    {
      "cell_type": "markdown",
      "metadata": {
        "id": "DBBvpWzWHrHq"
      },
      "source": [
        "Other relational operations are useful for putting words in alphabetical order. Python does not handle uppercase and lowercase letters the same way that people do. All the uppercase letters come before all the lowercase letters.\n",
        "A common way to address this problem is to convert strings to a standard format, such as all lowercase, before performing the comparison. "
      ]
    },
    {
      "cell_type": "code",
      "execution_count": 19,
      "metadata": {
        "id": "Amrk1YhBHy3H"
      },
      "outputs": [
        {
          "name": "stdout",
          "output_type": "stream",
          "text": [
            "Your word, i dont remember the value of my_cool_sting, comes after hello2024!\n"
          ]
        }
      ],
      "source": [
        "# sorting strings alphabetically\n",
        "\n",
        "# convert string to lower case\n",
        "my_str = my_str.lower()\n",
        "my_cool_string = my_cool_string.lower()\n",
        "\n",
        "if my_str < my_cool_string:\n",
        "  print ('Your word, ' + my_str + ', comes before '+ my_cool_string)\n",
        "elif my_str > my_cool_string:\n",
        "  print ('Your word, ' + my_str + ', comes after '+ my_cool_string)\n",
        "else:\n",
        "  print ('All right, you love Python')"
      ]
    },
    {
      "cell_type": "markdown",
      "metadata": {},
      "source": [
        "#### Let's get serious!"
      ]
    },
    {
      "cell_type": "markdown",
      "metadata": {},
      "source": [
        "Below you find a script from \"Monty Python and The Holy Grail\", taken from [this webpage](http://www.montypython.50webs.com/scripts/Holy_Grail/Scene22.htm).  \n",
        "If you would like to see the movie scene visit [this link](https://youtu.be/0D7hFHfLEyk) - after the class."
      ]
    },
    {
      "cell_type": "code",
      "execution_count": 21,
      "metadata": {},
      "outputs": [
        {
          "data": {
            "text/plain": [
              "\"GALAHAD: There it is!\\nARTHUR: The Bridge of Death!\\nROBIN: Oh, great.\\nARTHUR: Look! There's the old man from scene twenty-four!\\nBEDEVERE: What is he doing here?\\nARTHUR: He is the keeper of the Bridge of Death. He asks each traveller five questions--\\nGALAHAD: Three questions.\\nARTHUR: Three questions. He who answers the five questions--\\nGALAHAD: Three questions.\\nARTHUR: Three questions may cross in safety.\\nROBIN: What if you get a question wrong?\\nARTHUR: Then you are cast into the Gorge of Eternal Peril.\\nROBIN: Oh, I won't go.\\nGALAHAD: Who's going to answer the questions?\\nARTHUR: Sir Robin!\\nROBIN: Yes?\\nARTHUR: Brave Sir Robin, you go.\\nROBIN: Hey! I've got a great idea. Why doesn't Lancelot go?\\nLANCELOT: Yes. Let me go, my liege. I will take him single-handed. I shall make a feint to the north-east that s--\\nARTHUR: No, no. No. Hang on! Hang on! Hang on! Just answer the five questions--\\nGALAHAD: Three questions.\\nARTHUR: Three questions as best you can, and we shall watch... and pray.\\nLANCELOT: I understand, my liege.\\nARTHUR: Good luck, brave Sir Lancelot. God be with you.\\nBRIDGEKEEPER: Stop! Who would cross the Bridge of Death must answer me these questions three, ere the other side he see.\\nLANCELOT: Ask me the questions, bridgekeeper. I am not afraid.\\nBRIDGEKEEPER: What... is your name?\\nLANCELOT: My name is 'Sir Lancelot of Camelot'.\\nBRIDGEKEEPER: What... is your quest?\\nLANCELOT: To seek the Holy Grail.\\nBRIDGEKEEPER: What... is your favorite color?\\nLANCELOT: Blue.\\nBRIDGEKEEPER: Right. Off you go.\\nLANCELOT: Oh, thank you. Thank you very much.\\nROBIN: That's easy!\\nBRIDGEKEEPER: Stop! Who approacheth the Bridge of Death must answer me these questions three, ere the other side he see.\\nROBIN: Ask me the questions, bridgekeeper. I'm not afraid.\\nBRIDGEKEEPER: What... is your name?\\nROBIN: 'Sir Robin of Camelot'.\\nBRIDGEKEEPER: What... is your quest?\\nROBIN: To seek the Holy Grail.\\nBRIDGEKEEPER: What... is the capital of Assyria?\\nROBIN: I don't know that! Auuuuuuuugh!\\nBRIDGEKEEPER: Stop! What... is your name?\\nGALAHAD: 'Sir Galahad of Camelot'.\\nBRIDGEKEEPER: What... is your quest?\\nGALAHAD: I seek the Grail.\\nBRIDGEKEEPER: What... is your favorite color?\\nGALAHAD: Blue. No, yel-- auuuuuuuugh!\\nBRIDGEKEEPER: Hee hee heh. Stop! What... is your name?\\nARTHUR: It is 'Arthur', King of the Britons.\\nBRIDGEKEEPER: What... is your quest?\\nARTHUR: To seek the Holy Grail.\\nBRIDGEKEEPER: What... is the air-speed velocity of an unladen swallow?\\nARTHUR: What do you mean? An African or European swallow?\\nBRIDGEKEEPER: Huh? I-- I don't know that. Auuuuuuuugh!\\nBEDEVERE: How do know so much about swallows?\\nARTHUR: Well, you have to know these things when you're a king, you know.\""
            ]
          },
          "execution_count": 21,
          "metadata": {},
          "output_type": "execute_result"
        }
      ],
      "source": [
        "string = \"\"\"GALAHAD: There it is!\n",
        "ARTHUR: The Bridge of Death!\n",
        "ROBIN: Oh, great.\n",
        "ARTHUR: Look! There's the old man from scene twenty-four!\n",
        "BEDEVERE: What is he doing here?\n",
        "ARTHUR: He is the keeper of the Bridge of Death. He asks each traveller five questions--\n",
        "GALAHAD: Three questions.\n",
        "ARTHUR: Three questions. He who answers the five questions--\n",
        "GALAHAD: Three questions.\n",
        "ARTHUR: Three questions may cross in safety.\n",
        "ROBIN: What if you get a question wrong?\n",
        "ARTHUR: Then you are cast into the Gorge of Eternal Peril.\n",
        "ROBIN: Oh, I won't go.\n",
        "GALAHAD: Who's going to answer the questions?\n",
        "ARTHUR: Sir Robin!\n",
        "ROBIN: Yes?\n",
        "ARTHUR: Brave Sir Robin, you go.\n",
        "ROBIN: Hey! I've got a great idea. Why doesn't Lancelot go?\n",
        "LANCELOT: Yes. Let me go, my liege. I will take him single-handed. I shall make a feint to the north-east that s--\n",
        "ARTHUR: No, no. No. Hang on! Hang on! Hang on! Just answer the five questions--\n",
        "GALAHAD: Three questions.\n",
        "ARTHUR: Three questions as best you can, and we shall watch... and pray.\n",
        "LANCELOT: I understand, my liege.\n",
        "ARTHUR: Good luck, brave Sir Lancelot. God be with you.\n",
        "BRIDGEKEEPER: Stop! Who would cross the Bridge of Death must answer me these questions three, ere the other side he see.\n",
        "LANCELOT: Ask me the questions, bridgekeeper. I am not afraid.\n",
        "BRIDGEKEEPER: What... is your name?\n",
        "LANCELOT: My name is 'Sir Lancelot of Camelot'.\n",
        "BRIDGEKEEPER: What... is your quest?\n",
        "LANCELOT: To seek the Holy Grail.\n",
        "BRIDGEKEEPER: What... is your favorite color?\n",
        "LANCELOT: Blue.\n",
        "BRIDGEKEEPER: Right. Off you go.\n",
        "LANCELOT: Oh, thank you. Thank you very much.\n",
        "ROBIN: That's easy!\n",
        "BRIDGEKEEPER: Stop! Who approacheth the Bridge of Death must answer me these questions three, ere the other side he see.\n",
        "ROBIN: Ask me the questions, bridgekeeper. I'm not afraid.\n",
        "BRIDGEKEEPER: What... is your name?\n",
        "ROBIN: 'Sir Robin of Camelot'.\n",
        "BRIDGEKEEPER: What... is your quest?\n",
        "ROBIN: To seek the Holy Grail.\n",
        "BRIDGEKEEPER: What... is the capital of Assyria?\n",
        "ROBIN: I don't know that! Auuuuuuuugh!\n",
        "BRIDGEKEEPER: Stop! What... is your name?\n",
        "GALAHAD: 'Sir Galahad of Camelot'.\n",
        "BRIDGEKEEPER: What... is your quest?\n",
        "GALAHAD: I seek the Grail.\n",
        "BRIDGEKEEPER: What... is your favorite color?\n",
        "GALAHAD: Blue. No, yel-- auuuuuuuugh!\n",
        "BRIDGEKEEPER: Hee hee heh. Stop! What... is your name?\n",
        "ARTHUR: It is 'Arthur', King of the Britons.\n",
        "BRIDGEKEEPER: What... is your quest?\n",
        "ARTHUR: To seek the Holy Grail.\n",
        "BRIDGEKEEPER: What... is the air-speed velocity of an unladen swallow?\n",
        "ARTHUR: What do you mean? An African or European swallow?\n",
        "BRIDGEKEEPER: Huh? I-- I don't know that. Auuuuuuuugh!\n",
        "BEDEVERE: How do know so much about swallows?\n",
        "ARTHUR: Well, you have to know these things when you're a king, you know.\"\"\"\n",
        "string"
      ]
    },
    {
      "cell_type": "markdown",
      "metadata": {},
      "source": [
        "Do some (built-in) reformatting and slicing operations on the given string.\n",
        "\n",
        "And remember if you don't know where and how to start, you have a few possibilities:\n",
        "\n",
        "1. Look up the respective documentation\n",
        "2. Search the world-wide-web:\n",
        "    - break your problem down   \n",
        "    - formulate it easily    \n",
        "    - use your search engine to get some help\n",
        "3. Let's be honest: Go ahead and ask ChatGPT - don't be afraid of using it, just do it right. It's your friend. Just don't be too lazy with your homeworks because at some point that's going to pay back..\n",
        "\n",
        "This stuff is also a big part of a coder's day-to-day life."
      ]
    },
    {
      "cell_type": "code",
      "execution_count": 22,
      "metadata": {},
      "outputs": [],
      "source": [
        "# remove, by replacing, every name (\"GALAHAD: \", \"ARTHUR: \", \"BRIDGEKEEPER: \", etc)\n",
        "string = string.replace(\"GALAHAD: \", \"\")\n",
        "string = string.replace(\"ARTHUR: \", \"\")\n",
        "string = string.replace(\"ROBIN: \", \"\")\n",
        "string = string.replace(\"BEDEVERE: \", \"\")\n",
        "string = string.replace(\"LANCELOT: \", \"\")\n",
        "string = string.replace(\"BRIDGEKEEPER: \", \"\")"
      ]
    },
    {
      "cell_type": "code",
      "execution_count": 23,
      "metadata": {},
      "outputs": [],
      "source": [
        "# make the entire string lowercase\n",
        "string = string.lower()"
      ]
    },
    {
      "cell_type": "code",
      "execution_count": 24,
      "metadata": {},
      "outputs": [
        {
          "name": "stdout",
          "output_type": "stream",
          "text": [
            "bridge of death!\n",
            "oh,\n"
          ]
        }
      ],
      "source": [
        "# find the index in the string where \"Bridge of Death\" is and print the string from that index until 20 characters later\n",
        "index = string.find(\"bridge of death\")\n",
        "print(string[index:index+20])"
      ]
    },
    {
      "cell_type": "code",
      "execution_count": 25,
      "metadata": {},
      "outputs": [],
      "source": [
        "# split the string into a list at every \"\\n\" linebreak\n",
        "string = string.split(\"\\n\")"
      ]
    },
    {
      "cell_type": "code",
      "execution_count": 26,
      "metadata": {},
      "outputs": [
        {
          "name": "stdout",
          "output_type": "stream",
          "text": [
            "there it is!\n",
            "the bridge of death!\n",
            "oh, great.\n",
            "look! there's the old man from scene twenty-four!\n",
            "what is he doing here?\n",
            "he is the keeper of the bridge of death. he asks each traveller five questions--\n",
            "three questions.\n",
            "three questions. he who answers the five questions--\n",
            "three questions.\n",
            "three questions may cross in safety.\n",
            "what if you get a question wrong?\n",
            "then you are cast into the gorge of eternal peril.\n",
            "oh, i won't go.\n",
            "who's going to answer the questions?\n",
            "sir robin!\n",
            "yes?\n",
            "brave sir robin, you go.\n",
            "hey! i've got a great idea. why doesn't lancelot go?\n",
            "yes. let me go, my liege. i will take him single-handed. i shall make a feint to the north-east that s--\n",
            "no, no. no. hang on! hang on! hang on! just answer the five questions--\n",
            "three questions.\n",
            "three questions as best you can, and we shall watch... and pray.\n",
            "i understand, my liege.\n",
            "good luck, brave sir lancelot. god be with you.\n",
            "stop! who would cross the bridge of death must answer me these questions three, ere the other side he see.\n",
            "ask me the questions, bridgekeeper. i am not afraid.\n",
            "what... is your name?\n",
            "my name is 'sir lancelot of camelot'.\n",
            "what... is your quest?\n",
            "to seek the holy grail.\n",
            "what... is your favorite color?\n",
            "blue.\n",
            "right. off you go.\n",
            "oh, thank you. thank you very much.\n",
            "that's easy!\n",
            "stop! who approacheth the bridge of death must answer me these questions three, ere the other side he see.\n",
            "ask me the questions, bridgekeeper. i'm not afraid.\n",
            "what... is your name?\n",
            "'sir robin of camelot'.\n",
            "what... is your quest?\n",
            "to seek the holy grail.\n",
            "what... is the capital of assyria?\n",
            "i don't know that! auuuuuuuugh!\n",
            "stop! what... is your name?\n",
            "'sir galahad of camelot'.\n",
            "what... is your quest?\n",
            "i seek the grail.\n",
            "what... is your favorite color?\n",
            "blue. no, yel-- auuuuuuuugh!\n",
            "hee hee heh. stop! what... is your name?\n",
            "it is 'arthur', king of the britons.\n",
            "what... is your quest?\n",
            "to seek the holy grail.\n",
            "what... is the air-speed velocity of an unladen swallow?\n",
            "what do you mean? an african or european swallow?\n",
            "huh? i-- i don't know that. auuuuuuuugh!\n",
            "how do know so much about swallows?\n",
            "well, you have to know these things when you're a king, you know.\n"
          ]
        }
      ],
      "source": [
        "# execute this cell to view your result\n",
        "for line in string:\n",
        "    print(line)"
      ]
    }
  ],
  "metadata": {
    "colab": {
      "provenance": []
    },
    "kernelspec": {
      "display_name": "Python 3",
      "name": "python3"
    },
    "language_info": {
      "codemirror_mode": {
        "name": "ipython",
        "version": 3
      },
      "file_extension": ".py",
      "mimetype": "text/x-python",
      "name": "python",
      "nbconvert_exporter": "python",
      "pygments_lexer": "ipython3",
      "version": "3.11.8"
    }
  },
  "nbformat": 4,
  "nbformat_minor": 0
}
