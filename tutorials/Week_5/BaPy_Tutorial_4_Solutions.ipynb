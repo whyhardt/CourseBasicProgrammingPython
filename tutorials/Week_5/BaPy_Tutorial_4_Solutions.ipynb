{
  "cells": [
    {
      "attachments": {},
      "cell_type": "markdown",
      "metadata": {
        "id": "ty5oWp949sY8"
      },
      "source": [
        "# **Basic Programming in Python**\n",
        "\n",
        "## Summer Semester 2023\n",
        "\n",
        "### Tutorial - 16.05.2023"
      ]
    },
    {
      "attachments": {},
      "cell_type": "markdown",
      "metadata": {
        "id": "56h7oFh7-fGS"
      },
      "source": [
        "## **1. Functions**\n",
        "\n",
        "We have been using Python's built-in functions so far, such as type conversion functions and math functions. However, we can also define our own functions."
      ]
    },
    {
      "cell_type": "code",
      "execution_count": null,
      "metadata": {
        "id": "nxoPpwzJCTnl"
      },
      "outputs": [],
      "source": [
        "def greet(name): # \"def\" is a keyword that indicates that it is a function.\n",
        "  print(f\"Hello {name}!\")\n",
        "\n",
        "greet(\"Melisa\") # Calling the function by its defined name and passing an argument."
      ]
    },
    {
      "attachments": {},
      "cell_type": "markdown",
      "metadata": {
        "id": "Kh7dDMP5x3em"
      },
      "source": [
        "**Function arguments:**\n",
        "\n",
        "Function arguments are values that are passed into a function when it is called. These values are used by the function to perform its task. For example, if you wanted to write a function that adds two numbers together, you would need to pass in two numbers as arguments. \n",
        "To pass arguments to a function, you need to define the function with parameters that correspond to the arguments you want to pass in. \n",
        "\n",
        "**Return values:**\n",
        "\n",
        "Return values are the values that a function returns after it has completed its task. To return a value from a function, you use the ***return*** statement. \n"
      ]
    },
    {
      "attachments": {},
      "cell_type": "markdown",
      "metadata": {
        "id": "5j4asMuNETun"
      },
      "source": [
        "**1.1** Let's define a function that takes two numbers as parameters and returns their sum."
      ]
    },
    {
      "cell_type": "code",
      "execution_count": null,
      "metadata": {
        "id": "pi7l9CJoECSe"
      },
      "outputs": [],
      "source": [
        "def sum_numbers(a, b):\n",
        "  return a + b\n",
        "\n",
        "sum_numbers(2, 5)"
      ]
    },
    {
      "attachments": {},
      "cell_type": "markdown",
      "metadata": {
        "id": "8660VtyTEyM7"
      },
      "source": [
        "**1,2** Write a function called **is_even** which takes a number and returns **True** if the number is **even**, and **False** otherwise."
      ]
    },
    {
      "cell_type": "code",
      "execution_count": null,
      "metadata": {
        "id": "X4PBw4vMFQ_h"
      },
      "outputs": [],
      "source": [
        "def is_even(num):\n",
        "  if num % 2 == 0:\n",
        "    return True\n",
        "  else:\n",
        "    return False\n",
        "\n",
        "is_even(2)"
      ]
    },
    {
      "attachments": {},
      "cell_type": "markdown",
      "metadata": {
        "id": "V1X8PODLIVmU"
      },
      "source": [
        "**1.3** Define a function that takes a list of numbers as input and returns the avarage of those numbers."
      ]
    },
    {
      "cell_type": "code",
      "execution_count": null,
      "metadata": {
        "id": "xmh5ZGGPIi56"
      },
      "outputs": [],
      "source": [
        "def calculate_average(numbers):\n",
        "  total = sum(numbers)\n",
        "  average = total / len(numbers)\n",
        "  return average\n",
        "\n",
        "average = calculate_average([10, 12, 14, 16, 18, 20])\n",
        "print(average)"
      ]
    },
    {
      "attachments": {},
      "cell_type": "markdown",
      "metadata": {
        "id": "DDGtWCNIKtCC"
      },
      "source": [
        "**What is the difference between calling a function directly and assigning the function into a variable first, and then printing the variable itself?**\n",
        "\n",
        "- When a function is called directly, it is executed immediately and the values are not stored for future use. On the other hand, assigning a function to a variable allows the function to be called later using the variable as a reference."
      ]
    },
    {
      "attachments": {},
      "cell_type": "markdown",
      "metadata": {
        "id": "rjK02YTQMEJY"
      },
      "source": [
        "### **2. Variable Scope**\n",
        "\n",
        "The lifetime of a variable refers to the period of time during which the variable exists in memory. Variable scope refers to the visibility and accessibility of variables in different parts of a program. \n",
        "\n",
        " **Note:** Understanding variable scope is important for writing efficient and bug-free code, as it helps prevent unintended side effects and allows for better organization and management of variables within a program."
      ]
    },
    {
      "attachments": {},
      "cell_type": "markdown",
      "metadata": {
        "id": "CZ59MYlMNRwm"
      },
      "source": [
        "#### **Local Scope**\n",
        "\n",
        "When variables are declared inside a function, they will have a local scope and can only be accessed within that function.\n",
        "\n",
        "**2.1** What happens whe you try to access message variable outside greet() function?"
      ]
    },
    {
      "cell_type": "code",
      "execution_count": null,
      "metadata": {
        "id": "D2TD9S1aNxso"
      },
      "outputs": [],
      "source": [
        "def greet():\n",
        "\n",
        "    # Local variable\n",
        "    message = 'Hello'\n",
        "    \n",
        "    print('Local', message)\n",
        "\n",
        "greet()\n",
        "\n",
        "print(message)"
      ]
    },
    {
      "attachments": {},
      "cell_type": "markdown",
      "metadata": {
        "id": "0-Jy-ftaO-u-"
      },
      "source": [
        "#### **Global Scope**\n",
        "\n",
        "A global variable is one that is defined outside of any function and can be accessed from anywhere in the program.  "
      ]
    },
    {
      "attachments": {},
      "cell_type": "markdown",
      "metadata": {
        "id": "ftgiyaBmPIv6"
      },
      "source": [
        "**2.2** What happens when you define both a local and global variable with the same?\n",
        "\n",
        "Write a program that demonstrates the variable scope by defining a local variable with the same name as a global variable."
      ]
    },
    {
      "cell_type": "code",
      "execution_count": null,
      "metadata": {
        "id": "ZVkopzBfOwIt"
      },
      "outputs": [],
      "source": [
        " x = 10\n",
        "\n",
        " def print_variable():\n",
        "  x = 20\n",
        "  print(\"The local variable x: \", x)\n",
        "  \n",
        "print_variable()\n",
        "print(\"The global variable x: \", x)"
      ]
    },
    {
      "attachments": {},
      "cell_type": "markdown",
      "metadata": {
        "id": "aWEhL2oF30nQ"
      },
      "source": [
        "**2.3** What is the output of this code?"
      ]
    },
    {
      "cell_type": "code",
      "execution_count": null,
      "metadata": {
        "id": "iiNV6Ghb379I"
      },
      "outputs": [],
      "source": [
        "def my_func():\n",
        "    x = 10\n",
        "    def inner_func():\n",
        "        nonlocal x\n",
        "        x = 5\n",
        "    inner_func()\n",
        "    print(\"Inside function, x =\", x)\n",
        "\n",
        "x = 20\n",
        "my_func()\n",
        "print(\"Outside function, x =\", x)"
      ]
    },
    {
      "attachments": {},
      "cell_type": "markdown",
      "metadata": {
        "id": "zt55SSBJ3_Wv"
      },
      "source": [
        "**Note 1:** In this example, we have a variable x defined outside the function, another variable x defined inside the function, and an inner function inner_func that modifies the value of x. By using the **nonlocal** keyword inside inner_func, we can access the variable x defined in my_func and modify its value."
      ]
    },
    {
      "attachments": {},
      "cell_type": "markdown",
      "metadata": {
        "id": "LH2qWxxW4byH"
      },
      "source": [
        "**Note 2:** To define a global variable inside a function, you can use the **global** keyword followed by the name of the variable. This tells Python to use the global variable with that name, rather than creating a new local variable with the same name.\n",
        "\n",
        "**Note 3:** If we did not use the global keyword inside my_function, the x variable would be treated as a local variable, and would not affect the value of the global x variable outside of the function."
      ]
    },
    {
      "cell_type": "code",
      "execution_count": null,
      "metadata": {
        "id": "aNMXxpKF4qnt"
      },
      "outputs": [],
      "source": [
        "x = 10\n",
        "\n",
        "def my_function():\n",
        "    global x\n",
        "    x = 20\n",
        "    print(\"Inside the function, x is:\", x)\n",
        "\n",
        "my_function()\n",
        "print(\"Outside the function, x is:\", x)\n"
      ]
    },
    {
      "attachments": {},
      "cell_type": "markdown",
      "metadata": {
        "id": "5b_2rJqvsXNk"
      },
      "source": [
        "###**3. Recursion**\n",
        "\n",
        "It is legal for one function to call another; it is also legal for a function to call itself. It may not be obvious why that is a good thing, but it turns out to be one of the most magical things a program can do. A function that calls itself is recursive; the process is called recursion. Recursion is a programming technique that involves a function calling itself within its own definition. Recursive functions can be used to solve problems that involve repeated sub-tasks or sub-problems, such as traversing a tree or searching for a path in a graph."
      ]
    },
    {
      "cell_type": "code",
      "execution_count": null,
      "metadata": {
        "id": "W5p-9PFIuEC9"
      },
      "outputs": [],
      "source": [
        "def countdown(n):\n",
        "  if n <= 0:\n",
        "    print ('Stop!')\n",
        "  else:\n",
        "    print(n)\n",
        "    countdown(n-1)\n",
        "\n",
        "countdown(3)"
      ]
    },
    {
      "attachments": {},
      "cell_type": "markdown",
      "metadata": {
        "id": "kZiYwHIo2rCZ"
      },
      "source": [
        "**3.1** Implement a recursive function to calculate the sum of digits of a given number."
      ]
    },
    {
      "cell_type": "code",
      "execution_count": null,
      "metadata": {
        "id": "mj0GJ2Ke2vr0"
      },
      "outputs": [],
      "source": [
        "def sum_of_digits(n):\n",
        "    if n < 10:\n",
        "        return n\n",
        "    else:\n",
        "        return (n % 10) + sum_of_digits(n // 10)\n",
        "\n",
        "print(sum_of_digits(12345))"
      ]
    }
  ],
  "metadata": {
    "colab": {
      "provenance": []
    },
    "kernelspec": {
      "display_name": "Python 3",
      "name": "python3"
    },
    "language_info": {
      "name": "python"
    }
  },
  "nbformat": 4,
  "nbformat_minor": 0
}
